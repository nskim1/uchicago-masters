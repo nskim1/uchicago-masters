{
 "cells": [
  {
   "cell_type": "markdown",
   "id": "e8fd9677-47fa-428a-82f7-3bcc4ff38b1b",
   "metadata": {},
   "source": [
    "# Assignment 4\n",
    "##### Natalie Kim\n",
    "\n",
    "## Question-1)\n",
    "In this question, we will examine count data regression models on the ER_visit_lnm.csv.  Your model will predict the likelihood of Emergency Room visits within one year. Each sub-question is 20 points."
   ]
  },
  {
   "cell_type": "code",
   "execution_count": 1,
   "id": "7a9a3867-4983-4bc2-a54d-84b80d906d9b",
   "metadata": {},
   "outputs": [],
   "source": [
    "# Libraries\n",
    "import seaborn as sns\n",
    "import matplotlib.pyplot as plt\n",
    "import pandas as pd\n",
    "import math\n",
    "import numpy as np"
   ]
  },
  {
   "cell_type": "code",
   "execution_count": 2,
   "id": "35ae5549-ab6a-4142-9967-d590021e15d1",
   "metadata": {},
   "outputs": [],
   "source": [
    "# Read csv file\n",
    "ER = pd.read_csv('/Users/xnxk040/Library/CloudStorage/OneDrive-W.WGrainger,inc/Desktop/linear-nonlinear data/ER_visit.csv')"
   ]
  },
  {
   "cell_type": "code",
   "execution_count": 3,
   "id": "795eefa9-7da9-4aa7-9a19-38b7bddf9506",
   "metadata": {},
   "outputs": [
    {
     "data": {
      "text/html": [
       "<div>\n",
       "<style scoped>\n",
       "    .dataframe tbody tr th:only-of-type {\n",
       "        vertical-align: middle;\n",
       "    }\n",
       "\n",
       "    .dataframe tbody tr th {\n",
       "        vertical-align: top;\n",
       "    }\n",
       "\n",
       "    .dataframe thead th {\n",
       "        text-align: right;\n",
       "    }\n",
       "</style>\n",
       "<table border=\"1\" class=\"dataframe\">\n",
       "  <thead>\n",
       "    <tr style=\"text-align: right;\">\n",
       "      <th></th>\n",
       "      <th>car</th>\n",
       "      <th>outdoor_activity</th>\n",
       "      <th>chronic_disease</th>\n",
       "      <th>household_history</th>\n",
       "      <th>gym</th>\n",
       "      <th>ER_visit</th>\n",
       "    </tr>\n",
       "  </thead>\n",
       "  <tbody>\n",
       "    <tr>\n",
       "      <th>0</th>\n",
       "      <td>1</td>\n",
       "      <td>0.0</td>\n",
       "      <td>0.0</td>\n",
       "      <td>1</td>\n",
       "      <td>0</td>\n",
       "      <td>0</td>\n",
       "    </tr>\n",
       "    <tr>\n",
       "      <th>1</th>\n",
       "      <td>0</td>\n",
       "      <td>1.0</td>\n",
       "      <td>1.0</td>\n",
       "      <td>1</td>\n",
       "      <td>0</td>\n",
       "      <td>0</td>\n",
       "    </tr>\n",
       "    <tr>\n",
       "      <th>2</th>\n",
       "      <td>0</td>\n",
       "      <td>1.0</td>\n",
       "      <td>0.0</td>\n",
       "      <td>1</td>\n",
       "      <td>0</td>\n",
       "      <td>0</td>\n",
       "    </tr>\n",
       "    <tr>\n",
       "      <th>3</th>\n",
       "      <td>0</td>\n",
       "      <td>1.0</td>\n",
       "      <td>1.0</td>\n",
       "      <td>2</td>\n",
       "      <td>1</td>\n",
       "      <td>0</td>\n",
       "    </tr>\n",
       "    <tr>\n",
       "      <th>4</th>\n",
       "      <td>0</td>\n",
       "      <td>1.0</td>\n",
       "      <td>0.0</td>\n",
       "      <td>1</td>\n",
       "      <td>0</td>\n",
       "      <td>1</td>\n",
       "    </tr>\n",
       "  </tbody>\n",
       "</table>\n",
       "</div>"
      ],
      "text/plain": [
       "   car  outdoor_activity  chronic_disease  household_history  gym  ER_visit\n",
       "0    1               0.0              0.0                  1    0         0\n",
       "1    0               1.0              1.0                  1    0         0\n",
       "2    0               1.0              0.0                  1    0         0\n",
       "3    0               1.0              1.0                  2    1         0\n",
       "4    0               1.0              0.0                  1    0         1"
      ]
     },
     "execution_count": 3,
     "metadata": {},
     "output_type": "execute_result"
    }
   ],
   "source": [
    "ER.head()"
   ]
  },
  {
   "cell_type": "markdown",
   "id": "e05317fd-112e-4e87-839f-f2ea9a2614b5",
   "metadata": {},
   "source": [
    "#### a)\tPlot the ER_visit frequency.\n",
    "hint: you can use Seaborn displot"
   ]
  },
  {
   "cell_type": "code",
   "execution_count": 4,
   "id": "be9bfc59-8a79-46fd-801b-d145b821e27d",
   "metadata": {},
   "outputs": [
    {
     "name": "stderr",
     "output_type": "stream",
     "text": [
      "/Users/xnxk040/opt/anaconda3/lib/python3.9/site-packages/seaborn/distributions.py:2619: FutureWarning: `distplot` is a deprecated function and will be removed in a future version. Please adapt your code to use either `displot` (a figure-level function with similar flexibility) or `histplot` (an axes-level function for histograms).\n",
      "  warnings.warn(msg, FutureWarning)\n"
     ]
    },
    {
     "data": {
      "image/png": "[encoded data removed]",
      "text/plain": [
       "<Figure size 640x480 with 1 Axes>"
      ]
     },
     "metadata": {},
     "output_type": "display_data"
    }
   ],
   "source": [
    "sns.distplot(ER['ER_visit'])\n",
    "\n",
    "# Display the plot\n",
    "plt.show()"
   ]
  },
  {
   "cell_type": "markdown",
   "id": "cae6f342-6540-455d-8d4f-d4b0d1b725f5",
   "metadata": {},
   "source": [
    "#### b)\tRun the Poisson regression on all the variables and interpret the results.\n"
   ]
  },
  {
   "cell_type": "code",
   "execution_count": 5,
   "id": "6df720a7-ebcd-4350-aba1-99519ba708b4",
   "metadata": {},
   "outputs": [
    {
     "name": "stdout",
     "output_type": "stream",
     "text": [
      "                 Generalized Linear Model Regression Results                  \n",
      "==============================================================================\n",
      "Dep. Variable:               ER_visit   No. Observations:                  402\n",
      "Model:                            GLM   Df Residuals:                      396\n",
      "Model Family:                 Poisson   Df Model:                            5\n",
      "Link Function:                    Log   Scale:                          1.0000\n",
      "Method:                          IRLS   Log-Likelihood:                -1260.0\n",
      "Date:                Wed, 14 Feb 2024   Deviance:                       1870.0\n",
      "Time:                        18:41:20   Pearson chi2:                 2.50e+03\n",
      "No. Iterations:                     6   Pseudo R-squ. (CS):             0.8185\n",
      "Covariance Type:            nonrobust                                         \n",
      "=====================================================================================\n",
      "                        coef    std err          z      P>|z|      [0.025      0.975]\n",
      "-------------------------------------------------------------------------------------\n",
      "Intercept            -1.0747      0.126     -8.511      0.000      -1.322      -0.827\n",
      "car                   0.3466      0.067      5.147      0.000       0.215       0.479\n",
      "outdoor_activity      0.5464      0.067      8.171      0.000       0.415       0.677\n",
      "chronic_disease       0.0131      0.007      1.995      0.046       0.000       0.026\n",
      "household_history     0.6732      0.033     20.431      0.000       0.609       0.738\n",
      "gym                  -0.6867      0.038    -17.858      0.000      -0.762      -0.611\n",
      "=====================================================================================\n"
     ]
    }
   ],
   "source": [
    "import statsmodels.api as sm\n",
    "from statsmodels.formula.api import glm\n",
    "\n",
    "# Formula\n",
    "formula = 'ER_visit ~ car + outdoor_activity + chronic_disease + household_history + gym'\n",
    "\n",
    "# Fit Poisson Regression for all variables\n",
    "model1 = glm(formula, data = ER, family = sm.families.Poisson()).fit()\n",
    "\n",
    "\n",
    "print(model1.summary())"
   ]
  },
  {
   "cell_type": "code",
   "execution_count": 6,
   "id": "69cbb0e8-8013-48d5-8abc-5ef82ce0bbcb",
   "metadata": {},
   "outputs": [
    {
     "name": "stdout",
     "output_type": "stream",
     "text": [
      "1.4142509118505286\n",
      "1.7270245250169742\n",
      "1.0131861809121383\n",
      "1.9605008964383412\n",
      "0.5032340041823395\n"
     ]
    }
   ],
   "source": [
    "# Exponentiate Parameter Values\n",
    "print(np.exp(0.3466)) # car\n",
    "print(np.exp(0.5464)) # outdoor_activity\n",
    "print(np.exp(0.0131)) # chronic_disease\n",
    "print(np.exp(0.6732)) # household_history\n",
    "print(np.exp(-0.6867)) # gym"
   ]
  },
  {
   "cell_type": "markdown",
   "id": "f703accb-225f-4427-8672-764f63d07f3e",
   "metadata": {},
   "source": [
    "##### Interpretation\n",
    "\n",
    "First we take exponentiate all of the parameter values to obtain the resonse function in terms of lambda. Then, for each of the parameters we interpet the following:\n",
    "\n",
    "- The 'car' parameter is greater than 0 at 0.3466. After exponentiating it, we can conclude that for a 1-unit increase of the predictor 'car', the mean response of ER visits will be multiplied by 1.414, or in other words, increase by approximately 41%.\n",
    "- The 'outdoor_activity' parameter is greater than 0 at 0.5464. After exponentiating it, we can conclude that for a 1-unit increase of the predictor 'outdoor_activity', the mean response of ER visits will be multiplied by 1.727, or in other words, increase by approximately 73%.\n",
    "- The 'chronic_disease' parameter is greater than 0 at 0.0131. After exponentiating it, we can conclude that for a 1-unit increase of the predictor 'chronic_disease', the mean response of ER visits will be multiplied by 1.013, or in other words, increase by approximately 1.3%.\n",
    "- The 'household_history' parameter is greater than 0 at 0.6732. After exponentiating it, we can conclude that for a 1-unit increase of the predictor 'household_history', the mean response of ER visits will be multiplied by 1.961, or in other words, increase by approximately 96%.\n",
    "- The 'gym' parameter is less than 0 at -0.6867. After exponentiating it, we can conclude that for a 1-unit increase of the predictor 'gym', the mean response of ER visits will be divided by 0.503, or in other words, decrease by approximately 50%."
   ]
  },
  {
   "cell_type": "markdown",
   "id": "f6fc619e-4733-4ff9-9344-27e196c0fbdf",
   "metadata": {},
   "source": [
    "#### c)\tRun the Negative Binomial regression. What kind of differences you observe in comparison with Poisson regression? Discuss/compare overdispersion in the models."
   ]
  },
  {
   "cell_type": "code",
   "execution_count": 7,
   "id": "26854751-f087-4ae2-9e7d-306e89f8023a",
   "metadata": {},
   "outputs": [
    {
     "name": "stdout",
     "output_type": "stream",
     "text": [
      "                 Generalized Linear Model Regression Results                  \n",
      "==============================================================================\n",
      "Dep. Variable:               ER_visit   No. Observations:                  402\n",
      "Model:                            GLM   Df Residuals:                      396\n",
      "Model Family:        NegativeBinomial   Df Model:                            5\n",
      "Link Function:                    Log   Scale:                          1.0000\n",
      "Method:                          IRLS   Log-Likelihood:                -772.66\n",
      "Date:                Wed, 14 Feb 2024   Deviance:                       548.08\n",
      "Time:                        18:41:20   Pearson chi2:                     788.\n",
      "No. Iterations:                    20   Pseudo R-squ. (CS):             0.4108\n",
      "Covariance Type:            nonrobust                                         \n",
      "=====================================================================================\n",
      "                        coef    std err          z      P>|z|      [0.025      0.975]\n",
      "-------------------------------------------------------------------------------------\n",
      "Intercept            -2.0525      0.258     -7.970      0.000      -2.557      -1.548\n",
      "car                   0.8825      0.142      6.214      0.000       0.604       1.161\n",
      "outdoor_activity      1.2228      0.167      7.340      0.000       0.896       1.549\n",
      "chronic_disease      -0.0044      0.014     -0.311      0.756      -0.032       0.023\n",
      "household_history     0.7207      0.071     10.186      0.000       0.582       0.859\n",
      "gym                  -0.8966      0.083    -10.759      0.000      -1.060      -0.733\n",
      "=====================================================================================\n"
     ]
    }
   ],
   "source": [
    "import statsmodels.api as sm\n",
    "import statsmodels.formula.api as smf\n",
    "\n",
    "# Fit Negative Binomial Regression for all variables\n",
    "model2 = smf.glm(formula = formula, data = ER,family = sm.families.NegativeBinomial()).fit()\n",
    "\n",
    "print(model2.summary())"
   ]
  },
  {
   "cell_type": "markdown",
   "id": "9148a4d2-2ed7-4182-ab80-7c436920b97d",
   "metadata": {},
   "source": [
    "##### Overdispersion between Poisson and Negative Binomial visits"
   ]
  },
  {
   "cell_type": "code",
   "execution_count": 8,
   "id": "b1e409a4-2d2d-496f-ac6c-9c749a8a060b",
   "metadata": {},
   "outputs": [
    {
     "name": "stdout",
     "output_type": "stream",
     "text": [
      "6.315505697679716\n",
      "1.9907083271121784\n"
     ]
    }
   ],
   "source": [
    "# Poisson Overdispersion\n",
    "dispersion_ratio1= model1.pearson_chi2/model1.df_resid\n",
    "print(dispersion_ratio1)\n",
    "\n",
    "# Negative Binomial Overdispersion\n",
    "dispersion_ratio2= model2.pearson_chi2/model2.df_resid\n",
    "print(dispersion_ratio2)"
   ]
  },
  {
   "cell_type": "markdown",
   "id": "b9386b6e-51de-4588-b682-fc125d2486a3",
   "metadata": {},
   "source": [
    "##### Interpretation\n",
    "Between the two models, we see that the sign flips for chronic_disease, indicating that the number of ER visits would now decrease for every unit increae of a chronic_disease. However the confidence interval of the predictor still contains positive values.\n",
    "\n",
    "The confidence intervals of the positive predictors are at higher values. For example, in the Poisson distribution, the 95% CI for the 'car' predictor is (0.215, 0.479), where both values are less than one. But for the negative binomial distribution, the CI is now (0.604, 1.161).\n",
    "\n",
    "Both models indicate overdispersion based on their respective Pearson statistics. However, they indicate the degree of overdispersion on different levels. The Poisson model indicates more overdispersion since the value is **not** close 1 and additionally that the data is not drawn from a Poisson distirbution at 6.312. The negative binomial distribution on the other hand has a dispersion ration of approximately 2. Compared to the Poisson model's ratio, the data is more likely to be assumed to be drawn from the Poisson distirbution. However given that it is still greater than 1, it is still implied that there is overdispersion."
   ]
  },
  {
   "cell_type": "markdown",
   "id": "e1e915e5-fb96-4908-8460-bd859002f85f",
   "metadata": {},
   "source": [
    "#### d)\tCount the number of zero occurrences. Should we suspect from zero-inflation?"
   ]
  },
  {
   "cell_type": "code",
   "execution_count": 10,
   "id": "43b913b8-c251-4905-ae77-6c31a4cd7499",
   "metadata": {},
   "outputs": [
    {
     "name": "stdout",
     "output_type": "stream",
     "text": [
      "Expected zero counts given mean of  2.789 is  6.2\n",
      "Zero counts in the sample:  48.5\n"
     ]
    }
   ],
   "source": [
    "# Expected number of zero counts\n",
    "mean_visits = np.mean(ER.ER_visit)\n",
    "exp_zero_cnt = ((mean_visits**0)*np.exp(-mean_visits))/math.factorial(0)\n",
    "\n",
    "# Print exp_zero_counts\n",
    "print('Expected zero counts given mean of ', round(mean_visits,3), \n",
    "      'is ', round(exp_zero_cnt,3)*100)\n",
    "\n",
    "# Number of zero counts in sat variable\n",
    "actual_zero_ant = sum(ER['ER_visit'] == 0)\n",
    "\n",
    "# Number of observations in crab dataset\n",
    "num_obs = len(ER)\n",
    "\n",
    "# Print the percentage of zero count observations in the sample\n",
    "print('Zero counts in the sample: ', round(actual_zero_ant / num_obs,3)*100)"
   ]
  },
  {
   "cell_type": "markdown",
   "id": "d034d089-79d6-4dfd-9bb6-aaa7b90d9826",
   "metadata": {},
   "source": [
    "Given that is our expected zero count is 6.2, but our actual is 48.5, we can confirm that there is in fact overdispersion in the sample using zero count method."
   ]
  },
  {
   "cell_type": "markdown",
   "id": "06a42f5f-645a-471c-bafe-b23b3b50336c",
   "metadata": {},
   "source": [
    "#### e)\tConduct a train test split with 80/20 ratio. Train zero inflated poisson regression and report RMSE. Finally visualize the actual vs predicted values on the test set.\n",
    "(Hint: you can use https://www.statsmodels.org/stable/generated/statsmodels.discrete.count_model.ZeroInflatedPoisson.html#statsmodels.discrete.count_model.ZeroInflatedPoisson)"
   ]
  },
  {
   "cell_type": "code",
   "execution_count": 11,
   "id": "a3e96c0f-cf68-4c49-9b26-164aab18bc7e",
   "metadata": {},
   "outputs": [],
   "source": [
    "from sklearn.model_selection import train_test_split\n",
    "\n",
    "# Defining the features and target variable\n",
    "predictors = ER.drop('ER_visit', axis=1)\n",
    "response = ER['ER_visit']\n",
    "\n",
    "# Splitting the data into training and testing sets with an 80/20 ratio\n",
    "X_train, X_test, y_train, y_test = train_test_split(predictors, response, test_size=0.2, random_state=42)"
   ]
  },
  {
   "cell_type": "code",
   "execution_count": 13,
   "id": "b8d50357-2f8c-4675-a7d6-7ddd27a8f76d",
   "metadata": {},
   "outputs": [
    {
     "name": "stdout",
     "output_type": "stream",
     "text": [
      "Optimization terminated successfully.\n",
      "         Current function value: 2.579903\n",
      "         Iterations: 21\n",
      "         Function evaluations: 25\n",
      "         Gradient evaluations: 25\n"
     ]
    },
    {
     "name": "stderr",
     "output_type": "stream",
     "text": [
      "/Users/xnxk040/opt/anaconda3/lib/python3.9/site-packages/statsmodels/base/model.py:604: ConvergenceWarning: Maximum Likelihood optimization failed to converge. Check mle_retvals\n",
      "  warnings.warn(\"Maximum Likelihood optimization failed to \"\n"
     ]
    },
    {
     "data": {
      "text/html": [
       "<table class=\"simpletable\">\n",
       "<caption>ZeroInflatedPoisson Regression Results</caption>\n",
       "<tr>\n",
       "  <th>Dep. Variable:</th>        <td>ER_visit</td>       <th>  No. Observations:  </th>  <td>   321</td>  \n",
       "</tr>\n",
       "<tr>\n",
       "  <th>Model:</th>           <td>ZeroInflatedPoisson</td> <th>  Df Residuals:      </th>  <td>   315</td>  \n",
       "</tr>\n",
       "<tr>\n",
       "  <th>Method:</th>                  <td>MLE</td>         <th>  Df Model:          </th>  <td>     5</td>  \n",
       "</tr>\n",
       "<tr>\n",
       "  <th>Date:</th>             <td>Wed, 14 Feb 2024</td>   <th>  Pseudo R-squ.:     </th>  <td>0.1674</td>  \n",
       "</tr>\n",
       "<tr>\n",
       "  <th>Time:</th>                 <td>18:44:21</td>       <th>  Log-Likelihood:    </th> <td> -828.15</td> \n",
       "</tr>\n",
       "<tr>\n",
       "  <th>converged:</th>              <td>True</td>         <th>  LL-Null:           </th> <td> -994.67</td> \n",
       "</tr>\n",
       "<tr>\n",
       "  <th>Covariance Type:</th>      <td>nonrobust</td>      <th>  LLR p-value:       </th> <td>7.789e-70</td>\n",
       "</tr>\n",
       "</table>\n",
       "<table class=\"simpletable\">\n",
       "<tr>\n",
       "          <td></td>             <th>coef</th>     <th>std err</th>      <th>z</th>      <th>P>|z|</th>  <th>[0.025</th>    <th>0.975]</th>  \n",
       "</tr>\n",
       "<tr>\n",
       "  <th>inflate_const</th>     <td>   -0.2832</td> <td>    0.118</td> <td>   -2.404</td> <td> 0.016</td> <td>   -0.514</td> <td>   -0.052</td>\n",
       "</tr>\n",
       "<tr>\n",
       "  <th>const</th>             <td>    0.4310</td> <td>    0.167</td> <td>    2.584</td> <td> 0.010</td> <td>    0.104</td> <td>    0.758</td>\n",
       "</tr>\n",
       "<tr>\n",
       "  <th>car</th>               <td>   -0.8564</td> <td>    0.137</td> <td>   -6.233</td> <td> 0.000</td> <td>   -1.126</td> <td>   -0.587</td>\n",
       "</tr>\n",
       "<tr>\n",
       "  <th>outdoor_activity</th>  <td>    0.1618</td> <td>    0.098</td> <td>    1.654</td> <td> 0.098</td> <td>   -0.030</td> <td>    0.354</td>\n",
       "</tr>\n",
       "<tr>\n",
       "  <th>chronic_disease</th>   <td>    0.0445</td> <td>    0.011</td> <td>    3.914</td> <td> 0.000</td> <td>    0.022</td> <td>    0.067</td>\n",
       "</tr>\n",
       "<tr>\n",
       "  <th>household_history</th> <td>    0.5157</td> <td>    0.039</td> <td>   13.301</td> <td> 0.000</td> <td>    0.440</td> <td>    0.592</td>\n",
       "</tr>\n",
       "<tr>\n",
       "  <th>gym</th>               <td>   -0.3942</td> <td>    0.050</td> <td>   -7.945</td> <td> 0.000</td> <td>   -0.491</td> <td>   -0.297</td>\n",
       "</tr>\n",
       "</table>"
      ],
      "text/plain": [
       "<class 'statsmodels.iolib.summary.Summary'>\n",
       "\"\"\"\n",
       "                     ZeroInflatedPoisson Regression Results                    \n",
       "===============================================================================\n",
       "Dep. Variable:                ER_visit   No. Observations:                  321\n",
       "Model:             ZeroInflatedPoisson   Df Residuals:                      315\n",
       "Method:                            MLE   Df Model:                            5\n",
       "Date:                 Wed, 14 Feb 2024   Pseudo R-squ.:                  0.1674\n",
       "Time:                         18:44:21   Log-Likelihood:                -828.15\n",
       "converged:                        True   LL-Null:                       -994.67\n",
       "Covariance Type:             nonrobust   LLR p-value:                 7.789e-70\n",
       "=====================================================================================\n",
       "                        coef    std err          z      P>|z|      [0.025      0.975]\n",
       "-------------------------------------------------------------------------------------\n",
       "inflate_const        -0.2832      0.118     -2.404      0.016      -0.514      -0.052\n",
       "const                 0.4310      0.167      2.584      0.010       0.104       0.758\n",
       "car                  -0.8564      0.137     -6.233      0.000      -1.126      -0.587\n",
       "outdoor_activity      0.1618      0.098      1.654      0.098      -0.030       0.354\n",
       "chronic_disease       0.0445      0.011      3.914      0.000       0.022       0.067\n",
       "household_history     0.5157      0.039     13.301      0.000       0.440       0.592\n",
       "gym                  -0.3942      0.050     -7.945      0.000      -0.491      -0.297\n",
       "=====================================================================================\n",
       "\"\"\""
      ]
     },
     "execution_count": 13,
     "metadata": {},
     "output_type": "execute_result"
    }
   ],
   "source": [
    "# Train zero inflated poisson regression\n",
    "from statsmodels.discrete.count_model import ZeroInflatedPoisson\n",
    "\n",
    "X_train_const = sm.add_constant(X_train)\n",
    "X_test_const = sm.add_constant(X_test)\n",
    "\n",
    "# Fitting the Zero-Inflated Poisson model\n",
    "zip_model = ZeroInflatedPoisson(y_train, X_train_const).fit()\n",
    "\n",
    "# Displaying the summary of the model fit\n",
    "zip_model.summary()"
   ]
  },
  {
   "cell_type": "code",
   "execution_count": 14,
   "id": "9442650e-6228-4617-8ff5-5cad9c177bc8",
   "metadata": {},
   "outputs": [
    {
     "name": "stdout",
     "output_type": "stream",
     "text": [
      "RMSE: \n"
     ]
    },
    {
     "data": {
      "text/plain": [
       "3.094438614753096"
      ]
     },
     "execution_count": 14,
     "metadata": {},
     "output_type": "execute_result"
    }
   ],
   "source": [
    "from sklearn.metrics import mean_squared_error\n",
    "\n",
    "y_pred = zip_model.predict(X_test_const)\n",
    "\n",
    "\n",
    "# Calculate RMSE again\n",
    "rmse = np.sqrt(mean_squared_error(y_test, y_pred))\n",
    "\n",
    "print(\"RMSE: \")\n",
    "rmse"
   ]
  },
  {
   "cell_type": "code",
   "execution_count": 15,
   "id": "24b1c386-8cb5-4d6d-8ec4-383c3aa5bd2c",
   "metadata": {},
   "outputs": [
    {
     "data": {
      "image/png": "[encoded data removed]",
      "text/plain": [
       "<Figure size 1000x600 with 1 Axes>"
      ]
     },
     "metadata": {},
     "output_type": "display_data"
    }
   ],
   "source": [
    "# Visualize the actual vs predicted values on the test set\n",
    "plt.figure(figsize=(10, 6))\n",
    "plt.scatter(y_test, y_pred, alpha=0.5)\n",
    "plt.xlabel('Actual ER visits')\n",
    "plt.ylabel('Predicted ER visits')\n",
    "plt.title('Actual vs Predicted ER visits')\n",
    "plt.show()\n"
   ]
  },
  {
   "cell_type": "code",
   "execution_count": null,
   "id": "6dd7d3ba-aeaf-445c-879e-57ac3dd2ab8c",
   "metadata": {},
   "outputs": [],
   "source": []
  }
 ],
 "metadata": {
  "kernelspec": {
   "display_name": "Python 3 (ipykernel)",
   "language": "python",
   "name": "python3"
  },
  "language_info": {
   "codemirror_mode": {
    "name": "ipython",
    "version": 3
   },
   "file_extension": ".py",
   "mimetype": "text/x-python",
   "name": "python",
   "nbconvert_exporter": "python",
   "pygments_lexer": "ipython3",
   "version": "3.9.13"
  }
 },
 "nbformat": 4,
 "nbformat_minor": 5
}

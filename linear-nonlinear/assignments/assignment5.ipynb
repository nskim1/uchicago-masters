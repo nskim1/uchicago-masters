{
 "cells": [
  {
   "cell_type": "markdown",
   "id": "f803a82a-3cef-48bd-9080-639756a11671",
   "metadata": {},
   "source": [
    "# NLM Assignment 5\n",
    "### Natalie Kim"
   ]
  },
  {
   "cell_type": "code",
   "execution_count": 19,
   "id": "e9f9605b-2840-4570-8aaa-0a065f3ef55b",
   "metadata": {},
   "outputs": [],
   "source": [
    "# Libraries/Packages\n",
    "import pandas as pd\n",
    "import numpy as np\n",
    "import lifelines\n",
    "from lifelines.datasets import load_dd\n",
    "from lifelines import KaplanMeierFitter\n",
    "import matplotlib.pyplot as plt"
   ]
  },
  {
   "cell_type": "code",
   "execution_count": 3,
   "id": "a0036f6b-4af7-4c44-92ca-58d520f70c14",
   "metadata": {},
   "outputs": [],
   "source": [
    "# Read Cancer CSV\n",
    "data = pd.read_csv(r'/Users/xnxk040/Library/CloudStorage/OneDrive-W.WGrainger,inc/Desktop/linear-nonlinear data/cancer.csv')"
   ]
  },
  {
   "cell_type": "markdown",
   "id": "1b20a166-5be1-49eb-953f-5023b3fb4601",
   "metadata": {},
   "source": [
    "#### Cancer data\n",
    "- Survival in patients with advances lung cancer from the North Central Cancer Treatment Group.\n",
    "- Performance scores rate how well the patient can perform usual daily activities\n",
    "\n",
    "##### Columns\n",
    "- `inst`: institution code\n",
    "- `time`: survival time in days\n",
    "- `status`: censoring status; 1 = censored; 2 = dead\n",
    "- `age`: age in years\n",
    "- `sex`: male = 1; female = 2\n",
    "- `ph.ecog`: ecog performance score; 0 = good; 5 = dead\n",
    "- `ph.karno`: karnofsky performance score (0 = bad; 100 = good)\n",
    "- `pat.karno`: karnofsky performance score (0 = bad; 100 = good)\n",
    "- `meal.cal`: calories consumed at meals\n",
    "- `wt.loss`: weight loss in last six months"
   ]
  },
  {
   "cell_type": "code",
   "execution_count": 4,
   "id": "b1379a1d-3e35-4724-a609-5f6a63291a67",
   "metadata": {},
   "outputs": [
    {
     "data": {
      "text/html": [
       "<div>\n",
       "<style scoped>\n",
       "    .dataframe tbody tr th:only-of-type {\n",
       "        vertical-align: middle;\n",
       "    }\n",
       "\n",
       "    .dataframe tbody tr th {\n",
       "        vertical-align: top;\n",
       "    }\n",
       "\n",
       "    .dataframe thead th {\n",
       "        text-align: right;\n",
       "    }\n",
       "</style>\n",
       "<table border=\"1\" class=\"dataframe\">\n",
       "  <thead>\n",
       "    <tr style=\"text-align: right;\">\n",
       "      <th></th>\n",
       "      <th>Unnamed: 0</th>\n",
       "      <th>inst</th>\n",
       "      <th>time</th>\n",
       "      <th>status</th>\n",
       "      <th>age</th>\n",
       "      <th>sex</th>\n",
       "      <th>ph.ecog</th>\n",
       "      <th>ph.karno</th>\n",
       "      <th>pat.karno</th>\n",
       "      <th>meal.cal</th>\n",
       "      <th>wt.loss</th>\n",
       "    </tr>\n",
       "  </thead>\n",
       "  <tbody>\n",
       "    <tr>\n",
       "      <th>0</th>\n",
       "      <td>1</td>\n",
       "      <td>3.0</td>\n",
       "      <td>306</td>\n",
       "      <td>2</td>\n",
       "      <td>74</td>\n",
       "      <td>1</td>\n",
       "      <td>1.0</td>\n",
       "      <td>90.0</td>\n",
       "      <td>100.0</td>\n",
       "      <td>1175.0</td>\n",
       "      <td>NaN</td>\n",
       "    </tr>\n",
       "    <tr>\n",
       "      <th>1</th>\n",
       "      <td>2</td>\n",
       "      <td>3.0</td>\n",
       "      <td>455</td>\n",
       "      <td>2</td>\n",
       "      <td>68</td>\n",
       "      <td>1</td>\n",
       "      <td>0.0</td>\n",
       "      <td>90.0</td>\n",
       "      <td>90.0</td>\n",
       "      <td>1225.0</td>\n",
       "      <td>15.0</td>\n",
       "    </tr>\n",
       "    <tr>\n",
       "      <th>2</th>\n",
       "      <td>3</td>\n",
       "      <td>3.0</td>\n",
       "      <td>1010</td>\n",
       "      <td>1</td>\n",
       "      <td>56</td>\n",
       "      <td>1</td>\n",
       "      <td>0.0</td>\n",
       "      <td>90.0</td>\n",
       "      <td>90.0</td>\n",
       "      <td>NaN</td>\n",
       "      <td>15.0</td>\n",
       "    </tr>\n",
       "    <tr>\n",
       "      <th>3</th>\n",
       "      <td>4</td>\n",
       "      <td>5.0</td>\n",
       "      <td>210</td>\n",
       "      <td>2</td>\n",
       "      <td>57</td>\n",
       "      <td>1</td>\n",
       "      <td>1.0</td>\n",
       "      <td>90.0</td>\n",
       "      <td>60.0</td>\n",
       "      <td>1150.0</td>\n",
       "      <td>11.0</td>\n",
       "    </tr>\n",
       "    <tr>\n",
       "      <th>4</th>\n",
       "      <td>5</td>\n",
       "      <td>1.0</td>\n",
       "      <td>883</td>\n",
       "      <td>2</td>\n",
       "      <td>60</td>\n",
       "      <td>1</td>\n",
       "      <td>0.0</td>\n",
       "      <td>100.0</td>\n",
       "      <td>90.0</td>\n",
       "      <td>NaN</td>\n",
       "      <td>0.0</td>\n",
       "    </tr>\n",
       "  </tbody>\n",
       "</table>\n",
       "</div>"
      ],
      "text/plain": [
       "   Unnamed: 0  inst  time  status  age  sex  ph.ecog  ph.karno  pat.karno  \\\n",
       "0           1   3.0   306       2   74    1      1.0      90.0      100.0   \n",
       "1           2   3.0   455       2   68    1      0.0      90.0       90.0   \n",
       "2           3   3.0  1010       1   56    1      0.0      90.0       90.0   \n",
       "3           4   5.0   210       2   57    1      1.0      90.0       60.0   \n",
       "4           5   1.0   883       2   60    1      0.0     100.0       90.0   \n",
       "\n",
       "   meal.cal  wt.loss  \n",
       "0    1175.0      NaN  \n",
       "1    1225.0     15.0  \n",
       "2       NaN     15.0  \n",
       "3    1150.0     11.0  \n",
       "4       NaN      0.0  "
      ]
     },
     "execution_count": 4,
     "metadata": {},
     "output_type": "execute_result"
    }
   ],
   "source": [
    "data.head()"
   ]
  },
  {
   "cell_type": "markdown",
   "id": "585a7afc-2023-47a3-b077-54afaa0b9994",
   "metadata": {},
   "source": [
    "##### Add new column `dead` that stores data about whether a person that is part of our experiment is dead or alive (based on status value)\n",
    "Alive (1) = 1 (status) ; Dead (0) = 2 (status)"
   ]
  },
  {
   "cell_type": "code",
   "execution_count": 16,
   "id": "a7660526-2df9-47e5-ac52-ae2706a2cbb9",
   "metadata": {},
   "outputs": [],
   "source": [
    "data['dead'] = data['status'].apply(lambda x: 1 if x == 1 else 0)"
   ]
  },
  {
   "cell_type": "code",
   "execution_count": 17,
   "id": "069f6563-2013-43c5-a954-fce664795f52",
   "metadata": {},
   "outputs": [
    {
     "data": {
      "text/html": [
       "<div>\n",
       "<style scoped>\n",
       "    .dataframe tbody tr th:only-of-type {\n",
       "        vertical-align: middle;\n",
       "    }\n",
       "\n",
       "    .dataframe tbody tr th {\n",
       "        vertical-align: top;\n",
       "    }\n",
       "\n",
       "    .dataframe thead th {\n",
       "        text-align: right;\n",
       "    }\n",
       "</style>\n",
       "<table border=\"1\" class=\"dataframe\">\n",
       "  <thead>\n",
       "    <tr style=\"text-align: right;\">\n",
       "      <th></th>\n",
       "      <th>Unnamed: 0</th>\n",
       "      <th>inst</th>\n",
       "      <th>time</th>\n",
       "      <th>status</th>\n",
       "      <th>age</th>\n",
       "      <th>sex</th>\n",
       "      <th>ph.ecog</th>\n",
       "      <th>ph.karno</th>\n",
       "      <th>pat.karno</th>\n",
       "      <th>meal.cal</th>\n",
       "      <th>wt.loss</th>\n",
       "      <th>dead</th>\n",
       "    </tr>\n",
       "  </thead>\n",
       "  <tbody>\n",
       "    <tr>\n",
       "      <th>0</th>\n",
       "      <td>1</td>\n",
       "      <td>3.0</td>\n",
       "      <td>306</td>\n",
       "      <td>2</td>\n",
       "      <td>74</td>\n",
       "      <td>1</td>\n",
       "      <td>1.0</td>\n",
       "      <td>90.0</td>\n",
       "      <td>100.0</td>\n",
       "      <td>1175.0</td>\n",
       "      <td>NaN</td>\n",
       "      <td>0</td>\n",
       "    </tr>\n",
       "  </tbody>\n",
       "</table>\n",
       "</div>"
      ],
      "text/plain": [
       "   Unnamed: 0  inst  time  status  age  sex  ph.ecog  ph.karno  pat.karno  \\\n",
       "0           1   3.0   306       2   74    1      1.0      90.0      100.0   \n",
       "\n",
       "   meal.cal  wt.loss  dead  \n",
       "0    1175.0      NaN     0  "
      ]
     },
     "execution_count": 17,
     "metadata": {},
     "output_type": "execute_result"
    }
   ],
   "source": [
    "data.head(1)"
   ]
  },
  {
   "cell_type": "code",
   "execution_count": 8,
   "id": "ec29039a-3b68-48e5-a9f3-0999f81d29fd",
   "metadata": {},
   "outputs": [
    {
     "name": "stdout",
     "output_type": "stream",
     "text": [
      "63\n"
     ]
    }
   ],
   "source": [
    "# Count censored data\n",
    "cens_count = len(data[data['status'] == 1])\n",
    "print(cens_count)"
   ]
  },
  {
   "cell_type": "markdown",
   "id": "0aa39f44-4e90-4096-9ec9-ee51564f6651",
   "metadata": {},
   "source": [
    "### Part A\n",
    "Fit Kaplan-Meier method on time and dead columns and plot survival function"
   ]
  },
  {
   "cell_type": "code",
   "execution_count": 21,
   "id": "5e6f0d8b-1836-4285-be7b-28a0a42085e0",
   "metadata": {},
   "outputs": [
    {
     "data": {
      "image/png": "[encoded data removed]",
      "text/plain": [
       "<Figure size 640x480 with 1 Axes>"
      ]
     },
     "metadata": {},
     "output_type": "display_data"
    }
   ],
   "source": [
    "kmf = lifelines.KaplanMeierFitter()\n",
    "kmf.fit(data['time'], data['dead'])\n",
    "kmf.plot_survival_function()\n",
    "plt.show()"
   ]
  },
  {
   "cell_type": "markdown",
   "id": "de57e8dc-31d6-4b26-8e83-1204210dc60d",
   "metadata": {},
   "source": [
    "### Part B\n",
    "Print median survival time"
   ]
  },
  {
   "cell_type": "code",
   "execution_count": 22,
   "id": "be3aaff9-f06d-45e3-b747-fe15c0b325c3",
   "metadata": {},
   "outputs": [
    {
     "name": "stdout",
     "output_type": "stream",
     "text": [
      "588.0\n"
     ]
    }
   ],
   "source": [
    "print(kmf.median_survival_time_)"
   ]
  },
  {
   "cell_type": "markdown",
   "id": "62f287a2-66dd-489c-86e4-72f3778c9238",
   "metadata": {},
   "source": [
    "### Part C\n",
    "Print Kaplan-Meier estimates (timeline vs k-m estimate)"
   ]
  },
  {
   "cell_type": "code",
   "execution_count": 24,
   "id": "95506881-da64-4b10-ad9a-ed6dd25bacce",
   "metadata": {},
   "outputs": [
    {
     "name": "stdout",
     "output_type": "stream",
     "text": [
      "          KM_estimate\n",
      "timeline             \n",
      "0.0          1.000000\n",
      "5.0          1.000000\n",
      "11.0         1.000000\n",
      "12.0         1.000000\n",
      "13.0         1.000000\n",
      "15.0         1.000000\n",
      "26.0         1.000000\n",
      "30.0         1.000000\n",
      "31.0         1.000000\n",
      "53.0         1.000000\n",
      "54.0         1.000000\n",
      "59.0         1.000000\n",
      "60.0         1.000000\n",
      "61.0         1.000000\n",
      "62.0         1.000000\n",
      "65.0         1.000000\n",
      "71.0         1.000000\n",
      "79.0         1.000000\n",
      "81.0         1.000000\n",
      "88.0         1.000000\n",
      "92.0         0.995025\n",
      "93.0         0.995025\n",
      "95.0         0.995025\n",
      "105.0        0.989948\n",
      "107.0        0.989948\n",
      "110.0        0.989948\n",
      "116.0        0.989948\n",
      "118.0        0.989948\n",
      "122.0        0.989948\n",
      "131.0        0.989948\n",
      "132.0        0.989948\n",
      "135.0        0.989948\n",
      "142.0        0.989948\n",
      "144.0        0.989948\n",
      "145.0        0.989948\n",
      "147.0        0.989948\n",
      "153.0        0.989948\n",
      "156.0        0.989948\n",
      "163.0        0.989948\n",
      "166.0        0.989948\n",
      "167.0        0.989948\n",
      "170.0        0.989948\n",
      "173.0        0.984091\n",
      "174.0        0.978233\n",
      "175.0        0.972375\n",
      "176.0        0.972375\n",
      "177.0        0.966446\n",
      "179.0        0.966446\n",
      "180.0        0.966446\n",
      "181.0        0.966446\n",
      "182.0        0.966446\n",
      "183.0        0.966446\n",
      "185.0        0.960211\n",
      "186.0        0.960211\n",
      "188.0        0.953935\n",
      "189.0        0.953935\n",
      "191.0        0.947618\n",
      "192.0        0.941300\n",
      "194.0        0.941300\n",
      "196.0        0.934940\n",
      "197.0        0.928580\n",
      "199.0        0.928580\n",
      "201.0        0.928580\n",
      "202.0        0.922041\n",
      "203.0        0.915455\n",
      "207.0        0.915455\n",
      "208.0        0.915455\n",
      "210.0        0.915455\n",
      "211.0        0.908723\n",
      "212.0        0.908723\n",
      "218.0        0.908723\n",
      "221.0        0.901891\n",
      "222.0        0.895058\n",
      "223.0        0.895058\n",
      "224.0        0.888120\n",
      "225.0        0.874243\n",
      "226.0        0.874243\n",
      "229.0        0.874243\n",
      "230.0        0.874243\n",
      "235.0        0.867135\n",
      "237.0        0.860028\n",
      "239.0        0.860028\n",
      "240.0        0.852801\n",
      "243.0        0.845573\n",
      "245.0        0.845573\n",
      "246.0        0.845573\n",
      "252.0        0.838221\n",
      "259.0        0.830868\n",
      "266.0        0.823515\n",
      "267.0        0.823515\n",
      "268.0        0.823515\n",
      "269.0        0.816028\n",
      "270.0        0.816028\n",
      "272.0        0.808402\n",
      "276.0        0.800776\n",
      "279.0        0.793149\n",
      "283.0        0.793149\n",
      "284.0        0.785449\n",
      "285.0        0.785449\n",
      "286.0        0.785449\n",
      "288.0        0.785449\n",
      "291.0        0.785449\n",
      "292.0        0.769085\n",
      "293.0        0.769085\n",
      "296.0        0.760815\n",
      "300.0        0.752546\n",
      "301.0        0.744276\n",
      "303.0        0.735913\n",
      "305.0        0.735913\n",
      "306.0        0.735913\n",
      "310.0        0.735913\n",
      "315.0        0.727047\n",
      "320.0        0.727047\n",
      "329.0        0.727047\n",
      "332.0        0.717959\n",
      "337.0        0.717959\n",
      "340.0        0.717959\n",
      "345.0        0.717959\n",
      "348.0        0.717959\n",
      "350.0        0.717959\n",
      "351.0        0.717959\n",
      "353.0        0.717959\n",
      "356.0        0.707847\n",
      "361.0        0.707847\n",
      "363.0        0.707847\n",
      "364.0        0.697282\n",
      "371.0        0.697282\n",
      "376.0        0.686214\n",
      "382.0        0.675146\n",
      "384.0        0.664078\n",
      "387.0        0.664078\n",
      "390.0        0.664078\n",
      "394.0        0.664078\n",
      "404.0        0.652427\n",
      "413.0        0.640777\n",
      "426.0        0.640777\n",
      "428.0        0.640777\n",
      "429.0        0.640777\n",
      "433.0        0.640777\n",
      "442.0        0.640777\n",
      "444.0        0.627961\n",
      "450.0        0.627961\n",
      "455.0        0.627961\n",
      "457.0        0.627961\n",
      "458.0        0.614007\n",
      "460.0        0.614007\n",
      "473.0        0.614007\n",
      "477.0        0.614007\n",
      "511.0        0.584055\n",
      "519.0        0.584055\n",
      "520.0        0.584055\n",
      "524.0        0.584055\n",
      "529.0        0.567368\n",
      "533.0        0.567368\n",
      "543.0        0.550175\n",
      "550.0        0.550175\n",
      "551.0        0.532427\n",
      "558.0        0.532427\n",
      "559.0        0.514068\n",
      "567.0        0.514068\n",
      "574.0        0.514068\n",
      "583.0        0.514068\n",
      "588.0        0.493505\n",
      "613.0        0.493505\n",
      "624.0        0.493505\n",
      "641.0        0.493505\n",
      "643.0        0.493505\n",
      "654.0        0.493505\n",
      "655.0        0.493505\n",
      "687.0        0.493505\n",
      "689.0        0.493505\n",
      "705.0        0.493505\n",
      "707.0        0.493505\n",
      "728.0        0.493505\n",
      "731.0        0.493505\n",
      "735.0        0.493505\n",
      "740.0        0.448641\n",
      "765.0        0.448641\n",
      "791.0        0.448641\n",
      "806.0        0.392561\n",
      "814.0        0.392561\n",
      "821.0        0.327134\n",
      "840.0        0.261707\n",
      "883.0        0.261707\n",
      "965.0        0.174471\n",
      "1010.0       0.087236\n",
      "1022.0       0.000000\n"
     ]
    }
   ],
   "source": [
    "pd.set_option('display.max_rows', None)\n",
    "print(kmf.survival_function_)"
   ]
  },
  {
   "cell_type": "markdown",
   "id": "abf156ad-6a3f-4cb1-8689-cbe1a0ed45a7",
   "metadata": {},
   "source": [
    "### Part D\n",
    "Create combined plot where male and female groups' Kaplan-Meier survival functions displayed"
   ]
  },
  {
   "cell_type": "code",
   "execution_count": 27,
   "id": "b70efb86-7e73-499c-83fa-c139abcf6e9e",
   "metadata": {},
   "outputs": [],
   "source": [
    "# subset data for males\n",
    "male_subset = data[data['sex'] == 1]\n",
    "\n",
    "# subset data for females\n",
    "female_subset = data[data['sex'] == 2]"
   ]
  },
  {
   "cell_type": "code",
   "execution_count": 29,
   "id": "af3a4488-2060-4074-9181-4eb45474b7d8",
   "metadata": {},
   "outputs": [
    {
     "data": {
      "image/png": "[encoded data removed]",
      "text/plain": [
       "<Figure size 640x480 with 1 Axes>"
      ]
     },
     "metadata": {},
     "output_type": "display_data"
    }
   ],
   "source": [
    "# kmf for males\n",
    "kmf_m = lifelines.KaplanMeierFitter()\n",
    "kmf_m.fit(male_subset['time'], male_subset['dead'], label = 'Male')\n",
    "\n",
    "# kmf for females\n",
    "kmf_f = lifelines.KaplanMeierFitter()\n",
    "kmf_f.fit(female_subset['time'], female_subset['dead'], label = 'Female')\n",
    "\n",
    "# plot\n",
    "ax = plt.subplot(111)\n",
    "\n",
    "kmf_m.plot_survival_function(ax=ax)\n",
    "kmf_f.plot_survival_function(ax=ax)\n",
    "\n",
    "plt.show()"
   ]
  },
  {
   "cell_type": "markdown",
   "id": "21f87604-b1a5-4c50-8590-513e134e4bea",
   "metadata": {},
   "source": [
    "### Part E\n",
    "Conduct log-rank test and test null hypothesis that there is no difference in survival between 2 groups, namely male vs female"
   ]
  },
  {
   "cell_type": "code",
   "execution_count": 30,
   "id": "f967aca6-bc36-4f6a-87de-ce73574c1eb3",
   "metadata": {},
   "outputs": [],
   "source": [
    "from lifelines.statistics import logrank_test"
   ]
  },
  {
   "cell_type": "code",
   "execution_count": 32,
   "id": "66b1a990-55e4-422c-ad2a-af9bf5e0356c",
   "metadata": {},
   "outputs": [],
   "source": [
    "# log-rank test\n",
    "results = logrank_test(durations_A = male_subset['time'],\n",
    "                       durations_B = female_subset['time'],\n",
    "                       event_observed_A = male_subset['dead'],\n",
    "                       event_observed_B = female_subset['dead'])"
   ]
  },
  {
   "cell_type": "code",
   "execution_count": 33,
   "id": "ffcb5c8b-d7ae-4c22-8f5a-1462b2b5f0a9",
   "metadata": {},
   "outputs": [
    {
     "data": {
      "text/html": [
       "<div>\n",
       "<style scoped>\n",
       "    .dataframe tbody tr th:only-of-type {\n",
       "        vertical-align: middle;\n",
       "    }\n",
       "\n",
       "    .dataframe tbody tr th {\n",
       "        vertical-align: top;\n",
       "    }\n",
       "\n",
       "    .dataframe thead th {\n",
       "        text-align: right;\n",
       "    }\n",
       "</style>\n",
       "<table border=\"1\" class=\"dataframe\">\n",
       "  <tbody>\n",
       "    <tr>\n",
       "      <th>t_0</th>\n",
       "      <td>-1</td>\n",
       "    </tr>\n",
       "    <tr>\n",
       "      <th>null_distribution</th>\n",
       "      <td>chi squared</td>\n",
       "    </tr>\n",
       "    <tr>\n",
       "      <th>degrees_of_freedom</th>\n",
       "      <td>1</td>\n",
       "    </tr>\n",
       "    <tr>\n",
       "      <th>test_name</th>\n",
       "      <td>logrank_test</td>\n",
       "    </tr>\n",
       "  </tbody>\n",
       "</table>\n",
       "</div><table border=\"1\" class=\"dataframe\">\n",
       "  <thead>\n",
       "    <tr style=\"text-align: right;\">\n",
       "      <th></th>\n",
       "      <th>test_statistic</th>\n",
       "      <th>p</th>\n",
       "      <th>-log2(p)</th>\n",
       "    </tr>\n",
       "  </thead>\n",
       "  <tbody>\n",
       "    <tr>\n",
       "      <th>0</th>\n",
       "      <td>6.23</td>\n",
       "      <td>0.01</td>\n",
       "      <td>6.31</td>\n",
       "    </tr>\n",
       "  </tbody>\n",
       "</table>"
      ],
      "text/latex": [
       "\\begin{tabular}{lrrr}\n",
       " & test_statistic & p & -log2(p) \\\\\n",
       "0 & 6.23 & 0.01 & 6.31 \\\\\n",
       "\\end{tabular}\n"
      ],
      "text/plain": [
       "<lifelines.StatisticalResult: logrank_test>\n",
       "               t_0 = -1\n",
       " null_distribution = chi squared\n",
       "degrees_of_freedom = 1\n",
       "         test_name = logrank_test\n",
       "\n",
       "---\n",
       " test_statistic    p  -log2(p)\n",
       "           6.23 0.01      6.31"
      ]
     },
     "metadata": {},
     "output_type": "display_data"
    }
   ],
   "source": [
    "results.print_summary()"
   ]
  },
  {
   "cell_type": "markdown",
   "id": "a1a9a750-2afc-4783-9ce1-168b2fa4880b",
   "metadata": {},
   "source": [
    "The p-value is 0.01, which is less than standard threshold of 0.05. Since it's smaller, we reject the null hypothesis and conclude that there is a difference in survival between male and female groups."
   ]
  },
  {
   "cell_type": "code",
   "execution_count": null,
   "id": "63063132-b22f-4a7b-ab8b-ee22f61d216b",
   "metadata": {},
   "outputs": [],
   "source": []
  }
 ],
 "metadata": {
  "kernelspec": {
   "display_name": "Python 3 (ipykernel)",
   "language": "python",
   "name": "python3"
  },
  "language_info": {
   "codemirror_mode": {
    "name": "ipython",
    "version": 3
   },
   "file_extension": ".py",
   "mimetype": "text/x-python",
   "name": "python",
   "nbconvert_exporter": "python",
   "pygments_lexer": "ipython3",
   "version": "3.9.13"
  }
 },
 "nbformat": 4,
 "nbformat_minor": 5
}

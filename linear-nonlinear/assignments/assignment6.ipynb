{
 "cells": [
  {
   "cell_type": "markdown",
   "id": "1334a349-efe5-474a-8271-abd7c0fc99f5",
   "metadata": {},
   "source": [
    "# NLM Assignment 6\n",
    "##### Natalie Kim"
   ]
  },
  {
   "cell_type": "code",
   "execution_count": 1,
   "id": "03d465e9-838b-4e4c-818d-c5bb6e2dc6ad",
   "metadata": {},
   "outputs": [],
   "source": [
    "# Libraries/Packages\n",
    "import pandas as pd\n",
    "import numpy as np\n",
    "from sklearn.model_selection import train_test_split"
   ]
  },
  {
   "cell_type": "code",
   "execution_count": 4,
   "id": "5a1ed049-29cb-421b-a1a2-a74d986027d4",
   "metadata": {},
   "outputs": [
    {
     "data": {
      "text/html": [
       "<div>\n",
       "<style scoped>\n",
       "    .dataframe tbody tr th:only-of-type {\n",
       "        vertical-align: middle;\n",
       "    }\n",
       "\n",
       "    .dataframe tbody tr th {\n",
       "        vertical-align: top;\n",
       "    }\n",
       "\n",
       "    .dataframe thead th {\n",
       "        text-align: right;\n",
       "    }\n",
       "</style>\n",
       "<table border=\"1\" class=\"dataframe\">\n",
       "  <thead>\n",
       "    <tr style=\"text-align: right;\">\n",
       "      <th></th>\n",
       "      <th>Time</th>\n",
       "      <th>VStatus</th>\n",
       "      <th>LogBUN</th>\n",
       "      <th>HGB</th>\n",
       "      <th>Platelet</th>\n",
       "      <th>Age</th>\n",
       "      <th>LogWBC</th>\n",
       "      <th>Frac</th>\n",
       "      <th>LogPBM</th>\n",
       "      <th>Protein</th>\n",
       "      <th>SCalc</th>\n",
       "    </tr>\n",
       "  </thead>\n",
       "  <tbody>\n",
       "    <tr>\n",
       "      <th>0</th>\n",
       "      <td>1.25</td>\n",
       "      <td>1</td>\n",
       "      <td>2.2175</td>\n",
       "      <td>9.4</td>\n",
       "      <td>1</td>\n",
       "      <td>67</td>\n",
       "      <td>3.6628</td>\n",
       "      <td>1</td>\n",
       "      <td>1.9542</td>\n",
       "      <td>12</td>\n",
       "      <td>10</td>\n",
       "    </tr>\n",
       "    <tr>\n",
       "      <th>1</th>\n",
       "      <td>1.25</td>\n",
       "      <td>1</td>\n",
       "      <td>1.9395</td>\n",
       "      <td>12.0</td>\n",
       "      <td>1</td>\n",
       "      <td>38</td>\n",
       "      <td>3.9868</td>\n",
       "      <td>1</td>\n",
       "      <td>1.9542</td>\n",
       "      <td>20</td>\n",
       "      <td>18</td>\n",
       "    </tr>\n",
       "    <tr>\n",
       "      <th>2</th>\n",
       "      <td>2.00</td>\n",
       "      <td>1</td>\n",
       "      <td>1.5185</td>\n",
       "      <td>9.8</td>\n",
       "      <td>1</td>\n",
       "      <td>81</td>\n",
       "      <td>3.8751</td>\n",
       "      <td>1</td>\n",
       "      <td>2.0000</td>\n",
       "      <td>2</td>\n",
       "      <td>15</td>\n",
       "    </tr>\n",
       "    <tr>\n",
       "      <th>3</th>\n",
       "      <td>2.00</td>\n",
       "      <td>1</td>\n",
       "      <td>1.7482</td>\n",
       "      <td>11.3</td>\n",
       "      <td>0</td>\n",
       "      <td>75</td>\n",
       "      <td>3.8062</td>\n",
       "      <td>1</td>\n",
       "      <td>1.2553</td>\n",
       "      <td>0</td>\n",
       "      <td>12</td>\n",
       "    </tr>\n",
       "    <tr>\n",
       "      <th>4</th>\n",
       "      <td>2.00</td>\n",
       "      <td>1</td>\n",
       "      <td>1.3010</td>\n",
       "      <td>5.1</td>\n",
       "      <td>0</td>\n",
       "      <td>57</td>\n",
       "      <td>3.7243</td>\n",
       "      <td>1</td>\n",
       "      <td>2.0000</td>\n",
       "      <td>3</td>\n",
       "      <td>9</td>\n",
       "    </tr>\n",
       "  </tbody>\n",
       "</table>\n",
       "</div>"
      ],
      "text/plain": [
       "   Time  VStatus  LogBUN   HGB  Platelet  Age  LogWBC  Frac  LogPBM  Protein  \\\n",
       "0  1.25        1  2.2175   9.4         1   67  3.6628     1  1.9542       12   \n",
       "1  1.25        1  1.9395  12.0         1   38  3.9868     1  1.9542       20   \n",
       "2  2.00        1  1.5185   9.8         1   81  3.8751     1  2.0000        2   \n",
       "3  2.00        1  1.7482  11.3         0   75  3.8062     1  1.2553        0   \n",
       "4  2.00        1  1.3010   5.1         0   57  3.7243     1  2.0000        3   \n",
       "\n",
       "   SCalc  \n",
       "0     10  \n",
       "1     18  \n",
       "2     15  \n",
       "3     12  \n",
       "4      9  "
      ]
     },
     "execution_count": 4,
     "metadata": {},
     "output_type": "execute_result"
    }
   ],
   "source": [
    "# Read data\n",
    "eloma = pd.read_csv(r'/Users/xnxk040/Library/CloudStorage/OneDrive-W.WGrainger,inc/Desktop/linear-nonlinear data/myeloma.csv')\n",
    "eloma.head()"
   ]
  },
  {
   "cell_type": "code",
   "execution_count": 7,
   "id": "b4d7c8a6-3886-416c-89eb-70b23bf7a7cf",
   "metadata": {},
   "outputs": [
    {
     "data": {
      "text/html": [
       "<div>\n",
       "<style scoped>\n",
       "    .dataframe tbody tr th:only-of-type {\n",
       "        vertical-align: middle;\n",
       "    }\n",
       "\n",
       "    .dataframe tbody tr th {\n",
       "        vertical-align: top;\n",
       "    }\n",
       "\n",
       "    .dataframe thead th {\n",
       "        text-align: right;\n",
       "    }\n",
       "</style>\n",
       "<table border=\"1\" class=\"dataframe\">\n",
       "  <thead>\n",
       "    <tr style=\"text-align: right;\">\n",
       "      <th></th>\n",
       "      <th>Time</th>\n",
       "      <th>VStatus</th>\n",
       "      <th>LogBUN</th>\n",
       "      <th>HGB</th>\n",
       "      <th>Platelet</th>\n",
       "      <th>Age</th>\n",
       "      <th>LogWBC</th>\n",
       "      <th>Frac</th>\n",
       "      <th>LogPBM</th>\n",
       "      <th>Protein</th>\n",
       "      <th>SCalc</th>\n",
       "    </tr>\n",
       "  </thead>\n",
       "  <tbody>\n",
       "    <tr>\n",
       "      <th>count</th>\n",
       "      <td>65.000000</td>\n",
       "      <td>65.000000</td>\n",
       "      <td>65.00000</td>\n",
       "      <td>65.000000</td>\n",
       "      <td>65.000000</td>\n",
       "      <td>65.000000</td>\n",
       "      <td>65.000000</td>\n",
       "      <td>65.000000</td>\n",
       "      <td>65.000000</td>\n",
       "      <td>65.000000</td>\n",
       "      <td>65.000000</td>\n",
       "    </tr>\n",
       "    <tr>\n",
       "      <th>mean</th>\n",
       "      <td>24.007692</td>\n",
       "      <td>0.738462</td>\n",
       "      <td>1.39290</td>\n",
       "      <td>10.201538</td>\n",
       "      <td>0.861538</td>\n",
       "      <td>60.153846</td>\n",
       "      <td>3.769014</td>\n",
       "      <td>0.753846</td>\n",
       "      <td>1.549660</td>\n",
       "      <td>3.615385</td>\n",
       "      <td>10.123077</td>\n",
       "    </tr>\n",
       "    <tr>\n",
       "      <th>std</th>\n",
       "      <td>23.694383</td>\n",
       "      <td>0.442893</td>\n",
       "      <td>0.31263</td>\n",
       "      <td>2.557556</td>\n",
       "      <td>0.348072</td>\n",
       "      <td>10.333850</td>\n",
       "      <td>0.238013</td>\n",
       "      <td>0.434122</td>\n",
       "      <td>0.364206</td>\n",
       "      <td>6.012207</td>\n",
       "      <td>1.815796</td>\n",
       "    </tr>\n",
       "    <tr>\n",
       "      <th>min</th>\n",
       "      <td>1.250000</td>\n",
       "      <td>0.000000</td>\n",
       "      <td>0.77820</td>\n",
       "      <td>4.900000</td>\n",
       "      <td>0.000000</td>\n",
       "      <td>38.000000</td>\n",
       "      <td>3.361700</td>\n",
       "      <td>0.000000</td>\n",
       "      <td>0.477100</td>\n",
       "      <td>0.000000</td>\n",
       "      <td>7.000000</td>\n",
       "    </tr>\n",
       "    <tr>\n",
       "      <th>25%</th>\n",
       "      <td>7.000000</td>\n",
       "      <td>0.000000</td>\n",
       "      <td>1.14610</td>\n",
       "      <td>8.800000</td>\n",
       "      <td>1.000000</td>\n",
       "      <td>51.000000</td>\n",
       "      <td>3.643500</td>\n",
       "      <td>1.000000</td>\n",
       "      <td>1.361700</td>\n",
       "      <td>0.000000</td>\n",
       "      <td>9.000000</td>\n",
       "    </tr>\n",
       "    <tr>\n",
       "      <th>50%</th>\n",
       "      <td>15.000000</td>\n",
       "      <td>1.000000</td>\n",
       "      <td>1.32220</td>\n",
       "      <td>10.200000</td>\n",
       "      <td>1.000000</td>\n",
       "      <td>60.000000</td>\n",
       "      <td>3.732400</td>\n",
       "      <td>1.000000</td>\n",
       "      <td>1.623200</td>\n",
       "      <td>1.000000</td>\n",
       "      <td>10.000000</td>\n",
       "    </tr>\n",
       "    <tr>\n",
       "      <th>75%</th>\n",
       "      <td>35.000000</td>\n",
       "      <td>1.000000</td>\n",
       "      <td>1.56820</td>\n",
       "      <td>12.000000</td>\n",
       "      <td>1.000000</td>\n",
       "      <td>67.000000</td>\n",
       "      <td>3.875100</td>\n",
       "      <td>1.000000</td>\n",
       "      <td>1.845100</td>\n",
       "      <td>4.000000</td>\n",
       "      <td>10.000000</td>\n",
       "    </tr>\n",
       "    <tr>\n",
       "      <th>max</th>\n",
       "      <td>92.000000</td>\n",
       "      <td>1.000000</td>\n",
       "      <td>2.23550</td>\n",
       "      <td>14.600000</td>\n",
       "      <td>1.000000</td>\n",
       "      <td>82.000000</td>\n",
       "      <td>4.954200</td>\n",
       "      <td>1.000000</td>\n",
       "      <td>2.000000</td>\n",
       "      <td>27.000000</td>\n",
       "      <td>18.000000</td>\n",
       "    </tr>\n",
       "  </tbody>\n",
       "</table>\n",
       "</div>"
      ],
      "text/plain": [
       "            Time    VStatus    LogBUN        HGB   Platelet        Age  \\\n",
       "count  65.000000  65.000000  65.00000  65.000000  65.000000  65.000000   \n",
       "mean   24.007692   0.738462   1.39290  10.201538   0.861538  60.153846   \n",
       "std    23.694383   0.442893   0.31263   2.557556   0.348072  10.333850   \n",
       "min     1.250000   0.000000   0.77820   4.900000   0.000000  38.000000   \n",
       "25%     7.000000   0.000000   1.14610   8.800000   1.000000  51.000000   \n",
       "50%    15.000000   1.000000   1.32220  10.200000   1.000000  60.000000   \n",
       "75%    35.000000   1.000000   1.56820  12.000000   1.000000  67.000000   \n",
       "max    92.000000   1.000000   2.23550  14.600000   1.000000  82.000000   \n",
       "\n",
       "          LogWBC       Frac     LogPBM    Protein      SCalc  \n",
       "count  65.000000  65.000000  65.000000  65.000000  65.000000  \n",
       "mean    3.769014   0.753846   1.549660   3.615385  10.123077  \n",
       "std     0.238013   0.434122   0.364206   6.012207   1.815796  \n",
       "min     3.361700   0.000000   0.477100   0.000000   7.000000  \n",
       "25%     3.643500   1.000000   1.361700   0.000000   9.000000  \n",
       "50%     3.732400   1.000000   1.623200   1.000000  10.000000  \n",
       "75%     3.875100   1.000000   1.845100   4.000000  10.000000  \n",
       "max     4.954200   1.000000   2.000000  27.000000  18.000000  "
      ]
     },
     "execution_count": 7,
     "metadata": {},
     "output_type": "execute_result"
    }
   ],
   "source": [
    "eloma.describe()"
   ]
  },
  {
   "cell_type": "code",
   "execution_count": 8,
   "id": "8b40c959-75c1-4eaf-85c8-9a74fc34d8f1",
   "metadata": {},
   "outputs": [
    {
     "data": {
      "text/plain": [
       "Time        0\n",
       "VStatus     0\n",
       "LogBUN      0\n",
       "HGB         0\n",
       "Platelet    0\n",
       "Age         0\n",
       "LogWBC      0\n",
       "Frac        0\n",
       "LogPBM      0\n",
       "Protein     0\n",
       "SCalc       0\n",
       "dtype: int64"
      ]
     },
     "execution_count": 8,
     "metadata": {},
     "output_type": "execute_result"
    }
   ],
   "source": [
    "eloma.isnull().sum()"
   ]
  },
  {
   "cell_type": "markdown",
   "id": "4c32cc3c-2288-4842-8582-2490943d9972",
   "metadata": {},
   "source": [
    "### About the Data\n",
    "- `Time`: the survival time in months from diagnosis\n",
    "- `VStatus`: indicates whether the patient is alive (0) or dead (1) at the end of the study\n",
    "    - If `Vstatus` is 1, patient died during the study\n",
    "    - If `Vstatus` is 0, patient was still alive at the end of the study and corresponding value of Time is censored\n",
    "- `LogBUN`: logarithm of blood urea nitrogen at diagnosis\n",
    "- `HGB`: hemoglobin at diagnosis\n",
    "- `Platelet`: platelets at diagnosis (0 = abnormal, 1 = normal)\n",
    "- `Age`: age at diagnosis, in years\n",
    "- `LogWBC`: logarithm of the number of white blood cells at diagnosis\n",
    "- `Frac`: fractures at diangosis: 0 = none, 1 = present\n",
    "- `LogPBM`: logarithm of the percentage of plasma cells in bone marrow\n",
    "- `Protein`: proteinuria at diagnosis\n",
    "- `SCalc`: serum calcium at diagnosis\n",
    "\n",
    "## Question 1\n",
    "Identify important prognostic factors from the nine explanatory variables.\n",
    "1. First include all nine explanatory variables in model\n",
    "2. After training Proportional Hazard model, retrieve the summary object to obtain test significance values (i.e., p-value) of explanatory variables\n",
    "3. Look among explanatory variables whose p-values are more than 0.15\n",
    "4. Remove explanatory variable, if any, that has the highest p-value from the model\n",
    "5. Repeat Backward steps until there are no more explanatory variables that we can remove"
   ]
  },
  {
   "cell_type": "code",
   "execution_count": 11,
   "id": "e4e9c156-eb07-41a6-b20e-e5dc994887e5",
   "metadata": {},
   "outputs": [],
   "source": [
    "from lifelines import CoxPHFitter\n",
    "cph = CoxPHFitter()"
   ]
  },
  {
   "cell_type": "markdown",
   "id": "2598f4e8-4a6c-4d58-9896-681690292887",
   "metadata": {},
   "source": [
    "#### Question 1a\n",
    "Provide a Step Summary table. Table will show the explanatory variable removed from each step and the variable's test significance value."
   ]
  },
  {
   "cell_type": "code",
   "execution_count": 19,
   "id": "c6f009b6-698a-4e1c-a8d9-ac678ffd3ea6",
   "metadata": {},
   "outputs": [],
   "source": [
    "variables = ['LogBUN', 'HGB', 'Platelet', 'Age', 'LogWBC',\n",
    "             'Frac', 'LogPBM', 'Protein', 'SCalc']\n",
    "step_summary = []\n",
    "step = 1"
   ]
  },
  {
   "cell_type": "code",
   "execution_count": 24,
   "id": "3d7b2587-2cca-479a-9174-bc36b717ddfd",
   "metadata": {},
   "outputs": [
    {
     "data": {
      "text/html": [
       "<div>\n",
       "<style scoped>\n",
       "    .dataframe tbody tr th:only-of-type {\n",
       "        vertical-align: middle;\n",
       "    }\n",
       "\n",
       "    .dataframe tbody tr th {\n",
       "        vertical-align: top;\n",
       "    }\n",
       "\n",
       "    .dataframe thead th {\n",
       "        text-align: right;\n",
       "    }\n",
       "</style>\n",
       "<table border=\"1\" class=\"dataframe\">\n",
       "  <thead>\n",
       "    <tr style=\"text-align: right;\">\n",
       "      <th></th>\n",
       "      <th>Step</th>\n",
       "      <th>Variable Removed</th>\n",
       "      <th>P-Value</th>\n",
       "    </tr>\n",
       "  </thead>\n",
       "  <tbody>\n",
       "    <tr>\n",
       "      <th>0</th>\n",
       "      <td>1</td>\n",
       "      <td>LogWBC</td>\n",
       "      <td>0.621011</td>\n",
       "    </tr>\n",
       "    <tr>\n",
       "      <th>1</th>\n",
       "      <td>2</td>\n",
       "      <td>Protein</td>\n",
       "      <td>0.693410</td>\n",
       "    </tr>\n",
       "    <tr>\n",
       "      <th>2</th>\n",
       "      <td>3</td>\n",
       "      <td>Platelet</td>\n",
       "      <td>0.656020</td>\n",
       "    </tr>\n",
       "    <tr>\n",
       "      <th>3</th>\n",
       "      <td>4</td>\n",
       "      <td>LogPBM</td>\n",
       "      <td>0.452029</td>\n",
       "    </tr>\n",
       "    <tr>\n",
       "      <th>4</th>\n",
       "      <td>5</td>\n",
       "      <td>Frac</td>\n",
       "      <td>0.426168</td>\n",
       "    </tr>\n",
       "    <tr>\n",
       "      <th>5</th>\n",
       "      <td>6</td>\n",
       "      <td>Age</td>\n",
       "      <td>0.180759</td>\n",
       "    </tr>\n",
       "    <tr>\n",
       "      <th>6</th>\n",
       "      <td>7</td>\n",
       "      <td>SCalc</td>\n",
       "      <td>0.173778</td>\n",
       "    </tr>\n",
       "  </tbody>\n",
       "</table>\n",
       "</div>"
      ],
      "text/plain": [
       "   Step Variable Removed   P-Value\n",
       "0     1           LogWBC  0.621011\n",
       "1     2          Protein  0.693410\n",
       "2     3         Platelet  0.656020\n",
       "3     4           LogPBM  0.452029\n",
       "4     5             Frac  0.426168\n",
       "5     6              Age  0.180759\n",
       "6     7            SCalc  0.173778"
      ]
     },
     "execution_count": 24,
     "metadata": {},
     "output_type": "execute_result"
    }
   ],
   "source": [
    "while len(variables) > 0:\n",
    "    cph.fit(eloma[variables + ['Time', 'VStatus']],\n",
    "            duration_col = 'Time', event_col = 'VStatus')\n",
    "    summary = cph.summary\n",
    "    summary['variable'] = summary.index\n",
    "    removable = summary[summary['p'] > 0.15]\n",
    "    \n",
    "    if removable.empty:\n",
    "        break\n",
    "    \n",
    "    big_pval_var = removable['p'].idxmax()\n",
    "    step_summary.append({'Step': step,\n",
    "                         'Variable Removed': big_pval_var,\n",
    "                         'P-Value': removable.loc[big_pval_var, 'p']})\n",
    "    variables.remove(big_pval_var)\n",
    "    step += 1\n",
    "    \n",
    "step_summary_df = pd.DataFrame(step_summary, )\n",
    "step_summary_df"
   ]
  },
  {
   "cell_type": "markdown",
   "id": "b67098d8-4247-41e2-af08-780839150374",
   "metadata": {},
   "source": [
    "#### Question 1b\n",
    "Provide table that shows the explanatory variables included in the final model. Besides, show these statistics:\n",
    "- parameter estimates\n",
    "- standard errors\n",
    "- p-values\n",
    "- hazard ratios\n",
    "- 95% confidence intervals for the hazard ratios"
   ]
  },
  {
   "cell_type": "code",
   "execution_count": 31,
   "id": "989853f7-b971-46a2-82e7-355340120808",
   "metadata": {},
   "outputs": [],
   "source": [
    "# Parameter estimates, standard errors, p-values, and CI's\n",
    "summary = cph.summary\n",
    "\n",
    "# Hazard ratios\n",
    "summary['hazard_ratio'] = summary['coef'].apply(np.exp)\n",
    "\n",
    "# CI for hazard ratios\n",
    "summary['lower_CI_hr'] = summary['coef lower 95%'].apply(np.exp)\n",
    "summary['upper_CI_hr'] = summary['coef upper 95%'].apply(np.exp)\n"
   ]
  },
  {
   "cell_type": "code",
   "execution_count": 34,
   "id": "a2d83e23-00fa-468b-9232-fc85f789a2c2",
   "metadata": {},
   "outputs": [
    {
     "data": {
      "text/html": [
       "<div>\n",
       "<style scoped>\n",
       "    .dataframe tbody tr th:only-of-type {\n",
       "        vertical-align: middle;\n",
       "    }\n",
       "\n",
       "    .dataframe tbody tr th {\n",
       "        vertical-align: top;\n",
       "    }\n",
       "\n",
       "    .dataframe thead th {\n",
       "        text-align: right;\n",
       "    }\n",
       "</style>\n",
       "<table border=\"1\" class=\"dataframe\">\n",
       "  <thead>\n",
       "    <tr style=\"text-align: right;\">\n",
       "      <th></th>\n",
       "      <th>parameter estimates</th>\n",
       "      <th>standard errors</th>\n",
       "      <th>p-values</th>\n",
       "      <th>hazard ratios</th>\n",
       "      <th>Lower 95% CI</th>\n",
       "      <th>Upper 95% CI</th>\n",
       "    </tr>\n",
       "    <tr>\n",
       "      <th>covariate</th>\n",
       "      <th></th>\n",
       "      <th></th>\n",
       "      <th></th>\n",
       "      <th></th>\n",
       "      <th></th>\n",
       "      <th></th>\n",
       "    </tr>\n",
       "  </thead>\n",
       "  <tbody>\n",
       "    <tr>\n",
       "      <th>LogBUN</th>\n",
       "      <td>1.715977</td>\n",
       "      <td>0.618553</td>\n",
       "      <td>0.005534</td>\n",
       "      <td>5.562106</td>\n",
       "      <td>1.654725</td>\n",
       "      <td>18.696171</td>\n",
       "    </tr>\n",
       "    <tr>\n",
       "      <th>HGB</th>\n",
       "      <td>-0.119663</td>\n",
       "      <td>0.057422</td>\n",
       "      <td>0.037169</td>\n",
       "      <td>0.887219</td>\n",
       "      <td>0.792781</td>\n",
       "      <td>0.992908</td>\n",
       "    </tr>\n",
       "  </tbody>\n",
       "</table>\n",
       "</div>"
      ],
      "text/plain": [
       "           parameter estimates  standard errors  p-values  hazard ratios  \\\n",
       "covariate                                                                  \n",
       "LogBUN                1.715977         0.618553  0.005534       5.562106   \n",
       "HGB                  -0.119663         0.057422  0.037169       0.887219   \n",
       "\n",
       "           Lower 95% CI  Upper 95% CI  \n",
       "covariate                              \n",
       "LogBUN         1.654725     18.696171  \n",
       "HGB            0.792781      0.992908  "
      ]
     },
     "execution_count": 34,
     "metadata": {},
     "output_type": "execute_result"
    }
   ],
   "source": [
    "# Table of Final Model\n",
    "final_table = summary[['coef', 'se(coef)', 'p', 'hazard_ratio',\n",
    "                       'lower_CI_hr', 'upper_CI_hr']]\n",
    "final_table.columns = ['parameter estimates', 'standard errors',\n",
    "                       'p-values', 'hazard ratios', 'Lower 95% CI', 'Upper 95% CI']\n",
    "\n",
    "final_table"
   ]
  },
  {
   "cell_type": "markdown",
   "id": "26cb2b2d-f637-4da5-ba99-22ec55f4a93f",
   "metadata": {},
   "source": [
    "#### Question 1c\n",
    "Plot baseline hazard for final model."
   ]
  },
  {
   "cell_type": "code",
   "execution_count": 35,
   "id": "1f95b302-b7dd-40b7-95d3-d2e0a65ea109",
   "metadata": {},
   "outputs": [
    {
     "data": {
      "image/png": "[encoded data removed]",
      "text/plain": [
       "<Figure size 640x480 with 1 Axes>"
      ]
     },
     "metadata": {},
     "output_type": "display_data"
    }
   ],
   "source": [
    "import matplotlib.pyplot as plt\n",
    "\n",
    "cph.baseline_hazard_.plot()\n",
    "plt.title('Baseline Hazard Plot for Final Model')\n",
    "plt.xlabel('Time')\n",
    "plt.ylabel('Baseline Hazard')\n",
    "plt.show()"
   ]
  },
  {
   "cell_type": "markdown",
   "id": "7d7b3c89-584b-4dec-a5e0-a8b7dc5fa71c",
   "metadata": {},
   "source": [
    "##### What is the chance that individuals will experience an event at time 40 given they survive up to 40?\n",
    "The plot of the survival function below tells us that at t = 40, the survival rate is approximately 0.30. Since survival probability tells us the chance of *not* experiencing the event by time T, we subtract our estimated survival rate from 1 to get 1 - 0.3 =\n",
    "**0.7 as the chance that individuals will experience an event.**"
   ]
  },
  {
   "cell_type": "code",
   "execution_count": 36,
   "id": "bc319d26-ab5f-4247-b8ca-ed8592862175",
   "metadata": {},
   "outputs": [
    {
     "data": {
      "text/plain": [
       "<AxesSubplot:>"
      ]
     },
     "execution_count": 36,
     "metadata": {},
     "output_type": "execute_result"
    },
    {
     "data": {
      "image/png": "[encoded data removed]",
      "text/plain": [
       "<Figure size 640x480 with 1 Axes>"
      ]
     },
     "metadata": {},
     "output_type": "display_data"
    }
   ],
   "source": [
    "cph.baseline_survival_.plot()"
   ]
  },
  {
   "cell_type": "markdown",
   "id": "d1f12f99-6270-47cb-839e-d0b650a323f7",
   "metadata": {},
   "source": [
    "#### Question 1d\n",
    "Plot LogBUN partial effects with values = [0, 0.5, 1, 1.5, 2]. Remember, with this exercise, we examine what will the survival curve look like as we vary a single covariate while holding everything else equal."
   ]
  },
  {
   "cell_type": "code",
   "execution_count": 50,
   "id": "681ab585-52ee-4675-975c-60b82270e285",
   "metadata": {},
   "outputs": [
    {
     "data": {
      "text/plain": [
       "<AxesSubplot:>"
      ]
     },
     "execution_count": 50,
     "metadata": {},
     "output_type": "execute_result"
    },
    {
     "data": {
      "image/png": "[encoded data removed]",
      "text/plain": [
       "<Figure size 640x480 with 1 Axes>"
      ]
     },
     "metadata": {},
     "output_type": "display_data"
    }
   ],
   "source": [
    "cph.plot_partial_effects_on_outcome(covariates = 'LogBUN', values = [0, 0.5, 1, 1.5, 2])"
   ]
  }
 ],
 "metadata": {
  "kernelspec": {
   "display_name": "Python 3 (ipykernel)",
   "language": "python",
   "name": "python3"
  },
  "language_info": {
   "codemirror_mode": {
    "name": "ipython",
    "version": 3
   },
   "file_extension": ".py",
   "mimetype": "text/x-python",
   "name": "python",
   "nbconvert_exporter": "python",
   "pygments_lexer": "ipython3",
   "version": "3.9.13"
  }
 },
 "nbformat": 4,
 "nbformat_minor": 5
}

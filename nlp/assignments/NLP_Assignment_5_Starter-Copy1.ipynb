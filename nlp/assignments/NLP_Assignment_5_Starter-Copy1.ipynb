{
 "cells": [
  {
   "cell_type": "markdown",
   "metadata": {},
   "source": [
    "## NLP Class Assignment 5"
   ]
  },
  {
   "cell_type": "code",
   "execution_count": 1,
   "metadata": {},
   "outputs": [],
   "source": [
    "import pandas as pd\n",
    "\n",
    "pd.set_option('display.max_rows', 100)\n",
    "pd.set_option('display.max_columns', None)\n",
    "pd.set_option('display.max_colwidth', 500)"
   ]
  },
  {
   "cell_type": "markdown",
   "metadata": {},
   "source": [
    "#### Read news data"
   ]
  },
  {
   "cell_type": "code",
   "execution_count": 2,
   "metadata": {},
   "outputs": [
    {
     "name": "stdout",
     "output_type": "stream",
     "text": [
      "Sample contains 10,012 news articles\n"
     ]
    },
    {
     "data": {
      "text/html": [
       "<div>\n",
       "<style scoped>\n",
       "    .dataframe tbody tr th:only-of-type {\n",
       "        vertical-align: middle;\n",
       "    }\n",
       "\n",
       "    .dataframe tbody tr th {\n",
       "        vertical-align: top;\n",
       "    }\n",
       "\n",
       "    .dataframe thead th {\n",
       "        text-align: right;\n",
       "    }\n",
       "</style>\n",
       "<table border=\"1\" class=\"dataframe\">\n",
       "  <thead>\n",
       "    <tr style=\"text-align: right;\">\n",
       "      <th></th>\n",
       "      <th>url</th>\n",
       "      <th>date</th>\n",
       "      <th>language</th>\n",
       "      <th>title</th>\n",
       "      <th>text</th>\n",
       "    </tr>\n",
       "  </thead>\n",
       "  <tbody>\n",
       "    <tr>\n",
       "      <th>0</th>\n",
       "      <td>http://kokomoperspective.com/obituaries/jon-w-horton/article_b6ba8e1e-cb9c-11eb-9868-fb11b88b9778.html</td>\n",
       "      <td>2021-06-13</td>\n",
       "      <td>en</td>\n",
       "      <td>Jon W. Horton | Obituaries | kokomoperspective.com</td>\n",
       "      <td>Jon W. Horton | Obituaries | kokomoperspective.comYou have permission to edit this article. EditCloseSign Up                        Log In                    Dashboard  LogoutMy Account Dashboard Profile Saved items LogoutCOVID-19Click here for the latest local news on COVID-19HomeAbout UsContact UsNewsLocalOpinionPoliticsNationalStateAgricultureLifestylesEngagements/Anniversaries/WeddingsAutosEntertainmentHealthHomesOutdoorsSportsNFLNCAAVitalsObituariesAutomotivee-EditionCouponsGalleries74°...</td>\n",
       "    </tr>\n",
       "    <tr>\n",
       "      <th>1</th>\n",
       "      <td>https://auto.economictimes.indiatimes.com/news/auto-components/birla-precision-to-ramp-up-capacity-to-tap-emerging-opportunities-in-india/81254902</td>\n",
       "      <td>2021-02-28</td>\n",
       "      <td>en</td>\n",
       "      <td>Birla Precision to ramp up capacity to tap emerging opportunities in India, Auto News, ET Auto</td>\n",
       "      <td>Birla Precision to ramp up capacity to tap emerging opportunities in India, Auto News, ET Auto     We have updated our terms and conditions and privacy policy Click \"Continue\" to accept and continue with ET AutoAccept the updated privacy &amp; cookie policyDear user, ET Auto privacy and cookie policy has been updated to align with the new data regulations in European Union. Please review and accept these changes below to continue using the website.You can see our privacy policy &amp; our cookie ...</td>\n",
       "    </tr>\n",
       "  </tbody>\n",
       "</table>\n",
       "</div>"
      ],
      "text/plain": [
       "                                                                                                                                                  url  \\\n",
       "0                                              http://kokomoperspective.com/obituaries/jon-w-horton/article_b6ba8e1e-cb9c-11eb-9868-fb11b88b9778.html   \n",
       "1  https://auto.economictimes.indiatimes.com/news/auto-components/birla-precision-to-ramp-up-capacity-to-tap-emerging-opportunities-in-india/81254902   \n",
       "\n",
       "        date language  \\\n",
       "0 2021-06-13       en   \n",
       "1 2021-02-28       en   \n",
       "\n",
       "                                                                                                 title  \\\n",
       "0                                                   Jon W. Horton | Obituaries | kokomoperspective.com   \n",
       "1       Birla Precision to ramp up capacity to tap emerging opportunities in India, Auto News, ET Auto   \n",
       "\n",
       "                                                                                                                                                                                                                                                                                                                                                                                                                                                                                                                  text  \n",
       "0  Jon W. Horton | Obituaries | kokomoperspective.comYou have permission to edit this article. EditCloseSign Up                        Log In                    Dashboard  LogoutMy Account Dashboard Profile Saved items LogoutCOVID-19Click here for the latest local news on COVID-19HomeAbout UsContact UsNewsLocalOpinionPoliticsNationalStateAgricultureLifestylesEngagements/Anniversaries/WeddingsAutosEntertainmentHealthHomesOutdoorsSportsNFLNCAAVitalsObituariesAutomotivee-EditionCouponsGalleries74°...  \n",
       "1      Birla Precision to ramp up capacity to tap emerging opportunities in India, Auto News, ET Auto     We have updated our terms and conditions and privacy policy Click \"Continue\" to accept and continue with ET AutoAccept the updated privacy & cookie policyDear user, ET Auto privacy and cookie policy has been updated to align with the new data regulations in European Union. Please review and accept these changes below to continue using the website.You can see our privacy policy & our cookie ...  "
      ]
     },
     "execution_count": 2,
     "metadata": {},
     "output_type": "execute_result"
    }
   ],
   "source": [
    "news_path = 'https://storage.googleapis.com/msca-bdp-data-open/news/nlp_a_5_news.json'\n",
    "news_df = pd.read_json(news_path, orient='records', lines=True)\n",
    "\n",
    "print(f'Sample contains {news_df.shape[0]:,.0f} news articles')\n",
    "news_df.head(2)"
   ]
  },
  {
   "cell_type": "markdown",
   "metadata": {},
   "source": [
    "#### Read Tweets data"
   ]
  },
  {
   "cell_type": "code",
   "execution_count": 3,
   "metadata": {},
   "outputs": [
    {
     "name": "stdout",
     "output_type": "stream",
     "text": [
      "Sample contains 10,105 tweets\n"
     ]
    },
    {
     "data": {
      "text/html": [
       "<div>\n",
       "<style scoped>\n",
       "    .dataframe tbody tr th:only-of-type {\n",
       "        vertical-align: middle;\n",
       "    }\n",
       "\n",
       "    .dataframe tbody tr th {\n",
       "        vertical-align: top;\n",
       "    }\n",
       "\n",
       "    .dataframe thead th {\n",
       "        text-align: right;\n",
       "    }\n",
       "</style>\n",
       "<table border=\"1\" class=\"dataframe\">\n",
       "  <thead>\n",
       "    <tr style=\"text-align: right;\">\n",
       "      <th></th>\n",
       "      <th>id</th>\n",
       "      <th>lang</th>\n",
       "      <th>date</th>\n",
       "      <th>name</th>\n",
       "      <th>retweeted</th>\n",
       "      <th>text</th>\n",
       "    </tr>\n",
       "  </thead>\n",
       "  <tbody>\n",
       "    <tr>\n",
       "      <th>0</th>\n",
       "      <td>1534565117614084096</td>\n",
       "      <td>en</td>\n",
       "      <td>2022-06-08</td>\n",
       "      <td>Low Orbit Tourist 🌍📷</td>\n",
       "      <td></td>\n",
       "      <td>Body &amp;amp; Assembly - Halewood - United Kingdom\\n🌍53.3504,-2.8352296,402m\\n\\nHalewood Body &amp;amp; Assembly is a Jaguar Land Rover factory in Halewood, England, and forms the major part of the Halewood complex which is shared with Ford who manufacture transmissions at the site. [Wikipedia] https://t.co/LPmCnZIaVt</td>\n",
       "    </tr>\n",
       "    <tr>\n",
       "      <th>1</th>\n",
       "      <td>1534565743429394439</td>\n",
       "      <td>en</td>\n",
       "      <td>2022-06-08</td>\n",
       "      <td>CompleteCar.ie</td>\n",
       "      <td>RT</td>\n",
       "      <td>Land Rover Ireland has announced that the new Range Rover Sport starts at €114,150, now on @completecar:\\n\\nhttps://t.co/TjGUkL3FYr https://t.co/QdVaEiJkjO</td>\n",
       "    </tr>\n",
       "  </tbody>\n",
       "</table>\n",
       "</div>"
      ],
      "text/plain": [
       "                    id lang       date                  name retweeted  \\\n",
       "0  1534565117614084096   en 2022-06-08  Low Orbit Tourist 🌍📷             \n",
       "1  1534565743429394439   en 2022-06-08        CompleteCar.ie        RT   \n",
       "\n",
       "                                                                                                                                                                                                                                                                                                                       text  \n",
       "0  Body &amp; Assembly - Halewood - United Kingdom\\n🌍53.3504,-2.8352296,402m\\n\\nHalewood Body &amp; Assembly is a Jaguar Land Rover factory in Halewood, England, and forms the major part of the Halewood complex which is shared with Ford who manufacture transmissions at the site. [Wikipedia] https://t.co/LPmCnZIaVt  \n",
       "1                                                                                                                                                               Land Rover Ireland has announced that the new Range Rover Sport starts at €114,150, now on @completecar:\\n\\nhttps://t.co/TjGUkL3FYr https://t.co/QdVaEiJkjO  "
      ]
     },
     "execution_count": 3,
     "metadata": {},
     "output_type": "execute_result"
    }
   ],
   "source": [
    "tweets_path = 'https://storage.googleapis.com/msca-bdp-data-open/tweets/nlp_a_5_tweets.json'\n",
    "tweets_df = pd.read_json(tweets_path, orient='records', lines=True)\n",
    "print(f'Sample contains {tweets_df.shape[0]:,.0f} tweets')\n",
    "tweets_df.head(2)"
   ]
  },
  {
   "cell_type": "markdown",
   "metadata": {},
   "source": [
    "##### Discard non-English results"
   ]
  },
  {
   "cell_type": "code",
   "execution_count": 4,
   "metadata": {},
   "outputs": [],
   "source": [
    "# removing non-english results from news\n",
    "news_df = news_df[news_df['language'] == 'en']\n",
    "\n",
    "# removing non-englihs results from tweets\n",
    "tweets_df = tweets_df[tweets_df['lang'] == 'en']"
   ]
  },
  {
   "cell_type": "markdown",
   "metadata": {},
   "source": [
    "##### Text Cleaning"
   ]
  },
  {
   "cell_type": "code",
   "execution_count": 5,
   "metadata": {},
   "outputs": [
    {
     "name": "stderr",
     "output_type": "stream",
     "text": [
      "[nltk_data] Downloading package words to /Users/xnxk040/nltk_data...\n",
      "[nltk_data]   Package words is already up-to-date!\n"
     ]
    },
    {
     "data": {
      "text/plain": [
       "True"
      ]
     },
     "execution_count": 5,
     "metadata": {},
     "output_type": "execute_result"
    }
   ],
   "source": [
    "import re\n",
    "import nltk\n",
    "from nltk.corpus import words\n",
    "from nltk.tokenize import word_tokenize\n",
    "\n",
    "nltk.download(\"words\")"
   ]
  },
  {
   "cell_type": "code",
   "execution_count": 6,
   "metadata": {},
   "outputs": [],
   "source": [
    "# cleaning text\n",
    "def cleaning_text(text):\n",
    "    # Missing values\n",
    "    if not isinstance(text, str):\n",
    "        return \"\"\n",
    "\n",
    "    # Remove usernames\n",
    "    text = re.sub(r'@\\w+', '', text)\n",
    "\n",
    "    # Remove URLs\n",
    "    text = re.sub(r\"(http\\S+|www\\S+|\\S+\\.\\S+)\", \"\", text)\n",
    "\n",
    "    # Remove hashtags (keep only the word)\n",
    "    text = re.sub(r'#(\\w+)', r'\\1', text)\n",
    "\n",
    "    # Remove special characters & numbers **EXCEPT periods**\n",
    "    text = re.sub(r\"[^a-zA-Z.\\s]\", \"\", text)  # Keep letters, spaces, and periods\n",
    "\n",
    "    # Ensure spaces are preserved\n",
    "    text = re.sub(r\"\\s+\", \" \", text).strip()\n",
    "\n",
    "    return text"
   ]
  },
  {
   "cell_type": "code",
   "execution_count": 7,
   "metadata": {},
   "outputs": [
    {
     "data": {
      "text/html": [
       "<div>\n",
       "<style scoped>\n",
       "    .dataframe tbody tr th:only-of-type {\n",
       "        vertical-align: middle;\n",
       "    }\n",
       "\n",
       "    .dataframe tbody tr th {\n",
       "        vertical-align: top;\n",
       "    }\n",
       "\n",
       "    .dataframe thead th {\n",
       "        text-align: right;\n",
       "    }\n",
       "</style>\n",
       "<table border=\"1\" class=\"dataframe\">\n",
       "  <thead>\n",
       "    <tr style=\"text-align: right;\">\n",
       "      <th></th>\n",
       "      <th>id</th>\n",
       "      <th>lang</th>\n",
       "      <th>date</th>\n",
       "      <th>name</th>\n",
       "      <th>retweeted</th>\n",
       "      <th>text</th>\n",
       "      <th>cleaned_text</th>\n",
       "    </tr>\n",
       "  </thead>\n",
       "  <tbody>\n",
       "    <tr>\n",
       "      <th>0</th>\n",
       "      <td>1534565117614084096</td>\n",
       "      <td>en</td>\n",
       "      <td>2022-06-08</td>\n",
       "      <td>Low Orbit Tourist 🌍📷</td>\n",
       "      <td></td>\n",
       "      <td>Body &amp;amp; Assembly - Halewood - United Kingdom\\n🌍53.3504,-2.8352296,402m\\n\\nHalewood Body &amp;amp; Assembly is a Jaguar Land Rover factory in Halewood, England, and forms the major part of the Halewood complex which is shared with Ford who manufacture transmissions at the site. [Wikipedia] https://t.co/LPmCnZIaVt</td>\n",
       "      <td>Body amp Assembly Halewood United Kingdom Halewood Body amp Assembly is a Jaguar Land Rover factory in Halewood England and forms the major part of the Halewood complex which is shared with Ford who manufacture transmissions at the site. Wikipedia</td>\n",
       "    </tr>\n",
       "    <tr>\n",
       "      <th>1</th>\n",
       "      <td>1534565743429394439</td>\n",
       "      <td>en</td>\n",
       "      <td>2022-06-08</td>\n",
       "      <td>CompleteCar.ie</td>\n",
       "      <td>RT</td>\n",
       "      <td>Land Rover Ireland has announced that the new Range Rover Sport starts at €114,150, now on @completecar:\\n\\nhttps://t.co/TjGUkL3FYr https://t.co/QdVaEiJkjO</td>\n",
       "      <td>Land Rover Ireland has announced that the new Range Rover Sport starts at now on</td>\n",
       "    </tr>\n",
       "    <tr>\n",
       "      <th>2</th>\n",
       "      <td>1529341557580652545</td>\n",
       "      <td>en</td>\n",
       "      <td>2022-05-25</td>\n",
       "      <td>Exmoor Trim</td>\n",
       "      <td></td>\n",
       "      <td>New Land Rover Range Rover Hits Top Speed With Ease On Autobahn\\n\\nhttps://t.co/19QOgAIu3v</td>\n",
       "      <td>New Land Rover Range Rover Hits Top Speed With Ease On Autobahn</td>\n",
       "    </tr>\n",
       "    <tr>\n",
       "      <th>3</th>\n",
       "      <td>1542790343535755264</td>\n",
       "      <td>en</td>\n",
       "      <td>2022-07-01</td>\n",
       "      <td>Land Rover UK</td>\n",
       "      <td></td>\n",
       "      <td>@BeckyWatts1 Hi, thank you for your post. I am sorry to learn of your retailer experience, however when order slots are available they will be presented to the retailer, and it is at their discretion which vehicles they submit. Please continue to liaise with them. Thanks, Dan - Land Rover UK</td>\n",
       "      <td>Hi thank you for your post. I am sorry to learn of your retailer experience however when order slots are available they will be presented to the retailer and it is at their discretion which vehicles they submit. Please continue to liaise with them. Thanks Dan Land Rover UK</td>\n",
       "    </tr>\n",
       "    <tr>\n",
       "      <th>4</th>\n",
       "      <td>1516732103370493954</td>\n",
       "      <td>en</td>\n",
       "      <td>2022-04-20</td>\n",
       "      <td>Sussexes❤️👑🐼🌸</td>\n",
       "      <td></td>\n",
       "      <td>@cofvefe917 @Mackingday No this was during the Land Rover driving challenge.</td>\n",
       "      <td>No this was during the Land Rover driving challenge.</td>\n",
       "    </tr>\n",
       "  </tbody>\n",
       "</table>\n",
       "</div>"
      ],
      "text/plain": [
       "                    id lang       date                  name retweeted  \\\n",
       "0  1534565117614084096   en 2022-06-08  Low Orbit Tourist 🌍📷             \n",
       "1  1534565743429394439   en 2022-06-08        CompleteCar.ie        RT   \n",
       "2  1529341557580652545   en 2022-05-25           Exmoor Trim             \n",
       "3  1542790343535755264   en 2022-07-01         Land Rover UK             \n",
       "4  1516732103370493954   en 2022-04-20         Sussexes❤️👑🐼🌸             \n",
       "\n",
       "                                                                                                                                                                                                                                                                                                                       text  \\\n",
       "0  Body &amp; Assembly - Halewood - United Kingdom\\n🌍53.3504,-2.8352296,402m\\n\\nHalewood Body &amp; Assembly is a Jaguar Land Rover factory in Halewood, England, and forms the major part of the Halewood complex which is shared with Ford who manufacture transmissions at the site. [Wikipedia] https://t.co/LPmCnZIaVt   \n",
       "1                                                                                                                                                               Land Rover Ireland has announced that the new Range Rover Sport starts at €114,150, now on @completecar:\\n\\nhttps://t.co/TjGUkL3FYr https://t.co/QdVaEiJkjO   \n",
       "2                                                                                                                                                                                                                                New Land Rover Range Rover Hits Top Speed With Ease On Autobahn\\n\\nhttps://t.co/19QOgAIu3v   \n",
       "3                      @BeckyWatts1 Hi, thank you for your post. I am sorry to learn of your retailer experience, however when order slots are available they will be presented to the retailer, and it is at their discretion which vehicles they submit. Please continue to liaise with them. Thanks, Dan - Land Rover UK   \n",
       "4                                                                                                                                                                                                                                              @cofvefe917 @Mackingday No this was during the Land Rover driving challenge.   \n",
       "\n",
       "                                                                                                                                                                                                                                                                        cleaned_text  \n",
       "0                            Body amp Assembly Halewood United Kingdom Halewood Body amp Assembly is a Jaguar Land Rover factory in Halewood England and forms the major part of the Halewood complex which is shared with Ford who manufacture transmissions at the site. Wikipedia  \n",
       "1                                                                                                                                                                                                   Land Rover Ireland has announced that the new Range Rover Sport starts at now on  \n",
       "2                                                                                                                                                                                                                    New Land Rover Range Rover Hits Top Speed With Ease On Autobahn  \n",
       "3  Hi thank you for your post. I am sorry to learn of your retailer experience however when order slots are available they will be presented to the retailer and it is at their discretion which vehicles they submit. Please continue to liaise with them. Thanks Dan Land Rover UK  \n",
       "4                                                                                                                                                                                                                               No this was during the Land Rover driving challenge.  "
      ]
     },
     "execution_count": 7,
     "metadata": {},
     "output_type": "execute_result"
    }
   ],
   "source": [
    "# apply clean functions\n",
    "tweets_df['cleaned_text'] = tweets_df['text'].apply(cleaning_text)\n",
    "tweets_df.head(5)"
   ]
  },
  {
   "cell_type": "code",
   "execution_count": 8,
   "metadata": {},
   "outputs": [
    {
     "data": {
      "text/html": [
       "<div>\n",
       "<style scoped>\n",
       "    .dataframe tbody tr th:only-of-type {\n",
       "        vertical-align: middle;\n",
       "    }\n",
       "\n",
       "    .dataframe tbody tr th {\n",
       "        vertical-align: top;\n",
       "    }\n",
       "\n",
       "    .dataframe thead th {\n",
       "        text-align: right;\n",
       "    }\n",
       "</style>\n",
       "<table border=\"1\" class=\"dataframe\">\n",
       "  <thead>\n",
       "    <tr style=\"text-align: right;\">\n",
       "      <th></th>\n",
       "      <th>url</th>\n",
       "      <th>date</th>\n",
       "      <th>language</th>\n",
       "      <th>title</th>\n",
       "      <th>text</th>\n",
       "      <th>cleaned_titles</th>\n",
       "      <th>cleaned_text</th>\n",
       "    </tr>\n",
       "  </thead>\n",
       "  <tbody>\n",
       "    <tr>\n",
       "      <th>0</th>\n",
       "      <td>http://kokomoperspective.com/obituaries/jon-w-horton/article_b6ba8e1e-cb9c-11eb-9868-fb11b88b9778.html</td>\n",
       "      <td>2021-06-13</td>\n",
       "      <td>en</td>\n",
       "      <td>Jon W. Horton | Obituaries | kokomoperspective.com</td>\n",
       "      <td>Jon W. Horton | Obituaries | kokomoperspective.comYou have permission to edit this article. EditCloseSign Up                        Log In                    Dashboard  LogoutMy Account Dashboard Profile Saved items LogoutCOVID-19Click here for the latest local news on COVID-19HomeAbout UsContact UsNewsLocalOpinionPoliticsNationalStateAgricultureLifestylesEngagements/Anniversaries/WeddingsAutosEntertainmentHealthHomesOutdoorsSportsNFLNCAAVitalsObituariesAutomotivee-EditionCouponsGalleries74°...</td>\n",
       "      <td>Jon W. Horton Obituaries</td>\n",
       "      <td>Jon W. Horton Obituaries have permission to edit this article. EditCloseSign Up Log In Dashboard LogoutMy Account Dashboard Profile Saved items LogoutCOVIDClick here for the latest local news on COVIDHomeAbout UsContact UsNewsLocalOpinionPoliticsNationalStateAgricultureLifestylesEngagementsAnniversariesWeddingsAutosEntertainmentHealthHomesOutdoorsSportsNFLNCAAVitalsObituariesAutomotiveeEditionCouponsGalleriesFair Kokomo IN TodayA few clouds. A stray shower or thunderstorm is possible. Low F....</td>\n",
       "    </tr>\n",
       "    <tr>\n",
       "      <th>1</th>\n",
       "      <td>https://auto.economictimes.indiatimes.com/news/auto-components/birla-precision-to-ramp-up-capacity-to-tap-emerging-opportunities-in-india/81254902</td>\n",
       "      <td>2021-02-28</td>\n",
       "      <td>en</td>\n",
       "      <td>Birla Precision to ramp up capacity to tap emerging opportunities in India, Auto News, ET Auto</td>\n",
       "      <td>Birla Precision to ramp up capacity to tap emerging opportunities in India, Auto News, ET Auto     We have updated our terms and conditions and privacy policy Click \"Continue\" to accept and continue with ET AutoAccept the updated privacy &amp; cookie policyDear user, ET Auto privacy and cookie policy has been updated to align with the new data regulations in European Union. Please review and accept these changes below to continue using the website.You can see our privacy policy &amp; our cookie ...</td>\n",
       "      <td>Birla Precision to ramp up capacity to tap emerging opportunities in India Auto News ET Auto</td>\n",
       "      <td>Birla Precision to ramp up capacity to tap emerging opportunities in India Auto News ET Auto We have updated our terms and conditions and privacy policy Click Continue to accept and continue with ET AutoAccept the updated privacy cookie policyDear user ET Auto privacy and cookie policy has been updated to align with the new data regulations in European Union. Please review and accept these changes below to continue using the can see our privacy policy our cookie policy. We use cookies to ens...</td>\n",
       "    </tr>\n",
       "    <tr>\n",
       "      <th>2</th>\n",
       "      <td>https://ca.sports.yahoo.com/news/global-hydrogen-fueling-station-markets-104800330.html?src=rss</td>\n",
       "      <td>2021-12-07</td>\n",
       "      <td>en</td>\n",
       "      <td>Global Hydrogen Fueling Station Markets to 2035: Current State and Future Prognosis of Passenger Hydrogen Fuel Cell Vehicles (FCVs)</td>\n",
       "      <td>Global Hydrogen Fueling Station Markets to 2035: Current State and Future Prognosis of Passenger Hydrogen Fuel Cell Vehicles (FCVs)        HOME    MAIL    NEWS    SPORTS    FINANCE    CELEBRITY    STYLE    MOVIES    WEATHER    MOBILE           Yahoo Sports Sign in   Mail Sign in to view your mail    Sports Home   Sports Home  Fantasy   Fantasy   Fantasy FootballFantasy Football Fantasy HockeyFantasy Hockey Fantasy BasketballFantasy Basketball Fantasy Auto RacingFantasy Auto Racing Fantasy Go...</td>\n",
       "      <td>Global Hydrogen Fueling Station Markets to Current State and Future Prognosis of Passenger Hydrogen Fuel Cell Vehicles FCVs</td>\n",
       "      <td>Global Hydrogen Fueling Station Markets to Current State and Future Prognosis of Passenger Hydrogen Fuel Cell Vehicles FCVs HOME MAIL NEWS SPORTS FINANCE CELEBRITY STYLE MOVIES WEATHER MOBILE Yahoo Sports Sign in Mail Sign in to view your mail Sports Home Sports Home Fantasy Fantasy Fantasy FootballFantasy Football Fantasy HockeyFantasy Hockey Fantasy BasketballFantasy Basketball Fantasy Auto RacingFantasy Auto Racing Fantasy GolfFantasy Golf Fantasy BaseballFantasy Baseball NHL NHL NHL Home...</td>\n",
       "    </tr>\n",
       "    <tr>\n",
       "      <th>3</th>\n",
       "      <td>https://cardealermagazine.co.uk/publish/july-20-backlash-over-covid-passports-cummings-leaks-more-pm-texts-extreme-heat-warning-anniversary-mini-cooper-jcw-revealed/228570</td>\n",
       "      <td>2021-07-20</td>\n",
       "      <td>en</td>\n",
       "      <td>July 20: Backlash over Covid passports; Cummings leaks more PM texts; Extreme heat warning; Anniversary Mini Cooper JCW revealed – Car Dealer Magazine</td>\n",
       "      <td>July 20: Backlash over Covid passports; Cummings leaks more PM texts; Extreme heat warning; Anniversary Mini Cooper JCW revealed – Car Dealer Magazine Log inCar Dealer Magazine LogoThe logo for Car Dealer Magazine Log inLatestUsed CarsLiveForumJobsPowerUCA 2020UCA 2021KnowledgeSuppliers GuideLatest IssueTop 100Home &gt; News Round-Up &gt; July 20: Backlash over Covid passports; Cummings leaks more PM texts; Extreme heat warning; Anniversary Mini Cooper JCW revealedNews Round-UpJuly 20: Backlash ov...</td>\n",
       "      <td>July Backlash over Covid passports Cummings leaks more PM texts Extreme heat warning Anniversary Mini Cooper JCW revealed Car Dealer Magazine</td>\n",
       "      <td>July Backlash over Covid passports Cummings leaks more PM texts Extreme heat warning Anniversary Mini Cooper JCW revealed Car Dealer Magazine Log inCar Dealer Magazine LogoThe logo for Car Dealer Magazine Log inLatestUsed CarsLiveForumJobsPowerUCA UCA KnowledgeSuppliers GuideLatest IssueTop Home News RoundUp July Backlash over Covid passports Cummings leaks more PM texts Extreme heat warning Anniversary Mini Cooper JCW revealedNews RoundUpJuly Backlash over Covid passports Cummings leaks mor...</td>\n",
       "    </tr>\n",
       "    <tr>\n",
       "      <th>4</th>\n",
       "      <td>https://fox5sandiego.com/news/local-news/nonprofit-threatens-lawsuit-over-whales-found-dead-at-naval-base-san-diego/</td>\n",
       "      <td>2021-05-17</td>\n",
       "      <td>en</td>\n",
       "      <td>Nonprofit threatens lawsuit over whales found dead at Naval Base San Diego | FOX 5 San Diego</td>\n",
       "      <td>Nonprofit threatens lawsuit over whales found dead at Naval Base San Diego | FOX 5 San DiegoSkip to contentFOX 5 San DiegoSan Diego65°Sponsored By Toggle MenuOpen NavigationClose NavigationSearchPrimary MenuVideoFOX 5 News LiveLive EventsFOX 5 News NowVideo CenterFOX 5 Program ScheduleNewsNews AppsEmail NewslettersNews tips and story ideasLocalCaliforniaNationalWorldCOVID-19HealthEarthquakesEntertainmentBusinessTechnologyMorning NewsAuto UpdateVideo Game &amp; Pop Culture NewsPoliticsTrafficExp...</td>\n",
       "      <td>Nonprofit threatens lawsuit over whales found dead at Naval Base San Diego FOX San Diego</td>\n",
       "      <td>Nonprofit threatens lawsuit over whales found dead at Naval Base San Diego FOX San DiegoSkip to contentFOX San DiegoSan DiegoSponsored By Toggle MenuOpen NavigationClose NavigationSearchPrimary MenuVideoFOX News LiveLive EventsFOX News NowVideo CenterFOX Program ScheduleNewsNews AppsEmail NewslettersNews tips and story ideasLocalCaliforniaNationalWorldCOVIDHealthEarthquakesEntertainmentBusinessTechnologyMorning NewsAuto UpdateVideo Game Pop Culture NewsPoliticsTrafficExplore San DiegoMystery...</td>\n",
       "    </tr>\n",
       "  </tbody>\n",
       "</table>\n",
       "</div>"
      ],
      "text/plain": [
       "                                                                                                                                                                           url  \\\n",
       "0                                                                       http://kokomoperspective.com/obituaries/jon-w-horton/article_b6ba8e1e-cb9c-11eb-9868-fb11b88b9778.html   \n",
       "1                           https://auto.economictimes.indiatimes.com/news/auto-components/birla-precision-to-ramp-up-capacity-to-tap-emerging-opportunities-in-india/81254902   \n",
       "2                                                                              https://ca.sports.yahoo.com/news/global-hydrogen-fueling-station-markets-104800330.html?src=rss   \n",
       "3  https://cardealermagazine.co.uk/publish/july-20-backlash-over-covid-passports-cummings-leaks-more-pm-texts-extreme-heat-warning-anniversary-mini-cooper-jcw-revealed/228570   \n",
       "4                                                         https://fox5sandiego.com/news/local-news/nonprofit-threatens-lawsuit-over-whales-found-dead-at-naval-base-san-diego/   \n",
       "\n",
       "        date language  \\\n",
       "0 2021-06-13       en   \n",
       "1 2021-02-28       en   \n",
       "2 2021-12-07       en   \n",
       "3 2021-07-20       en   \n",
       "4 2021-05-17       en   \n",
       "\n",
       "                                                                                                                                                    title  \\\n",
       "0                                                                                                      Jon W. Horton | Obituaries | kokomoperspective.com   \n",
       "1                                                          Birla Precision to ramp up capacity to tap emerging opportunities in India, Auto News, ET Auto   \n",
       "2                     Global Hydrogen Fueling Station Markets to 2035: Current State and Future Prognosis of Passenger Hydrogen Fuel Cell Vehicles (FCVs)   \n",
       "3  July 20: Backlash over Covid passports; Cummings leaks more PM texts; Extreme heat warning; Anniversary Mini Cooper JCW revealed – Car Dealer Magazine   \n",
       "4                                                            Nonprofit threatens lawsuit over whales found dead at Naval Base San Diego | FOX 5 San Diego   \n",
       "\n",
       "                                                                                                                                                                                                                                                                                                                                                                                                                                                                                                                  text  \\\n",
       "0  Jon W. Horton | Obituaries | kokomoperspective.comYou have permission to edit this article. EditCloseSign Up                        Log In                    Dashboard  LogoutMy Account Dashboard Profile Saved items LogoutCOVID-19Click here for the latest local news on COVID-19HomeAbout UsContact UsNewsLocalOpinionPoliticsNationalStateAgricultureLifestylesEngagements/Anniversaries/WeddingsAutosEntertainmentHealthHomesOutdoorsSportsNFLNCAAVitalsObituariesAutomotivee-EditionCouponsGalleries74°...   \n",
       "1      Birla Precision to ramp up capacity to tap emerging opportunities in India, Auto News, ET Auto     We have updated our terms and conditions and privacy policy Click \"Continue\" to accept and continue with ET AutoAccept the updated privacy & cookie policyDear user, ET Auto privacy and cookie policy has been updated to align with the new data regulations in European Union. Please review and accept these changes below to continue using the website.You can see our privacy policy & our cookie ...   \n",
       "2  Global Hydrogen Fueling Station Markets to 2035: Current State and Future Prognosis of Passenger Hydrogen Fuel Cell Vehicles (FCVs)        HOME    MAIL    NEWS    SPORTS    FINANCE    CELEBRITY    STYLE    MOVIES    WEATHER    MOBILE           Yahoo Sports Sign in   Mail Sign in to view your mail    Sports Home   Sports Home  Fantasy   Fantasy   Fantasy FootballFantasy Football Fantasy HockeyFantasy Hockey Fantasy BasketballFantasy Basketball Fantasy Auto RacingFantasy Auto Racing Fantasy Go...   \n",
       "3  July 20: Backlash over Covid passports; Cummings leaks more PM texts; Extreme heat warning; Anniversary Mini Cooper JCW revealed – Car Dealer Magazine Log inCar Dealer Magazine LogoThe logo for Car Dealer Magazine Log inLatestUsed CarsLiveForumJobsPowerUCA 2020UCA 2021KnowledgeSuppliers GuideLatest IssueTop 100Home > News Round-Up > July 20: Backlash over Covid passports; Cummings leaks more PM texts; Extreme heat warning; Anniversary Mini Cooper JCW revealedNews Round-UpJuly 20: Backlash ov...   \n",
       "4   Nonprofit threatens lawsuit over whales found dead at Naval Base San Diego | FOX 5 San DiegoSkip to contentFOX 5 San DiegoSan Diego65°Sponsored By Toggle MenuOpen NavigationClose NavigationSearchPrimary MenuVideoFOX 5 News LiveLive EventsFOX 5 News NowVideo CenterFOX 5 Program ScheduleNewsNews AppsEmail NewslettersNews tips and story ideasLocalCaliforniaNationalWorldCOVID-19HealthEarthquakesEntertainmentBusinessTechnologyMorning NewsAuto UpdateVideo Game & Pop Culture NewsPoliticsTrafficExp...   \n",
       "\n",
       "                                                                                                                                  cleaned_titles  \\\n",
       "0                                                                                                                       Jon W. Horton Obituaries   \n",
       "1                                                   Birla Precision to ramp up capacity to tap emerging opportunities in India Auto News ET Auto   \n",
       "2                    Global Hydrogen Fueling Station Markets to Current State and Future Prognosis of Passenger Hydrogen Fuel Cell Vehicles FCVs   \n",
       "3  July Backlash over Covid passports Cummings leaks more PM texts Extreme heat warning Anniversary Mini Cooper JCW revealed Car Dealer Magazine   \n",
       "4                                                       Nonprofit threatens lawsuit over whales found dead at Naval Base San Diego FOX San Diego   \n",
       "\n",
       "                                                                                                                                                                                                                                                                                                                                                                                                                                                                                                          cleaned_text  \n",
       "0  Jon W. Horton Obituaries have permission to edit this article. EditCloseSign Up Log In Dashboard LogoutMy Account Dashboard Profile Saved items LogoutCOVIDClick here for the latest local news on COVIDHomeAbout UsContact UsNewsLocalOpinionPoliticsNationalStateAgricultureLifestylesEngagementsAnniversariesWeddingsAutosEntertainmentHealthHomesOutdoorsSportsNFLNCAAVitalsObituariesAutomotiveeEditionCouponsGalleriesFair Kokomo IN TodayA few clouds. A stray shower or thunderstorm is possible. Low F....  \n",
       "1  Birla Precision to ramp up capacity to tap emerging opportunities in India Auto News ET Auto We have updated our terms and conditions and privacy policy Click Continue to accept and continue with ET AutoAccept the updated privacy cookie policyDear user ET Auto privacy and cookie policy has been updated to align with the new data regulations in European Union. Please review and accept these changes below to continue using the can see our privacy policy our cookie policy. We use cookies to ens...  \n",
       "2  Global Hydrogen Fueling Station Markets to Current State and Future Prognosis of Passenger Hydrogen Fuel Cell Vehicles FCVs HOME MAIL NEWS SPORTS FINANCE CELEBRITY STYLE MOVIES WEATHER MOBILE Yahoo Sports Sign in Mail Sign in to view your mail Sports Home Sports Home Fantasy Fantasy Fantasy FootballFantasy Football Fantasy HockeyFantasy Hockey Fantasy BasketballFantasy Basketball Fantasy Auto RacingFantasy Auto Racing Fantasy GolfFantasy Golf Fantasy BaseballFantasy Baseball NHL NHL NHL Home...  \n",
       "3  July Backlash over Covid passports Cummings leaks more PM texts Extreme heat warning Anniversary Mini Cooper JCW revealed Car Dealer Magazine Log inCar Dealer Magazine LogoThe logo for Car Dealer Magazine Log inLatestUsed CarsLiveForumJobsPowerUCA UCA KnowledgeSuppliers GuideLatest IssueTop Home News RoundUp July Backlash over Covid passports Cummings leaks more PM texts Extreme heat warning Anniversary Mini Cooper JCW revealedNews RoundUpJuly Backlash over Covid passports Cummings leaks mor...  \n",
       "4  Nonprofit threatens lawsuit over whales found dead at Naval Base San Diego FOX San DiegoSkip to contentFOX San DiegoSan DiegoSponsored By Toggle MenuOpen NavigationClose NavigationSearchPrimary MenuVideoFOX News LiveLive EventsFOX News NowVideo CenterFOX Program ScheduleNewsNews AppsEmail NewslettersNews tips and story ideasLocalCaliforniaNationalWorldCOVIDHealthEarthquakesEntertainmentBusinessTechnologyMorning NewsAuto UpdateVideo Game Pop Culture NewsPoliticsTrafficExplore San DiegoMystery...  "
      ]
     },
     "execution_count": 8,
     "metadata": {},
     "output_type": "execute_result"
    }
   ],
   "source": [
    "# apply clean functions\n",
    "news_df['cleaned_titles'] = news_df['title'].apply(cleaning_text)\n",
    "news_df['cleaned_text'] = news_df['text'].apply(cleaning_text)\n",
    "news_df.head(5)"
   ]
  },
  {
   "cell_type": "markdown",
   "metadata": {},
   "source": [
    "##### Use both NLTK & SpaCy NER packages with and without sentence segmentation to extract named entities\n",
    "Evaluate which of the four models provide the best results\n",
    "- Top-20 list should only be based on your most accurate results from the best NER package"
   ]
  },
  {
   "cell_type": "code",
   "execution_count": 9,
   "metadata": {},
   "outputs": [
    {
     "name": "stderr",
     "output_type": "stream",
     "text": [
      "[nltk_data] Downloading package punkt to /Users/xnxk040/nltk_data...\n",
      "[nltk_data]   Package punkt is already up-to-date!\n",
      "[nltk_data] Downloading package maxent_ne_chunker to\n",
      "[nltk_data]     /Users/xnxk040/nltk_data...\n",
      "[nltk_data]   Package maxent_ne_chunker is already up-to-date!\n",
      "[nltk_data] Downloading package averaged_perceptron_tagger to\n",
      "[nltk_data]     /Users/xnxk040/nltk_data...\n",
      "[nltk_data]   Package averaged_perceptron_tagger is already up-to-\n",
      "[nltk_data]       date!\n"
     ]
    },
    {
     "data": {
      "text/plain": [
       "True"
      ]
     },
     "execution_count": 9,
     "metadata": {},
     "output_type": "execute_result"
    }
   ],
   "source": [
    "from nltk.tokenize import sent_tokenize, word_tokenize\n",
    "from nltk import pos_tag, ne_chunk\n",
    "from nltk.tree import Tree\n",
    "\n",
    "nltk.download(\"punkt\")\n",
    "nltk.download(\"maxent_ne_chunker\")\n",
    "nltk.download(\"averaged_perceptron_tagger\")"
   ]
  },
  {
   "cell_type": "code",
   "execution_count": 10,
   "metadata": {},
   "outputs": [
    {
     "name": "stdout",
     "output_type": "stream",
     "text": [
      "Total CPU Cores: 8\n"
     ]
    }
   ],
   "source": [
    "import multiprocessing as mp\n",
    "\n",
    "num_processors = mp.cpu_count()  # Get total number of CPU cores\n",
    "print(f\"Total CPU Cores: {num_processors}\")"
   ]
  },
  {
   "cell_type": "code",
   "execution_count": 11,
   "metadata": {},
   "outputs": [
    {
     "name": "stdout",
     "output_type": "stream",
     "text": [
      "Using 7 workers\n"
     ]
    }
   ],
   "source": [
    "workers = num_processors - 1  # Leave 1 core unused for overhead\n",
    "print(f\"Using {workers} workers\")"
   ]
  },
  {
   "cell_type": "code",
   "execution_count": 12,
   "metadata": {},
   "outputs": [
    {
     "name": "stdout",
     "output_type": "stream",
     "text": [
      "INFO: Pandarallel will run on 7 workers.\n",
      "INFO: Pandarallel will use standard multiprocessing data transfer (pipe) to transfer data between the main process and workers.\n"
     ]
    }
   ],
   "source": [
    "from pandarallel import pandarallel\n",
    "pandarallel.initialize(nb_workers = workers, progress_bar=True)"
   ]
  },
  {
   "cell_type": "code",
   "execution_count": 13,
   "metadata": {},
   "outputs": [],
   "source": [
    "# extract entities from text using NLTK (without sentence segmentation default)\n",
    "def extract_nltk_entities(text, use_sentence_segmentation=False):\n",
    "    named_entities = []\n",
    "\n",
    "    if not isinstance(text, str) or text.strip() == \"\":\n",
    "        return []  # Return empty list for missing/empty values\n",
    "    \n",
    "    # Sentence segmentation if enabled\n",
    "    sentences = sent_tokenize(text) if use_sentence_segmentation else [text]\n",
    "\n",
    "    for sent in sentences:\n",
    "        words = word_tokenize(sent)\n",
    "        pos_tags = pos_tag(words)\n",
    "        chunked_tree = ne_chunk(pos_tags)\n",
    "\n",
    "        for subtree in chunked_tree:\n",
    "            if isinstance(subtree, Tree):\n",
    "                entity_name = \" \".join(word for word, tag in subtree.leaves())\n",
    "                entity_type = subtree.label()\n",
    "\n",
    "                if entity_type in [\"ORG\", \"GPE\"]:  # Companies & Locations\n",
    "                    named_entities.append((entity_name, entity_type))\n",
    "    \n",
    "    return named_entities"
   ]
  },
  {
   "cell_type": "code",
   "execution_count": 14,
   "metadata": {},
   "outputs": [
    {
     "data": {
      "application/vnd.jupyter.widget-view+json": {
       "model_id": "59c1eac62bd440ba9e5b091179c5df18",
       "version_major": 2,
       "version_minor": 0
      },
      "text/plain": [
       "VBox(children=(HBox(children=(IntProgress(value=0, description='0.00%', max=1444), Label(value='0 / 1444'))), …"
      ]
     },
     "metadata": {},
     "output_type": "display_data"
    }
   ],
   "source": [
    "# Apply NLTK NER to tweets without segmentation\n",
    "tweets_df[\"nltk_entities\"] = tweets_df[\"cleaned_text\"].parallel_apply(extract_nltk_entities)"
   ]
  },
  {
   "cell_type": "code",
   "execution_count": 15,
   "metadata": {},
   "outputs": [
    {
     "data": {
      "application/vnd.jupyter.widget-view+json": {
       "model_id": "5a30f0faf71d4fd4833a717017fe16d8",
       "version_major": 2,
       "version_minor": 0
      },
      "text/plain": [
       "VBox(children=(HBox(children=(IntProgress(value=0, description='0.00%', max=1444), Label(value='0 / 1444'))), …"
      ]
     },
     "metadata": {},
     "output_type": "display_data"
    }
   ],
   "source": [
    "# Apply NLTK NER with sentence segmentation\n",
    "tweets_df[\"nltk_entities_with_seg\"] = tweets_df[\"cleaned_text\"].parallel_apply(\n",
    "    lambda x: extract_nltk_entities(x, use_sentence_segmentation=True)\n",
    ")"
   ]
  },
  {
   "cell_type": "code",
   "execution_count": 16,
   "metadata": {},
   "outputs": [
    {
     "data": {
      "text/html": [
       "<div>\n",
       "<style scoped>\n",
       "    .dataframe tbody tr th:only-of-type {\n",
       "        vertical-align: middle;\n",
       "    }\n",
       "\n",
       "    .dataframe tbody tr th {\n",
       "        vertical-align: top;\n",
       "    }\n",
       "\n",
       "    .dataframe thead th {\n",
       "        text-align: right;\n",
       "    }\n",
       "</style>\n",
       "<table border=\"1\" class=\"dataframe\">\n",
       "  <thead>\n",
       "    <tr style=\"text-align: right;\">\n",
       "      <th></th>\n",
       "      <th>id</th>\n",
       "      <th>lang</th>\n",
       "      <th>date</th>\n",
       "      <th>name</th>\n",
       "      <th>retweeted</th>\n",
       "      <th>text</th>\n",
       "      <th>cleaned_text</th>\n",
       "      <th>nltk_entities</th>\n",
       "      <th>nltk_entities_with_seg</th>\n",
       "    </tr>\n",
       "  </thead>\n",
       "  <tbody>\n",
       "    <tr>\n",
       "      <th>0</th>\n",
       "      <td>1534565117614084096</td>\n",
       "      <td>en</td>\n",
       "      <td>2022-06-08</td>\n",
       "      <td>Low Orbit Tourist 🌍📷</td>\n",
       "      <td></td>\n",
       "      <td>Body &amp;amp; Assembly - Halewood - United Kingdom\\n🌍53.3504,-2.8352296,402m\\n\\nHalewood Body &amp;amp; Assembly is a Jaguar Land Rover factory in Halewood, England, and forms the major part of the Halewood complex which is shared with Ford who manufacture transmissions at the site. [Wikipedia] https://t.co/LPmCnZIaVt</td>\n",
       "      <td>Body amp Assembly Halewood United Kingdom Halewood Body amp Assembly is a Jaguar Land Rover factory in Halewood England and forms the major part of the Halewood complex which is shared with Ford who manufacture transmissions at the site. Wikipedia</td>\n",
       "      <td>[(Body, GPE), (Halewood England, GPE)]</td>\n",
       "      <td>[(Body, GPE), (Halewood England, GPE), (Wikipedia, GPE)]</td>\n",
       "    </tr>\n",
       "    <tr>\n",
       "      <th>1</th>\n",
       "      <td>1534565743429394439</td>\n",
       "      <td>en</td>\n",
       "      <td>2022-06-08</td>\n",
       "      <td>CompleteCar.ie</td>\n",
       "      <td>RT</td>\n",
       "      <td>Land Rover Ireland has announced that the new Range Rover Sport starts at €114,150, now on @completecar:\\n\\nhttps://t.co/TjGUkL3FYr https://t.co/QdVaEiJkjO</td>\n",
       "      <td>Land Rover Ireland has announced that the new Range Rover Sport starts at now on</td>\n",
       "      <td>[(Land, GPE)]</td>\n",
       "      <td>[(Land, GPE)]</td>\n",
       "    </tr>\n",
       "    <tr>\n",
       "      <th>2</th>\n",
       "      <td>1529341557580652545</td>\n",
       "      <td>en</td>\n",
       "      <td>2022-05-25</td>\n",
       "      <td>Exmoor Trim</td>\n",
       "      <td></td>\n",
       "      <td>New Land Rover Range Rover Hits Top Speed With Ease On Autobahn\\n\\nhttps://t.co/19QOgAIu3v</td>\n",
       "      <td>New Land Rover Range Rover Hits Top Speed With Ease On Autobahn</td>\n",
       "      <td>[(New Land, GPE)]</td>\n",
       "      <td>[(New Land, GPE)]</td>\n",
       "    </tr>\n",
       "  </tbody>\n",
       "</table>\n",
       "</div>"
      ],
      "text/plain": [
       "                    id lang       date                  name retweeted  \\\n",
       "0  1534565117614084096   en 2022-06-08  Low Orbit Tourist 🌍📷             \n",
       "1  1534565743429394439   en 2022-06-08        CompleteCar.ie        RT   \n",
       "2  1529341557580652545   en 2022-05-25           Exmoor Trim             \n",
       "\n",
       "                                                                                                                                                                                                                                                                                                                       text  \\\n",
       "0  Body &amp; Assembly - Halewood - United Kingdom\\n🌍53.3504,-2.8352296,402m\\n\\nHalewood Body &amp; Assembly is a Jaguar Land Rover factory in Halewood, England, and forms the major part of the Halewood complex which is shared with Ford who manufacture transmissions at the site. [Wikipedia] https://t.co/LPmCnZIaVt   \n",
       "1                                                                                                                                                               Land Rover Ireland has announced that the new Range Rover Sport starts at €114,150, now on @completecar:\\n\\nhttps://t.co/TjGUkL3FYr https://t.co/QdVaEiJkjO   \n",
       "2                                                                                                                                                                                                                                New Land Rover Range Rover Hits Top Speed With Ease On Autobahn\\n\\nhttps://t.co/19QOgAIu3v   \n",
       "\n",
       "                                                                                                                                                                                                                                              cleaned_text  \\\n",
       "0  Body amp Assembly Halewood United Kingdom Halewood Body amp Assembly is a Jaguar Land Rover factory in Halewood England and forms the major part of the Halewood complex which is shared with Ford who manufacture transmissions at the site. Wikipedia   \n",
       "1                                                                                                                                                                         Land Rover Ireland has announced that the new Range Rover Sport starts at now on   \n",
       "2                                                                                                                                                                                          New Land Rover Range Rover Hits Top Speed With Ease On Autobahn   \n",
       "\n",
       "                            nltk_entities  \\\n",
       "0  [(Body, GPE), (Halewood England, GPE)]   \n",
       "1                           [(Land, GPE)]   \n",
       "2                       [(New Land, GPE)]   \n",
       "\n",
       "                                     nltk_entities_with_seg  \n",
       "0  [(Body, GPE), (Halewood England, GPE), (Wikipedia, GPE)]  \n",
       "1                                             [(Land, GPE)]  \n",
       "2                                         [(New Land, GPE)]  "
      ]
     },
     "execution_count": 16,
     "metadata": {},
     "output_type": "execute_result"
    }
   ],
   "source": [
    "tweets_df.head(3)"
   ]
  },
  {
   "cell_type": "code",
   "execution_count": 17,
   "metadata": {},
   "outputs": [
    {
     "name": "stdout",
     "output_type": "stream",
     "text": [
      "Empty DataFrame\n",
      "Columns: [id, lang, date, name, retweeted, text, cleaned_text, nltk_entities, nltk_entities_with_seg]\n",
      "Index: []\n"
     ]
    }
   ],
   "source": [
    "# check for ORG in nltk_entities_text or nltk_entities_text_with_seg\n",
    "tweets_w_org = tweets_df[\"nltk_entities_with_seg\"].apply(\n",
    "    lambda entities: any(label == \"ORG\" for _, label in entities)\n",
    ")\n",
    "\n",
    "# Print only rows where tweets_w_org is True\n",
    "tweets_with_org_df = tweets_df[tweets_w_org]\n",
    "\n",
    "# Display the filtered DataFrame\n",
    "print(tweets_with_org_df.head())"
   ]
  },
  {
   "cell_type": "code",
   "execution_count": 18,
   "metadata": {},
   "outputs": [
    {
     "data": {
      "application/vnd.jupyter.widget-view+json": {
       "model_id": "a9162a6b53bf4a7e933359a839393811",
       "version_major": 2,
       "version_minor": 0
      },
      "text/plain": [
       "VBox(children=(HBox(children=(IntProgress(value=0, description='0.00%', max=1431), Label(value='0 / 1431'))), …"
      ]
     },
     "metadata": {},
     "output_type": "display_data"
    },
    {
     "data": {
      "application/vnd.jupyter.widget-view+json": {
       "model_id": "c4723d14054b473db36b1aa0ef608176",
       "version_major": 2,
       "version_minor": 0
      },
      "text/plain": [
       "VBox(children=(HBox(children=(IntProgress(value=0, description='0.00%', max=1431), Label(value='0 / 1431'))), …"
      ]
     },
     "metadata": {},
     "output_type": "display_data"
    }
   ],
   "source": [
    "# Apply NLTK NER to news (without segmentation)\n",
    "news_df[\"nltk_entities_title\"] = news_df[\"cleaned_titles\"].parallel_apply(extract_nltk_entities)\n",
    "news_df[\"nltk_entities_text\"] = news_df[\"cleaned_text\"].parallel_apply(extract_nltk_entities)"
   ]
  },
  {
   "cell_type": "code",
   "execution_count": 19,
   "metadata": {},
   "outputs": [
    {
     "name": "stderr",
     "output_type": "stream",
     "text": [
      "python(24332) MallocStackLogging: can't turn off malloc stack logging because it was not enabled.\n"
     ]
    },
    {
     "data": {
      "application/vnd.jupyter.widget-view+json": {
       "model_id": "53c40e4dcc924bcf9b8386c12c5009b7",
       "version_major": 2,
       "version_minor": 0
      },
      "text/plain": [
       "VBox(children=(HBox(children=(IntProgress(value=0, description='0.00%', max=1431), Label(value='0 / 1431'))), …"
      ]
     },
     "metadata": {},
     "output_type": "display_data"
    },
    {
     "name": "stderr",
     "output_type": "stream",
     "text": [
      "python(24333) MallocStackLogging: can't turn off malloc stack logging because it was not enabled.\n",
      "python(24334) MallocStackLogging: can't turn off malloc stack logging because it was not enabled.\n",
      "python(24335) MallocStackLogging: can't turn off malloc stack logging because it was not enabled.\n",
      "python(24336) MallocStackLogging: can't turn off malloc stack logging because it was not enabled.\n",
      "python(24337) MallocStackLogging: can't turn off malloc stack logging because it was not enabled.\n",
      "python(24338) MallocStackLogging: can't turn off malloc stack logging because it was not enabled.\n",
      "python(24339) MallocStackLogging: can't turn off malloc stack logging because it was not enabled.\n",
      "python(28653) MallocStackLogging: can't turn off malloc stack logging because it was not enabled.\n"
     ]
    },
    {
     "data": {
      "application/vnd.jupyter.widget-view+json": {
       "model_id": "3d8a616fb69343fe860d098427a5a243",
       "version_major": 2,
       "version_minor": 0
      },
      "text/plain": [
       "VBox(children=(HBox(children=(IntProgress(value=0, description='0.00%', max=1431), Label(value='0 / 1431'))), …"
      ]
     },
     "metadata": {},
     "output_type": "display_data"
    },
    {
     "name": "stderr",
     "output_type": "stream",
     "text": [
      "python(28654) MallocStackLogging: can't turn off malloc stack logging because it was not enabled.\n",
      "python(28655) MallocStackLogging: can't turn off malloc stack logging because it was not enabled.\n",
      "python(28656) MallocStackLogging: can't turn off malloc stack logging because it was not enabled.\n",
      "python(28657) MallocStackLogging: can't turn off malloc stack logging because it was not enabled.\n",
      "python(28658) MallocStackLogging: can't turn off malloc stack logging because it was not enabled.\n",
      "python(28659) MallocStackLogging: can't turn off malloc stack logging because it was not enabled.\n",
      "python(28665) MallocStackLogging: can't turn off malloc stack logging because it was not enabled.\n"
     ]
    }
   ],
   "source": [
    "# Apply NLTK NER with sentence segmentation\n",
    "news_df[\"nltk_entities_title_with_seg\"] = news_df[\"cleaned_titles\"].parallel_apply(\n",
    "    lambda x: extract_nltk_entities(x, use_sentence_segmentation=True)\n",
    ")\n",
    "news_df[\"nltk_entities_text_with_seg\"] = news_df[\"cleaned_text\"].parallel_apply(\n",
    "    lambda x: extract_nltk_entities(x, use_sentence_segmentation=True)\n",
    ")"
   ]
  },
  {
   "cell_type": "code",
   "execution_count": 20,
   "metadata": {},
   "outputs": [
    {
     "data": {
      "text/html": [
       "<div>\n",
       "<style scoped>\n",
       "    .dataframe tbody tr th:only-of-type {\n",
       "        vertical-align: middle;\n",
       "    }\n",
       "\n",
       "    .dataframe tbody tr th {\n",
       "        vertical-align: top;\n",
       "    }\n",
       "\n",
       "    .dataframe thead th {\n",
       "        text-align: right;\n",
       "    }\n",
       "</style>\n",
       "<table border=\"1\" class=\"dataframe\">\n",
       "  <thead>\n",
       "    <tr style=\"text-align: right;\">\n",
       "      <th></th>\n",
       "      <th>url</th>\n",
       "      <th>date</th>\n",
       "      <th>language</th>\n",
       "      <th>title</th>\n",
       "      <th>text</th>\n",
       "      <th>cleaned_titles</th>\n",
       "      <th>cleaned_text</th>\n",
       "      <th>nltk_entities_title</th>\n",
       "      <th>nltk_entities_text</th>\n",
       "      <th>nltk_entities_title_with_seg</th>\n",
       "      <th>nltk_entities_text_with_seg</th>\n",
       "    </tr>\n",
       "  </thead>\n",
       "  <tbody>\n",
       "    <tr>\n",
       "      <th>0</th>\n",
       "      <td>http://kokomoperspective.com/obituaries/jon-w-horton/article_b6ba8e1e-cb9c-11eb-9868-fb11b88b9778.html</td>\n",
       "      <td>2021-06-13</td>\n",
       "      <td>en</td>\n",
       "      <td>Jon W. Horton | Obituaries | kokomoperspective.com</td>\n",
       "      <td>Jon W. Horton | Obituaries | kokomoperspective.comYou have permission to edit this article. EditCloseSign Up                        Log In                    Dashboard  LogoutMy Account Dashboard Profile Saved items LogoutCOVID-19Click here for the latest local news on COVID-19HomeAbout UsContact UsNewsLocalOpinionPoliticsNationalStateAgricultureLifestylesEngagements/Anniversaries/WeddingsAutosEntertainmentHealthHomesOutdoorsSportsNFLNCAAVitalsObituariesAutomotivee-EditionCouponsGalleries74°...</td>\n",
       "      <td>Jon W. Horton Obituaries</td>\n",
       "      <td>Jon W. Horton Obituaries have permission to edit this article. EditCloseSign Up Log In Dashboard LogoutMy Account Dashboard Profile Saved items LogoutCOVIDClick here for the latest local news on COVIDHomeAbout UsContact UsNewsLocalOpinionPoliticsNationalStateAgricultureLifestylesEngagementsAnniversariesWeddingsAutosEntertainmentHealthHomesOutdoorsSportsNFLNCAAVitalsObituariesAutomotiveeEditionCouponsGalleriesFair Kokomo IN TodayA few clouds. A stray shower or thunderstorm is possible. Low F....</td>\n",
       "      <td>[]</td>\n",
       "      <td>[(Muncie, GPE), (Elwood, GPE), (Tipton, GPE), (St., GPE), (United States Army, GPE), (Vietnam, GPE), (Tipton, GPE), (North, GPE), (North, GPE), (North, GPE), (St., GPE), (Tipton, GPE), (Jons, GPE), (St., GPE), (Los Angeles, GPE), (Chicago, GPE), (Chicago, GPE), (Badger, GPE)]</td>\n",
       "      <td>[]</td>\n",
       "      <td>[(Muncie, GPE), (Elwood, GPE), (Tipton, GPE), (St., GPE), (United States Army, GPE), (Vietnam, GPE), (Tipton, GPE), (North, GPE), (North, GPE), (North, GPE), (Burial, GPE), (St., GPE), (Tipton, GPE), (Visitation, GPE), (Jons, GPE), (St., GPE), (Los Angeles, GPE), (Chicago, GPE), (Newsletters, GPE), (Error, GPE), (Chicago, GPE), (Badger, GPE), (Road, GPE)]</td>\n",
       "    </tr>\n",
       "    <tr>\n",
       "      <th>1</th>\n",
       "      <td>https://auto.economictimes.indiatimes.com/news/auto-components/birla-precision-to-ramp-up-capacity-to-tap-emerging-opportunities-in-india/81254902</td>\n",
       "      <td>2021-02-28</td>\n",
       "      <td>en</td>\n",
       "      <td>Birla Precision to ramp up capacity to tap emerging opportunities in India, Auto News, ET Auto</td>\n",
       "      <td>Birla Precision to ramp up capacity to tap emerging opportunities in India, Auto News, ET Auto     We have updated our terms and conditions and privacy policy Click \"Continue\" to accept and continue with ET AutoAccept the updated privacy &amp; cookie policyDear user, ET Auto privacy and cookie policy has been updated to align with the new data regulations in European Union. Please review and accept these changes below to continue using the website.You can see our privacy policy &amp; our cookie ...</td>\n",
       "      <td>Birla Precision to ramp up capacity to tap emerging opportunities in India Auto News ET Auto</td>\n",
       "      <td>Birla Precision to ramp up capacity to tap emerging opportunities in India Auto News ET Auto We have updated our terms and conditions and privacy policy Click Continue to accept and continue with ET AutoAccept the updated privacy cookie policyDear user ET Auto privacy and cookie policy has been updated to align with the new data regulations in European Union. Please review and accept these changes below to continue using the can see our privacy policy our cookie policy. We use cookies to ens...</td>\n",
       "      <td>[(India, GPE)]</td>\n",
       "      <td>[(India, GPE), (European Union, GPE), (India, GPE), (India, GPE), (European, GPE), (IndiaFocus, GPE), (IndiaIndia, GPE), (India, GPE), (China, GPE), (India, GPE), (Rs, GPE), (India, GPE), (China, GPE), (Chinese, GPE), (Rs, GPE), (Rs, GPE), (China, GPE), (Budget, GPE), (Auto, GPE), (Bavaria, GPE), (Bosch, GPE), (Centre States, GPE), (India, GPE), (India, GPE), (IndiaFor, GPE), (Global, GPE), (India, GPE), (Ola, GPE), (Ola, GPE)]</td>\n",
       "      <td>[(India, GPE)]</td>\n",
       "      <td>[(India, GPE), (European Union, GPE), (Please, GPE), (Ive, GPE), (India, GPE), (India, GPE), (European, GPE), (IndiaFocus, GPE), (IndiaIndia, GPE), (India, GPE), (China, GPE), (India, GPE), (Rs, GPE), (India, GPE), (China, GPE), (Chinese, GPE), (Rs, GPE), (Rs, GPE), (China, GPE), (Budget, GPE), (Auto, GPE), (Bavaria, GPE), (Bosch, GPE), (Centre States, GPE), (India, GPE), (India, GPE), (IndiaFor, GPE), (Global, GPE), (India, GPE), (Ola, GPE), (Ola, GPE), (Please, GPE)]</td>\n",
       "    </tr>\n",
       "    <tr>\n",
       "      <th>2</th>\n",
       "      <td>https://ca.sports.yahoo.com/news/global-hydrogen-fueling-station-markets-104800330.html?src=rss</td>\n",
       "      <td>2021-12-07</td>\n",
       "      <td>en</td>\n",
       "      <td>Global Hydrogen Fueling Station Markets to 2035: Current State and Future Prognosis of Passenger Hydrogen Fuel Cell Vehicles (FCVs)</td>\n",
       "      <td>Global Hydrogen Fueling Station Markets to 2035: Current State and Future Prognosis of Passenger Hydrogen Fuel Cell Vehicles (FCVs)        HOME    MAIL    NEWS    SPORTS    FINANCE    CELEBRITY    STYLE    MOVIES    WEATHER    MOBILE           Yahoo Sports Sign in   Mail Sign in to view your mail    Sports Home   Sports Home  Fantasy   Fantasy   Fantasy FootballFantasy Football Fantasy HockeyFantasy Hockey Fantasy BasketballFantasy Basketball Fantasy Auto RacingFantasy Auto Racing Fantasy Go...</td>\n",
       "      <td>Global Hydrogen Fueling Station Markets to Current State and Future Prognosis of Passenger Hydrogen Fuel Cell Vehicles FCVs</td>\n",
       "      <td>Global Hydrogen Fueling Station Markets to Current State and Future Prognosis of Passenger Hydrogen Fuel Cell Vehicles FCVs HOME MAIL NEWS SPORTS FINANCE CELEBRITY STYLE MOVIES WEATHER MOBILE Yahoo Sports Sign in Mail Sign in to view your mail Sports Home Sports Home Fantasy Fantasy Fantasy FootballFantasy Football Fantasy HockeyFantasy Hockey Fantasy BasketballFantasy Basketball Fantasy Auto RacingFantasy Auto Racing Fantasy GolfFantasy Golf Fantasy BaseballFantasy Baseball NHL NHL NHL Home...</td>\n",
       "      <td>[]</td>\n",
       "      <td>[(Mail, GPE), (AsiaPacific, GPE), (Japan, GPE), (China, GPE), (Denmark, GPE), (California, GPE), (Europe, GPE), (Germany, GPE), (France, GPE), (Netherlands, GPE), (California, GPE), (Topics, GPE), (Middle East, GPE), (Hockey, GPE), (China, GPE), (Portland, GPE), (Miami, GPE), (Canadian, GPE), (Leafs, GPE), (COVID, GPE), (Week, GPE), (Week, GPE), (Anfield, GPE), (Hockey, GPE), (Island, GPE)]</td>\n",
       "      <td>[]</td>\n",
       "      <td>[(Mail, GPE), (AsiaPacific, GPE), (Japan, GPE), (China, GPE), (Denmark, GPE), (California, GPE), (Europe, GPE), (Germany, GPE), (France, GPE), (Netherlands, GPE), (California, GPE), (Topics, GPE), (Scope, GPE), (Europe, GPE), (Nordic, GPE), (Middle, GPE), (Hydrogen, GPE), (Hockey, GPE), (China, GPE), (Portland, GPE), (Miami, GPE), (Jazz, GPE), (Canadian, GPE), (Leafs, GPE), (COVID, GPE), (Week, GPE), (Week, GPE), (Anfield, GPE), (Hockey, GPE), (Island, GPE), (New, GPE)]</td>\n",
       "    </tr>\n",
       "  </tbody>\n",
       "</table>\n",
       "</div>"
      ],
      "text/plain": [
       "                                                                                                                                                  url  \\\n",
       "0                                              http://kokomoperspective.com/obituaries/jon-w-horton/article_b6ba8e1e-cb9c-11eb-9868-fb11b88b9778.html   \n",
       "1  https://auto.economictimes.indiatimes.com/news/auto-components/birla-precision-to-ramp-up-capacity-to-tap-emerging-opportunities-in-india/81254902   \n",
       "2                                                     https://ca.sports.yahoo.com/news/global-hydrogen-fueling-station-markets-104800330.html?src=rss   \n",
       "\n",
       "        date language  \\\n",
       "0 2021-06-13       en   \n",
       "1 2021-02-28       en   \n",
       "2 2021-12-07       en   \n",
       "\n",
       "                                                                                                                                 title  \\\n",
       "0                                                                                   Jon W. Horton | Obituaries | kokomoperspective.com   \n",
       "1                                       Birla Precision to ramp up capacity to tap emerging opportunities in India, Auto News, ET Auto   \n",
       "2  Global Hydrogen Fueling Station Markets to 2035: Current State and Future Prognosis of Passenger Hydrogen Fuel Cell Vehicles (FCVs)   \n",
       "\n",
       "                                                                                                                                                                                                                                                                                                                                                                                                                                                                                                                  text  \\\n",
       "0  Jon W. Horton | Obituaries | kokomoperspective.comYou have permission to edit this article. EditCloseSign Up                        Log In                    Dashboard  LogoutMy Account Dashboard Profile Saved items LogoutCOVID-19Click here for the latest local news on COVID-19HomeAbout UsContact UsNewsLocalOpinionPoliticsNationalStateAgricultureLifestylesEngagements/Anniversaries/WeddingsAutosEntertainmentHealthHomesOutdoorsSportsNFLNCAAVitalsObituariesAutomotivee-EditionCouponsGalleries74°...   \n",
       "1      Birla Precision to ramp up capacity to tap emerging opportunities in India, Auto News, ET Auto     We have updated our terms and conditions and privacy policy Click \"Continue\" to accept and continue with ET AutoAccept the updated privacy & cookie policyDear user, ET Auto privacy and cookie policy has been updated to align with the new data regulations in European Union. Please review and accept these changes below to continue using the website.You can see our privacy policy & our cookie ...   \n",
       "2  Global Hydrogen Fueling Station Markets to 2035: Current State and Future Prognosis of Passenger Hydrogen Fuel Cell Vehicles (FCVs)        HOME    MAIL    NEWS    SPORTS    FINANCE    CELEBRITY    STYLE    MOVIES    WEATHER    MOBILE           Yahoo Sports Sign in   Mail Sign in to view your mail    Sports Home   Sports Home  Fantasy   Fantasy   Fantasy FootballFantasy Football Fantasy HockeyFantasy Hockey Fantasy BasketballFantasy Basketball Fantasy Auto RacingFantasy Auto Racing Fantasy Go...   \n",
       "\n",
       "                                                                                                                cleaned_titles  \\\n",
       "0                                                                                                     Jon W. Horton Obituaries   \n",
       "1                                 Birla Precision to ramp up capacity to tap emerging opportunities in India Auto News ET Auto   \n",
       "2  Global Hydrogen Fueling Station Markets to Current State and Future Prognosis of Passenger Hydrogen Fuel Cell Vehicles FCVs   \n",
       "\n",
       "                                                                                                                                                                                                                                                                                                                                                                                                                                                                                                          cleaned_text  \\\n",
       "0  Jon W. Horton Obituaries have permission to edit this article. EditCloseSign Up Log In Dashboard LogoutMy Account Dashboard Profile Saved items LogoutCOVIDClick here for the latest local news on COVIDHomeAbout UsContact UsNewsLocalOpinionPoliticsNationalStateAgricultureLifestylesEngagementsAnniversariesWeddingsAutosEntertainmentHealthHomesOutdoorsSportsNFLNCAAVitalsObituariesAutomotiveeEditionCouponsGalleriesFair Kokomo IN TodayA few clouds. A stray shower or thunderstorm is possible. Low F....   \n",
       "1  Birla Precision to ramp up capacity to tap emerging opportunities in India Auto News ET Auto We have updated our terms and conditions and privacy policy Click Continue to accept and continue with ET AutoAccept the updated privacy cookie policyDear user ET Auto privacy and cookie policy has been updated to align with the new data regulations in European Union. Please review and accept these changes below to continue using the can see our privacy policy our cookie policy. We use cookies to ens...   \n",
       "2  Global Hydrogen Fueling Station Markets to Current State and Future Prognosis of Passenger Hydrogen Fuel Cell Vehicles FCVs HOME MAIL NEWS SPORTS FINANCE CELEBRITY STYLE MOVIES WEATHER MOBILE Yahoo Sports Sign in Mail Sign in to view your mail Sports Home Sports Home Fantasy Fantasy Fantasy FootballFantasy Football Fantasy HockeyFantasy Hockey Fantasy BasketballFantasy Basketball Fantasy Auto RacingFantasy Auto Racing Fantasy GolfFantasy Golf Fantasy BaseballFantasy Baseball NHL NHL NHL Home...   \n",
       "\n",
       "  nltk_entities_title  \\\n",
       "0                  []   \n",
       "1      [(India, GPE)]   \n",
       "2                  []   \n",
       "\n",
       "                                                                                                                                                                                                                                                                                                                                                                                                                                nltk_entities_text  \\\n",
       "0                                                                                                                                                             [(Muncie, GPE), (Elwood, GPE), (Tipton, GPE), (St., GPE), (United States Army, GPE), (Vietnam, GPE), (Tipton, GPE), (North, GPE), (North, GPE), (North, GPE), (St., GPE), (Tipton, GPE), (Jons, GPE), (St., GPE), (Los Angeles, GPE), (Chicago, GPE), (Chicago, GPE), (Badger, GPE)]   \n",
       "1  [(India, GPE), (European Union, GPE), (India, GPE), (India, GPE), (European, GPE), (IndiaFocus, GPE), (IndiaIndia, GPE), (India, GPE), (China, GPE), (India, GPE), (Rs, GPE), (India, GPE), (China, GPE), (Chinese, GPE), (Rs, GPE), (Rs, GPE), (China, GPE), (Budget, GPE), (Auto, GPE), (Bavaria, GPE), (Bosch, GPE), (Centre States, GPE), (India, GPE), (India, GPE), (IndiaFor, GPE), (Global, GPE), (India, GPE), (Ola, GPE), (Ola, GPE)]   \n",
       "2                                        [(Mail, GPE), (AsiaPacific, GPE), (Japan, GPE), (China, GPE), (Denmark, GPE), (California, GPE), (Europe, GPE), (Germany, GPE), (France, GPE), (Netherlands, GPE), (California, GPE), (Topics, GPE), (Middle East, GPE), (Hockey, GPE), (China, GPE), (Portland, GPE), (Miami, GPE), (Canadian, GPE), (Leafs, GPE), (COVID, GPE), (Week, GPE), (Week, GPE), (Anfield, GPE), (Hockey, GPE), (Island, GPE)]   \n",
       "\n",
       "  nltk_entities_title_with_seg  \\\n",
       "0                           []   \n",
       "1               [(India, GPE)]   \n",
       "2                           []   \n",
       "\n",
       "                                                                                                                                                                                                                                                                                                                                                                                                                                                                  nltk_entities_text_with_seg  \n",
       "0                                                                                                                       [(Muncie, GPE), (Elwood, GPE), (Tipton, GPE), (St., GPE), (United States Army, GPE), (Vietnam, GPE), (Tipton, GPE), (North, GPE), (North, GPE), (North, GPE), (Burial, GPE), (St., GPE), (Tipton, GPE), (Visitation, GPE), (Jons, GPE), (St., GPE), (Los Angeles, GPE), (Chicago, GPE), (Newsletters, GPE), (Error, GPE), (Chicago, GPE), (Badger, GPE), (Road, GPE)]  \n",
       "1   [(India, GPE), (European Union, GPE), (Please, GPE), (Ive, GPE), (India, GPE), (India, GPE), (European, GPE), (IndiaFocus, GPE), (IndiaIndia, GPE), (India, GPE), (China, GPE), (India, GPE), (Rs, GPE), (India, GPE), (China, GPE), (Chinese, GPE), (Rs, GPE), (Rs, GPE), (China, GPE), (Budget, GPE), (Auto, GPE), (Bavaria, GPE), (Bosch, GPE), (Centre States, GPE), (India, GPE), (India, GPE), (IndiaFor, GPE), (Global, GPE), (India, GPE), (Ola, GPE), (Ola, GPE), (Please, GPE)]  \n",
       "2  [(Mail, GPE), (AsiaPacific, GPE), (Japan, GPE), (China, GPE), (Denmark, GPE), (California, GPE), (Europe, GPE), (Germany, GPE), (France, GPE), (Netherlands, GPE), (California, GPE), (Topics, GPE), (Scope, GPE), (Europe, GPE), (Nordic, GPE), (Middle, GPE), (Hydrogen, GPE), (Hockey, GPE), (China, GPE), (Portland, GPE), (Miami, GPE), (Jazz, GPE), (Canadian, GPE), (Leafs, GPE), (COVID, GPE), (Week, GPE), (Week, GPE), (Anfield, GPE), (Hockey, GPE), (Island, GPE), (New, GPE)]  "
      ]
     },
     "execution_count": 20,
     "metadata": {},
     "output_type": "execute_result"
    }
   ],
   "source": [
    "news_df.head(3)"
   ]
  },
  {
   "cell_type": "markdown",
   "metadata": {},
   "source": [
    "NLTK did not identify any companies in the text or titles. Only GPE!"
   ]
  },
  {
   "cell_type": "markdown",
   "metadata": {},
   "source": [
    "### spaCy"
   ]
  },
  {
   "cell_type": "code",
   "execution_count": 9,
   "metadata": {},
   "outputs": [
    {
     "name": "stdout",
     "output_type": "stream",
     "text": [
      "3.8.4\n"
     ]
    }
   ],
   "source": [
    "import spacy\n",
    "print(spacy.__version__)"
   ]
  },
  {
   "cell_type": "code",
   "execution_count": 10,
   "metadata": {},
   "outputs": [],
   "source": [
    "from spacy.tokens import Doc\n",
    "from tqdm import tqdm\n",
    "from multiprocessing import cpu_count"
   ]
  },
  {
   "cell_type": "code",
   "execution_count": 11,
   "metadata": {},
   "outputs": [],
   "source": [
    "nlp = spacy.load(\"en_core_web_sm\")\n",
    "\n",
    "def extract_spacy_entities(text):\n",
    "    if not isinstance(text, str) or text.strip() == \"\":\n",
    "        return []  # Handle missing/empty values\n",
    "\n",
    "    doc = nlp(text)  # Process text\n",
    "    return [(ent.text, ent.label_) for ent in doc.ents if ent.label_ in [\"GPE\", \"LOC\", \"ORG\"]]"
   ]
  },
  {
   "cell_type": "code",
   "execution_count": 12,
   "metadata": {},
   "outputs": [],
   "source": [
    "from tqdm.auto import tqdm\n",
    "\n",
    "num_workers = 2\n",
    "\n",
    "# Apply multiprocessing with nlp.pipe()\n",
    "def apply_spacy_multiprocessing(texts):\n",
    "    results = []\n",
    "    for doc in tqdm(nlp.pipe(texts, n_process=2, batch_size=100), total=len(texts), desc=\"Processing with SpaCy\"):\n",
    "        results.append([(ent.text, ent.label_) for ent in doc.ents if ent.label_ in [\"GPE\", \"LOC\", \"ORG\"]])\n",
    "    return results"
   ]
  },
  {
   "cell_type": "code",
   "execution_count": 13,
   "metadata": {},
   "outputs": [
    {
     "data": {
      "application/vnd.jupyter.widget-view+json": {
       "model_id": "6d7a652d44564ca1906bd54cd4b40823",
       "version_major": 2,
       "version_minor": 0
      },
      "text/plain": [
       "Processing with SpaCy:   0%|          | 0/10105 [00:00<?, ?it/s]"
      ]
     },
     "metadata": {},
     "output_type": "display_data"
    }
   ],
   "source": [
    "# Apply without sentence segmentation\n",
    "tweets_df[\"spacy_entities\"] = apply_spacy_multiprocessing(tweets_df[\"cleaned_text\"].tolist())"
   ]
  },
  {
   "cell_type": "code",
   "execution_count": 14,
   "metadata": {
    "scrolled": true
   },
   "outputs": [
    {
     "data": {
      "application/vnd.jupyter.widget-view+json": {
       "model_id": "878485e2615942a0a625c6392b3b4193",
       "version_major": 2,
       "version_minor": 0
      },
      "text/plain": [
       "Processing with SpaCy:   0%|          | 0/10012 [00:00<?, ?it/s]"
      ]
     },
     "metadata": {},
     "output_type": "display_data"
    }
   ],
   "source": [
    "news_df[\"spacy_entities_title\"] = apply_spacy_multiprocessing(news_df[\"cleaned_titles\"].tolist())"
   ]
  },
  {
   "cell_type": "code",
   "execution_count": 15,
   "metadata": {},
   "outputs": [
    {
     "data": {
      "application/vnd.jupyter.widget-view+json": {
       "model_id": "0e607d0d150d45b3bb210a5a60218e28",
       "version_major": 2,
       "version_minor": 0
      },
      "text/plain": [
       "Processing with SpaCy:   0%|          | 0/10012 [00:00<?, ?it/s]"
      ]
     },
     "metadata": {},
     "output_type": "display_data"
    }
   ],
   "source": [
    "news_df[\"spacy_entities_text\"] = apply_spacy_multiprocessing(news_df[\"cleaned_text\"].tolist())"
   ]
  },
  {
   "cell_type": "code",
   "execution_count": 16,
   "metadata": {},
   "outputs": [
    {
     "data": {
      "text/html": [
       "<div>\n",
       "<style scoped>\n",
       "    .dataframe tbody tr th:only-of-type {\n",
       "        vertical-align: middle;\n",
       "    }\n",
       "\n",
       "    .dataframe tbody tr th {\n",
       "        vertical-align: top;\n",
       "    }\n",
       "\n",
       "    .dataframe thead th {\n",
       "        text-align: right;\n",
       "    }\n",
       "</style>\n",
       "<table border=\"1\" class=\"dataframe\">\n",
       "  <thead>\n",
       "    <tr style=\"text-align: right;\">\n",
       "      <th></th>\n",
       "      <th>url</th>\n",
       "      <th>date</th>\n",
       "      <th>language</th>\n",
       "      <th>title</th>\n",
       "      <th>text</th>\n",
       "      <th>cleaned_titles</th>\n",
       "      <th>cleaned_text</th>\n",
       "      <th>spacy_entities_title</th>\n",
       "      <th>spacy_entities_text</th>\n",
       "    </tr>\n",
       "  </thead>\n",
       "  <tbody>\n",
       "    <tr>\n",
       "      <th>0</th>\n",
       "      <td>http://kokomoperspective.com/obituaries/jon-w-horton/article_b6ba8e1e-cb9c-11eb-9868-fb11b88b9778.html</td>\n",
       "      <td>2021-06-13</td>\n",
       "      <td>en</td>\n",
       "      <td>Jon W. Horton | Obituaries | kokomoperspective.com</td>\n",
       "      <td>Jon W. Horton | Obituaries | kokomoperspective.comYou have permission to edit this article. EditCloseSign Up                        Log In                    Dashboard  LogoutMy Account Dashboard Profile Saved items LogoutCOVID-19Click here for the latest local news on COVID-19HomeAbout UsContact UsNewsLocalOpinionPoliticsNationalStateAgricultureLifestylesEngagements/Anniversaries/WeddingsAutosEntertainmentHealthHomesOutdoorsSportsNFLNCAAVitalsObituariesAutomotivee-EditionCouponsGalleries74°...</td>\n",
       "      <td>Jon W. Horton Obituaries</td>\n",
       "      <td>Jon W. Horton Obituaries have permission to edit this article. EditCloseSign Up Log In Dashboard LogoutMy Account Dashboard Profile Saved items LogoutCOVIDClick here for the latest local news on COVIDHomeAbout UsContact UsNewsLocalOpinionPoliticsNationalStateAgricultureLifestylesEngagementsAnniversariesWeddingsAutosEntertainmentHealthHomesOutdoorsSportsNFLNCAAVitalsObituariesAutomotiveeEditionCouponsGalleriesFair Kokomo IN TodayA few clouds. A stray shower or thunderstorm is possible. Low F....</td>\n",
       "      <td>[]</td>\n",
       "      <td>[(COVIDHomeAbout UsContact UsNewsLocalOpinionPoliticsNationalStateAgricultureLifestylesEngagementsAnniversariesWeddingsAutosEntertainmentHealthHomesOutdoorsSportsNFLNCAAVitalsObituariesAutomotiveeEditionCouponsGalleriesFair Kokomo, ORG), (Tipton, ORG), (Muncie, GPE), (Elwood Indiana, GPE), (Quaker Oats, ORG), (Steel Parts, ORG), (Tipton, GPE), (St., GPE), (the Baptist Catholic Church, ORG), (the American Legion, ORG), (Indiana University, ORG), (Indiana Colts fan, ORG), (the United States Ar...</td>\n",
       "    </tr>\n",
       "    <tr>\n",
       "      <th>1</th>\n",
       "      <td>https://auto.economictimes.indiatimes.com/news/auto-components/birla-precision-to-ramp-up-capacity-to-tap-emerging-opportunities-in-india/81254902</td>\n",
       "      <td>2021-02-28</td>\n",
       "      <td>en</td>\n",
       "      <td>Birla Precision to ramp up capacity to tap emerging opportunities in India, Auto News, ET Auto</td>\n",
       "      <td>Birla Precision to ramp up capacity to tap emerging opportunities in India, Auto News, ET Auto     We have updated our terms and conditions and privacy policy Click \"Continue\" to accept and continue with ET AutoAccept the updated privacy &amp; cookie policyDear user, ET Auto privacy and cookie policy has been updated to align with the new data regulations in European Union. Please review and accept these changes below to continue using the website.You can see our privacy policy &amp; our cookie ...</td>\n",
       "      <td>Birla Precision to ramp up capacity to tap emerging opportunities in India Auto News ET Auto</td>\n",
       "      <td>Birla Precision to ramp up capacity to tap emerging opportunities in India Auto News ET Auto We have updated our terms and conditions and privacy policy Click Continue to accept and continue with ET AutoAccept the updated privacy cookie policyDear user ET Auto privacy and cookie policy has been updated to align with the new data regulations in European Union. Please review and accept these changes below to continue using the can see our privacy policy our cookie policy. We use cookies to ens...</td>\n",
       "      <td>[(India Auto News ET Auto, ORG)]</td>\n",
       "      <td>[(India Auto News ET Auto, ORG), (European Union, ORG), (NamePurpose Daily NewsletterReceive, ORG), (MailersReceive, ORG), (LaunchesRaw, ORG), (India, GPE), (agoJaguar Land Rover, ORG), (India, GPE), (IndiaCan PSA Group, ORG), (European carmakersHow Suzuki, ORG), (IndiaFocus, ORG), (INR, ORG), (Bengaluru, GPE), (smart campusSuzuki Motor, ORG), (MM, GPE), (Swaraj Tractor, ORG), (wayFeatures, ORG), (Convention IIIndian Auto Industry Status Report ET Auto, ORG), (IndiaIndia, ORG), (India, GPE),...</td>\n",
       "    </tr>\n",
       "    <tr>\n",
       "      <th>2</th>\n",
       "      <td>https://ca.sports.yahoo.com/news/global-hydrogen-fueling-station-markets-104800330.html?src=rss</td>\n",
       "      <td>2021-12-07</td>\n",
       "      <td>en</td>\n",
       "      <td>Global Hydrogen Fueling Station Markets to 2035: Current State and Future Prognosis of Passenger Hydrogen Fuel Cell Vehicles (FCVs)</td>\n",
       "      <td>Global Hydrogen Fueling Station Markets to 2035: Current State and Future Prognosis of Passenger Hydrogen Fuel Cell Vehicles (FCVs)        HOME    MAIL    NEWS    SPORTS    FINANCE    CELEBRITY    STYLE    MOVIES    WEATHER    MOBILE           Yahoo Sports Sign in   Mail Sign in to view your mail    Sports Home   Sports Home  Fantasy   Fantasy   Fantasy FootballFantasy Football Fantasy HockeyFantasy Hockey Fantasy BasketballFantasy Basketball Fantasy Auto RacingFantasy Auto Racing Fantasy Go...</td>\n",
       "      <td>Global Hydrogen Fueling Station Markets to Current State and Future Prognosis of Passenger Hydrogen Fuel Cell Vehicles FCVs</td>\n",
       "      <td>Global Hydrogen Fueling Station Markets to Current State and Future Prognosis of Passenger Hydrogen Fuel Cell Vehicles FCVs HOME MAIL NEWS SPORTS FINANCE CELEBRITY STYLE MOVIES WEATHER MOBILE Yahoo Sports Sign in Mail Sign in to view your mail Sports Home Sports Home Fantasy Fantasy Fantasy FootballFantasy Football Fantasy HockeyFantasy Hockey Fantasy BasketballFantasy Basketball Fantasy Auto RacingFantasy Auto Racing Fantasy GolfFantasy Golf Fantasy BaseballFantasy Baseball NHL NHL NHL Home...</td>\n",
       "      <td>[(Global Hydrogen Fueling Station Markets, ORG), (Current State and Future Prognosis of Passenger Hydrogen Fuel Cell Vehicles, ORG)]</td>\n",
       "      <td>[(Global Hydrogen Fueling Station Markets, ORG), (Current State and Future Prognosis of Passenger Hydrogen Fuel Cell Vehicles FCVs HOME MAIL NEWS SPORTS, ORG), (Sports Home Sports Home, ORG), (NHL, ORG), (NHL, ORG), (Home Scores SchedulesScores Schedules, ORG), (NBA, ORG), (NBA NBA, ORG), (Home Scores SchedulesScores Schedules StandingsStandings StatsStats TeamsTeams PlayersPlayers, ORG), (NFL, ORG), (NFL, ORG), (NFL, ORG), (Home Scores SchedulesScores Schedules StandingsStandings StatsStats...</td>\n",
       "    </tr>\n",
       "  </tbody>\n",
       "</table>\n",
       "</div>"
      ],
      "text/plain": [
       "                                                                                                                                                  url  \\\n",
       "0                                              http://kokomoperspective.com/obituaries/jon-w-horton/article_b6ba8e1e-cb9c-11eb-9868-fb11b88b9778.html   \n",
       "1  https://auto.economictimes.indiatimes.com/news/auto-components/birla-precision-to-ramp-up-capacity-to-tap-emerging-opportunities-in-india/81254902   \n",
       "2                                                     https://ca.sports.yahoo.com/news/global-hydrogen-fueling-station-markets-104800330.html?src=rss   \n",
       "\n",
       "        date language  \\\n",
       "0 2021-06-13       en   \n",
       "1 2021-02-28       en   \n",
       "2 2021-12-07       en   \n",
       "\n",
       "                                                                                                                                 title  \\\n",
       "0                                                                                   Jon W. Horton | Obituaries | kokomoperspective.com   \n",
       "1                                       Birla Precision to ramp up capacity to tap emerging opportunities in India, Auto News, ET Auto   \n",
       "2  Global Hydrogen Fueling Station Markets to 2035: Current State and Future Prognosis of Passenger Hydrogen Fuel Cell Vehicles (FCVs)   \n",
       "\n",
       "                                                                                                                                                                                                                                                                                                                                                                                                                                                                                                                  text  \\\n",
       "0  Jon W. Horton | Obituaries | kokomoperspective.comYou have permission to edit this article. EditCloseSign Up                        Log In                    Dashboard  LogoutMy Account Dashboard Profile Saved items LogoutCOVID-19Click here for the latest local news on COVID-19HomeAbout UsContact UsNewsLocalOpinionPoliticsNationalStateAgricultureLifestylesEngagements/Anniversaries/WeddingsAutosEntertainmentHealthHomesOutdoorsSportsNFLNCAAVitalsObituariesAutomotivee-EditionCouponsGalleries74°...   \n",
       "1      Birla Precision to ramp up capacity to tap emerging opportunities in India, Auto News, ET Auto     We have updated our terms and conditions and privacy policy Click \"Continue\" to accept and continue with ET AutoAccept the updated privacy & cookie policyDear user, ET Auto privacy and cookie policy has been updated to align with the new data regulations in European Union. Please review and accept these changes below to continue using the website.You can see our privacy policy & our cookie ...   \n",
       "2  Global Hydrogen Fueling Station Markets to 2035: Current State and Future Prognosis of Passenger Hydrogen Fuel Cell Vehicles (FCVs)        HOME    MAIL    NEWS    SPORTS    FINANCE    CELEBRITY    STYLE    MOVIES    WEATHER    MOBILE           Yahoo Sports Sign in   Mail Sign in to view your mail    Sports Home   Sports Home  Fantasy   Fantasy   Fantasy FootballFantasy Football Fantasy HockeyFantasy Hockey Fantasy BasketballFantasy Basketball Fantasy Auto RacingFantasy Auto Racing Fantasy Go...   \n",
       "\n",
       "                                                                                                                cleaned_titles  \\\n",
       "0                                                                                                     Jon W. Horton Obituaries   \n",
       "1                                 Birla Precision to ramp up capacity to tap emerging opportunities in India Auto News ET Auto   \n",
       "2  Global Hydrogen Fueling Station Markets to Current State and Future Prognosis of Passenger Hydrogen Fuel Cell Vehicles FCVs   \n",
       "\n",
       "                                                                                                                                                                                                                                                                                                                                                                                                                                                                                                          cleaned_text  \\\n",
       "0  Jon W. Horton Obituaries have permission to edit this article. EditCloseSign Up Log In Dashboard LogoutMy Account Dashboard Profile Saved items LogoutCOVIDClick here for the latest local news on COVIDHomeAbout UsContact UsNewsLocalOpinionPoliticsNationalStateAgricultureLifestylesEngagementsAnniversariesWeddingsAutosEntertainmentHealthHomesOutdoorsSportsNFLNCAAVitalsObituariesAutomotiveeEditionCouponsGalleriesFair Kokomo IN TodayA few clouds. A stray shower or thunderstorm is possible. Low F....   \n",
       "1  Birla Precision to ramp up capacity to tap emerging opportunities in India Auto News ET Auto We have updated our terms and conditions and privacy policy Click Continue to accept and continue with ET AutoAccept the updated privacy cookie policyDear user ET Auto privacy and cookie policy has been updated to align with the new data regulations in European Union. Please review and accept these changes below to continue using the can see our privacy policy our cookie policy. We use cookies to ens...   \n",
       "2  Global Hydrogen Fueling Station Markets to Current State and Future Prognosis of Passenger Hydrogen Fuel Cell Vehicles FCVs HOME MAIL NEWS SPORTS FINANCE CELEBRITY STYLE MOVIES WEATHER MOBILE Yahoo Sports Sign in Mail Sign in to view your mail Sports Home Sports Home Fantasy Fantasy Fantasy FootballFantasy Football Fantasy HockeyFantasy Hockey Fantasy BasketballFantasy Basketball Fantasy Auto RacingFantasy Auto Racing Fantasy GolfFantasy Golf Fantasy BaseballFantasy Baseball NHL NHL NHL Home...   \n",
       "\n",
       "                                                                                                                   spacy_entities_title  \\\n",
       "0                                                                                                                                    []   \n",
       "1                                                                                                      [(India Auto News ET Auto, ORG)]   \n",
       "2  [(Global Hydrogen Fueling Station Markets, ORG), (Current State and Future Prognosis of Passenger Hydrogen Fuel Cell Vehicles, ORG)]   \n",
       "\n",
       "                                                                                                                                                                                                                                                                                                                                                                                                                                                                                                   spacy_entities_text  \n",
       "0  [(COVIDHomeAbout UsContact UsNewsLocalOpinionPoliticsNationalStateAgricultureLifestylesEngagementsAnniversariesWeddingsAutosEntertainmentHealthHomesOutdoorsSportsNFLNCAAVitalsObituariesAutomotiveeEditionCouponsGalleriesFair Kokomo, ORG), (Tipton, ORG), (Muncie, GPE), (Elwood Indiana, GPE), (Quaker Oats, ORG), (Steel Parts, ORG), (Tipton, GPE), (St., GPE), (the Baptist Catholic Church, ORG), (the American Legion, ORG), (Indiana University, ORG), (Indiana Colts fan, ORG), (the United States Ar...  \n",
       "1  [(India Auto News ET Auto, ORG), (European Union, ORG), (NamePurpose Daily NewsletterReceive, ORG), (MailersReceive, ORG), (LaunchesRaw, ORG), (India, GPE), (agoJaguar Land Rover, ORG), (India, GPE), (IndiaCan PSA Group, ORG), (European carmakersHow Suzuki, ORG), (IndiaFocus, ORG), (INR, ORG), (Bengaluru, GPE), (smart campusSuzuki Motor, ORG), (MM, GPE), (Swaraj Tractor, ORG), (wayFeatures, ORG), (Convention IIIndian Auto Industry Status Report ET Auto, ORG), (IndiaIndia, ORG), (India, GPE),...  \n",
       "2  [(Global Hydrogen Fueling Station Markets, ORG), (Current State and Future Prognosis of Passenger Hydrogen Fuel Cell Vehicles FCVs HOME MAIL NEWS SPORTS, ORG), (Sports Home Sports Home, ORG), (NHL, ORG), (NHL, ORG), (Home Scores SchedulesScores Schedules, ORG), (NBA, ORG), (NBA NBA, ORG), (Home Scores SchedulesScores Schedules StandingsStandings StatsStats TeamsTeams PlayersPlayers, ORG), (NFL, ORG), (NFL, ORG), (NFL, ORG), (Home Scores SchedulesScores Schedules StandingsStandings StatsStats...  "
      ]
     },
     "execution_count": 16,
     "metadata": {},
     "output_type": "execute_result"
    }
   ],
   "source": [
    "news_df.head(3)"
   ]
  },
  {
   "cell_type": "code",
   "execution_count": 18,
   "metadata": {},
   "outputs": [],
   "source": [
    "# Apply with sentence segmentation\n",
    "def extract_spacy_entities_with_segmentation(text):\n",
    "    if not isinstance(text, str) or text.strip() == \"\":\n",
    "        return []\n",
    "    \n",
    "    doc = nlp(text)  # Process the full text\n",
    "    entities = []\n",
    "    \n",
    "    for sent in doc.sents:  # Iterate over each sentence\n",
    "        for ent in sent.ents:  # Extract entities in each sentence\n",
    "            if ent.label_ in [\"GPE\", \"LOC\", \"ORG\"]:\n",
    "                entities.append((ent.text, ent.label_))\n",
    "\n",
    "    return entities"
   ]
  },
  {
   "cell_type": "code",
   "execution_count": 19,
   "metadata": {},
   "outputs": [],
   "source": [
    "def apply_spacy_multiprocessing_with_segmentation(texts):\n",
    "    num_workers = 2\n",
    "    batch_size = 100 \n",
    "\n",
    "    results = []\n",
    "    for doc in tqdm(nlp.pipe(texts, n_process=num_workers, batch_size=batch_size), total=len(texts), desc=\"Processing with SpaCy (Segmented)\"):\n",
    "        entities = []\n",
    "        for sent in doc.sents:\n",
    "            for ent in sent.ents:\n",
    "                if ent.label_ in [\"GPE\", \"LOC\", \"ORG\"]:\n",
    "                    entities.append((ent.text, ent.label_))\n",
    "        results.append(entities)\n",
    "\n",
    "    return results"
   ]
  },
  {
   "cell_type": "code",
   "execution_count": 20,
   "metadata": {},
   "outputs": [
    {
     "data": {
      "application/vnd.jupyter.widget-view+json": {
       "model_id": "d42556439f154ec28cc5c8ad4d053204",
       "version_major": 2,
       "version_minor": 0
      },
      "text/plain": [
       "Processing with SpaCy (Segmented):   0%|          | 0/10105 [00:00<?, ?it/s]"
      ]
     },
     "metadata": {},
     "output_type": "display_data"
    }
   ],
   "source": [
    "tweets_df[\"spacy_entities_with_seg\"] = apply_spacy_multiprocessing_with_segmentation(tweets_df[\"cleaned_text\"].tolist())"
   ]
  },
  {
   "cell_type": "code",
   "execution_count": 21,
   "metadata": {},
   "outputs": [
    {
     "data": {
      "application/vnd.jupyter.widget-view+json": {
       "model_id": "30a8e645710e4052b4db3b4c86193b47",
       "version_major": 2,
       "version_minor": 0
      },
      "text/plain": [
       "Processing with SpaCy (Segmented):   0%|          | 0/10012 [00:00<?, ?it/s]"
      ]
     },
     "metadata": {},
     "output_type": "display_data"
    }
   ],
   "source": [
    "news_df[\"spacy_title_entities_with_seg\"] = apply_spacy_multiprocessing_with_segmentation(news_df[\"cleaned_titles\"].tolist())"
   ]
  },
  {
   "cell_type": "code",
   "execution_count": 22,
   "metadata": {},
   "outputs": [
    {
     "data": {
      "application/vnd.jupyter.widget-view+json": {
       "model_id": "64bb3f19f42f4653be3f9f8256bf9734",
       "version_major": 2,
       "version_minor": 0
      },
      "text/plain": [
       "Processing with SpaCy (Segmented):   0%|          | 0/10012 [00:00<?, ?it/s]"
      ]
     },
     "metadata": {},
     "output_type": "display_data"
    }
   ],
   "source": [
    "news_df[\"spacy_text_entities_with_seg\"] = apply_spacy_multiprocessing_with_segmentation(news_df[\"cleaned_text\"].tolist())"
   ]
  },
  {
   "cell_type": "markdown",
   "metadata": {},
   "source": [
    "##### Identify what is this company name, by looking at the entity distributions across both tweets and news articles\n",
    "Note: while analyzing news articles, extract separate entites from titles and texts"
   ]
  },
  {
   "cell_type": "code",
   "execution_count": 24,
   "metadata": {},
   "outputs": [
    {
     "name": "stdout",
     "output_type": "stream",
     "text": [
      "Collecting matplotlib\n",
      "  Downloading matplotlib-3.10.0-cp310-cp310-macosx_11_0_arm64.whl.metadata (11 kB)\n",
      "Collecting contourpy>=1.0.1 (from matplotlib)\n",
      "  Downloading contourpy-1.3.1-cp310-cp310-macosx_11_0_arm64.whl.metadata (5.4 kB)\n",
      "Collecting cycler>=0.10 (from matplotlib)\n",
      "  Using cached cycler-0.12.1-py3-none-any.whl.metadata (3.8 kB)\n",
      "Collecting fonttools>=4.22.0 (from matplotlib)\n",
      "  Downloading fonttools-4.56.0-cp310-cp310-macosx_10_9_universal2.whl.metadata (101 kB)\n",
      "Collecting kiwisolver>=1.3.1 (from matplotlib)\n",
      "  Downloading kiwisolver-1.4.8-cp310-cp310-macosx_11_0_arm64.whl.metadata (6.2 kB)\n",
      "Requirement already satisfied: numpy>=1.23 in /opt/anaconda3/envs/spacy_env/lib/python3.10/site-packages (from matplotlib) (2.0.1)\n",
      "Requirement already satisfied: packaging>=20.0 in /opt/anaconda3/envs/spacy_env/lib/python3.10/site-packages (from matplotlib) (24.2)\n",
      "Collecting pillow>=8 (from matplotlib)\n",
      "  Downloading pillow-11.1.0-cp310-cp310-macosx_11_0_arm64.whl.metadata (9.1 kB)\n",
      "Collecting pyparsing>=2.3.1 (from matplotlib)\n",
      "  Downloading pyparsing-3.2.1-py3-none-any.whl.metadata (5.0 kB)\n",
      "Requirement already satisfied: python-dateutil>=2.7 in /opt/anaconda3/envs/spacy_env/lib/python3.10/site-packages (from matplotlib) (2.9.0.post0)\n",
      "Requirement already satisfied: six>=1.5 in /opt/anaconda3/envs/spacy_env/lib/python3.10/site-packages (from python-dateutil>=2.7->matplotlib) (1.16.0)\n",
      "Downloading matplotlib-3.10.0-cp310-cp310-macosx_11_0_arm64.whl (8.0 MB)\n",
      "\u001b[2K   \u001b[38;2;114;156;31m━━━━━━━━━━━━━━━━━━━━━━━━━━━━━━━━━━━━━━━━\u001b[0m \u001b[32m8.0/8.0 MB\u001b[0m \u001b[31m19.0 MB/s\u001b[0m eta \u001b[36m0:00:00\u001b[0m[36m0:00:01\u001b[0m[36m0:00:01\u001b[0m\n",
      "\u001b[?25hDownloading contourpy-1.3.1-cp310-cp310-macosx_11_0_arm64.whl (253 kB)\n",
      "Using cached cycler-0.12.1-py3-none-any.whl (8.3 kB)\n",
      "Downloading fonttools-4.56.0-cp310-cp310-macosx_10_9_universal2.whl (2.8 MB)\n",
      "\u001b[2K   \u001b[38;2;114;156;31m━━━━━━━━━━━━━━━━━━━━━━━━━━━━━━━━━━━━━━━━\u001b[0m \u001b[32m2.8/2.8 MB\u001b[0m \u001b[31m19.3 MB/s\u001b[0m eta \u001b[36m0:00:00\u001b[0m\n",
      "\u001b[?25hDownloading kiwisolver-1.4.8-cp310-cp310-macosx_11_0_arm64.whl (65 kB)\n",
      "Downloading pillow-11.1.0-cp310-cp310-macosx_11_0_arm64.whl (3.1 MB)\n",
      "\u001b[2K   \u001b[38;2;114;156;31m━━━━━━━━━━━━━━━━━━━━━━━━━━━━━━━━━━━━━━━━\u001b[0m \u001b[32m3.1/3.1 MB\u001b[0m \u001b[31m20.3 MB/s\u001b[0m eta \u001b[36m0:00:00\u001b[0m\n",
      "\u001b[?25hDownloading pyparsing-3.2.1-py3-none-any.whl (107 kB)\n",
      "Installing collected packages: pyparsing, pillow, kiwisolver, fonttools, cycler, contourpy, matplotlib\n",
      "Successfully installed contourpy-1.3.1 cycler-0.12.1 fonttools-4.56.0 kiwisolver-1.4.8 matplotlib-3.10.0 pillow-11.1.0 pyparsing-3.2.1\n",
      "Note: you may need to restart the kernel to use updated packages.\n"
     ]
    }
   ],
   "source": [
    "%pip install matplotlib"
   ]
  },
  {
   "cell_type": "code",
   "execution_count": 25,
   "metadata": {},
   "outputs": [
    {
     "name": "stderr",
     "output_type": "stream",
     "text": [
      "Matplotlib is building the font cache; this may take a moment.\n"
     ]
    }
   ],
   "source": [
    "import pandas as pd\n",
    "import matplotlib.pyplot as plt\n",
    "from collections import Counter"
   ]
  },
  {
   "cell_type": "markdown",
   "metadata": {},
   "source": [
    "##### Identify what other companies are most frequenly mentioned along with your primary company.\n",
    "What companies are most frequently mentioned within the same document (tweet and news article) as your primary company?"
   ]
  },
  {
   "cell_type": "code",
   "execution_count": 28,
   "metadata": {},
   "outputs": [],
   "source": [
    "# extracting 'ORG'\n",
    "tweets_spacy_orgs = tweets_df['spacy_entities_with_seg'].explode().dropna()\n",
    "tweets_spacy_orgs = tweets_spacy_orgs.apply(\n",
    "    lambda x: x[0] if isinstance(x, tuple) and x[1] == 'ORG' else None).dropna()\n",
    "\n",
    "# extracting 'GPE' and 'LOC'\n",
    "tweets_spacy_loc = tweets_df['spacy_entities_with_seg'].explode().dropna()\n",
    "tweets_spacy_loc = tweets_spacy_loc.apply(\n",
    "    lambda x: x[0] if isinstance(x, tuple) and x[1] in ['GPE', 'LOC'] else None).dropna()"
   ]
  },
  {
   "cell_type": "code",
   "execution_count": 32,
   "metadata": {},
   "outputs": [],
   "source": [
    "# extracting 'ORG' from news titles\n",
    "news_spacy_title_orgs = news_df[\"spacy_title_entities_with_seg\"].explode().dropna()\n",
    "news_spacy_title_orgs = news_spacy_title_orgs.apply(\n",
    "    lambda x: x[0] if isinstance(x, tuple) and x[1] == \"ORG\" else None).dropna()\n",
    "\n",
    "# extracting 'GPE' and 'LOC'\n",
    "news_spacy_title_locations = news_df[\"spacy_title_entities_with_seg\"].explode().dropna()\n",
    "news_spacy_title_locations = news_spacy_title_locations.apply(\n",
    "    lambda x: x[0] if isinstance(x, tuple) and x[1] in [\"GPE\", \"LOC\"] else None).dropna()"
   ]
  },
  {
   "cell_type": "code",
   "execution_count": 33,
   "metadata": {},
   "outputs": [],
   "source": [
    "# extracting 'ORG' from news text\n",
    "news_spacy_orgs = news_df[\"spacy_text_entities_with_seg\"].explode().dropna()\n",
    "news_spacy_orgs = news_spacy_orgs.apply(\n",
    "    lambda x: x[0] if isinstance(x, tuple) and x[1] == \"ORG\" else None).dropna()\n",
    "\n",
    "# extracting 'GPE' and 'LOC'\n",
    "news_spacy_locations = news_df[\"spacy_text_entities_with_seg\"].explode().dropna()\n",
    "news_spacy_locations = news_spacy_locations.apply(\n",
    "    lambda x: x[0] if isinstance(x, tuple) and x[1] in [\"GPE\", \"LOC\"] else None).dropna()"
   ]
  },
  {
   "cell_type": "code",
   "execution_count": 35,
   "metadata": {},
   "outputs": [
    {
     "name": "stdout",
     "output_type": "stream",
     "text": [
      "Most Mentioned Company: MailOnline (8754 mentions)\n"
     ]
    }
   ],
   "source": [
    "# Count frequency of companies\n",
    "org_counts = Counter(tweets_spacy_orgs.tolist() + news_spacy_title_orgs.tolist() + news_spacy_orgs.tolist())\n",
    "\n",
    "# Get the most mentioned company\n",
    "primary_company, primary_company_count = org_counts.most_common(1)[0]\n",
    "\n",
    "print(f\"Most Mentioned Company: {primary_company} ({primary_company_count} mentions)\")"
   ]
  },
  {
   "cell_type": "code",
   "execution_count": 37,
   "metadata": {},
   "outputs": [
    {
     "name": "stdout",
     "output_type": "stream",
     "text": [
      "Top Companies Mentioned Alongside Primary Company:\n",
      "Instagram: 4380 times\n",
      "Prince Philips: 3743 times\n",
      "Britney Spears: 3513 times\n",
      "TimelineYour: 2690 times\n",
      "NYC: 2570 times\n",
      "Oscars: 2310 times\n",
      "Meghan Markle: 1993 times\n",
      "Royal: 1899 times\n",
      "Palace: 1882 times\n",
      "Amazon: 1712 times\n",
      "Crown: 1653 times\n",
      "Paris Hilton: 1488 times\n",
      "Trump: 1465 times\n",
      "Camila Cabello: 1454 times\n",
      "PrintsOur PapersTop: 1352 times\n",
      "TikTok: 1333 times\n",
      "Associated Newspapers LtdPart: 1310 times\n",
      "the Daily Mail The Mail: 1310 times\n",
      "House: 1260 times\n",
      "Tshirt: 1233 times\n"
     ]
    }
   ],
   "source": [
    "# co-mentioned companies\n",
    "def find_comentioned_companies(entities_list, primary_company):\n",
    "    co_mentions = []\n",
    "    for entities in entities_list:\n",
    "        if isinstance(entities, list) and primary_company in [ent[0] for ent in entities]:\n",
    "            co_mentions.extend([ent[0] for ent in entities if ent[1] == \"ORG\" and ent[0] != primary_company])\n",
    "    return Counter(co_mentions).most_common(20)\n",
    "\n",
    "# Get co-mentioned companies\n",
    "co_mentioned_companies = find_comentioned_companies(tweets_df[\"spacy_entities_with_seg\"], primary_company) + \\\n",
    "                         find_comentioned_companies(news_df[\"spacy_title_entities_with_seg\"], primary_company) + \\\n",
    "                         find_comentioned_companies(news_df[\"spacy_text_entities_with_seg\"], primary_company)\n",
    "\n",
    "print(\"Top Companies Mentioned Alongside Primary Company:\")\n",
    "for company, count in co_mentioned_companies[:20]:\n",
    "    print(f\"{company}: {count} times\")"
   ]
  },
  {
   "cell_type": "markdown",
   "metadata": {},
   "source": [
    "##### Identify most frequent locations of events, by extracting appropriate named entities\n",
    "Locations may include countries, states, cities, regions, etc."
   ]
  },
  {
   "cell_type": "code",
   "execution_count": 40,
   "metadata": {},
   "outputs": [
    {
     "data": {
      "image/png": "[encoded data removed]",
      "text/plain": [
       "<Figure size 1000x500 with 1 Axes>"
      ]
     },
     "metadata": {},
     "output_type": "display_data"
    }
   ],
   "source": [
    "# Count most mentioned locations\n",
    "location_counts = Counter(tweets_spacy_loc.tolist() + news_spacy_title_locations.tolist() + news_spacy_locations.tolist())\n",
    "\n",
    "# Get top 20 locations\n",
    "top_locations = location_counts.most_common(20)\n",
    "\n",
    "# Convert to DataFrame\n",
    "top_locations_df = pd.DataFrame(top_locations, columns=[\"Location\", \"Mentions\"])\n",
    "\n",
    "# Plot\n",
    "plt.figure(figsize=(10, 5))\n",
    "plt.barh(top_locations_df[\"Location\"], top_locations_df[\"Mentions\"], color='green')\n",
    "plt.xlabel(\"Mentions\")\n",
    "plt.ylabel(\"Location\")\n",
    "plt.title(\"Top 20 Most Mentioned Locations\")\n",
    "plt.gca().invert_yaxis()\n",
    "plt.show()"
   ]
  },
  {
   "cell_type": "markdown",
   "metadata": {},
   "source": [
    "##### Table/Chart with Top-20 Companies (sorted in descending order)\n",
    "Can use separate tables for titles and texts of news articles"
   ]
  },
  {
   "cell_type": "code",
   "execution_count": 41,
   "metadata": {},
   "outputs": [
    {
     "data": {
      "image/png": "[encoded data removed]",
      "text/plain": [
       "<Figure size 1000x500 with 1 Axes>"
      ]
     },
     "metadata": {},
     "output_type": "display_data"
    }
   ],
   "source": [
    "# Get top 20 most mentioned companies\n",
    "top_companies = org_counts.most_common(20)\n",
    "\n",
    "# Convert to DataFrame for visualization\n",
    "top_companies_df = pd.DataFrame(top_companies, columns=[\"Company\", \"Mentions\"])\n",
    "\n",
    "# Plot\n",
    "plt.figure(figsize=(10, 5))\n",
    "plt.barh(top_companies_df[\"Company\"], top_companies_df[\"Mentions\"], color='blue')\n",
    "plt.xlabel(\"Mentions\")\n",
    "plt.ylabel(\"Company\")\n",
    "plt.title(\"Top 20 Most Mentioned Companies\")\n",
    "plt.gca().invert_yaxis()  # Flip order\n",
    "plt.show()"
   ]
  },
  {
   "cell_type": "markdown",
   "metadata": {},
   "source": [
    "NLTK did not identify any objects. All of the entities were labeled as GPE's. "
   ]
  },
  {
   "cell_type": "code",
   "execution_count": null,
   "metadata": {},
   "outputs": [],
   "source": []
  }
 ],
 "metadata": {
  "kernelspec": {
   "display_name": "Python 3 (ipykernel)",
   "language": "python",
   "name": "python3"
  },
  "language_info": {
   "codemirror_mode": {
    "name": "ipython",
    "version": 3
   },
   "file_extension": ".py",
   "mimetype": "text/x-python",
   "name": "python",
   "nbconvert_exporter": "python",
   "pygments_lexer": "ipython3",
   "version": "3.10.16"
  }
 },
 "nbformat": 4,
 "nbformat_minor": 4
}

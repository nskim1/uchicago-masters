{
 "cells": [
  {
   "cell_type": "markdown",
   "metadata": {},
   "source": [
    "## NLP Class Assignment 3"
   ]
  },
  {
   "cell_type": "code",
   "execution_count": 2,
   "metadata": {},
   "outputs": [],
   "source": [
    "import pandas as pd\n",
    "\n",
    "pd.set_option('display.max_rows', 100)\n",
    "pd.set_option('display.max_columns', None)\n",
    "pd.set_option('display.max_colwidth', 500)"
   ]
  },
  {
   "cell_type": "markdown",
   "metadata": {},
   "source": [
    "#### Read news data"
   ]
  },
  {
   "cell_type": "code",
   "execution_count": 36,
   "metadata": {},
   "outputs": [
    {
     "name": "stdout",
     "output_type": "stream",
     "text": [
      "Sample contains 1,018 news articles\n"
     ]
    },
    {
     "data": {
      "text/html": [
       "<div>\n",
       "<style scoped>\n",
       "    .dataframe tbody tr th:only-of-type {\n",
       "        vertical-align: middle;\n",
       "    }\n",
       "\n",
       "    .dataframe tbody tr th {\n",
       "        vertical-align: top;\n",
       "    }\n",
       "\n",
       "    .dataframe thead th {\n",
       "        text-align: right;\n",
       "    }\n",
       "</style>\n",
       "<table border=\"1\" class=\"dataframe\">\n",
       "  <thead>\n",
       "    <tr style=\"text-align: right;\">\n",
       "      <th></th>\n",
       "      <th>url</th>\n",
       "      <th>date</th>\n",
       "      <th>language</th>\n",
       "      <th>title</th>\n",
       "      <th>text</th>\n",
       "    </tr>\n",
       "  </thead>\n",
       "  <tbody>\n",
       "    <tr>\n",
       "      <th>0</th>\n",
       "      <td>https://auto.hindustantimes.com/lml-bikes/dealers/bodh-gaya</td>\n",
       "      <td>2022-01-21</td>\n",
       "      <td>en</td>\n",
       "      <td>Lml Bikes Car Dealers - Lml Bikes Showrooms in India</td>\n",
       "      <td>Lml Bikes Car Dealers - Lml Bikes Showrooms in India Explore  Friday, 21 January 2022 Log in/Sign up SearchNotificationsTop SectionsAuto NewsCar NewsBike NewsLatestAuto NewsPhotosVideosElectric VehiclesTrendingMy ReadsOffersnewFind carsFind bikesCompare carsCompare bikesEMI calculatorDealersExplore AutoAbout UsContact UsSITEMAPRSSTerms of UsePrivacy PolicyCopyright © HT Media Limited All rights reserved.HomeOffersnewFind carsFind bikesCompare carsCompare bikesEMI calculatorDealersCar NewsBik...</td>\n",
       "    </tr>\n",
       "    <tr>\n",
       "      <th>1</th>\n",
       "      <td>https://auto.hindustantimes.com/pure-ev-bikes/dealers/avadi</td>\n",
       "      <td>2022-01-21</td>\n",
       "      <td>en</td>\n",
       "      <td>Pure Ev Bikes Car Dealers - Pure Ev Bikes Showrooms in India</td>\n",
       "      <td>Pure Ev Bikes Car Dealers - Pure Ev Bikes Showrooms in India Explore  Friday, 21 January 2022 Log in/Sign up SearchNotificationsTop SectionsAuto NewsCar NewsBike NewsLatestAuto NewsPhotosVideosElectric VehiclesTrendingMy ReadsOffersnewFind carsFind bikesCompare carsCompare bikesEMI calculatorDealersExplore AutoAbout UsContact UsSITEMAPRSSTerms of UsePrivacy PolicyCopyright © HT Media Limited All rights reserved.HomeOffersnewFind carsFind bikesCompare carsCompare bikesEMI calculatorDealersCar...</td>\n",
       "    </tr>\n",
       "  </tbody>\n",
       "</table>\n",
       "</div>"
      ],
      "text/plain": [
       "                                                           url       date  \\\n",
       "0  https://auto.hindustantimes.com/lml-bikes/dealers/bodh-gaya 2022-01-21   \n",
       "1  https://auto.hindustantimes.com/pure-ev-bikes/dealers/avadi 2022-01-21   \n",
       "\n",
       "  language                                                         title  \\\n",
       "0       en          Lml Bikes Car Dealers - Lml Bikes Showrooms in India   \n",
       "1       en  Pure Ev Bikes Car Dealers - Pure Ev Bikes Showrooms in India   \n",
       "\n",
       "                                                                                                                                                                                                                                                                                                                                                                                                                                                                                                                  text  \n",
       "0  Lml Bikes Car Dealers - Lml Bikes Showrooms in India Explore  Friday, 21 January 2022 Log in/Sign up SearchNotificationsTop SectionsAuto NewsCar NewsBike NewsLatestAuto NewsPhotosVideosElectric VehiclesTrendingMy ReadsOffersnewFind carsFind bikesCompare carsCompare bikesEMI calculatorDealersExplore AutoAbout UsContact UsSITEMAPRSSTerms of UsePrivacy PolicyCopyright © HT Media Limited All rights reserved.HomeOffersnewFind carsFind bikesCompare carsCompare bikesEMI calculatorDealersCar NewsBik...  \n",
       "1  Pure Ev Bikes Car Dealers - Pure Ev Bikes Showrooms in India Explore  Friday, 21 January 2022 Log in/Sign up SearchNotificationsTop SectionsAuto NewsCar NewsBike NewsLatestAuto NewsPhotosVideosElectric VehiclesTrendingMy ReadsOffersnewFind carsFind bikesCompare carsCompare bikesEMI calculatorDealersExplore AutoAbout UsContact UsSITEMAPRSSTerms of UsePrivacy PolicyCopyright © HT Media Limited All rights reserved.HomeOffersnewFind carsFind bikesCompare carsCompare bikesEMI calculatorDealersCar...  "
      ]
     },
     "execution_count": 36,
     "metadata": {},
     "output_type": "execute_result"
    }
   ],
   "source": [
    "news_path = 'https://storage.googleapis.com/msca-bdp-data-open/news/nlp_a_3_news.json'\n",
    "news_df = pd.read_json(news_path, orient='records', lines=True)\n",
    "\n",
    "print(f'Sample contains {news_df.shape[0]:,.0f} news articles')\n",
    "news_df.head(2)"
   ]
  },
  {
   "cell_type": "markdown",
   "metadata": {},
   "source": [
    "#### Read Tweets data"
   ]
  },
  {
   "cell_type": "code",
   "execution_count": 4,
   "metadata": {},
   "outputs": [
    {
     "name": "stdout",
     "output_type": "stream",
     "text": [
      "Sample contains 1,020 tweets\n"
     ]
    },
    {
     "data": {
      "text/html": [
       "<div>\n",
       "<style scoped>\n",
       "    .dataframe tbody tr th:only-of-type {\n",
       "        vertical-align: middle;\n",
       "    }\n",
       "\n",
       "    .dataframe tbody tr th {\n",
       "        vertical-align: top;\n",
       "    }\n",
       "\n",
       "    .dataframe thead th {\n",
       "        text-align: right;\n",
       "    }\n",
       "</style>\n",
       "<table border=\"1\" class=\"dataframe\">\n",
       "  <thead>\n",
       "    <tr style=\"text-align: right;\">\n",
       "      <th></th>\n",
       "      <th>id</th>\n",
       "      <th>lang</th>\n",
       "      <th>date</th>\n",
       "      <th>name</th>\n",
       "      <th>retweeted</th>\n",
       "      <th>text</th>\n",
       "    </tr>\n",
       "  </thead>\n",
       "  <tbody>\n",
       "    <tr>\n",
       "      <th>0</th>\n",
       "      <td>1491880241782005777</td>\n",
       "      <td>en</td>\n",
       "      <td>2022-02-10</td>\n",
       "      <td>Sir Botalot dropping the Mike!</td>\n",
       "      <td></td>\n",
       "      <td>@singervehicles Will you do a straight swap for my Renault Twingo 1.2 Extreme? \\n\\nThat is awesome! 🔥</td>\n",
       "    </tr>\n",
       "    <tr>\n",
       "      <th>1</th>\n",
       "      <td>1501237946590142469</td>\n",
       "      <td>en</td>\n",
       "      <td>2022-03-08</td>\n",
       "      <td>Sabrina Ghio</td>\n",
       "      <td>RT</td>\n",
       "      <td>Australian GP Qualifying, Melbourne, 8th March 1997. #F1 The Grid ⬇️\\n\\nRow 3:\\n5. Eddie Irvine (Ferrari) +2.512s\\n6. Mika Hakkinen (McLaren-Mercedes) +2.602s\\n\\nRow 4:\\n7. Johnny Herbert (Sauber-Petronas) +2.918s\\n8. Jean Alesi (Benetton-Renault) +3.224s https://t.co/i4IC4LzVVN</td>\n",
       "    </tr>\n",
       "  </tbody>\n",
       "</table>\n",
       "</div>"
      ],
      "text/plain": [
       "                    id lang       date                            name  \\\n",
       "0  1491880241782005777   en 2022-02-10  Sir Botalot dropping the Mike!   \n",
       "1  1501237946590142469   en 2022-03-08                    Sabrina Ghio   \n",
       "\n",
       "  retweeted  \\\n",
       "0             \n",
       "1        RT   \n",
       "\n",
       "                                                                                                                                                                                                                                                                                      text  \n",
       "0                                                                                                                                                                                    @singervehicles Will you do a straight swap for my Renault Twingo 1.2 Extreme? \\n\\nThat is awesome! 🔥  \n",
       "1  Australian GP Qualifying, Melbourne, 8th March 1997. #F1 The Grid ⬇️\\n\\nRow 3:\\n5. Eddie Irvine (Ferrari) +2.512s\\n6. Mika Hakkinen (McLaren-Mercedes) +2.602s\\n\\nRow 4:\\n7. Johnny Herbert (Sauber-Petronas) +2.918s\\n8. Jean Alesi (Benetton-Renault) +3.224s https://t.co/i4IC4LzVVN  "
      ]
     },
     "execution_count": 4,
     "metadata": {},
     "output_type": "execute_result"
    }
   ],
   "source": [
    "tweets_path = 'https://storage.googleapis.com/msca-bdp-data-open/tweets/nlp_a_3_tweets.json'\n",
    "tweets_df = pd.read_json(tweets_path, orient='records', lines=True)\n",
    "print(f'Sample contains {tweets_df.shape[0]:,.0f} tweets')\n",
    "tweets_df.head(2)"
   ]
  },
  {
   "cell_type": "markdown",
   "metadata": {},
   "source": [
    "##### Cleaning Data"
   ]
  },
  {
   "cell_type": "code",
   "execution_count": 32,
   "metadata": {},
   "outputs": [
    {
     "name": "stderr",
     "output_type": "stream",
     "text": [
      "[nltk_data] Downloading package stopwords to\n",
      "[nltk_data]     /Users/xnxk040/nltk_data...\n",
      "[nltk_data]   Package stopwords is already up-to-date!\n"
     ]
    }
   ],
   "source": [
    "import re\n",
    "import nltk\n",
    "nltk.download('stopwords')\n",
    "from nltk.corpus import stopwords\n",
    "\n",
    "stop_words = set(stopwords.words('english'))"
   ]
  },
  {
   "cell_type": "code",
   "execution_count": 39,
   "metadata": {},
   "outputs": [],
   "source": [
    "# Clean News text\n",
    "def cleaning_news(text):\n",
    "    # Missing values\n",
    "    if not isinstance(text, str):\n",
    "        return \"\"\n",
    "    \n",
    "    # Split words where a capital letter follows a lowercase letter (\"AutoNews\" -> \"Auto News\")\n",
    "    text = re.sub(r'([a-z])([A-Z])', r'\\1 \\2', text)\n",
    "\n",
    "    # Lowercasing text\n",
    "    text = text.lower()\n",
    "    \n",
    "    # Remove punctuation\n",
    "    text = re.sub(r'[^\\w\\s]', '', text)\n",
    "\n",
    "    # Remove website elements and UI phrases\n",
    "    text = re.sub(r'log in/sign up|terms of use|privacy policy|copyright .*? all rights reserved', '', text)\n",
    "\n",
    "    # Remove extra spaces\n",
    "    text = re.sub(r'\\s+', ' ', text).strip()\n",
    "\n",
    "    # Tokenize by splitting on spaces\n",
    "    words = text.split()\n",
    " \n",
    "    # Remove stopwords\n",
    "    words = [word for word in words if word not in stopwords.words('english')]\n",
    "\n",
    "    return ' '.join(words) # returning as string"
   ]
  },
  {
   "cell_type": "code",
   "execution_count": 40,
   "metadata": {},
   "outputs": [],
   "source": [
    "# Apply to News Data (choosing 'text' column)\n",
    "news_df['clean_text'] = news_df['text'].apply(cleaning_news)"
   ]
  },
  {
   "cell_type": "code",
   "execution_count": 41,
   "metadata": {},
   "outputs": [
    {
     "data": {
      "text/plain": [
       "0    lml bikes car dealers lml bikes showrooms india explore friday 21 january 2022 log insign search notifications top sections auto news car news bike news latest auto news photos videos electric vehicles trending reads offersnew find cars find bikes compare cars compare bikes emi calculator dealers explore auto us contact us sitemaprss home offersnew find cars find bikes compare cars compare bikes emi calculator dealers car news bike news latest auto news photos videos electric vehicles trendi...\n",
       "1    pure ev bikes car dealers pure ev bikes showrooms india explore friday 21 january 2022 log insign search notifications top sections auto news car news bike news latest auto news photos videos electric vehicles trending reads offersnew find cars find bikes compare cars compare bikes emi calculator dealers explore auto us contact us sitemaprss home offersnew find cars find bikes compare cars compare bikes emi calculator dealers car news bike news latest auto news photos videos electric vehicle...\n",
       "Name: clean_text, dtype: object"
      ]
     },
     "execution_count": 41,
     "metadata": {},
     "output_type": "execute_result"
    }
   ],
   "source": [
    "news_df['clean_text'].head(2)"
   ]
  },
  {
   "cell_type": "code",
   "execution_count": 62,
   "metadata": {},
   "outputs": [],
   "source": [
    "# Cleaning Tweets text\n",
    "def cleaning_tweets(text):\n",
    "    if not isinstance(text, str):\n",
    "        return \"\"\n",
    "    \n",
    "    # lowercasing text\n",
    "    text = text.lower()\n",
    "\n",
    "    # remove @usernames\n",
    "    text = re.sub(r'@\\w+', '', text)\n",
    "\n",
    "    # remove URLs\n",
    "    text = re.sub(r'http\\S+', '', text)\n",
    "\n",
    "    # remove hashtags\n",
    "    text = re.sub(r'#(\\w+)', r'\\1', text)\n",
    "\n",
    "    # remove newlines and extra spaces\n",
    "    text = text.replace(\"\\n\", \" \").strip()\n",
    "    text = re.sub(r'\\s+', ' ', text)\n",
    "\n",
    "    # remove any remaining punctuation (except for periods)\n",
    "    text = re.sub(r'[^\\w\\s.]', '', text)\n",
    "\n",
    "    # remove periods that are not between two numbers\n",
    "    text = re.sub(r'(?<!\\d)\\.(?!\\d)', '', text)\n",
    "\n",
    "    return text"
   ]
  },
  {
   "cell_type": "code",
   "execution_count": 63,
   "metadata": {},
   "outputs": [],
   "source": [
    "# Apply to Tweets Data\n",
    "tweets_df['clean_text'] = tweets_df['text'].apply(cleaning_tweets)"
   ]
  },
  {
   "cell_type": "code",
   "execution_count": 64,
   "metadata": {},
   "outputs": [
    {
     "data": {
      "text/plain": [
       "0                                                                                                                                                     will you do a straight swap for my renault twingo 1.2 extreme that is awesome \n",
       "1    australian gp qualifying melbourne 8th march 1997. f1 the grid  row 3 5. eddie irvine ferrari 2.512s 6. mika hakkinen mclarenmercedes 2.602s row 4 7. johnny herbert sauberpetronas 2.918s 8. jean alesi benettonrenault 3.224s\n",
       "Name: clean_text, dtype: object"
      ]
     },
     "execution_count": 64,
     "metadata": {},
     "output_type": "execute_result"
    }
   ],
   "source": [
    "tweets_df['clean_text'].head(2)"
   ]
  },
  {
   "cell_type": "markdown",
   "metadata": {},
   "source": [
    "##### Determine which news articles (news_df) are similar to each other and which tweets (tweets_df) are more similar to each other.\n",
    "Create n-grams and compare the similarity of the text using Jaccard distance"
   ]
  },
  {
   "cell_type": "code",
   "execution_count": 26,
   "metadata": {},
   "outputs": [],
   "source": [
    "from collections import Counter\n",
    "import matplotlib.pyplot as plt\n",
    "from nltk.util import ngrams\n",
    "import numpy as np"
   ]
  },
  {
   "cell_type": "code",
   "execution_count": 22,
   "metadata": {},
   "outputs": [],
   "source": [
    "# Generate n-grams\n",
    "def generate_ngrams(text, n):\n",
    "    tokens = text.split()\n",
    "    if len(tokens) < n: # Skip if less than n tokens\n",
    "        return []\n",
    "    return [' '.join(grams) for grams in ngrams(tokens, n)]"
   ]
  },
  {
   "cell_type": "code",
   "execution_count": 28,
   "metadata": {},
   "outputs": [],
   "source": [
    "# Count n-grams across dataset\n",
    "def plot_ngram_distribution(df, text_column, n_values, title):\n",
    "    plt.figure(figsize=(10, 5))\n",
    "\n",
    "    total_ngrams_per_n = []\n",
    "    top_10_ngram_frequencies = []\n",
    "\n",
    "    for n in n_values:\n",
    "        all_ngrams = []\n",
    "        for text in df[text_column].dropna(): # remove missing values\n",
    "            all_ngrams.extend(generate_ngrams(text, n))\n",
    "\n",
    "        # Count n-gram occurrences\n",
    "        ngram_counts = Counter(all_ngrams)\n",
    "        total_ngrams = len(all_ngrams) # total number of n-grams\n",
    "        top_10_sum = sum(count for _, count in ngram_counts.most_common(10)) # sum of top 10 n-grams\n",
    "\n",
    "        total_ngrams_per_n.append(total_ngrams)\n",
    "        top_10_ngram_frequencies.append(top_10_sum)\n",
    "\n",
    "        print (f\"n={n}, Total N-Grams: {total_ngrams}, Top 10 N-Grams Sum: {top_10_sum}\")\n",
    "\n",
    "    # Normalize values\n",
    "    normalized_values = np.array(top_10_ngram_frequencies) / np.array(total_ngrams_per_n) * 100\n",
    "\n",
    "    # Plot n-gram\n",
    "    plt.bar(n_values, normalized_values, alpha=0.7)\n",
    "\n",
    "    plt.xlabel(\"N-Gram Size\")\n",
    "    plt.ylabel(\"Frequency of Top 10 N-Grams\")\n",
    "    plt.title(title)\n",
    "    plt.yscale(\"log\")\n",
    "    plt.grid(axis=\"y\", linestyle='--', alpha=0.7)\n",
    "    plt.show()"
   ]
  },
  {
   "cell_type": "markdown",
   "metadata": {},
   "source": [
    "##### Visualize the selection of \"n\""
   ]
  },
  {
   "cell_type": "code",
   "execution_count": 65,
   "metadata": {},
   "outputs": [
    {
     "name": "stdout",
     "output_type": "stream",
     "text": [
      "n=1, Total N-Grams: 1060659, Top 10 N-Grams Sum: 97331\n",
      "n=2, Total N-Grams: 1059641, Top 10 N-Grams Sum: 50593\n",
      "n=3, Total N-Grams: 1058623, Top 10 N-Grams Sum: 45656\n",
      "n=4, Total N-Grams: 1057605, Top 10 N-Grams Sum: 39053\n",
      "n=5, Total N-Grams: 1056587, Top 10 N-Grams Sum: 31919\n",
      "n=6, Total N-Grams: 1055569, Top 10 N-Grams Sum: 24374\n",
      "n=7, Total N-Grams: 1054551, Top 10 N-Grams Sum: 18224\n",
      "n=8, Total N-Grams: 1053533, Top 10 N-Grams Sum: 14473\n",
      "n=9, Total N-Grams: 1052515, Top 10 N-Grams Sum: 13149\n",
      "n=10, Total N-Grams: 1051497, Top 10 N-Grams Sum: 13026\n"
     ]
    },
    {
     "data": {
      "image/png": "[encoded data removed]",
      "text/plain": [
       "<Figure size 1000x500 with 1 Axes>"
      ]
     },
     "metadata": {},
     "output_type": "display_data"
    }
   ],
   "source": [
    "# Plot for news data\n",
    "plot_ngram_distribution(news_df, 'clean_text', range(1, 11), \"N-Gram Selection for News Data\")"
   ]
  },
  {
   "cell_type": "code",
   "execution_count": 66,
   "metadata": {},
   "outputs": [
    {
     "name": "stdout",
     "output_type": "stream",
     "text": [
      "n=1, Total N-Grams: 25905, Top 10 N-Grams Sum: 5486\n",
      "n=2, Total N-Grams: 24885, Top 10 N-Grams Sum: 765\n",
      "n=3, Total N-Grams: 23866, Top 10 N-Grams Sum: 340\n",
      "n=4, Total N-Grams: 22850, Top 10 N-Grams Sum: 319\n",
      "n=5, Total N-Grams: 21839, Top 10 N-Grams Sum: 316\n",
      "n=6, Total N-Grams: 20845, Top 10 N-Grams Sum: 314\n",
      "n=7, Total N-Grams: 19863, Top 10 N-Grams Sum: 312\n",
      "n=8, Total N-Grams: 18903, Top 10 N-Grams Sum: 309\n",
      "n=9, Total N-Grams: 17965, Top 10 N-Grams Sum: 307\n",
      "n=10, Total N-Grams: 17056, Top 10 N-Grams Sum: 305\n"
     ]
    },
    {
     "data": {
      "image/png": "[encoded data removed]",
      "text/plain": [
       "<Figure size 1000x500 with 1 Axes>"
      ]
     },
     "metadata": {},
     "output_type": "display_data"
    }
   ],
   "source": [
    "# Plot for tweets\n",
    "plot_ngram_distribution(tweets_df, 'clean_text', range(1, 11), \"N-Gram Selection for Tweets\")"
   ]
  },
  {
   "cell_type": "markdown",
   "metadata": {},
   "source": [
    "##### Jaccard Distance for Similarity"
   ]
  },
  {
   "cell_type": "code",
   "execution_count": 69,
   "metadata": {},
   "outputs": [],
   "source": [
    "from nltk.metrics import jaccard_distance"
   ]
  },
  {
   "cell_type": "code",
   "execution_count": 103,
   "metadata": {},
   "outputs": [],
   "source": [
    "# compute Jaccards similarity between two sets\n",
    "def jaccard_similarity(text1, text2, n):\n",
    "    ngrams1 = set(generate_ngrams(text1, n))\n",
    "    ngrams2 = set(generate_ngrams(text2, n))\n",
    "\n",
    "    if len(ngrams1 | ngrams2) == 0:  # Prevent division by zero\n",
    "        return 0.0\n",
    "\n",
    "    jaccard_score = len(ngrams1 & ngrams2) / len(ngrams1 | ngrams2)\n",
    "\n",
    "    return round(jaccard_score, 3)  # Round to 3 decimal places"
   ]
  },
  {
   "cell_type": "code",
   "execution_count": 111,
   "metadata": {},
   "outputs": [
    {
     "name": "stdout",
     "output_type": "stream",
     "text": [
      "Tweet 0 n-grams: {'my renault', 'is awesome', 'swap for', 'do a', 'for my', 'a straight', 'straight swap', 'renault twingo', 'you do', '1.2 extreme', 'that is', 'will you', 'twingo 1.2', 'extreme that'}\n",
      "Tweet 1 n-grams: {'8th march', '1997. f1', '2.512s 6.', 'row 3', 'herbert sauberpetronas', 'benettonrenault 3.224s', 'sauberpetronas 2.918s', 'f1 the', '4 7.', '2.602s row', '7. johnny', 'qualifying melbourne', 'the grid', 'melbourne 8th', '8. jean', 'alesi benettonrenault', 'jean alesi', 'hakkinen mclarenmercedes', '3 5.', 'march 1997.', 'gp qualifying', 'mclarenmercedes 2.602s', '2.918s 8.', 'australian gp', 'irvine ferrari', '5. eddie', 'johnny herbert', 'grid row', 'eddie irvine', 'mika hakkinen', '6. mika', 'row 4', 'ferrari 2.512s'}\n",
      "Common n-grams: set()\n",
      "Jaccard Similarity: 0.0\n",
      "-----\n",
      "Tweet 1 n-grams: {'8th march', '1997. f1', '2.512s 6.', 'row 3', 'herbert sauberpetronas', 'benettonrenault 3.224s', 'sauberpetronas 2.918s', 'f1 the', '4 7.', '2.602s row', '7. johnny', 'qualifying melbourne', 'the grid', 'melbourne 8th', '8. jean', 'alesi benettonrenault', 'jean alesi', 'hakkinen mclarenmercedes', '3 5.', 'march 1997.', 'gp qualifying', 'mclarenmercedes 2.602s', '2.918s 8.', 'australian gp', 'irvine ferrari', '5. eddie', 'johnny herbert', 'grid row', 'eddie irvine', 'mika hakkinen', '6. mika', 'row 4', 'ferrari 2.512s'}\n",
      "Tweet 2 n-grams: {'and children', 'children pouring', 'women and', 'ukrainian women', 'from every', 'boycottrenault think', 'the blood', 'of ukrainian', 'every renault', 'renault car', 'think of', 'pouring from', 'of the', 'of thousands', 'thousands of', 'blood of'}\n",
      "Common n-grams: set()\n",
      "Jaccard Similarity: 0.0\n",
      "-----\n",
      "Tweet 2 n-grams: {'and children', 'children pouring', 'women and', 'ukrainian women', 'from every', 'boycottrenault think', 'the blood', 'of ukrainian', 'every renault', 'renault car', 'think of', 'pouring from', 'of the', 'of thousands', 'thousands of', 'blood of'}\n",
      "Tweet 3 n-grams: {'russia still', 'employees while', 'almost 200000', 'of their', 'thousands of', 'their operations', 'suspended cocacola', 'in russia', '200000 workers', 'western payrolls', 'renault levi', 'pay salaries', 'didnt confirm', 'confirm if', 'operations inare', 'still pays', 'while their', 'yum brandskfc', 'payrolls mcdonalds', 'ikea renault', 'cocacola yum', 'strauss ampothers', 'on western', 'salaries to', 'their employees', 'mcdonalds ikea', 'ampothers pay', 'inare suspended', 'workers in', 'they still', 'if they', 'to thousands', 'levi strauss', 'still on', 'brandskfc didnt'}\n",
      "Common n-grams: {'thousands of'}\n",
      "Jaccard Similarity: 0.02\n",
      "-----\n",
      "Tweet 3 n-grams: {'russia still', 'employees while', 'almost 200000', 'of their', 'thousands of', 'their operations', 'suspended cocacola', 'in russia', '200000 workers', 'western payrolls', 'renault levi', 'pay salaries', 'didnt confirm', 'confirm if', 'operations inare', 'still pays', 'while their', 'yum brandskfc', 'payrolls mcdonalds', 'ikea renault', 'cocacola yum', 'strauss ampothers', 'on western', 'salaries to', 'their employees', 'mcdonalds ikea', 'ampothers pay', 'inare suspended', 'workers in', 'they still', 'if they', 'to thousands', 'levi strauss', 'still on', 'brandskfc didnt'}\n",
      "Tweet 4 n-grams: {'28.02.2022 0825662336', 'a test', 'renaulttableviewcliov random', 'cliov and', 'and win', 'tag amp', 'the new', 'book a', 'with the', 'selfie with', 'random winner', 'test drive', 'announced 28.02.2022', 'to book', 'a selfie', 'voucher tag', 'win r1000', 'amp renaulttableviewcliov', 'fuel voucher', 'take a', 'new renault', 'r1000 fuel', 'renault cliov', 'winner announced', '0825662336 to'}\n",
      "Common n-grams: set()\n",
      "Jaccard Similarity: 0.0\n",
      "-----\n",
      "Tweet 4 n-grams: {'28.02.2022 0825662336', 'a test', 'renaulttableviewcliov random', 'cliov and', 'and win', 'tag amp', 'the new', 'book a', 'with the', 'selfie with', 'random winner', 'test drive', 'announced 28.02.2022', 'to book', 'a selfie', 'voucher tag', 'win r1000', 'amp renaulttableviewcliov', 'fuel voucher', 'take a', 'new renault', 'r1000 fuel', 'renault cliov', 'winner announced', '0825662336 to'}\n",
      "Tweet 5 n-grams: {'snow effect', 'montecarlo 19831985', 'new fly', '19831985 special', 'montecarlo plus', 'effect no.10', '5 turbo', 'fly renault', 'special edition', 'no.9 car', 'slotcar set', 'renault 5', 'the no.9', 'of snobeckbechu', 'plus the', 'snobeckbechu 1985', 'turbo rallye', '1985 rallye', 'car of', 'includes the', 'set includes', '1983 rallye', 'the snow', 'ragnottiandrie 1983', 'edition slotcar', 'no.10 car', 'rallye montecarlo', 'of ragnottiandrie'}\n",
      "Common n-grams: set()\n",
      "Jaccard Similarity: 0.0\n",
      "-----\n"
     ]
    }
   ],
   "source": [
    "for i in range(5):  # Check first 5 pairs\n",
    "    text1 = tweets_df.iloc[i]['clean_text']\n",
    "    text2 = tweets_df.iloc[i+1]['clean_text']\n",
    "\n",
    "    ngrams1 = set(generate_ngrams(text1, n_tweets))\n",
    "    ngrams2 = set(generate_ngrams(text2, n_tweets))\n",
    "\n",
    "    print(f\"Tweet {i} n-grams:\", ngrams1)\n",
    "    print(f\"Tweet {i+1} n-grams:\", ngrams2)\n",
    "    print(f\"Common n-grams:\", ngrams1 & ngrams2)\n",
    "    print(f\"Jaccard Similarity:\", len(ngrams1 & ngrams2) / len(ngrams1 | ngrams2))\n",
    "    print(\"-----\")"
   ]
  },
  {
   "cell_type": "code",
   "execution_count": 113,
   "metadata": {},
   "outputs": [
    {
     "name": "stdout",
     "output_type": "stream",
     "text": [
      "[(0, 1, 0.0), (0, 2, 0.0), (0, 3, 0.0), (0, 4, 0.0), (0, 5, 0.0), (0, 6, 0.0), (0, 7, 0.0), (0, 8, 0.0), (0, 9, 0.0), (0, 10, 0.0)]\n"
     ]
    }
   ],
   "source": [
    "# compute Jaccard similarity for Tweets\n",
    "tweets_similarities = []\n",
    "n_tweets = 2\n",
    "\n",
    "for i in range(len(tweets_df)): \n",
    "    for j in range(i+1, len(tweets_df)): #avoiding redundant calcs\n",
    "        similarity = jaccard_similarity(tweets_df.iloc[i]['clean_text'], tweets_df.iloc[j]['clean_text'], n=n_tweets)\n",
    "       \n",
    "        # print(f\"Tweet {i} vs. Tweet {j} - Similarity: {similarity}\")  # debugging\n",
    "        \n",
    "        tweets_similarities.append((i, j, similarity))\n",
    "\n",
    "print(tweets_similarities[:10])  # Print first 10 stored values"
   ]
  },
  {
   "cell_type": "code",
   "execution_count": 127,
   "metadata": {},
   "outputs": [
    {
     "name": "stdout",
     "output_type": "stream",
     "text": [
      "count    519690.000000\n",
      "mean          0.004689\n",
      "std           0.054593\n",
      "min           0.000000\n",
      "25%           0.000000\n",
      "50%           0.000000\n",
      "75%           0.000000\n",
      "max           1.000000\n",
      "Name: Similarity, dtype: float64\n",
      "Similarity\n",
      "0.000    480515\n",
      "0.014      4512\n",
      "0.013      3396\n",
      "0.015      2704\n",
      "0.018      2419\n",
      "          ...  \n",
      "0.286         1\n",
      "0.357         1\n",
      "0.103         1\n",
      "0.371         1\n",
      "0.277         1\n",
      "Name: count, Length: 157, dtype: int64\n"
     ]
    }
   ],
   "source": [
    "# Ensure similarity scores are floats\n",
    "tweets_similarities_fixed = [(t1, t2, float(sim)) for (t1, t2, sim) in tweets_similarities]\n",
    "\n",
    "# convert to df\n",
    "tweets_sim_df = pd.DataFrame(tweets_similarities, columns=['Tweet1', 'Tweet2', 'Similarity'])\n",
    "tweets_sim_df['Similarity'] = tweets_sim_df['Similarity'].astype(float)\n",
    "\n",
    "print(tweets_sim_df['Similarity'].describe())\n",
    "print(tweets_sim_df['Similarity'].value_counts())"
   ]
  },
  {
   "cell_type": "code",
   "execution_count": 135,
   "metadata": {},
   "outputs": [
    {
     "data": {
      "text/html": [
       "<div>\n",
       "<style scoped>\n",
       "    .dataframe tbody tr th:only-of-type {\n",
       "        vertical-align: middle;\n",
       "    }\n",
       "\n",
       "    .dataframe tbody tr th {\n",
       "        vertical-align: top;\n",
       "    }\n",
       "\n",
       "    .dataframe thead th {\n",
       "        text-align: right;\n",
       "    }\n",
       "</style>\n",
       "<table border=\"1\" class=\"dataframe\">\n",
       "  <thead>\n",
       "    <tr style=\"text-align: right;\">\n",
       "      <th></th>\n",
       "      <th>Tweet1</th>\n",
       "      <th>Tweet2</th>\n",
       "      <th>Similarity</th>\n",
       "    </tr>\n",
       "  </thead>\n",
       "  <tbody>\n",
       "    <tr>\n",
       "      <th>187998</th>\n",
       "      <td>205</td>\n",
       "      <td>219</td>\n",
       "      <td>1.0</td>\n",
       "    </tr>\n",
       "    <tr>\n",
       "      <th>124476</th>\n",
       "      <td>130</td>\n",
       "      <td>522</td>\n",
       "      <td>1.0</td>\n",
       "    </tr>\n",
       "    <tr>\n",
       "      <th>82300</th>\n",
       "      <td>84</td>\n",
       "      <td>275</td>\n",
       "      <td>1.0</td>\n",
       "    </tr>\n",
       "    <tr>\n",
       "      <th>345951</th>\n",
       "      <td>430</td>\n",
       "      <td>447</td>\n",
       "      <td>1.0</td>\n",
       "    </tr>\n",
       "    <tr>\n",
       "      <th>369838</th>\n",
       "      <td>472</td>\n",
       "      <td>499</td>\n",
       "      <td>1.0</td>\n",
       "    </tr>\n",
       "    <tr>\n",
       "      <th>369828</th>\n",
       "      <td>472</td>\n",
       "      <td>489</td>\n",
       "      <td>1.0</td>\n",
       "    </tr>\n",
       "    <tr>\n",
       "      <th>369822</th>\n",
       "      <td>472</td>\n",
       "      <td>483</td>\n",
       "      <td>1.0</td>\n",
       "    </tr>\n",
       "    <tr>\n",
       "      <th>369821</th>\n",
       "      <td>472</td>\n",
       "      <td>482</td>\n",
       "      <td>1.0</td>\n",
       "    </tr>\n",
       "    <tr>\n",
       "      <th>188238</th>\n",
       "      <td>205</td>\n",
       "      <td>459</td>\n",
       "      <td>1.0</td>\n",
       "    </tr>\n",
       "    <tr>\n",
       "      <th>272024</th>\n",
       "      <td>315</td>\n",
       "      <td>810</td>\n",
       "      <td>1.0</td>\n",
       "    </tr>\n",
       "  </tbody>\n",
       "</table>\n",
       "</div>"
      ],
      "text/plain": [
       "        Tweet1  Tweet2  Similarity\n",
       "187998     205     219         1.0\n",
       "124476     130     522         1.0\n",
       "82300       84     275         1.0\n",
       "345951     430     447         1.0\n",
       "369838     472     499         1.0\n",
       "369828     472     489         1.0\n",
       "369822     472     483         1.0\n",
       "369821     472     482         1.0\n",
       "188238     205     459         1.0\n",
       "272024     315     810         1.0"
      ]
     },
     "execution_count": 135,
     "metadata": {},
     "output_type": "execute_result"
    }
   ],
   "source": [
    "# top most similar tweets\n",
    "top10_similar_tweets = tweets_sim_df.sort_values(by='Similarity', ascending=False).head(10)\n",
    "top10_similar_tweets"
   ]
  },
  {
   "cell_type": "code",
   "execution_count": 136,
   "metadata": {},
   "outputs": [
    {
     "data": {
      "text/html": [
       "<div>\n",
       "<style scoped>\n",
       "    .dataframe tbody tr th:only-of-type {\n",
       "        vertical-align: middle;\n",
       "    }\n",
       "\n",
       "    .dataframe tbody tr th {\n",
       "        vertical-align: top;\n",
       "    }\n",
       "\n",
       "    .dataframe thead th {\n",
       "        text-align: right;\n",
       "    }\n",
       "</style>\n",
       "<table border=\"1\" class=\"dataframe\">\n",
       "  <thead>\n",
       "    <tr style=\"text-align: right;\">\n",
       "      <th></th>\n",
       "      <th>Tweet1</th>\n",
       "      <th>Tweet2</th>\n",
       "      <th>Similarity</th>\n",
       "    </tr>\n",
       "  </thead>\n",
       "  <tbody>\n",
       "    <tr>\n",
       "      <th>0</th>\n",
       "      <td>0</td>\n",
       "      <td>1</td>\n",
       "      <td>0.0</td>\n",
       "    </tr>\n",
       "    <tr>\n",
       "      <th>340589</th>\n",
       "      <td>421</td>\n",
       "      <td>422</td>\n",
       "      <td>0.0</td>\n",
       "    </tr>\n",
       "    <tr>\n",
       "      <th>340588</th>\n",
       "      <td>420</td>\n",
       "      <td>1019</td>\n",
       "      <td>0.0</td>\n",
       "    </tr>\n",
       "    <tr>\n",
       "      <th>340587</th>\n",
       "      <td>420</td>\n",
       "      <td>1018</td>\n",
       "      <td>0.0</td>\n",
       "    </tr>\n",
       "    <tr>\n",
       "      <th>340586</th>\n",
       "      <td>420</td>\n",
       "      <td>1017</td>\n",
       "      <td>0.0</td>\n",
       "    </tr>\n",
       "    <tr>\n",
       "      <th>340585</th>\n",
       "      <td>420</td>\n",
       "      <td>1016</td>\n",
       "      <td>0.0</td>\n",
       "    </tr>\n",
       "    <tr>\n",
       "      <th>340584</th>\n",
       "      <td>420</td>\n",
       "      <td>1015</td>\n",
       "      <td>0.0</td>\n",
       "    </tr>\n",
       "    <tr>\n",
       "      <th>340583</th>\n",
       "      <td>420</td>\n",
       "      <td>1014</td>\n",
       "      <td>0.0</td>\n",
       "    </tr>\n",
       "    <tr>\n",
       "      <th>340582</th>\n",
       "      <td>420</td>\n",
       "      <td>1013</td>\n",
       "      <td>0.0</td>\n",
       "    </tr>\n",
       "    <tr>\n",
       "      <th>340581</th>\n",
       "      <td>420</td>\n",
       "      <td>1012</td>\n",
       "      <td>0.0</td>\n",
       "    </tr>\n",
       "  </tbody>\n",
       "</table>\n",
       "</div>"
      ],
      "text/plain": [
       "        Tweet1  Tweet2  Similarity\n",
       "0            0       1         0.0\n",
       "340589     421     422         0.0\n",
       "340588     420    1019         0.0\n",
       "340587     420    1018         0.0\n",
       "340586     420    1017         0.0\n",
       "340585     420    1016         0.0\n",
       "340584     420    1015         0.0\n",
       "340583     420    1014         0.0\n",
       "340582     420    1013         0.0\n",
       "340581     420    1012         0.0"
      ]
     },
     "execution_count": 136,
     "metadata": {},
     "output_type": "execute_result"
    }
   ],
   "source": [
    "# top most dissimilar tweets\n",
    "top10_dissimilar_tweets = tweets_sim_df.sort_values(by='Similarity', ascending=True).head(10)\n",
    "top10_dissimilar_tweets"
   ]
  },
  {
   "cell_type": "code",
   "execution_count": 129,
   "metadata": {},
   "outputs": [],
   "source": [
    "# compute Jaccard similarity for News Articles\n",
    "news_similarities = []\n",
    "n_news = 3\n",
    "\n",
    "for i in range(len(news_df)): \n",
    "    for j in range(i+1, len(news_df)): #avoiding redundant calcs\n",
    "        similarity = jaccard_similarity(news_df.iloc[i]['clean_text'], news_df.iloc[j]['clean_text'], n=n_news)\n",
    "        news_similarities.append((i, j, similarity))\n",
    "\n",
    "# convert to df\n",
    "news_sim_df = pd.DataFrame(news_similarities, columns=['Article1', 'Article2', 'Similarity'])"
   ]
  },
  {
   "cell_type": "code",
   "execution_count": 137,
   "metadata": {},
   "outputs": [
    {
     "name": "stdout",
     "output_type": "stream",
     "text": [
      "count    517653.000000\n",
      "mean          0.118099\n",
      "std           0.238187\n",
      "min           0.000000\n",
      "25%           0.000000\n",
      "50%           0.000000\n",
      "75%           0.073000\n",
      "max           0.993000\n",
      "Name: Similarity, dtype: float64\n",
      "Similarity\n",
      "0.000    309684\n",
      "0.001     60755\n",
      "0.002      8304\n",
      "0.320      5433\n",
      "0.323      5334\n",
      "          ...  \n",
      "0.647         1\n",
      "0.703         1\n",
      "0.602         1\n",
      "0.844         1\n",
      "0.751         1\n",
      "Name: count, Length: 902, dtype: int64\n"
     ]
    }
   ],
   "source": [
    "print(news_sim_df['Similarity'].describe())\n",
    "print(news_sim_df['Similarity'].value_counts())"
   ]
  },
  {
   "cell_type": "code",
   "execution_count": 133,
   "metadata": {},
   "outputs": [
    {
     "data": {
      "text/html": [
       "<div>\n",
       "<style scoped>\n",
       "    .dataframe tbody tr th:only-of-type {\n",
       "        vertical-align: middle;\n",
       "    }\n",
       "\n",
       "    .dataframe tbody tr th {\n",
       "        vertical-align: top;\n",
       "    }\n",
       "\n",
       "    .dataframe thead th {\n",
       "        text-align: right;\n",
       "    }\n",
       "</style>\n",
       "<table border=\"1\" class=\"dataframe\">\n",
       "  <thead>\n",
       "    <tr style=\"text-align: right;\">\n",
       "      <th></th>\n",
       "      <th>Article1</th>\n",
       "      <th>Article2</th>\n",
       "      <th>Similarity</th>\n",
       "    </tr>\n",
       "  </thead>\n",
       "  <tbody>\n",
       "    <tr>\n",
       "      <th>253542</th>\n",
       "      <td>290</td>\n",
       "      <td>808</td>\n",
       "      <td>0.993</td>\n",
       "    </tr>\n",
       "    <tr>\n",
       "      <th>331126</th>\n",
       "      <td>406</td>\n",
       "      <td>846</td>\n",
       "      <td>0.989</td>\n",
       "    </tr>\n",
       "    <tr>\n",
       "      <th>46106</th>\n",
       "      <td>46</td>\n",
       "      <td>406</td>\n",
       "      <td>0.989</td>\n",
       "    </tr>\n",
       "    <tr>\n",
       "      <th>39288</th>\n",
       "      <td>39</td>\n",
       "      <td>406</td>\n",
       "      <td>0.989</td>\n",
       "    </tr>\n",
       "    <tr>\n",
       "      <th>330943</th>\n",
       "      <td>406</td>\n",
       "      <td>663</td>\n",
       "      <td>0.989</td>\n",
       "    </tr>\n",
       "    <tr>\n",
       "      <th>39043</th>\n",
       "      <td>39</td>\n",
       "      <td>161</td>\n",
       "      <td>0.989</td>\n",
       "    </tr>\n",
       "    <tr>\n",
       "      <th>38065</th>\n",
       "      <td>38</td>\n",
       "      <td>161</td>\n",
       "      <td>0.989</td>\n",
       "    </tr>\n",
       "    <tr>\n",
       "      <th>38928</th>\n",
       "      <td>39</td>\n",
       "      <td>46</td>\n",
       "      <td>0.989</td>\n",
       "    </tr>\n",
       "    <tr>\n",
       "      <th>29720</th>\n",
       "      <td>29</td>\n",
       "      <td>663</td>\n",
       "      <td>0.989</td>\n",
       "    </tr>\n",
       "    <tr>\n",
       "      <th>455000</th>\n",
       "      <td>663</td>\n",
       "      <td>846</td>\n",
       "      <td>0.989</td>\n",
       "    </tr>\n",
       "  </tbody>\n",
       "</table>\n",
       "</div>"
      ],
      "text/plain": [
       "        Article1  Article2  Similarity\n",
       "253542       290       808       0.993\n",
       "331126       406       846       0.989\n",
       "46106         46       406       0.989\n",
       "39288         39       406       0.989\n",
       "330943       406       663       0.989\n",
       "39043         39       161       0.989\n",
       "38065         38       161       0.989\n",
       "38928         39        46       0.989\n",
       "29720         29       663       0.989\n",
       "455000       663       846       0.989"
      ]
     },
     "execution_count": 133,
     "metadata": {},
     "output_type": "execute_result"
    }
   ],
   "source": [
    "# top most similar news articles\n",
    "top10_similar_news = news_sim_df.sort_values(by='Similarity', ascending=False).head(10)\n",
    "top10_similar_news"
   ]
  },
  {
   "cell_type": "code",
   "execution_count": 134,
   "metadata": {},
   "outputs": [
    {
     "data": {
      "text/html": [
       "<div>\n",
       "<style scoped>\n",
       "    .dataframe tbody tr th:only-of-type {\n",
       "        vertical-align: middle;\n",
       "    }\n",
       "\n",
       "    .dataframe tbody tr th {\n",
       "        vertical-align: top;\n",
       "    }\n",
       "\n",
       "    .dataframe thead th {\n",
       "        text-align: right;\n",
       "    }\n",
       "</style>\n",
       "<table border=\"1\" class=\"dataframe\">\n",
       "  <thead>\n",
       "    <tr style=\"text-align: right;\">\n",
       "      <th></th>\n",
       "      <th>Article1</th>\n",
       "      <th>Article2</th>\n",
       "      <th>Similarity</th>\n",
       "    </tr>\n",
       "  </thead>\n",
       "  <tbody>\n",
       "    <tr>\n",
       "      <th>258826</th>\n",
       "      <td>298</td>\n",
       "      <td>312</td>\n",
       "      <td>0.0</td>\n",
       "    </tr>\n",
       "    <tr>\n",
       "      <th>298964</th>\n",
       "      <td>356</td>\n",
       "      <td>459</td>\n",
       "      <td>0.0</td>\n",
       "    </tr>\n",
       "    <tr>\n",
       "      <th>298963</th>\n",
       "      <td>356</td>\n",
       "      <td>458</td>\n",
       "      <td>0.0</td>\n",
       "    </tr>\n",
       "    <tr>\n",
       "      <th>298962</th>\n",
       "      <td>356</td>\n",
       "      <td>457</td>\n",
       "      <td>0.0</td>\n",
       "    </tr>\n",
       "    <tr>\n",
       "      <th>298961</th>\n",
       "      <td>356</td>\n",
       "      <td>456</td>\n",
       "      <td>0.0</td>\n",
       "    </tr>\n",
       "    <tr>\n",
       "      <th>298960</th>\n",
       "      <td>356</td>\n",
       "      <td>455</td>\n",
       "      <td>0.0</td>\n",
       "    </tr>\n",
       "    <tr>\n",
       "      <th>298959</th>\n",
       "      <td>356</td>\n",
       "      <td>454</td>\n",
       "      <td>0.0</td>\n",
       "    </tr>\n",
       "    <tr>\n",
       "      <th>298958</th>\n",
       "      <td>356</td>\n",
       "      <td>453</td>\n",
       "      <td>0.0</td>\n",
       "    </tr>\n",
       "    <tr>\n",
       "      <th>298956</th>\n",
       "      <td>356</td>\n",
       "      <td>451</td>\n",
       "      <td>0.0</td>\n",
       "    </tr>\n",
       "    <tr>\n",
       "      <th>298955</th>\n",
       "      <td>356</td>\n",
       "      <td>450</td>\n",
       "      <td>0.0</td>\n",
       "    </tr>\n",
       "  </tbody>\n",
       "</table>\n",
       "</div>"
      ],
      "text/plain": [
       "        Article1  Article2  Similarity\n",
       "258826       298       312         0.0\n",
       "298964       356       459         0.0\n",
       "298963       356       458         0.0\n",
       "298962       356       457         0.0\n",
       "298961       356       456         0.0\n",
       "298960       356       455         0.0\n",
       "298959       356       454         0.0\n",
       "298958       356       453         0.0\n",
       "298956       356       451         0.0\n",
       "298955       356       450         0.0"
      ]
     },
     "execution_count": 134,
     "metadata": {},
     "output_type": "execute_result"
    }
   ],
   "source": [
    "# top most dissimilar news articles\n",
    "top10_dissimilar_news = news_sim_df.sort_values(by='Similarity', ascending=True).head(10)\n",
    "top10_dissimilar_news"
   ]
  },
  {
   "cell_type": "code",
   "execution_count": 132,
   "metadata": {},
   "outputs": [
    {
     "data": {
      "image/png": "[encoded data removed]",
      "text/plain": [
       "<Figure size 1000x500 with 1 Axes>"
      ]
     },
     "metadata": {},
     "output_type": "display_data"
    }
   ],
   "source": [
    "# Visualizing Similarity Scores\n",
    "plt.figure(figsize=(10, 5))\n",
    "\n",
    "plt.hist(news_sim_df['Similarity'], bins=30, alpha=0.5, label='News Articles')\n",
    "plt.hist(tweets_sim_df['Similarity'], bins=30, alpha=0.5, label='Tweets')\n",
    "\n",
    "plt.xlabel(\"Jaccard Similarity\")\n",
    "plt.ylabel(\"Frequency\")\n",
    "plt.title(\"Distribution of Similarity Scores\")\n",
    "plt.legend()\n",
    "plt.show()"
   ]
  },
  {
   "cell_type": "markdown",
   "metadata": {},
   "source": [
    "##### Which news articles/tweets were similar and which ones were dissimilar\n",
    "Looking at the top 10 most similar tweets, there appear to be some either very similar tweets or some duplicates since tweet #472 appears to be an exact match as #499, #489, #483, and #482. Given the nature of twitter, these also could have been retweets with no additional text added by the user. However, looking at the plot above, we can see that by far most of thet tweets and articles are completely unique to each other. The mean of the tweets similarity distribution is only 0.054593, and 0.118099 for articles. Although many articles were dissimilar, we can see some hints of the blue bars throughout the distribution that are not completely 0 similarty.\n",
    "\n",
    "Over all, tweets appear to be generally more dissimlar than articles. This would make sense as tweets are subject to personalization of each individual user, where as news articles typically have more repeating phrases due to things such as quotes, proper nouns, and the use of syndicated news.\n"
   ]
  },
  {
   "cell_type": "markdown",
   "metadata": {},
   "source": [
    "##### A brief write-up explaining why and how you chose \"n\" for your analysis (for n-grams)\n",
    "For both the news articles and the tweets, I had to normalize the plots in order to visualize the values - the counts data would not show when I initially plotted the raw data.\n",
    "\n",
    "I chose n = 2 for the n-gram count for tweets because although there is a steep drop from the unigram to the bigrams, unigrams lack context. Trigrams and onward are too sparse. Bigrams capture the common short phrases while still avoiding sparsity.\n",
    "\n",
    "I chose trigrams for news articles because it provides the best trade-off between frequency and meaning. Articles are longer and have structured sentences that require longer n-grams for context.\n",
    "\n",
    "##### Was the \"n\" identical or different for articles vs tweets and why?\n",
    "The \"n\" was different for articles and tweets primarily due to the length of the text and the formality of the language used (i.e., clear sentence structure vs gramatically incorrect statements). The structured and longer text of the articles require longer n-grams for things such as named entities or grammatical dependencies, where as tweets tend to be pertty informal in the writing."
   ]
  },
  {
   "cell_type": "markdown",
   "metadata": {},
   "source": [
    "##### For the news articles, please explain why you chose text or title or both text + title combined\n",
    "I chose just text and not text and title combined because I wanted to utilize a large n-gram for Jaccard scoring. The title, much like tweets, have only a set number of wording so if I were to just use this, number of n-grams would have been likely the same as tweets. I also didn't use the combination of the two because I felt that any words or combination of words in the title would likely be repeated in the actual text of the article."
   ]
  }
 ],
 "metadata": {
  "kernelspec": {
   "display_name": "base",
   "language": "python",
   "name": "python3"
  },
  "language_info": {
   "codemirror_mode": {
    "name": "ipython",
    "version": 3
   },
   "file_extension": ".py",
   "mimetype": "text/x-python",
   "name": "python",
   "nbconvert_exporter": "python",
   "pygments_lexer": "ipython3",
   "version": "3.12.4"
  }
 },
 "nbformat": 4,
 "nbformat_minor": 4
}

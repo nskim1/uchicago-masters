{
  "cells": [
    {
      "cell_type": "markdown",
      "metadata": {
        "id": "Ts8UHSDZTxec"
      },
      "source": [
        "## NLP Class Assignment 6"
      ]
    },
    {
      "cell_type": "code",
      "execution_count": 1,
      "metadata": {
        "id": "9tML20d1Txed"
      },
      "outputs": [],
      "source": [
        "import pandas as pd\n",
        "\n",
        "pd.set_option('display.max_rows', 100)\n",
        "pd.set_option('display.max_columns', None)\n",
        "pd.set_option('display.max_colwidth', 500)"
      ]
    },
    {
      "cell_type": "code",
      "source": [
        "import warnings\n",
        "warnings.simplefilter(\"ignore\", category=DeprecationWarning)"
      ],
      "metadata": {
        "id": "9uHvYQe5AxYW"
      },
      "execution_count": 2,
      "outputs": []
    },
    {
      "cell_type": "markdown",
      "metadata": {
        "id": "nrnoipYKTxed"
      },
      "source": [
        "#### Read news data"
      ]
    },
    {
      "cell_type": "code",
      "execution_count": 3,
      "metadata": {
        "colab": {
          "base_uri": "https://localhost:8080/",
          "height": 496
        },
        "id": "CJp4-RD6Txed",
        "outputId": "08b740c9-04cb-4849-c725-a74cb653bdb3"
      },
      "outputs": [
        {
          "output_type": "stream",
          "name": "stdout",
          "text": [
            "Sample contains 9,962 news articles\n"
          ]
        },
        {
          "output_type": "execute_result",
          "data": {
            "text/plain": [
              "                                                                                   url  \\\n",
              "0  http://oaklandnewsnow.com/breaking-bts-announces-las-vegas-us-concert-date-in-2022/   \n",
              "1                            http://www.newsdzezimbabwe.co.uk/2022/04/mai-tt-weds.html   \n",
              "\n",
              "        date language  \\\n",
              "0 2022-02-24       en   \n",
              "1 2022-04-09       en   \n",
              "\n",
              "                                                                                                                                     title  \\\n",
              "0  BREAKING: BTS Announces LAS VEGAS, US Concert Date in 2022! | Oakland News Now - Oakland News, SF Bay Area, East Bay, California, World   \n",
              "1                                                                                               MAI TT WEDS newsdzeZimbabweNewsdzeZimbabwe   \n",
              "\n",
              "                                                                                                                                                                                                                                                                                                                                                                                                                                                                                                                  text  \n",
              "0  BREAKING: BTS Announces LAS VEGAS, US Concert Date in 2022! | Oakland News Now - Oakland News, SF Bay Area, East Bay, California, WorldSorry, you have Javascript Disabled! To see this page as it is meant to appear, please enable your Javascript!BREAKING: BTS Announces LAS VEGAS, US Concert Date in 2022! | Oakland News Now - Oakland News, SF Bay Area, East Bay, California, WorldSkip to contentMenuSearch for:SearchOakland News Now – Oakland News, SF Bay Area, East Bay, California, WorldOakland...  \n",
              "1  MAI TT WEDS newsdzeZimbabweNewsdzeZimbabweskip to main  |      skip to sidebarHomeAboutContactAdvertiseNewsdzeZimbabweOur Zimbabwe Our NewsHomeNewsBusinessEntertainmentSaturday, 9 April 2022MAI TT WEDSSaturday, April 09, 2022  NewsdzeZimbabwe   0 Best moments... @Chakariboy @NyamayaroArron @restmutore @Lattynyangu pic.twitter.com/MsrhcFXUJj— H-Metro (@HMetro_) April 9, 2022 Posted in:  Share to TwitterShare to FacebookOlder PostHome0comments:        Post a CommentFollow NewsdzeZimbabweRecent...  "
            ],
            "text/html": [
              "\n",
              "  <div id=\"df-a827398f-e11b-45c8-a07d-023f9121f395\" class=\"colab-df-container\">\n",
              "    <div>\n",
              "<style scoped>\n",
              "    .dataframe tbody tr th:only-of-type {\n",
              "        vertical-align: middle;\n",
              "    }\n",
              "\n",
              "    .dataframe tbody tr th {\n",
              "        vertical-align: top;\n",
              "    }\n",
              "\n",
              "    .dataframe thead th {\n",
              "        text-align: right;\n",
              "    }\n",
              "</style>\n",
              "<table border=\"1\" class=\"dataframe\">\n",
              "  <thead>\n",
              "    <tr style=\"text-align: right;\">\n",
              "      <th></th>\n",
              "      <th>url</th>\n",
              "      <th>date</th>\n",
              "      <th>language</th>\n",
              "      <th>title</th>\n",
              "      <th>text</th>\n",
              "    </tr>\n",
              "  </thead>\n",
              "  <tbody>\n",
              "    <tr>\n",
              "      <th>0</th>\n",
              "      <td>http://oaklandnewsnow.com/breaking-bts-announces-las-vegas-us-concert-date-in-2022/</td>\n",
              "      <td>2022-02-24</td>\n",
              "      <td>en</td>\n",
              "      <td>BREAKING: BTS Announces LAS VEGAS, US Concert Date in 2022! | Oakland News Now - Oakland News, SF Bay Area, East Bay, California, World</td>\n",
              "      <td>BREAKING: BTS Announces LAS VEGAS, US Concert Date in 2022! | Oakland News Now - Oakland News, SF Bay Area, East Bay, California, WorldSorry, you have Javascript Disabled! To see this page as it is meant to appear, please enable your Javascript!BREAKING: BTS Announces LAS VEGAS, US Concert Date in 2022! | Oakland News Now - Oakland News, SF Bay Area, East Bay, California, WorldSkip to contentMenuSearch for:SearchOakland News Now – Oakland News, SF Bay Area, East Bay, California, WorldOakland...</td>\n",
              "    </tr>\n",
              "    <tr>\n",
              "      <th>1</th>\n",
              "      <td>http://www.newsdzezimbabwe.co.uk/2022/04/mai-tt-weds.html</td>\n",
              "      <td>2022-04-09</td>\n",
              "      <td>en</td>\n",
              "      <td>MAI TT WEDS newsdzeZimbabweNewsdzeZimbabwe</td>\n",
              "      <td>MAI TT WEDS newsdzeZimbabweNewsdzeZimbabweskip to main  |      skip to sidebarHomeAboutContactAdvertiseNewsdzeZimbabweOur Zimbabwe Our NewsHomeNewsBusinessEntertainmentSaturday, 9 April 2022MAI TT WEDSSaturday, April 09, 2022  NewsdzeZimbabwe   0 Best moments... @Chakariboy @NyamayaroArron @restmutore @Lattynyangu pic.twitter.com/MsrhcFXUJj— H-Metro (@HMetro_) April 9, 2022 Posted in:  Share to TwitterShare to FacebookOlder PostHome0comments:        Post a CommentFollow NewsdzeZimbabweRecent...</td>\n",
              "    </tr>\n",
              "  </tbody>\n",
              "</table>\n",
              "</div>\n",
              "    <div class=\"colab-df-buttons\">\n",
              "\n",
              "  <div class=\"colab-df-container\">\n",
              "    <button class=\"colab-df-convert\" onclick=\"convertToInteractive('df-a827398f-e11b-45c8-a07d-023f9121f395')\"\n",
              "            title=\"Convert this dataframe to an interactive table.\"\n",
              "            style=\"display:none;\">\n",
              "\n",
              "  <svg xmlns=\"http://www.w3.org/2000/svg\" height=\"24px\" viewBox=\"0 -960 960 960\">\n",
              "    <path d=\"M120-120v-720h720v720H120Zm60-500h600v-160H180v160Zm220 220h160v-160H400v160Zm0 220h160v-160H400v160ZM180-400h160v-160H180v160Zm440 0h160v-160H620v160ZM180-180h160v-160H180v160Zm440 0h160v-160H620v160Z\"/>\n",
              "  </svg>\n",
              "    </button>\n",
              "\n",
              "  <style>\n",
              "    .colab-df-container {\n",
              "      display:flex;\n",
              "      gap: 12px;\n",
              "    }\n",
              "\n",
              "    .colab-df-convert {\n",
              "      background-color: #E8F0FE;\n",
              "      border: none;\n",
              "      border-radius: 50%;\n",
              "      cursor: pointer;\n",
              "      display: none;\n",
              "      fill: #1967D2;\n",
              "      height: 32px;\n",
              "      padding: 0 0 0 0;\n",
              "      width: 32px;\n",
              "    }\n",
              "\n",
              "    .colab-df-convert:hover {\n",
              "      background-color: #E2EBFA;\n",
              "      box-shadow: 0px 1px 2px rgba(60, 64, 67, 0.3), 0px 1px 3px 1px rgba(60, 64, 67, 0.15);\n",
              "      fill: #174EA6;\n",
              "    }\n",
              "\n",
              "    .colab-df-buttons div {\n",
              "      margin-bottom: 4px;\n",
              "    }\n",
              "\n",
              "    [theme=dark] .colab-df-convert {\n",
              "      background-color: #3B4455;\n",
              "      fill: #D2E3FC;\n",
              "    }\n",
              "\n",
              "    [theme=dark] .colab-df-convert:hover {\n",
              "      background-color: #434B5C;\n",
              "      box-shadow: 0px 1px 3px 1px rgba(0, 0, 0, 0.15);\n",
              "      filter: drop-shadow(0px 1px 2px rgba(0, 0, 0, 0.3));\n",
              "      fill: #FFFFFF;\n",
              "    }\n",
              "  </style>\n",
              "\n",
              "    <script>\n",
              "      const buttonEl =\n",
              "        document.querySelector('#df-a827398f-e11b-45c8-a07d-023f9121f395 button.colab-df-convert');\n",
              "      buttonEl.style.display =\n",
              "        google.colab.kernel.accessAllowed ? 'block' : 'none';\n",
              "\n",
              "      async function convertToInteractive(key) {\n",
              "        const element = document.querySelector('#df-a827398f-e11b-45c8-a07d-023f9121f395');\n",
              "        const dataTable =\n",
              "          await google.colab.kernel.invokeFunction('convertToInteractive',\n",
              "                                                    [key], {});\n",
              "        if (!dataTable) return;\n",
              "\n",
              "        const docLinkHtml = 'Like what you see? Visit the ' +\n",
              "          '<a target=\"_blank\" href=https://colab.research.google.com/notebooks/data_table.ipynb>data table notebook</a>'\n",
              "          + ' to learn more about interactive tables.';\n",
              "        element.innerHTML = '';\n",
              "        dataTable['output_type'] = 'display_data';\n",
              "        await google.colab.output.renderOutput(dataTable, element);\n",
              "        const docLink = document.createElement('div');\n",
              "        docLink.innerHTML = docLinkHtml;\n",
              "        element.appendChild(docLink);\n",
              "      }\n",
              "    </script>\n",
              "  </div>\n",
              "\n",
              "\n",
              "<div id=\"df-7e063e6f-ad19-4ed9-a2e2-97de90c45132\">\n",
              "  <button class=\"colab-df-quickchart\" onclick=\"quickchart('df-7e063e6f-ad19-4ed9-a2e2-97de90c45132')\"\n",
              "            title=\"Suggest charts\"\n",
              "            style=\"display:none;\">\n",
              "\n",
              "<svg xmlns=\"http://www.w3.org/2000/svg\" height=\"24px\"viewBox=\"0 0 24 24\"\n",
              "     width=\"24px\">\n",
              "    <g>\n",
              "        <path d=\"M19 3H5c-1.1 0-2 .9-2 2v14c0 1.1.9 2 2 2h14c1.1 0 2-.9 2-2V5c0-1.1-.9-2-2-2zM9 17H7v-7h2v7zm4 0h-2V7h2v10zm4 0h-2v-4h2v4z\"/>\n",
              "    </g>\n",
              "</svg>\n",
              "  </button>\n",
              "\n",
              "<style>\n",
              "  .colab-df-quickchart {\n",
              "      --bg-color: #E8F0FE;\n",
              "      --fill-color: #1967D2;\n",
              "      --hover-bg-color: #E2EBFA;\n",
              "      --hover-fill-color: #174EA6;\n",
              "      --disabled-fill-color: #AAA;\n",
              "      --disabled-bg-color: #DDD;\n",
              "  }\n",
              "\n",
              "  [theme=dark] .colab-df-quickchart {\n",
              "      --bg-color: #3B4455;\n",
              "      --fill-color: #D2E3FC;\n",
              "      --hover-bg-color: #434B5C;\n",
              "      --hover-fill-color: #FFFFFF;\n",
              "      --disabled-bg-color: #3B4455;\n",
              "      --disabled-fill-color: #666;\n",
              "  }\n",
              "\n",
              "  .colab-df-quickchart {\n",
              "    background-color: var(--bg-color);\n",
              "    border: none;\n",
              "    border-radius: 50%;\n",
              "    cursor: pointer;\n",
              "    display: none;\n",
              "    fill: var(--fill-color);\n",
              "    height: 32px;\n",
              "    padding: 0;\n",
              "    width: 32px;\n",
              "  }\n",
              "\n",
              "  .colab-df-quickchart:hover {\n",
              "    background-color: var(--hover-bg-color);\n",
              "    box-shadow: 0 1px 2px rgba(60, 64, 67, 0.3), 0 1px 3px 1px rgba(60, 64, 67, 0.15);\n",
              "    fill: var(--button-hover-fill-color);\n",
              "  }\n",
              "\n",
              "  .colab-df-quickchart-complete:disabled,\n",
              "  .colab-df-quickchart-complete:disabled:hover {\n",
              "    background-color: var(--disabled-bg-color);\n",
              "    fill: var(--disabled-fill-color);\n",
              "    box-shadow: none;\n",
              "  }\n",
              "\n",
              "  .colab-df-spinner {\n",
              "    border: 2px solid var(--fill-color);\n",
              "    border-color: transparent;\n",
              "    border-bottom-color: var(--fill-color);\n",
              "    animation:\n",
              "      spin 1s steps(1) infinite;\n",
              "  }\n",
              "\n",
              "  @keyframes spin {\n",
              "    0% {\n",
              "      border-color: transparent;\n",
              "      border-bottom-color: var(--fill-color);\n",
              "      border-left-color: var(--fill-color);\n",
              "    }\n",
              "    20% {\n",
              "      border-color: transparent;\n",
              "      border-left-color: var(--fill-color);\n",
              "      border-top-color: var(--fill-color);\n",
              "    }\n",
              "    30% {\n",
              "      border-color: transparent;\n",
              "      border-left-color: var(--fill-color);\n",
              "      border-top-color: var(--fill-color);\n",
              "      border-right-color: var(--fill-color);\n",
              "    }\n",
              "    40% {\n",
              "      border-color: transparent;\n",
              "      border-right-color: var(--fill-color);\n",
              "      border-top-color: var(--fill-color);\n",
              "    }\n",
              "    60% {\n",
              "      border-color: transparent;\n",
              "      border-right-color: var(--fill-color);\n",
              "    }\n",
              "    80% {\n",
              "      border-color: transparent;\n",
              "      border-right-color: var(--fill-color);\n",
              "      border-bottom-color: var(--fill-color);\n",
              "    }\n",
              "    90% {\n",
              "      border-color: transparent;\n",
              "      border-bottom-color: var(--fill-color);\n",
              "    }\n",
              "  }\n",
              "</style>\n",
              "\n",
              "  <script>\n",
              "    async function quickchart(key) {\n",
              "      const quickchartButtonEl =\n",
              "        document.querySelector('#' + key + ' button');\n",
              "      quickchartButtonEl.disabled = true;  // To prevent multiple clicks.\n",
              "      quickchartButtonEl.classList.add('colab-df-spinner');\n",
              "      try {\n",
              "        const charts = await google.colab.kernel.invokeFunction(\n",
              "            'suggestCharts', [key], {});\n",
              "      } catch (error) {\n",
              "        console.error('Error during call to suggestCharts:', error);\n",
              "      }\n",
              "      quickchartButtonEl.classList.remove('colab-df-spinner');\n",
              "      quickchartButtonEl.classList.add('colab-df-quickchart-complete');\n",
              "    }\n",
              "    (() => {\n",
              "      let quickchartButtonEl =\n",
              "        document.querySelector('#df-7e063e6f-ad19-4ed9-a2e2-97de90c45132 button');\n",
              "      quickchartButtonEl.style.display =\n",
              "        google.colab.kernel.accessAllowed ? 'block' : 'none';\n",
              "    })();\n",
              "  </script>\n",
              "</div>\n",
              "\n",
              "    </div>\n",
              "  </div>\n"
            ],
            "application/vnd.google.colaboratory.intrinsic+json": {
              "type": "dataframe",
              "variable_name": "news_df",
              "summary": "{\n  \"name\": \"news_df\",\n  \"rows\": 9962,\n  \"fields\": [\n    {\n      \"column\": \"url\",\n      \"properties\": {\n        \"dtype\": \"string\",\n        \"num_unique_values\": 9962,\n        \"samples\": [\n          \"https://www.asiaone.com/business/chargebee-raises-another-250m-meet-surging-demand-growing-subscription-and-saas-businesses\",\n          \"https://www.channele2e.com/news/updates-03-june-2022/\",\n          \"https://people.com/politics/gavin-newsom-airs-ad-in-florida-targeting-ron-desantis/\"\n        ],\n        \"semantic_type\": \"\",\n        \"description\": \"\"\n      }\n    },\n    {\n      \"column\": \"date\",\n      \"properties\": {\n        \"dtype\": \"date\",\n        \"min\": \"2022-01-03 00:00:00\",\n        \"max\": \"2022-08-10 00:00:00\",\n        \"num_unique_values\": 176,\n        \"samples\": [\n          \"2022-01-25 00:00:00\",\n          \"2022-04-28 00:00:00\",\n          \"2022-01-11 00:00:00\"\n        ],\n        \"semantic_type\": \"\",\n        \"description\": \"\"\n      }\n    },\n    {\n      \"column\": \"language\",\n      \"properties\": {\n        \"dtype\": \"category\",\n        \"num_unique_values\": 1,\n        \"samples\": [\n          \"en\"\n        ],\n        \"semantic_type\": \"\",\n        \"description\": \"\"\n      }\n    },\n    {\n      \"column\": \"title\",\n      \"properties\": {\n        \"dtype\": \"string\",\n        \"num_unique_values\": 9251,\n        \"samples\": [\n          \"Star Tracks - Monday, April 28, 2008 | PEOPLE.com\"\n        ],\n        \"semantic_type\": \"\",\n        \"description\": \"\"\n      }\n    },\n    {\n      \"column\": \"text\",\n      \"properties\": {\n        \"dtype\": \"string\",\n        \"num_unique_values\": 9934,\n        \"samples\": [\n          \"Q1 2022 Earnings Estimate for Callaway Golf Issued By Jefferies Financial Group (NYSE:ELY) - ETF Daily NewsSkip to main content\\u2630Analyst RatingsCryptoEarningsInsider TradesIPOsOptionsAnalyst RatingsCryptoEarningsInsider TradesIPOsOptionsQ1 2022 Earnings Estimate for Callaway Golf Issued By Jefferies Financial Group (NYSE:ELY)Posted by MarketBeat News on Apr 28th, 2022Share on TwitterShare on FacebookShare on LinkedInShare on StocktwitsCallaway Golf (NYSE:ELY \\u2013 Get Rating) \\u2013 Investment analysts at Jefferies Financial Group raised their Q1 2022 earnings estimates for Callaway Golf in a research note issued on Wednesday, April 27th. Jefferies Financial Group analyst R. Konik now anticipates that the company will post earnings of $0.30 per share for the quarter, up from their previous estimate of $0.27. Jefferies Financial Group also issued estimates for Callaway Golf\\u2019s Q2 2022 earnings at $0.28 EPS, Q3 2022 earnings at $0.25 EPS, FY2022 earnings at $0.65 EPS, Q1 2023 earnings at $0.33 EPS and Q2 2023 earnings at $0.31 EPS.  Get Callaway Golf alerts:Callaway Golf (NYSE:ELY \\u2013 Get Rating) last posted its quarterly earnings data on Thursday, February 10th. The company reported ($0.19) EPS for the quarter, beating analysts\\u2019 consensus estimates of ($0.28) by $0.09. The company had revenue of $711.72 million for the quarter, compared to analyst estimates of $703.02 million. Callaway Golf had a net margin of 10.28% and a return on equity of 3.74%. Callaway Golf\\u2019s quarterly revenue was up 90.0% on a year-over-year basis. During the same period in the previous year, the business posted ($0.33) earnings per share. Other research analysts have also issued reports about the stock. Zacks Investment Research upgraded shares of Callaway Golf from a \\u201csell\\u201d rating to a \\u201chold\\u201d rating in a research note on Monday, February 14th. B. Riley lowered their target price on shares of Callaway Golf from $40.00 to $34.00 in a report on Wednesday, January 26th. Berenberg Bank reaffirmed a \\u201cbuy\\u201d rating and issued a $37.00 target price on shares of Callaway Golf in a report on Wednesday, March 9th. StockNews.com initiated coverage on shares of Callaway Golf in a report on Thursday, March 31st. They issued a \\u201csell\\u201d rating on the stock. Finally, Truist Financial decreased their price objective on shares of Callaway Golf from $42.00 to $36.00 and set a \\u201cbuy\\u201d rating on the stock in a report on Monday, April 11th. One equities research analyst has rated the stock with a sell rating, two have given a hold rating and nine have issued a buy rating to the stock. According to data from MarketBeat, the company presently has a consensus rating of \\u201cBuy\\u201d and an average target price of $39.36.NYSE ELY opened at $22.43 on Thursday. The company has a debt-to-equity ratio of 0.28, a quick ratio of 0.73 and a current ratio of 1.35. The firm has a market cap of $4.14 billion, a PE ratio of 9.23, a P/E/G ratio of 5.13 and a beta of 1.93. Callaway Golf has a one year low of $20.45 and a one year high of $37.75. The firm\\u2019s fifty day moving average is $23.16 and its two-hundred day moving average is $25.50. Institutional investors and hedge funds have recently made changes to their positions in the business. Corbenic Partners LLC acquired a new position in Callaway Golf during the fourth quarter worth about $25,000. Byrne Asset Management LLC raised its position in shares of Callaway Golf by 117.9% in the first quarter. Byrne Asset Management LLC now owns 1,244 shares of the company\\u2019s stock valued at $29,000 after buying an additional 673 shares during the last quarter. CWM LLC raised its position in shares of Callaway Golf by 110.9% in the first quarter. CWM LLC now owns 1,643 shares of the company\\u2019s stock valued at $38,000 after buying an additional 864 shares during the last quarter. Neo Ivy Capital Management acquired a new position in shares of Callaway Golf in the fourth quarter valued at approximately $47,000. Finally, Harbour Investments Inc. raised its position in shares of Callaway Golf by 37.8% in the fourth quarter. Harbour Investments Inc. now owns 2,004 shares of the company\\u2019s stock valued at $55,000 after buying an additional 550 shares during the last quarter. Institutional investors own 94.25% of the company\\u2019s stock. Callaway Golf Company Profile (Get Rating)Callaway Golf Company, together with its subsidiaries, designs, manufactures, and sells golf equipment, golf and lifestyle apparel, and other accessories. It operates through three segments: Topgolf; Golf Equipment; and Apparel, Gear and Other. The Topgolf segment operates Topgolf venues equipped with technology-enabled hitting bays, multiple bars, dining areas, and event spaces, as well as Toptracer ball-flight tracking technology used by independent driving ranges and broadcast television; and World Golf Tour digital golf game.Featured StoriesGet a free copy of the StockNews.com research report on Callaway Golf (ELY)Automatic Data Processing Is Ready To Scale New Heights\\u00a0Carl Icahn Buys More XeroxXerox Holdings Stock is a Value PlayThe Kraft Heinz Turnaround Story Gains Momentum\\u00a0Microsoft (NASDAQ: MSFT) Saves The Day, For Now Want More Great Investing Ideas?3 Stocks to DOUBLE This YearThe 10 Best Stocks to Own in 20227 Stocks to Buy and Hold Forever9 \\\"MUST OWN\\\" Growth StocksReceive News & Ratings for Callaway Golf Daily - Enter your email address below to receive a concise daily summary of the latest news and analysts' ratings for Callaway Golf and related companies with MarketBeat.com's FREE daily email newsletter.\\u00ab PREVIOUS HEADLINECasella Waste Systems, Inc. (NASDAQ:CWST) Expected to Post Q1 2022 Earnings of $0.11 Per Share NEXT HEADLINE \\u00bbResearch Analysts Offer Predictions for Brookfield Infrastructure Partners L.P.\\u2019s Q1 2022 Earnings (NYSE:BIP)You might be interested in:John Stephen Ions Purchases 468 Shares of Liontrust Asset Management PLC StockNBT Bancorp Inc. CFO Scott Allen Kingsley Purchases 3,000 SharesInsider Buying: TrustCo Bank Corp NY General Counsel Purchases 1,000 Shares of StockAlloVir, Inc. Director Jeffrey S. Bornstein Purchases 5,000 SharesInsider Buying: Penns Woods Bancorp, Inc. President Buys 920 Shares of StockBrendan Ohalloran Purchases 500 Shares of Bar Harbor Bankshares StockDaily Ratings & News for Callaway GolfComplete the form below to receive the latest headlines and analysts' recommendations for Callaway Golf with our free daily email newsletter:  Follow @etfdailynewsRecent NewsJohn Stephen Ions Purchases 468 Shares of Liontrust Asset Management PLC (LON:LIO) StockNBT Bancorp Inc. (NASDAQ:NBTB) CFO Scott Allen Kingsley Purchases 3,000 SharesInsider Buying: TrustCo Bank Corp NY (NASDAQ:TRST) General Counsel Purchases 1,000 Shares of StockAlloVir, Inc. (NASDAQ:ALVR) Director Jeffrey S. Bornstein Purchases 5,000 SharesInsider Buying: Penns Woods Bancorp, Inc. (NASDAQ:PWOD) President Buys 920 Shares of StockBrendan Ohalloran Purchases 500 Shares of Bar Harbor Bankshares (NYSEAMERICAN:BHB) StockInsider Buying: SCYNEXIS, Inc. (NASDAQ:SCYX) General Counsel Acquires 3,500 Shares of StockAccel Entertainment (ACEL) to Release Earnings on WednesdayAudioEye (AEYE) Scheduled to Post Earnings on ThursdayAldeyra Therapeutics (ALDX) Scheduled to Post Earnings on ThursdayAligos Therapeutics (ALGS) Scheduled to Post Quarterly Earnings on WednesdayAllogene Therapeutics (ALLO) to Release Earnings on WednesdayArdmore Shipping (ASC) Set to Announce Earnings on WednesdayAir Transport Services Group (ATSG) Set to Announce Quarterly Earnings on ThursdayAvanos Medical (AVNS) to Release Quarterly Earnings on WednesdayCareDx (CDNA) to Release Quarterly Earnings on ThursdayDURECT (DRRX) Scheduled to Post Quarterly Earnings on WednesdayInternational Seaways (INSW) to Release Earnings on WednesdayLannett (LCI) to Release Earnings on WednesdayENI (E) to Release Earnings on Friday\\u00a9 2018-2022 ETF Daily News\"\n        ],\n        \"semantic_type\": \"\",\n        \"description\": \"\"\n      }\n    }\n  ]\n}"
            }
          },
          "metadata": {},
          "execution_count": 3
        }
      ],
      "source": [
        "news_path = 'https://storage.googleapis.com/msca-bdp-data-open/news/nlp_a_6_news.json'\n",
        "news_df = pd.read_json(news_path, orient='records', lines=True)\n",
        "\n",
        "print(f'Sample contains {news_df.shape[0]:,.0f} news articles')\n",
        "news_df.head(2)"
      ]
    },
    {
      "cell_type": "markdown",
      "metadata": {
        "id": "bR-a4Y6ITxed"
      },
      "source": [
        "#### Read Tweets data"
      ]
    },
    {
      "cell_type": "code",
      "execution_count": 4,
      "metadata": {
        "colab": {
          "base_uri": "https://localhost:8080/",
          "height": 216
        },
        "id": "zdpmT-eETxee",
        "outputId": "52ad657b-670a-4606-9dff-e94ddc1dac51"
      },
      "outputs": [
        {
          "output_type": "stream",
          "name": "stdout",
          "text": [
            "Sample contains 9,941 tweets\n"
          ]
        },
        {
          "output_type": "execute_result",
          "data": {
            "text/plain": [
              "                    id lang       date           name retweeted  \\\n",
              "0  1484553027222741001   en 2022-01-21    Dylan Green        RT   \n",
              "1  1505486305102557184   en 2022-03-20  Rahim Rajwani             \n",
              "\n",
              "                                                                                                                                                                                                                                                                            text  \n",
              "0                                                                                                                                                                                                                       *Microsoft has entered the chat* https://t.co/Uz3pZrk6B3  \n",
              "1  \"I actually use an @Android phone. Some #Android manufacturers pre-install @Microsoft software in a way that makes it easy for me. They’re more flexible about how the software connects up with the OS. So that’s what I ended up getting used to.\"\\nhttps://t.co/C0VjfS9PUO  "
            ],
            "text/html": [
              "\n",
              "  <div id=\"df-c6b16178-bde1-4614-8879-dce4c063463b\" class=\"colab-df-container\">\n",
              "    <div>\n",
              "<style scoped>\n",
              "    .dataframe tbody tr th:only-of-type {\n",
              "        vertical-align: middle;\n",
              "    }\n",
              "\n",
              "    .dataframe tbody tr th {\n",
              "        vertical-align: top;\n",
              "    }\n",
              "\n",
              "    .dataframe thead th {\n",
              "        text-align: right;\n",
              "    }\n",
              "</style>\n",
              "<table border=\"1\" class=\"dataframe\">\n",
              "  <thead>\n",
              "    <tr style=\"text-align: right;\">\n",
              "      <th></th>\n",
              "      <th>id</th>\n",
              "      <th>lang</th>\n",
              "      <th>date</th>\n",
              "      <th>name</th>\n",
              "      <th>retweeted</th>\n",
              "      <th>text</th>\n",
              "    </tr>\n",
              "  </thead>\n",
              "  <tbody>\n",
              "    <tr>\n",
              "      <th>0</th>\n",
              "      <td>1484553027222741001</td>\n",
              "      <td>en</td>\n",
              "      <td>2022-01-21</td>\n",
              "      <td>Dylan Green</td>\n",
              "      <td>RT</td>\n",
              "      <td>*Microsoft has entered the chat* https://t.co/Uz3pZrk6B3</td>\n",
              "    </tr>\n",
              "    <tr>\n",
              "      <th>1</th>\n",
              "      <td>1505486305102557184</td>\n",
              "      <td>en</td>\n",
              "      <td>2022-03-20</td>\n",
              "      <td>Rahim Rajwani</td>\n",
              "      <td></td>\n",
              "      <td>\"I actually use an @Android phone. Some #Android manufacturers pre-install @Microsoft software in a way that makes it easy for me. They’re more flexible about how the software connects up with the OS. So that’s what I ended up getting used to.\"\\nhttps://t.co/C0VjfS9PUO</td>\n",
              "    </tr>\n",
              "  </tbody>\n",
              "</table>\n",
              "</div>\n",
              "    <div class=\"colab-df-buttons\">\n",
              "\n",
              "  <div class=\"colab-df-container\">\n",
              "    <button class=\"colab-df-convert\" onclick=\"convertToInteractive('df-c6b16178-bde1-4614-8879-dce4c063463b')\"\n",
              "            title=\"Convert this dataframe to an interactive table.\"\n",
              "            style=\"display:none;\">\n",
              "\n",
              "  <svg xmlns=\"http://www.w3.org/2000/svg\" height=\"24px\" viewBox=\"0 -960 960 960\">\n",
              "    <path d=\"M120-120v-720h720v720H120Zm60-500h600v-160H180v160Zm220 220h160v-160H400v160Zm0 220h160v-160H400v160ZM180-400h160v-160H180v160Zm440 0h160v-160H620v160ZM180-180h160v-160H180v160Zm440 0h160v-160H620v160Z\"/>\n",
              "  </svg>\n",
              "    </button>\n",
              "\n",
              "  <style>\n",
              "    .colab-df-container {\n",
              "      display:flex;\n",
              "      gap: 12px;\n",
              "    }\n",
              "\n",
              "    .colab-df-convert {\n",
              "      background-color: #E8F0FE;\n",
              "      border: none;\n",
              "      border-radius: 50%;\n",
              "      cursor: pointer;\n",
              "      display: none;\n",
              "      fill: #1967D2;\n",
              "      height: 32px;\n",
              "      padding: 0 0 0 0;\n",
              "      width: 32px;\n",
              "    }\n",
              "\n",
              "    .colab-df-convert:hover {\n",
              "      background-color: #E2EBFA;\n",
              "      box-shadow: 0px 1px 2px rgba(60, 64, 67, 0.3), 0px 1px 3px 1px rgba(60, 64, 67, 0.15);\n",
              "      fill: #174EA6;\n",
              "    }\n",
              "\n",
              "    .colab-df-buttons div {\n",
              "      margin-bottom: 4px;\n",
              "    }\n",
              "\n",
              "    [theme=dark] .colab-df-convert {\n",
              "      background-color: #3B4455;\n",
              "      fill: #D2E3FC;\n",
              "    }\n",
              "\n",
              "    [theme=dark] .colab-df-convert:hover {\n",
              "      background-color: #434B5C;\n",
              "      box-shadow: 0px 1px 3px 1px rgba(0, 0, 0, 0.15);\n",
              "      filter: drop-shadow(0px 1px 2px rgba(0, 0, 0, 0.3));\n",
              "      fill: #FFFFFF;\n",
              "    }\n",
              "  </style>\n",
              "\n",
              "    <script>\n",
              "      const buttonEl =\n",
              "        document.querySelector('#df-c6b16178-bde1-4614-8879-dce4c063463b button.colab-df-convert');\n",
              "      buttonEl.style.display =\n",
              "        google.colab.kernel.accessAllowed ? 'block' : 'none';\n",
              "\n",
              "      async function convertToInteractive(key) {\n",
              "        const element = document.querySelector('#df-c6b16178-bde1-4614-8879-dce4c063463b');\n",
              "        const dataTable =\n",
              "          await google.colab.kernel.invokeFunction('convertToInteractive',\n",
              "                                                    [key], {});\n",
              "        if (!dataTable) return;\n",
              "\n",
              "        const docLinkHtml = 'Like what you see? Visit the ' +\n",
              "          '<a target=\"_blank\" href=https://colab.research.google.com/notebooks/data_table.ipynb>data table notebook</a>'\n",
              "          + ' to learn more about interactive tables.';\n",
              "        element.innerHTML = '';\n",
              "        dataTable['output_type'] = 'display_data';\n",
              "        await google.colab.output.renderOutput(dataTable, element);\n",
              "        const docLink = document.createElement('div');\n",
              "        docLink.innerHTML = docLinkHtml;\n",
              "        element.appendChild(docLink);\n",
              "      }\n",
              "    </script>\n",
              "  </div>\n",
              "\n",
              "\n",
              "<div id=\"df-cceab3f0-f03a-415c-afd7-04aa5242e9cb\">\n",
              "  <button class=\"colab-df-quickchart\" onclick=\"quickchart('df-cceab3f0-f03a-415c-afd7-04aa5242e9cb')\"\n",
              "            title=\"Suggest charts\"\n",
              "            style=\"display:none;\">\n",
              "\n",
              "<svg xmlns=\"http://www.w3.org/2000/svg\" height=\"24px\"viewBox=\"0 0 24 24\"\n",
              "     width=\"24px\">\n",
              "    <g>\n",
              "        <path d=\"M19 3H5c-1.1 0-2 .9-2 2v14c0 1.1.9 2 2 2h14c1.1 0 2-.9 2-2V5c0-1.1-.9-2-2-2zM9 17H7v-7h2v7zm4 0h-2V7h2v10zm4 0h-2v-4h2v4z\"/>\n",
              "    </g>\n",
              "</svg>\n",
              "  </button>\n",
              "\n",
              "<style>\n",
              "  .colab-df-quickchart {\n",
              "      --bg-color: #E8F0FE;\n",
              "      --fill-color: #1967D2;\n",
              "      --hover-bg-color: #E2EBFA;\n",
              "      --hover-fill-color: #174EA6;\n",
              "      --disabled-fill-color: #AAA;\n",
              "      --disabled-bg-color: #DDD;\n",
              "  }\n",
              "\n",
              "  [theme=dark] .colab-df-quickchart {\n",
              "      --bg-color: #3B4455;\n",
              "      --fill-color: #D2E3FC;\n",
              "      --hover-bg-color: #434B5C;\n",
              "      --hover-fill-color: #FFFFFF;\n",
              "      --disabled-bg-color: #3B4455;\n",
              "      --disabled-fill-color: #666;\n",
              "  }\n",
              "\n",
              "  .colab-df-quickchart {\n",
              "    background-color: var(--bg-color);\n",
              "    border: none;\n",
              "    border-radius: 50%;\n",
              "    cursor: pointer;\n",
              "    display: none;\n",
              "    fill: var(--fill-color);\n",
              "    height: 32px;\n",
              "    padding: 0;\n",
              "    width: 32px;\n",
              "  }\n",
              "\n",
              "  .colab-df-quickchart:hover {\n",
              "    background-color: var(--hover-bg-color);\n",
              "    box-shadow: 0 1px 2px rgba(60, 64, 67, 0.3), 0 1px 3px 1px rgba(60, 64, 67, 0.15);\n",
              "    fill: var(--button-hover-fill-color);\n",
              "  }\n",
              "\n",
              "  .colab-df-quickchart-complete:disabled,\n",
              "  .colab-df-quickchart-complete:disabled:hover {\n",
              "    background-color: var(--disabled-bg-color);\n",
              "    fill: var(--disabled-fill-color);\n",
              "    box-shadow: none;\n",
              "  }\n",
              "\n",
              "  .colab-df-spinner {\n",
              "    border: 2px solid var(--fill-color);\n",
              "    border-color: transparent;\n",
              "    border-bottom-color: var(--fill-color);\n",
              "    animation:\n",
              "      spin 1s steps(1) infinite;\n",
              "  }\n",
              "\n",
              "  @keyframes spin {\n",
              "    0% {\n",
              "      border-color: transparent;\n",
              "      border-bottom-color: var(--fill-color);\n",
              "      border-left-color: var(--fill-color);\n",
              "    }\n",
              "    20% {\n",
              "      border-color: transparent;\n",
              "      border-left-color: var(--fill-color);\n",
              "      border-top-color: var(--fill-color);\n",
              "    }\n",
              "    30% {\n",
              "      border-color: transparent;\n",
              "      border-left-color: var(--fill-color);\n",
              "      border-top-color: var(--fill-color);\n",
              "      border-right-color: var(--fill-color);\n",
              "    }\n",
              "    40% {\n",
              "      border-color: transparent;\n",
              "      border-right-color: var(--fill-color);\n",
              "      border-top-color: var(--fill-color);\n",
              "    }\n",
              "    60% {\n",
              "      border-color: transparent;\n",
              "      border-right-color: var(--fill-color);\n",
              "    }\n",
              "    80% {\n",
              "      border-color: transparent;\n",
              "      border-right-color: var(--fill-color);\n",
              "      border-bottom-color: var(--fill-color);\n",
              "    }\n",
              "    90% {\n",
              "      border-color: transparent;\n",
              "      border-bottom-color: var(--fill-color);\n",
              "    }\n",
              "  }\n",
              "</style>\n",
              "\n",
              "  <script>\n",
              "    async function quickchart(key) {\n",
              "      const quickchartButtonEl =\n",
              "        document.querySelector('#' + key + ' button');\n",
              "      quickchartButtonEl.disabled = true;  // To prevent multiple clicks.\n",
              "      quickchartButtonEl.classList.add('colab-df-spinner');\n",
              "      try {\n",
              "        const charts = await google.colab.kernel.invokeFunction(\n",
              "            'suggestCharts', [key], {});\n",
              "      } catch (error) {\n",
              "        console.error('Error during call to suggestCharts:', error);\n",
              "      }\n",
              "      quickchartButtonEl.classList.remove('colab-df-spinner');\n",
              "      quickchartButtonEl.classList.add('colab-df-quickchart-complete');\n",
              "    }\n",
              "    (() => {\n",
              "      let quickchartButtonEl =\n",
              "        document.querySelector('#df-cceab3f0-f03a-415c-afd7-04aa5242e9cb button');\n",
              "      quickchartButtonEl.style.display =\n",
              "        google.colab.kernel.accessAllowed ? 'block' : 'none';\n",
              "    })();\n",
              "  </script>\n",
              "</div>\n",
              "\n",
              "    </div>\n",
              "  </div>\n"
            ],
            "application/vnd.google.colaboratory.intrinsic+json": {
              "type": "dataframe",
              "variable_name": "tweets_df",
              "summary": "{\n  \"name\": \"tweets_df\",\n  \"rows\": 9941,\n  \"fields\": [\n    {\n      \"column\": \"id\",\n      \"properties\": {\n        \"dtype\": \"number\",\n        \"std\": 24414939075117740,\n        \"min\": 1477072258988490757,\n        \"max\": 1558112214699200512,\n        \"num_unique_values\": 9941,\n        \"samples\": [\n          1539302694875168772,\n          1512327212019552263,\n          1488218906179387401\n        ],\n        \"semantic_type\": \"\",\n        \"description\": \"\"\n      }\n    },\n    {\n      \"column\": \"lang\",\n      \"properties\": {\n        \"dtype\": \"category\",\n        \"num_unique_values\": 1,\n        \"samples\": [\n          \"en\"\n        ],\n        \"semantic_type\": \"\",\n        \"description\": \"\"\n      }\n    },\n    {\n      \"column\": \"date\",\n      \"properties\": {\n        \"dtype\": \"date\",\n        \"min\": \"2022-01-01 00:00:00\",\n        \"max\": \"2022-08-12 00:00:00\",\n        \"num_unique_values\": 224,\n        \"samples\": [\n          \"2022-02-03 00:00:00\"\n        ],\n        \"semantic_type\": \"\",\n        \"description\": \"\"\n      }\n    },\n    {\n      \"column\": \"name\",\n      \"properties\": {\n        \"dtype\": \"string\",\n        \"num_unique_values\": 8907,\n        \"samples\": [\n          \"D z u\"\n        ],\n        \"semantic_type\": \"\",\n        \"description\": \"\"\n      }\n    },\n    {\n      \"column\": \"retweeted\",\n      \"properties\": {\n        \"dtype\": \"category\",\n        \"num_unique_values\": 2,\n        \"samples\": [\n          \"\"\n        ],\n        \"semantic_type\": \"\",\n        \"description\": \"\"\n      }\n    },\n    {\n      \"column\": \"text\",\n      \"properties\": {\n        \"dtype\": \"string\",\n        \"num_unique_values\": 8124,\n        \"samples\": [\n          \"@Nibellion Why do ppl keep forgetting that these companies approached MS to buy them\\u2026they literally asked Microsoft to buy their company and everyone blames MS for helping them and for mailing it benefit their own company and it\\u2019s consumers. If Sony did this, everything would be pulled\"\n        ],\n        \"semantic_type\": \"\",\n        \"description\": \"\"\n      }\n    }\n  ]\n}"
            }
          },
          "metadata": {},
          "execution_count": 4
        }
      ],
      "source": [
        "tweets_path = 'https://storage.googleapis.com/msca-bdp-data-open/tweets/nlp_a_6_tweets.json'\n",
        "tweets_df = pd.read_json(tweets_path, orient='records', lines=True)\n",
        "print(f'Sample contains {tweets_df.shape[0]:,.0f} tweets')\n",
        "tweets_df.head(2)"
      ]
    },
    {
      "cell_type": "code",
      "source": [
        "import multiprocessing as mp"
      ],
      "metadata": {
        "id": "qLvr16ARzT5e"
      },
      "execution_count": 5,
      "outputs": []
    },
    {
      "cell_type": "code",
      "source": [
        "num_processors = mp.cpu_count()\n",
        "workers = num_processors - 1\n",
        "print(f'Using {workers} workers')"
      ],
      "metadata": {
        "colab": {
          "base_uri": "https://localhost:8080/"
        },
        "id": "CPp5lfa0FDZ2",
        "outputId": "4157fb1a-8bb6-48ad-b76b-25cb85129e28"
      },
      "execution_count": 6,
      "outputs": [
        {
          "output_type": "stream",
          "name": "stdout",
          "text": [
            "Using 1 workers\n"
          ]
        }
      ]
    },
    {
      "cell_type": "code",
      "source": [
        "!pip install gensim\n",
        "!pip install pyLDAvis"
      ],
      "metadata": {
        "colab": {
          "base_uri": "https://localhost:8080/"
        },
        "collapsed": true,
        "id": "gJZapVcy-TRn",
        "outputId": "755485fa-31f8-484d-afb8-d9050a8b6c32"
      },
      "execution_count": 9,
      "outputs": [
        {
          "output_type": "stream",
          "name": "stdout",
          "text": [
            "Requirement already satisfied: gensim in /usr/local/lib/python3.11/dist-packages (4.3.3)\n",
            "Requirement already satisfied: numpy<2.0,>=1.18.5 in /usr/local/lib/python3.11/dist-packages (from gensim) (1.26.4)\n",
            "Requirement already satisfied: scipy<1.14.0,>=1.7.0 in /usr/local/lib/python3.11/dist-packages (from gensim) (1.13.1)\n",
            "Requirement already satisfied: smart-open>=1.8.1 in /usr/local/lib/python3.11/dist-packages (from gensim) (7.1.0)\n",
            "Requirement already satisfied: wrapt in /usr/local/lib/python3.11/dist-packages (from smart-open>=1.8.1->gensim) (1.17.2)\n",
            "Collecting pyLDAvis\n",
            "  Downloading pyLDAvis-3.4.1-py3-none-any.whl.metadata (4.2 kB)\n",
            "Requirement already satisfied: numpy>=1.24.2 in /usr/local/lib/python3.11/dist-packages (from pyLDAvis) (1.26.4)\n",
            "Requirement already satisfied: scipy in /usr/local/lib/python3.11/dist-packages (from pyLDAvis) (1.13.1)\n",
            "Requirement already satisfied: pandas>=2.0.0 in /usr/local/lib/python3.11/dist-packages (from pyLDAvis) (2.2.2)\n",
            "Requirement already satisfied: joblib>=1.2.0 in /usr/local/lib/python3.11/dist-packages (from pyLDAvis) (1.4.2)\n",
            "Requirement already satisfied: jinja2 in /usr/local/lib/python3.11/dist-packages (from pyLDAvis) (3.1.5)\n",
            "Requirement already satisfied: numexpr in /usr/local/lib/python3.11/dist-packages (from pyLDAvis) (2.10.2)\n",
            "Collecting funcy (from pyLDAvis)\n",
            "  Downloading funcy-2.0-py2.py3-none-any.whl.metadata (5.9 kB)\n",
            "Requirement already satisfied: scikit-learn>=1.0.0 in /usr/local/lib/python3.11/dist-packages (from pyLDAvis) (1.6.1)\n",
            "Requirement already satisfied: gensim in /usr/local/lib/python3.11/dist-packages (from pyLDAvis) (4.3.3)\n",
            "Requirement already satisfied: setuptools in /usr/local/lib/python3.11/dist-packages (from pyLDAvis) (75.1.0)\n",
            "Requirement already satisfied: python-dateutil>=2.8.2 in /usr/local/lib/python3.11/dist-packages (from pandas>=2.0.0->pyLDAvis) (2.8.2)\n",
            "Requirement already satisfied: pytz>=2020.1 in /usr/local/lib/python3.11/dist-packages (from pandas>=2.0.0->pyLDAvis) (2025.1)\n",
            "Requirement already satisfied: tzdata>=2022.7 in /usr/local/lib/python3.11/dist-packages (from pandas>=2.0.0->pyLDAvis) (2025.1)\n",
            "Requirement already satisfied: threadpoolctl>=3.1.0 in /usr/local/lib/python3.11/dist-packages (from scikit-learn>=1.0.0->pyLDAvis) (3.5.0)\n",
            "Requirement already satisfied: smart-open>=1.8.1 in /usr/local/lib/python3.11/dist-packages (from gensim->pyLDAvis) (7.1.0)\n",
            "Requirement already satisfied: MarkupSafe>=2.0 in /usr/local/lib/python3.11/dist-packages (from jinja2->pyLDAvis) (3.0.2)\n",
            "Requirement already satisfied: six>=1.5 in /usr/local/lib/python3.11/dist-packages (from python-dateutil>=2.8.2->pandas>=2.0.0->pyLDAvis) (1.17.0)\n",
            "Requirement already satisfied: wrapt in /usr/local/lib/python3.11/dist-packages (from smart-open>=1.8.1->gensim->pyLDAvis) (1.17.2)\n",
            "Downloading pyLDAvis-3.4.1-py3-none-any.whl (2.6 MB)\n",
            "\u001b[2K   \u001b[90m━━━━━━━━━━━━━━━━━━━━━━━━━━━━━━━━━━━━━━━━\u001b[0m \u001b[32m2.6/2.6 MB\u001b[0m \u001b[31m45.0 MB/s\u001b[0m eta \u001b[36m0:00:00\u001b[0m\n",
            "\u001b[?25hDownloading funcy-2.0-py2.py3-none-any.whl (30 kB)\n",
            "Installing collected packages: funcy, pyLDAvis\n",
            "Successfully installed funcy-2.0 pyLDAvis-3.4.1\n"
          ]
        }
      ]
    },
    {
      "cell_type": "code",
      "source": [
        "import numpy as np\n",
        "import re\n",
        "import nltk\n",
        "from nltk.corpus import stopwords\n",
        "#from nltk.tokenize import word_tokenize\n",
        "from nltk.stem import WordNetLemmatizer\n",
        "\n",
        "import string\n",
        "import gensim\n",
        "from gensim import corpora, models\n",
        "from gensim.models.ldamulticore import LdaMulticore\n",
        "\n",
        "import pyLDAvis\n",
        "import pyLDAvis.gensim_models as gensimvis\n",
        "pyLDAvis.enable_notebook()\n",
        "\n",
        "# Download NLTK resources\n",
        "nltk.download('punkt')\n",
        "nltk.download('stopwords')\n",
        "nltk.download('wordnet')\n",
        "\n",
        "# load stopwords\n",
        "stop_words = set(stopwords.words('english'))\n",
        "lemmatizer = WordNetLemmatizer()"
      ],
      "metadata": {
        "colab": {
          "base_uri": "https://localhost:8080/"
        },
        "id": "U_xQSD_uTzv2",
        "outputId": "1614bc89-435a-4953-84da-f91f30438aa8"
      },
      "execution_count": 10,
      "outputs": [
        {
          "output_type": "stream",
          "name": "stderr",
          "text": [
            "[nltk_data] Downloading package punkt to /root/nltk_data...\n",
            "[nltk_data]   Unzipping tokenizers/punkt.zip.\n",
            "[nltk_data] Downloading package stopwords to /root/nltk_data...\n",
            "[nltk_data]   Unzipping corpora/stopwords.zip.\n",
            "[nltk_data] Downloading package wordnet to /root/nltk_data...\n"
          ]
        }
      ]
    },
    {
      "cell_type": "markdown",
      "source": [
        "### Text Cleaning"
      ],
      "metadata": {
        "id": "Vsrgcil2Q1CA"
      }
    },
    {
      "cell_type": "code",
      "source": [
        "# select only english tweets and news\n",
        "news_df = news_df[news_df['language'] == 'en']\n",
        "tweets_df = tweets_df[tweets_df['lang'] == 'en']"
      ],
      "metadata": {
        "colab": {
          "base_uri": "https://localhost:8080/"
        },
        "id": "xnvytI4Cg0ek",
        "outputId": "20e70359-9c94-4eb8-8b24-eb4e9ad621b6"
      },
      "execution_count": 11,
      "outputs": [
        {
          "output_type": "stream",
          "name": "stderr",
          "text": [
            "/usr/local/lib/python3.11/dist-packages/ipykernel/ipkernel.py:283: DeprecationWarning: `should_run_async` will not call `transform_cell` automatically in the future. Please pass the result to `transformed_cell` argument and any exception that happen during thetransform in `preprocessing_exc_tuple` in IPython 7.17 and above.\n",
            "  and should_run_async(code)\n"
          ]
        }
      ]
    },
    {
      "cell_type": "code",
      "execution_count": 12,
      "metadata": {
        "colab": {
          "base_uri": "https://localhost:8080/"
        },
        "id": "p5xvYfgWTxee",
        "outputId": "e5c73f3e-379d-46e1-e81b-ce99a5253789"
      },
      "outputs": [
        {
          "output_type": "stream",
          "name": "stderr",
          "text": [
            "/usr/local/lib/python3.11/dist-packages/ipykernel/ipkernel.py:283: DeprecationWarning: `should_run_async` will not call `transform_cell` automatically in the future. Please pass the result to `transformed_cell` argument and any exception that happen during thetransform in `preprocessing_exc_tuple` in IPython 7.17 and above.\n",
            "  and should_run_async(code)\n"
          ]
        }
      ],
      "source": [
        "# cleaning news function\n",
        "def cleaning_news(text):\n",
        "  # Missing values\n",
        "  if not isinstance(text, str):\n",
        "    return \"\"\n",
        "\n",
        "  # split words where a capital letter follows a lowercase letter (\"AutoNews\")\n",
        "  text = re.sub(r'([a-z])([A-Z])', r'\\1 \\2', text)\n",
        "\n",
        "  # remove punctuation\n",
        "  text = text.translate(str.maketrans('', '', string.punctuation))\n",
        "\n",
        "  # remove extra spaces\n",
        "  text = re.sub(r'\\s+', ' ', text).strip()\n",
        "\n",
        "  # tokenize by splitting on spaces\n",
        "  words = text.split()\n",
        "  words = [lemmatizer.lemmatize(word) for word in words if word.lower() not in stop_words]\n",
        "\n",
        "  return ' '.join(words) # returning as string"
      ]
    },
    {
      "cell_type": "code",
      "source": [
        "def parallel_cleaning(series):\n",
        "    with mp.Pool(mp.cpu_count()) as pool:\n",
        "        cleaned_series = pool.map(cleaning_news, series)\n",
        "    return cleaned_series"
      ],
      "metadata": {
        "colab": {
          "base_uri": "https://localhost:8080/"
        },
        "id": "YOzq0X9Izhfi",
        "outputId": "d0c2ebcc-9690-40d2-af9c-565b241ea3f9"
      },
      "execution_count": 13,
      "outputs": [
        {
          "output_type": "stream",
          "name": "stderr",
          "text": [
            "/usr/local/lib/python3.11/dist-packages/ipykernel/ipkernel.py:283: DeprecationWarning: `should_run_async` will not call `transform_cell` automatically in the future. Please pass the result to `transformed_cell` argument and any exception that happen during thetransform in `preprocessing_exc_tuple` in IPython 7.17 and above.\n",
            "  and should_run_async(code)\n"
          ]
        }
      ]
    },
    {
      "cell_type": "code",
      "source": [
        "# apply news cleaning\n",
        "news_df['clean_title'] = parallel_cleaning(news_df['title'])\n",
        "news_df['clean_text'] = parallel_cleaning(news_df['text'])"
      ],
      "metadata": {
        "colab": {
          "base_uri": "https://localhost:8080/"
        },
        "id": "UR_p_tgmnwsk",
        "outputId": "b9b9d509-b97a-4d63-dfa6-a28b50c4a503"
      },
      "execution_count": 14,
      "outputs": [
        {
          "output_type": "stream",
          "name": "stderr",
          "text": [
            "/usr/local/lib/python3.11/dist-packages/ipykernel/ipkernel.py:283: DeprecationWarning: `should_run_async` will not call `transform_cell` automatically in the future. Please pass the result to `transformed_cell` argument and any exception that happen during thetransform in `preprocessing_exc_tuple` in IPython 7.17 and above.\n",
            "  and should_run_async(code)\n"
          ]
        }
      ]
    },
    {
      "cell_type": "code",
      "source": [
        "# cleaning tweets\n",
        "def cleaning_tweets(text):\n",
        "  if not isinstance(text, str):\n",
        "    return \"\"\n",
        "\n",
        "  # lowercasing text\n",
        "  text = text.lower()\n",
        "\n",
        "  # remove @username\n",
        "  text = re.sub(r'@\\w+', '', text)\n",
        "\n",
        "  # remove URLs\n",
        "  text = re.sub(r'http\\S+', '', text)\n",
        "\n",
        "  # remove hashtags\n",
        "  text = re.sub(r'#(\\w+)', r'\\1', text)\n",
        "\n",
        "  # remove any remaining punctuation (except for periods)\n",
        "  text = re.sub(r'[^\\w\\s.]', '', text)\n",
        "\n",
        "  # remove periods that are not between two numbers\n",
        "  text = re.sub(r'(?<!\\d)\\.(?!\\d)', '', text)\n",
        "\n",
        "  # tokenization\n",
        "  words = text.split()\n",
        "\n",
        "  # lemmatization\n",
        "  words = [lemmatizer.lemmatize(word) for word in words if word not in stop_words]\n",
        "\n",
        "  return \" \".join(words)"
      ],
      "metadata": {
        "colab": {
          "base_uri": "https://localhost:8080/"
        },
        "id": "o5U6uvz0nu_6",
        "outputId": "356e49fa-15f9-4f98-dd6e-fb6420e505bb"
      },
      "execution_count": 15,
      "outputs": [
        {
          "output_type": "stream",
          "name": "stderr",
          "text": [
            "/usr/local/lib/python3.11/dist-packages/ipykernel/ipkernel.py:283: DeprecationWarning: `should_run_async` will not call `transform_cell` automatically in the future. Please pass the result to `transformed_cell` argument and any exception that happen during thetransform in `preprocessing_exc_tuple` in IPython 7.17 and above.\n",
            "  and should_run_async(code)\n"
          ]
        }
      ]
    },
    {
      "cell_type": "code",
      "source": [
        "# preprocess tweets\n",
        "tweets_df['clean_text'] = tweets_df['text'].apply(cleaning_tweets)"
      ],
      "metadata": {
        "colab": {
          "base_uri": "https://localhost:8080/"
        },
        "id": "EwHtV9nfTscp",
        "outputId": "cc5bf441-493b-47b5-bfee-d776b904705a"
      },
      "execution_count": 16,
      "outputs": [
        {
          "output_type": "stream",
          "name": "stderr",
          "text": [
            "/usr/local/lib/python3.11/dist-packages/ipykernel/ipkernel.py:283: DeprecationWarning: `should_run_async` will not call `transform_cell` automatically in the future. Please pass the result to `transformed_cell` argument and any exception that happen during thetransform in `preprocessing_exc_tuple` in IPython 7.17 and above.\n",
            "  and should_run_async(code)\n"
          ]
        }
      ]
    },
    {
      "cell_type": "code",
      "source": [
        "# combining news title & text\n",
        "news_df['combined_text'] = news_df['clean_title'] + ' ' + news_df['clean_text']"
      ],
      "metadata": {
        "colab": {
          "base_uri": "https://localhost:8080/"
        },
        "id": "uZkk2NZ0HTBE",
        "outputId": "17a643fa-616b-423f-c44a-f36c3995bc24"
      },
      "execution_count": 17,
      "outputs": [
        {
          "output_type": "stream",
          "name": "stderr",
          "text": [
            "/usr/local/lib/python3.11/dist-packages/ipykernel/ipkernel.py:283: DeprecationWarning: `should_run_async` will not call `transform_cell` automatically in the future. Please pass the result to `transformed_cell` argument and any exception that happen during thetransform in `preprocessing_exc_tuple` in IPython 7.17 and above.\n",
            "  and should_run_async(code)\n"
          ]
        }
      ]
    },
    {
      "cell_type": "markdown",
      "source": [
        "### dictionary"
      ],
      "metadata": {
        "id": "T34BFGSDqO_c"
      }
    },
    {
      "cell_type": "code",
      "source": [
        "from gensim.utils import simple_preprocess"
      ],
      "metadata": {
        "colab": {
          "base_uri": "https://localhost:8080/"
        },
        "id": "LpuSG9vJHx0g",
        "outputId": "b64bea88-b8ee-45ae-ef10-b86df1af201b"
      },
      "execution_count": 18,
      "outputs": [
        {
          "output_type": "stream",
          "name": "stderr",
          "text": [
            "/usr/local/lib/python3.11/dist-packages/ipykernel/ipkernel.py:283: DeprecationWarning: `should_run_async` will not call `transform_cell` automatically in the future. Please pass the result to `transformed_cell` argument and any exception that happen during thetransform in `preprocessing_exc_tuple` in IPython 7.17 and above.\n",
            "  and should_run_async(code)\n"
          ]
        }
      ]
    },
    {
      "cell_type": "code",
      "source": [
        "%%time\n",
        "\n",
        "# name cleaned texts\n",
        "news_tokens = [text.split() for text in news_df[\"combined_text\"].tolist()]\n",
        "tweets_tokens = [text.split() for text in tweets_df[\"clean_text\"].tolist()]\n",
        "\n",
        "# join all tokens together in dataset\n",
        "all_text_tokens = news_tokens + tweets_tokens"
      ],
      "metadata": {
        "colab": {
          "base_uri": "https://localhost:8080/"
        },
        "id": "4-elJFJdHnCD",
        "outputId": "aa87a5fe-9eb6-4a00-9318-fbfe9838f1da"
      },
      "execution_count": 19,
      "outputs": [
        {
          "output_type": "stream",
          "name": "stderr",
          "text": [
            "/usr/local/lib/python3.11/dist-packages/ipykernel/ipkernel.py:283: DeprecationWarning: `should_run_async` will not call `transform_cell` automatically in the future. Please pass the result to `transformed_cell` argument and any exception that happen during thetransform in `preprocessing_exc_tuple` in IPython 7.17 and above.\n",
            "  and should_run_async(code)\n"
          ]
        },
        {
          "output_type": "stream",
          "name": "stdout",
          "text": [
            "CPU times: user 1.35 s, sys: 529 ms, total: 1.88 s\n",
            "Wall time: 1.91 s\n"
          ]
        }
      ]
    },
    {
      "cell_type": "code",
      "source": [
        "%%time\n",
        "\n",
        "# dictionary & filtering extremes\n",
        "dictionary = corpora.Dictionary(all_text_tokens)\n",
        "dictionary.filter_extremes(no_below=10, no_above=0.4)\n",
        "\n",
        "# BoW representation\n",
        "doc_term_matrix = [dictionary.doc2bow(text) for text in all_text_tokens]"
      ],
      "metadata": {
        "colab": {
          "base_uri": "https://localhost:8080/"
        },
        "id": "COGczf6vI0D4",
        "outputId": "058c94a7-be5b-470b-b0cd-0ddf8da2bf02"
      },
      "execution_count": 20,
      "outputs": [
        {
          "output_type": "stream",
          "name": "stderr",
          "text": [
            "/usr/local/lib/python3.11/dist-packages/ipykernel/ipkernel.py:283: DeprecationWarning: `should_run_async` will not call `transform_cell` automatically in the future. Please pass the result to `transformed_cell` argument and any exception that happen during thetransform in `preprocessing_exc_tuple` in IPython 7.17 and above.\n",
            "  and should_run_async(code)\n"
          ]
        },
        {
          "output_type": "stream",
          "name": "stdout",
          "text": [
            "CPU times: user 19.9 s, sys: 337 ms, total: 20.2 s\n",
            "Wall time: 20.6 s\n"
          ]
        }
      ]
    },
    {
      "cell_type": "markdown",
      "source": [
        "### LDA Modeling - Selecting Optimal N"
      ],
      "metadata": {
        "id": "PfR_QEPM6Cb0"
      }
    },
    {
      "cell_type": "code",
      "source": [
        "import matplotlib.pyplot as plt\n",
        "from gensim.models import CoherenceModel"
      ],
      "metadata": {
        "colab": {
          "base_uri": "https://localhost:8080/"
        },
        "id": "c3LYKRAkH3z8",
        "outputId": "75ff8e53-d395-4e57-8491-2ef6a17ceca1"
      },
      "execution_count": 21,
      "outputs": [
        {
          "output_type": "stream",
          "name": "stderr",
          "text": [
            "/usr/local/lib/python3.11/dist-packages/ipykernel/ipkernel.py:283: DeprecationWarning: `should_run_async` will not call `transform_cell` automatically in the future. Please pass the result to `transformed_cell` argument and any exception that happen during thetransform in `preprocessing_exc_tuple` in IPython 7.17 and above.\n",
            "  and should_run_async(code)\n"
          ]
        }
      ]
    },
    {
      "cell_type": "code",
      "source": [
        "# hyperparemter tuning for LDA - testing topic number 3 through 10\n",
        "def compute_coherence_values(dictionary, corpus, texts, min=3, max=10, step=2):\n",
        "    coherence_values = []\n",
        "    model_list = []\n",
        "\n",
        "    for num_topics in range(min, max, step):\n",
        "        lda_model = LdaMulticore(\n",
        "            corpus=corpus,\n",
        "            id2word=dictionary,\n",
        "            num_topics=num_topics,\n",
        "            random_state=100,\n",
        "            passes=5,\n",
        "            alpha='asymmetric',\n",
        "            eta=0.01,\n",
        "            workers=workers\n",
        "        )\n",
        "\n",
        "        model_list.append(lda_model)\n",
        "        coherence_model_lda = CoherenceModel(model=lda_model, texts=texts, dictionary=dictionary, coherence='c_v')\n",
        "        coherence_values.append(coherence_model_lda.get_coherence())\n",
        "        print(f'Number of topics: {num_topics}, Coherence Score: {coherence_values[-1]}')\n",
        "\n",
        "    return model_list, coherence_values"
      ],
      "metadata": {
        "colab": {
          "base_uri": "https://localhost:8080/"
        },
        "id": "bjLaP5REH9or",
        "outputId": "ffb3c75d-5fad-4497-cbe3-231810f69101"
      },
      "execution_count": 24,
      "outputs": [
        {
          "output_type": "stream",
          "name": "stderr",
          "text": [
            "/usr/local/lib/python3.11/dist-packages/ipykernel/ipkernel.py:283: DeprecationWarning: `should_run_async` will not call `transform_cell` automatically in the future. Please pass the result to `transformed_cell` argument and any exception that happen during thetransform in `preprocessing_exc_tuple` in IPython 7.17 and above.\n",
            "  and should_run_async(code)\n"
          ]
        }
      ]
    },
    {
      "cell_type": "code",
      "source": [
        "# compute coherence for topicsL N=3 to N=10\n",
        "model_list, coherence_values = compute_coherence_values(dictionary, doc_term_matrix, all_text_tokens, max=10)"
      ],
      "metadata": {
        "colab": {
          "base_uri": "https://localhost:8080/"
        },
        "id": "tskRKJqHKB1R",
        "outputId": "8ee60bdc-6304-48a0-b1c6-4504387af965"
      },
      "execution_count": 25,
      "outputs": [
        {
          "metadata": {
            "tags": null
          },
          "name": "stderr",
          "output_type": "stream",
          "text": [
            "/usr/local/lib/python3.11/dist-packages/ipykernel/ipkernel.py:283: DeprecationWarning: `should_run_async` will not call `transform_cell` automatically in the future. Please pass the result to `transformed_cell` argument and any exception that happen during thetransform in `preprocessing_exc_tuple` in IPython 7.17 and above.\n",
            "  and should_run_async(code)\n"
          ]
        },
        {
          "output_type": "stream",
          "name": "stdout",
          "text": [
            "Number of topics: 3, Coherence Score: 0.48570402070427354\n",
            "Number of topics: 5, Coherence Score: 0.480086463179762\n",
            "Number of topics: 7, Coherence Score: 0.5029367384865254\n",
            "Number of topics: 9, Coherence Score: 0.5131733596294932\n"
          ]
        }
      ]
    },
    {
      "cell_type": "code",
      "source": [
        "# optimal N based on the highest coherence score\n",
        "optimal_n = np.argmax(coherence_values)\n",
        "\n",
        "topic_values = list(range(3,10,2))\n",
        "optimal_n = topic_values[optimal_n]\n",
        "print(f'Optimal number of topics: {optimal_n}')"
      ],
      "metadata": {
        "colab": {
          "base_uri": "https://localhost:8080/"
        },
        "id": "1DxalSDeKm6a",
        "outputId": "5ace3bca-5227-4a68-a675-6dc64f6afca7"
      },
      "execution_count": 26,
      "outputs": [
        {
          "output_type": "stream",
          "name": "stdout",
          "text": [
            "Optimal number of topics: 9\n"
          ]
        },
        {
          "output_type": "stream",
          "name": "stderr",
          "text": [
            "/usr/local/lib/python3.11/dist-packages/ipykernel/ipkernel.py:283: DeprecationWarning: `should_run_async` will not call `transform_cell` automatically in the future. Please pass the result to `transformed_cell` argument and any exception that happen during thetransform in `preprocessing_exc_tuple` in IPython 7.17 and above.\n",
            "  and should_run_async(code)\n"
          ]
        }
      ]
    },
    {
      "cell_type": "code",
      "source": [
        "# plot coherence scores\n",
        "plt.plot(topic_values, coherence_values, marker='o')\n",
        "plt.xlabel(\"Number of Topics\")\n",
        "plt.ylabel(\"Coherence Score\")\n",
        "plt.title(\"Optimal Number of Topics\")\n",
        "plt.xticks(topic_values)\n",
        "plt.show()"
      ],
      "metadata": {
        "colab": {
          "base_uri": "https://localhost:8080/",
          "height": 527
        },
        "id": "8r0gH9W9KMvT",
        "outputId": "f645816c-5df0-4d30-fca9-f068f35a0a29"
      },
      "execution_count": 27,
      "outputs": [
        {
          "output_type": "stream",
          "name": "stderr",
          "text": [
            "/usr/local/lib/python3.11/dist-packages/ipykernel/ipkernel.py:283: DeprecationWarning: `should_run_async` will not call `transform_cell` automatically in the future. Please pass the result to `transformed_cell` argument and any exception that happen during thetransform in `preprocessing_exc_tuple` in IPython 7.17 and above.\n",
            "  and should_run_async(code)\n"
          ]
        },
        {
          "output_type": "display_data",
          "data": {
            "text/plain": [
              "<Figure size 640x480 with 1 Axes>"
            ],
            "image/png": "[encoded data removed]"
          },
          "metadata": {}
        }
      ]
    },
    {
      "cell_type": "markdown",
      "source": [
        "### Finalized LDA Model"
      ],
      "metadata": {
        "id": "eui-OVvnIArb"
      }
    },
    {
      "cell_type": "code",
      "source": [
        "%%time\n",
        "\n",
        "# Train LDA with the best `N`\n",
        "lda_model = LdaMulticore(\n",
        "    corpus=doc_term_matrix,\n",
        "    id2word=dictionary,\n",
        "    num_topics=optimal_n,\n",
        "    random_state=100,\n",
        "    passes=10,\n",
        "    alpha='symmetric',\n",
        "    eta='auto',\n",
        "    workers=4\n",
        ")"
      ],
      "metadata": {
        "colab": {
          "base_uri": "https://localhost:8080/"
        },
        "id": "oSFN_Ck_ICrg",
        "outputId": "64435289-e55d-4ccf-b9d6-4c0689430c70"
      },
      "execution_count": 28,
      "outputs": [
        {
          "output_type": "stream",
          "name": "stderr",
          "text": [
            "/usr/local/lib/python3.11/dist-packages/ipykernel/ipkernel.py:283: DeprecationWarning: `should_run_async` will not call `transform_cell` automatically in the future. Please pass the result to `transformed_cell` argument and any exception that happen during thetransform in `preprocessing_exc_tuple` in IPython 7.17 and above.\n",
            "  and should_run_async(code)\n"
          ]
        },
        {
          "output_type": "stream",
          "name": "stdout",
          "text": [
            "CPU times: user 1min 23s, sys: 5.6 s, total: 1min 28s\n",
            "Wall time: 4min 25s\n"
          ]
        }
      ]
    },
    {
      "cell_type": "code",
      "source": [
        "topics = lda_model.print_topics(num_topics=optimal_n, num_words=10)\n",
        "for topic in topics:\n",
        "    print(topic)"
      ],
      "metadata": {
        "colab": {
          "base_uri": "https://localhost:8080/"
        },
        "id": "brjvkkXRKuYY",
        "outputId": "04fdb200-f510-4265-fc5a-98ed6e7a65de"
      },
      "execution_count": 29,
      "outputs": [
        {
          "output_type": "stream",
          "name": "stdout",
          "text": [
            "(0, '0.007*\"Best\" + 0.007*\"new\" + 0.004*\"Reviews\" + 0.004*\"game\" + 0.003*\"Tech\" + 0.003*\"Windows\" + 0.003*\"Google\" + 0.003*\"open\" + 0.003*\"Phone\" + 0.003*\"Apple\"')\n",
            "(1, '0.023*\"–\" + 0.017*\"Music\" + 0.017*\"Video\" + 0.016*\"Official\" + 0.007*\"Oakland\" + 0.004*\"Song\" + 0.004*\"video\" + 0.004*\"New\" + 0.004*\"v\" + 0.003*\"NFL\"')\n",
            "(2, '0.006*\"Inc\" + 0.006*\"Times\" + 0.005*\"share\" + 0.005*\"Sports\" + 0.005*\"Health\" + 0.005*\"new\" + 0.004*\"Politics\" + 0.004*\"link\" + 0.004*\"Music\" + 0.004*\"company\"')\n",
            "(3, '0.012*\"ago\" + 0.009*\"de\" + 0.008*\"DE\" + 0.006*\"Weather\" + 0.006*\"LA\" + 0.005*\"QUE\" + 0.005*\"hour\" + 0.005*\"Video\" + 0.004*\"product\" + 0.004*\"la\"')\n",
            "(4, '0.008*\"PM\" + 0.005*\"new\" + 0.004*\"Republic\" + 0.003*\"May\" + 0.003*\"business\" + 0.003*\"Linux\" + 0.003*\"Apr\" + 0.003*\"company\" + 0.003*\"data\" + 0.003*\"technology\"')\n",
            "(5, '0.007*\"year\" + 0.005*\"cookie\" + 0.005*\"said\" + 0.004*\"day\" + 0.004*\"ago\" + 0.004*\"month\" + 0.004*\"set\" + 0.004*\"used\" + 0.003*\"user\" + 0.003*\"website\"')\n",
            "(6, '0.006*\"Tech\" + 0.005*\"package\" + 0.005*\"Writing\" + 0.005*\"Stories\" + 0.005*\"Interview\" + 0.005*\"type\" + 0.005*\"Top\" + 0.005*\"List\" + 0.004*\"Development\" + 0.004*\"Startups\"')\n",
            "(7, '0.011*\"Market\" + 0.008*\"market\" + 0.005*\"General\" + 0.005*\"Global\" + 0.004*\"stock\" + 0.004*\"Technology\" + 0.004*\"Business\" + 0.003*\"Stocks\" + 0.003*\"Group\" + 0.003*\"US\"')\n",
            "(8, '0.003*\"US\" + 0.003*\"show\" + 0.003*\"Video\" + 0.003*\"say\" + 0.003*\"new\" + 0.003*\"star\" + 0.002*\"year\" + 0.002*\"New\" + 0.002*\"look\" + 0.002*\"Mail\"')\n"
          ]
        },
        {
          "output_type": "stream",
          "name": "stderr",
          "text": [
            "/usr/local/lib/python3.11/dist-packages/ipykernel/ipkernel.py:283: DeprecationWarning: `should_run_async` will not call `transform_cell` automatically in the future. Please pass the result to `transformed_cell` argument and any exception that happen during thetransform in `preprocessing_exc_tuple` in IPython 7.17 and above.\n",
            "  and should_run_async(code)\n"
          ]
        }
      ]
    },
    {
      "cell_type": "markdown",
      "source": [
        "The N that I chose was 9 topics. I tested possible X values (3, 5, 7, and 9). We can see in the above plot that 9 topics has the highst coherence score which balances distinct themes while minimizing duplication.\n",
        "\n",
        "The 9 topics are displayed above from both articles and tweets.\n",
        "\n",
        "It's interesting to note that there are still some common words - 'new', 'link', 'ago', 'year', 'said' - which should be removed as custom stopwords. Unfortunately, due to run time I wasn't able to run this again with this modification, but this would be my first next step.\n",
        "\n",
        "Additionally, it would've been better to implement a bigram or trigram model given the nature of the long articles to capture multi-word terms such as 'stock market'."
      ],
      "metadata": {
        "id": "03K6JsfuciBh"
      }
    },
    {
      "cell_type": "code",
      "source": [],
      "metadata": {
        "id": "HjY7hthxeW_v"
      },
      "execution_count": null,
      "outputs": []
    }
  ],
  "metadata": {
    "kernelspec": {
      "display_name": "Python 3",
      "name": "python3"
    },
    "language_info": {
      "codemirror_mode": {
        "name": "ipython",
        "version": 3
      },
      "file_extension": ".py",
      "mimetype": "text/x-python",
      "name": "python",
      "nbconvert_exporter": "python",
      "pygments_lexer": "ipython3",
      "version": "3.7.12"
    },
    "colab": {
      "provenance": [],
      "gpuType": "T4"
    },
    "accelerator": "GPU"
  },
  "nbformat": 4,
  "nbformat_minor": 0
}
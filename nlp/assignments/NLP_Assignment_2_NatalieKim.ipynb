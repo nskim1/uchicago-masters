{
 "cells": [
  {
   "cell_type": "markdown",
   "metadata": {},
   "source": [
    "### NLP Assignment 2\n",
    "Natalie Kim\n",
    "\n",
    "Identify top-10 tokens that occur in regulation descriptions in the table."
   ]
  },
  {
   "cell_type": "code",
   "execution_count": 1,
   "metadata": {},
   "outputs": [],
   "source": [
    "import pandas as pd\n",
    "import requests"
   ]
  },
  {
   "cell_type": "code",
   "execution_count": 2,
   "metadata": {},
   "outputs": [
    {
     "name": "stdout",
     "output_type": "stream",
     "text": [
      "Total number of records available: 285,719\n",
      "CPU times: user 123 ms, sys: 9.03 ms, total: 132 ms\n",
      "Wall time: 938 ms\n"
     ]
    }
   ],
   "source": [
    "%%time\n",
    "\n",
    "# Define the API endpoint and parameters\n",
    "url = \"https://data.cityofchicago.org/resource/cwig-ma7x.json\"\n",
    "\n",
    "# Fetch the total count of records\n",
    "def get_total_count(url):\n",
    "    params = {\n",
    "        \"$select\": \"count(*)\"\n",
    "    }\n",
    "    response = requests.get(url, params=params)\n",
    "    data = response.json()\n",
    "    return int(data[0]['count'])\n",
    "\n",
    "total_count = get_total_count(url)\n",
    "print(f\"Total number of records available: {total_count:,.0f}\")"
   ]
  },
  {
   "cell_type": "code",
   "execution_count": 3,
   "metadata": {},
   "outputs": [
    {
     "name": "stdout",
     "output_type": "stream",
     "text": [
      "Number of records retrieved: 285,719\n",
      "CPU times: user 4.54 s, sys: 860 ms, total: 5.4 s\n",
      "Wall time: 32.8 s\n"
     ]
    }
   ],
   "source": [
    "%%time\n",
    "\n",
    "# Fetch data and load it into a pandas DataFrame\n",
    "def fetch_data(url, params):\n",
    "    response = requests.get(url, params=params)\n",
    "    data = response.json()\n",
    "    return pd.DataFrame(data)\n",
    "\n",
    "# Set the limit parameter equal to the number of available records\n",
    "params = {\n",
    "    \"$limit\": total_count\n",
    "}\n",
    "\n",
    "# Fetch the data and load it into a DataFrame\n",
    "df = fetch_data(url, params)\n",
    "\n",
    "print(f'Number of records retrieved: {df.shape[0]:,.0f}')"
   ]
  },
  {
   "cell_type": "code",
   "execution_count": 4,
   "metadata": {},
   "outputs": [
    {
     "data": {
      "text/html": [
       "<div>\n",
       "<style scoped>\n",
       "    .dataframe tbody tr th:only-of-type {\n",
       "        vertical-align: middle;\n",
       "    }\n",
       "\n",
       "    .dataframe tbody tr th {\n",
       "        vertical-align: top;\n",
       "    }\n",
       "\n",
       "    .dataframe thead th {\n",
       "        text-align: right;\n",
       "    }\n",
       "</style>\n",
       "<table border=\"1\" class=\"dataframe\">\n",
       "  <thead>\n",
       "    <tr style=\"text-align: right;\">\n",
       "      <th></th>\n",
       "      <th>inspection_id</th>\n",
       "      <th>dba_name</th>\n",
       "      <th>aka_name</th>\n",
       "      <th>license_</th>\n",
       "      <th>risk</th>\n",
       "      <th>address</th>\n",
       "      <th>state</th>\n",
       "      <th>zip</th>\n",
       "      <th>inspection_date</th>\n",
       "      <th>inspection_type</th>\n",
       "      <th>...</th>\n",
       "      <th>location_city</th>\n",
       "      <th>location_state</th>\n",
       "      <th>location_zip</th>\n",
       "      <th>:@computed_region_awaf_s7ux</th>\n",
       "      <th>:@computed_region_6mkv_f3dw</th>\n",
       "      <th>:@computed_region_vrxf_vc4k</th>\n",
       "      <th>:@computed_region_bdys_3d7i</th>\n",
       "      <th>:@computed_region_43wa_7qmu</th>\n",
       "      <th>facility_type</th>\n",
       "      <th>city</th>\n",
       "    </tr>\n",
       "  </thead>\n",
       "  <tbody>\n",
       "    <tr>\n",
       "      <th>0</th>\n",
       "      <td>2610640</td>\n",
       "      <td>NEKTER JUICE BAR</td>\n",
       "      <td>NEKTER JUICE BAR</td>\n",
       "      <td>2997280</td>\n",
       "      <td>Risk 2 (Medium)</td>\n",
       "      <td>1338 S HALSTED ST</td>\n",
       "      <td>IL</td>\n",
       "      <td>60607</td>\n",
       "      <td>2025-01-16T00:00:00.000</td>\n",
       "      <td>License</td>\n",
       "      <td>...</td>\n",
       "      <td></td>\n",
       "      <td></td>\n",
       "      <td></td>\n",
       "      <td>8</td>\n",
       "      <td>14917</td>\n",
       "      <td>29</td>\n",
       "      <td>97</td>\n",
       "      <td>48</td>\n",
       "      <td>NaN</td>\n",
       "      <td>NaN</td>\n",
       "    </tr>\n",
       "    <tr>\n",
       "      <th>1</th>\n",
       "      <td>2610631</td>\n",
       "      <td>TEDDY BEAR NURSERY SCHOOLS</td>\n",
       "      <td>TEDDY BEAR NURSERY</td>\n",
       "      <td>2877040</td>\n",
       "      <td>Risk 1 (High)</td>\n",
       "      <td>2649 W 51ST ST</td>\n",
       "      <td>IL</td>\n",
       "      <td>60632</td>\n",
       "      <td>2025-01-16T00:00:00.000</td>\n",
       "      <td>License</td>\n",
       "      <td>...</td>\n",
       "      <td></td>\n",
       "      <td></td>\n",
       "      <td></td>\n",
       "      <td>49</td>\n",
       "      <td>22248</td>\n",
       "      <td>61</td>\n",
       "      <td>778</td>\n",
       "      <td>8</td>\n",
       "      <td>Daycare Above and Under 2 Years</td>\n",
       "      <td>CHICAGO</td>\n",
       "    </tr>\n",
       "    <tr>\n",
       "      <th>2</th>\n",
       "      <td>2610656</td>\n",
       "      <td>Talcott</td>\n",
       "      <td>Talcott</td>\n",
       "      <td>25581</td>\n",
       "      <td>Risk 1 (High)</td>\n",
       "      <td>1840 W Ohio ST</td>\n",
       "      <td>IL</td>\n",
       "      <td>60622</td>\n",
       "      <td>2025-01-16T00:00:00.000</td>\n",
       "      <td>Canvass</td>\n",
       "      <td>...</td>\n",
       "      <td></td>\n",
       "      <td></td>\n",
       "      <td></td>\n",
       "      <td>24</td>\n",
       "      <td>21560</td>\n",
       "      <td>25</td>\n",
       "      <td>519</td>\n",
       "      <td>41</td>\n",
       "      <td>School</td>\n",
       "      <td>CHICAGO</td>\n",
       "    </tr>\n",
       "    <tr>\n",
       "      <th>3</th>\n",
       "      <td>2610639</td>\n",
       "      <td>TAQUERIA   AY  MAMA</td>\n",
       "      <td>TAQUERIA   AY   MAMA</td>\n",
       "      <td>3007153</td>\n",
       "      <td>Risk 1 (High)</td>\n",
       "      <td>3233 W CERMAK RD</td>\n",
       "      <td>IL</td>\n",
       "      <td>60623</td>\n",
       "      <td>2025-01-16T00:00:00.000</td>\n",
       "      <td>License</td>\n",
       "      <td>...</td>\n",
       "      <td></td>\n",
       "      <td></td>\n",
       "      <td></td>\n",
       "      <td>36</td>\n",
       "      <td>21569</td>\n",
       "      <td>32</td>\n",
       "      <td>291</td>\n",
       "      <td>1</td>\n",
       "      <td>Restaurant</td>\n",
       "      <td>CHICAGO</td>\n",
       "    </tr>\n",
       "    <tr>\n",
       "      <th>4</th>\n",
       "      <td>2610664</td>\n",
       "      <td>RAFA'S CHICKEN</td>\n",
       "      <td>RAFA'S CHICKEN</td>\n",
       "      <td>2397487</td>\n",
       "      <td>Risk 1 (High)</td>\n",
       "      <td>4410 W 63RD ST</td>\n",
       "      <td>IL</td>\n",
       "      <td>60629</td>\n",
       "      <td>2025-01-16T00:00:00.000</td>\n",
       "      <td>Canvass</td>\n",
       "      <td>...</td>\n",
       "      <td></td>\n",
       "      <td></td>\n",
       "      <td></td>\n",
       "      <td>23</td>\n",
       "      <td>21867</td>\n",
       "      <td>63</td>\n",
       "      <td>292</td>\n",
       "      <td>6</td>\n",
       "      <td>Restaurant</td>\n",
       "      <td>CHICAGO</td>\n",
       "    </tr>\n",
       "  </tbody>\n",
       "</table>\n",
       "<p>5 rows × 26 columns</p>\n",
       "</div>"
      ],
      "text/plain": [
       "  inspection_id                    dba_name              aka_name license_  \\\n",
       "0       2610640            NEKTER JUICE BAR      NEKTER JUICE BAR  2997280   \n",
       "1       2610631  TEDDY BEAR NURSERY SCHOOLS    TEDDY BEAR NURSERY  2877040   \n",
       "2       2610656                     Talcott               Talcott    25581   \n",
       "3       2610639         TAQUERIA   AY  MAMA  TAQUERIA   AY   MAMA  3007153   \n",
       "4       2610664              RAFA'S CHICKEN        RAFA'S CHICKEN  2397487   \n",
       "\n",
       "              risk            address state    zip          inspection_date  \\\n",
       "0  Risk 2 (Medium)  1338 S HALSTED ST    IL  60607  2025-01-16T00:00:00.000   \n",
       "1    Risk 1 (High)     2649 W 51ST ST    IL  60632  2025-01-16T00:00:00.000   \n",
       "2    Risk 1 (High)     1840 W Ohio ST    IL  60622  2025-01-16T00:00:00.000   \n",
       "3    Risk 1 (High)   3233 W CERMAK RD    IL  60623  2025-01-16T00:00:00.000   \n",
       "4    Risk 1 (High)     4410 W 63RD ST    IL  60629  2025-01-16T00:00:00.000   \n",
       "\n",
       "  inspection_type  ... location_city location_state location_zip  \\\n",
       "0         License  ...                                             \n",
       "1         License  ...                                             \n",
       "2         Canvass  ...                                             \n",
       "3         License  ...                                             \n",
       "4         Canvass  ...                                             \n",
       "\n",
       "  :@computed_region_awaf_s7ux :@computed_region_6mkv_f3dw  \\\n",
       "0                           8                       14917   \n",
       "1                          49                       22248   \n",
       "2                          24                       21560   \n",
       "3                          36                       21569   \n",
       "4                          23                       21867   \n",
       "\n",
       "  :@computed_region_vrxf_vc4k :@computed_region_bdys_3d7i  \\\n",
       "0                          29                          97   \n",
       "1                          61                         778   \n",
       "2                          25                         519   \n",
       "3                          32                         291   \n",
       "4                          63                         292   \n",
       "\n",
       "  :@computed_region_43wa_7qmu                    facility_type     city  \n",
       "0                          48                              NaN      NaN  \n",
       "1                           8  Daycare Above and Under 2 Years  CHICAGO  \n",
       "2                          41                           School  CHICAGO  \n",
       "3                           1                       Restaurant  CHICAGO  \n",
       "4                           6                       Restaurant  CHICAGO  \n",
       "\n",
       "[5 rows x 26 columns]"
      ]
     },
     "execution_count": 4,
     "metadata": {},
     "output_type": "execute_result"
    }
   ],
   "source": [
    "df.head(5)"
   ]
  },
  {
   "cell_type": "code",
   "execution_count": 5,
   "metadata": {},
   "outputs": [
    {
     "name": "stdout",
     "output_type": "stream",
     "text": [
      "Index(['inspection_id', 'dba_name', 'aka_name', 'license_', 'risk', 'address',\n",
      "       'state', 'zip', 'inspection_date', 'inspection_type', 'results',\n",
      "       'violations', 'latitude', 'longitude', 'location', 'location_address',\n",
      "       'location_city', 'location_state', 'location_zip',\n",
      "       ':@computed_region_awaf_s7ux', ':@computed_region_6mkv_f3dw',\n",
      "       ':@computed_region_vrxf_vc4k', ':@computed_region_bdys_3d7i',\n",
      "       ':@computed_region_43wa_7qmu', 'facility_type', 'city'],\n",
      "      dtype='object')\n"
     ]
    }
   ],
   "source": [
    "print(df.columns)"
   ]
  },
  {
   "cell_type": "code",
   "execution_count": 6,
   "metadata": {},
   "outputs": [
    {
     "data": {
      "text/html": [
       "<div>\n",
       "<style scoped>\n",
       "    .dataframe tbody tr th:only-of-type {\n",
       "        vertical-align: middle;\n",
       "    }\n",
       "\n",
       "    .dataframe tbody tr th {\n",
       "        vertical-align: top;\n",
       "    }\n",
       "\n",
       "    .dataframe thead th {\n",
       "        text-align: right;\n",
       "    }\n",
       "</style>\n",
       "<table border=\"1\" class=\"dataframe\">\n",
       "  <thead>\n",
       "    <tr style=\"text-align: right;\">\n",
       "      <th></th>\n",
       "      <th>inspection_id</th>\n",
       "      <th>dba_name</th>\n",
       "      <th>aka_name</th>\n",
       "      <th>license_</th>\n",
       "      <th>risk</th>\n",
       "      <th>address</th>\n",
       "      <th>state</th>\n",
       "      <th>zip</th>\n",
       "      <th>inspection_date</th>\n",
       "      <th>inspection_type</th>\n",
       "      <th>results</th>\n",
       "      <th>violations</th>\n",
       "      <th>latitude</th>\n",
       "      <th>longitude</th>\n",
       "    </tr>\n",
       "  </thead>\n",
       "  <tbody>\n",
       "    <tr>\n",
       "      <th>0</th>\n",
       "      <td>2610640</td>\n",
       "      <td>NEKTER JUICE BAR</td>\n",
       "      <td>NEKTER JUICE BAR</td>\n",
       "      <td>2997280</td>\n",
       "      <td>Risk 2 (Medium)</td>\n",
       "      <td>1338 S HALSTED ST</td>\n",
       "      <td>IL</td>\n",
       "      <td>60607</td>\n",
       "      <td>2025-01-16T00:00:00.000</td>\n",
       "      <td>License</td>\n",
       "      <td>Fail</td>\n",
       "      <td>10. ADEQUATE HANDWASHING SINKS PROPERLY SUPPLI...</td>\n",
       "      <td>41.86440790840258</td>\n",
       "      <td>-87.64698520298732</td>\n",
       "    </tr>\n",
       "    <tr>\n",
       "      <th>1</th>\n",
       "      <td>2610631</td>\n",
       "      <td>TEDDY BEAR NURSERY SCHOOLS</td>\n",
       "      <td>TEDDY BEAR NURSERY</td>\n",
       "      <td>2877040</td>\n",
       "      <td>Risk 1 (High)</td>\n",
       "      <td>2649 W 51ST ST</td>\n",
       "      <td>IL</td>\n",
       "      <td>60632</td>\n",
       "      <td>2025-01-16T00:00:00.000</td>\n",
       "      <td>License</td>\n",
       "      <td>Pass</td>\n",
       "      <td>16. FOOD-CONTACT SURFACES: CLEANED &amp; SANITIZED...</td>\n",
       "      <td>41.800929053272796</td>\n",
       "      <td>-87.6910729228353</td>\n",
       "    </tr>\n",
       "    <tr>\n",
       "      <th>2</th>\n",
       "      <td>2610656</td>\n",
       "      <td>Talcott</td>\n",
       "      <td>Talcott</td>\n",
       "      <td>25581</td>\n",
       "      <td>Risk 1 (High)</td>\n",
       "      <td>1840 W Ohio ST</td>\n",
       "      <td>IL</td>\n",
       "      <td>60622</td>\n",
       "      <td>2025-01-16T00:00:00.000</td>\n",
       "      <td>Canvass</td>\n",
       "      <td>Pass</td>\n",
       "      <td>53. TOILET FACILITIES: PROPERLY CONSTRUCTED, S...</td>\n",
       "      <td>41.89243235095555</td>\n",
       "      <td>-87.67370498741765</td>\n",
       "    </tr>\n",
       "    <tr>\n",
       "      <th>3</th>\n",
       "      <td>2610639</td>\n",
       "      <td>TAQUERIA   AY  MAMA</td>\n",
       "      <td>TAQUERIA   AY   MAMA</td>\n",
       "      <td>3007153</td>\n",
       "      <td>Risk 1 (High)</td>\n",
       "      <td>3233 W CERMAK RD</td>\n",
       "      <td>IL</td>\n",
       "      <td>60623</td>\n",
       "      <td>2025-01-16T00:00:00.000</td>\n",
       "      <td>License</td>\n",
       "      <td>Fail</td>\n",
       "      <td>10. ADEQUATE HANDWASHING SINKS PROPERLY SUPPLI...</td>\n",
       "      <td>41.85164288650078</td>\n",
       "      <td>-87.7064081112397</td>\n",
       "    </tr>\n",
       "    <tr>\n",
       "      <th>4</th>\n",
       "      <td>2610664</td>\n",
       "      <td>RAFA'S CHICKEN</td>\n",
       "      <td>RAFA'S CHICKEN</td>\n",
       "      <td>2397487</td>\n",
       "      <td>Risk 1 (High)</td>\n",
       "      <td>4410 W 63RD ST</td>\n",
       "      <td>IL</td>\n",
       "      <td>60629</td>\n",
       "      <td>2025-01-16T00:00:00.000</td>\n",
       "      <td>Canvass</td>\n",
       "      <td>Pass</td>\n",
       "      <td>47. FOOD &amp; NON-FOOD CONTACT SURFACES CLEANABLE...</td>\n",
       "      <td>41.778647086061646</td>\n",
       "      <td>-87.73304626375042</td>\n",
       "    </tr>\n",
       "  </tbody>\n",
       "</table>\n",
       "</div>"
      ],
      "text/plain": [
       "  inspection_id                    dba_name              aka_name license_  \\\n",
       "0       2610640            NEKTER JUICE BAR      NEKTER JUICE BAR  2997280   \n",
       "1       2610631  TEDDY BEAR NURSERY SCHOOLS    TEDDY BEAR NURSERY  2877040   \n",
       "2       2610656                     Talcott               Talcott    25581   \n",
       "3       2610639         TAQUERIA   AY  MAMA  TAQUERIA   AY   MAMA  3007153   \n",
       "4       2610664              RAFA'S CHICKEN        RAFA'S CHICKEN  2397487   \n",
       "\n",
       "              risk            address state    zip          inspection_date  \\\n",
       "0  Risk 2 (Medium)  1338 S HALSTED ST    IL  60607  2025-01-16T00:00:00.000   \n",
       "1    Risk 1 (High)     2649 W 51ST ST    IL  60632  2025-01-16T00:00:00.000   \n",
       "2    Risk 1 (High)     1840 W Ohio ST    IL  60622  2025-01-16T00:00:00.000   \n",
       "3    Risk 1 (High)   3233 W CERMAK RD    IL  60623  2025-01-16T00:00:00.000   \n",
       "4    Risk 1 (High)     4410 W 63RD ST    IL  60629  2025-01-16T00:00:00.000   \n",
       "\n",
       "  inspection_type results                                         violations  \\\n",
       "0         License    Fail  10. ADEQUATE HANDWASHING SINKS PROPERLY SUPPLI...   \n",
       "1         License    Pass  16. FOOD-CONTACT SURFACES: CLEANED & SANITIZED...   \n",
       "2         Canvass    Pass  53. TOILET FACILITIES: PROPERLY CONSTRUCTED, S...   \n",
       "3         License    Fail  10. ADEQUATE HANDWASHING SINKS PROPERLY SUPPLI...   \n",
       "4         Canvass    Pass  47. FOOD & NON-FOOD CONTACT SURFACES CLEANABLE...   \n",
       "\n",
       "             latitude           longitude  \n",
       "0   41.86440790840258  -87.64698520298732  \n",
       "1  41.800929053272796   -87.6910729228353  \n",
       "2   41.89243235095555  -87.67370498741765  \n",
       "3   41.85164288650078   -87.7064081112397  \n",
       "4  41.778647086061646  -87.73304626375042  "
      ]
     },
     "execution_count": 6,
     "metadata": {},
     "output_type": "execute_result"
    }
   ],
   "source": [
    "df = df.iloc[:, :-12]\n",
    "\n",
    "df.head(5)"
   ]
  },
  {
   "cell_type": "markdown",
   "metadata": {},
   "source": [
    "##### 1. Similar to Assignment 1, filter the data for failed inspections and only keep records where Violations description is not blank. "
   ]
  },
  {
   "cell_type": "code",
   "execution_count": 7,
   "metadata": {},
   "outputs": [
    {
     "data": {
      "text/html": [
       "<div>\n",
       "<style scoped>\n",
       "    .dataframe tbody tr th:only-of-type {\n",
       "        vertical-align: middle;\n",
       "    }\n",
       "\n",
       "    .dataframe tbody tr th {\n",
       "        vertical-align: top;\n",
       "    }\n",
       "\n",
       "    .dataframe thead th {\n",
       "        text-align: right;\n",
       "    }\n",
       "</style>\n",
       "<table border=\"1\" class=\"dataframe\">\n",
       "  <thead>\n",
       "    <tr style=\"text-align: right;\">\n",
       "      <th></th>\n",
       "      <th>inspection_id</th>\n",
       "      <th>dba_name</th>\n",
       "      <th>aka_name</th>\n",
       "      <th>license_</th>\n",
       "      <th>risk</th>\n",
       "      <th>address</th>\n",
       "      <th>state</th>\n",
       "      <th>zip</th>\n",
       "      <th>inspection_date</th>\n",
       "      <th>inspection_type</th>\n",
       "      <th>results</th>\n",
       "      <th>violations</th>\n",
       "      <th>latitude</th>\n",
       "      <th>longitude</th>\n",
       "    </tr>\n",
       "  </thead>\n",
       "  <tbody>\n",
       "    <tr>\n",
       "      <th>0</th>\n",
       "      <td>2610640</td>\n",
       "      <td>NEKTER JUICE BAR</td>\n",
       "      <td>NEKTER JUICE BAR</td>\n",
       "      <td>2997280</td>\n",
       "      <td>Risk 2 (Medium)</td>\n",
       "      <td>1338 S HALSTED ST</td>\n",
       "      <td>IL</td>\n",
       "      <td>60607</td>\n",
       "      <td>2025-01-16T00:00:00.000</td>\n",
       "      <td>License</td>\n",
       "      <td>Fail</td>\n",
       "      <td>10. ADEQUATE HANDWASHING SINKS PROPERLY SUPPLI...</td>\n",
       "      <td>41.86440790840258</td>\n",
       "      <td>-87.64698520298732</td>\n",
       "    </tr>\n",
       "    <tr>\n",
       "      <th>3</th>\n",
       "      <td>2610639</td>\n",
       "      <td>TAQUERIA   AY  MAMA</td>\n",
       "      <td>TAQUERIA   AY   MAMA</td>\n",
       "      <td>3007153</td>\n",
       "      <td>Risk 1 (High)</td>\n",
       "      <td>3233 W CERMAK RD</td>\n",
       "      <td>IL</td>\n",
       "      <td>60623</td>\n",
       "      <td>2025-01-16T00:00:00.000</td>\n",
       "      <td>License</td>\n",
       "      <td>Fail</td>\n",
       "      <td>10. ADEQUATE HANDWASHING SINKS PROPERLY SUPPLI...</td>\n",
       "      <td>41.85164288650078</td>\n",
       "      <td>-87.7064081112397</td>\n",
       "    </tr>\n",
       "    <tr>\n",
       "      <th>5</th>\n",
       "      <td>2610687</td>\n",
       "      <td>HNDOCU.COM LLC</td>\n",
       "      <td>HNDOCU.COM LLC</td>\n",
       "      <td>2890658</td>\n",
       "      <td>Risk 3 (Low)</td>\n",
       "      <td>821 VAN BUREN</td>\n",
       "      <td>IL</td>\n",
       "      <td>60607</td>\n",
       "      <td>2025-01-16T00:00:00.000</td>\n",
       "      <td>License</td>\n",
       "      <td>Fail</td>\n",
       "      <td>5. PROCEDURES FOR RESPONDING TO VOMITING AND D...</td>\n",
       "      <td>NaN</td>\n",
       "      <td>NaN</td>\n",
       "    </tr>\n",
       "    <tr>\n",
       "      <th>6</th>\n",
       "      <td>2610671</td>\n",
       "      <td>PIZZA-METRO</td>\n",
       "      <td>PIZZA-METRO</td>\n",
       "      <td>1545880</td>\n",
       "      <td>Risk 1 (High)</td>\n",
       "      <td>1707 W DIVISION ST</td>\n",
       "      <td>IL</td>\n",
       "      <td>60622</td>\n",
       "      <td>2025-01-16T00:00:00.000</td>\n",
       "      <td>Canvass</td>\n",
       "      <td>Fail</td>\n",
       "      <td>2. CITY OF CHICAGO FOOD SERVICE SANITATION CER...</td>\n",
       "      <td>41.90319053056459</td>\n",
       "      <td>-87.67029008677447</td>\n",
       "    </tr>\n",
       "    <tr>\n",
       "      <th>11</th>\n",
       "      <td>2610681</td>\n",
       "      <td>2D RESTAURANT</td>\n",
       "      <td>2D RESTAURANT</td>\n",
       "      <td>2808226</td>\n",
       "      <td>Risk 1 (High)</td>\n",
       "      <td>3155 N HALSTED ST</td>\n",
       "      <td>IL</td>\n",
       "      <td>60657</td>\n",
       "      <td>2025-01-16T00:00:00.000</td>\n",
       "      <td>Complaint</td>\n",
       "      <td>Fail</td>\n",
       "      <td>10. ADEQUATE HANDWASHING SINKS PROPERLY SUPPLI...</td>\n",
       "      <td>41.93944115701468</td>\n",
       "      <td>-87.64910277148812</td>\n",
       "    </tr>\n",
       "  </tbody>\n",
       "</table>\n",
       "</div>"
      ],
      "text/plain": [
       "   inspection_id             dba_name              aka_name license_  \\\n",
       "0        2610640     NEKTER JUICE BAR      NEKTER JUICE BAR  2997280   \n",
       "3        2610639  TAQUERIA   AY  MAMA  TAQUERIA   AY   MAMA  3007153   \n",
       "5        2610687       HNDOCU.COM LLC        HNDOCU.COM LLC  2890658   \n",
       "6        2610671          PIZZA-METRO           PIZZA-METRO  1545880   \n",
       "11       2610681        2D RESTAURANT         2D RESTAURANT  2808226   \n",
       "\n",
       "               risk             address state    zip          inspection_date  \\\n",
       "0   Risk 2 (Medium)   1338 S HALSTED ST    IL  60607  2025-01-16T00:00:00.000   \n",
       "3     Risk 1 (High)    3233 W CERMAK RD    IL  60623  2025-01-16T00:00:00.000   \n",
       "5      Risk 3 (Low)       821 VAN BUREN    IL  60607  2025-01-16T00:00:00.000   \n",
       "6     Risk 1 (High)  1707 W DIVISION ST    IL  60622  2025-01-16T00:00:00.000   \n",
       "11    Risk 1 (High)   3155 N HALSTED ST    IL  60657  2025-01-16T00:00:00.000   \n",
       "\n",
       "   inspection_type results                                         violations  \\\n",
       "0          License    Fail  10. ADEQUATE HANDWASHING SINKS PROPERLY SUPPLI...   \n",
       "3          License    Fail  10. ADEQUATE HANDWASHING SINKS PROPERLY SUPPLI...   \n",
       "5          License    Fail  5. PROCEDURES FOR RESPONDING TO VOMITING AND D...   \n",
       "6          Canvass    Fail  2. CITY OF CHICAGO FOOD SERVICE SANITATION CER...   \n",
       "11       Complaint    Fail  10. ADEQUATE HANDWASHING SINKS PROPERLY SUPPLI...   \n",
       "\n",
       "             latitude           longitude  \n",
       "0   41.86440790840258  -87.64698520298732  \n",
       "3   41.85164288650078   -87.7064081112397  \n",
       "5                 NaN                 NaN  \n",
       "6   41.90319053056459  -87.67029008677447  \n",
       "11  41.93944115701468  -87.64910277148812  "
      ]
     },
     "execution_count": 7,
     "metadata": {},
     "output_type": "execute_result"
    }
   ],
   "source": [
    "# Filtering data for failed inspections\n",
    "df_failed = df[df['results'] == 'Fail']\n",
    "\n",
    "df_failed.head()"
   ]
  },
  {
   "cell_type": "code",
   "execution_count": 8,
   "metadata": {},
   "outputs": [
    {
     "data": {
      "text/plain": [
       "55485"
      ]
     },
     "execution_count": 8,
     "metadata": {},
     "output_type": "execute_result"
    }
   ],
   "source": [
    "df_failed.shape[0]"
   ]
  },
  {
   "cell_type": "code",
   "execution_count": 21,
   "metadata": {},
   "outputs": [
    {
     "data": {
      "text/plain": [
       "51969"
      ]
     },
     "execution_count": 21,
     "metadata": {},
     "output_type": "execute_result"
    }
   ],
   "source": [
    "# Remove blank Violations\n",
    "df_clean = df_failed.dropna(subset=['violations'])\n",
    "\n",
    "df_clean.shape[0]"
   ]
  },
  {
   "cell_type": "code",
   "execution_count": 10,
   "metadata": {},
   "outputs": [
    {
     "name": "stdout",
     "output_type": "stream",
     "text": [
      "0    10. ADEQUATE HANDWASHING SINKS PROPERLY SUPPLIED AND ACCESSIBLE - Comments: OBSERVED A HAND WASHING SINK IS NEEDED AT DISHWASHING/FOOD PREP AREA. INSTRUCTED TO PROVIDE. PRIORITY FOUNDATION VIOLATION #7-38-030(C)\n",
      "Name: violations, dtype: object\n"
     ]
    }
   ],
   "source": [
    "pd.options.display.max_colwidth = None\n",
    "print(df_clean['violations'].head(1))"
   ]
  },
  {
   "cell_type": "code",
   "execution_count": 11,
   "metadata": {},
   "outputs": [],
   "source": [
    "pd.reset_option('display.max_colwidth')"
   ]
  },
  {
   "cell_type": "markdown",
   "metadata": {},
   "source": [
    "##### 2. Using regex, separate the violation description and comments into separate data frame columns."
   ]
  },
  {
   "cell_type": "code",
   "execution_count": 12,
   "metadata": {},
   "outputs": [],
   "source": [
    "import re"
   ]
  },
  {
   "cell_type": "code",
   "execution_count": 13,
   "metadata": {},
   "outputs": [
    {
     "name": "stdout",
     "output_type": "stream",
     "text": [
      "OBSERVED A HAND WASHING SINK IS NEEDED AT DISHWASHING/FOOD PREP AREA. INSTRUCTED TO PROVIDE. PRIORITY FOUNDATION VIOLATION #7-38-030(C)\n"
     ]
    }
   ],
   "source": [
    "# sample violation\n",
    "sv = \"10. ADEQUATE HANDWASHING SINKS PROPERLY SUPPLIED AND ACCESSIBLE - Comments: OBSERVED A HAND WASHING SINK IS NEEDED AT DISHWASHING/FOOD PREP AREA. INSTRUCTED TO PROVIDE. PRIORITY FOUNDATION VIOLATION #7-38-030(C)\"\n",
    "sc = re.search(r'\\d+\\.\\s.*?\\s-\\sComments:\\s(.*?)(?=$|\\|)', sv)\n",
    "\n",
    "if sc:\n",
    "    print(sc.group(1))  # This will print the extracted comment\n",
    "else:\n",
    "    print(\"No match found\")"
   ]
  },
  {
   "cell_type": "code",
   "execution_count": 14,
   "metadata": {},
   "outputs": [],
   "source": [
    "# extract regulation descriptions and comments\n",
    "def extract_desc_comm(violations):\n",
    "    # splitting on '|' to separate violations\n",
    "    violation_entries = violations.split('|')\n",
    "\n",
    "    descriptions = []\n",
    "    comments = []\n",
    "\n",
    "    for entry in violation_entries:\n",
    "        # description after code & '.' and before '-'\n",
    "        desc_match = re.search(r'\\d+\\.\\s(.*?)(?:\\s-\\s|$)', entry)\n",
    "        if desc_match:\n",
    "            descriptions.append(desc_match.group(1).strip())\n",
    "\n",
    "        # comment after 'Comments: ' and before '|'\n",
    "        comm_match = re.search(r'\\d+\\.\\s.*?\\s-\\sComments:\\s(.*?)(?=$|\\|)', entry)\n",
    "        if comm_match:\n",
    "            comments.append(comm_match.group(1).strip())\n",
    "\n",
    "    return descriptions, comments"
   ]
  },
  {
   "cell_type": "code",
   "execution_count": 22,
   "metadata": {},
   "outputs": [
    {
     "name": "stderr",
     "output_type": "stream",
     "text": [
      "/var/folders/t6/n_h66qsx6rz5862xz5zck5sm0000gq/T/ipykernel_73897/810638998.py:2: SettingWithCopyWarning: \n",
      "A value is trying to be set on a copy of a slice from a DataFrame.\n",
      "Try using .loc[row_indexer,col_indexer] = value instead\n",
      "\n",
      "See the caveats in the documentation: https://pandas.pydata.org/pandas-docs/stable/user_guide/indexing.html#returning-a-view-versus-a-copy\n",
      "  df_clean[['violation_description', 'violation_comments']] = df_clean['violations'].apply(\n",
      "/var/folders/t6/n_h66qsx6rz5862xz5zck5sm0000gq/T/ipykernel_73897/810638998.py:2: SettingWithCopyWarning: \n",
      "A value is trying to be set on a copy of a slice from a DataFrame.\n",
      "Try using .loc[row_indexer,col_indexer] = value instead\n",
      "\n",
      "See the caveats in the documentation: https://pandas.pydata.org/pandas-docs/stable/user_guide/indexing.html#returning-a-view-versus-a-copy\n",
      "  df_clean[['violation_description', 'violation_comments']] = df_clean['violations'].apply(\n"
     ]
    },
    {
     "data": {
      "text/html": [
       "<div>\n",
       "<style scoped>\n",
       "    .dataframe tbody tr th:only-of-type {\n",
       "        vertical-align: middle;\n",
       "    }\n",
       "\n",
       "    .dataframe tbody tr th {\n",
       "        vertical-align: top;\n",
       "    }\n",
       "\n",
       "    .dataframe thead th {\n",
       "        text-align: right;\n",
       "    }\n",
       "</style>\n",
       "<table border=\"1\" class=\"dataframe\">\n",
       "  <thead>\n",
       "    <tr style=\"text-align: right;\">\n",
       "      <th></th>\n",
       "      <th>inspection_id</th>\n",
       "      <th>dba_name</th>\n",
       "      <th>aka_name</th>\n",
       "      <th>license_</th>\n",
       "      <th>risk</th>\n",
       "      <th>address</th>\n",
       "      <th>state</th>\n",
       "      <th>zip</th>\n",
       "      <th>inspection_date</th>\n",
       "      <th>inspection_type</th>\n",
       "      <th>results</th>\n",
       "      <th>violations</th>\n",
       "      <th>latitude</th>\n",
       "      <th>longitude</th>\n",
       "      <th>violation_description</th>\n",
       "      <th>violation_comments</th>\n",
       "    </tr>\n",
       "  </thead>\n",
       "  <tbody>\n",
       "    <tr>\n",
       "      <th>0</th>\n",
       "      <td>2610640</td>\n",
       "      <td>NEKTER JUICE BAR</td>\n",
       "      <td>NEKTER JUICE BAR</td>\n",
       "      <td>2997280</td>\n",
       "      <td>Risk 2 (Medium)</td>\n",
       "      <td>1338 S HALSTED ST</td>\n",
       "      <td>IL</td>\n",
       "      <td>60607</td>\n",
       "      <td>2025-01-16T00:00:00.000</td>\n",
       "      <td>License</td>\n",
       "      <td>Fail</td>\n",
       "      <td>10. ADEQUATE HANDWASHING SINKS PROPERLY SUPPLI...</td>\n",
       "      <td>41.86440790840258</td>\n",
       "      <td>-87.64698520298732</td>\n",
       "      <td>[ADEQUATE HANDWASHING SINKS PROPERLY SUPPLIED ...</td>\n",
       "      <td>[OBSERVED A HAND WASHING SINK IS NEEDED AT DIS...</td>\n",
       "    </tr>\n",
       "    <tr>\n",
       "      <th>3</th>\n",
       "      <td>2610639</td>\n",
       "      <td>TAQUERIA   AY  MAMA</td>\n",
       "      <td>TAQUERIA   AY   MAMA</td>\n",
       "      <td>3007153</td>\n",
       "      <td>Risk 1 (High)</td>\n",
       "      <td>3233 W CERMAK RD</td>\n",
       "      <td>IL</td>\n",
       "      <td>60623</td>\n",
       "      <td>2025-01-16T00:00:00.000</td>\n",
       "      <td>License</td>\n",
       "      <td>Fail</td>\n",
       "      <td>10. ADEQUATE HANDWASHING SINKS PROPERLY SUPPLI...</td>\n",
       "      <td>41.85164288650078</td>\n",
       "      <td>-87.7064081112397</td>\n",
       "      <td>[ADEQUATE HANDWASHING SINKS PROPERLY SUPPLIED ...</td>\n",
       "      <td>[OBSERVED NO HAND CLEANSER AVAILABLE AT WASHBO...</td>\n",
       "    </tr>\n",
       "    <tr>\n",
       "      <th>5</th>\n",
       "      <td>2610687</td>\n",
       "      <td>HNDOCU.COM LLC</td>\n",
       "      <td>HNDOCU.COM LLC</td>\n",
       "      <td>2890658</td>\n",
       "      <td>Risk 3 (Low)</td>\n",
       "      <td>821 VAN BUREN</td>\n",
       "      <td>IL</td>\n",
       "      <td>60607</td>\n",
       "      <td>2025-01-16T00:00:00.000</td>\n",
       "      <td>License</td>\n",
       "      <td>Fail</td>\n",
       "      <td>5. PROCEDURES FOR RESPONDING TO VOMITING AND D...</td>\n",
       "      <td>NaN</td>\n",
       "      <td>NaN</td>\n",
       "      <td>[PROCEDURES FOR RESPONDING TO VOMITING AND DIA...</td>\n",
       "      <td>[OBSERVED FACILITY WITHOUT A BODILY FLUID SPIL...</td>\n",
       "    </tr>\n",
       "  </tbody>\n",
       "</table>\n",
       "</div>"
      ],
      "text/plain": [
       "  inspection_id             dba_name              aka_name license_  \\\n",
       "0       2610640     NEKTER JUICE BAR      NEKTER JUICE BAR  2997280   \n",
       "3       2610639  TAQUERIA   AY  MAMA  TAQUERIA   AY   MAMA  3007153   \n",
       "5       2610687       HNDOCU.COM LLC        HNDOCU.COM LLC  2890658   \n",
       "\n",
       "              risk            address state    zip          inspection_date  \\\n",
       "0  Risk 2 (Medium)  1338 S HALSTED ST    IL  60607  2025-01-16T00:00:00.000   \n",
       "3    Risk 1 (High)   3233 W CERMAK RD    IL  60623  2025-01-16T00:00:00.000   \n",
       "5     Risk 3 (Low)      821 VAN BUREN    IL  60607  2025-01-16T00:00:00.000   \n",
       "\n",
       "  inspection_type results                                         violations  \\\n",
       "0         License    Fail  10. ADEQUATE HANDWASHING SINKS PROPERLY SUPPLI...   \n",
       "3         License    Fail  10. ADEQUATE HANDWASHING SINKS PROPERLY SUPPLI...   \n",
       "5         License    Fail  5. PROCEDURES FOR RESPONDING TO VOMITING AND D...   \n",
       "\n",
       "            latitude           longitude  \\\n",
       "0  41.86440790840258  -87.64698520298732   \n",
       "3  41.85164288650078   -87.7064081112397   \n",
       "5                NaN                 NaN   \n",
       "\n",
       "                               violation_description  \\\n",
       "0  [ADEQUATE HANDWASHING SINKS PROPERLY SUPPLIED ...   \n",
       "3  [ADEQUATE HANDWASHING SINKS PROPERLY SUPPLIED ...   \n",
       "5  [PROCEDURES FOR RESPONDING TO VOMITING AND DIA...   \n",
       "\n",
       "                                  violation_comments  \n",
       "0  [OBSERVED A HAND WASHING SINK IS NEEDED AT DIS...  \n",
       "3  [OBSERVED NO HAND CLEANSER AVAILABLE AT WASHBO...  \n",
       "5  [OBSERVED FACILITY WITHOUT A BODILY FLUID SPIL...  "
      ]
     },
     "execution_count": 22,
     "metadata": {},
     "output_type": "execute_result"
    }
   ],
   "source": [
    "# Violation description column\n",
    "df_clean[['violation_description', 'violation_comments']] = df_clean['violations'].apply(\n",
    "    lambda x: pd.Series(extract_desc_comm(x))\n",
    ")\n",
    "\n",
    "df_clean.head(3)"
   ]
  },
  {
   "cell_type": "markdown",
   "metadata": {},
   "source": [
    "##### 3. Tokenize violation description and comment columns"
   ]
  },
  {
   "cell_type": "code",
   "execution_count": 18,
   "metadata": {},
   "outputs": [],
   "source": [
    "import nltk as nltk\n",
    "import nltk.corpus\n",
    "from nltk.text import Text\n",
    "from nltk.corpus import stopwords\n",
    "from nltk.tokenize import word_tokenize"
   ]
  },
  {
   "cell_type": "code",
   "execution_count": 23,
   "metadata": {},
   "outputs": [
    {
     "name": "stderr",
     "output_type": "stream",
     "text": [
      "/var/folders/t6/n_h66qsx6rz5862xz5zck5sm0000gq/T/ipykernel_73897/430825568.py:2: SettingWithCopyWarning: \n",
      "A value is trying to be set on a copy of a slice from a DataFrame.\n",
      "Try using .loc[row_indexer,col_indexer] = value instead\n",
      "\n",
      "See the caveats in the documentation: https://pandas.pydata.org/pandas-docs/stable/user_guide/indexing.html#returning-a-view-versus-a-copy\n",
      "  df_clean['desc_tokens'] = df_clean['violation_description'].apply(\n"
     ]
    }
   ],
   "source": [
    "# tokenize description column\n",
    "df_clean['desc_tokens'] = df_clean['violation_description'].apply(\n",
    "    lambda desc_list: [word_tokenize(desc) for desc in desc_list]\n",
    ")"
   ]
  },
  {
   "cell_type": "code",
   "execution_count": 24,
   "metadata": {},
   "outputs": [
    {
     "name": "stderr",
     "output_type": "stream",
     "text": [
      "/var/folders/t6/n_h66qsx6rz5862xz5zck5sm0000gq/T/ipykernel_73897/1466736243.py:2: SettingWithCopyWarning: \n",
      "A value is trying to be set on a copy of a slice from a DataFrame.\n",
      "Try using .loc[row_indexer,col_indexer] = value instead\n",
      "\n",
      "See the caveats in the documentation: https://pandas.pydata.org/pandas-docs/stable/user_guide/indexing.html#returning-a-view-versus-a-copy\n",
      "  df_clean['comm_tokens'] = df_clean['violation_comments'].apply(\n"
     ]
    }
   ],
   "source": [
    "# tokenize comment column\n",
    "df_clean['comm_tokens'] = df_clean['violation_comments'].apply(\n",
    "    lambda comm_list: [word_tokenize(comm) for comm in comm_list]\n",
    ")"
   ]
  },
  {
   "cell_type": "code",
   "execution_count": 25,
   "metadata": {},
   "outputs": [
    {
     "data": {
      "text/html": [
       "<div>\n",
       "<style scoped>\n",
       "    .dataframe tbody tr th:only-of-type {\n",
       "        vertical-align: middle;\n",
       "    }\n",
       "\n",
       "    .dataframe tbody tr th {\n",
       "        vertical-align: top;\n",
       "    }\n",
       "\n",
       "    .dataframe thead th {\n",
       "        text-align: right;\n",
       "    }\n",
       "</style>\n",
       "<table border=\"1\" class=\"dataframe\">\n",
       "  <thead>\n",
       "    <tr style=\"text-align: right;\">\n",
       "      <th></th>\n",
       "      <th>inspection_id</th>\n",
       "      <th>dba_name</th>\n",
       "      <th>aka_name</th>\n",
       "      <th>license_</th>\n",
       "      <th>risk</th>\n",
       "      <th>address</th>\n",
       "      <th>state</th>\n",
       "      <th>zip</th>\n",
       "      <th>inspection_date</th>\n",
       "      <th>inspection_type</th>\n",
       "      <th>results</th>\n",
       "      <th>violations</th>\n",
       "      <th>latitude</th>\n",
       "      <th>longitude</th>\n",
       "      <th>violation_description</th>\n",
       "      <th>violation_comments</th>\n",
       "      <th>desc_tokens</th>\n",
       "      <th>comm_tokens</th>\n",
       "    </tr>\n",
       "  </thead>\n",
       "  <tbody>\n",
       "    <tr>\n",
       "      <th>0</th>\n",
       "      <td>2610640</td>\n",
       "      <td>NEKTER JUICE BAR</td>\n",
       "      <td>NEKTER JUICE BAR</td>\n",
       "      <td>2997280</td>\n",
       "      <td>Risk 2 (Medium)</td>\n",
       "      <td>1338 S HALSTED ST</td>\n",
       "      <td>IL</td>\n",
       "      <td>60607</td>\n",
       "      <td>2025-01-16T00:00:00.000</td>\n",
       "      <td>License</td>\n",
       "      <td>Fail</td>\n",
       "      <td>10. ADEQUATE HANDWASHING SINKS PROPERLY SUPPLI...</td>\n",
       "      <td>41.86440790840258</td>\n",
       "      <td>-87.64698520298732</td>\n",
       "      <td>[ADEQUATE HANDWASHING SINKS PROPERLY SUPPLIED ...</td>\n",
       "      <td>[OBSERVED A HAND WASHING SINK IS NEEDED AT DIS...</td>\n",
       "      <td>[[ADEQUATE, HANDWASHING, SINKS, PROPERLY, SUPP...</td>\n",
       "      <td>[[OBSERVED, A, HAND, WASHING, SINK, IS, NEEDED...</td>\n",
       "    </tr>\n",
       "    <tr>\n",
       "      <th>3</th>\n",
       "      <td>2610639</td>\n",
       "      <td>TAQUERIA   AY  MAMA</td>\n",
       "      <td>TAQUERIA   AY   MAMA</td>\n",
       "      <td>3007153</td>\n",
       "      <td>Risk 1 (High)</td>\n",
       "      <td>3233 W CERMAK RD</td>\n",
       "      <td>IL</td>\n",
       "      <td>60623</td>\n",
       "      <td>2025-01-16T00:00:00.000</td>\n",
       "      <td>License</td>\n",
       "      <td>Fail</td>\n",
       "      <td>10. ADEQUATE HANDWASHING SINKS PROPERLY SUPPLI...</td>\n",
       "      <td>41.85164288650078</td>\n",
       "      <td>-87.7064081112397</td>\n",
       "      <td>[ADEQUATE HANDWASHING SINKS PROPERLY SUPPLIED ...</td>\n",
       "      <td>[OBSERVED NO HAND CLEANSER AVAILABLE AT WASHBO...</td>\n",
       "      <td>[[ADEQUATE, HANDWASHING, SINKS, PROPERLY, SUPP...</td>\n",
       "      <td>[[OBSERVED, NO, HAND, CLEANSER, AVAILABLE, AT,...</td>\n",
       "    </tr>\n",
       "    <tr>\n",
       "      <th>5</th>\n",
       "      <td>2610687</td>\n",
       "      <td>HNDOCU.COM LLC</td>\n",
       "      <td>HNDOCU.COM LLC</td>\n",
       "      <td>2890658</td>\n",
       "      <td>Risk 3 (Low)</td>\n",
       "      <td>821 VAN BUREN</td>\n",
       "      <td>IL</td>\n",
       "      <td>60607</td>\n",
       "      <td>2025-01-16T00:00:00.000</td>\n",
       "      <td>License</td>\n",
       "      <td>Fail</td>\n",
       "      <td>5. PROCEDURES FOR RESPONDING TO VOMITING AND D...</td>\n",
       "      <td>NaN</td>\n",
       "      <td>NaN</td>\n",
       "      <td>[PROCEDURES FOR RESPONDING TO VOMITING AND DIA...</td>\n",
       "      <td>[OBSERVED FACILITY WITHOUT A BODILY FLUID SPIL...</td>\n",
       "      <td>[[PROCEDURES, FOR, RESPONDING, TO, VOMITING, A...</td>\n",
       "      <td>[[OBSERVED, FACILITY, WITHOUT, A, BODILY, FLUI...</td>\n",
       "    </tr>\n",
       "  </tbody>\n",
       "</table>\n",
       "</div>"
      ],
      "text/plain": [
       "  inspection_id             dba_name              aka_name license_  \\\n",
       "0       2610640     NEKTER JUICE BAR      NEKTER JUICE BAR  2997280   \n",
       "3       2610639  TAQUERIA   AY  MAMA  TAQUERIA   AY   MAMA  3007153   \n",
       "5       2610687       HNDOCU.COM LLC        HNDOCU.COM LLC  2890658   \n",
       "\n",
       "              risk            address state    zip          inspection_date  \\\n",
       "0  Risk 2 (Medium)  1338 S HALSTED ST    IL  60607  2025-01-16T00:00:00.000   \n",
       "3    Risk 1 (High)   3233 W CERMAK RD    IL  60623  2025-01-16T00:00:00.000   \n",
       "5     Risk 3 (Low)      821 VAN BUREN    IL  60607  2025-01-16T00:00:00.000   \n",
       "\n",
       "  inspection_type results                                         violations  \\\n",
       "0         License    Fail  10. ADEQUATE HANDWASHING SINKS PROPERLY SUPPLI...   \n",
       "3         License    Fail  10. ADEQUATE HANDWASHING SINKS PROPERLY SUPPLI...   \n",
       "5         License    Fail  5. PROCEDURES FOR RESPONDING TO VOMITING AND D...   \n",
       "\n",
       "            latitude           longitude  \\\n",
       "0  41.86440790840258  -87.64698520298732   \n",
       "3  41.85164288650078   -87.7064081112397   \n",
       "5                NaN                 NaN   \n",
       "\n",
       "                               violation_description  \\\n",
       "0  [ADEQUATE HANDWASHING SINKS PROPERLY SUPPLIED ...   \n",
       "3  [ADEQUATE HANDWASHING SINKS PROPERLY SUPPLIED ...   \n",
       "5  [PROCEDURES FOR RESPONDING TO VOMITING AND DIA...   \n",
       "\n",
       "                                  violation_comments  \\\n",
       "0  [OBSERVED A HAND WASHING SINK IS NEEDED AT DIS...   \n",
       "3  [OBSERVED NO HAND CLEANSER AVAILABLE AT WASHBO...   \n",
       "5  [OBSERVED FACILITY WITHOUT A BODILY FLUID SPIL...   \n",
       "\n",
       "                                         desc_tokens  \\\n",
       "0  [[ADEQUATE, HANDWASHING, SINKS, PROPERLY, SUPP...   \n",
       "3  [[ADEQUATE, HANDWASHING, SINKS, PROPERLY, SUPP...   \n",
       "5  [[PROCEDURES, FOR, RESPONDING, TO, VOMITING, A...   \n",
       "\n",
       "                                         comm_tokens  \n",
       "0  [[OBSERVED, A, HAND, WASHING, SINK, IS, NEEDED...  \n",
       "3  [[OBSERVED, NO, HAND, CLEANSER, AVAILABLE, AT,...  \n",
       "5  [[OBSERVED, FACILITY, WITHOUT, A, BODILY, FLUI...  "
      ]
     },
     "execution_count": 25,
     "metadata": {},
     "output_type": "execute_result"
    }
   ],
   "source": [
    "df_clean.head(3)"
   ]
  },
  {
   "cell_type": "code",
   "execution_count": 27,
   "metadata": {},
   "outputs": [
    {
     "name": "stdout",
     "output_type": "stream",
     "text": [
      "0    [[OBSERVED, A, HAND, WASHING, SINK, IS, NEEDED, AT, DISHWASHING/FOOD, PREP, AREA, ., INSTRUCTED, TO, PROVIDE, ., PRIORITY, FOUNDATION, VIOLATION, #, 7-38-030, (, C, )]]\n",
      "Name: comm_tokens, dtype: object\n"
     ]
    }
   ],
   "source": [
    "pd.options.display.max_colwidth = None\n",
    "print(df_clean['comm_tokens'].head(1))\n",
    "pd.reset_option('display.max_colwidth')"
   ]
  },
  {
   "cell_type": "markdown",
   "metadata": {},
   "source": [
    "##### 4. Find top-10 tokens of each column"
   ]
  },
  {
   "cell_type": "code",
   "execution_count": 29,
   "metadata": {},
   "outputs": [
    {
     "data": {
      "text/plain": [
       "[(',', 388851),\n",
       " ('AND', 176516),\n",
       " (':', 132133),\n",
       " ('&', 95788),\n",
       " ('FOOD', 94772),\n",
       " ('MAINTAINED', 94146),\n",
       " ('PROPERLY', 81193),\n",
       " ('CLEAN', 76455),\n",
       " ('INSTALLED', 74613),\n",
       " ('CONSTRUCTED', 70689)]"
      ]
     },
     "execution_count": 29,
     "metadata": {},
     "output_type": "execute_result"
    }
   ],
   "source": [
    "# token column is list within list, so we need to flatten it\n",
    "desc_tokens = [token for row in df_clean['desc_tokens'] for sublist in row for token in sublist]\n",
    "\n",
    "desc_fdist = nltk.FreqDist(desc_tokens)\n",
    "desc_fdist.most_common(10)"
   ]
  },
  {
   "cell_type": "code",
   "execution_count": 30,
   "metadata": {},
   "outputs": [
    {
     "data": {
      "text/plain": [
       "[('.', 800636),\n",
       " ('AND', 408416),\n",
       " (',', 374674),\n",
       " ('THE', 306130),\n",
       " ('IN', 272254),\n",
       " ('TO', 264966),\n",
       " ('OF', 178846),\n",
       " ('MUST', 161386),\n",
       " ('ON', 157952),\n",
       " ('INSTRUCTED', 147956)]"
      ]
     },
     "execution_count": 30,
     "metadata": {},
     "output_type": "execute_result"
    }
   ],
   "source": [
    "comm_tokens = [token for row in df_clean['comm_tokens'] for sublist in row for token in sublist]\n",
    "\n",
    "comm_fdist = nltk.FreqDist(comm_tokens)\n",
    "comm_fdist.most_common(10)"
   ]
  },
  {
   "cell_type": "markdown",
   "metadata": {},
   "source": [
    "##### 5. Clean each column: convert to lower case, remove stopwords, punctuation, numbers, etc"
   ]
  },
  {
   "cell_type": "code",
   "execution_count": 36,
   "metadata": {},
   "outputs": [],
   "source": [
    "## Descriptions Column\n",
    "\n",
    "# english stopwords\n",
    "stopwords = set(nltk.corpus.stopwords.words('english'))\n",
    "\n",
    "# flatten and clean tokens in desc_tokens\n",
    "def clean_tokens(tokens_column):\n",
    "    flattened_tokens = [\n",
    "        token for sublist in tokens_column for token in sublist\n",
    "    ]\n",
    "\n",
    "    # remove punctuation, numbers, and single-character tokens\n",
    "    cleaned_tokens = [\n",
    "        token for token in flattened_tokens\n",
    "        if len(token) > 1 and token.isalpha() and not token.isnumeric()\n",
    "    ]\n",
    "\n",
    "    # convert to lowercase\n",
    "    cleaned_tokens = [token.lower() for token in cleaned_tokens]\n",
    "\n",
    "    # remove stopwords\n",
    "    cleaned_tokens = [token for token in cleaned_tokens if token not in stopwords]\n",
    "\n",
    "    return cleaned_tokens\n"
   ]
  },
  {
   "cell_type": "code",
   "execution_count": 37,
   "metadata": {},
   "outputs": [
    {
     "name": "stderr",
     "output_type": "stream",
     "text": [
      "/var/folders/t6/n_h66qsx6rz5862xz5zck5sm0000gq/T/ipykernel_73897/3079119990.py:2: SettingWithCopyWarning: \n",
      "A value is trying to be set on a copy of a slice from a DataFrame.\n",
      "Try using .loc[row_indexer,col_indexer] = value instead\n",
      "\n",
      "See the caveats in the documentation: https://pandas.pydata.org/pandas-docs/stable/user_guide/indexing.html#returning-a-view-versus-a-copy\n",
      "  df_clean['cleaned_desc_tokens'] = df_clean['desc_tokens'].apply(clean_tokens)\n",
      "/var/folders/t6/n_h66qsx6rz5862xz5zck5sm0000gq/T/ipykernel_73897/3079119990.py:5: SettingWithCopyWarning: \n",
      "A value is trying to be set on a copy of a slice from a DataFrame.\n",
      "Try using .loc[row_indexer,col_indexer] = value instead\n",
      "\n",
      "See the caveats in the documentation: https://pandas.pydata.org/pandas-docs/stable/user_guide/indexing.html#returning-a-view-versus-a-copy\n",
      "  df_clean['cleaned_comm_tokens'] = df_clean['comm_tokens'].apply(clean_tokens)\n"
     ]
    }
   ],
   "source": [
    "# clean description tokens\n",
    "df_clean['cleaned_desc_tokens'] = df_clean['desc_tokens'].apply(clean_tokens)\n",
    "\n",
    "# clean comment tokens\n",
    "df_clean['cleaned_comm_tokens'] = df_clean['comm_tokens'].apply(clean_tokens)"
   ]
  },
  {
   "cell_type": "code",
   "execution_count": 40,
   "metadata": {},
   "outputs": [
    {
     "name": "stdout",
     "output_type": "stream",
     "text": [
      "0    [observed, hand, washing, sink, needed, prep, area, instructed, provide, priority, foundation, violation]\n",
      "Name: cleaned_comm_tokens, dtype: object\n"
     ]
    }
   ],
   "source": [
    "pd.options.display.max_colwidth = None\n",
    "print(df_clean['cleaned_comm_tokens'].head(1))\n",
    "pd.reset_option('display.max_colwidth')"
   ]
  },
  {
   "cell_type": "markdown",
   "metadata": {},
   "source": [
    "##### 6. Find top-10 tokens again"
   ]
  },
  {
   "cell_type": "code",
   "execution_count": 41,
   "metadata": {},
   "outputs": [
    {
     "data": {
      "text/plain": [
       "[('food', 94772),\n",
       " ('maintained', 94146),\n",
       " ('properly', 81193),\n",
       " ('clean', 76455),\n",
       " ('installed', 74613),\n",
       " ('constructed', 70689),\n",
       " ('equipment', 65489),\n",
       " ('surfaces', 55279),\n",
       " ('contact', 51044),\n",
       " ('cleaning', 48295)]"
      ]
     },
     "execution_count": 41,
     "metadata": {},
     "output_type": "execute_result"
    }
   ],
   "source": [
    "# token column is list, so we need to flatten it\n",
    "clean_desc_tokens = [token for row in df_clean['cleaned_desc_tokens'] for token in row]\n",
    "\n",
    "# top 10 description tokens\n",
    "desc_fdist2 = nltk.FreqDist(clean_desc_tokens)\n",
    "desc_fdist2.most_common(10)"
   ]
  },
  {
   "cell_type": "code",
   "execution_count": 42,
   "metadata": {},
   "outputs": [
    {
     "data": {
      "text/plain": [
       "[('must', 170941),\n",
       " ('instructed', 154983),\n",
       " ('food', 148150),\n",
       " ('observed', 145834),\n",
       " ('clean', 121226),\n",
       " ('area', 114299),\n",
       " ('maintain', 100101),\n",
       " ('prep', 92250),\n",
       " ('sink', 91400),\n",
       " ('provide', 82752)]"
      ]
     },
     "execution_count": 42,
     "metadata": {},
     "output_type": "execute_result"
    }
   ],
   "source": [
    "# flatten comm list\n",
    "clean_comm_tokens = [token for row in df_clean['cleaned_comm_tokens'] for token in row]\n",
    "\n",
    "# top 10 comment tokens\n",
    "comm_fdist2 = nltk.FreqDist(clean_comm_tokens)\n",
    "comm_fdist2.most_common(10)"
   ]
  },
  {
   "cell_type": "markdown",
   "metadata": {},
   "source": [
    "##### 7. Find top-10 tokens after applying Porter stemming to the columns obtained in step 5."
   ]
  },
  {
   "cell_type": "code",
   "execution_count": 43,
   "metadata": {},
   "outputs": [],
   "source": [
    "porter = nltk.PorterStemmer()\n",
    "lancaster = nltk.LancasterStemmer()"
   ]
  },
  {
   "cell_type": "code",
   "execution_count": 44,
   "metadata": {},
   "outputs": [
    {
     "name": "stdout",
     "output_type": "stream",
     "text": [
      "['adequate', 'handwashing', 'sinks', 'properly', 'supplied', 'accessible', 'adequate', 'handwashing', 'sinks', 'properly']\n"
     ]
    }
   ],
   "source": [
    "print(clean_desc_tokens[:10])"
   ]
  },
  {
   "cell_type": "code",
   "execution_count": 46,
   "metadata": {},
   "outputs": [],
   "source": [
    "def porter_stem_tokens(tokens):\n",
    "    return [porter.stem(token) for token in tokens]"
   ]
  },
  {
   "cell_type": "code",
   "execution_count": 47,
   "metadata": {},
   "outputs": [
    {
     "name": "stderr",
     "output_type": "stream",
     "text": [
      "/var/folders/t6/n_h66qsx6rz5862xz5zck5sm0000gq/T/ipykernel_73897/680669319.py:2: SettingWithCopyWarning: \n",
      "A value is trying to be set on a copy of a slice from a DataFrame.\n",
      "Try using .loc[row_indexer,col_indexer] = value instead\n",
      "\n",
      "See the caveats in the documentation: https://pandas.pydata.org/pandas-docs/stable/user_guide/indexing.html#returning-a-view-versus-a-copy\n",
      "  df_clean['porter_desc_tokens'] = df_clean['cleaned_desc_tokens'].apply(porter_stem_tokens)\n",
      "/var/folders/t6/n_h66qsx6rz5862xz5zck5sm0000gq/T/ipykernel_73897/680669319.py:5: SettingWithCopyWarning: \n",
      "A value is trying to be set on a copy of a slice from a DataFrame.\n",
      "Try using .loc[row_indexer,col_indexer] = value instead\n",
      "\n",
      "See the caveats in the documentation: https://pandas.pydata.org/pandas-docs/stable/user_guide/indexing.html#returning-a-view-versus-a-copy\n",
      "  df_clean['porter_comm_tokens'] = df_clean['cleaned_comm_tokens'].apply(porter_stem_tokens)\n"
     ]
    }
   ],
   "source": [
    "# Porter Stemming on Description Tokens\n",
    "df_clean['porter_desc_tokens'] = df_clean['cleaned_desc_tokens'].apply(porter_stem_tokens)\n",
    "\n",
    "# Porter Stemming on Comments Tokens\n",
    "df_clean['porter_comm_tokens'] = df_clean['cleaned_comm_tokens'].apply(porter_stem_tokens)"
   ]
  },
  {
   "cell_type": "code",
   "execution_count": 48,
   "metadata": {},
   "outputs": [
    {
     "data": {
      "text/plain": [
       "[('clean', 153466),\n",
       " ('food', 100028),\n",
       " ('maintain', 97695),\n",
       " ('properli', 81193),\n",
       " ('instal', 74613),\n",
       " ('construct', 70689),\n",
       " ('equip', 65489),\n",
       " ('surfac', 55279),\n",
       " ('contact', 51044),\n",
       " ('use', 47225)]"
      ]
     },
     "execution_count": 48,
     "metadata": {},
     "output_type": "execute_result"
    }
   ],
   "source": [
    "# flatten porter desc list\n",
    "all_porter_desc_tokens = [token for row in df_clean['porter_desc_tokens'] for token in row]\n",
    "\n",
    "porter_desc_fdist = nltk.FreqDist(all_porter_desc_tokens)\n",
    "porter_desc_fdist.most_common(10)"
   ]
  },
  {
   "cell_type": "code",
   "execution_count": 49,
   "metadata": {},
   "outputs": [
    {
     "data": {
      "text/plain": [
       "[('food', 176404),\n",
       " ('must', 170946),\n",
       " ('area', 156055),\n",
       " ('instruct', 155221),\n",
       " ('clean', 149262),\n",
       " ('observ', 146366),\n",
       " ('maintain', 111612),\n",
       " ('sink', 109904),\n",
       " ('floor', 100910),\n",
       " ('provid', 96036)]"
      ]
     },
     "execution_count": 49,
     "metadata": {},
     "output_type": "execute_result"
    }
   ],
   "source": [
    "# flatten porter comm list\n",
    "all_porter_comm_tokens = [token for row in df_clean['porter_comm_tokens'] for token in row]\n",
    "\n",
    "porter_comm_fdist = nltk.FreqDist(all_porter_comm_tokens)\n",
    "porter_comm_fdist.most_common(10)"
   ]
  },
  {
   "cell_type": "markdown",
   "metadata": {},
   "source": [
    "##### 8. Find top-10 tokens after applying Lancaster stemming to the columns obtained in step 5."
   ]
  },
  {
   "cell_type": "code",
   "execution_count": 50,
   "metadata": {},
   "outputs": [],
   "source": [
    "# Lancaster Stemmer on Descriptions\n",
    "def lancaster_stem_tokens(tokens):\n",
    "    return [lancaster.stem(token) for token in tokens]"
   ]
  },
  {
   "cell_type": "code",
   "execution_count": 51,
   "metadata": {},
   "outputs": [
    {
     "name": "stderr",
     "output_type": "stream",
     "text": [
      "/var/folders/t6/n_h66qsx6rz5862xz5zck5sm0000gq/T/ipykernel_73897/3570588314.py:2: SettingWithCopyWarning: \n",
      "A value is trying to be set on a copy of a slice from a DataFrame.\n",
      "Try using .loc[row_indexer,col_indexer] = value instead\n",
      "\n",
      "See the caveats in the documentation: https://pandas.pydata.org/pandas-docs/stable/user_guide/indexing.html#returning-a-view-versus-a-copy\n",
      "  df_clean['lancaster_desc_tokens'] = df_clean['cleaned_desc_tokens'].apply(lancaster_stem_tokens)\n",
      "/var/folders/t6/n_h66qsx6rz5862xz5zck5sm0000gq/T/ipykernel_73897/3570588314.py:5: SettingWithCopyWarning: \n",
      "A value is trying to be set on a copy of a slice from a DataFrame.\n",
      "Try using .loc[row_indexer,col_indexer] = value instead\n",
      "\n",
      "See the caveats in the documentation: https://pandas.pydata.org/pandas-docs/stable/user_guide/indexing.html#returning-a-view-versus-a-copy\n",
      "  df_clean['lancaster_comm_tokens'] = df_clean['cleaned_comm_tokens'].apply(lancaster_stem_tokens)\n"
     ]
    }
   ],
   "source": [
    "# Lancaster Stemming on Description Tokens\n",
    "df_clean['lancaster_desc_tokens'] = df_clean['cleaned_desc_tokens'].apply(lancaster_stem_tokens)\n",
    "\n",
    "# Lancaster Stemming on Comments Tokens\n",
    "df_clean['lancaster_comm_tokens'] = df_clean['cleaned_comm_tokens'].apply(lancaster_stem_tokens)"
   ]
  },
  {
   "cell_type": "code",
   "execution_count": 52,
   "metadata": {},
   "outputs": [
    {
     "data": {
      "text/plain": [
       "[('cle', 164869),\n",
       " ('prop', 101432),\n",
       " ('food', 100028),\n",
       " ('maintain', 97695),\n",
       " ('instal', 74613),\n",
       " ('construct', 70689),\n",
       " ('equip', 65489),\n",
       " ('surfac', 55279),\n",
       " ('contact', 51044),\n",
       " ('us', 47225)]"
      ]
     },
     "execution_count": 52,
     "metadata": {},
     "output_type": "execute_result"
    }
   ],
   "source": [
    "# flatten lancaster description list\n",
    "all_lancaster_desc_tokens = [token for row in df_clean['lancaster_desc_tokens'] for token in row]\n",
    "\n",
    "lancaster_desc_fdist = nltk.FreqDist(all_lancaster_desc_tokens)\n",
    "lancaster_desc_fdist.most_common(10)"
   ]
  },
  {
   "cell_type": "code",
   "execution_count": 53,
   "metadata": {},
   "outputs": [
    {
     "data": {
      "text/plain": [
       "[('food', 176405),\n",
       " ('must', 170948),\n",
       " ('cle', 162829),\n",
       " ('instruct', 155255),\n",
       " ('observ', 146365),\n",
       " ('are', 114299),\n",
       " ('prep', 111915),\n",
       " ('maintain', 111626),\n",
       " ('sink', 109906),\n",
       " ('stor', 107130)]"
      ]
     },
     "execution_count": 53,
     "metadata": {},
     "output_type": "execute_result"
    }
   ],
   "source": [
    "# flatten lancaster comment list\n",
    "all_lancaster_comm_tokens = [token for row in df_clean['lancaster_comm_tokens'] for token in row]\n",
    "\n",
    "lancaster_comm_fdist = nltk.FreqDist(all_lancaster_comm_tokens)\n",
    "lancaster_comm_fdist.most_common(10)"
   ]
  },
  {
   "cell_type": "markdown",
   "metadata": {},
   "source": [
    "##### 9. Find top-10 tokens after applying lemmatization to the columns obtained in step 5."
   ]
  },
  {
   "cell_type": "code",
   "execution_count": 60,
   "metadata": {},
   "outputs": [],
   "source": [
    "from nltk.stem import WordNetLemmatizer\n",
    "wnl = nltk.WordNetLemmatizer()"
   ]
  },
  {
   "cell_type": "code",
   "execution_count": 61,
   "metadata": {},
   "outputs": [],
   "source": [
    "# Lemmatization on Descriptions\n",
    "def lemmatize_tokens(tokens):\n",
    "    return [wnl.lemmatize(token) for token in tokens]"
   ]
  },
  {
   "cell_type": "code",
   "execution_count": 67,
   "metadata": {},
   "outputs": [
    {
     "data": {
      "text/plain": [
       "['adequate', 'handwashing', 'sinks', 'properly', 'supplied', 'accessible']"
      ]
     },
     "execution_count": 67,
     "metadata": {},
     "output_type": "execute_result"
    }
   ],
   "source": [
    "df_clean['cleaned_desc_tokens'][0]"
   ]
  },
  {
   "cell_type": "code",
   "execution_count": 68,
   "metadata": {},
   "outputs": [
    {
     "name": "stdout",
     "output_type": "stream",
     "text": [
      "['adequate', 'handwashing', 'sink', 'properly', 'supplied', 'accessible']\n"
     ]
    }
   ],
   "source": [
    "print([wnl.lemmatize(t) for t in df_clean['cleaned_desc_tokens'][0]])"
   ]
  },
  {
   "cell_type": "code",
   "execution_count": 69,
   "metadata": {},
   "outputs": [
    {
     "name": "stderr",
     "output_type": "stream",
     "text": [
      "/var/folders/t6/n_h66qsx6rz5862xz5zck5sm0000gq/T/ipykernel_73897/105195305.py:2: SettingWithCopyWarning: \n",
      "A value is trying to be set on a copy of a slice from a DataFrame.\n",
      "Try using .loc[row_indexer,col_indexer] = value instead\n",
      "\n",
      "See the caveats in the documentation: https://pandas.pydata.org/pandas-docs/stable/user_guide/indexing.html#returning-a-view-versus-a-copy\n",
      "  df_clean['lemmatized_desc_tokens'] = df_clean['cleaned_desc_tokens'].apply(lemmatize_tokens)\n",
      "/var/folders/t6/n_h66qsx6rz5862xz5zck5sm0000gq/T/ipykernel_73897/105195305.py:5: SettingWithCopyWarning: \n",
      "A value is trying to be set on a copy of a slice from a DataFrame.\n",
      "Try using .loc[row_indexer,col_indexer] = value instead\n",
      "\n",
      "See the caveats in the documentation: https://pandas.pydata.org/pandas-docs/stable/user_guide/indexing.html#returning-a-view-versus-a-copy\n",
      "  df_clean['lemmatized_comm_tokens'] = df_clean['cleaned_comm_tokens'].apply(lemmatize_tokens)\n"
     ]
    }
   ],
   "source": [
    "# Lemmatization on Description Tokens\n",
    "df_clean['lemmatized_desc_tokens'] = df_clean['cleaned_desc_tokens'].apply(lemmatize_tokens)\n",
    "\n",
    "# Lemmatization on Comments Tokens\n",
    "df_clean['lemmatized_comm_tokens'] = df_clean['cleaned_comm_tokens'].apply(lemmatize_tokens)"
   ]
  },
  {
   "cell_type": "code",
   "execution_count": 70,
   "metadata": {},
   "outputs": [
    {
     "data": {
      "text/plain": [
       "[('food', 100028),\n",
       " ('maintained', 94146),\n",
       " ('properly', 81193),\n",
       " ('clean', 76455),\n",
       " ('installed', 74613),\n",
       " ('constructed', 70689),\n",
       " ('equipment', 65489),\n",
       " ('surface', 55279),\n",
       " ('contact', 51044),\n",
       " ('cleaning', 48295)]"
      ]
     },
     "execution_count": 70,
     "metadata": {},
     "output_type": "execute_result"
    }
   ],
   "source": [
    "# flatten lemmatized description list\n",
    "all_lemmatized_desc_tokens = [token for row in df_clean['lemmatized_desc_tokens'] for token in row]\n",
    "\n",
    "lemmatized_desc_fdist = nltk.FreqDist(all_lemmatized_desc_tokens)\n",
    "lemmatized_desc_fdist.most_common(10)"
   ]
  },
  {
   "cell_type": "code",
   "execution_count": 71,
   "metadata": {},
   "outputs": [
    {
     "data": {
      "text/plain": [
       "[('food', 176403),\n",
       " ('must', 170945),\n",
       " ('area', 156056),\n",
       " ('instructed', 154983),\n",
       " ('observed', 145834),\n",
       " ('clean', 121233),\n",
       " ('sink', 109903),\n",
       " ('floor', 100499),\n",
       " ('maintain', 100101),\n",
       " ('prep', 92264)]"
      ]
     },
     "execution_count": 71,
     "metadata": {},
     "output_type": "execute_result"
    }
   ],
   "source": [
    "# flatten lemmatized comment list\n",
    "all_lemmatized_comm_tokens = [token for row in df_clean['lemmatized_comm_tokens'] for token in row]\n",
    "\n",
    "lemmatized_comm_fdist = nltk.FreqDist(all_lemmatized_comm_tokens)\n",
    "lemmatized_comm_fdist.most_common(10)"
   ]
  },
  {
   "cell_type": "markdown",
   "metadata": {},
   "source": [
    "##### 10. Compare top-10 tokens obtained in 4, 6, 7, 8, 9."
   ]
  },
  {
   "cell_type": "code",
   "execution_count": 79,
   "metadata": {},
   "outputs": [
    {
     "name": "stdout",
     "output_type": "stream",
     "text": [
      "     raw_token  clean_token porter_token lancaster_token lemmatized_token\n",
      "0            ,         food        clean             cle             food\n",
      "1          AND   maintained         food            prop       maintained\n",
      "2            :     properly     maintain            food         properly\n",
      "3            &        clean     properli        maintain            clean\n",
      "4         FOOD    installed       instal          instal        installed\n",
      "5   MAINTAINED  constructed    construct       construct      constructed\n",
      "6     PROPERLY    equipment        equip           equip        equipment\n",
      "7        CLEAN     surfaces       surfac          surfac          surface\n",
      "8    INSTALLED      contact      contact         contact          contact\n",
      "9  CONSTRUCTED     cleaning          use              us         cleaning\n"
     ]
    }
   ],
   "source": [
    "# 4: desc_fdist.most_common(10) and comm_fdist.most_common(10)\n",
    "# 6: desc_fdist2.most_common(10) and comm_fdist2.most_common(10)\n",
    "# 7: porter_desc_fdist.most_common(10) and porter_comm_fdist.most_common(10)\n",
    "# 8: lancaster_desc_fdist.most_common(10) and lancaster_comm_fdist.most_common(10)\n",
    "# 9: lemmatized_desc_fdist.most_common(10) and lemmatized_comm_fdist.most_common(10)\n",
    "\n",
    "# combining all the top 10 tokens of descriptions in one dataframe\n",
    "top_10_desc_tokens = pd.DataFrame({\n",
    "    'raw_token': [token for token, freq in desc_fdist.most_common(10)],\n",
    "    'clean_token': [token for token, freq in desc_fdist2.most_common(10)],\n",
    "    'porter_token': [token for token, freq in porter_desc_fdist.most_common(10)],\n",
    "    'lancaster_token': [token for token, freq in lancaster_desc_fdist.most_common(10)],\n",
    "    'lemmatized_token': [token for token, freq in lemmatized_desc_fdist.most_common(10)]\n",
    "})\n",
    "\n",
    "print(top_10_desc_tokens)"
   ]
  },
  {
   "cell_type": "code",
   "execution_count": 80,
   "metadata": {},
   "outputs": [
    {
     "name": "stdout",
     "output_type": "stream",
     "text": [
      "    raw_token clean_token porter_token lancaster_token lemmatized_token\n",
      "0           .        must         food            food             food\n",
      "1         AND  instructed         must            must             must\n",
      "2           ,        food         area             cle             area\n",
      "3         THE    observed     instruct        instruct       instructed\n",
      "4          IN       clean        clean          observ         observed\n",
      "5          TO        area       observ             are            clean\n",
      "6          OF    maintain     maintain            prep             sink\n",
      "7        MUST        prep         sink        maintain            floor\n",
      "8          ON        sink        floor            sink         maintain\n",
      "9  INSTRUCTED     provide       provid            stor             prep\n"
     ]
    }
   ],
   "source": [
    "# combining all the top 10 tokens of comments in one dataframe\n",
    "top_10_comm_tokens = pd.DataFrame({\n",
    "    'raw_token': [token for token, freq in comm_fdist.most_common(10)],\n",
    "    'clean_token': [token for token, freq in comm_fdist2.most_common(10)],\n",
    "    'porter_token': [token for token, freq in porter_comm_fdist.most_common(10)],\n",
    "    'lancaster_token': [token for token, freq in lancaster_comm_fdist.most_common(10)],\n",
    "    'lemmatized_token': [token for token, freq in lemmatized_comm_fdist.most_common(10)]\n",
    "})\n",
    "\n",
    "print(top_10_comm_tokens)"
   ]
  },
  {
   "cell_type": "markdown",
   "metadata": {},
   "source": [
    "The raw tokens (#4) contained mostly punctuation and stopwords.\n",
    "\n",
    "Once removed and cleaned (#6) the most frequent list of tokens gives roughly a good idea to us of what the comments and description are about.\n",
    "\n",
    "For the descriptions, the lemmatized tokens from (#9) are almost exactly the same as the original cleaned tokens except for one difference: ‘surfaces’ vs ‘surface’. One thing immediately noticed is that the lemmatization didn’t combine words such as ‘clean’ and ‘cleaning’ because of the parts of speech. Without the parts of speech tagging, 'cleaning' is assumed to be a noun as opposed to a verb. Due to this, we can see that the stemmers (#7 & #8) captured the lemma of ‘clean’ or (‘cle’ for Lancaster) as the most common token. ‘cle’ is likely too small of a token that captured more words outside of the word ‘clean’. We can confirm this looking at the frequency numbers of ‘clean’ vs ‘cle’. The stemmers top list suggests a bigger emphasis on the cleanliness in the regulations as opposed to being centered around food. However, overall all methods mainly keep up a general understanding that the regulation descriptions around maintaining cleanliness and properly installing/constructing the equipment and surfaces.\n",
    "\n",
    "Unlike the descriptions, the lemmatized version of the comment tokens are more aligned with the stemmed tokens than the cleaned_tokens. All three found that ‘food’ and ‘must’ were the first and second tokens, respectively. The Lancaster stemming of ‘cle’ also impacted the top tokens list of the comments. ‘cle’ appeared as the third top token but only as the fifth and sixth most frequent tokens for the Porter stemmer and Lemmatizer, respectively. Words such as ‘must’, ‘instruct/instructed’ suggest that many of the restaurants still needed to take actions - which makes sense given all of these restaurants failed their inspections. However, other than these observations, it’s difficult to tell the sentiment of the comments. For example the word ‘clean’ could be in reference to either a present state or an instruction."
   ]
  },
  {
   "cell_type": "markdown",
   "metadata": {},
   "source": [
    "##### 11. Describe which approach provided the most comprehensive view of violations / comments and why\n",
    "\n",
    "The lemmatized tokens appear to provide a more comprehensive view of both violation descriptions and comments. This is mainly because it produces real words as opposed to the stemmers’ non-words such as ‘properli’ and ‘surfac’. Additionally, but cutting off too much of some words such as ‘equipment’ to ‘equip’, the true meaning of the use of these words is changed. "
   ]
  },
  {
   "cell_type": "markdown",
   "metadata": {},
   "source": [
    "##### 12. Use the \"most effective\" cleaning approach to plot the distribution of most common tokens (belonging to violation description) over time"
   ]
  },
  {
   "cell_type": "code",
   "execution_count": 81,
   "metadata": {},
   "outputs": [
    {
     "name": "stderr",
     "output_type": "stream",
     "text": [
      "/var/folders/t6/n_h66qsx6rz5862xz5zck5sm0000gq/T/ipykernel_73897/3013802790.py:2: SettingWithCopyWarning: \n",
      "A value is trying to be set on a copy of a slice from a DataFrame.\n",
      "Try using .loc[row_indexer,col_indexer] = value instead\n",
      "\n",
      "See the caveats in the documentation: https://pandas.pydata.org/pandas-docs/stable/user_guide/indexing.html#returning-a-view-versus-a-copy\n",
      "  df_clean.loc[:,'inspection_year'] = pd.to_datetime(df_clean['inspection_date']).dt.year\n"
     ]
    },
    {
     "data": {
      "text/html": [
       "<div>\n",
       "<style scoped>\n",
       "    .dataframe tbody tr th:only-of-type {\n",
       "        vertical-align: middle;\n",
       "    }\n",
       "\n",
       "    .dataframe tbody tr th {\n",
       "        vertical-align: top;\n",
       "    }\n",
       "\n",
       "    .dataframe thead th {\n",
       "        text-align: right;\n",
       "    }\n",
       "</style>\n",
       "<table border=\"1\" class=\"dataframe\">\n",
       "  <thead>\n",
       "    <tr style=\"text-align: right;\">\n",
       "      <th></th>\n",
       "      <th>inspection_id</th>\n",
       "      <th>dba_name</th>\n",
       "      <th>aka_name</th>\n",
       "      <th>license_</th>\n",
       "      <th>risk</th>\n",
       "      <th>address</th>\n",
       "      <th>state</th>\n",
       "      <th>zip</th>\n",
       "      <th>inspection_date</th>\n",
       "      <th>inspection_type</th>\n",
       "      <th>...</th>\n",
       "      <th>comm_tokens</th>\n",
       "      <th>cleaned_desc_tokens</th>\n",
       "      <th>cleaned_comm_tokens</th>\n",
       "      <th>porter_desc_tokens</th>\n",
       "      <th>porter_comm_tokens</th>\n",
       "      <th>lancaster_desc_tokens</th>\n",
       "      <th>lancaster_comm_tokens</th>\n",
       "      <th>lemmatized_desc_tokens</th>\n",
       "      <th>lemmatized_comm_tokens</th>\n",
       "      <th>inspection_year</th>\n",
       "    </tr>\n",
       "  </thead>\n",
       "  <tbody>\n",
       "    <tr>\n",
       "      <th>0</th>\n",
       "      <td>2610640</td>\n",
       "      <td>NEKTER JUICE BAR</td>\n",
       "      <td>NEKTER JUICE BAR</td>\n",
       "      <td>2997280</td>\n",
       "      <td>Risk 2 (Medium)</td>\n",
       "      <td>1338 S HALSTED ST</td>\n",
       "      <td>IL</td>\n",
       "      <td>60607</td>\n",
       "      <td>2025-01-16T00:00:00.000</td>\n",
       "      <td>License</td>\n",
       "      <td>...</td>\n",
       "      <td>[[OBSERVED, A, HAND, WASHING, SINK, IS, NEEDED...</td>\n",
       "      <td>[adequate, handwashing, sinks, properly, suppl...</td>\n",
       "      <td>[observed, hand, washing, sink, needed, prep, ...</td>\n",
       "      <td>[adequ, handwash, sink, properli, suppli, access]</td>\n",
       "      <td>[observ, hand, wash, sink, need, prep, area, i...</td>\n",
       "      <td>[adequ, handwash, sink, prop, supply, access]</td>\n",
       "      <td>[observ, hand, wash, sink, nee, prep, are, ins...</td>\n",
       "      <td>[adequate, handwashing, sink, properly, suppli...</td>\n",
       "      <td>[observed, hand, washing, sink, needed, prep, ...</td>\n",
       "      <td>2025</td>\n",
       "    </tr>\n",
       "    <tr>\n",
       "      <th>3</th>\n",
       "      <td>2610639</td>\n",
       "      <td>TAQUERIA   AY  MAMA</td>\n",
       "      <td>TAQUERIA   AY   MAMA</td>\n",
       "      <td>3007153</td>\n",
       "      <td>Risk 1 (High)</td>\n",
       "      <td>3233 W CERMAK RD</td>\n",
       "      <td>IL</td>\n",
       "      <td>60623</td>\n",
       "      <td>2025-01-16T00:00:00.000</td>\n",
       "      <td>License</td>\n",
       "      <td>...</td>\n",
       "      <td>[[OBSERVED, NO, HAND, CLEANSER, AVAILABLE, AT,...</td>\n",
       "      <td>[adequate, handwashing, sinks, properly, suppl...</td>\n",
       "      <td>[observed, hand, cleanser, available, washbowl...</td>\n",
       "      <td>[adequ, handwash, sink, properli, suppli, acce...</td>\n",
       "      <td>[observ, hand, cleanser, avail, washbowl, toil...</td>\n",
       "      <td>[adequ, handwash, sink, prop, supply, access, ...</td>\n",
       "      <td>[observ, hand, cleans, avail, washbowl, toilet...</td>\n",
       "      <td>[adequate, handwashing, sink, properly, suppli...</td>\n",
       "      <td>[observed, hand, cleanser, available, washbowl...</td>\n",
       "      <td>2025</td>\n",
       "    </tr>\n",
       "    <tr>\n",
       "      <th>5</th>\n",
       "      <td>2610687</td>\n",
       "      <td>HNDOCU.COM LLC</td>\n",
       "      <td>HNDOCU.COM LLC</td>\n",
       "      <td>2890658</td>\n",
       "      <td>Risk 3 (Low)</td>\n",
       "      <td>821 VAN BUREN</td>\n",
       "      <td>IL</td>\n",
       "      <td>60607</td>\n",
       "      <td>2025-01-16T00:00:00.000</td>\n",
       "      <td>License</td>\n",
       "      <td>...</td>\n",
       "      <td>[[OBSERVED, FACILITY, WITHOUT, A, BODILY, FLUI...</td>\n",
       "      <td>[procedures, responding, vomiting, diarrheal, ...</td>\n",
       "      <td>[observed, facility, without, bodily, fluid, s...</td>\n",
       "      <td>[procedur, respond, vomit, diarrheal, event, p...</td>\n",
       "      <td>[observ, facil, without, bodili, fluid, spill,...</td>\n",
       "      <td>[proc, respond, vomit, diarrh, ev, prop, cool,...</td>\n",
       "      <td>[observ, facil, without, body, fluid, spil, ki...</td>\n",
       "      <td>[procedure, responding, vomiting, diarrheal, e...</td>\n",
       "      <td>[observed, facility, without, bodily, fluid, s...</td>\n",
       "      <td>2025</td>\n",
       "    </tr>\n",
       "  </tbody>\n",
       "</table>\n",
       "<p>3 rows × 27 columns</p>\n",
       "</div>"
      ],
      "text/plain": [
       "  inspection_id             dba_name              aka_name license_  \\\n",
       "0       2610640     NEKTER JUICE BAR      NEKTER JUICE BAR  2997280   \n",
       "3       2610639  TAQUERIA   AY  MAMA  TAQUERIA   AY   MAMA  3007153   \n",
       "5       2610687       HNDOCU.COM LLC        HNDOCU.COM LLC  2890658   \n",
       "\n",
       "              risk            address state    zip          inspection_date  \\\n",
       "0  Risk 2 (Medium)  1338 S HALSTED ST    IL  60607  2025-01-16T00:00:00.000   \n",
       "3    Risk 1 (High)   3233 W CERMAK RD    IL  60623  2025-01-16T00:00:00.000   \n",
       "5     Risk 3 (Low)      821 VAN BUREN    IL  60607  2025-01-16T00:00:00.000   \n",
       "\n",
       "  inspection_type  ...                                        comm_tokens  \\\n",
       "0         License  ...  [[OBSERVED, A, HAND, WASHING, SINK, IS, NEEDED...   \n",
       "3         License  ...  [[OBSERVED, NO, HAND, CLEANSER, AVAILABLE, AT,...   \n",
       "5         License  ...  [[OBSERVED, FACILITY, WITHOUT, A, BODILY, FLUI...   \n",
       "\n",
       "                                 cleaned_desc_tokens  \\\n",
       "0  [adequate, handwashing, sinks, properly, suppl...   \n",
       "3  [adequate, handwashing, sinks, properly, suppl...   \n",
       "5  [procedures, responding, vomiting, diarrheal, ...   \n",
       "\n",
       "                                 cleaned_comm_tokens  \\\n",
       "0  [observed, hand, washing, sink, needed, prep, ...   \n",
       "3  [observed, hand, cleanser, available, washbowl...   \n",
       "5  [observed, facility, without, bodily, fluid, s...   \n",
       "\n",
       "                                  porter_desc_tokens  \\\n",
       "0  [adequ, handwash, sink, properli, suppli, access]   \n",
       "3  [adequ, handwash, sink, properli, suppli, acce...   \n",
       "5  [procedur, respond, vomit, diarrheal, event, p...   \n",
       "\n",
       "                                  porter_comm_tokens  \\\n",
       "0  [observ, hand, wash, sink, need, prep, area, i...   \n",
       "3  [observ, hand, cleanser, avail, washbowl, toil...   \n",
       "5  [observ, facil, without, bodili, fluid, spill,...   \n",
       "\n",
       "                               lancaster_desc_tokens  \\\n",
       "0      [adequ, handwash, sink, prop, supply, access]   \n",
       "3  [adequ, handwash, sink, prop, supply, access, ...   \n",
       "5  [proc, respond, vomit, diarrh, ev, prop, cool,...   \n",
       "\n",
       "                               lancaster_comm_tokens  \\\n",
       "0  [observ, hand, wash, sink, nee, prep, are, ins...   \n",
       "3  [observ, hand, cleans, avail, washbowl, toilet...   \n",
       "5  [observ, facil, without, body, fluid, spil, ki...   \n",
       "\n",
       "                              lemmatized_desc_tokens  \\\n",
       "0  [adequate, handwashing, sink, properly, suppli...   \n",
       "3  [adequate, handwashing, sink, properly, suppli...   \n",
       "5  [procedure, responding, vomiting, diarrheal, e...   \n",
       "\n",
       "                              lemmatized_comm_tokens inspection_year  \n",
       "0  [observed, hand, washing, sink, needed, prep, ...            2025  \n",
       "3  [observed, hand, cleanser, available, washbowl...            2025  \n",
       "5  [observed, facility, without, bodily, fluid, s...            2025  \n",
       "\n",
       "[3 rows x 27 columns]"
      ]
     },
     "execution_count": 81,
     "metadata": {},
     "output_type": "execute_result"
    }
   ],
   "source": [
    "# extract years of inspections\n",
    "df_clean.loc[:,'inspection_year'] = pd.to_datetime(df_clean['inspection_date']).dt.year\n",
    "\n",
    "df_clean.head(3)"
   ]
  },
  {
   "cell_type": "code",
   "execution_count": 84,
   "metadata": {},
   "outputs": [
    {
     "data": {
      "text/plain": [
       "['food',\n",
       " 'maintained',\n",
       " 'properly',\n",
       " 'clean',\n",
       " 'installed',\n",
       " 'constructed',\n",
       " 'equipment',\n",
       " 'surface',\n",
       " 'contact',\n",
       " 'cleaning']"
      ]
     },
     "execution_count": 84,
     "metadata": {},
     "output_type": "execute_result"
    }
   ],
   "source": [
    "top_lemmatized_tokens = top_10_desc_tokens['lemmatized_token'].tolist()\n",
    "top_lemmatized_tokens"
   ]
  },
  {
   "cell_type": "code",
   "execution_count": 86,
   "metadata": {},
   "outputs": [
    {
     "data": {
      "text/html": [
       "<div>\n",
       "<style scoped>\n",
       "    .dataframe tbody tr th:only-of-type {\n",
       "        vertical-align: middle;\n",
       "    }\n",
       "\n",
       "    .dataframe tbody tr th {\n",
       "        vertical-align: top;\n",
       "    }\n",
       "\n",
       "    .dataframe thead th {\n",
       "        text-align: right;\n",
       "    }\n",
       "</style>\n",
       "<table border=\"1\" class=\"dataframe\">\n",
       "  <thead>\n",
       "    <tr style=\"text-align: right;\">\n",
       "      <th></th>\n",
       "      <th>inspection_id</th>\n",
       "      <th>dba_name</th>\n",
       "      <th>aka_name</th>\n",
       "      <th>license_</th>\n",
       "      <th>risk</th>\n",
       "      <th>address</th>\n",
       "      <th>state</th>\n",
       "      <th>zip</th>\n",
       "      <th>inspection_date</th>\n",
       "      <th>inspection_type</th>\n",
       "      <th>...</th>\n",
       "      <th>comm_tokens</th>\n",
       "      <th>cleaned_desc_tokens</th>\n",
       "      <th>cleaned_comm_tokens</th>\n",
       "      <th>porter_desc_tokens</th>\n",
       "      <th>porter_comm_tokens</th>\n",
       "      <th>lancaster_desc_tokens</th>\n",
       "      <th>lancaster_comm_tokens</th>\n",
       "      <th>lemmatized_desc_tokens</th>\n",
       "      <th>lemmatized_comm_tokens</th>\n",
       "      <th>inspection_year</th>\n",
       "    </tr>\n",
       "  </thead>\n",
       "  <tbody>\n",
       "    <tr>\n",
       "      <th>0</th>\n",
       "      <td>2610640</td>\n",
       "      <td>NEKTER JUICE BAR</td>\n",
       "      <td>NEKTER JUICE BAR</td>\n",
       "      <td>2997280</td>\n",
       "      <td>Risk 2 (Medium)</td>\n",
       "      <td>1338 S HALSTED ST</td>\n",
       "      <td>IL</td>\n",
       "      <td>60607</td>\n",
       "      <td>2025-01-16T00:00:00.000</td>\n",
       "      <td>License</td>\n",
       "      <td>...</td>\n",
       "      <td>[[OBSERVED, A, HAND, WASHING, SINK, IS, NEEDED...</td>\n",
       "      <td>[adequate, handwashing, sinks, properly, suppl...</td>\n",
       "      <td>[observed, hand, washing, sink, needed, prep, ...</td>\n",
       "      <td>[adequ, handwash, sink, properli, suppli, access]</td>\n",
       "      <td>[observ, hand, wash, sink, need, prep, area, i...</td>\n",
       "      <td>[adequ, handwash, sink, prop, supply, access]</td>\n",
       "      <td>[observ, hand, wash, sink, nee, prep, are, ins...</td>\n",
       "      <td>properly</td>\n",
       "      <td>[observed, hand, washing, sink, needed, prep, ...</td>\n",
       "      <td>2025</td>\n",
       "    </tr>\n",
       "    <tr>\n",
       "      <th>3</th>\n",
       "      <td>2610639</td>\n",
       "      <td>TAQUERIA   AY  MAMA</td>\n",
       "      <td>TAQUERIA   AY   MAMA</td>\n",
       "      <td>3007153</td>\n",
       "      <td>Risk 1 (High)</td>\n",
       "      <td>3233 W CERMAK RD</td>\n",
       "      <td>IL</td>\n",
       "      <td>60623</td>\n",
       "      <td>2025-01-16T00:00:00.000</td>\n",
       "      <td>License</td>\n",
       "      <td>...</td>\n",
       "      <td>[[OBSERVED, NO, HAND, CLEANSER, AVAILABLE, AT,...</td>\n",
       "      <td>[adequate, handwashing, sinks, properly, suppl...</td>\n",
       "      <td>[observed, hand, cleanser, available, washbowl...</td>\n",
       "      <td>[adequ, handwash, sink, properli, suppli, acce...</td>\n",
       "      <td>[observ, hand, cleanser, avail, washbowl, toil...</td>\n",
       "      <td>[adequ, handwash, sink, prop, supply, access, ...</td>\n",
       "      <td>[observ, hand, cleans, avail, washbowl, toilet...</td>\n",
       "      <td>properly</td>\n",
       "      <td>[observed, hand, cleanser, available, washbowl...</td>\n",
       "      <td>2025</td>\n",
       "    </tr>\n",
       "    <tr>\n",
       "      <th>3</th>\n",
       "      <td>2610639</td>\n",
       "      <td>TAQUERIA   AY  MAMA</td>\n",
       "      <td>TAQUERIA   AY   MAMA</td>\n",
       "      <td>3007153</td>\n",
       "      <td>Risk 1 (High)</td>\n",
       "      <td>3233 W CERMAK RD</td>\n",
       "      <td>IL</td>\n",
       "      <td>60623</td>\n",
       "      <td>2025-01-16T00:00:00.000</td>\n",
       "      <td>License</td>\n",
       "      <td>...</td>\n",
       "      <td>[[OBSERVED, NO, HAND, CLEANSER, AVAILABLE, AT,...</td>\n",
       "      <td>[adequate, handwashing, sinks, properly, suppl...</td>\n",
       "      <td>[observed, hand, cleanser, available, washbowl...</td>\n",
       "      <td>[adequ, handwash, sink, properli, suppli, acce...</td>\n",
       "      <td>[observ, hand, cleanser, avail, washbowl, toil...</td>\n",
       "      <td>[adequ, handwash, sink, prop, supply, access, ...</td>\n",
       "      <td>[observ, hand, cleans, avail, washbowl, toilet...</td>\n",
       "      <td>equipment</td>\n",
       "      <td>[observed, hand, cleanser, available, washbowl...</td>\n",
       "      <td>2025</td>\n",
       "    </tr>\n",
       "    <tr>\n",
       "      <th>3</th>\n",
       "      <td>2610639</td>\n",
       "      <td>TAQUERIA   AY  MAMA</td>\n",
       "      <td>TAQUERIA   AY   MAMA</td>\n",
       "      <td>3007153</td>\n",
       "      <td>Risk 1 (High)</td>\n",
       "      <td>3233 W CERMAK RD</td>\n",
       "      <td>IL</td>\n",
       "      <td>60623</td>\n",
       "      <td>2025-01-16T00:00:00.000</td>\n",
       "      <td>License</td>\n",
       "      <td>...</td>\n",
       "      <td>[[OBSERVED, NO, HAND, CLEANSER, AVAILABLE, AT,...</td>\n",
       "      <td>[adequate, handwashing, sinks, properly, suppl...</td>\n",
       "      <td>[observed, hand, cleanser, available, washbowl...</td>\n",
       "      <td>[adequ, handwash, sink, properli, suppli, acce...</td>\n",
       "      <td>[observ, hand, cleanser, avail, washbowl, toil...</td>\n",
       "      <td>[adequ, handwash, sink, prop, supply, access, ...</td>\n",
       "      <td>[observ, hand, cleans, avail, washbowl, toilet...</td>\n",
       "      <td>properly</td>\n",
       "      <td>[observed, hand, cleanser, available, washbowl...</td>\n",
       "      <td>2025</td>\n",
       "    </tr>\n",
       "    <tr>\n",
       "      <th>3</th>\n",
       "      <td>2610639</td>\n",
       "      <td>TAQUERIA   AY  MAMA</td>\n",
       "      <td>TAQUERIA   AY   MAMA</td>\n",
       "      <td>3007153</td>\n",
       "      <td>Risk 1 (High)</td>\n",
       "      <td>3233 W CERMAK RD</td>\n",
       "      <td>IL</td>\n",
       "      <td>60623</td>\n",
       "      <td>2025-01-16T00:00:00.000</td>\n",
       "      <td>License</td>\n",
       "      <td>...</td>\n",
       "      <td>[[OBSERVED, NO, HAND, CLEANSER, AVAILABLE, AT,...</td>\n",
       "      <td>[adequate, handwashing, sinks, properly, suppl...</td>\n",
       "      <td>[observed, hand, cleanser, available, washbowl...</td>\n",
       "      <td>[adequ, handwash, sink, properli, suppli, acce...</td>\n",
       "      <td>[observ, hand, cleanser, avail, washbowl, toil...</td>\n",
       "      <td>[adequ, handwash, sink, prop, supply, access, ...</td>\n",
       "      <td>[observ, hand, cleans, avail, washbowl, toilet...</td>\n",
       "      <td>constructed</td>\n",
       "      <td>[observed, hand, cleanser, available, washbowl...</td>\n",
       "      <td>2025</td>\n",
       "    </tr>\n",
       "  </tbody>\n",
       "</table>\n",
       "<p>5 rows × 27 columns</p>\n",
       "</div>"
      ],
      "text/plain": [
       "  inspection_id             dba_name              aka_name license_  \\\n",
       "0       2610640     NEKTER JUICE BAR      NEKTER JUICE BAR  2997280   \n",
       "3       2610639  TAQUERIA   AY  MAMA  TAQUERIA   AY   MAMA  3007153   \n",
       "3       2610639  TAQUERIA   AY  MAMA  TAQUERIA   AY   MAMA  3007153   \n",
       "3       2610639  TAQUERIA   AY  MAMA  TAQUERIA   AY   MAMA  3007153   \n",
       "3       2610639  TAQUERIA   AY  MAMA  TAQUERIA   AY   MAMA  3007153   \n",
       "\n",
       "              risk            address state    zip          inspection_date  \\\n",
       "0  Risk 2 (Medium)  1338 S HALSTED ST    IL  60607  2025-01-16T00:00:00.000   \n",
       "3    Risk 1 (High)   3233 W CERMAK RD    IL  60623  2025-01-16T00:00:00.000   \n",
       "3    Risk 1 (High)   3233 W CERMAK RD    IL  60623  2025-01-16T00:00:00.000   \n",
       "3    Risk 1 (High)   3233 W CERMAK RD    IL  60623  2025-01-16T00:00:00.000   \n",
       "3    Risk 1 (High)   3233 W CERMAK RD    IL  60623  2025-01-16T00:00:00.000   \n",
       "\n",
       "  inspection_type  ...                                        comm_tokens  \\\n",
       "0         License  ...  [[OBSERVED, A, HAND, WASHING, SINK, IS, NEEDED...   \n",
       "3         License  ...  [[OBSERVED, NO, HAND, CLEANSER, AVAILABLE, AT,...   \n",
       "3         License  ...  [[OBSERVED, NO, HAND, CLEANSER, AVAILABLE, AT,...   \n",
       "3         License  ...  [[OBSERVED, NO, HAND, CLEANSER, AVAILABLE, AT,...   \n",
       "3         License  ...  [[OBSERVED, NO, HAND, CLEANSER, AVAILABLE, AT,...   \n",
       "\n",
       "                                 cleaned_desc_tokens  \\\n",
       "0  [adequate, handwashing, sinks, properly, suppl...   \n",
       "3  [adequate, handwashing, sinks, properly, suppl...   \n",
       "3  [adequate, handwashing, sinks, properly, suppl...   \n",
       "3  [adequate, handwashing, sinks, properly, suppl...   \n",
       "3  [adequate, handwashing, sinks, properly, suppl...   \n",
       "\n",
       "                                 cleaned_comm_tokens  \\\n",
       "0  [observed, hand, washing, sink, needed, prep, ...   \n",
       "3  [observed, hand, cleanser, available, washbowl...   \n",
       "3  [observed, hand, cleanser, available, washbowl...   \n",
       "3  [observed, hand, cleanser, available, washbowl...   \n",
       "3  [observed, hand, cleanser, available, washbowl...   \n",
       "\n",
       "                                  porter_desc_tokens  \\\n",
       "0  [adequ, handwash, sink, properli, suppli, access]   \n",
       "3  [adequ, handwash, sink, properli, suppli, acce...   \n",
       "3  [adequ, handwash, sink, properli, suppli, acce...   \n",
       "3  [adequ, handwash, sink, properli, suppli, acce...   \n",
       "3  [adequ, handwash, sink, properli, suppli, acce...   \n",
       "\n",
       "                                  porter_comm_tokens  \\\n",
       "0  [observ, hand, wash, sink, need, prep, area, i...   \n",
       "3  [observ, hand, cleanser, avail, washbowl, toil...   \n",
       "3  [observ, hand, cleanser, avail, washbowl, toil...   \n",
       "3  [observ, hand, cleanser, avail, washbowl, toil...   \n",
       "3  [observ, hand, cleanser, avail, washbowl, toil...   \n",
       "\n",
       "                               lancaster_desc_tokens  \\\n",
       "0      [adequ, handwash, sink, prop, supply, access]   \n",
       "3  [adequ, handwash, sink, prop, supply, access, ...   \n",
       "3  [adequ, handwash, sink, prop, supply, access, ...   \n",
       "3  [adequ, handwash, sink, prop, supply, access, ...   \n",
       "3  [adequ, handwash, sink, prop, supply, access, ...   \n",
       "\n",
       "                               lancaster_comm_tokens lemmatized_desc_tokens  \\\n",
       "0  [observ, hand, wash, sink, nee, prep, are, ins...               properly   \n",
       "3  [observ, hand, cleans, avail, washbowl, toilet...               properly   \n",
       "3  [observ, hand, cleans, avail, washbowl, toilet...              equipment   \n",
       "3  [observ, hand, cleans, avail, washbowl, toilet...               properly   \n",
       "3  [observ, hand, cleans, avail, washbowl, toilet...            constructed   \n",
       "\n",
       "                              lemmatized_comm_tokens inspection_year  \n",
       "0  [observed, hand, washing, sink, needed, prep, ...            2025  \n",
       "3  [observed, hand, cleanser, available, washbowl...            2025  \n",
       "3  [observed, hand, cleanser, available, washbowl...            2025  \n",
       "3  [observed, hand, cleanser, available, washbowl...            2025  \n",
       "3  [observed, hand, cleanser, available, washbowl...            2025  \n",
       "\n",
       "[5 rows x 27 columns]"
      ]
     },
     "execution_count": 86,
     "metadata": {},
     "output_type": "execute_result"
    }
   ],
   "source": [
    "lemm_exploded = df_clean.explode('lemmatized_desc_tokens')\n",
    "\n",
    "# filter for only top ten tokens\n",
    "top_ten_dates = lemm_exploded[\n",
    "    lemm_exploded['lemmatized_desc_tokens'].isin(top_lemmatized_tokens)\n",
    "]\n",
    "\n",
    "top_ten_dates.head()"
   ]
  },
  {
   "cell_type": "code",
   "execution_count": 87,
   "metadata": {},
   "outputs": [
    {
     "data": {
      "text/html": [
       "<div>\n",
       "<style scoped>\n",
       "    .dataframe tbody tr th:only-of-type {\n",
       "        vertical-align: middle;\n",
       "    }\n",
       "\n",
       "    .dataframe tbody tr th {\n",
       "        vertical-align: top;\n",
       "    }\n",
       "\n",
       "    .dataframe thead th {\n",
       "        text-align: right;\n",
       "    }\n",
       "</style>\n",
       "<table border=\"1\" class=\"dataframe\">\n",
       "  <thead>\n",
       "    <tr style=\"text-align: right;\">\n",
       "      <th></th>\n",
       "      <th>inspection_year</th>\n",
       "      <th>lemmatized_desc_tokens</th>\n",
       "      <th>count</th>\n",
       "    </tr>\n",
       "  </thead>\n",
       "  <tbody>\n",
       "    <tr>\n",
       "      <th>0</th>\n",
       "      <td>2010</td>\n",
       "      <td>clean</td>\n",
       "      <td>5373</td>\n",
       "    </tr>\n",
       "    <tr>\n",
       "      <th>1</th>\n",
       "      <td>2010</td>\n",
       "      <td>cleaning</td>\n",
       "      <td>6016</td>\n",
       "    </tr>\n",
       "    <tr>\n",
       "      <th>2</th>\n",
       "      <td>2010</td>\n",
       "      <td>constructed</td>\n",
       "      <td>6776</td>\n",
       "    </tr>\n",
       "    <tr>\n",
       "      <th>3</th>\n",
       "      <td>2010</td>\n",
       "      <td>contact</td>\n",
       "      <td>3781</td>\n",
       "    </tr>\n",
       "    <tr>\n",
       "      <th>4</th>\n",
       "      <td>2010</td>\n",
       "      <td>equipment</td>\n",
       "      <td>7727</td>\n",
       "    </tr>\n",
       "  </tbody>\n",
       "</table>\n",
       "</div>"
      ],
      "text/plain": [
       "   inspection_year lemmatized_desc_tokens  count\n",
       "0             2010                  clean   5373\n",
       "1             2010               cleaning   6016\n",
       "2             2010            constructed   6776\n",
       "3             2010                contact   3781\n",
       "4             2010              equipment   7727"
      ]
     },
     "execution_count": 87,
     "metadata": {},
     "output_type": "execute_result"
    }
   ],
   "source": [
    "# group by year and regulation description & count\n",
    "top_tokens_years = top_ten_dates.groupby(['inspection_year','lemmatized_desc_tokens']).size().reset_index(name='count')\n",
    "\n",
    "top_tokens_years.head()"
   ]
  },
  {
   "cell_type": "code",
   "execution_count": 89,
   "metadata": {},
   "outputs": [
    {
     "data": {
      "text/plain": [
       "<Figure size 1200x600 with 0 Axes>"
      ]
     },
     "metadata": {},
     "output_type": "display_data"
    },
    {
     "data": {
      "image/png": "[encoded data removed]",
      "text/plain": [
       "<Figure size 1200x600 with 1 Axes>"
      ]
     },
     "metadata": {},
     "output_type": "display_data"
    }
   ],
   "source": [
    "import matplotlib.pyplot as plt\n",
    "\n",
    "# Visualization: Line chart for trends over time\n",
    "violation_trends_pivot = top_tokens_years.pivot(index='inspection_year', columns='lemmatized_desc_tokens', values='count').fillna(0)\n",
    "plt.figure(figsize=(12, 6))\n",
    "violation_trends_pivot.plot(marker='o', figsize=(12, 6))\n",
    "plt.title('Trends in Top-10 Most Frequent Tokens Over Time', fontsize=14)\n",
    "plt.xlabel('Year', fontsize=12)\n",
    "plt.ylabel('Frequency', fontsize=12)\n",
    "plt.legend(title='Top Lemmatized Tokens', fontsize=10, bbox_to_anchor=(1.05, 1), loc='upper left')\n",
    "plt.grid(axis='y', alpha=0.75)\n",
    "plt.tight_layout()\n",
    "plt.show()"
   ]
  }
 ],
 "metadata": {
  "kernelspec": {
   "display_name": "base",
   "language": "python",
   "name": "python3"
  },
  "language_info": {
   "codemirror_mode": {
    "name": "ipython",
    "version": 3
   },
   "file_extension": ".py",
   "mimetype": "text/x-python",
   "name": "python",
   "nbconvert_exporter": "python",
   "pygments_lexer": "ipython3",
   "version": "3.12.4"
  }
 },
 "nbformat": 4,
 "nbformat_minor": 2
}

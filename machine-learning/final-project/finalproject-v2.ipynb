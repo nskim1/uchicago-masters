{
 "cells": [
  {
   "cell_type": "markdown",
   "id": "e6e4f60b-80ff-435f-a4c5-d8655119bccd",
   "metadata": {},
   "source": [
    "## Final Project: Restaurant Recommender System - Yelp Restaurant Recommendation\n",
    "##### Natalie Kim"
   ]
  },
  {
   "cell_type": "markdown",
   "id": "742613e1-9868-4ea5-9969-a339d21334d4",
   "metadata": {},
   "source": [
    "#### Libraries"
   ]
  },
  {
   "cell_type": "code",
   "execution_count": 2,
   "id": "b2da5af7-5a25-4db7-8e57-b8012167ba0a",
   "metadata": {},
   "outputs": [],
   "source": [
    "import pandas as pd\n",
    "import numpy as np\n",
    "import json\n",
    "from sklearn.model_selection import GridSearchCV, train_test_split\n",
    "from sklearn.metrics.pairwise import cosine_similarity\n",
    "from sklearn.neighbors import KNeighborsClassifier\n",
    "from sklearn.metrics import accuracy_score\n",
    "from sklearn.decomposition import TruncatedSVD\n",
    "from sklearn.metrics import mean_squared_error\n",
    "from math import sqrt"
   ]
  },
  {
   "cell_type": "markdown",
   "id": "a9009f2b-ac21-473d-b05d-551e45c1cda7",
   "metadata": {},
   "source": [
    "### Load Data"
   ]
  },
  {
   "cell_type": "markdown",
   "id": "1e3255e9-0482-4304-bdde-d9f7e0a3778e",
   "metadata": {},
   "source": [
    "##### Businesses data"
   ]
  },
  {
   "cell_type": "code",
   "execution_count": 3,
   "id": "74a882e4-130d-4f14-8d17-0dbf2da6dd57",
   "metadata": {},
   "outputs": [],
   "source": [
    "data_file = open(\"/Users/nataliekim/Downloads/yelp_dataset/yelp_academic_dataset_business.json\")\n",
    "data = []\n",
    "for line in data_file:   \n",
    "    data.append(json.loads(line))\n",
    "\n",
    "business_df = pd.DataFrame(data)\n",
    "data_file.close()"
   ]
  },
  {
   "cell_type": "markdown",
   "id": "6576dd02-6662-49af-83ba-f58f08f5892a",
   "metadata": {},
   "source": [
    "##### Reviews data"
   ]
  },
  {
   "cell_type": "code",
   "execution_count": 4,
   "id": "b7bb53bd-5794-4949-8362-63b250a13e3f",
   "metadata": {},
   "outputs": [],
   "source": [
    "data_file = open(\"/Users/nataliekim/Downloads/yelp_dataset/yelp_academic_dataset_review.json\")\n",
    "data = []\n",
    "for line in data_file:   \n",
    "    data.append(json.loads(line))\n",
    "\n",
    "reviews_df = pd.DataFrame(data)\n",
    "data_file.close()"
   ]
  },
  {
   "cell_type": "markdown",
   "id": "dbc39d9a-b17a-4532-98e7-5360bacfada0",
   "metadata": {},
   "source": [
    "### Data Preparation"
   ]
  },
  {
   "cell_type": "markdown",
   "id": "8a89f2e3-1893-411b-9ebc-5b1eeee71859",
   "metadata": {},
   "source": [
    "#### Subset for restaurants in Philadelphia"
   ]
  },
  {
   "cell_type": "code",
   "execution_count": 5,
   "id": "ebb1a6b8-4fd9-4653-8905-5acaf9771014",
   "metadata": {},
   "outputs": [],
   "source": [
    "# Businesses in Philadelphia\n",
    "philly = business_df[(business_df['city'] == 'Philadelphia')]"
   ]
  },
  {
   "cell_type": "code",
   "execution_count": 6,
   "id": "eade395a-adbf-46bd-96fd-0a3025b4021a",
   "metadata": {},
   "outputs": [],
   "source": [
    "# Philly Restaurants\n",
    "philly_rest = philly[philly['categories'].str.contains('Restaurant', na=False)]"
   ]
  },
  {
   "cell_type": "code",
   "execution_count": 7,
   "id": "3833e835-cdae-4190-95a4-c263b58fc936",
   "metadata": {},
   "outputs": [],
   "source": [
    "restaurants = philly_rest[['business_id','name','address', 'categories', 'attributes','stars']]"
   ]
  },
  {
   "cell_type": "code",
   "execution_count": 8,
   "id": "41a2fba2-ec0d-460d-ac03-9b0999cdd4ad",
   "metadata": {},
   "outputs": [
    {
     "name": "stdout",
     "output_type": "stream",
     "text": [
      "<class 'pandas.core.frame.DataFrame'>\n",
      "Index: 5854 entries, 3 to 150336\n",
      "Data columns (total 6 columns):\n",
      " #   Column       Non-Null Count  Dtype  \n",
      "---  ------       --------------  -----  \n",
      " 0   business_id  5854 non-null   object \n",
      " 1   name         5854 non-null   object \n",
      " 2   address      5854 non-null   object \n",
      " 3   categories   5854 non-null   object \n",
      " 4   attributes   5801 non-null   object \n",
      " 5   stars        5854 non-null   float64\n",
      "dtypes: float64(1), object(5)\n",
      "memory usage: 320.1+ KB\n"
     ]
    }
   ],
   "source": [
    "restaurants.info()"
   ]
  },
  {
   "cell_type": "code",
   "execution_count": 9,
   "id": "08ce4f3a-bf01-4b2f-ba01-a876adc6f018",
   "metadata": {},
   "outputs": [
    {
     "data": {
      "text/html": [
       "<div>\n",
       "<style scoped>\n",
       "    .dataframe tbody tr th:only-of-type {\n",
       "        vertical-align: middle;\n",
       "    }\n",
       "\n",
       "    .dataframe tbody tr th {\n",
       "        vertical-align: top;\n",
       "    }\n",
       "\n",
       "    .dataframe thead th {\n",
       "        text-align: right;\n",
       "    }\n",
       "</style>\n",
       "<table border=\"1\" class=\"dataframe\">\n",
       "  <thead>\n",
       "    <tr style=\"text-align: right;\">\n",
       "      <th></th>\n",
       "      <th>business_id</th>\n",
       "      <th>name</th>\n",
       "      <th>address</th>\n",
       "      <th>categories</th>\n",
       "      <th>attributes</th>\n",
       "      <th>stars</th>\n",
       "    </tr>\n",
       "  </thead>\n",
       "  <tbody>\n",
       "    <tr>\n",
       "      <th>3</th>\n",
       "      <td>MTSW4McQd7CbVtyjqoe9mw</td>\n",
       "      <td>St Honore Pastries</td>\n",
       "      <td>935 Race St</td>\n",
       "      <td>Restaurants, Food, Bubble Tea, Coffee &amp; Tea, B...</td>\n",
       "      <td>{'RestaurantsDelivery': 'False', 'OutdoorSeati...</td>\n",
       "      <td>4.0</td>\n",
       "    </tr>\n",
       "    <tr>\n",
       "      <th>15</th>\n",
       "      <td>MUTTqe8uqyMdBl186RmNeA</td>\n",
       "      <td>Tuna Bar</td>\n",
       "      <td>205 Race St</td>\n",
       "      <td>Sushi Bars, Restaurants, Japanese</td>\n",
       "      <td>{'RestaurantsReservations': 'True', 'Restauran...</td>\n",
       "      <td>4.0</td>\n",
       "    </tr>\n",
       "    <tr>\n",
       "      <th>19</th>\n",
       "      <td>ROeacJQwBeh05Rqg7F6TCg</td>\n",
       "      <td>BAP</td>\n",
       "      <td>1224 South St</td>\n",
       "      <td>Korean, Restaurants</td>\n",
       "      <td>{'NoiseLevel': 'u'quiet'', 'GoodForMeal': '{'d...</td>\n",
       "      <td>4.5</td>\n",
       "    </tr>\n",
       "    <tr>\n",
       "      <th>28</th>\n",
       "      <td>QdN72BWoyFypdGJhhI5r7g</td>\n",
       "      <td>Bar One</td>\n",
       "      <td>767 S 9th St</td>\n",
       "      <td>Cocktail Bars, Bars, Italian, Nightlife, Resta...</td>\n",
       "      <td>{'Smoking': 'u'no'', 'NoiseLevel': 'u'average'...</td>\n",
       "      <td>4.0</td>\n",
       "    </tr>\n",
       "    <tr>\n",
       "      <th>31</th>\n",
       "      <td>Mjboz24M9NlBeiOJKLEd_Q</td>\n",
       "      <td>DeSandro on Main</td>\n",
       "      <td>4105 Main St</td>\n",
       "      <td>Pizza, Restaurants, Salad, Soup</td>\n",
       "      <td>{'RestaurantsReservations': 'False', 'Caters':...</td>\n",
       "      <td>3.0</td>\n",
       "    </tr>\n",
       "  </tbody>\n",
       "</table>\n",
       "</div>"
      ],
      "text/plain": [
       "               business_id                name        address  \\\n",
       "3   MTSW4McQd7CbVtyjqoe9mw  St Honore Pastries    935 Race St   \n",
       "15  MUTTqe8uqyMdBl186RmNeA            Tuna Bar    205 Race St   \n",
       "19  ROeacJQwBeh05Rqg7F6TCg                 BAP  1224 South St   \n",
       "28  QdN72BWoyFypdGJhhI5r7g             Bar One   767 S 9th St   \n",
       "31  Mjboz24M9NlBeiOJKLEd_Q    DeSandro on Main   4105 Main St   \n",
       "\n",
       "                                           categories  \\\n",
       "3   Restaurants, Food, Bubble Tea, Coffee & Tea, B...   \n",
       "15                  Sushi Bars, Restaurants, Japanese   \n",
       "19                                Korean, Restaurants   \n",
       "28  Cocktail Bars, Bars, Italian, Nightlife, Resta...   \n",
       "31                    Pizza, Restaurants, Salad, Soup   \n",
       "\n",
       "                                           attributes  stars  \n",
       "3   {'RestaurantsDelivery': 'False', 'OutdoorSeati...    4.0  \n",
       "15  {'RestaurantsReservations': 'True', 'Restauran...    4.0  \n",
       "19  {'NoiseLevel': 'u'quiet'', 'GoodForMeal': '{'d...    4.5  \n",
       "28  {'Smoking': 'u'no'', 'NoiseLevel': 'u'average'...    4.0  \n",
       "31  {'RestaurantsReservations': 'False', 'Caters':...    3.0  "
      ]
     },
     "execution_count": 9,
     "metadata": {},
     "output_type": "execute_result"
    }
   ],
   "source": [
    "restaurants.head(5)"
   ]
  },
  {
   "cell_type": "markdown",
   "id": "5ba6962e-5611-4888-9068-fef895c37508",
   "metadata": {},
   "source": [
    "#### Combine all data"
   ]
  },
  {
   "cell_type": "code",
   "execution_count": 10,
   "id": "0b0fa9b7-60dc-4a3a-8eee-1bfcbae6a9ec",
   "metadata": {},
   "outputs": [],
   "source": [
    "reviews_df2 = reviews_df[['user_id','business_id']]"
   ]
  },
  {
   "cell_type": "code",
   "execution_count": 11,
   "id": "aa9c5dd2-cbba-4daa-ac7d-ea7e17beb57a",
   "metadata": {},
   "outputs": [],
   "source": [
    "# add name of business to reviews df\n",
    "all_data = pd.merge(reviews_df2, restaurants, on='business_id')"
   ]
  },
  {
   "cell_type": "code",
   "execution_count": 12,
   "id": "279cd307-48df-40d2-ad3e-0056848283cf",
   "metadata": {},
   "outputs": [
    {
     "name": "stderr",
     "output_type": "stream",
     "text": [
      "/var/folders/v3/34g6014554j1kjqs_qv0qq5h0000gn/T/ipykernel_27374/1834643021.py:5: SettingWithCopyWarning: \n",
      "A value is trying to be set on a copy of a slice from a DataFrame.\n",
      "Try using .loc[row_indexer,col_indexer] = value instead\n",
      "\n",
      "See the caveats in the documentation: https://pandas.pydata.org/pandas-docs/stable/user_guide/indexing.html#returning-a-view-versus-a-copy\n",
      "  restaurants['stars'] = restaurants['stars'].map(star_round)\n"
     ]
    }
   ],
   "source": [
    "# Round stars column to integers rather than floats\n",
    "star_round = {1.0:1,1.5:2, 2.0:2, 2.5:3, 3.0:3, 3.5:4, 4.0:4, 4.5:5, 5.0:5}\n",
    "\n",
    "all_data['stars'] = all_data['stars'].map(star_round)\n",
    "restaurants['stars'] = restaurants['stars'].map(star_round)"
   ]
  },
  {
   "cell_type": "code",
   "execution_count": 13,
   "id": "0b2d5818-70ad-4060-9ce2-228d6af4d07e",
   "metadata": {},
   "outputs": [
    {
     "data": {
      "text/html": [
       "<div>\n",
       "<style scoped>\n",
       "    .dataframe tbody tr th:only-of-type {\n",
       "        vertical-align: middle;\n",
       "    }\n",
       "\n",
       "    .dataframe tbody tr th {\n",
       "        vertical-align: top;\n",
       "    }\n",
       "\n",
       "    .dataframe thead th {\n",
       "        text-align: right;\n",
       "    }\n",
       "</style>\n",
       "<table border=\"1\" class=\"dataframe\">\n",
       "  <thead>\n",
       "    <tr style=\"text-align: right;\">\n",
       "      <th></th>\n",
       "      <th>user_id</th>\n",
       "      <th>business_id</th>\n",
       "      <th>name</th>\n",
       "      <th>address</th>\n",
       "      <th>categories</th>\n",
       "      <th>attributes</th>\n",
       "      <th>stars</th>\n",
       "    </tr>\n",
       "  </thead>\n",
       "  <tbody>\n",
       "    <tr>\n",
       "      <th>0</th>\n",
       "      <td>_7bHUi9Uuf5__HHc_Q8guQ</td>\n",
       "      <td>kxX2SOes4o-D3ZQBkiMRfA</td>\n",
       "      <td>Zaika</td>\n",
       "      <td>2481 Grant Ave</td>\n",
       "      <td>Halal, Pakistani, Restaurants, Indian</td>\n",
       "      <td>{'Caters': 'True', 'Ambience': '{'romantic': F...</td>\n",
       "      <td>4</td>\n",
       "    </tr>\n",
       "    <tr>\n",
       "      <th>1</th>\n",
       "      <td>kSMOJwJXuEUqzfmuFncK4A</td>\n",
       "      <td>kxX2SOes4o-D3ZQBkiMRfA</td>\n",
       "      <td>Zaika</td>\n",
       "      <td>2481 Grant Ave</td>\n",
       "      <td>Halal, Pakistani, Restaurants, Indian</td>\n",
       "      <td>{'Caters': 'True', 'Ambience': '{'romantic': F...</td>\n",
       "      <td>4</td>\n",
       "    </tr>\n",
       "    <tr>\n",
       "      <th>2</th>\n",
       "      <td>mqBWACmaHflW4eh_Ofp16Q</td>\n",
       "      <td>kxX2SOes4o-D3ZQBkiMRfA</td>\n",
       "      <td>Zaika</td>\n",
       "      <td>2481 Grant Ave</td>\n",
       "      <td>Halal, Pakistani, Restaurants, Indian</td>\n",
       "      <td>{'Caters': 'True', 'Ambience': '{'romantic': F...</td>\n",
       "      <td>4</td>\n",
       "    </tr>\n",
       "    <tr>\n",
       "      <th>3</th>\n",
       "      <td>Z-xgVb4nM42943m2wbBkFw</td>\n",
       "      <td>kxX2SOes4o-D3ZQBkiMRfA</td>\n",
       "      <td>Zaika</td>\n",
       "      <td>2481 Grant Ave</td>\n",
       "      <td>Halal, Pakistani, Restaurants, Indian</td>\n",
       "      <td>{'Caters': 'True', 'Ambience': '{'romantic': F...</td>\n",
       "      <td>4</td>\n",
       "    </tr>\n",
       "    <tr>\n",
       "      <th>4</th>\n",
       "      <td>2SEoXb6r6hPKrl9V9VzBgA</td>\n",
       "      <td>kxX2SOes4o-D3ZQBkiMRfA</td>\n",
       "      <td>Zaika</td>\n",
       "      <td>2481 Grant Ave</td>\n",
       "      <td>Halal, Pakistani, Restaurants, Indian</td>\n",
       "      <td>{'Caters': 'True', 'Ambience': '{'romantic': F...</td>\n",
       "      <td>4</td>\n",
       "    </tr>\n",
       "  </tbody>\n",
       "</table>\n",
       "</div>"
      ],
      "text/plain": [
       "                  user_id             business_id   name         address  \\\n",
       "0  _7bHUi9Uuf5__HHc_Q8guQ  kxX2SOes4o-D3ZQBkiMRfA  Zaika  2481 Grant Ave   \n",
       "1  kSMOJwJXuEUqzfmuFncK4A  kxX2SOes4o-D3ZQBkiMRfA  Zaika  2481 Grant Ave   \n",
       "2  mqBWACmaHflW4eh_Ofp16Q  kxX2SOes4o-D3ZQBkiMRfA  Zaika  2481 Grant Ave   \n",
       "3  Z-xgVb4nM42943m2wbBkFw  kxX2SOes4o-D3ZQBkiMRfA  Zaika  2481 Grant Ave   \n",
       "4  2SEoXb6r6hPKrl9V9VzBgA  kxX2SOes4o-D3ZQBkiMRfA  Zaika  2481 Grant Ave   \n",
       "\n",
       "                              categories  \\\n",
       "0  Halal, Pakistani, Restaurants, Indian   \n",
       "1  Halal, Pakistani, Restaurants, Indian   \n",
       "2  Halal, Pakistani, Restaurants, Indian   \n",
       "3  Halal, Pakistani, Restaurants, Indian   \n",
       "4  Halal, Pakistani, Restaurants, Indian   \n",
       "\n",
       "                                          attributes  stars  \n",
       "0  {'Caters': 'True', 'Ambience': '{'romantic': F...      4  \n",
       "1  {'Caters': 'True', 'Ambience': '{'romantic': F...      4  \n",
       "2  {'Caters': 'True', 'Ambience': '{'romantic': F...      4  \n",
       "3  {'Caters': 'True', 'Ambience': '{'romantic': F...      4  \n",
       "4  {'Caters': 'True', 'Ambience': '{'romantic': F...      4  "
      ]
     },
     "execution_count": 13,
     "metadata": {},
     "output_type": "execute_result"
    }
   ],
   "source": [
    "all_data.head()"
   ]
  },
  {
   "cell_type": "markdown",
   "id": "32b1be12-3d90-46d0-bf75-72485cae2892",
   "metadata": {},
   "source": [
    "#### Train/Test Split of Data"
   ]
  },
  {
   "cell_type": "code",
   "execution_count": 14,
   "id": "81bbf2c9-b0b8-4b31-9e58-61322fe44820",
   "metadata": {},
   "outputs": [],
   "source": [
    "train_data, test_data = train_test_split(all_data, test_size=0.1, random_state=42)"
   ]
  },
  {
   "cell_type": "markdown",
   "id": "7cbfa5d7-9910-43f8-b202-b0574eff84d3",
   "metadata": {},
   "source": [
    "#### User-Restaurant Matrix (using Reviews table)"
   ]
  },
  {
   "cell_type": "code",
   "execution_count": 15,
   "id": "aaff62dc-a7ef-4e9d-abb2-fd3bd3c34ebd",
   "metadata": {},
   "outputs": [],
   "source": [
    "# Create user-item matrix for training data\n",
    "train_user_rest = train_data.pivot_table(values='stars', index='user_id', columns='name', fill_value=0)\n",
    "\n",
    "# Create user-item matrix for test data\n",
    "test_user_rest = test_data.pivot_table(values='stars', index='user_id', columns='name', fill_value=0)"
   ]
  },
  {
   "cell_type": "markdown",
   "id": "2413849e-b64c-45a4-b3cc-e654f5028fb0",
   "metadata": {},
   "source": [
    "#### Dummy Matrices - Categories & Attributes"
   ]
  },
  {
   "cell_type": "code",
   "execution_count": 16,
   "id": "1d7c0623-b2f2-4a37-a848-c18bdb1dae20",
   "metadata": {},
   "outputs": [],
   "source": [
    "# Expand categories column\n",
    "categ_dummies = pd.Series(restaurants['categories']).str.get_dummies(',')\n",
    "#categ_dummies"
   ]
  },
  {
   "cell_type": "code",
   "execution_count": 17,
   "id": "edc16d6e-3a9f-4624-aed9-93976a80890c",
   "metadata": {},
   "outputs": [],
   "source": [
    "# Function that extract keys from the nested dictionary\n",
    "def extract_keys(attr, key):\n",
    "    if attr == None:\n",
    "        return \"{}\"\n",
    "    if key in attr:\n",
    "        return attr.pop(key)\n",
    "\n",
    "# convert string to dictionary\n",
    "import ast\n",
    "def str_to_dict(attr):\n",
    "    if attr != None:\n",
    "        return ast.literal_eval(attr)\n",
    "    else:\n",
    "        return ast.literal_eval(\"{}\") "
   ]
  },
  {
   "cell_type": "code",
   "execution_count": 18,
   "id": "947cea1e-e599-4ebc-b4f9-8ab777d992b6",
   "metadata": {},
   "outputs": [
    {
     "name": "stderr",
     "output_type": "stream",
     "text": [
      "/var/folders/v3/34g6014554j1kjqs_qv0qq5h0000gn/T/ipykernel_27374/41011558.py:2: SettingWithCopyWarning: \n",
      "A value is trying to be set on a copy of a slice from a DataFrame.\n",
      "Try using .loc[row_indexer,col_indexer] = value instead\n",
      "\n",
      "See the caveats in the documentation: https://pandas.pydata.org/pandas-docs/stable/user_guide/indexing.html#returning-a-view-versus-a-copy\n",
      "  restaurants['BusinessParking'] = restaurants.apply(lambda x: str_to_dict(extract_keys(x['attributes'], 'BusinessParking')), axis=1)\n",
      "/var/folders/v3/34g6014554j1kjqs_qv0qq5h0000gn/T/ipykernel_27374/41011558.py:3: SettingWithCopyWarning: \n",
      "A value is trying to be set on a copy of a slice from a DataFrame.\n",
      "Try using .loc[row_indexer,col_indexer] = value instead\n",
      "\n",
      "See the caveats in the documentation: https://pandas.pydata.org/pandas-docs/stable/user_guide/indexing.html#returning-a-view-versus-a-copy\n",
      "  restaurants['Ambience'] = restaurants.apply(lambda x: str_to_dict(extract_keys(x['attributes'], 'Ambience')), axis=1)\n",
      "/var/folders/v3/34g6014554j1kjqs_qv0qq5h0000gn/T/ipykernel_27374/41011558.py:4: SettingWithCopyWarning: \n",
      "A value is trying to be set on a copy of a slice from a DataFrame.\n",
      "Try using .loc[row_indexer,col_indexer] = value instead\n",
      "\n",
      "See the caveats in the documentation: https://pandas.pydata.org/pandas-docs/stable/user_guide/indexing.html#returning-a-view-versus-a-copy\n",
      "  restaurants['GoodForMeal'] = restaurants.apply(lambda x: str_to_dict(extract_keys(x['attributes'], 'GoodForMeal')), axis=1)\n",
      "/var/folders/v3/34g6014554j1kjqs_qv0qq5h0000gn/T/ipykernel_27374/41011558.py:5: SettingWithCopyWarning: \n",
      "A value is trying to be set on a copy of a slice from a DataFrame.\n",
      "Try using .loc[row_indexer,col_indexer] = value instead\n",
      "\n",
      "See the caveats in the documentation: https://pandas.pydata.org/pandas-docs/stable/user_guide/indexing.html#returning-a-view-versus-a-copy\n",
      "  restaurants['Dietary'] = restaurants.apply(lambda x: str_to_dict(extract_keys(x['attributes'], 'Dietary')), axis=1)\n",
      "/var/folders/v3/34g6014554j1kjqs_qv0qq5h0000gn/T/ipykernel_27374/41011558.py:6: SettingWithCopyWarning: \n",
      "A value is trying to be set on a copy of a slice from a DataFrame.\n",
      "Try using .loc[row_indexer,col_indexer] = value instead\n",
      "\n",
      "See the caveats in the documentation: https://pandas.pydata.org/pandas-docs/stable/user_guide/indexing.html#returning-a-view-versus-a-copy\n",
      "  restaurants['Music'] = restaurants.apply(lambda x: str_to_dict(extract_keys(x['attributes'], 'Music')), axis=1)\n"
     ]
    }
   ],
   "source": [
    "# get dummies from nested attributes\n",
    "restaurants['BusinessParking'] = restaurants.apply(lambda x: str_to_dict(extract_keys(x['attributes'], 'BusinessParking')), axis=1)\n",
    "restaurants['Ambience'] = restaurants.apply(lambda x: str_to_dict(extract_keys(x['attributes'], 'Ambience')), axis=1)\n",
    "restaurants['GoodForMeal'] = restaurants.apply(lambda x: str_to_dict(extract_keys(x['attributes'], 'GoodForMeal')), axis=1)\n",
    "restaurants['Dietary'] = restaurants.apply(lambda x: str_to_dict(extract_keys(x['attributes'], 'Dietary')), axis=1)\n",
    "restaurants['Music'] = restaurants.apply(lambda x: str_to_dict(extract_keys(x['attributes'], 'Music')), axis=1)"
   ]
  },
  {
   "cell_type": "code",
   "execution_count": 19,
   "id": "d7646ec0-1798-48f1-b14b-3d7e114f130c",
   "metadata": {},
   "outputs": [],
   "source": [
    "# attribute dummy table\n",
    "attr_dummies = pd.concat([restaurants['attributes'].apply(pd.Series), \n",
    "                          restaurants['BusinessParking'].apply(pd.Series),\n",
    "                          restaurants['Ambience'].apply(pd.Series), \n",
    "                          restaurants['GoodForMeal'].apply(pd.Series),\n",
    "                          restaurants['Dietary'].apply(pd.Series)], axis=1)\n",
    "attr_dummies = pd.get_dummies(attr_dummies)\n",
    "#attr_dummies"
   ]
  },
  {
   "cell_type": "code",
   "execution_count": 20,
   "id": "f304683f-b92b-427c-a206-87fd1c5087b0",
   "metadata": {
    "scrolled": true
   },
   "outputs": [
    {
     "data": {
      "text/html": [
       "<div>\n",
       "<style scoped>\n",
       "    .dataframe tbody tr th:only-of-type {\n",
       "        vertical-align: middle;\n",
       "    }\n",
       "\n",
       "    .dataframe tbody tr th {\n",
       "        vertical-align: top;\n",
       "    }\n",
       "\n",
       "    .dataframe thead th {\n",
       "        text-align: right;\n",
       "    }\n",
       "</style>\n",
       "<table border=\"1\" class=\"dataframe\">\n",
       "  <thead>\n",
       "    <tr style=\"text-align: right;\">\n",
       "      <th></th>\n",
       "      <th>RestaurantsDelivery_False</th>\n",
       "      <th>RestaurantsDelivery_None</th>\n",
       "      <th>RestaurantsDelivery_True</th>\n",
       "      <th>OutdoorSeating_False</th>\n",
       "      <th>OutdoorSeating_None</th>\n",
       "      <th>OutdoorSeating_True</th>\n",
       "      <th>BusinessAcceptsCreditCards_False</th>\n",
       "      <th>BusinessAcceptsCreditCards_None</th>\n",
       "      <th>BusinessAcceptsCreditCards_True</th>\n",
       "      <th>BikeParking_False</th>\n",
       "      <th>...</th>\n",
       "      <th>Vegan</th>\n",
       "      <th>Vegetarian</th>\n",
       "      <th>Venues &amp; Event Spaces</th>\n",
       "      <th>Vietnamese</th>\n",
       "      <th>Waffles</th>\n",
       "      <th>Wine Bars</th>\n",
       "      <th>Wineries</th>\n",
       "      <th>Wraps</th>\n",
       "      <th>name</th>\n",
       "      <th>stars</th>\n",
       "    </tr>\n",
       "  </thead>\n",
       "  <tbody>\n",
       "    <tr>\n",
       "      <th>3</th>\n",
       "      <td>True</td>\n",
       "      <td>False</td>\n",
       "      <td>False</td>\n",
       "      <td>True</td>\n",
       "      <td>False</td>\n",
       "      <td>False</td>\n",
       "      <td>True</td>\n",
       "      <td>False</td>\n",
       "      <td>False</td>\n",
       "      <td>False</td>\n",
       "      <td>...</td>\n",
       "      <td>0</td>\n",
       "      <td>0</td>\n",
       "      <td>0</td>\n",
       "      <td>0</td>\n",
       "      <td>0</td>\n",
       "      <td>0</td>\n",
       "      <td>0</td>\n",
       "      <td>0</td>\n",
       "      <td>St Honore Pastries</td>\n",
       "      <td>4</td>\n",
       "    </tr>\n",
       "    <tr>\n",
       "      <th>15</th>\n",
       "      <td>False</td>\n",
       "      <td>False</td>\n",
       "      <td>True</td>\n",
       "      <td>False</td>\n",
       "      <td>False</td>\n",
       "      <td>True</td>\n",
       "      <td>False</td>\n",
       "      <td>False</td>\n",
       "      <td>True</td>\n",
       "      <td>False</td>\n",
       "      <td>...</td>\n",
       "      <td>0</td>\n",
       "      <td>0</td>\n",
       "      <td>0</td>\n",
       "      <td>0</td>\n",
       "      <td>0</td>\n",
       "      <td>0</td>\n",
       "      <td>0</td>\n",
       "      <td>0</td>\n",
       "      <td>Tuna Bar</td>\n",
       "      <td>4</td>\n",
       "    </tr>\n",
       "    <tr>\n",
       "      <th>19</th>\n",
       "      <td>False</td>\n",
       "      <td>True</td>\n",
       "      <td>False</td>\n",
       "      <td>False</td>\n",
       "      <td>True</td>\n",
       "      <td>False</td>\n",
       "      <td>False</td>\n",
       "      <td>False</td>\n",
       "      <td>True</td>\n",
       "      <td>False</td>\n",
       "      <td>...</td>\n",
       "      <td>0</td>\n",
       "      <td>0</td>\n",
       "      <td>0</td>\n",
       "      <td>0</td>\n",
       "      <td>0</td>\n",
       "      <td>0</td>\n",
       "      <td>0</td>\n",
       "      <td>0</td>\n",
       "      <td>BAP</td>\n",
       "      <td>5</td>\n",
       "    </tr>\n",
       "    <tr>\n",
       "      <th>28</th>\n",
       "      <td>False</td>\n",
       "      <td>False</td>\n",
       "      <td>True</td>\n",
       "      <td>True</td>\n",
       "      <td>False</td>\n",
       "      <td>False</td>\n",
       "      <td>False</td>\n",
       "      <td>False</td>\n",
       "      <td>True</td>\n",
       "      <td>False</td>\n",
       "      <td>...</td>\n",
       "      <td>0</td>\n",
       "      <td>0</td>\n",
       "      <td>0</td>\n",
       "      <td>0</td>\n",
       "      <td>0</td>\n",
       "      <td>0</td>\n",
       "      <td>0</td>\n",
       "      <td>0</td>\n",
       "      <td>Bar One</td>\n",
       "      <td>4</td>\n",
       "    </tr>\n",
       "    <tr>\n",
       "      <th>31</th>\n",
       "      <td>False</td>\n",
       "      <td>False</td>\n",
       "      <td>True</td>\n",
       "      <td>False</td>\n",
       "      <td>False</td>\n",
       "      <td>True</td>\n",
       "      <td>False</td>\n",
       "      <td>False</td>\n",
       "      <td>True</td>\n",
       "      <td>False</td>\n",
       "      <td>...</td>\n",
       "      <td>0</td>\n",
       "      <td>0</td>\n",
       "      <td>0</td>\n",
       "      <td>0</td>\n",
       "      <td>0</td>\n",
       "      <td>0</td>\n",
       "      <td>0</td>\n",
       "      <td>0</td>\n",
       "      <td>DeSandro on Main</td>\n",
       "      <td>3</td>\n",
       "    </tr>\n",
       "  </tbody>\n",
       "</table>\n",
       "<p>5 rows × 814 columns</p>\n",
       "</div>"
      ],
      "text/plain": [
       "    RestaurantsDelivery_False  RestaurantsDelivery_None  \\\n",
       "3                        True                     False   \n",
       "15                      False                     False   \n",
       "19                      False                      True   \n",
       "28                      False                     False   \n",
       "31                      False                     False   \n",
       "\n",
       "    RestaurantsDelivery_True  OutdoorSeating_False  OutdoorSeating_None  \\\n",
       "3                      False                  True                False   \n",
       "15                      True                 False                False   \n",
       "19                     False                 False                 True   \n",
       "28                      True                  True                False   \n",
       "31                      True                 False                False   \n",
       "\n",
       "    OutdoorSeating_True  BusinessAcceptsCreditCards_False  \\\n",
       "3                 False                              True   \n",
       "15                 True                             False   \n",
       "19                False                             False   \n",
       "28                False                             False   \n",
       "31                 True                             False   \n",
       "\n",
       "    BusinessAcceptsCreditCards_None  BusinessAcceptsCreditCards_True  \\\n",
       "3                             False                            False   \n",
       "15                            False                             True   \n",
       "19                            False                             True   \n",
       "28                            False                             True   \n",
       "31                            False                             True   \n",
       "\n",
       "    BikeParking_False  ...  Vegan  Vegetarian  Venues & Event Spaces  \\\n",
       "3               False  ...      0           0                      0   \n",
       "15              False  ...      0           0                      0   \n",
       "19              False  ...      0           0                      0   \n",
       "28              False  ...      0           0                      0   \n",
       "31              False  ...      0           0                      0   \n",
       "\n",
       "    Vietnamese  Waffles  Wine Bars  Wineries  Wraps                name  stars  \n",
       "3            0        0          0         0      0  St Honore Pastries      4  \n",
       "15           0        0          0         0      0            Tuna Bar      4  \n",
       "19           0        0          0         0      0                 BAP      5  \n",
       "28           0        0          0         0      0             Bar One      4  \n",
       "31           0        0          0         0      0    DeSandro on Main      3  \n",
       "\n",
       "[5 rows x 814 columns]"
      ]
     },
     "execution_count": 20,
     "metadata": {},
     "output_type": "execute_result"
    }
   ],
   "source": [
    "# Finalize table\n",
    "df_final = pd.concat([attr_dummies,\n",
    "                      categ_dummies, \n",
    "                      restaurants[['name','stars']]], axis=1)\n",
    "df_final.drop('Restaurants',inplace=True,axis=1)\n",
    "df_final.head()"
   ]
  },
  {
   "cell_type": "code",
   "execution_count": 21,
   "id": "1ece0eb4-186a-4a04-b4fa-20c4fa039fba",
   "metadata": {},
   "outputs": [],
   "source": [
    "X = df_final.iloc[:,:-2]\n",
    "y = df_final['stars']"
   ]
  },
  {
   "cell_type": "code",
   "execution_count": 22,
   "id": "6bce51e4-30c8-475c-86cd-de9a055ff6eb",
   "metadata": {},
   "outputs": [],
   "source": [
    "X_train, X_test, y_train, y_test = train_test_split(X, y, test_size=0.1, random_state=42)"
   ]
  },
  {
   "cell_type": "markdown",
   "id": "c9ffc23b-5a45-411d-99d0-e1065f7a28d7",
   "metadata": {},
   "source": [
    "#### Similarity Matrix"
   ]
  },
  {
   "cell_type": "code",
   "execution_count": 23,
   "id": "dd8426a1-09fc-4ff5-be55-525ab222f86c",
   "metadata": {},
   "outputs": [],
   "source": [
    "df_finalv2 = df_final\n",
    "#df_finalv2.head()"
   ]
  },
  {
   "cell_type": "code",
   "execution_count": 24,
   "id": "54a19551-8cb8-49ae-92b2-d41817dfc9b9",
   "metadata": {},
   "outputs": [],
   "source": [
    "df_finalv2.drop('stars',inplace=True,axis=1)\n",
    "df_finalv2 = pd.DataFrame(df_finalv2)\n",
    "df_finalv2.set_index('name', inplace=True)"
   ]
  },
  {
   "cell_type": "code",
   "execution_count": 25,
   "id": "3775635f-efee-4d5a-bd82-0b735dd6133b",
   "metadata": {},
   "outputs": [],
   "source": [
    "# Compute the cosine similarity matrix\n",
    "similarity_matrix = cosine_similarity(df_finalv2)\n",
    "\n",
    "# Convert the similarity matrix to a DataFrame for easier manipulation\n",
    "similarity_df = pd.DataFrame(similarity_matrix, index=df_finalv2.index, columns=df_finalv2.index)"
   ]
  },
  {
   "cell_type": "markdown",
   "id": "269ef269-a1dd-45f4-a9d0-9f348147af34",
   "metadata": {},
   "source": [
    "### Content Based Filtering"
   ]
  },
  {
   "cell_type": "code",
   "execution_count": 26,
   "id": "24f2d639-746c-406f-b8fd-7470394f229c",
   "metadata": {},
   "outputs": [],
   "source": [
    "# Use Cross Validation to find best parameters\n",
    "param_grid = {\n",
    "    'n_neighbors': [5, 10, 15, 20, 25, 30]\n",
    "}"
   ]
  },
  {
   "cell_type": "code",
   "execution_count": 27,
   "id": "76747d22-bb45-435e-bad7-78fa7124902a",
   "metadata": {},
   "outputs": [
    {
     "data": {
      "text/html": [
       "<style>#sk-container-id-1 {color: black;background-color: white;}#sk-container-id-1 pre{padding: 0;}#sk-container-id-1 div.sk-toggleable {background-color: white;}#sk-container-id-1 label.sk-toggleable__label {cursor: pointer;display: block;width: 100%;margin-bottom: 0;padding: 0.3em;box-sizing: border-box;text-align: center;}#sk-container-id-1 label.sk-toggleable__label-arrow:before {content: \"▸\";float: left;margin-right: 0.25em;color: #696969;}#sk-container-id-1 label.sk-toggleable__label-arrow:hover:before {color: black;}#sk-container-id-1 div.sk-estimator:hover label.sk-toggleable__label-arrow:before {color: black;}#sk-container-id-1 div.sk-toggleable__content {max-height: 0;max-width: 0;overflow: hidden;text-align: left;background-color: #f0f8ff;}#sk-container-id-1 div.sk-toggleable__content pre {margin: 0.2em;color: black;border-radius: 0.25em;background-color: #f0f8ff;}#sk-container-id-1 input.sk-toggleable__control:checked~div.sk-toggleable__content {max-height: 200px;max-width: 100%;overflow: auto;}#sk-container-id-1 input.sk-toggleable__control:checked~label.sk-toggleable__label-arrow:before {content: \"▾\";}#sk-container-id-1 div.sk-estimator input.sk-toggleable__control:checked~label.sk-toggleable__label {background-color: #d4ebff;}#sk-container-id-1 div.sk-label input.sk-toggleable__control:checked~label.sk-toggleable__label {background-color: #d4ebff;}#sk-container-id-1 input.sk-hidden--visually {border: 0;clip: rect(1px 1px 1px 1px);clip: rect(1px, 1px, 1px, 1px);height: 1px;margin: -1px;overflow: hidden;padding: 0;position: absolute;width: 1px;}#sk-container-id-1 div.sk-estimator {font-family: monospace;background-color: #f0f8ff;border: 1px dotted black;border-radius: 0.25em;box-sizing: border-box;margin-bottom: 0.5em;}#sk-container-id-1 div.sk-estimator:hover {background-color: #d4ebff;}#sk-container-id-1 div.sk-parallel-item::after {content: \"\";width: 100%;border-bottom: 1px solid gray;flex-grow: 1;}#sk-container-id-1 div.sk-label:hover label.sk-toggleable__label {background-color: #d4ebff;}#sk-container-id-1 div.sk-serial::before {content: \"\";position: absolute;border-left: 1px solid gray;box-sizing: border-box;top: 0;bottom: 0;left: 50%;z-index: 0;}#sk-container-id-1 div.sk-serial {display: flex;flex-direction: column;align-items: center;background-color: white;padding-right: 0.2em;padding-left: 0.2em;position: relative;}#sk-container-id-1 div.sk-item {position: relative;z-index: 1;}#sk-container-id-1 div.sk-parallel {display: flex;align-items: stretch;justify-content: center;background-color: white;position: relative;}#sk-container-id-1 div.sk-item::before, #sk-container-id-1 div.sk-parallel-item::before {content: \"\";position: absolute;border-left: 1px solid gray;box-sizing: border-box;top: 0;bottom: 0;left: 50%;z-index: -1;}#sk-container-id-1 div.sk-parallel-item {display: flex;flex-direction: column;z-index: 1;position: relative;background-color: white;}#sk-container-id-1 div.sk-parallel-item:first-child::after {align-self: flex-end;width: 50%;}#sk-container-id-1 div.sk-parallel-item:last-child::after {align-self: flex-start;width: 50%;}#sk-container-id-1 div.sk-parallel-item:only-child::after {width: 0;}#sk-container-id-1 div.sk-dashed-wrapped {border: 1px dashed gray;margin: 0 0.4em 0.5em 0.4em;box-sizing: border-box;padding-bottom: 0.4em;background-color: white;}#sk-container-id-1 div.sk-label label {font-family: monospace;font-weight: bold;display: inline-block;line-height: 1.2em;}#sk-container-id-1 div.sk-label-container {text-align: center;}#sk-container-id-1 div.sk-container {/* jupyter's `normalize.less` sets `[hidden] { display: none; }` but bootstrap.min.css set `[hidden] { display: none !important; }` so we also need the `!important` here to be able to override the default hidden behavior on the sphinx rendered scikit-learn.org. See: https://github.com/scikit-learn/scikit-learn/issues/21755 */display: inline-block !important;position: relative;}#sk-container-id-1 div.sk-text-repr-fallback {display: none;}</style><div id=\"sk-container-id-1\" class=\"sk-top-container\"><div class=\"sk-text-repr-fallback\"><pre>GridSearchCV(cv=5, estimator=KNeighborsClassifier(), n_jobs=-1,\n",
       "             param_grid={&#x27;n_neighbors&#x27;: [5, 10, 15, 20, 25, 30]},\n",
       "             scoring=&#x27;accuracy&#x27;)</pre><b>In a Jupyter environment, please rerun this cell to show the HTML representation or trust the notebook. <br />On GitHub, the HTML representation is unable to render, please try loading this page with nbviewer.org.</b></div><div class=\"sk-container\" hidden><div class=\"sk-item sk-dashed-wrapped\"><div class=\"sk-label-container\"><div class=\"sk-label sk-toggleable\"><input class=\"sk-toggleable__control sk-hidden--visually\" id=\"sk-estimator-id-1\" type=\"checkbox\" ><label for=\"sk-estimator-id-1\" class=\"sk-toggleable__label sk-toggleable__label-arrow\">GridSearchCV</label><div class=\"sk-toggleable__content\"><pre>GridSearchCV(cv=5, estimator=KNeighborsClassifier(), n_jobs=-1,\n",
       "             param_grid={&#x27;n_neighbors&#x27;: [5, 10, 15, 20, 25, 30]},\n",
       "             scoring=&#x27;accuracy&#x27;)</pre></div></div></div><div class=\"sk-parallel\"><div class=\"sk-parallel-item\"><div class=\"sk-item\"><div class=\"sk-label-container\"><div class=\"sk-label sk-toggleable\"><input class=\"sk-toggleable__control sk-hidden--visually\" id=\"sk-estimator-id-2\" type=\"checkbox\" ><label for=\"sk-estimator-id-2\" class=\"sk-toggleable__label sk-toggleable__label-arrow\">estimator: KNeighborsClassifier</label><div class=\"sk-toggleable__content\"><pre>KNeighborsClassifier()</pre></div></div></div><div class=\"sk-serial\"><div class=\"sk-item\"><div class=\"sk-estimator sk-toggleable\"><input class=\"sk-toggleable__control sk-hidden--visually\" id=\"sk-estimator-id-3\" type=\"checkbox\" ><label for=\"sk-estimator-id-3\" class=\"sk-toggleable__label sk-toggleable__label-arrow\">KNeighborsClassifier</label><div class=\"sk-toggleable__content\"><pre>KNeighborsClassifier()</pre></div></div></div></div></div></div></div></div></div></div>"
      ],
      "text/plain": [
       "GridSearchCV(cv=5, estimator=KNeighborsClassifier(), n_jobs=-1,\n",
       "             param_grid={'n_neighbors': [5, 10, 15, 20, 25, 30]},\n",
       "             scoring='accuracy')"
      ]
     },
     "execution_count": 27,
     "metadata": {},
     "output_type": "execute_result"
    }
   ],
   "source": [
    "# Instantiate and fit the model\n",
    "knn = KNeighborsClassifier()\n",
    "\n",
    "grid_search = GridSearchCV(knn, param_grid, cv=5, scoring='accuracy', n_jobs=-1)\n",
    "\n",
    "grid_search.fit(X_train, y_train)"
   ]
  },
  {
   "cell_type": "code",
   "execution_count": 28,
   "id": "d4cf5394-4ada-4afe-a8b8-c24c1d4cb35a",
   "metadata": {},
   "outputs": [
    {
     "name": "stdout",
     "output_type": "stream",
     "text": [
      "Best parameters: {'n_neighbors': 30}\n",
      "Training accuracy with best parameters: 0.5396735003796507\n",
      "Test accuracy with best parameters: 0.515358361774744\n"
     ]
    }
   ],
   "source": [
    "# Get the best parameters\n",
    "best_params = grid_search.best_params_\n",
    "print(f\"Best parameters: {best_params}\")\n",
    "\n",
    "# Get the best estimator\n",
    "best_knn = grid_search.best_estimator_\n",
    "\n",
    "# Evaluate the model on the training set\n",
    "train_accuracy = best_knn.score(X_train, y_train)\n",
    "print(f\"Training accuracy with best parameters: {train_accuracy}\")\n",
    "\n",
    "# Evaluate the model on the test set\n",
    "test_accuracy = best_knn.score(X_test, y_test)\n",
    "print(f\"Test accuracy with best parameters: {test_accuracy}\")"
   ]
  },
  {
   "cell_type": "markdown",
   "id": "939003ad-5759-4eaa-9a60-be6c7770d82b",
   "metadata": {},
   "source": [
    "### Collaborative-Filtering Model"
   ]
  },
  {
   "cell_type": "markdown",
   "id": "15353ae9-ebaf-4b13-9ef3-111a47b6dbb1",
   "metadata": {},
   "source": [
    "User-item matrix: train_user_rest"
   ]
  },
  {
   "cell_type": "code",
   "execution_count": 29,
   "id": "d1dd7019-e100-42a4-b740-62e1df7f8f7f",
   "metadata": {},
   "outputs": [
    {
     "data": {
      "text/html": [
       "<div>\n",
       "<style scoped>\n",
       "    .dataframe tbody tr th:only-of-type {\n",
       "        vertical-align: middle;\n",
       "    }\n",
       "\n",
       "    .dataframe tbody tr th {\n",
       "        vertical-align: top;\n",
       "    }\n",
       "\n",
       "    .dataframe thead th {\n",
       "        text-align: right;\n",
       "    }\n",
       "</style>\n",
       "<table border=\"1\" class=\"dataframe\">\n",
       "  <thead>\n",
       "    <tr style=\"text-align: right;\">\n",
       "      <th>name</th>\n",
       "      <th>$5 Fresh Burger Stop</th>\n",
       "      <th>&amp;pizza - UPenn</th>\n",
       "      <th>&amp;pizza - Walnut</th>\n",
       "      <th>1 Stop Pizza</th>\n",
       "      <th>10 Arts Bistro</th>\n",
       "      <th>1100 Social</th>\n",
       "      <th>1201 Bar</th>\n",
       "      <th>1225Raw Sushi and Sake Lounge</th>\n",
       "      <th>12th Street Cantina</th>\n",
       "      <th>13 Restaurant</th>\n",
       "      <th>...</th>\n",
       "      <th>iPho</th>\n",
       "      <th>iPho Vietnamese Restaurant</th>\n",
       "      <th>iSushi</th>\n",
       "      <th>la bamba</th>\n",
       "      <th>moonbowls</th>\n",
       "      <th>nunu</th>\n",
       "      <th>penrose cheesesteak</th>\n",
       "      <th>revive 21</th>\n",
       "      <th>sweetgreen</th>\n",
       "      <th>¡Juice!</th>\n",
       "    </tr>\n",
       "    <tr>\n",
       "      <th>user_id</th>\n",
       "      <th></th>\n",
       "      <th></th>\n",
       "      <th></th>\n",
       "      <th></th>\n",
       "      <th></th>\n",
       "      <th></th>\n",
       "      <th></th>\n",
       "      <th></th>\n",
       "      <th></th>\n",
       "      <th></th>\n",
       "      <th></th>\n",
       "      <th></th>\n",
       "      <th></th>\n",
       "      <th></th>\n",
       "      <th></th>\n",
       "      <th></th>\n",
       "      <th></th>\n",
       "      <th></th>\n",
       "      <th></th>\n",
       "      <th></th>\n",
       "      <th></th>\n",
       "    </tr>\n",
       "  </thead>\n",
       "  <tbody>\n",
       "    <tr>\n",
       "      <th>---r61b7EpVPkb4UVme5tA</th>\n",
       "      <td>0.0</td>\n",
       "      <td>0.0</td>\n",
       "      <td>0.0</td>\n",
       "      <td>0.0</td>\n",
       "      <td>0.0</td>\n",
       "      <td>0.0</td>\n",
       "      <td>0.0</td>\n",
       "      <td>0.0</td>\n",
       "      <td>0.0</td>\n",
       "      <td>0.0</td>\n",
       "      <td>...</td>\n",
       "      <td>0.0</td>\n",
       "      <td>0.0</td>\n",
       "      <td>0.0</td>\n",
       "      <td>0.0</td>\n",
       "      <td>0.0</td>\n",
       "      <td>0.0</td>\n",
       "      <td>0.0</td>\n",
       "      <td>0.0</td>\n",
       "      <td>0.0</td>\n",
       "      <td>0.0</td>\n",
       "    </tr>\n",
       "    <tr>\n",
       "      <th>--0kuuLmuYBe3Rmu0Iycww</th>\n",
       "      <td>0.0</td>\n",
       "      <td>0.0</td>\n",
       "      <td>0.0</td>\n",
       "      <td>0.0</td>\n",
       "      <td>0.0</td>\n",
       "      <td>0.0</td>\n",
       "      <td>0.0</td>\n",
       "      <td>0.0</td>\n",
       "      <td>0.0</td>\n",
       "      <td>0.0</td>\n",
       "      <td>...</td>\n",
       "      <td>0.0</td>\n",
       "      <td>0.0</td>\n",
       "      <td>0.0</td>\n",
       "      <td>0.0</td>\n",
       "      <td>0.0</td>\n",
       "      <td>0.0</td>\n",
       "      <td>0.0</td>\n",
       "      <td>0.0</td>\n",
       "      <td>0.0</td>\n",
       "      <td>0.0</td>\n",
       "    </tr>\n",
       "    <tr>\n",
       "      <th>--13zE3NaRvLSrmfTVnFJA</th>\n",
       "      <td>0.0</td>\n",
       "      <td>0.0</td>\n",
       "      <td>0.0</td>\n",
       "      <td>0.0</td>\n",
       "      <td>0.0</td>\n",
       "      <td>0.0</td>\n",
       "      <td>0.0</td>\n",
       "      <td>0.0</td>\n",
       "      <td>0.0</td>\n",
       "      <td>0.0</td>\n",
       "      <td>...</td>\n",
       "      <td>0.0</td>\n",
       "      <td>0.0</td>\n",
       "      <td>0.0</td>\n",
       "      <td>0.0</td>\n",
       "      <td>0.0</td>\n",
       "      <td>0.0</td>\n",
       "      <td>0.0</td>\n",
       "      <td>0.0</td>\n",
       "      <td>0.0</td>\n",
       "      <td>0.0</td>\n",
       "    </tr>\n",
       "    <tr>\n",
       "      <th>--2tyArRmSoyKx5r-FVG0A</th>\n",
       "      <td>0.0</td>\n",
       "      <td>0.0</td>\n",
       "      <td>0.0</td>\n",
       "      <td>0.0</td>\n",
       "      <td>0.0</td>\n",
       "      <td>0.0</td>\n",
       "      <td>0.0</td>\n",
       "      <td>0.0</td>\n",
       "      <td>0.0</td>\n",
       "      <td>0.0</td>\n",
       "      <td>...</td>\n",
       "      <td>0.0</td>\n",
       "      <td>0.0</td>\n",
       "      <td>0.0</td>\n",
       "      <td>0.0</td>\n",
       "      <td>0.0</td>\n",
       "      <td>0.0</td>\n",
       "      <td>0.0</td>\n",
       "      <td>0.0</td>\n",
       "      <td>0.0</td>\n",
       "      <td>0.0</td>\n",
       "    </tr>\n",
       "    <tr>\n",
       "      <th>--2vR0DIsmQ6WfcSzKWigw</th>\n",
       "      <td>0.0</td>\n",
       "      <td>0.0</td>\n",
       "      <td>0.0</td>\n",
       "      <td>0.0</td>\n",
       "      <td>0.0</td>\n",
       "      <td>0.0</td>\n",
       "      <td>0.0</td>\n",
       "      <td>0.0</td>\n",
       "      <td>0.0</td>\n",
       "      <td>0.0</td>\n",
       "      <td>...</td>\n",
       "      <td>0.0</td>\n",
       "      <td>0.0</td>\n",
       "      <td>0.0</td>\n",
       "      <td>0.0</td>\n",
       "      <td>0.0</td>\n",
       "      <td>0.0</td>\n",
       "      <td>0.0</td>\n",
       "      <td>0.0</td>\n",
       "      <td>0.0</td>\n",
       "      <td>0.0</td>\n",
       "    </tr>\n",
       "  </tbody>\n",
       "</table>\n",
       "<p>5 rows × 5074 columns</p>\n",
       "</div>"
      ],
      "text/plain": [
       "name                    $5 Fresh Burger Stop  &pizza - UPenn  &pizza - Walnut  \\\n",
       "user_id                                                                         \n",
       "---r61b7EpVPkb4UVme5tA                   0.0             0.0              0.0   \n",
       "--0kuuLmuYBe3Rmu0Iycww                   0.0             0.0              0.0   \n",
       "--13zE3NaRvLSrmfTVnFJA                   0.0             0.0              0.0   \n",
       "--2tyArRmSoyKx5r-FVG0A                   0.0             0.0              0.0   \n",
       "--2vR0DIsmQ6WfcSzKWigw                   0.0             0.0              0.0   \n",
       "\n",
       "name                    1 Stop Pizza  10 Arts Bistro  1100 Social  1201 Bar  \\\n",
       "user_id                                                                       \n",
       "---r61b7EpVPkb4UVme5tA           0.0             0.0          0.0       0.0   \n",
       "--0kuuLmuYBe3Rmu0Iycww           0.0             0.0          0.0       0.0   \n",
       "--13zE3NaRvLSrmfTVnFJA           0.0             0.0          0.0       0.0   \n",
       "--2tyArRmSoyKx5r-FVG0A           0.0             0.0          0.0       0.0   \n",
       "--2vR0DIsmQ6WfcSzKWigw           0.0             0.0          0.0       0.0   \n",
       "\n",
       "name                    1225Raw Sushi and Sake Lounge  12th Street Cantina  \\\n",
       "user_id                                                                      \n",
       "---r61b7EpVPkb4UVme5tA                            0.0                  0.0   \n",
       "--0kuuLmuYBe3Rmu0Iycww                            0.0                  0.0   \n",
       "--13zE3NaRvLSrmfTVnFJA                            0.0                  0.0   \n",
       "--2tyArRmSoyKx5r-FVG0A                            0.0                  0.0   \n",
       "--2vR0DIsmQ6WfcSzKWigw                            0.0                  0.0   \n",
       "\n",
       "name                    13 Restaurant  ...  iPho  iPho Vietnamese Restaurant  \\\n",
       "user_id                                ...                                     \n",
       "---r61b7EpVPkb4UVme5tA            0.0  ...   0.0                         0.0   \n",
       "--0kuuLmuYBe3Rmu0Iycww            0.0  ...   0.0                         0.0   \n",
       "--13zE3NaRvLSrmfTVnFJA            0.0  ...   0.0                         0.0   \n",
       "--2tyArRmSoyKx5r-FVG0A            0.0  ...   0.0                         0.0   \n",
       "--2vR0DIsmQ6WfcSzKWigw            0.0  ...   0.0                         0.0   \n",
       "\n",
       "name                    iSushi  la bamba  moonbowls  nunu  \\\n",
       "user_id                                                     \n",
       "---r61b7EpVPkb4UVme5tA     0.0       0.0        0.0   0.0   \n",
       "--0kuuLmuYBe3Rmu0Iycww     0.0       0.0        0.0   0.0   \n",
       "--13zE3NaRvLSrmfTVnFJA     0.0       0.0        0.0   0.0   \n",
       "--2tyArRmSoyKx5r-FVG0A     0.0       0.0        0.0   0.0   \n",
       "--2vR0DIsmQ6WfcSzKWigw     0.0       0.0        0.0   0.0   \n",
       "\n",
       "name                    penrose cheesesteak  revive 21  sweetgreen  ¡Juice!  \n",
       "user_id                                                                      \n",
       "---r61b7EpVPkb4UVme5tA                  0.0        0.0         0.0      0.0  \n",
       "--0kuuLmuYBe3Rmu0Iycww                  0.0        0.0         0.0      0.0  \n",
       "--13zE3NaRvLSrmfTVnFJA                  0.0        0.0         0.0      0.0  \n",
       "--2tyArRmSoyKx5r-FVG0A                  0.0        0.0         0.0      0.0  \n",
       "--2vR0DIsmQ6WfcSzKWigw                  0.0        0.0         0.0      0.0  \n",
       "\n",
       "[5 rows x 5074 columns]"
      ]
     },
     "execution_count": 29,
     "metadata": {},
     "output_type": "execute_result"
    }
   ],
   "source": [
    "train_user_rest.head()"
   ]
  },
  {
   "cell_type": "code",
   "execution_count": 30,
   "id": "d09f590a-6805-4c98-9e0d-d43720eb01f5",
   "metadata": {},
   "outputs": [],
   "source": [
    "# Align columns of train and test user-item matrices\n",
    "train_columns = train_user_rest.columns\n",
    "test_columns = test_user_rest.columns\n",
    "\n",
    "# Identify missing columns\n",
    "missing_test_columns = list(set(train_columns) - set(test_columns))\n",
    "missing_train_columns = list(set(test_columns) - set(train_columns))\n",
    "\n",
    "# Create DataFrames with missing columns filled with zeros\n",
    "missing_test_df = pd.DataFrame(0, index=test_user_rest.index, columns=missing_test_columns)\n",
    "missing_train_df = pd.DataFrame(0, index=train_user_rest.index, columns=missing_train_columns)\n",
    "\n",
    "# Concatenate the original and missing columns DataFrames\n",
    "test_user_rest = pd.concat([test_user_rest, missing_test_df], axis=1)\n",
    "train_user_rest = pd.concat([train_user_rest, missing_train_df], axis=1)"
   ]
  },
  {
   "cell_type": "code",
   "execution_count": 31,
   "id": "bb4c0c08-447c-4cc2-96ce-f339b0a90986",
   "metadata": {},
   "outputs": [],
   "source": [
    "# Reorder columns to match the training set\n",
    "test_user_rest = test_user_rest[train_columns]"
   ]
  },
  {
   "cell_type": "code",
   "execution_count": 32,
   "id": "4ed78836-872c-4890-b914-caf1ae65ee3e",
   "metadata": {},
   "outputs": [],
   "source": [
    "# Normalize ratings\n",
    "user_ratings_mean = train_user_rest.mean(axis=1)\n",
    "normalized_matrix = train_user_rest.subtract(user_ratings_mean, axis=0)"
   ]
  },
  {
   "cell_type": "code",
   "execution_count": 33,
   "id": "24fdb392-ebf5-436b-bd17-521628f5a351",
   "metadata": {},
   "outputs": [],
   "source": [
    "# Dimensionality reduction using SVD\n",
    "from sklearn.decomposition import TruncatedSVD\n",
    "svd = TruncatedSVD(n_components=12, random_state=42)\n",
    "latent_matrix = svd.fit_transform(normalized_matrix)"
   ]
  },
  {
   "cell_type": "code",
   "execution_count": 34,
   "id": "36c8f1bc-cb97-44f1-ba01-81f980703768",
   "metadata": {},
   "outputs": [
    {
     "data": {
      "text/html": [
       "<style>#sk-container-id-2 {color: black;background-color: white;}#sk-container-id-2 pre{padding: 0;}#sk-container-id-2 div.sk-toggleable {background-color: white;}#sk-container-id-2 label.sk-toggleable__label {cursor: pointer;display: block;width: 100%;margin-bottom: 0;padding: 0.3em;box-sizing: border-box;text-align: center;}#sk-container-id-2 label.sk-toggleable__label-arrow:before {content: \"▸\";float: left;margin-right: 0.25em;color: #696969;}#sk-container-id-2 label.sk-toggleable__label-arrow:hover:before {color: black;}#sk-container-id-2 div.sk-estimator:hover label.sk-toggleable__label-arrow:before {color: black;}#sk-container-id-2 div.sk-toggleable__content {max-height: 0;max-width: 0;overflow: hidden;text-align: left;background-color: #f0f8ff;}#sk-container-id-2 div.sk-toggleable__content pre {margin: 0.2em;color: black;border-radius: 0.25em;background-color: #f0f8ff;}#sk-container-id-2 input.sk-toggleable__control:checked~div.sk-toggleable__content {max-height: 200px;max-width: 100%;overflow: auto;}#sk-container-id-2 input.sk-toggleable__control:checked~label.sk-toggleable__label-arrow:before {content: \"▾\";}#sk-container-id-2 div.sk-estimator input.sk-toggleable__control:checked~label.sk-toggleable__label {background-color: #d4ebff;}#sk-container-id-2 div.sk-label input.sk-toggleable__control:checked~label.sk-toggleable__label {background-color: #d4ebff;}#sk-container-id-2 input.sk-hidden--visually {border: 0;clip: rect(1px 1px 1px 1px);clip: rect(1px, 1px, 1px, 1px);height: 1px;margin: -1px;overflow: hidden;padding: 0;position: absolute;width: 1px;}#sk-container-id-2 div.sk-estimator {font-family: monospace;background-color: #f0f8ff;border: 1px dotted black;border-radius: 0.25em;box-sizing: border-box;margin-bottom: 0.5em;}#sk-container-id-2 div.sk-estimator:hover {background-color: #d4ebff;}#sk-container-id-2 div.sk-parallel-item::after {content: \"\";width: 100%;border-bottom: 1px solid gray;flex-grow: 1;}#sk-container-id-2 div.sk-label:hover label.sk-toggleable__label {background-color: #d4ebff;}#sk-container-id-2 div.sk-serial::before {content: \"\";position: absolute;border-left: 1px solid gray;box-sizing: border-box;top: 0;bottom: 0;left: 50%;z-index: 0;}#sk-container-id-2 div.sk-serial {display: flex;flex-direction: column;align-items: center;background-color: white;padding-right: 0.2em;padding-left: 0.2em;position: relative;}#sk-container-id-2 div.sk-item {position: relative;z-index: 1;}#sk-container-id-2 div.sk-parallel {display: flex;align-items: stretch;justify-content: center;background-color: white;position: relative;}#sk-container-id-2 div.sk-item::before, #sk-container-id-2 div.sk-parallel-item::before {content: \"\";position: absolute;border-left: 1px solid gray;box-sizing: border-box;top: 0;bottom: 0;left: 50%;z-index: -1;}#sk-container-id-2 div.sk-parallel-item {display: flex;flex-direction: column;z-index: 1;position: relative;background-color: white;}#sk-container-id-2 div.sk-parallel-item:first-child::after {align-self: flex-end;width: 50%;}#sk-container-id-2 div.sk-parallel-item:last-child::after {align-self: flex-start;width: 50%;}#sk-container-id-2 div.sk-parallel-item:only-child::after {width: 0;}#sk-container-id-2 div.sk-dashed-wrapped {border: 1px dashed gray;margin: 0 0.4em 0.5em 0.4em;box-sizing: border-box;padding-bottom: 0.4em;background-color: white;}#sk-container-id-2 div.sk-label label {font-family: monospace;font-weight: bold;display: inline-block;line-height: 1.2em;}#sk-container-id-2 div.sk-label-container {text-align: center;}#sk-container-id-2 div.sk-container {/* jupyter's `normalize.less` sets `[hidden] { display: none; }` but bootstrap.min.css set `[hidden] { display: none !important; }` so we also need the `!important` here to be able to override the default hidden behavior on the sphinx rendered scikit-learn.org. See: https://github.com/scikit-learn/scikit-learn/issues/21755 */display: inline-block !important;position: relative;}#sk-container-id-2 div.sk-text-repr-fallback {display: none;}</style><div id=\"sk-container-id-2\" class=\"sk-top-container\"><div class=\"sk-text-repr-fallback\"><pre>Ridge()</pre><b>In a Jupyter environment, please rerun this cell to show the HTML representation or trust the notebook. <br />On GitHub, the HTML representation is unable to render, please try loading this page with nbviewer.org.</b></div><div class=\"sk-container\" hidden><div class=\"sk-item\"><div class=\"sk-estimator sk-toggleable\"><input class=\"sk-toggleable__control sk-hidden--visually\" id=\"sk-estimator-id-4\" type=\"checkbox\" checked><label for=\"sk-estimator-id-4\" class=\"sk-toggleable__label sk-toggleable__label-arrow\">Ridge</label><div class=\"sk-toggleable__content\"><pre>Ridge()</pre></div></div></div></div></div>"
      ],
      "text/plain": [
       "Ridge()"
      ]
     },
     "execution_count": 34,
     "metadata": {},
     "output_type": "execute_result"
    }
   ],
   "source": [
    "from sklearn.linear_model import Ridge\n",
    "\n",
    "# Fit Ridge regression model on the latent factors\n",
    "ridge = Ridge(alpha=1.0)\n",
    "ridge.fit(latent_matrix, normalized_matrix)"
   ]
  },
  {
   "cell_type": "code",
   "execution_count": 35,
   "id": "2c02e2f2-6bdf-44dc-9d98-c92e2d8b7b22",
   "metadata": {},
   "outputs": [],
   "source": [
    "# Predict ratings\n",
    "predicted_ratings = ridge.predict(latent_matrix)"
   ]
  },
  {
   "cell_type": "markdown",
   "id": "5376b017-3b0a-40c1-b0c1-5664820e8918",
   "metadata": {},
   "source": [
    "#### Evaluation"
   ]
  },
  {
   "cell_type": "code",
   "execution_count": 36,
   "id": "a246273d-db1d-4a65-a1f6-61db02733f84",
   "metadata": {},
   "outputs": [],
   "source": [
    "# Normalize test ratings\n",
    "test_user_ratings_mean = test_user_rest.mean(axis=1)\n",
    "normalized_test_matrix = test_user_rest.subtract(test_user_ratings_mean, axis=0)"
   ]
  },
  {
   "cell_type": "code",
   "execution_count": 37,
   "id": "bf9c51d7-cd6d-4e67-a855-9d57c37cbd14",
   "metadata": {},
   "outputs": [],
   "source": [
    "# Transform the test data using the fitted SVD model\n",
    "test_latent_matrix = svd.transform(normalized_test_matrix)"
   ]
  },
  {
   "cell_type": "code",
   "execution_count": 38,
   "id": "c9e4ab29-ec03-46a9-a2a5-3a70ad87de51",
   "metadata": {},
   "outputs": [],
   "source": [
    "# Predict normalized ratings\n",
    "predicted_normalized_ratings = ridge.predict(test_latent_matrix)"
   ]
  },
  {
   "cell_type": "code",
   "execution_count": 39,
   "id": "d6ab1ce1-985d-4f1a-9e29-6cf2b7fca90f",
   "metadata": {},
   "outputs": [],
   "source": [
    "# Reconstruct the original ratings\n",
    "predicted_ratings = pd.DataFrame(predicted_normalized_ratings, index=test_user_rest.index, columns=test_user_rest.columns)\n",
    "predicted_ratings = predicted_ratings.add(test_user_ratings_mean, axis=0)"
   ]
  },
  {
   "cell_type": "code",
   "execution_count": 40,
   "id": "29b1c0d7-547a-491c-91ed-2673ccc08399",
   "metadata": {},
   "outputs": [
    {
     "name": "stdout",
     "output_type": "stream",
     "text": [
      "Test RMSE: 3.9264979318587176\n"
     ]
    }
   ],
   "source": [
    "# Flatten the matrices and filter out zero ratings\n",
    "actual_ratings = test_user_rest.values.flatten()\n",
    "predicted_ratings_flat = predicted_ratings.values.flatten()\n",
    "\n",
    "# Filter out zero ratings (assuming zero means no rating)\n",
    "non_zero_indices = actual_ratings > 0\n",
    "actual_ratings_non_zero = actual_ratings[non_zero_indices]\n",
    "predicted_ratings_non_zero = predicted_ratings_flat[non_zero_indices]\n",
    "\n",
    "# Calculate RMSE\n",
    "rmse = sqrt(mean_squared_error(actual_ratings_non_zero, predicted_ratings_non_zero))\n",
    "print(f\"Test RMSE: {rmse}\")"
   ]
  },
  {
   "cell_type": "code",
   "execution_count": null,
   "id": "ca51f70e-92f9-48d6-8c49-454fe0b76288",
   "metadata": {},
   "outputs": [],
   "source": []
  }
 ],
 "metadata": {
  "kernelspec": {
   "display_name": "Python 3 (ipykernel)",
   "language": "python",
   "name": "python3"
  },
  "language_info": {
   "codemirror_mode": {
    "name": "ipython",
    "version": 3
   },
   "file_extension": ".py",
   "mimetype": "text/x-python",
   "name": "python",
   "nbconvert_exporter": "python",
   "pygments_lexer": "ipython3",
   "version": "3.11.7"
  }
 },
 "nbformat": 4,
 "nbformat_minor": 5
}

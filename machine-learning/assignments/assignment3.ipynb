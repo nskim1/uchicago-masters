{
 "cells": [
  {
   "cell_type": "markdown",
   "id": "d6a2ad92-a5ae-4537-845f-ee15cd5116fe",
   "metadata": {},
   "source": [
    "### Assignment 3: Census data income (binary) classification with Random Forest + Boosting\n",
    "#### Natalie Kim\n",
    "Take census data and predict whether an individual would have income that exceeds $50k/yr. This is a binary classification problem."
   ]
  },
  {
   "cell_type": "markdown",
   "id": "8e4e5163-d0e2-4bf9-a00d-4c542c23a402",
   "metadata": {},
   "source": [
    "#### 1. Data Processing"
   ]
  },
  {
   "cell_type": "markdown",
   "id": "2e9eeb0e-e796-4815-87b0-ce2d5e816983",
   "metadata": {},
   "source": [
    "##### (a) Import data\n",
    "Note there is no header, so we will build column names in a later step. Also, remove leading white spaces"
   ]
  },
  {
   "cell_type": "code",
   "execution_count": 1,
   "id": "1e92f71b-441b-4f61-a552-0f20f4c938d9",
   "metadata": {},
   "outputs": [],
   "source": [
    "import pandas as pd"
   ]
  },
  {
   "cell_type": "code",
   "execution_count": 2,
   "id": "c67cbb38-27e8-424c-8efe-279de7bc1cc6",
   "metadata": {},
   "outputs": [],
   "source": [
    "adult_df = pd.read_csv('https://archive.ics.uci.edu/ml/machine-learning-databases/adult/adult.data', header = None, skipinitialspace=True)"
   ]
  },
  {
   "cell_type": "code",
   "execution_count": 3,
   "id": "af69fd3e-0178-412f-b323-d1ad1fbee1e0",
   "metadata": {},
   "outputs": [
    {
     "data": {
      "text/html": [
       "<div>\n",
       "<style scoped>\n",
       "    .dataframe tbody tr th:only-of-type {\n",
       "        vertical-align: middle;\n",
       "    }\n",
       "\n",
       "    .dataframe tbody tr th {\n",
       "        vertical-align: top;\n",
       "    }\n",
       "\n",
       "    .dataframe thead th {\n",
       "        text-align: right;\n",
       "    }\n",
       "</style>\n",
       "<table border=\"1\" class=\"dataframe\">\n",
       "  <thead>\n",
       "    <tr style=\"text-align: right;\">\n",
       "      <th></th>\n",
       "      <th>0</th>\n",
       "      <th>1</th>\n",
       "      <th>2</th>\n",
       "      <th>3</th>\n",
       "      <th>4</th>\n",
       "      <th>5</th>\n",
       "      <th>6</th>\n",
       "      <th>7</th>\n",
       "      <th>8</th>\n",
       "      <th>9</th>\n",
       "      <th>10</th>\n",
       "      <th>11</th>\n",
       "      <th>12</th>\n",
       "      <th>13</th>\n",
       "      <th>14</th>\n",
       "    </tr>\n",
       "  </thead>\n",
       "  <tbody>\n",
       "    <tr>\n",
       "      <th>0</th>\n",
       "      <td>39</td>\n",
       "      <td>State-gov</td>\n",
       "      <td>77516</td>\n",
       "      <td>Bachelors</td>\n",
       "      <td>13</td>\n",
       "      <td>Never-married</td>\n",
       "      <td>Adm-clerical</td>\n",
       "      <td>Not-in-family</td>\n",
       "      <td>White</td>\n",
       "      <td>Male</td>\n",
       "      <td>2174</td>\n",
       "      <td>0</td>\n",
       "      <td>40</td>\n",
       "      <td>United-States</td>\n",
       "      <td>&lt;=50K</td>\n",
       "    </tr>\n",
       "    <tr>\n",
       "      <th>1</th>\n",
       "      <td>50</td>\n",
       "      <td>Self-emp-not-inc</td>\n",
       "      <td>83311</td>\n",
       "      <td>Bachelors</td>\n",
       "      <td>13</td>\n",
       "      <td>Married-civ-spouse</td>\n",
       "      <td>Exec-managerial</td>\n",
       "      <td>Husband</td>\n",
       "      <td>White</td>\n",
       "      <td>Male</td>\n",
       "      <td>0</td>\n",
       "      <td>0</td>\n",
       "      <td>13</td>\n",
       "      <td>United-States</td>\n",
       "      <td>&lt;=50K</td>\n",
       "    </tr>\n",
       "    <tr>\n",
       "      <th>2</th>\n",
       "      <td>38</td>\n",
       "      <td>Private</td>\n",
       "      <td>215646</td>\n",
       "      <td>HS-grad</td>\n",
       "      <td>9</td>\n",
       "      <td>Divorced</td>\n",
       "      <td>Handlers-cleaners</td>\n",
       "      <td>Not-in-family</td>\n",
       "      <td>White</td>\n",
       "      <td>Male</td>\n",
       "      <td>0</td>\n",
       "      <td>0</td>\n",
       "      <td>40</td>\n",
       "      <td>United-States</td>\n",
       "      <td>&lt;=50K</td>\n",
       "    </tr>\n",
       "    <tr>\n",
       "      <th>3</th>\n",
       "      <td>53</td>\n",
       "      <td>Private</td>\n",
       "      <td>234721</td>\n",
       "      <td>11th</td>\n",
       "      <td>7</td>\n",
       "      <td>Married-civ-spouse</td>\n",
       "      <td>Handlers-cleaners</td>\n",
       "      <td>Husband</td>\n",
       "      <td>Black</td>\n",
       "      <td>Male</td>\n",
       "      <td>0</td>\n",
       "      <td>0</td>\n",
       "      <td>40</td>\n",
       "      <td>United-States</td>\n",
       "      <td>&lt;=50K</td>\n",
       "    </tr>\n",
       "    <tr>\n",
       "      <th>4</th>\n",
       "      <td>28</td>\n",
       "      <td>Private</td>\n",
       "      <td>338409</td>\n",
       "      <td>Bachelors</td>\n",
       "      <td>13</td>\n",
       "      <td>Married-civ-spouse</td>\n",
       "      <td>Prof-specialty</td>\n",
       "      <td>Wife</td>\n",
       "      <td>Black</td>\n",
       "      <td>Female</td>\n",
       "      <td>0</td>\n",
       "      <td>0</td>\n",
       "      <td>40</td>\n",
       "      <td>Cuba</td>\n",
       "      <td>&lt;=50K</td>\n",
       "    </tr>\n",
       "  </tbody>\n",
       "</table>\n",
       "</div>"
      ],
      "text/plain": [
       "   0                 1       2          3   4                   5   \\\n",
       "0  39         State-gov   77516  Bachelors  13       Never-married   \n",
       "1  50  Self-emp-not-inc   83311  Bachelors  13  Married-civ-spouse   \n",
       "2  38           Private  215646    HS-grad   9            Divorced   \n",
       "3  53           Private  234721       11th   7  Married-civ-spouse   \n",
       "4  28           Private  338409  Bachelors  13  Married-civ-spouse   \n",
       "\n",
       "                  6              7      8       9     10  11  12  \\\n",
       "0       Adm-clerical  Not-in-family  White    Male  2174   0  40   \n",
       "1    Exec-managerial        Husband  White    Male     0   0  13   \n",
       "2  Handlers-cleaners  Not-in-family  White    Male     0   0  40   \n",
       "3  Handlers-cleaners        Husband  Black    Male     0   0  40   \n",
       "4     Prof-specialty           Wife  Black  Female     0   0  40   \n",
       "\n",
       "              13     14  \n",
       "0  United-States  <=50K  \n",
       "1  United-States  <=50K  \n",
       "2  United-States  <=50K  \n",
       "3  United-States  <=50K  \n",
       "4           Cuba  <=50K  "
      ]
     },
     "execution_count": 3,
     "metadata": {},
     "output_type": "execute_result"
    }
   ],
   "source": [
    "adult_df.head()"
   ]
  },
  {
   "cell_type": "markdown",
   "id": "6060e3ce-c43d-4ae8-906a-5eefa1bf57aa",
   "metadata": {},
   "source": [
    "##### (b) Build column names\n",
    "- Use explanation of columns via link provided.\n",
    "    - Do not include spaces in column names\n",
    "- Call target variable (last column of \">50k\" or \"<=50k\") \"salary\"\n",
    "\n",
    "Build list of column names, and pass those into the .columns() attribute"
   ]
  },
  {
   "cell_type": "code",
   "execution_count": 4,
   "id": "e44b804f-129b-476f-b206-b1fb47022ad5",
   "metadata": {},
   "outputs": [],
   "source": [
    "list_of_columns = [\"age\", \"workclass\", \"fnlwgt\",\"education\",\"education-num\",\n",
    "                   \"marital-status\",\n",
    "                   \"occupation\",\"relationship\",\"race\",\"sex\",\"capital-gain\",\n",
    "                   \"capital-loss\",\"hours-per-week\",\"native-country\",\"salary\"]\n",
    "adult_df.columns = list_of_columns"
   ]
  },
  {
   "cell_type": "code",
   "execution_count": 5,
   "id": "01d4ddc3-fa62-4244-8e6c-47edf45f2f17",
   "metadata": {},
   "outputs": [
    {
     "data": {
      "text/html": [
       "<div>\n",
       "<style scoped>\n",
       "    .dataframe tbody tr th:only-of-type {\n",
       "        vertical-align: middle;\n",
       "    }\n",
       "\n",
       "    .dataframe tbody tr th {\n",
       "        vertical-align: top;\n",
       "    }\n",
       "\n",
       "    .dataframe thead th {\n",
       "        text-align: right;\n",
       "    }\n",
       "</style>\n",
       "<table border=\"1\" class=\"dataframe\">\n",
       "  <thead>\n",
       "    <tr style=\"text-align: right;\">\n",
       "      <th></th>\n",
       "      <th>age</th>\n",
       "      <th>workclass</th>\n",
       "      <th>fnlwgt</th>\n",
       "      <th>education</th>\n",
       "      <th>education-num</th>\n",
       "      <th>marital-status</th>\n",
       "      <th>occupation</th>\n",
       "      <th>relationship</th>\n",
       "      <th>race</th>\n",
       "      <th>sex</th>\n",
       "      <th>capital-gain</th>\n",
       "      <th>capital-loss</th>\n",
       "      <th>hours-per-week</th>\n",
       "      <th>native-country</th>\n",
       "      <th>salary</th>\n",
       "    </tr>\n",
       "  </thead>\n",
       "  <tbody>\n",
       "    <tr>\n",
       "      <th>0</th>\n",
       "      <td>39</td>\n",
       "      <td>State-gov</td>\n",
       "      <td>77516</td>\n",
       "      <td>Bachelors</td>\n",
       "      <td>13</td>\n",
       "      <td>Never-married</td>\n",
       "      <td>Adm-clerical</td>\n",
       "      <td>Not-in-family</td>\n",
       "      <td>White</td>\n",
       "      <td>Male</td>\n",
       "      <td>2174</td>\n",
       "      <td>0</td>\n",
       "      <td>40</td>\n",
       "      <td>United-States</td>\n",
       "      <td>&lt;=50K</td>\n",
       "    </tr>\n",
       "    <tr>\n",
       "      <th>1</th>\n",
       "      <td>50</td>\n",
       "      <td>Self-emp-not-inc</td>\n",
       "      <td>83311</td>\n",
       "      <td>Bachelors</td>\n",
       "      <td>13</td>\n",
       "      <td>Married-civ-spouse</td>\n",
       "      <td>Exec-managerial</td>\n",
       "      <td>Husband</td>\n",
       "      <td>White</td>\n",
       "      <td>Male</td>\n",
       "      <td>0</td>\n",
       "      <td>0</td>\n",
       "      <td>13</td>\n",
       "      <td>United-States</td>\n",
       "      <td>&lt;=50K</td>\n",
       "    </tr>\n",
       "    <tr>\n",
       "      <th>2</th>\n",
       "      <td>38</td>\n",
       "      <td>Private</td>\n",
       "      <td>215646</td>\n",
       "      <td>HS-grad</td>\n",
       "      <td>9</td>\n",
       "      <td>Divorced</td>\n",
       "      <td>Handlers-cleaners</td>\n",
       "      <td>Not-in-family</td>\n",
       "      <td>White</td>\n",
       "      <td>Male</td>\n",
       "      <td>0</td>\n",
       "      <td>0</td>\n",
       "      <td>40</td>\n",
       "      <td>United-States</td>\n",
       "      <td>&lt;=50K</td>\n",
       "    </tr>\n",
       "    <tr>\n",
       "      <th>3</th>\n",
       "      <td>53</td>\n",
       "      <td>Private</td>\n",
       "      <td>234721</td>\n",
       "      <td>11th</td>\n",
       "      <td>7</td>\n",
       "      <td>Married-civ-spouse</td>\n",
       "      <td>Handlers-cleaners</td>\n",
       "      <td>Husband</td>\n",
       "      <td>Black</td>\n",
       "      <td>Male</td>\n",
       "      <td>0</td>\n",
       "      <td>0</td>\n",
       "      <td>40</td>\n",
       "      <td>United-States</td>\n",
       "      <td>&lt;=50K</td>\n",
       "    </tr>\n",
       "    <tr>\n",
       "      <th>4</th>\n",
       "      <td>28</td>\n",
       "      <td>Private</td>\n",
       "      <td>338409</td>\n",
       "      <td>Bachelors</td>\n",
       "      <td>13</td>\n",
       "      <td>Married-civ-spouse</td>\n",
       "      <td>Prof-specialty</td>\n",
       "      <td>Wife</td>\n",
       "      <td>Black</td>\n",
       "      <td>Female</td>\n",
       "      <td>0</td>\n",
       "      <td>0</td>\n",
       "      <td>40</td>\n",
       "      <td>Cuba</td>\n",
       "      <td>&lt;=50K</td>\n",
       "    </tr>\n",
       "  </tbody>\n",
       "</table>\n",
       "</div>"
      ],
      "text/plain": [
       "   age         workclass  fnlwgt  education  education-num  \\\n",
       "0   39         State-gov   77516  Bachelors             13   \n",
       "1   50  Self-emp-not-inc   83311  Bachelors             13   \n",
       "2   38           Private  215646    HS-grad              9   \n",
       "3   53           Private  234721       11th              7   \n",
       "4   28           Private  338409  Bachelors             13   \n",
       "\n",
       "       marital-status         occupation   relationship   race     sex  \\\n",
       "0       Never-married       Adm-clerical  Not-in-family  White    Male   \n",
       "1  Married-civ-spouse    Exec-managerial        Husband  White    Male   \n",
       "2            Divorced  Handlers-cleaners  Not-in-family  White    Male   \n",
       "3  Married-civ-spouse  Handlers-cleaners        Husband  Black    Male   \n",
       "4  Married-civ-spouse     Prof-specialty           Wife  Black  Female   \n",
       "\n",
       "   capital-gain  capital-loss  hours-per-week native-country salary  \n",
       "0          2174             0              40  United-States  <=50K  \n",
       "1             0             0              13  United-States  <=50K  \n",
       "2             0             0              40  United-States  <=50K  \n",
       "3             0             0              40  United-States  <=50K  \n",
       "4             0             0              40           Cuba  <=50K  "
      ]
     },
     "execution_count": 5,
     "metadata": {},
     "output_type": "execute_result"
    }
   ],
   "source": [
    "adult_df.head()"
   ]
  },
  {
   "cell_type": "markdown",
   "id": "d18f73ed-b7d5-401e-a74d-222645059b21",
   "metadata": {},
   "source": [
    "##### (c) Check dataframe shape to verify # of rows and columns is (32561, 15)"
   ]
  },
  {
   "cell_type": "code",
   "execution_count": 6,
   "id": "d80a40c9-3acc-4a25-949a-f2818d95d6bf",
   "metadata": {},
   "outputs": [
    {
     "data": {
      "text/plain": [
       "(32561, 15)"
      ]
     },
     "execution_count": 6,
     "metadata": {},
     "output_type": "execute_result"
    }
   ],
   "source": [
    "adult_df.shape"
   ]
  },
  {
   "cell_type": "markdown",
   "id": "558d117e-544f-45ed-8ee8-e8d2bc1aea3a",
   "metadata": {},
   "source": [
    "##### (d) Drop the 3rd column from data (\"fnlwgt\")"
   ]
  },
  {
   "cell_type": "code",
   "execution_count": 14,
   "id": "f747e503-5833-492a-abdd-670dd142cfd7",
   "metadata": {},
   "outputs": [
    {
     "data": {
      "text/html": [
       "<div>\n",
       "<style scoped>\n",
       "    .dataframe tbody tr th:only-of-type {\n",
       "        vertical-align: middle;\n",
       "    }\n",
       "\n",
       "    .dataframe tbody tr th {\n",
       "        vertical-align: top;\n",
       "    }\n",
       "\n",
       "    .dataframe thead th {\n",
       "        text-align: right;\n",
       "    }\n",
       "</style>\n",
       "<table border=\"1\" class=\"dataframe\">\n",
       "  <thead>\n",
       "    <tr style=\"text-align: right;\">\n",
       "      <th></th>\n",
       "      <th>age</th>\n",
       "      <th>workclass</th>\n",
       "      <th>education</th>\n",
       "      <th>education-num</th>\n",
       "      <th>marital-status</th>\n",
       "      <th>occupation</th>\n",
       "      <th>relationship</th>\n",
       "      <th>race</th>\n",
       "      <th>sex</th>\n",
       "      <th>capital-gain</th>\n",
       "      <th>capital-loss</th>\n",
       "      <th>hours-per-week</th>\n",
       "      <th>native-country</th>\n",
       "      <th>salary</th>\n",
       "    </tr>\n",
       "  </thead>\n",
       "  <tbody>\n",
       "    <tr>\n",
       "      <th>0</th>\n",
       "      <td>39</td>\n",
       "      <td>State-gov</td>\n",
       "      <td>Bachelors</td>\n",
       "      <td>13</td>\n",
       "      <td>Never-married</td>\n",
       "      <td>Adm-clerical</td>\n",
       "      <td>Not-in-family</td>\n",
       "      <td>White</td>\n",
       "      <td>Male</td>\n",
       "      <td>2174</td>\n",
       "      <td>0</td>\n",
       "      <td>40</td>\n",
       "      <td>United-States</td>\n",
       "      <td>&lt;=50K</td>\n",
       "    </tr>\n",
       "    <tr>\n",
       "      <th>1</th>\n",
       "      <td>50</td>\n",
       "      <td>Self-emp-not-inc</td>\n",
       "      <td>Bachelors</td>\n",
       "      <td>13</td>\n",
       "      <td>Married-civ-spouse</td>\n",
       "      <td>Exec-managerial</td>\n",
       "      <td>Husband</td>\n",
       "      <td>White</td>\n",
       "      <td>Male</td>\n",
       "      <td>0</td>\n",
       "      <td>0</td>\n",
       "      <td>13</td>\n",
       "      <td>United-States</td>\n",
       "      <td>&lt;=50K</td>\n",
       "    </tr>\n",
       "    <tr>\n",
       "      <th>2</th>\n",
       "      <td>38</td>\n",
       "      <td>Private</td>\n",
       "      <td>HS-grad</td>\n",
       "      <td>9</td>\n",
       "      <td>Divorced</td>\n",
       "      <td>Handlers-cleaners</td>\n",
       "      <td>Not-in-family</td>\n",
       "      <td>White</td>\n",
       "      <td>Male</td>\n",
       "      <td>0</td>\n",
       "      <td>0</td>\n",
       "      <td>40</td>\n",
       "      <td>United-States</td>\n",
       "      <td>&lt;=50K</td>\n",
       "    </tr>\n",
       "    <tr>\n",
       "      <th>3</th>\n",
       "      <td>53</td>\n",
       "      <td>Private</td>\n",
       "      <td>11th</td>\n",
       "      <td>7</td>\n",
       "      <td>Married-civ-spouse</td>\n",
       "      <td>Handlers-cleaners</td>\n",
       "      <td>Husband</td>\n",
       "      <td>Black</td>\n",
       "      <td>Male</td>\n",
       "      <td>0</td>\n",
       "      <td>0</td>\n",
       "      <td>40</td>\n",
       "      <td>United-States</td>\n",
       "      <td>&lt;=50K</td>\n",
       "    </tr>\n",
       "    <tr>\n",
       "      <th>4</th>\n",
       "      <td>28</td>\n",
       "      <td>Private</td>\n",
       "      <td>Bachelors</td>\n",
       "      <td>13</td>\n",
       "      <td>Married-civ-spouse</td>\n",
       "      <td>Prof-specialty</td>\n",
       "      <td>Wife</td>\n",
       "      <td>Black</td>\n",
       "      <td>Female</td>\n",
       "      <td>0</td>\n",
       "      <td>0</td>\n",
       "      <td>40</td>\n",
       "      <td>Cuba</td>\n",
       "      <td>&lt;=50K</td>\n",
       "    </tr>\n",
       "  </tbody>\n",
       "</table>\n",
       "</div>"
      ],
      "text/plain": [
       "   age         workclass  education  education-num      marital-status  \\\n",
       "0   39         State-gov  Bachelors             13       Never-married   \n",
       "1   50  Self-emp-not-inc  Bachelors             13  Married-civ-spouse   \n",
       "2   38           Private    HS-grad              9            Divorced   \n",
       "3   53           Private       11th              7  Married-civ-spouse   \n",
       "4   28           Private  Bachelors             13  Married-civ-spouse   \n",
       "\n",
       "          occupation   relationship   race     sex  capital-gain  \\\n",
       "0       Adm-clerical  Not-in-family  White    Male          2174   \n",
       "1    Exec-managerial        Husband  White    Male             0   \n",
       "2  Handlers-cleaners  Not-in-family  White    Male             0   \n",
       "3  Handlers-cleaners        Husband  Black    Male             0   \n",
       "4     Prof-specialty           Wife  Black  Female             0   \n",
       "\n",
       "   capital-loss  hours-per-week native-country salary  \n",
       "0             0              40  United-States  <=50K  \n",
       "1             0              13  United-States  <=50K  \n",
       "2             0              40  United-States  <=50K  \n",
       "3             0              40  United-States  <=50K  \n",
       "4             0              40           Cuba  <=50K  "
      ]
     },
     "execution_count": 14,
     "metadata": {},
     "output_type": "execute_result"
    }
   ],
   "source": [
    "adult_df = adult_df.drop(columns='fnlwgt')\n",
    "adult_df.head()"
   ]
  },
  {
   "cell_type": "markdown",
   "id": "2e9f8c52-57c4-4ae8-b7ea-c728f705547b",
   "metadata": {},
   "source": [
    "(e) Random values of '?' show up in data and can be left as is. No true NA values, so no need to check"
   ]
  },
  {
   "cell_type": "markdown",
   "id": "fb4527b9-a22a-4281-ac54-e0ff991d1f26",
   "metadata": {},
   "source": [
    "##### (f) Use the .replace() method to make the following changes to \"salary\" column:\n",
    "- \"<=50k\" should become 0\n",
    "- \">50k\" should become 1\n",
    "\n",
    "Note: this step is essential to calculate ROC_AUC score in model evaluation steps"
   ]
  },
  {
   "cell_type": "code",
   "execution_count": 22,
   "id": "75a451aa-64ae-4a41-9a27-5840c4b2037d",
   "metadata": {},
   "outputs": [],
   "source": [
    "adult_df['salary'] = adult_df['salary'].replace({'<=50K': 0, '>50K': 1})"
   ]
  },
  {
   "cell_type": "markdown",
   "id": "036aa1ec-8c19-4384-8a8a-f989400aeea3",
   "metadata": {},
   "source": [
    "##### (g) Create your X dataframe (just your predictors).\n",
    "It should include every feature except for the target which is \"salary\". Shape should be (32561, 13)"
   ]
  },
  {
   "cell_type": "code",
   "execution_count": 24,
   "id": "2455ba58-4be5-472d-8b73-dccebd07f47e",
   "metadata": {},
   "outputs": [],
   "source": [
    "X = adult_df.drop(columns='salary')"
   ]
  },
  {
   "cell_type": "code",
   "execution_count": 26,
   "id": "7cd4257a-2c12-4deb-8aba-acfcb5ea3713",
   "metadata": {},
   "outputs": [
    {
     "data": {
      "text/plain": [
       "(32561, 13)"
      ]
     },
     "execution_count": 26,
     "metadata": {},
     "output_type": "execute_result"
    }
   ],
   "source": [
    "X.shape"
   ]
  },
  {
   "cell_type": "markdown",
   "id": "42af2eeb-c81c-46bb-9f37-09b423df2274",
   "metadata": {},
   "source": [
    "##### (h) Create y dataframe (target variable)\n",
    "Shape is (32561, 1). Values should only be 0 and 1"
   ]
  },
  {
   "cell_type": "code",
   "execution_count": 27,
   "id": "3a94dc84-fbbf-4b65-a389-2a85fd8adafb",
   "metadata": {},
   "outputs": [],
   "source": [
    "y = adult_df['salary']"
   ]
  },
  {
   "cell_type": "code",
   "execution_count": 31,
   "id": "eff25ab3-9711-42ae-9e35-6d399a767806",
   "metadata": {},
   "outputs": [
    {
     "data": {
      "text/plain": [
       "(32561,)"
      ]
     },
     "execution_count": 31,
     "metadata": {},
     "output_type": "execute_result"
    }
   ],
   "source": [
    "y.shape"
   ]
  },
  {
   "cell_type": "code",
   "execution_count": 30,
   "id": "3af4fb1a-29f7-4463-922e-802218c2f39d",
   "metadata": {},
   "outputs": [
    {
     "data": {
      "text/plain": [
       "array([0, 1])"
      ]
     },
     "execution_count": 30,
     "metadata": {},
     "output_type": "execute_result"
    }
   ],
   "source": [
    "y.unique()"
   ]
  },
  {
   "cell_type": "markdown",
   "id": "f03d76a5-8d73-4e1d-b14d-9883bf39b70e",
   "metadata": {},
   "source": [
    "##### (i) Convert columns with factors to separate columns (i.e., one-hot encoding)\n",
    "Use the Pandas built-in method .get_dummies() to automatically split columns that are categorical"
   ]
  },
  {
   "cell_type": "code",
   "execution_count": 32,
   "id": "bfbfe922-df2d-41ba-ade9-4c7d6a8c6c37",
   "metadata": {},
   "outputs": [],
   "source": [
    "X_encoded = pd.get_dummies(X)"
   ]
  },
  {
   "cell_type": "code",
   "execution_count": 33,
   "id": "43814fa1-e505-4f9f-a004-23ce27bdec96",
   "metadata": {},
   "outputs": [
    {
     "data": {
      "text/plain": [
       "(32561, 107)"
      ]
     },
     "execution_count": 33,
     "metadata": {},
     "output_type": "execute_result"
    }
   ],
   "source": [
    "X_encoded.shape"
   ]
  },
  {
   "cell_type": "markdown",
   "id": "4fbca695-9755-4ba7-b1d0-6ebcf21eaeb5",
   "metadata": {},
   "source": [
    "##### (j) Split the data into train/test set using 70/30 split. Verify that you have the same number of columns in X_train and X_test"
   ]
  },
  {
   "cell_type": "code",
   "execution_count": 35,
   "id": "f4f29255-56b7-4106-9fa6-1e16f9ebcfec",
   "metadata": {},
   "outputs": [],
   "source": [
    "from sklearn.model_selection import train_test_split"
   ]
  },
  {
   "cell_type": "code",
   "execution_count": 36,
   "id": "c231006c-4102-4e8a-bb39-7cd038ae65b6",
   "metadata": {},
   "outputs": [],
   "source": [
    "# split the data 70:30 for train to test ratio\n",
    "X_train, X_test, y_train, y_test = train_test_split(X_encoded, y, test_size = 0.3, random_state = 42)"
   ]
  },
  {
   "cell_type": "code",
   "execution_count": 37,
   "id": "3592e673-ee35-41d0-829a-01b5151ac5ff",
   "metadata": {},
   "outputs": [
    {
     "name": "stdout",
     "output_type": "stream",
     "text": [
      "(22792, 107) (9769, 107)\n"
     ]
    }
   ],
   "source": [
    "print(X_train.shape, X_test.shape)"
   ]
  },
  {
   "cell_type": "markdown",
   "id": "7ce05d6c-39b9-4df5-afcf-94a85f5f6652",
   "metadata": {},
   "source": [
    "#### 2. Random Forest Classifier - Base Model\n",
    "Start by creating a simple Random Forest only using default parameters - this will let us compare Boosting methods to Random Forest in binary classification problems."
   ]
  },
  {
   "cell_type": "markdown",
   "id": "31b5ea6a-9e03-4c87-9b85-943201063d48",
   "metadata": {},
   "source": [
    "##### (a) Use RandomForestClassifier in sklearn. Fit your model on the training data"
   ]
  },
  {
   "cell_type": "code",
   "execution_count": 38,
   "id": "532902f1-904e-4f29-ac21-39eb368fdade",
   "metadata": {},
   "outputs": [],
   "source": [
    "from sklearn.ensemble import RandomForestClassifier"
   ]
  },
  {
   "cell_type": "code",
   "execution_count": 39,
   "id": "e2a679b0-c05c-4fcc-9232-b620d3402b5e",
   "metadata": {},
   "outputs": [
    {
     "data": {
      "text/html": [
       "<style>#sk-container-id-1 {color: black;}#sk-container-id-1 pre{padding: 0;}#sk-container-id-1 div.sk-toggleable {background-color: white;}#sk-container-id-1 label.sk-toggleable__label {cursor: pointer;display: block;width: 100%;margin-bottom: 0;padding: 0.3em;box-sizing: border-box;text-align: center;}#sk-container-id-1 label.sk-toggleable__label-arrow:before {content: \"▸\";float: left;margin-right: 0.25em;color: #696969;}#sk-container-id-1 label.sk-toggleable__label-arrow:hover:before {color: black;}#sk-container-id-1 div.sk-estimator:hover label.sk-toggleable__label-arrow:before {color: black;}#sk-container-id-1 div.sk-toggleable__content {max-height: 0;max-width: 0;overflow: hidden;text-align: left;background-color: #f0f8ff;}#sk-container-id-1 div.sk-toggleable__content pre {margin: 0.2em;color: black;border-radius: 0.25em;background-color: #f0f8ff;}#sk-container-id-1 input.sk-toggleable__control:checked~div.sk-toggleable__content {max-height: 200px;max-width: 100%;overflow: auto;}#sk-container-id-1 input.sk-toggleable__control:checked~label.sk-toggleable__label-arrow:before {content: \"▾\";}#sk-container-id-1 div.sk-estimator input.sk-toggleable__control:checked~label.sk-toggleable__label {background-color: #d4ebff;}#sk-container-id-1 div.sk-label input.sk-toggleable__control:checked~label.sk-toggleable__label {background-color: #d4ebff;}#sk-container-id-1 input.sk-hidden--visually {border: 0;clip: rect(1px 1px 1px 1px);clip: rect(1px, 1px, 1px, 1px);height: 1px;margin: -1px;overflow: hidden;padding: 0;position: absolute;width: 1px;}#sk-container-id-1 div.sk-estimator {font-family: monospace;background-color: #f0f8ff;border: 1px dotted black;border-radius: 0.25em;box-sizing: border-box;margin-bottom: 0.5em;}#sk-container-id-1 div.sk-estimator:hover {background-color: #d4ebff;}#sk-container-id-1 div.sk-parallel-item::after {content: \"\";width: 100%;border-bottom: 1px solid gray;flex-grow: 1;}#sk-container-id-1 div.sk-label:hover label.sk-toggleable__label {background-color: #d4ebff;}#sk-container-id-1 div.sk-serial::before {content: \"\";position: absolute;border-left: 1px solid gray;box-sizing: border-box;top: 0;bottom: 0;left: 50%;z-index: 0;}#sk-container-id-1 div.sk-serial {display: flex;flex-direction: column;align-items: center;background-color: white;padding-right: 0.2em;padding-left: 0.2em;position: relative;}#sk-container-id-1 div.sk-item {position: relative;z-index: 1;}#sk-container-id-1 div.sk-parallel {display: flex;align-items: stretch;justify-content: center;background-color: white;position: relative;}#sk-container-id-1 div.sk-item::before, #sk-container-id-1 div.sk-parallel-item::before {content: \"\";position: absolute;border-left: 1px solid gray;box-sizing: border-box;top: 0;bottom: 0;left: 50%;z-index: -1;}#sk-container-id-1 div.sk-parallel-item {display: flex;flex-direction: column;z-index: 1;position: relative;background-color: white;}#sk-container-id-1 div.sk-parallel-item:first-child::after {align-self: flex-end;width: 50%;}#sk-container-id-1 div.sk-parallel-item:last-child::after {align-self: flex-start;width: 50%;}#sk-container-id-1 div.sk-parallel-item:only-child::after {width: 0;}#sk-container-id-1 div.sk-dashed-wrapped {border: 1px dashed gray;margin: 0 0.4em 0.5em 0.4em;box-sizing: border-box;padding-bottom: 0.4em;background-color: white;}#sk-container-id-1 div.sk-label label {font-family: monospace;font-weight: bold;display: inline-block;line-height: 1.2em;}#sk-container-id-1 div.sk-label-container {text-align: center;}#sk-container-id-1 div.sk-container {/* jupyter's `normalize.less` sets `[hidden] { display: none; }` but bootstrap.min.css set `[hidden] { display: none !important; }` so we also need the `!important` here to be able to override the default hidden behavior on the sphinx rendered scikit-learn.org. See: https://github.com/scikit-learn/scikit-learn/issues/21755 */display: inline-block !important;position: relative;}#sk-container-id-1 div.sk-text-repr-fallback {display: none;}</style><div id=\"sk-container-id-1\" class=\"sk-top-container\"><div class=\"sk-text-repr-fallback\"><pre>RandomForestClassifier()</pre><b>In a Jupyter environment, please rerun this cell to show the HTML representation or trust the notebook. <br />On GitHub, the HTML representation is unable to render, please try loading this page with nbviewer.org.</b></div><div class=\"sk-container\" hidden><div class=\"sk-item\"><div class=\"sk-estimator sk-toggleable\"><input class=\"sk-toggleable__control sk-hidden--visually\" id=\"sk-estimator-id-1\" type=\"checkbox\" checked><label for=\"sk-estimator-id-1\" class=\"sk-toggleable__label sk-toggleable__label-arrow\">RandomForestClassifier</label><div class=\"sk-toggleable__content\"><pre>RandomForestClassifier()</pre></div></div></div></div></div>"
      ],
      "text/plain": [
       "RandomForestClassifier()"
      ]
     },
     "execution_count": 39,
     "metadata": {},
     "output_type": "execute_result"
    }
   ],
   "source": [
    "clf = RandomForestClassifier()\n",
    "clf.fit(X_train, y_train)"
   ]
  },
  {
   "cell_type": "markdown",
   "id": "c462e315-29b3-4cbd-bab3-7b29ed942474",
   "metadata": {},
   "source": [
    "##### (b) Use the fitted model to predict on test data.\n",
    "Use the .predict_proba() and the .predict() methods to get predicted probabilities as well as predicted classes"
   ]
  },
  {
   "cell_type": "code",
   "execution_count": 47,
   "id": "11c8ff45-2e3b-4214-816b-c36f4e50f4a8",
   "metadata": {},
   "outputs": [],
   "source": [
    "# predicted probabilities\n",
    "y_pred_prob = clf.predict_proba(X_test)[:, 1]\n",
    "\n",
    "# predicted classes\n",
    "y_pred = clf.predict(X_test)"
   ]
  },
  {
   "cell_type": "markdown",
   "id": "bc8da6b4-e0af-4b29-bf31-b6e1e9915330",
   "metadata": {},
   "source": [
    "##### (c) Calculate the confusion matrix and classification report\n",
    "- both are in sklearn.metrics"
   ]
  },
  {
   "cell_type": "code",
   "execution_count": 41,
   "id": "af86293f-cfc8-44c1-ac44-27ea0716675c",
   "metadata": {},
   "outputs": [],
   "source": [
    "from sklearn.metrics import classification_report\n",
    "from sklearn.metrics import confusion_matrix"
   ]
  },
  {
   "cell_type": "code",
   "execution_count": 48,
   "id": "e0adf7c5-425f-4c0d-b252-d5d94982c6bd",
   "metadata": {},
   "outputs": [
    {
     "data": {
      "text/plain": [
       "array([[6839,  616],\n",
       "       [ 857, 1457]])"
      ]
     },
     "execution_count": 48,
     "metadata": {},
     "output_type": "execute_result"
    }
   ],
   "source": [
    "# confusion matrix\n",
    "confusion_matrix(y_test, y_pred)"
   ]
  },
  {
   "cell_type": "code",
   "execution_count": 49,
   "id": "8f1dae91-eed9-4b35-aa38-2b932373e86e",
   "metadata": {},
   "outputs": [
    {
     "name": "stdout",
     "output_type": "stream",
     "text": [
      "              precision    recall  f1-score   support\n",
      "\n",
      "           0       0.89      0.92      0.90      7455\n",
      "           1       0.70      0.63      0.66      2314\n",
      "\n",
      "    accuracy                           0.85      9769\n",
      "   macro avg       0.80      0.77      0.78      9769\n",
      "weighted avg       0.84      0.85      0.85      9769\n",
      "\n"
     ]
    }
   ],
   "source": [
    "# classification_report\n",
    "print(classification_report(y_test, y_pred))"
   ]
  },
  {
   "cell_type": "markdown",
   "id": "08ef7bb0-beec-4491-a6bd-97fdbf6fe9db",
   "metadata": {},
   "source": [
    "##### (d) Calculate AUC score"
   ]
  },
  {
   "cell_type": "code",
   "execution_count": 46,
   "id": "80cf841f-cc08-4bda-be98-313fbfc5aee7",
   "metadata": {},
   "outputs": [],
   "source": [
    "from sklearn.metrics import roc_auc_score"
   ]
  },
  {
   "cell_type": "code",
   "execution_count": 50,
   "id": "09292ee6-fcf8-495f-b071-7ed639353c26",
   "metadata": {},
   "outputs": [
    {
     "name": "stdout",
     "output_type": "stream",
     "text": [
      "AUC Score: 0.8887504804105533\n"
     ]
    }
   ],
   "source": [
    "# calculate AUC\n",
    "auc_score = roc_auc_score(y_test, y_pred_prob)\n",
    "print(\"AUC Score:\", auc_score)"
   ]
  },
  {
   "cell_type": "markdown",
   "id": "5b9e8e17-ea15-4c2d-9a12-5b3ca9b1b56d",
   "metadata": {},
   "source": [
    "##### (e) Identify the top 5 features. Feel free to print a list OR make a plot"
   ]
  },
  {
   "cell_type": "code",
   "execution_count": 51,
   "id": "7adf293d-e516-4dd4-8d4d-d992111e579c",
   "metadata": {},
   "outputs": [
    {
     "name": "stdout",
     "output_type": "stream",
     "text": [
      "Top 5 Features:\n",
      "age                                  0.222586\n",
      "hours-per-week                       0.113553\n",
      "capital-gain                         0.101473\n",
      "education-num                        0.065151\n",
      "marital-status_Married-civ-spouse    0.063414\n",
      "dtype: float64\n"
     ]
    }
   ],
   "source": [
    "# convert feature_importances to pandas series for usability\n",
    "features = pd.Series(clf.feature_importances_, index=X_train.columns)\n",
    "\n",
    "# Sort the features based on importance\n",
    "top_features = features.sort_values(ascending=False)\n",
    "\n",
    "# Print the top 5 features\n",
    "print(\"Top 5 Features:\")\n",
    "print(top_features.head(5))"
   ]
  },
  {
   "cell_type": "markdown",
   "id": "f2f669b8-6da4-4ec0-b091-e8d3a67afb07",
   "metadata": {},
   "source": [
    "##### (f) Using the model from part B, predict for the train data. Look at the classification report for the train data - is there overfitting for the RandomForest model happening?"
   ]
  },
  {
   "cell_type": "code",
   "execution_count": 52,
   "id": "680db282-18f2-4deb-be19-e81c9f10bf64",
   "metadata": {},
   "outputs": [
    {
     "name": "stdout",
     "output_type": "stream",
     "text": [
      "              precision    recall  f1-score   support\n",
      "\n",
      "           0       0.98      0.99      0.99     17265\n",
      "           1       0.97      0.95      0.96      5527\n",
      "\n",
      "    accuracy                           0.98     22792\n",
      "   macro avg       0.98      0.97      0.97     22792\n",
      "weighted avg       0.98      0.98      0.98     22792\n",
      "\n"
     ]
    }
   ],
   "source": [
    "# predict on training data\n",
    "y_pred_train = clf.predict(X_train)\n",
    "\n",
    "# training classification report\n",
    "print(classification_report(y_train, y_pred_train))"
   ]
  },
  {
   "cell_type": "markdown",
   "id": "74c9eaf5-db0c-4c18-8fbb-20da6223e3e3",
   "metadata": {},
   "source": [
    "Yes, overfitting is occurring. We can tell based on the difference in the metrics between the training and test data. The training is performing significantly better in the performance metrics such as in the precision, recall, f1-score, and accuracy. For example, test accuracy was only 85%, but the training data has a model accuracy of 98%."
   ]
  },
  {
   "cell_type": "markdown",
   "id": "2a815892-aebe-48de-be3b-fe03362723b8",
   "metadata": {},
   "source": [
    "#### 3. AdaBoost Classifier - GridSearch\n",
    "Start by creating a simple AdaBoostClassifier only using default parameters."
   ]
  },
  {
   "cell_type": "markdown",
   "id": "6ebcf425-adaf-41f8-8044-790a8de38d29",
   "metadata": {},
   "source": [
    "##### (a) Use AdaBoostClassifier along with GridSearchCV tool.\n",
    "- Run the GridSearchCV using the following. note: feel free to try out more parameters, the above is bare min for this assignment.\n",
    "    - n_estimators: 100, 200, 300, 400\n",
    "    - learning_rate: 0.2, 0.4, 0.6, 0.8, 1.0, 1.2\n",
    "- Use 5 cross-fold and for scoring use 'roc_auc' (this is the score that will be references when identifying the best parameters)"
   ]
  },
  {
   "cell_type": "code",
   "execution_count": 54,
   "id": "11ba877f-c70d-4515-98a9-72c533c17ac3",
   "metadata": {},
   "outputs": [],
   "source": [
    "from sklearn.model_selection import GridSearchCV\n",
    "from sklearn.ensemble import AdaBoostClassifier"
   ]
  },
  {
   "cell_type": "code",
   "execution_count": 56,
   "id": "ef32b5a9-a94e-4fb0-8566-a06287b2a869",
   "metadata": {},
   "outputs": [],
   "source": [
    "# parameter grid\n",
    "param_grid = {\n",
    "    'n_estimators': [100, 200, 300, 400],\n",
    "    'learning_rate': [0.2, 0.4, 0.6, 0.8, 1.0, 1.2]\n",
    "}"
   ]
  },
  {
   "cell_type": "code",
   "execution_count": 57,
   "id": "2fca5b8d-c4dd-4ddd-824e-2fd6d6fddcc2",
   "metadata": {},
   "outputs": [
    {
     "name": "stdout",
     "output_type": "stream",
     "text": [
      "Fitting 5 folds for each of 24 candidates, totalling 120 fits\n"
     ]
    },
    {
     "data": {
      "text/html": [
       "<style>#sk-container-id-2 {color: black;}#sk-container-id-2 pre{padding: 0;}#sk-container-id-2 div.sk-toggleable {background-color: white;}#sk-container-id-2 label.sk-toggleable__label {cursor: pointer;display: block;width: 100%;margin-bottom: 0;padding: 0.3em;box-sizing: border-box;text-align: center;}#sk-container-id-2 label.sk-toggleable__label-arrow:before {content: \"▸\";float: left;margin-right: 0.25em;color: #696969;}#sk-container-id-2 label.sk-toggleable__label-arrow:hover:before {color: black;}#sk-container-id-2 div.sk-estimator:hover label.sk-toggleable__label-arrow:before {color: black;}#sk-container-id-2 div.sk-toggleable__content {max-height: 0;max-width: 0;overflow: hidden;text-align: left;background-color: #f0f8ff;}#sk-container-id-2 div.sk-toggleable__content pre {margin: 0.2em;color: black;border-radius: 0.25em;background-color: #f0f8ff;}#sk-container-id-2 input.sk-toggleable__control:checked~div.sk-toggleable__content {max-height: 200px;max-width: 100%;overflow: auto;}#sk-container-id-2 input.sk-toggleable__control:checked~label.sk-toggleable__label-arrow:before {content: \"▾\";}#sk-container-id-2 div.sk-estimator input.sk-toggleable__control:checked~label.sk-toggleable__label {background-color: #d4ebff;}#sk-container-id-2 div.sk-label input.sk-toggleable__control:checked~label.sk-toggleable__label {background-color: #d4ebff;}#sk-container-id-2 input.sk-hidden--visually {border: 0;clip: rect(1px 1px 1px 1px);clip: rect(1px, 1px, 1px, 1px);height: 1px;margin: -1px;overflow: hidden;padding: 0;position: absolute;width: 1px;}#sk-container-id-2 div.sk-estimator {font-family: monospace;background-color: #f0f8ff;border: 1px dotted black;border-radius: 0.25em;box-sizing: border-box;margin-bottom: 0.5em;}#sk-container-id-2 div.sk-estimator:hover {background-color: #d4ebff;}#sk-container-id-2 div.sk-parallel-item::after {content: \"\";width: 100%;border-bottom: 1px solid gray;flex-grow: 1;}#sk-container-id-2 div.sk-label:hover label.sk-toggleable__label {background-color: #d4ebff;}#sk-container-id-2 div.sk-serial::before {content: \"\";position: absolute;border-left: 1px solid gray;box-sizing: border-box;top: 0;bottom: 0;left: 50%;z-index: 0;}#sk-container-id-2 div.sk-serial {display: flex;flex-direction: column;align-items: center;background-color: white;padding-right: 0.2em;padding-left: 0.2em;position: relative;}#sk-container-id-2 div.sk-item {position: relative;z-index: 1;}#sk-container-id-2 div.sk-parallel {display: flex;align-items: stretch;justify-content: center;background-color: white;position: relative;}#sk-container-id-2 div.sk-item::before, #sk-container-id-2 div.sk-parallel-item::before {content: \"\";position: absolute;border-left: 1px solid gray;box-sizing: border-box;top: 0;bottom: 0;left: 50%;z-index: -1;}#sk-container-id-2 div.sk-parallel-item {display: flex;flex-direction: column;z-index: 1;position: relative;background-color: white;}#sk-container-id-2 div.sk-parallel-item:first-child::after {align-self: flex-end;width: 50%;}#sk-container-id-2 div.sk-parallel-item:last-child::after {align-self: flex-start;width: 50%;}#sk-container-id-2 div.sk-parallel-item:only-child::after {width: 0;}#sk-container-id-2 div.sk-dashed-wrapped {border: 1px dashed gray;margin: 0 0.4em 0.5em 0.4em;box-sizing: border-box;padding-bottom: 0.4em;background-color: white;}#sk-container-id-2 div.sk-label label {font-family: monospace;font-weight: bold;display: inline-block;line-height: 1.2em;}#sk-container-id-2 div.sk-label-container {text-align: center;}#sk-container-id-2 div.sk-container {/* jupyter's `normalize.less` sets `[hidden] { display: none; }` but bootstrap.min.css set `[hidden] { display: none !important; }` so we also need the `!important` here to be able to override the default hidden behavior on the sphinx rendered scikit-learn.org. See: https://github.com/scikit-learn/scikit-learn/issues/21755 */display: inline-block !important;position: relative;}#sk-container-id-2 div.sk-text-repr-fallback {display: none;}</style><div id=\"sk-container-id-2\" class=\"sk-top-container\"><div class=\"sk-text-repr-fallback\"><pre>GridSearchCV(cv=5, estimator=AdaBoostClassifier(),\n",
       "             param_grid={&#x27;learning_rate&#x27;: [0.2, 0.4, 0.6, 0.8, 1.0, 1.2],\n",
       "                         &#x27;n_estimators&#x27;: [100, 200, 300, 400]},\n",
       "             scoring=&#x27;roc_auc&#x27;, verbose=1)</pre><b>In a Jupyter environment, please rerun this cell to show the HTML representation or trust the notebook. <br />On GitHub, the HTML representation is unable to render, please try loading this page with nbviewer.org.</b></div><div class=\"sk-container\" hidden><div class=\"sk-item sk-dashed-wrapped\"><div class=\"sk-label-container\"><div class=\"sk-label sk-toggleable\"><input class=\"sk-toggleable__control sk-hidden--visually\" id=\"sk-estimator-id-2\" type=\"checkbox\" ><label for=\"sk-estimator-id-2\" class=\"sk-toggleable__label sk-toggleable__label-arrow\">GridSearchCV</label><div class=\"sk-toggleable__content\"><pre>GridSearchCV(cv=5, estimator=AdaBoostClassifier(),\n",
       "             param_grid={&#x27;learning_rate&#x27;: [0.2, 0.4, 0.6, 0.8, 1.0, 1.2],\n",
       "                         &#x27;n_estimators&#x27;: [100, 200, 300, 400]},\n",
       "             scoring=&#x27;roc_auc&#x27;, verbose=1)</pre></div></div></div><div class=\"sk-parallel\"><div class=\"sk-parallel-item\"><div class=\"sk-item\"><div class=\"sk-label-container\"><div class=\"sk-label sk-toggleable\"><input class=\"sk-toggleable__control sk-hidden--visually\" id=\"sk-estimator-id-3\" type=\"checkbox\" ><label for=\"sk-estimator-id-3\" class=\"sk-toggleable__label sk-toggleable__label-arrow\">estimator: AdaBoostClassifier</label><div class=\"sk-toggleable__content\"><pre>AdaBoostClassifier()</pre></div></div></div><div class=\"sk-serial\"><div class=\"sk-item\"><div class=\"sk-estimator sk-toggleable\"><input class=\"sk-toggleable__control sk-hidden--visually\" id=\"sk-estimator-id-4\" type=\"checkbox\" ><label for=\"sk-estimator-id-4\" class=\"sk-toggleable__label sk-toggleable__label-arrow\">AdaBoostClassifier</label><div class=\"sk-toggleable__content\"><pre>AdaBoostClassifier()</pre></div></div></div></div></div></div></div></div></div></div>"
      ],
      "text/plain": [
       "GridSearchCV(cv=5, estimator=AdaBoostClassifier(),\n",
       "             param_grid={'learning_rate': [0.2, 0.4, 0.6, 0.8, 1.0, 1.2],\n",
       "                         'n_estimators': [100, 200, 300, 400]},\n",
       "             scoring='roc_auc', verbose=1)"
      ]
     },
     "execution_count": 57,
     "metadata": {},
     "output_type": "execute_result"
    }
   ],
   "source": [
    "# initialize classifier\n",
    "ada_classifier = AdaBoostClassifier()\n",
    "\n",
    "# GridSearchCV\n",
    "grid_search = GridSearchCV(estimator=ada_classifier, param_grid=param_grid, cv=5, scoring='roc_auc', verbose=1)\n",
    "\n",
    "grid_search.fit(X_train, y_train)"
   ]
  },
  {
   "cell_type": "markdown",
   "id": "054a82dc-7dcf-47ae-b5ed-441d60206120",
   "metadata": {},
   "source": [
    "##### (b) Use the best estimator from GridSearchCV to predict on test data.\n",
    "- Use .predict_proba() and .predict() to get predicted probabilities as well as predicted classes"
   ]
  },
  {
   "cell_type": "code",
   "execution_count": 58,
   "id": "d497a714-9b67-4554-97ab-61db9533df83",
   "metadata": {},
   "outputs": [],
   "source": [
    "best_model = grid_search.best_estimator_"
   ]
  },
  {
   "cell_type": "code",
   "execution_count": 59,
   "id": "f060eb47-2679-44bf-9540-20c3ac812880",
   "metadata": {},
   "outputs": [],
   "source": [
    "# predicted probabilities\n",
    "y_pred_prob2 = best_model.predict_proba(X_test)[:, 1]\n",
    "\n",
    "# predicted classes\n",
    "y_pred2 = best_model.predict(X_test)"
   ]
  },
  {
   "cell_type": "markdown",
   "id": "0333efe7-7d26-4119-bf93-d6a5fa7b5fe1",
   "metadata": {},
   "source": [
    "##### (c) Calculate the confusion matrix and classification report"
   ]
  },
  {
   "cell_type": "code",
   "execution_count": 60,
   "id": "af537aa8-5faa-4c8e-be47-b463a2311164",
   "metadata": {},
   "outputs": [
    {
     "data": {
      "text/plain": [
       "array([[7008,  447],\n",
       "       [ 807, 1507]])"
      ]
     },
     "execution_count": 60,
     "metadata": {},
     "output_type": "execute_result"
    }
   ],
   "source": [
    "# confusion matrix\n",
    "confusion_matrix(y_test, y_pred2)"
   ]
  },
  {
   "cell_type": "code",
   "execution_count": 61,
   "id": "1495763c-1b02-4cf8-84c1-612c33d74c8f",
   "metadata": {},
   "outputs": [
    {
     "name": "stdout",
     "output_type": "stream",
     "text": [
      "              precision    recall  f1-score   support\n",
      "\n",
      "           0       0.90      0.94      0.92      7455\n",
      "           1       0.77      0.65      0.71      2314\n",
      "\n",
      "    accuracy                           0.87      9769\n",
      "   macro avg       0.83      0.80      0.81      9769\n",
      "weighted avg       0.87      0.87      0.87      9769\n",
      "\n"
     ]
    }
   ],
   "source": [
    "# classification_report\n",
    "print(classification_report(y_test, y_pred2))"
   ]
  },
  {
   "cell_type": "markdown",
   "id": "d9ff991f-c92c-478d-9291-36d86e08dfc9",
   "metadata": {},
   "source": [
    "##### (d) Caluclate AUC score "
   ]
  },
  {
   "cell_type": "code",
   "execution_count": 62,
   "id": "8f6daa1b-c074-4077-bfd8-a7cf2b67a5c8",
   "metadata": {},
   "outputs": [
    {
     "name": "stdout",
     "output_type": "stream",
     "text": [
      "AUC Score: 0.9244122180504519\n"
     ]
    }
   ],
   "source": [
    "# calculate AUC\n",
    "auc_score = roc_auc_score(y_test, y_pred_prob2)\n",
    "print(\"AUC Score:\", auc_score)"
   ]
  },
  {
   "cell_type": "markdown",
   "id": "2d11a1b3-83bb-4beb-bcea-dde4fb843261",
   "metadata": {},
   "source": [
    "##### (e) Identify the top 5 features: list or plot"
   ]
  },
  {
   "cell_type": "code",
   "execution_count": 63,
   "id": "6b24b014-617d-433c-8ce7-a0aade45492f",
   "metadata": {},
   "outputs": [
    {
     "name": "stdout",
     "output_type": "stream",
     "text": [
      "Top 5 Features:\n",
      "capital-gain      0.3300\n",
      "capital-loss      0.2900\n",
      "age               0.1075\n",
      "hours-per-week    0.0575\n",
      "education-num     0.0100\n",
      "dtype: float64\n"
     ]
    }
   ],
   "source": [
    "# convert feature_importances to pandas series for usability\n",
    "features = pd.Series(best_model.feature_importances_, index=X_train.columns)\n",
    "\n",
    "# Sort the features based on importance\n",
    "top_features = features.sort_values(ascending=False)\n",
    "\n",
    "# Print the top 5 features\n",
    "print(\"Top 5 Features:\")\n",
    "print(top_features.head(5))"
   ]
  },
  {
   "cell_type": "markdown",
   "id": "3911c36a-3bc3-4f1c-b682-32201670c440",
   "metadata": {},
   "source": [
    "##### (f) Use model from part (b), predict for train data. Look at classification report for the train data - is there overfitting for the best estimator?"
   ]
  },
  {
   "cell_type": "code",
   "execution_count": 64,
   "id": "f9ffab77-98aa-482f-90cf-67f862bfb809",
   "metadata": {},
   "outputs": [
    {
     "name": "stdout",
     "output_type": "stream",
     "text": [
      "              precision    recall  f1-score   support\n",
      "\n",
      "           0       0.90      0.94      0.92     17265\n",
      "           1       0.78      0.66      0.71      5527\n",
      "\n",
      "    accuracy                           0.87     22792\n",
      "   macro avg       0.84      0.80      0.82     22792\n",
      "weighted avg       0.87      0.87      0.87     22792\n",
      "\n"
     ]
    }
   ],
   "source": [
    "# predict on training data\n",
    "y_pred_train2 = best_model.predict(X_train)\n",
    "\n",
    "# training classification report\n",
    "print(classification_report(y_train, y_pred_train2))"
   ]
  },
  {
   "cell_type": "markdown",
   "id": "d35e04ad-77e9-4af8-a525-73c7476bcab6",
   "metadata": {},
   "source": [
    "No signs of overfitting as there is no significant discrepancy between the performance metrics of the training dataset versus the test dataset. For example, accuracy and average recall is the same for both training and test sets at 87% and 80% respectively. And training performed only 1% better in average precision at 84% compared to the test set."
   ]
  },
  {
   "cell_type": "markdown",
   "id": "c88abc6b-e385-41a6-a924-f7acc2495f4b",
   "metadata": {},
   "source": [
    "#### 4. Gradient Boosting Classifier - GridSearch"
   ]
  },
  {
   "cell_type": "markdown",
   "id": "de77bf76-78dd-4624-9790-7f2a6b8bd9a9",
   "metadata": {},
   "source": [
    "##### (a) Use GradientBoostingClassifier along with GridSearchCV\n",
    "- Run GridSearchCV using the following parameters:\n",
    "    - n_estimators: 100, 200, 300 & 400\n",
    "    - learning rate: choose 3 learning rates of your choice\n",
    "    - max_depth: 1, 2 (you can try deeper, but remember part of the value of boosting stems from minimal complexity of trees)\n",
    "- Use 5 cross-fold and for scoring use \"roc_auc\" (this is the score that will be referenced when identifying the best parameters)."
   ]
  },
  {
   "cell_type": "code",
   "execution_count": 66,
   "id": "4d9784bb-2755-4234-876b-35af13704592",
   "metadata": {},
   "outputs": [],
   "source": [
    "from sklearn.ensemble import GradientBoostingClassifier"
   ]
  },
  {
   "cell_type": "code",
   "execution_count": 67,
   "id": "63b5c7f5-eb88-4e46-98fe-b2f308adfd1a",
   "metadata": {},
   "outputs": [],
   "source": [
    "# parameter grid\n",
    "param_grid2 = {\n",
    "    'n_estimators': [100, 200, 300, 400],\n",
    "    'learning_rate': [0.2, 0.6, 1.0, 1.2],\n",
    "    'max_depth': [1,2]\n",
    "}"
   ]
  },
  {
   "cell_type": "code",
   "execution_count": 68,
   "id": "537e6d29-d088-42dc-b370-35626e08c0ca",
   "metadata": {},
   "outputs": [
    {
     "name": "stdout",
     "output_type": "stream",
     "text": [
      "Fitting 5 folds for each of 32 candidates, totalling 160 fits\n"
     ]
    },
    {
     "data": {
      "text/html": [
       "<style>#sk-container-id-3 {color: black;}#sk-container-id-3 pre{padding: 0;}#sk-container-id-3 div.sk-toggleable {background-color: white;}#sk-container-id-3 label.sk-toggleable__label {cursor: pointer;display: block;width: 100%;margin-bottom: 0;padding: 0.3em;box-sizing: border-box;text-align: center;}#sk-container-id-3 label.sk-toggleable__label-arrow:before {content: \"▸\";float: left;margin-right: 0.25em;color: #696969;}#sk-container-id-3 label.sk-toggleable__label-arrow:hover:before {color: black;}#sk-container-id-3 div.sk-estimator:hover label.sk-toggleable__label-arrow:before {color: black;}#sk-container-id-3 div.sk-toggleable__content {max-height: 0;max-width: 0;overflow: hidden;text-align: left;background-color: #f0f8ff;}#sk-container-id-3 div.sk-toggleable__content pre {margin: 0.2em;color: black;border-radius: 0.25em;background-color: #f0f8ff;}#sk-container-id-3 input.sk-toggleable__control:checked~div.sk-toggleable__content {max-height: 200px;max-width: 100%;overflow: auto;}#sk-container-id-3 input.sk-toggleable__control:checked~label.sk-toggleable__label-arrow:before {content: \"▾\";}#sk-container-id-3 div.sk-estimator input.sk-toggleable__control:checked~label.sk-toggleable__label {background-color: #d4ebff;}#sk-container-id-3 div.sk-label input.sk-toggleable__control:checked~label.sk-toggleable__label {background-color: #d4ebff;}#sk-container-id-3 input.sk-hidden--visually {border: 0;clip: rect(1px 1px 1px 1px);clip: rect(1px, 1px, 1px, 1px);height: 1px;margin: -1px;overflow: hidden;padding: 0;position: absolute;width: 1px;}#sk-container-id-3 div.sk-estimator {font-family: monospace;background-color: #f0f8ff;border: 1px dotted black;border-radius: 0.25em;box-sizing: border-box;margin-bottom: 0.5em;}#sk-container-id-3 div.sk-estimator:hover {background-color: #d4ebff;}#sk-container-id-3 div.sk-parallel-item::after {content: \"\";width: 100%;border-bottom: 1px solid gray;flex-grow: 1;}#sk-container-id-3 div.sk-label:hover label.sk-toggleable__label {background-color: #d4ebff;}#sk-container-id-3 div.sk-serial::before {content: \"\";position: absolute;border-left: 1px solid gray;box-sizing: border-box;top: 0;bottom: 0;left: 50%;z-index: 0;}#sk-container-id-3 div.sk-serial {display: flex;flex-direction: column;align-items: center;background-color: white;padding-right: 0.2em;padding-left: 0.2em;position: relative;}#sk-container-id-3 div.sk-item {position: relative;z-index: 1;}#sk-container-id-3 div.sk-parallel {display: flex;align-items: stretch;justify-content: center;background-color: white;position: relative;}#sk-container-id-3 div.sk-item::before, #sk-container-id-3 div.sk-parallel-item::before {content: \"\";position: absolute;border-left: 1px solid gray;box-sizing: border-box;top: 0;bottom: 0;left: 50%;z-index: -1;}#sk-container-id-3 div.sk-parallel-item {display: flex;flex-direction: column;z-index: 1;position: relative;background-color: white;}#sk-container-id-3 div.sk-parallel-item:first-child::after {align-self: flex-end;width: 50%;}#sk-container-id-3 div.sk-parallel-item:last-child::after {align-self: flex-start;width: 50%;}#sk-container-id-3 div.sk-parallel-item:only-child::after {width: 0;}#sk-container-id-3 div.sk-dashed-wrapped {border: 1px dashed gray;margin: 0 0.4em 0.5em 0.4em;box-sizing: border-box;padding-bottom: 0.4em;background-color: white;}#sk-container-id-3 div.sk-label label {font-family: monospace;font-weight: bold;display: inline-block;line-height: 1.2em;}#sk-container-id-3 div.sk-label-container {text-align: center;}#sk-container-id-3 div.sk-container {/* jupyter's `normalize.less` sets `[hidden] { display: none; }` but bootstrap.min.css set `[hidden] { display: none !important; }` so we also need the `!important` here to be able to override the default hidden behavior on the sphinx rendered scikit-learn.org. See: https://github.com/scikit-learn/scikit-learn/issues/21755 */display: inline-block !important;position: relative;}#sk-container-id-3 div.sk-text-repr-fallback {display: none;}</style><div id=\"sk-container-id-3\" class=\"sk-top-container\"><div class=\"sk-text-repr-fallback\"><pre>GridSearchCV(cv=5, estimator=GradientBoostingClassifier(),\n",
       "             param_grid={&#x27;learning_rate&#x27;: [0.2, 0.6, 1.0, 1.2],\n",
       "                         &#x27;max_depth&#x27;: [1, 2],\n",
       "                         &#x27;n_estimators&#x27;: [100, 200, 300, 400]},\n",
       "             scoring=&#x27;roc_auc&#x27;, verbose=1)</pre><b>In a Jupyter environment, please rerun this cell to show the HTML representation or trust the notebook. <br />On GitHub, the HTML representation is unable to render, please try loading this page with nbviewer.org.</b></div><div class=\"sk-container\" hidden><div class=\"sk-item sk-dashed-wrapped\"><div class=\"sk-label-container\"><div class=\"sk-label sk-toggleable\"><input class=\"sk-toggleable__control sk-hidden--visually\" id=\"sk-estimator-id-5\" type=\"checkbox\" ><label for=\"sk-estimator-id-5\" class=\"sk-toggleable__label sk-toggleable__label-arrow\">GridSearchCV</label><div class=\"sk-toggleable__content\"><pre>GridSearchCV(cv=5, estimator=GradientBoostingClassifier(),\n",
       "             param_grid={&#x27;learning_rate&#x27;: [0.2, 0.6, 1.0, 1.2],\n",
       "                         &#x27;max_depth&#x27;: [1, 2],\n",
       "                         &#x27;n_estimators&#x27;: [100, 200, 300, 400]},\n",
       "             scoring=&#x27;roc_auc&#x27;, verbose=1)</pre></div></div></div><div class=\"sk-parallel\"><div class=\"sk-parallel-item\"><div class=\"sk-item\"><div class=\"sk-label-container\"><div class=\"sk-label sk-toggleable\"><input class=\"sk-toggleable__control sk-hidden--visually\" id=\"sk-estimator-id-6\" type=\"checkbox\" ><label for=\"sk-estimator-id-6\" class=\"sk-toggleable__label sk-toggleable__label-arrow\">estimator: GradientBoostingClassifier</label><div class=\"sk-toggleable__content\"><pre>GradientBoostingClassifier()</pre></div></div></div><div class=\"sk-serial\"><div class=\"sk-item\"><div class=\"sk-estimator sk-toggleable\"><input class=\"sk-toggleable__control sk-hidden--visually\" id=\"sk-estimator-id-7\" type=\"checkbox\" ><label for=\"sk-estimator-id-7\" class=\"sk-toggleable__label sk-toggleable__label-arrow\">GradientBoostingClassifier</label><div class=\"sk-toggleable__content\"><pre>GradientBoostingClassifier()</pre></div></div></div></div></div></div></div></div></div></div>"
      ],
      "text/plain": [
       "GridSearchCV(cv=5, estimator=GradientBoostingClassifier(),\n",
       "             param_grid={'learning_rate': [0.2, 0.6, 1.0, 1.2],\n",
       "                         'max_depth': [1, 2],\n",
       "                         'n_estimators': [100, 200, 300, 400]},\n",
       "             scoring='roc_auc', verbose=1)"
      ]
     },
     "execution_count": 68,
     "metadata": {},
     "output_type": "execute_result"
    }
   ],
   "source": [
    "# initialize classifier\n",
    "grdboost_classifier = GradientBoostingClassifier()\n",
    "\n",
    "# GridSearchCV\n",
    "grid_search2 = GridSearchCV(estimator=grdboost_classifier, param_grid=param_grid2, cv=5, scoring='roc_auc', verbose=1)\n",
    "\n",
    "grid_search2.fit(X_train, y_train)"
   ]
  },
  {
   "cell_type": "markdown",
   "id": "98cd839d-f147-46e9-a844-67be0c4c65d7",
   "metadata": {},
   "source": [
    "##### (b) Use the best estimator from GridSearchCV to predict on test data\n",
    "- Use the .predict_proba() and the .predict() methods to get predicted probabilities as well as predicted classes."
   ]
  },
  {
   "cell_type": "code",
   "execution_count": 69,
   "id": "2ba67737-72ab-49d7-b8d1-f0ea4eadd8c7",
   "metadata": {},
   "outputs": [],
   "source": [
    "best_model2 = grid_search2.best_estimator_"
   ]
  },
  {
   "cell_type": "code",
   "execution_count": 70,
   "id": "b241f717-eabb-4fe8-b2f6-47c0959f9b9c",
   "metadata": {},
   "outputs": [],
   "source": [
    "# predicted probabilities\n",
    "y_pred_prob3 = best_model2.predict_proba(X_test)[:, 1]\n",
    "\n",
    "# predicted classes\n",
    "y_pred3 = best_model2.predict(X_test)"
   ]
  },
  {
   "cell_type": "markdown",
   "id": "407a6cf2-59d4-49d8-a8be-226a1529306e",
   "metadata": {},
   "source": [
    "##### (c) Calculate the confusion matrix and classification report"
   ]
  },
  {
   "cell_type": "code",
   "execution_count": 71,
   "id": "df5d6178-2a98-4de5-b384-3f6f48ed0697",
   "metadata": {},
   "outputs": [
    {
     "data": {
      "text/plain": [
       "array([[7031,  424],\n",
       "       [ 814, 1500]])"
      ]
     },
     "execution_count": 71,
     "metadata": {},
     "output_type": "execute_result"
    }
   ],
   "source": [
    "# confusion matrix\n",
    "confusion_matrix(y_test, y_pred3)"
   ]
  },
  {
   "cell_type": "code",
   "execution_count": 72,
   "id": "e7e05a6a-fb63-4ccf-b4eb-42f90f6f05b8",
   "metadata": {},
   "outputs": [
    {
     "name": "stdout",
     "output_type": "stream",
     "text": [
      "              precision    recall  f1-score   support\n",
      "\n",
      "           0       0.90      0.94      0.92      7455\n",
      "           1       0.78      0.65      0.71      2314\n",
      "\n",
      "    accuracy                           0.87      9769\n",
      "   macro avg       0.84      0.80      0.81      9769\n",
      "weighted avg       0.87      0.87      0.87      9769\n",
      "\n"
     ]
    }
   ],
   "source": [
    "# classification_report\n",
    "print(classification_report(y_test, y_pred3))"
   ]
  },
  {
   "cell_type": "markdown",
   "id": "71a568dd-a441-4705-80ce-dc4e2d9900a0",
   "metadata": {},
   "source": [
    "##### (d) Calculate the AUC score"
   ]
  },
  {
   "cell_type": "code",
   "execution_count": 73,
   "id": "1716f4f8-3faa-429c-b1e7-c1cf450d804c",
   "metadata": {},
   "outputs": [
    {
     "name": "stdout",
     "output_type": "stream",
     "text": [
      "AUC Score: 0.925995935277467\n"
     ]
    }
   ],
   "source": [
    "# calculate AUC\n",
    "auc_score = roc_auc_score(y_test, y_pred_prob3)\n",
    "print(\"AUC Score:\", auc_score)"
   ]
  },
  {
   "cell_type": "markdown",
   "id": "d3e647c9-6b98-4bef-acca-173ecff1ea43",
   "metadata": {},
   "source": [
    "##### (e) Identify the top 5 features. Feel free to print a list OR to make a plot"
   ]
  },
  {
   "cell_type": "code",
   "execution_count": 74,
   "id": "e054b054-6445-42a1-a67c-c4e923904c6d",
   "metadata": {},
   "outputs": [
    {
     "name": "stdout",
     "output_type": "stream",
     "text": [
      "Top 5 Features:\n",
      "marital-status_Married-civ-spouse    0.360032\n",
      "capital-gain                         0.219108\n",
      "education-num                        0.173296\n",
      "capital-loss                         0.066789\n",
      "age                                  0.062394\n",
      "dtype: float64\n"
     ]
    }
   ],
   "source": [
    "# convert feature_importances to pandas series for usability\n",
    "features = pd.Series(best_model2.feature_importances_, index=X_train.columns)\n",
    "\n",
    "# Sort the features based on importance\n",
    "top_features = features.sort_values(ascending=False)\n",
    "\n",
    "# Print the top 5 features\n",
    "print(\"Top 5 Features:\")\n",
    "print(top_features.head(5))"
   ]
  },
  {
   "cell_type": "markdown",
   "id": "33cb711c-0cf1-4042-aa14-cf5cbc9f47ab",
   "metadata": {},
   "source": [
    "##### (f) Use model from part (b), predict for train data. Look at classification report for the train data - is there overfitting for the best estimator?"
   ]
  },
  {
   "cell_type": "code",
   "execution_count": 99,
   "id": "8fe343c8-705b-4761-a329-e6d7970888ea",
   "metadata": {},
   "outputs": [
    {
     "name": "stdout",
     "output_type": "stream",
     "text": [
      "              precision    recall  f1-score   support\n",
      "\n",
      "           0       0.90      0.95      0.92     17265\n",
      "           1       0.81      0.67      0.73      5527\n",
      "\n",
      "    accuracy                           0.88     22792\n",
      "   macro avg       0.85      0.81      0.83     22792\n",
      "weighted avg       0.88      0.88      0.88     22792\n",
      "\n"
     ]
    }
   ],
   "source": [
    "# predict on training data\n",
    "y_pred_train3 = best_model2.predict(X_train)\n",
    "\n",
    "# training classification report\n",
    "print(classification_report(y_train, y_pred_train3))"
   ]
  },
  {
   "cell_type": "markdown",
   "id": "23cb6515-7c4a-4179-a637-19b3e93b16b4",
   "metadata": {},
   "source": [
    "No overfitting for this model as well. The training accuracy was only 88% compared to the test of 87%. All of the other performance metrics are also within a 1 to 3% range of each other. This is not significant to be suspicious of overfitting"
   ]
  },
  {
   "cell_type": "markdown",
   "id": "f8b79c82-4d7d-43ee-884f-b94fe9b8f553",
   "metadata": {},
   "source": [
    "#### 5. XGBoost - RandomizedSearchCV"
   ]
  },
  {
   "cell_type": "markdown",
   "id": "4885a00d-3c4b-462f-a42d-b0fe54273e7c",
   "metadata": {},
   "source": [
    "##### (a) Use xgboost along with RandomizedSearchCV\n",
    "- Run RandomizedSearchCV using the following parameters. Note: For parameters with increments please don't feel the need to type each value by hand.\n",
    "    - n_estimators: 100-1000 in increments of 50  (i.e. 100,150,200,.....1000)\n",
    "    - learning rate: 0.1 - 1.6 in increments of 0.1\n",
    "    - max_depth: 1, 2\n",
    "    - gamma: 0 - 5 in increments of 0.25\n",
    "- For RandomizedSearchCV make sure to still use cv = 5 and for scoring use \"roc_auc\".\n",
    "- Note that you will have to install xgboost using \"pip install xgboost\". This can be done in your jupyter notebook with the following command: "
   ]
  },
  {
   "cell_type": "code",
   "execution_count": 86,
   "id": "62473809-7ff8-45e3-a5e6-e669727f965f",
   "metadata": {},
   "outputs": [],
   "source": [
    "import numpy as np\n",
    "from sklearn.model_selection import RandomizedSearchCV\n",
    "from xgboost import XGBClassifier"
   ]
  },
  {
   "cell_type": "code",
   "execution_count": 88,
   "id": "a94b0dd3-09ed-4f02-9674-a3a65385304a",
   "metadata": {},
   "outputs": [],
   "source": [
    "# parameter grid\n",
    "param_grid2 = {\n",
    "    'n_estimators': np.arange(100,1001,50),\n",
    "    'learning_rate': np.arange(0.1, 1.7, 0.1),\n",
    "    'max_depth': [1,2],\n",
    "    'gamma': np.arange(0, 5.25, 0.25)\n",
    "}"
   ]
  },
  {
   "cell_type": "code",
   "execution_count": 91,
   "id": "a027b3cd-51a9-4e94-88b2-54a14f1f4d84",
   "metadata": {},
   "outputs": [
    {
     "name": "stdout",
     "output_type": "stream",
     "text": [
      "Fitting 5 folds for each of 10 candidates, totalling 50 fits\n"
     ]
    },
    {
     "data": {
      "text/html": [
       "<style>#sk-container-id-4 {color: black;}#sk-container-id-4 pre{padding: 0;}#sk-container-id-4 div.sk-toggleable {background-color: white;}#sk-container-id-4 label.sk-toggleable__label {cursor: pointer;display: block;width: 100%;margin-bottom: 0;padding: 0.3em;box-sizing: border-box;text-align: center;}#sk-container-id-4 label.sk-toggleable__label-arrow:before {content: \"▸\";float: left;margin-right: 0.25em;color: #696969;}#sk-container-id-4 label.sk-toggleable__label-arrow:hover:before {color: black;}#sk-container-id-4 div.sk-estimator:hover label.sk-toggleable__label-arrow:before {color: black;}#sk-container-id-4 div.sk-toggleable__content {max-height: 0;max-width: 0;overflow: hidden;text-align: left;background-color: #f0f8ff;}#sk-container-id-4 div.sk-toggleable__content pre {margin: 0.2em;color: black;border-radius: 0.25em;background-color: #f0f8ff;}#sk-container-id-4 input.sk-toggleable__control:checked~div.sk-toggleable__content {max-height: 200px;max-width: 100%;overflow: auto;}#sk-container-id-4 input.sk-toggleable__control:checked~label.sk-toggleable__label-arrow:before {content: \"▾\";}#sk-container-id-4 div.sk-estimator input.sk-toggleable__control:checked~label.sk-toggleable__label {background-color: #d4ebff;}#sk-container-id-4 div.sk-label input.sk-toggleable__control:checked~label.sk-toggleable__label {background-color: #d4ebff;}#sk-container-id-4 input.sk-hidden--visually {border: 0;clip: rect(1px 1px 1px 1px);clip: rect(1px, 1px, 1px, 1px);height: 1px;margin: -1px;overflow: hidden;padding: 0;position: absolute;width: 1px;}#sk-container-id-4 div.sk-estimator {font-family: monospace;background-color: #f0f8ff;border: 1px dotted black;border-radius: 0.25em;box-sizing: border-box;margin-bottom: 0.5em;}#sk-container-id-4 div.sk-estimator:hover {background-color: #d4ebff;}#sk-container-id-4 div.sk-parallel-item::after {content: \"\";width: 100%;border-bottom: 1px solid gray;flex-grow: 1;}#sk-container-id-4 div.sk-label:hover label.sk-toggleable__label {background-color: #d4ebff;}#sk-container-id-4 div.sk-serial::before {content: \"\";position: absolute;border-left: 1px solid gray;box-sizing: border-box;top: 0;bottom: 0;left: 50%;z-index: 0;}#sk-container-id-4 div.sk-serial {display: flex;flex-direction: column;align-items: center;background-color: white;padding-right: 0.2em;padding-left: 0.2em;position: relative;}#sk-container-id-4 div.sk-item {position: relative;z-index: 1;}#sk-container-id-4 div.sk-parallel {display: flex;align-items: stretch;justify-content: center;background-color: white;position: relative;}#sk-container-id-4 div.sk-item::before, #sk-container-id-4 div.sk-parallel-item::before {content: \"\";position: absolute;border-left: 1px solid gray;box-sizing: border-box;top: 0;bottom: 0;left: 50%;z-index: -1;}#sk-container-id-4 div.sk-parallel-item {display: flex;flex-direction: column;z-index: 1;position: relative;background-color: white;}#sk-container-id-4 div.sk-parallel-item:first-child::after {align-self: flex-end;width: 50%;}#sk-container-id-4 div.sk-parallel-item:last-child::after {align-self: flex-start;width: 50%;}#sk-container-id-4 div.sk-parallel-item:only-child::after {width: 0;}#sk-container-id-4 div.sk-dashed-wrapped {border: 1px dashed gray;margin: 0 0.4em 0.5em 0.4em;box-sizing: border-box;padding-bottom: 0.4em;background-color: white;}#sk-container-id-4 div.sk-label label {font-family: monospace;font-weight: bold;display: inline-block;line-height: 1.2em;}#sk-container-id-4 div.sk-label-container {text-align: center;}#sk-container-id-4 div.sk-container {/* jupyter's `normalize.less` sets `[hidden] { display: none; }` but bootstrap.min.css set `[hidden] { display: none !important; }` so we also need the `!important` here to be able to override the default hidden behavior on the sphinx rendered scikit-learn.org. See: https://github.com/scikit-learn/scikit-learn/issues/21755 */display: inline-block !important;position: relative;}#sk-container-id-4 div.sk-text-repr-fallback {display: none;}</style><div id=\"sk-container-id-4\" class=\"sk-top-container\"><div class=\"sk-text-repr-fallback\"><pre>RandomizedSearchCV(cv=5,\n",
       "                   estimator=XGBClassifier(base_score=None, booster=None,\n",
       "                                           callbacks=None,\n",
       "                                           colsample_bylevel=None,\n",
       "                                           colsample_bynode=None,\n",
       "                                           colsample_bytree=None, device=None,\n",
       "                                           early_stopping_rounds=None,\n",
       "                                           enable_categorical=False,\n",
       "                                           eval_metric=None, feature_types=None,\n",
       "                                           gamma=None, grow_policy=None,\n",
       "                                           importance_type=None,\n",
       "                                           interaction_constraints=None,\n",
       "                                           learning_rate...\n",
       "                   param_distributions={&#x27;gamma&#x27;: array([0.  , 0.25, 0.5 , 0.75, 1.  , 1.25, 1.5 , 1.75, 2.  , 2.25, 2.5 ,\n",
       "       2.75, 3.  , 3.25, 3.5 , 3.75, 4.  , 4.25, 4.5 , 4.75, 5.  ]),\n",
       "                                        &#x27;learning_rate&#x27;: array([0.1, 0.2, 0.3, 0.4, 0.5, 0.6, 0.7, 0.8, 0.9, 1. , 1.1, 1.2, 1.3,\n",
       "       1.4, 1.5, 1.6]),\n",
       "                                        &#x27;max_depth&#x27;: [1, 2],\n",
       "                                        &#x27;n_estimators&#x27;: array([ 100,  150,  200,  250,  300,  350,  400,  450,  500,  550,  600,\n",
       "        650,  700,  750,  800,  850,  900,  950, 1000])},\n",
       "                   scoring=&#x27;roc_auc&#x27;, verbose=1)</pre><b>In a Jupyter environment, please rerun this cell to show the HTML representation or trust the notebook. <br />On GitHub, the HTML representation is unable to render, please try loading this page with nbviewer.org.</b></div><div class=\"sk-container\" hidden><div class=\"sk-item sk-dashed-wrapped\"><div class=\"sk-label-container\"><div class=\"sk-label sk-toggleable\"><input class=\"sk-toggleable__control sk-hidden--visually\" id=\"sk-estimator-id-8\" type=\"checkbox\" ><label for=\"sk-estimator-id-8\" class=\"sk-toggleable__label sk-toggleable__label-arrow\">RandomizedSearchCV</label><div class=\"sk-toggleable__content\"><pre>RandomizedSearchCV(cv=5,\n",
       "                   estimator=XGBClassifier(base_score=None, booster=None,\n",
       "                                           callbacks=None,\n",
       "                                           colsample_bylevel=None,\n",
       "                                           colsample_bynode=None,\n",
       "                                           colsample_bytree=None, device=None,\n",
       "                                           early_stopping_rounds=None,\n",
       "                                           enable_categorical=False,\n",
       "                                           eval_metric=None, feature_types=None,\n",
       "                                           gamma=None, grow_policy=None,\n",
       "                                           importance_type=None,\n",
       "                                           interaction_constraints=None,\n",
       "                                           learning_rate...\n",
       "                   param_distributions={&#x27;gamma&#x27;: array([0.  , 0.25, 0.5 , 0.75, 1.  , 1.25, 1.5 , 1.75, 2.  , 2.25, 2.5 ,\n",
       "       2.75, 3.  , 3.25, 3.5 , 3.75, 4.  , 4.25, 4.5 , 4.75, 5.  ]),\n",
       "                                        &#x27;learning_rate&#x27;: array([0.1, 0.2, 0.3, 0.4, 0.5, 0.6, 0.7, 0.8, 0.9, 1. , 1.1, 1.2, 1.3,\n",
       "       1.4, 1.5, 1.6]),\n",
       "                                        &#x27;max_depth&#x27;: [1, 2],\n",
       "                                        &#x27;n_estimators&#x27;: array([ 100,  150,  200,  250,  300,  350,  400,  450,  500,  550,  600,\n",
       "        650,  700,  750,  800,  850,  900,  950, 1000])},\n",
       "                   scoring=&#x27;roc_auc&#x27;, verbose=1)</pre></div></div></div><div class=\"sk-parallel\"><div class=\"sk-parallel-item\"><div class=\"sk-item\"><div class=\"sk-label-container\"><div class=\"sk-label sk-toggleable\"><input class=\"sk-toggleable__control sk-hidden--visually\" id=\"sk-estimator-id-9\" type=\"checkbox\" ><label for=\"sk-estimator-id-9\" class=\"sk-toggleable__label sk-toggleable__label-arrow\">estimator: XGBClassifier</label><div class=\"sk-toggleable__content\"><pre>XGBClassifier(base_score=None, booster=None, callbacks=None,\n",
       "              colsample_bylevel=None, colsample_bynode=None,\n",
       "              colsample_bytree=None, device=None, early_stopping_rounds=None,\n",
       "              enable_categorical=False, eval_metric=None, feature_types=None,\n",
       "              gamma=None, grow_policy=None, importance_type=None,\n",
       "              interaction_constraints=None, learning_rate=None, max_bin=None,\n",
       "              max_cat_threshold=None, max_cat_to_onehot=None,\n",
       "              max_delta_step=None, max_depth=None, max_leaves=None,\n",
       "              min_child_weight=None, missing=nan, monotone_constraints=None,\n",
       "              multi_strategy=None, n_estimators=None, n_jobs=None,\n",
       "              num_parallel_tree=None, random_state=None, ...)</pre></div></div></div><div class=\"sk-serial\"><div class=\"sk-item\"><div class=\"sk-estimator sk-toggleable\"><input class=\"sk-toggleable__control sk-hidden--visually\" id=\"sk-estimator-id-10\" type=\"checkbox\" ><label for=\"sk-estimator-id-10\" class=\"sk-toggleable__label sk-toggleable__label-arrow\">XGBClassifier</label><div class=\"sk-toggleable__content\"><pre>XGBClassifier(base_score=None, booster=None, callbacks=None,\n",
       "              colsample_bylevel=None, colsample_bynode=None,\n",
       "              colsample_bytree=None, device=None, early_stopping_rounds=None,\n",
       "              enable_categorical=False, eval_metric=None, feature_types=None,\n",
       "              gamma=None, grow_policy=None, importance_type=None,\n",
       "              interaction_constraints=None, learning_rate=None, max_bin=None,\n",
       "              max_cat_threshold=None, max_cat_to_onehot=None,\n",
       "              max_delta_step=None, max_depth=None, max_leaves=None,\n",
       "              min_child_weight=None, missing=nan, monotone_constraints=None,\n",
       "              multi_strategy=None, n_estimators=None, n_jobs=None,\n",
       "              num_parallel_tree=None, random_state=None, ...)</pre></div></div></div></div></div></div></div></div></div></div>"
      ],
      "text/plain": [
       "RandomizedSearchCV(cv=5,\n",
       "                   estimator=XGBClassifier(base_score=None, booster=None,\n",
       "                                           callbacks=None,\n",
       "                                           colsample_bylevel=None,\n",
       "                                           colsample_bynode=None,\n",
       "                                           colsample_bytree=None, device=None,\n",
       "                                           early_stopping_rounds=None,\n",
       "                                           enable_categorical=False,\n",
       "                                           eval_metric=None, feature_types=None,\n",
       "                                           gamma=None, grow_policy=None,\n",
       "                                           importance_type=None,\n",
       "                                           interaction_constraints=None,\n",
       "                                           learning_rate...\n",
       "                   param_distributions={'gamma': array([0.  , 0.25, 0.5 , 0.75, 1.  , 1.25, 1.5 , 1.75, 2.  , 2.25, 2.5 ,\n",
       "       2.75, 3.  , 3.25, 3.5 , 3.75, 4.  , 4.25, 4.5 , 4.75, 5.  ]),\n",
       "                                        'learning_rate': array([0.1, 0.2, 0.3, 0.4, 0.5, 0.6, 0.7, 0.8, 0.9, 1. , 1.1, 1.2, 1.3,\n",
       "       1.4, 1.5, 1.6]),\n",
       "                                        'max_depth': [1, 2],\n",
       "                                        'n_estimators': array([ 100,  150,  200,  250,  300,  350,  400,  450,  500,  550,  600,\n",
       "        650,  700,  750,  800,  850,  900,  950, 1000])},\n",
       "                   scoring='roc_auc', verbose=1)"
      ]
     },
     "execution_count": 91,
     "metadata": {},
     "output_type": "execute_result"
    }
   ],
   "source": [
    "bst = XGBClassifier()\n",
    "# RandomizedSearchCV\n",
    "rand_search = RandomizedSearchCV(estimator=bst, param_distributions=param_grid2, cv=5, scoring='roc_auc', verbose=1)\n",
    "\n",
    "rand_search.fit(X_train, y_train)"
   ]
  },
  {
   "cell_type": "markdown",
   "id": "bce81f7d-abfd-490f-8e2f-79124cfd03b4",
   "metadata": {},
   "source": [
    "##### (b) Use the best estimator from RandomizedSearchCV to predict on test data\n",
    "- Use the .predict_proba() and the .predict() methods to get predicted probabilities as well as predicted classes."
   ]
  },
  {
   "cell_type": "code",
   "execution_count": 92,
   "id": "ff404fdd-fc20-49b9-aa70-836ca235525f",
   "metadata": {},
   "outputs": [],
   "source": [
    "best_model3 = rand_search.best_estimator_"
   ]
  },
  {
   "cell_type": "code",
   "execution_count": 93,
   "id": "4ff56234-ce2d-4330-817d-fb50e71beba2",
   "metadata": {},
   "outputs": [],
   "source": [
    "# predicted probabilities\n",
    "y_pred_prob4 = best_model3.predict_proba(X_test)[:, 1]\n",
    "\n",
    "# predicted classes\n",
    "y_pred4 = best_model3.predict(X_test)"
   ]
  },
  {
   "cell_type": "markdown",
   "id": "dbf49bfd-3c43-422b-8148-805477827870",
   "metadata": {},
   "source": [
    "##### (c) Calculate the confusion matrix and classification report"
   ]
  },
  {
   "cell_type": "code",
   "execution_count": 94,
   "id": "09db64df-1a2e-40ca-9b75-42e64555a5c6",
   "metadata": {},
   "outputs": [
    {
     "data": {
      "text/plain": [
       "array([[7020,  435],\n",
       "       [ 786, 1528]])"
      ]
     },
     "execution_count": 94,
     "metadata": {},
     "output_type": "execute_result"
    }
   ],
   "source": [
    "# confusion matrix\n",
    "confusion_matrix(y_test, y_pred4)"
   ]
  },
  {
   "cell_type": "code",
   "execution_count": 95,
   "id": "b9ccccbb-3b19-4323-a15c-c5fd202cba0d",
   "metadata": {},
   "outputs": [
    {
     "name": "stdout",
     "output_type": "stream",
     "text": [
      "              precision    recall  f1-score   support\n",
      "\n",
      "           0       0.90      0.94      0.92      7455\n",
      "           1       0.78      0.66      0.71      2314\n",
      "\n",
      "    accuracy                           0.88      9769\n",
      "   macro avg       0.84      0.80      0.82      9769\n",
      "weighted avg       0.87      0.88      0.87      9769\n",
      "\n"
     ]
    }
   ],
   "source": [
    "# classification_report\n",
    "print(classification_report(y_test, y_pred4))"
   ]
  },
  {
   "cell_type": "markdown",
   "id": "121c1457-7d25-4384-8e06-f7c725bf07d0",
   "metadata": {},
   "source": [
    "##### (d) Calculate the AUC score"
   ]
  },
  {
   "cell_type": "code",
   "execution_count": 96,
   "id": "01dd521b-2840-42c2-9e11-103b4a067137",
   "metadata": {},
   "outputs": [
    {
     "name": "stdout",
     "output_type": "stream",
     "text": [
      "AUC Score: 0.9269584374585166\n"
     ]
    }
   ],
   "source": [
    "# calculate AUC\n",
    "auc_score = roc_auc_score(y_test, y_pred_prob4)\n",
    "print(\"AUC Score:\", auc_score)"
   ]
  },
  {
   "cell_type": "markdown",
   "id": "c41790f1-c85c-4575-a892-6265a4f85440",
   "metadata": {},
   "source": [
    "##### (e) Identify the top 5 features. Feel free to print a list OR to make a plot"
   ]
  },
  {
   "cell_type": "code",
   "execution_count": 97,
   "id": "6ba39195-b4e0-4f47-a109-14569cbf89e6",
   "metadata": {},
   "outputs": [
    {
     "name": "stdout",
     "output_type": "stream",
     "text": [
      "Top 5 Features:\n",
      "marital-status_Married-civ-spouse    0.471952\n",
      "education-num                        0.080609\n",
      "occupation_Exec-managerial           0.040402\n",
      "relationship_Own-child               0.030036\n",
      "occupation_Other-service             0.029815\n",
      "dtype: float32\n"
     ]
    }
   ],
   "source": [
    "# convert feature_importances to pandas series for usability\n",
    "features = pd.Series(best_model3.feature_importances_, index=X_train.columns)\n",
    "\n",
    "# Sort the features based on importance\n",
    "top_features = features.sort_values(ascending=False)\n",
    "\n",
    "# Print the top 5 features\n",
    "print(\"Top 5 Features:\")\n",
    "print(top_features.head(5))"
   ]
  },
  {
   "cell_type": "markdown",
   "id": "9c23a725-14a9-4673-bdfc-b8ff9716e7a5",
   "metadata": {},
   "source": [
    "##### (f) Use model from part (b), predict for train data. Look at classification report for the train data - is there overfitting for the best estimator?"
   ]
  },
  {
   "cell_type": "code",
   "execution_count": 98,
   "id": "4ed26047-b652-415b-9dcc-f9ff83eb8009",
   "metadata": {},
   "outputs": [
    {
     "name": "stdout",
     "output_type": "stream",
     "text": [
      "              precision    recall  f1-score   support\n",
      "\n",
      "           0       0.90      0.95      0.92     17265\n",
      "           1       0.81      0.68      0.74      5527\n",
      "\n",
      "    accuracy                           0.88     22792\n",
      "   macro avg       0.85      0.81      0.83     22792\n",
      "weighted avg       0.88      0.88      0.88     22792\n",
      "\n"
     ]
    }
   ],
   "source": [
    "# predict on training data\n",
    "y_pred_train4 = best_model3.predict(X_train)\n",
    "\n",
    "# training classification report\n",
    "print(classification_report(y_train, y_pred_train4))"
   ]
  },
  {
   "cell_type": "markdown",
   "id": "31c9ab5b-700d-4090-8c73-3e15d6da96e5",
   "metadata": {},
   "source": [
    "No occurrence of overfitting for this model as well. The accuracy between training and test data are the same of 88%. And the other performance metrics are within 1% differnece of each other between the training and test data sets."
   ]
  },
  {
   "cell_type": "markdown",
   "id": "fdfe580a-c93c-4212-8ef5-97ba6cc60517",
   "metadata": {},
   "source": [
    "#### 6. Conceptual Problems"
   ]
  },
  {
   "cell_type": "markdown",
   "id": "b385bdd9-a844-43d0-99f9-c6ba00fa48e6",
   "metadata": {},
   "source": [
    "##### (a) The lecture notes describe the Gini Index which is the default criterion used for splitting in sklearn's version of RandomForestClassifier. How does the Gini Index work? (i.e. How is it used to build a top-performing model?). \n",
    "A Random Forest model's objective will to reduce the Gini Index at every cut, or split, so that the it is low at the nodes. A small Gini Index indicates low variation - as in that the data points are a true fit to that node."
   ]
  },
  {
   "cell_type": "markdown",
   "id": "1308250d-234e-4eb1-becf-edda373412be",
   "metadata": {},
   "source": [
    "##### (b) Describe how Random Forest is different from bagging & why this difference can yield improved results.\n",
    "Bagging, builds regression trees using boostrapped training samples whereas Random Forest decorrelates the trees by using a random subset of features to split for each tree. This decorrelation can yield improved results as it introduces noise, or a diversity in opinion. The more noise we introduce, the more we prevent the model from memorizing the patterns in the training data subsets, thus allowing us to have a lower generalization error and reducing the chances of ovefitting."
   ]
  },
  {
   "cell_type": "markdown",
   "id": "0244a139-f814-4464-8f52-ef4dea9282c4",
   "metadata": {},
   "source": [
    "##### (c) Describe the importance of the max_depth parameter in Random Forest. Do not just provide a definition, rather think through how bias-variance tradeoff might be impacted by the max_depth parameter.\n",
    "Tuning the max_depth parameter impacts whether the model could potentially overfit or underfit. If there is no limit to the max_depth parameter, the model will produce a deeper and more complex tree with more nodes. However, if there are too many nodes, then the model could be potentially too specific to the data, thereby suffering from high variance and overfitting. If the max_depth is too constricted, then we run the risk of high bias and underfitting as they may not capture all of the patterns in the data."
   ]
  },
  {
   "cell_type": "markdown",
   "id": "03055029-e99f-42fb-81fa-630b687971a5",
   "metadata": {},
   "source": [
    "##### (d) What does the alpha parameter represent in AdaBoost? Please refer to chapter 7 of the Hands-On ML book if you are struggling.\n",
    "Alpha is the calculated weight of the predictor. It indicates the accuracy of the predictor using the weighted error rate of the jth predictor and the learn‐ ing rate hyperparameter. The more accurate the predictor, the higher alpha's value will be."
   ]
  },
  {
   "cell_type": "markdown",
   "id": "a926295e-ee21-4fe1-9145-9301fbebc657",
   "metadata": {},
   "source": [
    "##### (e) In AdaBoost explain how the final predicted class is determined. Be sure to reference the alpha term in your explanation.\n",
    "In order to determine the predicted class, we must first compute the predictions of all the predictors, and then weigh each of them them using their respective classifier weights, alpha. The results is a class voting and the final predicted class is the one that receives the highest sum of weighted votes across all classifiers."
   ]
  },
  {
   "cell_type": "markdown",
   "id": "84d481f5-1c91-4d7d-a401-5577d5c4f180",
   "metadata": {},
   "source": [
    "##### (f) In Gradient Boosting, what is the role of the max_depth parameter? Why is it important to tune on this parameter?\n",
    "max_depth specifies the depth of the trees. Similar to as discussed earlier, the parameter is important to tune to mitigate overfitting and underfitting, and subsequently the variance and bias tradeoff as well."
   ]
  },
  {
   "cell_type": "markdown",
   "id": "86dc4593-74e8-4c33-bece-210c4d61f69c",
   "metadata": {},
   "source": [
    "##### (g) In Part (e) of Steps 2-5 you determined the top 5 predictors across each model. Do any predictors show up in the top 5 predictors for all three models? If so, comment on if this predictor makes sense given what you are attempting to predict. (Note: If you don't have any predictors showing up across all 3 predictors, explain one that shows up in 2 of them).\n",
    "No, none of the predictors appeared in the top five predictors for all three of my models. However one of the features that did appear twice include is capital-gain. Given we are trying to predict whether an individual would have income that exceeds $50k/year, an individual's capital gain - that is their profit from selling assets - could certainly add to an individual's yealy income."
   ]
  },
  {
   "cell_type": "markdown",
   "id": "03c711fd-cda8-4bb3-a2e2-a4a378badc9f",
   "metadata": {},
   "source": [
    "##### (h) From the models run in steps 2-5, which performs the best based on the Classification Report? Support your reasoning with evidence from your test data and be sure to share the optimal hyperparameters found from your grid search.\n",
    "The XGBoost model performed the best based on the Classification Report. It had a greater accuracy of 88% compared to the 87% that both Adaboost and Gradient Boost held. The other metrics - recall, precision, and F1-score - were all either same across the models, or also 1% higher in favor of the XGBoost model. "
   ]
  },
  {
   "cell_type": "markdown",
   "id": "75c84948-d8eb-426b-982f-8ec59bcf6ba5",
   "metadata": {},
   "source": [
    "##### (i) For your best performing model, plot out a ROC curve using your test data. Feel free to use sklearn, matplotlib or any other method in python. Describe what the x-axis & y-axis of the ROC curve tell us about a classifier."
   ]
  },
  {
   "cell_type": "code",
   "execution_count": 102,
   "id": "8a2bdbb6-5a2e-4010-9aeb-c8eebff75ad8",
   "metadata": {},
   "outputs": [],
   "source": [
    "from sklearn.metrics import RocCurveDisplay"
   ]
  },
  {
   "cell_type": "code",
   "execution_count": 103,
   "id": "544ebcf1-39de-48c8-8e94-30c494df88f0",
   "metadata": {},
   "outputs": [
    {
     "data": {
      "image/png": "[encoded data removed]",
      "text/plain": [
       "<Figure size 640x480 with 1 Axes>"
      ]
     },
     "metadata": {},
     "output_type": "display_data"
    }
   ],
   "source": [
    "svc_disp = RocCurveDisplay.from_estimator(best_model3, X_test, y_test)\n",
    "plt.show()"
   ]
  },
  {
   "cell_type": "markdown",
   "id": "ddca27a2-e792-4b39-b7f0-84b44b959ebd",
   "metadata": {},
   "source": [
    "The y-axis reflects the True Positive Rate. This is also the Sensitivity or Recall. It tells us how well the model can identify the positive instances. The x-axis is the false positive rate. This is the sum of false positives and true negatives, and it measures how many incorrect positive predictions are made out of all negative samples available during the test."
   ]
  }
 ],
 "metadata": {
  "kernelspec": {
   "display_name": "Python 3 (ipykernel)",
   "language": "python",
   "name": "python3"
  },
  "language_info": {
   "codemirror_mode": {
    "name": "ipython",
    "version": 3
   },
   "file_extension": ".py",
   "mimetype": "text/x-python",
   "name": "python",
   "nbconvert_exporter": "python",
   "pygments_lexer": "ipython3",
   "version": "3.9.13"
  }
 },
 "nbformat": 4,
 "nbformat_minor": 5
}

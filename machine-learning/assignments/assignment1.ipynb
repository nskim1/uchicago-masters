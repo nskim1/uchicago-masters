{
 "cells": [
  {
   "cell_type": "markdown",
   "id": "4c067094-7a04-4699-943e-b73c0607706a",
   "metadata": {},
   "source": [
    "### Assignment 1: Predict water temperature using scikit-learn regression\n",
    "##### Natalie Kim"
   ]
  },
  {
   "cell_type": "code",
   "execution_count": 1,
   "id": "1fe6ecbd-abbe-4809-99f9-1168fa68d097",
   "metadata": {},
   "outputs": [],
   "source": [
    "import pandas as pd"
   ]
  },
  {
   "cell_type": "markdown",
   "id": "1f5f18a2-9add-44f9-8ff5-ff4314b1e9a3",
   "metadata": {},
   "source": [
    "#### Part A: Data Cleaning & Exploratory Analysis"
   ]
  },
  {
   "cell_type": "markdown",
   "id": "8936da28-4e6b-44f1-a155-90902a04e453",
   "metadata": {},
   "source": [
    "##### 1. Import full data set using Pandas:\n",
    "- Verify shape is: (864863,74)"
   ]
  },
  {
   "cell_type": "code",
   "execution_count": 3,
   "id": "0de5ad23-bb65-4358-93dd-db5d5e81b527",
   "metadata": {},
   "outputs": [],
   "source": [
    "data = pd.read_csv(r'/Users/xnxk040/Library/CloudStorage/OneDrive-TheUniversityofChicago/machine learning/ml data/bottle.csv',\n",
    "                  low_memory=False)"
   ]
  },
  {
   "cell_type": "code",
   "execution_count": 4,
   "id": "64aea6a9-0b89-4f61-8a30-d506ce515974",
   "metadata": {},
   "outputs": [
    {
     "data": {
      "text/html": [
       "<div>\n",
       "<style scoped>\n",
       "    .dataframe tbody tr th:only-of-type {\n",
       "        vertical-align: middle;\n",
       "    }\n",
       "\n",
       "    .dataframe tbody tr th {\n",
       "        vertical-align: top;\n",
       "    }\n",
       "\n",
       "    .dataframe thead th {\n",
       "        text-align: right;\n",
       "    }\n",
       "</style>\n",
       "<table border=\"1\" class=\"dataframe\">\n",
       "  <thead>\n",
       "    <tr style=\"text-align: right;\">\n",
       "      <th></th>\n",
       "      <th>Cst_Cnt</th>\n",
       "      <th>Btl_Cnt</th>\n",
       "      <th>Sta_ID</th>\n",
       "      <th>Depth_ID</th>\n",
       "      <th>Depthm</th>\n",
       "      <th>T_degC</th>\n",
       "      <th>Salnty</th>\n",
       "      <th>O2ml_L</th>\n",
       "      <th>STheta</th>\n",
       "      <th>O2Sat</th>\n",
       "      <th>...</th>\n",
       "      <th>R_PHAEO</th>\n",
       "      <th>R_PRES</th>\n",
       "      <th>R_SAMP</th>\n",
       "      <th>DIC1</th>\n",
       "      <th>DIC2</th>\n",
       "      <th>TA1</th>\n",
       "      <th>TA2</th>\n",
       "      <th>pH2</th>\n",
       "      <th>pH1</th>\n",
       "      <th>DIC Quality Comment</th>\n",
       "    </tr>\n",
       "  </thead>\n",
       "  <tbody>\n",
       "    <tr>\n",
       "      <th>0</th>\n",
       "      <td>1</td>\n",
       "      <td>1</td>\n",
       "      <td>054.0 056.0</td>\n",
       "      <td>19-4903CR-HY-060-0930-05400560-0000A-3</td>\n",
       "      <td>0</td>\n",
       "      <td>10.50</td>\n",
       "      <td>33.440</td>\n",
       "      <td>NaN</td>\n",
       "      <td>25.649</td>\n",
       "      <td>NaN</td>\n",
       "      <td>...</td>\n",
       "      <td>NaN</td>\n",
       "      <td>0</td>\n",
       "      <td>NaN</td>\n",
       "      <td>NaN</td>\n",
       "      <td>NaN</td>\n",
       "      <td>NaN</td>\n",
       "      <td>NaN</td>\n",
       "      <td>NaN</td>\n",
       "      <td>NaN</td>\n",
       "      <td>NaN</td>\n",
       "    </tr>\n",
       "    <tr>\n",
       "      <th>1</th>\n",
       "      <td>1</td>\n",
       "      <td>2</td>\n",
       "      <td>054.0 056.0</td>\n",
       "      <td>19-4903CR-HY-060-0930-05400560-0008A-3</td>\n",
       "      <td>8</td>\n",
       "      <td>10.46</td>\n",
       "      <td>33.440</td>\n",
       "      <td>NaN</td>\n",
       "      <td>25.656</td>\n",
       "      <td>NaN</td>\n",
       "      <td>...</td>\n",
       "      <td>NaN</td>\n",
       "      <td>8</td>\n",
       "      <td>NaN</td>\n",
       "      <td>NaN</td>\n",
       "      <td>NaN</td>\n",
       "      <td>NaN</td>\n",
       "      <td>NaN</td>\n",
       "      <td>NaN</td>\n",
       "      <td>NaN</td>\n",
       "      <td>NaN</td>\n",
       "    </tr>\n",
       "    <tr>\n",
       "      <th>2</th>\n",
       "      <td>1</td>\n",
       "      <td>3</td>\n",
       "      <td>054.0 056.0</td>\n",
       "      <td>19-4903CR-HY-060-0930-05400560-0010A-7</td>\n",
       "      <td>10</td>\n",
       "      <td>10.46</td>\n",
       "      <td>33.437</td>\n",
       "      <td>NaN</td>\n",
       "      <td>25.654</td>\n",
       "      <td>NaN</td>\n",
       "      <td>...</td>\n",
       "      <td>NaN</td>\n",
       "      <td>10</td>\n",
       "      <td>NaN</td>\n",
       "      <td>NaN</td>\n",
       "      <td>NaN</td>\n",
       "      <td>NaN</td>\n",
       "      <td>NaN</td>\n",
       "      <td>NaN</td>\n",
       "      <td>NaN</td>\n",
       "      <td>NaN</td>\n",
       "    </tr>\n",
       "    <tr>\n",
       "      <th>3</th>\n",
       "      <td>1</td>\n",
       "      <td>4</td>\n",
       "      <td>054.0 056.0</td>\n",
       "      <td>19-4903CR-HY-060-0930-05400560-0019A-3</td>\n",
       "      <td>19</td>\n",
       "      <td>10.45</td>\n",
       "      <td>33.420</td>\n",
       "      <td>NaN</td>\n",
       "      <td>25.643</td>\n",
       "      <td>NaN</td>\n",
       "      <td>...</td>\n",
       "      <td>NaN</td>\n",
       "      <td>19</td>\n",
       "      <td>NaN</td>\n",
       "      <td>NaN</td>\n",
       "      <td>NaN</td>\n",
       "      <td>NaN</td>\n",
       "      <td>NaN</td>\n",
       "      <td>NaN</td>\n",
       "      <td>NaN</td>\n",
       "      <td>NaN</td>\n",
       "    </tr>\n",
       "    <tr>\n",
       "      <th>4</th>\n",
       "      <td>1</td>\n",
       "      <td>5</td>\n",
       "      <td>054.0 056.0</td>\n",
       "      <td>19-4903CR-HY-060-0930-05400560-0020A-7</td>\n",
       "      <td>20</td>\n",
       "      <td>10.45</td>\n",
       "      <td>33.421</td>\n",
       "      <td>NaN</td>\n",
       "      <td>25.643</td>\n",
       "      <td>NaN</td>\n",
       "      <td>...</td>\n",
       "      <td>NaN</td>\n",
       "      <td>20</td>\n",
       "      <td>NaN</td>\n",
       "      <td>NaN</td>\n",
       "      <td>NaN</td>\n",
       "      <td>NaN</td>\n",
       "      <td>NaN</td>\n",
       "      <td>NaN</td>\n",
       "      <td>NaN</td>\n",
       "      <td>NaN</td>\n",
       "    </tr>\n",
       "  </tbody>\n",
       "</table>\n",
       "<p>5 rows × 74 columns</p>\n",
       "</div>"
      ],
      "text/plain": [
       "   Cst_Cnt  Btl_Cnt       Sta_ID                                Depth_ID  \\\n",
       "0        1        1  054.0 056.0  19-4903CR-HY-060-0930-05400560-0000A-3   \n",
       "1        1        2  054.0 056.0  19-4903CR-HY-060-0930-05400560-0008A-3   \n",
       "2        1        3  054.0 056.0  19-4903CR-HY-060-0930-05400560-0010A-7   \n",
       "3        1        4  054.0 056.0  19-4903CR-HY-060-0930-05400560-0019A-3   \n",
       "4        1        5  054.0 056.0  19-4903CR-HY-060-0930-05400560-0020A-7   \n",
       "\n",
       "   Depthm  T_degC  Salnty  O2ml_L  STheta  O2Sat  ...  R_PHAEO  R_PRES  \\\n",
       "0       0   10.50  33.440     NaN  25.649    NaN  ...      NaN       0   \n",
       "1       8   10.46  33.440     NaN  25.656    NaN  ...      NaN       8   \n",
       "2      10   10.46  33.437     NaN  25.654    NaN  ...      NaN      10   \n",
       "3      19   10.45  33.420     NaN  25.643    NaN  ...      NaN      19   \n",
       "4      20   10.45  33.421     NaN  25.643    NaN  ...      NaN      20   \n",
       "\n",
       "   R_SAMP  DIC1  DIC2  TA1  TA2  pH2  pH1  DIC Quality Comment  \n",
       "0     NaN   NaN   NaN  NaN  NaN  NaN  NaN                  NaN  \n",
       "1     NaN   NaN   NaN  NaN  NaN  NaN  NaN                  NaN  \n",
       "2     NaN   NaN   NaN  NaN  NaN  NaN  NaN                  NaN  \n",
       "3     NaN   NaN   NaN  NaN  NaN  NaN  NaN                  NaN  \n",
       "4     NaN   NaN   NaN  NaN  NaN  NaN  NaN                  NaN  \n",
       "\n",
       "[5 rows x 74 columns]"
      ]
     },
     "execution_count": 4,
     "metadata": {},
     "output_type": "execute_result"
    }
   ],
   "source": [
    "data.head()"
   ]
  },
  {
   "cell_type": "code",
   "execution_count": 7,
   "id": "149dde83-ee66-4fb6-a809-518e15877345",
   "metadata": {},
   "outputs": [
    {
     "name": "stdout",
     "output_type": "stream",
     "text": [
      "<class 'pandas.core.frame.DataFrame'>\n",
      "RangeIndex: 864863 entries, 0 to 864862\n",
      "Data columns (total 74 columns):\n",
      " #   Column               Non-Null Count   Dtype  \n",
      "---  ------               --------------   -----  \n",
      " 0   Cst_Cnt              864863 non-null  int64  \n",
      " 1   Btl_Cnt              864863 non-null  int64  \n",
      " 2   Sta_ID               864863 non-null  object \n",
      " 3   Depth_ID             864863 non-null  object \n",
      " 4   Depthm               864863 non-null  int64  \n",
      " 5   T_degC               853900 non-null  float64\n",
      " 6   Salnty               817509 non-null  float64\n",
      " 7   O2ml_L               696201 non-null  float64\n",
      " 8   STheta               812174 non-null  float64\n",
      " 9   O2Sat                661274 non-null  float64\n",
      " 10  Oxy_µmol/Kg          661268 non-null  float64\n",
      " 11  BtlNum               118667 non-null  float64\n",
      " 12  RecInd               864863 non-null  int64  \n",
      " 13  T_prec               853900 non-null  float64\n",
      " 14  T_qual               23127 non-null   float64\n",
      " 15  S_prec               817509 non-null  float64\n",
      " 16  S_qual               74914 non-null   float64\n",
      " 17  P_qual               673755 non-null  float64\n",
      " 18  O_qual               184676 non-null  float64\n",
      " 19  SThtaq               65823 non-null   float64\n",
      " 20  O2Satq               217797 non-null  float64\n",
      " 21  ChlorA               225272 non-null  float64\n",
      " 22  Chlqua               639166 non-null  float64\n",
      " 23  Phaeop               225271 non-null  float64\n",
      " 24  Phaqua               639170 non-null  float64\n",
      " 25  PO4uM                413317 non-null  float64\n",
      " 26  PO4q                 451786 non-null  float64\n",
      " 27  SiO3uM               354091 non-null  float64\n",
      " 28  SiO3qu               510866 non-null  float64\n",
      " 29  NO2uM                337576 non-null  float64\n",
      " 30  NO2q                 529474 non-null  float64\n",
      " 31  NO3uM                337403 non-null  float64\n",
      " 32  NO3q                 529933 non-null  float64\n",
      " 33  NH3uM                64962 non-null   float64\n",
      " 34  NH3q                 808299 non-null  float64\n",
      " 35  C14As1               14432 non-null   float64\n",
      " 36  C14A1p               12760 non-null   float64\n",
      " 37  C14A1q               848605 non-null  float64\n",
      " 38  C14As2               14414 non-null   float64\n",
      " 39  C14A2p               12742 non-null   float64\n",
      " 40  C14A2q               848623 non-null  float64\n",
      " 41  DarkAs               22649 non-null   float64\n",
      " 42  DarkAp               20457 non-null   float64\n",
      " 43  DarkAq               840440 non-null  float64\n",
      " 44  MeanAs               22650 non-null   float64\n",
      " 45  MeanAp               20457 non-null   float64\n",
      " 46  MeanAq               840439 non-null  float64\n",
      " 47  IncTim               14437 non-null   object \n",
      " 48  LightP               18651 non-null   float64\n",
      " 49  R_Depth              864863 non-null  float64\n",
      " 50  R_TEMP               853900 non-null  float64\n",
      " 51  R_POTEMP             818816 non-null  float64\n",
      " 52  R_SALINITY           817509 non-null  float64\n",
      " 53  R_SIGMA              812007 non-null  float64\n",
      " 54  R_SVA                812092 non-null  float64\n",
      " 55  R_DYNHT              818206 non-null  float64\n",
      " 56  R_O2                 696201 non-null  float64\n",
      " 57  R_O2Sat              666448 non-null  float64\n",
      " 58  R_SIO3               354099 non-null  float64\n",
      " 59  R_PO4                413325 non-null  float64\n",
      " 60  R_NO3                337411 non-null  float64\n",
      " 61  R_NO2                337584 non-null  float64\n",
      " 62  R_NH4                64982 non-null   float64\n",
      " 63  R_CHLA               225276 non-null  float64\n",
      " 64  R_PHAEO              225275 non-null  float64\n",
      " 65  R_PRES               864863 non-null  int64  \n",
      " 66  R_SAMP               122006 non-null  float64\n",
      " 67  DIC1                 1999 non-null    float64\n",
      " 68  DIC2                 224 non-null     float64\n",
      " 69  TA1                  2084 non-null    float64\n",
      " 70  TA2                  234 non-null     float64\n",
      " 71  pH2                  10 non-null      float64\n",
      " 72  pH1                  84 non-null      float64\n",
      " 73  DIC Quality Comment  55 non-null      object \n",
      "dtypes: float64(65), int64(5), object(4)\n",
      "memory usage: 488.3+ MB\n"
     ]
    }
   ],
   "source": [
    "data.info()"
   ]
  },
  {
   "cell_type": "markdown",
   "id": "72d78db8-f172-4f58-ac8c-32f7edb56c93",
   "metadata": {},
   "source": [
    "##### 2. Limit the dataset to columns: [T_degC, Salnty, STheta] and then remove all NaN and NA values\n",
    "- Verify the shape is: (812174, 3)"
   ]
  },
  {
   "cell_type": "code",
   "execution_count": 29,
   "id": "2899b242-a0df-45a2-870d-cafee6c0ce54",
   "metadata": {},
   "outputs": [],
   "source": [
    "# Subset data\n",
    "dat2 = data[['T_degC', 'Salnty', 'STheta']]\n",
    "\n",
    "# Remove NaN and NA\n",
    "dat_cleaned = dat2.dropna()"
   ]
  },
  {
   "cell_type": "code",
   "execution_count": 115,
   "id": "f52592e9-40d0-4783-be3f-3798355d86d5",
   "metadata": {},
   "outputs": [
    {
     "name": "stdout",
     "output_type": "stream",
     "text": [
      "<class 'pandas.core.frame.DataFrame'>\n",
      "Int64Index: 812174 entries, 0 to 864862\n",
      "Data columns (total 3 columns):\n",
      " #   Column  Non-Null Count   Dtype  \n",
      "---  ------  --------------   -----  \n",
      " 0   T_degC  812174 non-null  float64\n",
      " 1   Salnty  812174 non-null  float64\n",
      " 2   STheta  812174 non-null  float64\n",
      "dtypes: float64(3)\n",
      "memory usage: 24.8 MB\n"
     ]
    }
   ],
   "source": [
    "dat_cleaned.info()"
   ]
  },
  {
   "cell_type": "markdown",
   "id": "d48a0c17-7aaa-44ed-b0b9-3825713dbf74",
   "metadata": {},
   "source": [
    "##### 3. Build the following plots using matplotlib:\n",
    "- Scatter: Salnty (salinity of water) vs T_degC\n",
    "- Scatter: STheta (density of water) vs T_degC"
   ]
  },
  {
   "cell_type": "code",
   "execution_count": 30,
   "id": "c908ee8f-27fc-4e41-a1ef-206cee49763d",
   "metadata": {},
   "outputs": [],
   "source": [
    "import matplotlib.pyplot as plt"
   ]
  },
  {
   "cell_type": "code",
   "execution_count": 31,
   "id": "e5ff9ff5-5d87-4a0a-96e3-12af3463edcb",
   "metadata": {},
   "outputs": [
    {
     "data": {
      "image/png": "[encoded data removed]",
      "text/plain": [
       "<Figure size 640x480 with 1 Axes>"
      ]
     },
     "metadata": {},
     "output_type": "display_data"
    }
   ],
   "source": [
    "# create plot\n",
    "plt.scatter(dat_cleaned['Salnty'],dat_cleaned['T_degC'])\n",
    "\n",
    "# add titles and labels\n",
    "plt.title('Salnty (salinity of water) vs Temperature')\n",
    "plt.xlabel('Salinity of Water')\n",
    "plt.ylabel('Temperature (degrees Celsius)')\n",
    "\n",
    "# display the plot\n",
    "plt.show()"
   ]
  },
  {
   "cell_type": "code",
   "execution_count": 32,
   "id": "e909f8eb-eb4b-4006-8d4a-b5234e2fae3e",
   "metadata": {},
   "outputs": [
    {
     "data": {
      "image/png": "[encoded data removed]",
      "text/plain": [
       "<Figure size 640x480 with 1 Axes>"
      ]
     },
     "metadata": {},
     "output_type": "display_data"
    }
   ],
   "source": [
    "# create plot\n",
    "plt.scatter(dat_cleaned['STheta'], dat_cleaned['T_degC'])\n",
    "\n",
    "# add titles and labels\n",
    "plt.title('STheta (density of water) vs Temperature')\n",
    "plt.xlabel('Density of Water')\n",
    "plt.ylabel('Temperature (degrees Celsius)')\n",
    "\n",
    "# display the plot\n",
    "plt.show()"
   ]
  },
  {
   "cell_type": "markdown",
   "id": "8cf3f94a-80c9-455a-8f87-d85c97caceff",
   "metadata": {},
   "source": [
    "##### 4. Build the following plot using seaborn:\n",
    "- Distribution of T_degC"
   ]
  },
  {
   "cell_type": "code",
   "execution_count": 19,
   "id": "951af7b1-6832-4991-88ab-12ec0fce1330",
   "metadata": {},
   "outputs": [],
   "source": [
    "import seaborn as sns"
   ]
  },
  {
   "cell_type": "code",
   "execution_count": 20,
   "id": "b0056957-b20e-49b5-a86c-e6b3df5b5afd",
   "metadata": {},
   "outputs": [
    {
     "data": {
      "text/plain": [
       "<seaborn.axisgrid.FacetGrid at 0x7f78b7624190>"
      ]
     },
     "execution_count": 20,
     "metadata": {},
     "output_type": "execute_result"
    },
    {
     "data": {
      "image/png": "[encoded data removed]",
      "text/plain": [
       "<Figure size 500x500 with 1 Axes>"
      ]
     },
     "metadata": {},
     "output_type": "display_data"
    }
   ],
   "source": [
    "sns.displot(dat_cleaned['T_degC'])"
   ]
  },
  {
   "cell_type": "markdown",
   "id": "c53ef0fc-0c91-4c04-ba8b-76034b79dccb",
   "metadata": {},
   "source": [
    "##### 5. Remove obvious outliers from step 3b:\n",
    "- Shape for clean data is (812168, 3)"
   ]
  },
  {
   "cell_type": "code",
   "execution_count": 34,
   "id": "8945fea4-fe38-48e4-857b-07b345ec2b32",
   "metadata": {},
   "outputs": [],
   "source": [
    "# remove valaues from STheta that are greater than 50\n",
    "dat_cln = pd.DataFrame(dat_cleaned[dat_cleaned['STheta'] <= 50])"
   ]
  },
  {
   "cell_type": "code",
   "execution_count": 36,
   "id": "128522d1-f3f9-4576-b837-365a6edceba8",
   "metadata": {},
   "outputs": [
    {
     "name": "stdout",
     "output_type": "stream",
     "text": [
      "<class 'pandas.core.frame.DataFrame'>\n",
      "Int64Index: 812168 entries, 0 to 864862\n",
      "Data columns (total 3 columns):\n",
      " #   Column  Non-Null Count   Dtype  \n",
      "---  ------  --------------   -----  \n",
      " 0   T_degC  812168 non-null  float64\n",
      " 1   Salnty  812168 non-null  float64\n",
      " 2   STheta  812168 non-null  float64\n",
      "dtypes: float64(3)\n",
      "memory usage: 24.8 MB\n"
     ]
    }
   ],
   "source": [
    "dat_cln.info()"
   ]
  },
  {
   "cell_type": "markdown",
   "id": "549ee8b7-aa40-4030-b4ed-8456033a84a6",
   "metadata": {},
   "source": [
    "##### 6. Plot 3b again – does it look better? Explain"
   ]
  },
  {
   "cell_type": "code",
   "execution_count": 37,
   "id": "fecfb0ad-71bb-4c8e-9e6f-22b5c66f088e",
   "metadata": {},
   "outputs": [
    {
     "data": {
      "image/png": "[encoded data removed]",
      "text/plain": [
       "<Figure size 640x480 with 1 Axes>"
      ]
     },
     "metadata": {},
     "output_type": "display_data"
    }
   ],
   "source": [
    "# create plot\n",
    "plt.scatter(dat_cln['STheta'], dat_cln['T_degC'])\n",
    "\n",
    "# add titles and labels\n",
    "plt.title('STheta (density of water) vs Temperature')\n",
    "plt.xlabel('Density of Water')\n",
    "plt.ylabel('Temperature (degrees Celsius)')\n",
    "\n",
    "# display the plot\n",
    "plt.show()"
   ]
  },
  {
   "cell_type": "markdown",
   "id": "6ab9682d-5991-4c4a-bd79-03840717c44e",
   "metadata": {},
   "source": [
    "Yes, this scatter plot is much better than our previous one in 3b. In our previous plot, the outliers caused our view of the data to look singular and grouped together. However, when we remove the outliers, we can now see a more distinct trend that gives us a completely different perspective on the relationship between the density of water and the temperature – it's a clear negative linear relationship."
   ]
  },
  {
   "cell_type": "markdown",
   "id": "06e44099-5ed1-43ec-aee4-03dc4492ac68",
   "metadata": {},
   "source": [
    "#### Part B: Train & Test Split"
   ]
  },
  {
   "cell_type": "code",
   "execution_count": 40,
   "id": "4b43012b-b773-475d-ad75-283eb6cf55c7",
   "metadata": {},
   "outputs": [],
   "source": [
    "from sklearn.model_selection import train_test_split"
   ]
  },
  {
   "cell_type": "code",
   "execution_count": 45,
   "id": "7151923e-d6c8-4e86-8adc-347b3034f3d9",
   "metadata": {},
   "outputs": [],
   "source": [
    "# X and y matrices\n",
    "X = dat_cln[['Salnty','STheta']]\n",
    "y = dat_cln[['T_degC']]\n",
    "\n",
    "# split the data 80:20 for train to test ratio\n",
    "X_train, X_test, y_train, y_test = train_test_split(X, y, test_size = 0.2, random_state = 42)"
   ]
  },
  {
   "cell_type": "markdown",
   "id": "8e17a28a-12d0-4391-912f-ca95b3b4ebde",
   "metadata": {},
   "source": [
    "#### Part C: Linear Regression Using Normal Equation - Coded in Python\n",
    "Use numpy to build linear regression model. Use closed-form solution: Normal Equation"
   ]
  },
  {
   "cell_type": "code",
   "execution_count": 47,
   "id": "d3771e41-d4e1-46e0-8aed-c825a7e3a112",
   "metadata": {},
   "outputs": [],
   "source": [
    "import numpy as np"
   ]
  },
  {
   "cell_type": "markdown",
   "id": "d5d37ee2-208a-4fe9-993b-967ffb849ac4",
   "metadata": {},
   "source": [
    "##### 1. Build normal equation using numpy & fit using training data.\n",
    "- Note: include intercept value of 1 for every observation in X_train"
   ]
  },
  {
   "cell_type": "code",
   "execution_count": 70,
   "id": "3ae73a76-55d5-49d5-b948-6557693a8457",
   "metadata": {},
   "outputs": [],
   "source": [
    "X_b = np.c_[np.ones((X.shape[0],1)), X] # add x0 = 1 to each instance\n",
    "theta_best = np.linalg.inv(X_b.T.dot(X_b)).dot(X_b.T).dot(y)"
   ]
  },
  {
   "cell_type": "markdown",
   "id": "3aefff40-f865-4bd4-b4a8-ec1450b0dcc4",
   "metadata": {},
   "source": [
    "##### 2. Print out coefficients"
   ]
  },
  {
   "cell_type": "code",
   "execution_count": 111,
   "id": "c41609c6-9477-4dc2-8f6e-184c8a1cff77",
   "metadata": {},
   "outputs": [
    {
     "data": {
      "text/html": [
       "<div>\n",
       "<style scoped>\n",
       "    .dataframe tbody tr th:only-of-type {\n",
       "        vertical-align: middle;\n",
       "    }\n",
       "\n",
       "    .dataframe tbody tr th {\n",
       "        vertical-align: top;\n",
       "    }\n",
       "\n",
       "    .dataframe thead th {\n",
       "        text-align: right;\n",
       "    }\n",
       "</style>\n",
       "<table border=\"1\" class=\"dataframe\">\n",
       "  <thead>\n",
       "    <tr style=\"text-align: right;\">\n",
       "      <th></th>\n",
       "      <th>Normal Equation</th>\n",
       "    </tr>\n",
       "  </thead>\n",
       "  <tbody>\n",
       "    <tr>\n",
       "      <th>Intercept</th>\n",
       "      <td>35.708843</td>\n",
       "    </tr>\n",
       "    <tr>\n",
       "      <th>Salnty</th>\n",
       "      <td>3.108449</td>\n",
       "    </tr>\n",
       "    <tr>\n",
       "      <th>STheta</th>\n",
       "      <td>-5.037552</td>\n",
       "    </tr>\n",
       "  </tbody>\n",
       "</table>\n",
       "</div>"
      ],
      "text/plain": [
       "           Normal Equation\n",
       "Intercept        35.708843\n",
       "Salnty            3.108449\n",
       "STheta           -5.037552"
      ]
     },
     "execution_count": 111,
     "metadata": {},
     "output_type": "execute_result"
    }
   ],
   "source": [
    "coeff_names = ['Intercept','Salnty', 'STheta']\n",
    "\n",
    "coeff = {\n",
    "    'Normal Equation': [theta_best[0,0],theta_best[1,0],theta_best[2,0]]\n",
    "}\n",
    "\n",
    "coeff = pd.DataFrame(coeff)\n",
    "coeff.index = coeff_names\n",
    "\n",
    "coeff"
   ]
  },
  {
   "cell_type": "markdown",
   "id": "71b5848b-3243-4267-bce2-6780b107bf26",
   "metadata": {},
   "source": [
    "##### 3. Predict T_degC for the test data using the fitted values in (b)\n",
    "- Include: intercept value of 1 for every observation in X_test\n",
    "- Call predictions y_pred"
   ]
  },
  {
   "cell_type": "code",
   "execution_count": 72,
   "id": "88ba3787-0fc4-43c4-9b6d-11f073c97d36",
   "metadata": {},
   "outputs": [],
   "source": [
    "X_test_b = np.c_[np.ones((X_test.shape[0], 1)), X_test]"
   ]
  },
  {
   "cell_type": "code",
   "execution_count": 73,
   "id": "8cd7f3fb-8ccb-4bf6-9b3f-12f61d6fd3b0",
   "metadata": {},
   "outputs": [],
   "source": [
    "y_pred = X_test_b.dot(theta_best)"
   ]
  },
  {
   "cell_type": "markdown",
   "id": "ffbfe3bd-6ceb-4ccb-be1c-f21470de2700",
   "metadata": {},
   "source": [
    "##### 4. Calculate the following for test data:\n",
    "- mean squared error\n",
    "- r-squared\n",
    "- explained variance"
   ]
  },
  {
   "cell_type": "code",
   "execution_count": 80,
   "id": "e046a0b2-bbdf-45d2-8947-e54b9cd51a2c",
   "metadata": {},
   "outputs": [],
   "source": [
    "from sklearn.metrics import mean_squared_error\n",
    "from sklearn.metrics import r2_score\n",
    "from sklearn.metrics import explained_variance_score"
   ]
  },
  {
   "cell_type": "code",
   "execution_count": 113,
   "id": "680658b5-f2d9-4221-bb08-1aaedf199208",
   "metadata": {},
   "outputs": [
    {
     "data": {
      "text/html": [
       "<div>\n",
       "<style scoped>\n",
       "    .dataframe tbody tr th:only-of-type {\n",
       "        vertical-align: middle;\n",
       "    }\n",
       "\n",
       "    .dataframe tbody tr th {\n",
       "        vertical-align: top;\n",
       "    }\n",
       "\n",
       "    .dataframe thead th {\n",
       "        text-align: right;\n",
       "    }\n",
       "</style>\n",
       "<table border=\"1\" class=\"dataframe\">\n",
       "  <thead>\n",
       "    <tr style=\"text-align: right;\">\n",
       "      <th></th>\n",
       "      <th>Normal Equation</th>\n",
       "    </tr>\n",
       "  </thead>\n",
       "  <tbody>\n",
       "    <tr>\n",
       "      <th>Mean Squared Error</th>\n",
       "      <td>0.233771</td>\n",
       "    </tr>\n",
       "    <tr>\n",
       "      <th>R-Squared</th>\n",
       "      <td>0.986893</td>\n",
       "    </tr>\n",
       "    <tr>\n",
       "      <th>Explained Variance</th>\n",
       "      <td>0.986893</td>\n",
       "    </tr>\n",
       "  </tbody>\n",
       "</table>\n",
       "</div>"
      ],
      "text/plain": [
       "                    Normal Equation\n",
       "Mean Squared Error         0.233771\n",
       "R-Squared                  0.986893\n",
       "Explained Variance         0.986893"
      ]
     },
     "execution_count": 113,
     "metadata": {},
     "output_type": "execute_result"
    }
   ],
   "source": [
    "metric_names = [\"Mean Squared Error\", \"R-Squared\", \"Explained Variance\"]\n",
    "\n",
    "lr_metrics = {\n",
    "    'Normal Equation': [mean_squared_error(y_test, y_pred),\n",
    "                        r2_score(y_test,y_pred),\n",
    "                        explained_variance_score(y_test, y_pred)]\n",
    "}\n",
    "\n",
    "lr_metrics = pd.DataFrame(lr_metrics)\n",
    "lr_metrics.index = metric_names\n",
    "\n",
    "lr_metrics"
   ]
  },
  {
   "cell_type": "markdown",
   "id": "ed52d350-dd97-434c-9e5e-35c5313ad318",
   "metadata": {},
   "source": [
    "##### 5. Create scatterplot that shows actual versus predicted values for the T_degC"
   ]
  },
  {
   "cell_type": "code",
   "execution_count": 84,
   "id": "448e0ed5-47d1-4aaa-9156-25d94e2e0ed3",
   "metadata": {},
   "outputs": [
    {
     "data": {
      "image/png": "[encoded data removed]",
      "text/plain": [
       "<Figure size 640x480 with 1 Axes>"
      ]
     },
     "metadata": {},
     "output_type": "display_data"
    }
   ],
   "source": [
    "# create plot\n",
    "plt.scatter(y_test, y_pred)\n",
    "\n",
    "# title & labels\n",
    "plt.title('Actual vs. Predicted Values for Temperature')\n",
    "plt.xlabel('Actual test values')\n",
    "plt.ylabel('Predicted values')\n",
    "\n",
    "# show plot\n",
    "plt.show()"
   ]
  },
  {
   "cell_type": "markdown",
   "id": "f3ceeb3b-655e-481e-a9ed-ac8b1429d561",
   "metadata": {},
   "source": [
    "#### Part D: Using sklearn API"
   ]
  },
  {
   "cell_type": "code",
   "execution_count": 85,
   "id": "650c5b77-f319-4060-b23a-e28400396b57",
   "metadata": {},
   "outputs": [],
   "source": [
    "from sklearn import linear_model"
   ]
  },
  {
   "cell_type": "markdown",
   "id": "021d13bc-7f5f-4476-b467-2bafb6cdfdec",
   "metadata": {},
   "source": [
    "##### 1. Create instance of LinearRegression class called \"lin_reg\". Fit lin_reg using X_train & y_train\n",
    "- note: sklearn will automatically add intercept term"
   ]
  },
  {
   "cell_type": "code",
   "execution_count": 86,
   "id": "9ddc0bb4-86c5-4d94-949b-31cc413d28c4",
   "metadata": {},
   "outputs": [
    {
     "data": {
      "text/html": [
       "<style>#sk-container-id-1 {color: black;}#sk-container-id-1 pre{padding: 0;}#sk-container-id-1 div.sk-toggleable {background-color: white;}#sk-container-id-1 label.sk-toggleable__label {cursor: pointer;display: block;width: 100%;margin-bottom: 0;padding: 0.3em;box-sizing: border-box;text-align: center;}#sk-container-id-1 label.sk-toggleable__label-arrow:before {content: \"▸\";float: left;margin-right: 0.25em;color: #696969;}#sk-container-id-1 label.sk-toggleable__label-arrow:hover:before {color: black;}#sk-container-id-1 div.sk-estimator:hover label.sk-toggleable__label-arrow:before {color: black;}#sk-container-id-1 div.sk-toggleable__content {max-height: 0;max-width: 0;overflow: hidden;text-align: left;background-color: #f0f8ff;}#sk-container-id-1 div.sk-toggleable__content pre {margin: 0.2em;color: black;border-radius: 0.25em;background-color: #f0f8ff;}#sk-container-id-1 input.sk-toggleable__control:checked~div.sk-toggleable__content {max-height: 200px;max-width: 100%;overflow: auto;}#sk-container-id-1 input.sk-toggleable__control:checked~label.sk-toggleable__label-arrow:before {content: \"▾\";}#sk-container-id-1 div.sk-estimator input.sk-toggleable__control:checked~label.sk-toggleable__label {background-color: #d4ebff;}#sk-container-id-1 div.sk-label input.sk-toggleable__control:checked~label.sk-toggleable__label {background-color: #d4ebff;}#sk-container-id-1 input.sk-hidden--visually {border: 0;clip: rect(1px 1px 1px 1px);clip: rect(1px, 1px, 1px, 1px);height: 1px;margin: -1px;overflow: hidden;padding: 0;position: absolute;width: 1px;}#sk-container-id-1 div.sk-estimator {font-family: monospace;background-color: #f0f8ff;border: 1px dotted black;border-radius: 0.25em;box-sizing: border-box;margin-bottom: 0.5em;}#sk-container-id-1 div.sk-estimator:hover {background-color: #d4ebff;}#sk-container-id-1 div.sk-parallel-item::after {content: \"\";width: 100%;border-bottom: 1px solid gray;flex-grow: 1;}#sk-container-id-1 div.sk-label:hover label.sk-toggleable__label {background-color: #d4ebff;}#sk-container-id-1 div.sk-serial::before {content: \"\";position: absolute;border-left: 1px solid gray;box-sizing: border-box;top: 0;bottom: 0;left: 50%;z-index: 0;}#sk-container-id-1 div.sk-serial {display: flex;flex-direction: column;align-items: center;background-color: white;padding-right: 0.2em;padding-left: 0.2em;position: relative;}#sk-container-id-1 div.sk-item {position: relative;z-index: 1;}#sk-container-id-1 div.sk-parallel {display: flex;align-items: stretch;justify-content: center;background-color: white;position: relative;}#sk-container-id-1 div.sk-item::before, #sk-container-id-1 div.sk-parallel-item::before {content: \"\";position: absolute;border-left: 1px solid gray;box-sizing: border-box;top: 0;bottom: 0;left: 50%;z-index: -1;}#sk-container-id-1 div.sk-parallel-item {display: flex;flex-direction: column;z-index: 1;position: relative;background-color: white;}#sk-container-id-1 div.sk-parallel-item:first-child::after {align-self: flex-end;width: 50%;}#sk-container-id-1 div.sk-parallel-item:last-child::after {align-self: flex-start;width: 50%;}#sk-container-id-1 div.sk-parallel-item:only-child::after {width: 0;}#sk-container-id-1 div.sk-dashed-wrapped {border: 1px dashed gray;margin: 0 0.4em 0.5em 0.4em;box-sizing: border-box;padding-bottom: 0.4em;background-color: white;}#sk-container-id-1 div.sk-label label {font-family: monospace;font-weight: bold;display: inline-block;line-height: 1.2em;}#sk-container-id-1 div.sk-label-container {text-align: center;}#sk-container-id-1 div.sk-container {/* jupyter's `normalize.less` sets `[hidden] { display: none; }` but bootstrap.min.css set `[hidden] { display: none !important; }` so we also need the `!important` here to be able to override the default hidden behavior on the sphinx rendered scikit-learn.org. See: https://github.com/scikit-learn/scikit-learn/issues/21755 */display: inline-block !important;position: relative;}#sk-container-id-1 div.sk-text-repr-fallback {display: none;}</style><div id=\"sk-container-id-1\" class=\"sk-top-container\"><div class=\"sk-text-repr-fallback\"><pre>LinearRegression()</pre><b>In a Jupyter environment, please rerun this cell to show the HTML representation or trust the notebook. <br />On GitHub, the HTML representation is unable to render, please try loading this page with nbviewer.org.</b></div><div class=\"sk-container\" hidden><div class=\"sk-item\"><div class=\"sk-estimator sk-toggleable\"><input class=\"sk-toggleable__control sk-hidden--visually\" id=\"sk-estimator-id-1\" type=\"checkbox\" checked><label for=\"sk-estimator-id-1\" class=\"sk-toggleable__label sk-toggleable__label-arrow\">LinearRegression</label><div class=\"sk-toggleable__content\"><pre>LinearRegression()</pre></div></div></div></div></div>"
      ],
      "text/plain": [
       "LinearRegression()"
      ]
     },
     "execution_count": 86,
     "metadata": {},
     "output_type": "execute_result"
    }
   ],
   "source": [
    "lin_reg = linear_model.LinearRegression()\n",
    "lin_reg.fit(X_train, y_train)"
   ]
  },
  {
   "cell_type": "markdown",
   "id": "4831b20f-9986-44b9-9444-91ae11557c67",
   "metadata": {},
   "source": [
    "##### 2. Print coefficients (including intercept)\n",
    "- note: these should be exactly the same as Normal Equation coef"
   ]
  },
  {
   "cell_type": "code",
   "execution_count": 112,
   "id": "88d1d400-19d2-4dd7-ab99-1bf9286b520d",
   "metadata": {},
   "outputs": [
    {
     "data": {
      "text/html": [
       "<div>\n",
       "<style scoped>\n",
       "    .dataframe tbody tr th:only-of-type {\n",
       "        vertical-align: middle;\n",
       "    }\n",
       "\n",
       "    .dataframe tbody tr th {\n",
       "        vertical-align: top;\n",
       "    }\n",
       "\n",
       "    .dataframe thead th {\n",
       "        text-align: right;\n",
       "    }\n",
       "</style>\n",
       "<table border=\"1\" class=\"dataframe\">\n",
       "  <thead>\n",
       "    <tr style=\"text-align: right;\">\n",
       "      <th></th>\n",
       "      <th>Normal Equation</th>\n",
       "      <th>sklearn</th>\n",
       "    </tr>\n",
       "  </thead>\n",
       "  <tbody>\n",
       "    <tr>\n",
       "      <th>Intercept</th>\n",
       "      <td>35.708843</td>\n",
       "      <td>35.644512</td>\n",
       "    </tr>\n",
       "    <tr>\n",
       "      <th>Salnty</th>\n",
       "      <td>3.108449</td>\n",
       "      <td>3.111512</td>\n",
       "    </tr>\n",
       "    <tr>\n",
       "      <th>STheta</th>\n",
       "      <td>-5.037552</td>\n",
       "      <td>-5.039073</td>\n",
       "    </tr>\n",
       "  </tbody>\n",
       "</table>\n",
       "</div>"
      ],
      "text/plain": [
       "           Normal Equation    sklearn\n",
       "Intercept        35.708843  35.644512\n",
       "Salnty            3.108449   3.111512\n",
       "STheta           -5.037552  -5.039073"
      ]
     },
     "execution_count": 112,
     "metadata": {},
     "output_type": "execute_result"
    }
   ],
   "source": [
    "coeff['sklearn'] = [lin_reg.intercept_[0],lin_reg.coef_[0,0],lin_reg.coef_[0,1]]\n",
    "\n",
    "coeff"
   ]
  },
  {
   "cell_type": "markdown",
   "id": "11b7b7f9-3745-4dc3-8070-4ad0dfd4558f",
   "metadata": {},
   "source": [
    "##### 3. Predict T_degC for the test data using the fitted values in b.\n",
    "- Call predictions y_pred_sklearn"
   ]
  },
  {
   "cell_type": "code",
   "execution_count": 101,
   "id": "8875b77f-2aec-4d62-b3b7-e7fe1745fcba",
   "metadata": {},
   "outputs": [],
   "source": [
    "y_pred_sklearn = lin_reg.predict(X_test)"
   ]
  },
  {
   "cell_type": "markdown",
   "id": "2dcc7573-2ef1-4330-96ed-617b72422d56",
   "metadata": {},
   "source": [
    "##### 4. Calculate the following for the test data:\n",
    "- mean squared error\n",
    "- r-squared\n",
    "- explained variance"
   ]
  },
  {
   "cell_type": "code",
   "execution_count": 114,
   "id": "5024d3fc-9e6a-40f7-9d8a-2cfae1e8d5a7",
   "metadata": {},
   "outputs": [
    {
     "data": {
      "text/html": [
       "<div>\n",
       "<style scoped>\n",
       "    .dataframe tbody tr th:only-of-type {\n",
       "        vertical-align: middle;\n",
       "    }\n",
       "\n",
       "    .dataframe tbody tr th {\n",
       "        vertical-align: top;\n",
       "    }\n",
       "\n",
       "    .dataframe thead th {\n",
       "        text-align: right;\n",
       "    }\n",
       "</style>\n",
       "<table border=\"1\" class=\"dataframe\">\n",
       "  <thead>\n",
       "    <tr style=\"text-align: right;\">\n",
       "      <th></th>\n",
       "      <th>Normal Equation</th>\n",
       "      <th>sklearn</th>\n",
       "    </tr>\n",
       "  </thead>\n",
       "  <tbody>\n",
       "    <tr>\n",
       "      <th>Mean Squared Error</th>\n",
       "      <td>0.233771</td>\n",
       "      <td>0.233783</td>\n",
       "    </tr>\n",
       "    <tr>\n",
       "      <th>R-Squared</th>\n",
       "      <td>0.986893</td>\n",
       "      <td>0.986892</td>\n",
       "    </tr>\n",
       "    <tr>\n",
       "      <th>Explained Variance</th>\n",
       "      <td>0.986893</td>\n",
       "      <td>0.986892</td>\n",
       "    </tr>\n",
       "  </tbody>\n",
       "</table>\n",
       "</div>"
      ],
      "text/plain": [
       "                    Normal Equation   sklearn\n",
       "Mean Squared Error         0.233771  0.233783\n",
       "R-Squared                  0.986893  0.986892\n",
       "Explained Variance         0.986893  0.986892"
      ]
     },
     "execution_count": 114,
     "metadata": {},
     "output_type": "execute_result"
    }
   ],
   "source": [
    "lr_metrics['sklearn'] = [mean_squared_error(y_test, y_pred_sklearn),\n",
    "                         r2_score(y_test,y_pred_sklearn),\n",
    "                         explained_variance_score(y_test, y_pred_sklearn)]\n",
    "\n",
    "lr_metrics"
   ]
  },
  {
   "cell_type": "markdown",
   "id": "fcbaf6dd-ed79-4274-8bf8-46442fe72c06",
   "metadata": {},
   "source": [
    "##### 5. Create scatterplot that shows actual versus predicted values for T_degC"
   ]
  },
  {
   "cell_type": "code",
   "execution_count": 104,
   "id": "db4acda7-ac7d-429d-a3dd-a8187c0ce693",
   "metadata": {},
   "outputs": [
    {
     "data": {
      "image/png": "[encoded data removed]",
      "text/plain": [
       "<Figure size 640x480 with 1 Axes>"
      ]
     },
     "metadata": {},
     "output_type": "display_data"
    }
   ],
   "source": [
    "# create plot\n",
    "plt.scatter(y_test, y_pred_sklearn)\n",
    "\n",
    "# title & labels\n",
    "plt.title('Actual vs. sklearn Predicted Values for Temperature')\n",
    "plt.xlabel('Actual test values')\n",
    "plt.ylabel('sklearn Predicted values')\n",
    "\n",
    "# show plot\n",
    "plt.show()"
   ]
  },
  {
   "cell_type": "markdown",
   "id": "c1789e46-39ef-44ae-9b3c-27247ebe1303",
   "metadata": {},
   "source": [
    "#### Part E: Conceptual Questions"
   ]
  },
  {
   "cell_type": "markdown",
   "id": "da2a0cb2-8f63-4e90-b530-dd906c50a85e",
   "metadata": {},
   "source": [
    "##### 1. Why is it important to have a test set?\n",
    "It's important to have a test set to avoid overfitting our model to the sample data that we have. We use this unseen data to have a more unbiased assessment of the model's performance."
   ]
  },
  {
   "cell_type": "markdown",
   "id": "f5510b6c-18e7-47db-b146-ac614eebd316",
   "metadata": {},
   "source": [
    "##### 2. If the normal equation always provides a solution, when would we not want to use it?\n",
    "The normal equation is not as efficient and does not handle edge cases as nicely - such as if the number of instances is greater than the number of features, or if some features are redundant but the pseudoinverse is defined. Another instance when we would not want to use the Normal Equation is when the computational complexity increases."
   ]
  },
  {
   "cell_type": "markdown",
   "id": "a3588145-8f73-4415-80bd-6b89bce0f0a3",
   "metadata": {},
   "source": [
    "##### 3. How might we improve the fit of our models from Part C & D?\n",
    "We could attempt to improve the fit of the model by transforming the response or we could transform the Salnty predictor. Additionally, we could attempt to clean the data more to remove any outliers that that we can see in the scatter plot. "
   ]
  },
  {
   "cell_type": "markdown",
   "id": "d3d19632-3cc2-4c7e-bdb6-eeaa97f27667",
   "metadata": {},
   "source": [
    "##### 4. As we move further into ML, we will need to continually consider the bias-variance tradeoff. Explain what bias is and what variance is in regards to the bias-variance tradeoff.\n",
    "In the context of the bias-variance tradeoff, bias is model's training error and the variance is the difference between generalized error and training error. There is a tradeoff between these two because a model with higher variance will have lower training error (bias) but be at risk overfitting, but a model with lower variance will have greater bias and underfit the data - missing some key patterns."
   ]
  },
  {
   "cell_type": "markdown",
   "id": "98b536ea-2f93-41dd-8d28-5beb05c815c4",
   "metadata": {},
   "source": [
    "##### 5. In a linear regression model, how might we reduce bias?\n",
    "To reduce bias, we can increase the number of features to increase the model capcacity or reduce the model's constraints."
   ]
  },
  {
   "cell_type": "markdown",
   "id": "56d34e41-6537-4998-8626-43861d90cf57",
   "metadata": {},
   "source": [
    "##### 6. In a linear regression model, how might we reduce variance?\n",
    "To reduce variance, there are several things we can do. We could reduce the model's capacity be removing one of the parameters, get more training data, or improve the training data quality by reducing noise."
   ]
  },
  {
   "cell_type": "code",
   "execution_count": null,
   "id": "c20dab60-2ac4-418f-b8c1-3d3f7cbaf62b",
   "metadata": {},
   "outputs": [],
   "source": []
  }
 ],
 "metadata": {
  "kernelspec": {
   "display_name": "Python 3 (ipykernel)",
   "language": "python",
   "name": "python3"
  },
  "language_info": {
   "codemirror_mode": {
    "name": "ipython",
    "version": 3
   },
   "file_extension": ".py",
   "mimetype": "text/x-python",
   "name": "python",
   "nbconvert_exporter": "python",
   "pygments_lexer": "ipython3",
   "version": "3.11.7"
  }
 },
 "nbformat": 4,
 "nbformat_minor": 5
}

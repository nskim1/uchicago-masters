{
 "cells": [
  {
   "cell_type": "markdown",
   "id": "58f8f768-d60e-46d0-b5ac-6e904e789227",
   "metadata": {},
   "source": [
    "### Assignment 7 - Detect computer security breach using RNNs and LSTMs\n",
    "#### Natalie Kim"
   ]
  },
  {
   "cell_type": "markdown",
   "id": "258b6ede-c8df-422e-a9e5-bab17e880a03",
   "metadata": {},
   "source": [
    "### Part A: Recurrent Neural Network & Classification\n",
    "The objective is to detect the security breach by predicting suspicious access using an RNN model and the provided Logfile data.\n",
    "\n",
    "Logfile data includes login information like LogID, Timestamp, Method, Path, Status Code, Source, Remote Address, User Agent, etc. THE last incdicator in each row denotes breach(1) and no breach(0) which is the target variable."
   ]
  },
  {
   "cell_type": "markdown",
   "id": "ef032998-9159-4f9e-aa98-024222edf3ff",
   "metadata": {},
   "source": [
    "#### 1. Data Processing: \n",
    "This data set is a bit messy, so the preprocessing portion is largely a tutorial to make sure students have data ready for keras.\n",
    "##### a) Import the following libraries:"
   ]
  },
  {
   "cell_type": "code",
   "execution_count": 1,
   "id": "211f5b6d-7262-4c04-8475-da4f5b930c12",
   "metadata": {},
   "outputs": [],
   "source": [
    "import sys\n",
    "import os\n",
    "import json\n",
    "import pandas as pd\n",
    "import numpy\n",
    "import optparse\n",
    "import tensorflow"
   ]
  },
  {
   "cell_type": "code",
   "execution_count": 2,
   "id": "f7408deb-bec0-4d65-93ce-4d041010cf10",
   "metadata": {},
   "outputs": [],
   "source": [
    "from keras.callbacks import TensorBoard\n",
    "from keras.models import Sequential, load_model\n",
    "from keras.layers import LSTM, Dense, Dropout\n",
    "from keras.layers import Embedding\n",
    "from keras.preprocessing import sequence\n",
    "from tensorflow.keras.preprocessing.text import Tokenizer\n",
    "from collections import OrderedDict"
   ]
  },
  {
   "cell_type": "markdown",
   "id": "e1164dd4-c899-4c85-ac0d-e73a6681d506",
   "metadata": {},
   "source": [
    "##### b) Read code"
   ]
  },
  {
   "cell_type": "code",
   "execution_count": 3,
   "id": "b7fc20d7-4270-4fb0-9dab-c87c2374725d",
   "metadata": {},
   "outputs": [],
   "source": [
    "filepath = \"/Users/nataliekim/Library/CloudStorage/OneDrive-TheUniversityofChicago/machine learning/ml data/dev-access.csv\"\n",
    "dataframe = pd.read_csv(filepath, engine = 'python', quotechar = '|', header=None)"
   ]
  },
  {
   "cell_type": "markdown",
   "id": "488a3ee0-6179-4721-8836-fd0a3cf5e36b",
   "metadata": {},
   "source": [
    "##### c) Convert to numpy.ndarray type:"
   ]
  },
  {
   "cell_type": "code",
   "execution_count": 4,
   "id": "0d9b0444-4d11-4245-bb77-692b0178581b",
   "metadata": {},
   "outputs": [],
   "source": [
    "dataset = dataframe.values"
   ]
  },
  {
   "cell_type": "markdown",
   "id": "8fb68d65-382d-43a0-84ab-912b5e9e9131",
   "metadata": {},
   "source": [
    "##### d) Check shape of the data set"
   ]
  },
  {
   "cell_type": "code",
   "execution_count": 5,
   "id": "b609883e-0f30-4536-846d-f37a58bf3db5",
   "metadata": {},
   "outputs": [
    {
     "name": "stdout",
     "output_type": "stream",
     "text": [
      "dimensions: ((26773, 2))\n"
     ]
    }
   ],
   "source": [
    "print(f'dimensions: ({dataset.shape})')"
   ]
  },
  {
   "cell_type": "code",
   "execution_count": 6,
   "id": "2cff5d4c-ed04-4a54-a226-25047cfcd486",
   "metadata": {},
   "outputs": [],
   "source": [
    "#dataset[:5,:]"
   ]
  },
  {
   "cell_type": "markdown",
   "id": "960705c9-6ee9-4b17-b91a-2efa77242329",
   "metadata": {},
   "source": [
    "##### e) Store all rows and the 0th index as the feature data:"
   ]
  },
  {
   "cell_type": "code",
   "execution_count": 7,
   "id": "dbbc3127-3fbb-4032-800a-0651f1b6b5ad",
   "metadata": {},
   "outputs": [],
   "source": [
    "X = dataset[:,0]"
   ]
  },
  {
   "cell_type": "markdown",
   "id": "d8f1cfe0-198b-4b2b-81ec-4e0de2d2a52c",
   "metadata": {},
   "source": [
    "##### f) Store all rows and index 1 as the target variable"
   ]
  },
  {
   "cell_type": "code",
   "execution_count": 8,
   "id": "8d6bd1ba-9c4e-43b3-866f-654894218e81",
   "metadata": {},
   "outputs": [],
   "source": [
    "Y = dataset[:,1]"
   ]
  },
  {
   "cell_type": "markdown",
   "id": "ce0cb4d5-e326-4d1d-a71d-9cc10c7e4c22",
   "metadata": {},
   "source": [
    "##### g) Clean up predictors. Remove features that are not valuable, such as timestamp and source"
   ]
  },
  {
   "cell_type": "code",
   "execution_count": 9,
   "id": "62313b3f-37a0-425e-a40d-f0fa8b6e63aa",
   "metadata": {},
   "outputs": [],
   "source": [
    "for index, item in enumerate(X):\n",
    "    # Quick hack to space out json elements\n",
    "    reqJson = json.loads(item, object_pairs_hook=OrderedDict)\n",
    "    del reqJson['timestamp']\n",
    "    del reqJson['headers']\n",
    "    del reqJson['source']\n",
    "    del reqJson['route']\n",
    "    del reqJson['responsePayload']\n",
    "    X[index] = json.dumps(reqJson, separators=(',', ':'))"
   ]
  },
  {
   "cell_type": "markdown",
   "id": "50522a9e-7743-47c6-afa2-1533f1e159ca",
   "metadata": {},
   "source": [
    "##### h) Tokenize data: Given the data, tokenize every character (thus char_level = True)"
   ]
  },
  {
   "cell_type": "code",
   "execution_count": 10,
   "id": "03cde981-96a3-4c07-86bd-f29df92f2764",
   "metadata": {},
   "outputs": [],
   "source": [
    "tokenizer = Tokenizer(filters='\\t\\n', char_level=True)\n",
    "tokenizer.fit_on_texts(X)\n",
    "\n",
    "# we will need this later\n",
    "num_words = len(tokenizer.word_index)+1\n",
    "X = tokenizer.texts_to_sequences(X)"
   ]
  },
  {
   "cell_type": "markdown",
   "id": "4e678398-75d7-4b8c-a990-69fe1be0400d",
   "metadata": {},
   "source": [
    "##### i) Need to pad our data as each observation has a different length"
   ]
  },
  {
   "cell_type": "code",
   "execution_count": 11,
   "id": "4794d2c3-9d12-41b1-8130-c1018704106c",
   "metadata": {},
   "outputs": [],
   "source": [
    "max_log_length = 1024\n",
    "X_processed = sequence.pad_sequences(X, maxlen=max_log_length)"
   ]
  },
  {
   "cell_type": "markdown",
   "id": "0b8e4e20-7892-4a76-888d-5ba58e4502af",
   "metadata": {},
   "source": [
    "##### j) Create your train set to be 75% of the data and your test set to be 25%"
   ]
  },
  {
   "cell_type": "code",
   "execution_count": 12,
   "id": "cb122e20-a671-4e65-8849-d569428c24be",
   "metadata": {},
   "outputs": [],
   "source": [
    "from sklearn.model_selection import train_test_split"
   ]
  },
  {
   "cell_type": "code",
   "execution_count": 13,
   "id": "9f992be5-e05f-4230-931c-2eb58302bc21",
   "metadata": {},
   "outputs": [],
   "source": [
    "X_train, X_test, y_train, y_test = train_test_split(X_processed, Y, test_size = 0.25, random_state = 42)"
   ]
  },
  {
   "cell_type": "markdown",
   "id": "25de4c3e-196d-45da-91b9-50197aa80a1e",
   "metadata": {},
   "source": [
    "#### 2. Model 1 - RNN\n",
    "The first model will be a pretty minimal RNN with only an embedding layer, simple RNN and Dense layer. The next model we will add a few more layers. "
   ]
  },
  {
   "cell_type": "markdown",
   "id": "95a1fa5b-d9ba-4f60-8d89-ea50cf888a5c",
   "metadata": {},
   "source": [
    "##### a) Start by creating an instance of a Sequential model"
   ]
  },
  {
   "cell_type": "code",
   "execution_count": 14,
   "id": "9824231a-869b-4bf8-b304-a5b505822e8b",
   "metadata": {},
   "outputs": [],
   "source": [
    "from tensorflow.keras.layers import Input"
   ]
  },
  {
   "cell_type": "code",
   "execution_count": 15,
   "id": "7c91559f-1b46-453c-b121-90c7f90c7d96",
   "metadata": {},
   "outputs": [],
   "source": [
    "model = Sequential()\n",
    "model.add(Input(shape=(max_log_length,)))"
   ]
  },
  {
   "cell_type": "markdown",
   "id": "ff58079e-e219-45ec-83fa-54c064e69338",
   "metadata": {},
   "source": [
    "##### b) From there, add an Embedding layer\n",
    "\n",
    "Params:\n",
    "- input_dim = num_words (the variable we created above)\n",
    "- output_dim = 32\n",
    "- input_length = max_log_length (we also created this above)\n",
    "- Keep all other variables as the defaults (shown below)"
   ]
  },
  {
   "cell_type": "code",
   "execution_count": 16,
   "id": "6875e5d8-2438-4f85-a8f5-227c937658a1",
   "metadata": {},
   "outputs": [],
   "source": [
    "model.add(Embedding(input_dim = num_words, output_dim = 32))"
   ]
  },
  {
   "cell_type": "markdown",
   "id": "8fd9208d-abd9-4ec7-a944-6fed7917dcef",
   "metadata": {},
   "source": [
    "##### c) Add a SimpleRNN layer\n",
    "\n",
    "Params:\n",
    "- units = 32\n",
    "- activation = 'relu'"
   ]
  },
  {
   "cell_type": "code",
   "execution_count": 17,
   "id": "fff88106-2ffe-4f00-9795-a0ce2eb76e75",
   "metadata": {},
   "outputs": [],
   "source": [
    "from keras.layers import SimpleRNN"
   ]
  },
  {
   "cell_type": "code",
   "execution_count": 18,
   "id": "6b372713-699f-47cb-a651-8ae5d362ba0f",
   "metadata": {},
   "outputs": [],
   "source": [
    "model.add(SimpleRNN(units = 32, activation = 'relu'))"
   ]
  },
  {
   "cell_type": "markdown",
   "id": "0eb8cab3-daac-46fa-ac56-2468a4609bee",
   "metadata": {},
   "source": [
    "##### d) Finally, we will add a Dense layer\n",
    "\n",
    "Params:\n",
    "- units = 1 (this will be our output)\n",
    "- activation --> you can choose to use either relu or sigmoid. "
   ]
  },
  {
   "cell_type": "code",
   "execution_count": 19,
   "id": "d3dc9e39-042d-4955-ac2a-151c82bd92b0",
   "metadata": {},
   "outputs": [],
   "source": [
    "model.add(Dense(units = 1, activation = 'sigmoid'))"
   ]
  },
  {
   "cell_type": "code",
   "execution_count": 20,
   "id": "5da3d3f6-5464-4e51-8a7c-61cb8b9b3ddf",
   "metadata": {},
   "outputs": [
    {
     "data": {
      "text/plain": [
       "[<Embedding name=embedding, built=True>,\n",
       " <SimpleRNN name=simple_rnn, built=True>,\n",
       " <Dense name=dense, built=True>]"
      ]
     },
     "execution_count": 20,
     "metadata": {},
     "output_type": "execute_result"
    }
   ],
   "source": [
    "model.layers"
   ]
  },
  {
   "cell_type": "markdown",
   "id": "4872ca53-45a5-4f59-94e3-721e01c00a42",
   "metadata": {},
   "source": [
    "##### e) Compile model using the .compile() method\n",
    "\n",
    "Params:\n",
    "- loss = binary_crossentropy\n",
    "- optimizer = adam\n",
    "- metrics = accuracy"
   ]
  },
  {
   "cell_type": "code",
   "execution_count": 21,
   "id": "f050a64f-793e-4025-a4f7-46e60e4a8b6d",
   "metadata": {},
   "outputs": [],
   "source": [
    "model.compile(\n",
    "    optimizer='adam',\n",
    "    loss='binary_crossentropy',\n",
    "    metrics=['accuracy'],\n",
    ")"
   ]
  },
  {
   "cell_type": "markdown",
   "id": "e3b6e6d4-00ec-4f18-b4b7-16f69a9afa1b",
   "metadata": {},
   "source": [
    "##### f) Print the model summary"
   ]
  },
  {
   "cell_type": "code",
   "execution_count": 22,
   "id": "2e86adc2-c1c6-4376-a591-254495a61485",
   "metadata": {},
   "outputs": [
    {
     "data": {
      "text/html": [
       "<pre style=\"white-space:pre;overflow-x:auto;line-height:normal;font-family:Menlo,'DejaVu Sans Mono',consolas,'Courier New',monospace\"><span style=\"font-weight: bold\">Model: \"sequential\"</span>\n",
       "</pre>\n"
      ],
      "text/plain": [
       "\u001b[1mModel: \"sequential\"\u001b[0m\n"
      ]
     },
     "metadata": {},
     "output_type": "display_data"
    },
    {
     "data": {
      "text/html": [
       "<pre style=\"white-space:pre;overflow-x:auto;line-height:normal;font-family:Menlo,'DejaVu Sans Mono',consolas,'Courier New',monospace\">┏━━━━━━━━━━━━━━━━━━━━━━━━━━━━━━━━━┳━━━━━━━━━━━━━━━━━━━━━━━━┳━━━━━━━━━━━━━━━┓\n",
       "┃<span style=\"font-weight: bold\"> Layer (type)                    </span>┃<span style=\"font-weight: bold\"> Output Shape           </span>┃<span style=\"font-weight: bold\">       Param # </span>┃\n",
       "┡━━━━━━━━━━━━━━━━━━━━━━━━━━━━━━━━━╇━━━━━━━━━━━━━━━━━━━━━━━━╇━━━━━━━━━━━━━━━┩\n",
       "│ embedding (<span style=\"color: #0087ff; text-decoration-color: #0087ff\">Embedding</span>)           │ (<span style=\"color: #00d7ff; text-decoration-color: #00d7ff\">None</span>, <span style=\"color: #00af00; text-decoration-color: #00af00\">1024</span>, <span style=\"color: #00af00; text-decoration-color: #00af00\">32</span>)       │         <span style=\"color: #00af00; text-decoration-color: #00af00\">2,016</span> │\n",
       "├─────────────────────────────────┼────────────────────────┼───────────────┤\n",
       "│ simple_rnn (<span style=\"color: #0087ff; text-decoration-color: #0087ff\">SimpleRNN</span>)          │ (<span style=\"color: #00d7ff; text-decoration-color: #00d7ff\">None</span>, <span style=\"color: #00af00; text-decoration-color: #00af00\">32</span>)             │         <span style=\"color: #00af00; text-decoration-color: #00af00\">2,080</span> │\n",
       "├─────────────────────────────────┼────────────────────────┼───────────────┤\n",
       "│ dense (<span style=\"color: #0087ff; text-decoration-color: #0087ff\">Dense</span>)                   │ (<span style=\"color: #00d7ff; text-decoration-color: #00d7ff\">None</span>, <span style=\"color: #00af00; text-decoration-color: #00af00\">1</span>)              │            <span style=\"color: #00af00; text-decoration-color: #00af00\">33</span> │\n",
       "└─────────────────────────────────┴────────────────────────┴───────────────┘\n",
       "</pre>\n"
      ],
      "text/plain": [
       "┏━━━━━━━━━━━━━━━━━━━━━━━━━━━━━━━━━┳━━━━━━━━━━━━━━━━━━━━━━━━┳━━━━━━━━━━━━━━━┓\n",
       "┃\u001b[1m \u001b[0m\u001b[1mLayer (type)                   \u001b[0m\u001b[1m \u001b[0m┃\u001b[1m \u001b[0m\u001b[1mOutput Shape          \u001b[0m\u001b[1m \u001b[0m┃\u001b[1m \u001b[0m\u001b[1m      Param #\u001b[0m\u001b[1m \u001b[0m┃\n",
       "┡━━━━━━━━━━━━━━━━━━━━━━━━━━━━━━━━━╇━━━━━━━━━━━━━━━━━━━━━━━━╇━━━━━━━━━━━━━━━┩\n",
       "│ embedding (\u001b[38;5;33mEmbedding\u001b[0m)           │ (\u001b[38;5;45mNone\u001b[0m, \u001b[38;5;34m1024\u001b[0m, \u001b[38;5;34m32\u001b[0m)       │         \u001b[38;5;34m2,016\u001b[0m │\n",
       "├─────────────────────────────────┼────────────────────────┼───────────────┤\n",
       "│ simple_rnn (\u001b[38;5;33mSimpleRNN\u001b[0m)          │ (\u001b[38;5;45mNone\u001b[0m, \u001b[38;5;34m32\u001b[0m)             │         \u001b[38;5;34m2,080\u001b[0m │\n",
       "├─────────────────────────────────┼────────────────────────┼───────────────┤\n",
       "│ dense (\u001b[38;5;33mDense\u001b[0m)                   │ (\u001b[38;5;45mNone\u001b[0m, \u001b[38;5;34m1\u001b[0m)              │            \u001b[38;5;34m33\u001b[0m │\n",
       "└─────────────────────────────────┴────────────────────────┴───────────────┘\n"
      ]
     },
     "metadata": {},
     "output_type": "display_data"
    },
    {
     "data": {
      "text/html": [
       "<pre style=\"white-space:pre;overflow-x:auto;line-height:normal;font-family:Menlo,'DejaVu Sans Mono',consolas,'Courier New',monospace\"><span style=\"font-weight: bold\"> Total params: </span><span style=\"color: #00af00; text-decoration-color: #00af00\">4,129</span> (16.13 KB)\n",
       "</pre>\n"
      ],
      "text/plain": [
       "\u001b[1m Total params: \u001b[0m\u001b[38;5;34m4,129\u001b[0m (16.13 KB)\n"
      ]
     },
     "metadata": {},
     "output_type": "display_data"
    },
    {
     "data": {
      "text/html": [
       "<pre style=\"white-space:pre;overflow-x:auto;line-height:normal;font-family:Menlo,'DejaVu Sans Mono',consolas,'Courier New',monospace\"><span style=\"font-weight: bold\"> Trainable params: </span><span style=\"color: #00af00; text-decoration-color: #00af00\">4,129</span> (16.13 KB)\n",
       "</pre>\n"
      ],
      "text/plain": [
       "\u001b[1m Trainable params: \u001b[0m\u001b[38;5;34m4,129\u001b[0m (16.13 KB)\n"
      ]
     },
     "metadata": {},
     "output_type": "display_data"
    },
    {
     "data": {
      "text/html": [
       "<pre style=\"white-space:pre;overflow-x:auto;line-height:normal;font-family:Menlo,'DejaVu Sans Mono',consolas,'Courier New',monospace\"><span style=\"font-weight: bold\"> Non-trainable params: </span><span style=\"color: #00af00; text-decoration-color: #00af00\">0</span> (0.00 B)\n",
       "</pre>\n"
      ],
      "text/plain": [
       "\u001b[1m Non-trainable params: \u001b[0m\u001b[38;5;34m0\u001b[0m (0.00 B)\n"
      ]
     },
     "metadata": {},
     "output_type": "display_data"
    }
   ],
   "source": [
    "model.summary()"
   ]
  },
  {
   "cell_type": "markdown",
   "id": "e51beff3-ebe5-42e3-a318-20471475dcb7",
   "metadata": {},
   "source": [
    "##### g) Use the .fit() method to fit the model on the train data. Use a validation split of 0.25, epochs=3 and batch size = 128."
   ]
  },
  {
   "cell_type": "code",
   "execution_count": 23,
   "id": "7b623161-b240-48cd-ab72-e75bbdd1ef75",
   "metadata": {},
   "outputs": [],
   "source": [
    "# convert to float32 format. currently as int type\n",
    "X_train = numpy.array(X_train).astype('float32')\n",
    "y_train = numpy.array(y_train).astype('float32')"
   ]
  },
  {
   "cell_type": "code",
   "execution_count": 24,
   "id": "2e082aa0-0f17-447a-a5af-c431793cd5ac",
   "metadata": {},
   "outputs": [
    {
     "name": "stdout",
     "output_type": "stream",
     "text": [
      "Epoch 1/3\n",
      "\u001b[1m118/118\u001b[0m \u001b[32m━━━━━━━━━━━━━━━━━━━━\u001b[0m\u001b[37m\u001b[0m \u001b[1m14s\u001b[0m 111ms/step - accuracy: 0.5739 - loss: 0.6629 - val_accuracy: 0.5239 - val_loss: 0.7987\n",
      "Epoch 2/3\n",
      "\u001b[1m118/118\u001b[0m \u001b[32m━━━━━━━━━━━━━━━━━━━━\u001b[0m\u001b[37m\u001b[0m \u001b[1m13s\u001b[0m 107ms/step - accuracy: 0.5769 - loss: 0.6568 - val_accuracy: 0.6426 - val_loss: 0.5716\n",
      "Epoch 3/3\n",
      "\u001b[1m118/118\u001b[0m \u001b[32m━━━━━━━━━━━━━━━━━━━━\u001b[0m\u001b[37m\u001b[0m \u001b[1m12s\u001b[0m 102ms/step - accuracy: 0.6802 - loss: 0.5427 - val_accuracy: 0.9124 - val_loss: 0.2777\n"
     ]
    },
    {
     "data": {
      "text/plain": [
       "<keras.src.callbacks.history.History at 0x30d45e8d0>"
      ]
     },
     "execution_count": 24,
     "metadata": {},
     "output_type": "execute_result"
    }
   ],
   "source": [
    "model.fit(\n",
    "    x=X_train,\n",
    "    y=y_train,\n",
    "    epochs=3,\n",
    "    batch_size=128,\n",
    "    validation_split=0.25\n",
    ")"
   ]
  },
  {
   "cell_type": "markdown",
   "id": "083218ba-40b3-4091-8652-ccf5448826bf",
   "metadata": {},
   "source": [
    "##### h) Use the .evaluate() method to get the loss value & the accuracy value on the test data. Use a batch size of 128 again."
   ]
  },
  {
   "cell_type": "code",
   "execution_count": 25,
   "id": "9af0e5ea-8b19-4d50-8d22-908c2e8ed6f0",
   "metadata": {},
   "outputs": [],
   "source": [
    "# convert to float32 format. currently as int type\n",
    "X_test = numpy.array(X_test).astype('float32')\n",
    "y_test = numpy.array(y_test).astype('float32')"
   ]
  },
  {
   "cell_type": "code",
   "execution_count": 26,
   "id": "1269e4b2-a415-44d9-96b6-169775d09f23",
   "metadata": {},
   "outputs": [
    {
     "name": "stdout",
     "output_type": "stream",
     "text": [
      "\u001b[1m53/53\u001b[0m \u001b[32m━━━━━━━━━━━━━━━━━━━━\u001b[0m\u001b[37m\u001b[0m \u001b[1m1s\u001b[0m 22ms/step - accuracy: 0.9157 - loss: 0.2632\n",
      "Test Loss: 0.26856762170791626\n",
      "Test Accuracy: 0.9127576947212219\n"
     ]
    }
   ],
   "source": [
    "test_loss1, test_accuracy1 = model.evaluate(X_test, y_test, batch_size=128)\n",
    "print(f\"Test Loss: {test_loss1}\")\n",
    "print(f\"Test Accuracy: {test_accuracy1}\")"
   ]
  },
  {
   "cell_type": "markdown",
   "id": "e437f6f6-a7a7-41f2-968d-c675e8a3abc3",
   "metadata": {},
   "source": [
    "#### 3. Model 2 - LSTM + Dropout Layers:\n",
    "Now we will add a few new layers to our RNN and incorporate the more powerful LSTM. You will be creating a new model here, so make sure to call it something different than the model from Part 2."
   ]
  },
  {
   "cell_type": "markdown",
   "id": "0053a2e7-9767-4182-8cca-ec62589cad7c",
   "metadata": {},
   "source": [
    "##### a) This RNN needs to have the following layers (add in this order):\n",
    "\n",
    "- Embedding Layer (use same params as before)\n",
    "- LSTM Layer (units = 64, recurrent_dropout = 0.5)\n",
    "- Dropout Layer - use a value of 0.5\n",
    "- Dense Layer - (use same params as before)"
   ]
  },
  {
   "cell_type": "code",
   "execution_count": 27,
   "id": "bb5ba408-1940-4e93-8564-1c7d25e01a62",
   "metadata": {},
   "outputs": [],
   "source": [
    "model2 = Sequential(name=\"Model2\")\n",
    "model2.add(Input(shape=(max_log_length,)))"
   ]
  },
  {
   "cell_type": "code",
   "execution_count": 28,
   "id": "9dab522e-1f2d-4fd8-8937-9098bad56e65",
   "metadata": {},
   "outputs": [],
   "source": [
    "# Embedding Layer\n",
    "model2.add(Embedding(input_dim = num_words, output_dim = 32))"
   ]
  },
  {
   "cell_type": "code",
   "execution_count": 29,
   "id": "e6ea06f1-3c4f-408d-b858-ba87e27f6a34",
   "metadata": {},
   "outputs": [],
   "source": [
    "# LSTM Layer\n",
    "model2.add(LSTM(units = 64, recurrent_dropout = 0.5))"
   ]
  },
  {
   "cell_type": "code",
   "execution_count": 30,
   "id": "08d994fb-b049-4d4a-91f2-f43cdf67d10a",
   "metadata": {},
   "outputs": [],
   "source": [
    "# Dropout Layer\n",
    "model2.add(Dropout(0.5))"
   ]
  },
  {
   "cell_type": "code",
   "execution_count": 31,
   "id": "46427b43-8dff-4ede-8275-0856d6ed9f98",
   "metadata": {},
   "outputs": [],
   "source": [
    "# Dense Layer\n",
    "model2.add(Dense(units=1, activation='sigmoid'))"
   ]
  },
  {
   "cell_type": "code",
   "execution_count": 32,
   "id": "847e27c0-72b4-4025-ae6e-7b3567adf34b",
   "metadata": {},
   "outputs": [
    {
     "data": {
      "text/plain": [
       "[<Embedding name=embedding_1, built=True>,\n",
       " <LSTM name=lstm, built=True>,\n",
       " <Dropout name=dropout, built=True>,\n",
       " <Dense name=dense_1, built=True>]"
      ]
     },
     "execution_count": 32,
     "metadata": {},
     "output_type": "execute_result"
    }
   ],
   "source": [
    "model2.layers"
   ]
  },
  {
   "cell_type": "markdown",
   "id": "d3d7e6c5-c2ca-43dd-97e8-08bb4220f92b",
   "metadata": {},
   "source": [
    "##### b) Compile model using the .compile() method:\n",
    "\n",
    "Params:\n",
    "- loss = binary_crossentropy\n",
    "- optimizer = adam\n",
    "- metrics = accuracy"
   ]
  },
  {
   "cell_type": "code",
   "execution_count": 33,
   "id": "d3b30621-7e88-44de-a527-a3dfd36fbb89",
   "metadata": {},
   "outputs": [],
   "source": [
    "model2.compile(optimizer='adam', loss='binary_crossentropy', metrics=['accuracy'])"
   ]
  },
  {
   "cell_type": "markdown",
   "id": "ec84adb4-bc40-47ce-8701-3ce1a91f70fe",
   "metadata": {},
   "source": [
    "##### c) Print the model summary"
   ]
  },
  {
   "cell_type": "code",
   "execution_count": 34,
   "id": "d38dfcb3-34ab-4b67-b4c9-5362b17521ab",
   "metadata": {},
   "outputs": [
    {
     "data": {
      "text/html": [
       "<pre style=\"white-space:pre;overflow-x:auto;line-height:normal;font-family:Menlo,'DejaVu Sans Mono',consolas,'Courier New',monospace\"><span style=\"font-weight: bold\">Model: \"Model2\"</span>\n",
       "</pre>\n"
      ],
      "text/plain": [
       "\u001b[1mModel: \"Model2\"\u001b[0m\n"
      ]
     },
     "metadata": {},
     "output_type": "display_data"
    },
    {
     "data": {
      "text/html": [
       "<pre style=\"white-space:pre;overflow-x:auto;line-height:normal;font-family:Menlo,'DejaVu Sans Mono',consolas,'Courier New',monospace\">┏━━━━━━━━━━━━━━━━━━━━━━━━━━━━━━━━━┳━━━━━━━━━━━━━━━━━━━━━━━━┳━━━━━━━━━━━━━━━┓\n",
       "┃<span style=\"font-weight: bold\"> Layer (type)                    </span>┃<span style=\"font-weight: bold\"> Output Shape           </span>┃<span style=\"font-weight: bold\">       Param # </span>┃\n",
       "┡━━━━━━━━━━━━━━━━━━━━━━━━━━━━━━━━━╇━━━━━━━━━━━━━━━━━━━━━━━━╇━━━━━━━━━━━━━━━┩\n",
       "│ embedding_1 (<span style=\"color: #0087ff; text-decoration-color: #0087ff\">Embedding</span>)         │ (<span style=\"color: #00d7ff; text-decoration-color: #00d7ff\">None</span>, <span style=\"color: #00af00; text-decoration-color: #00af00\">1024</span>, <span style=\"color: #00af00; text-decoration-color: #00af00\">32</span>)       │         <span style=\"color: #00af00; text-decoration-color: #00af00\">2,016</span> │\n",
       "├─────────────────────────────────┼────────────────────────┼───────────────┤\n",
       "│ lstm (<span style=\"color: #0087ff; text-decoration-color: #0087ff\">LSTM</span>)                     │ (<span style=\"color: #00d7ff; text-decoration-color: #00d7ff\">None</span>, <span style=\"color: #00af00; text-decoration-color: #00af00\">64</span>)             │        <span style=\"color: #00af00; text-decoration-color: #00af00\">24,832</span> │\n",
       "├─────────────────────────────────┼────────────────────────┼───────────────┤\n",
       "│ dropout (<span style=\"color: #0087ff; text-decoration-color: #0087ff\">Dropout</span>)               │ (<span style=\"color: #00d7ff; text-decoration-color: #00d7ff\">None</span>, <span style=\"color: #00af00; text-decoration-color: #00af00\">64</span>)             │             <span style=\"color: #00af00; text-decoration-color: #00af00\">0</span> │\n",
       "├─────────────────────────────────┼────────────────────────┼───────────────┤\n",
       "│ dense_1 (<span style=\"color: #0087ff; text-decoration-color: #0087ff\">Dense</span>)                 │ (<span style=\"color: #00d7ff; text-decoration-color: #00d7ff\">None</span>, <span style=\"color: #00af00; text-decoration-color: #00af00\">1</span>)              │            <span style=\"color: #00af00; text-decoration-color: #00af00\">65</span> │\n",
       "└─────────────────────────────────┴────────────────────────┴───────────────┘\n",
       "</pre>\n"
      ],
      "text/plain": [
       "┏━━━━━━━━━━━━━━━━━━━━━━━━━━━━━━━━━┳━━━━━━━━━━━━━━━━━━━━━━━━┳━━━━━━━━━━━━━━━┓\n",
       "┃\u001b[1m \u001b[0m\u001b[1mLayer (type)                   \u001b[0m\u001b[1m \u001b[0m┃\u001b[1m \u001b[0m\u001b[1mOutput Shape          \u001b[0m\u001b[1m \u001b[0m┃\u001b[1m \u001b[0m\u001b[1m      Param #\u001b[0m\u001b[1m \u001b[0m┃\n",
       "┡━━━━━━━━━━━━━━━━━━━━━━━━━━━━━━━━━╇━━━━━━━━━━━━━━━━━━━━━━━━╇━━━━━━━━━━━━━━━┩\n",
       "│ embedding_1 (\u001b[38;5;33mEmbedding\u001b[0m)         │ (\u001b[38;5;45mNone\u001b[0m, \u001b[38;5;34m1024\u001b[0m, \u001b[38;5;34m32\u001b[0m)       │         \u001b[38;5;34m2,016\u001b[0m │\n",
       "├─────────────────────────────────┼────────────────────────┼───────────────┤\n",
       "│ lstm (\u001b[38;5;33mLSTM\u001b[0m)                     │ (\u001b[38;5;45mNone\u001b[0m, \u001b[38;5;34m64\u001b[0m)             │        \u001b[38;5;34m24,832\u001b[0m │\n",
       "├─────────────────────────────────┼────────────────────────┼───────────────┤\n",
       "│ dropout (\u001b[38;5;33mDropout\u001b[0m)               │ (\u001b[38;5;45mNone\u001b[0m, \u001b[38;5;34m64\u001b[0m)             │             \u001b[38;5;34m0\u001b[0m │\n",
       "├─────────────────────────────────┼────────────────────────┼───────────────┤\n",
       "│ dense_1 (\u001b[38;5;33mDense\u001b[0m)                 │ (\u001b[38;5;45mNone\u001b[0m, \u001b[38;5;34m1\u001b[0m)              │            \u001b[38;5;34m65\u001b[0m │\n",
       "└─────────────────────────────────┴────────────────────────┴───────────────┘\n"
      ]
     },
     "metadata": {},
     "output_type": "display_data"
    },
    {
     "data": {
      "text/html": [
       "<pre style=\"white-space:pre;overflow-x:auto;line-height:normal;font-family:Menlo,'DejaVu Sans Mono',consolas,'Courier New',monospace\"><span style=\"font-weight: bold\"> Total params: </span><span style=\"color: #00af00; text-decoration-color: #00af00\">26,913</span> (105.13 KB)\n",
       "</pre>\n"
      ],
      "text/plain": [
       "\u001b[1m Total params: \u001b[0m\u001b[38;5;34m26,913\u001b[0m (105.13 KB)\n"
      ]
     },
     "metadata": {},
     "output_type": "display_data"
    },
    {
     "data": {
      "text/html": [
       "<pre style=\"white-space:pre;overflow-x:auto;line-height:normal;font-family:Menlo,'DejaVu Sans Mono',consolas,'Courier New',monospace\"><span style=\"font-weight: bold\"> Trainable params: </span><span style=\"color: #00af00; text-decoration-color: #00af00\">26,913</span> (105.13 KB)\n",
       "</pre>\n"
      ],
      "text/plain": [
       "\u001b[1m Trainable params: \u001b[0m\u001b[38;5;34m26,913\u001b[0m (105.13 KB)\n"
      ]
     },
     "metadata": {},
     "output_type": "display_data"
    },
    {
     "data": {
      "text/html": [
       "<pre style=\"white-space:pre;overflow-x:auto;line-height:normal;font-family:Menlo,'DejaVu Sans Mono',consolas,'Courier New',monospace\"><span style=\"font-weight: bold\"> Non-trainable params: </span><span style=\"color: #00af00; text-decoration-color: #00af00\">0</span> (0.00 B)\n",
       "</pre>\n"
      ],
      "text/plain": [
       "\u001b[1m Non-trainable params: \u001b[0m\u001b[38;5;34m0\u001b[0m (0.00 B)\n"
      ]
     },
     "metadata": {},
     "output_type": "display_data"
    }
   ],
   "source": [
    "model2.summary()"
   ]
  },
  {
   "cell_type": "markdown",
   "id": "8a39f391-8b4c-4ed5-9c96-4bf5d06bea28",
   "metadata": {},
   "source": [
    "##### d) Use the .fit() method to fit the model on the train data. Use a validation split of 0.25, epochs=3 and batch size = 128."
   ]
  },
  {
   "cell_type": "code",
   "execution_count": 35,
   "id": "b65a8371-fbe6-4915-b869-e0fccd1825d5",
   "metadata": {},
   "outputs": [
    {
     "name": "stdout",
     "output_type": "stream",
     "text": [
      "Epoch 1/3\n",
      "\u001b[1m118/118\u001b[0m \u001b[32m━━━━━━━━━━━━━━━━━━━━\u001b[0m\u001b[37m\u001b[0m \u001b[1m64s\u001b[0m 536ms/step - accuracy: 0.6192 - loss: 0.6283 - val_accuracy: 0.9026 - val_loss: 0.2703\n",
      "Epoch 2/3\n",
      "\u001b[1m118/118\u001b[0m \u001b[32m━━━━━━━━━━━━━━━━━━━━\u001b[0m\u001b[37m\u001b[0m \u001b[1m62s\u001b[0m 523ms/step - accuracy: 0.8717 - loss: 0.3429 - val_accuracy: 0.9560 - val_loss: 0.1610\n",
      "Epoch 3/3\n",
      "\u001b[1m118/118\u001b[0m \u001b[32m━━━━━━━━━━━━━━━━━━━━\u001b[0m\u001b[37m\u001b[0m \u001b[1m63s\u001b[0m 538ms/step - accuracy: 0.9330 - loss: 0.2279 - val_accuracy: 0.9592 - val_loss: 0.1468\n"
     ]
    },
    {
     "data": {
      "text/plain": [
       "<keras.src.callbacks.history.History at 0x321a4fa10>"
      ]
     },
     "execution_count": 35,
     "metadata": {},
     "output_type": "execute_result"
    }
   ],
   "source": [
    "model2.fit(\n",
    "    x=X_train,\n",
    "    y=y_train,\n",
    "    epochs=3,\n",
    "    batch_size=128,\n",
    "    validation_split=0.25\n",
    ")"
   ]
  },
  {
   "cell_type": "markdown",
   "id": "ec30ad6d-4eb3-4107-bc4b-f30af6a03db6",
   "metadata": {},
   "source": [
    "##### e) Use the .evaluate() method to get the loss value & the accuracy value on the test data. Use a batch size of 128 again."
   ]
  },
  {
   "cell_type": "code",
   "execution_count": 36,
   "id": "be562223-4717-4592-86d3-b4a7660a4f27",
   "metadata": {},
   "outputs": [
    {
     "name": "stdout",
     "output_type": "stream",
     "text": [
      "\u001b[1m53/53\u001b[0m \u001b[32m━━━━━━━━━━━━━━━━━━━━\u001b[0m\u001b[37m\u001b[0m \u001b[1m8s\u001b[0m 148ms/step - accuracy: 0.9547 - loss: 0.1619\n",
      "Test Loss: 0.1566932201385498\n",
      "Test Accuracy: 0.9572751522064209\n"
     ]
    }
   ],
   "source": [
    "test_loss2, test_accuracy2 = model2.evaluate(X_test, y_test, batch_size=128)\n",
    "print(f\"Test Loss: {test_loss2}\")\n",
    "print(f\"Test Accuracy: {test_accuracy2}\")"
   ]
  },
  {
   "cell_type": "markdown",
   "id": "2c32a955-5516-450a-8e84-58b210d7af32",
   "metadata": {},
   "source": [
    "#### 4) Recurrent Neural Net Model 3: Build Your Own\n",
    "You wil now create your RNN based on what you have learned from Model 1 & Model 2"
   ]
  },
  {
   "cell_type": "markdown",
   "id": "1c0ee68e-d65c-4e39-910f-b996def17e0b",
   "metadata": {},
   "source": [
    "##### a) RNN Requirements:\n",
    "- Use 5 or more layers\n",
    "- Add a layer that was not utilized in Model 1 or Model 2 (Note: This could be a new Dense layer or an additional LSTM)"
   ]
  },
  {
   "cell_type": "code",
   "execution_count": 37,
   "id": "259f8b86-414a-4ab9-aa83-5f233c06a8ef",
   "metadata": {},
   "outputs": [],
   "source": [
    "model3 = Sequential(name=\"Model3\")\n",
    "model3.add(Input(shape=(max_log_length,)))"
   ]
  },
  {
   "cell_type": "code",
   "execution_count": 38,
   "id": "fce1e97c-8c89-40a2-9845-7f3dbfd97a25",
   "metadata": {},
   "outputs": [],
   "source": [
    "# Embedding Layer\n",
    "model3.add(Embedding(input_dim = num_words, output_dim = 32))"
   ]
  },
  {
   "cell_type": "code",
   "execution_count": 39,
   "id": "2b5a3816-a55c-455f-b3cd-ef9837a914b5",
   "metadata": {},
   "outputs": [],
   "source": [
    "# LSTM Layer 1\n",
    "model3.add(LSTM(units = 64, recurrent_dropout = 0.5, return_sequences=True))"
   ]
  },
  {
   "cell_type": "code",
   "execution_count": 40,
   "id": "700ec737-2f9d-406d-8fcc-cb5a140cea67",
   "metadata": {},
   "outputs": [],
   "source": [
    "# LSTM Layer 2\n",
    "model3.add(LSTM(units=32, recurrent_dropout = 0.5, return_sequences=False))"
   ]
  },
  {
   "cell_type": "code",
   "execution_count": 41,
   "id": "621f9148-a8cf-42ee-8245-8c551a3d95ef",
   "metadata": {},
   "outputs": [],
   "source": [
    "# Dropout Layer\n",
    "model3.add(Dropout(0.5))"
   ]
  },
  {
   "cell_type": "code",
   "execution_count": 42,
   "id": "649016e6-5121-4d39-a1e1-5826957190a8",
   "metadata": {},
   "outputs": [],
   "source": [
    "# Dense Layer 1\n",
    "model3.add(Dense(units=64, activation='relu'))"
   ]
  },
  {
   "cell_type": "code",
   "execution_count": 43,
   "id": "ca083b85-64a3-4030-ae89-321e20919a49",
   "metadata": {},
   "outputs": [],
   "source": [
    "# Dense Layer 2\n",
    "model3.add(Dense(units=1, activation='sigmoid'))"
   ]
  },
  {
   "cell_type": "code",
   "execution_count": 44,
   "id": "f431da7d-522c-438b-9a8d-377aa9c92b5e",
   "metadata": {},
   "outputs": [
    {
     "data": {
      "text/plain": [
       "[<Embedding name=embedding_2, built=True>,\n",
       " <LSTM name=lstm_1, built=True>,\n",
       " <LSTM name=lstm_2, built=True>,\n",
       " <Dropout name=dropout_1, built=True>,\n",
       " <Dense name=dense_2, built=True>,\n",
       " <Dense name=dense_3, built=True>]"
      ]
     },
     "execution_count": 44,
     "metadata": {},
     "output_type": "execute_result"
    }
   ],
   "source": [
    "model3.layers"
   ]
  },
  {
   "cell_type": "markdown",
   "id": "c4a77c5f-06af-4fa9-bc71-b7e718a6ee66",
   "metadata": {},
   "source": [
    "##### b) Compiler Requirements:\n",
    "- Try a new optimizer for the compile step\n",
    "- Keep accuracy as a metric (feel free to add more metrics if desired)"
   ]
  },
  {
   "cell_type": "code",
   "execution_count": 45,
   "id": "1dc6d361-8d63-4736-8428-0035c6aca759",
   "metadata": {},
   "outputs": [],
   "source": [
    "model3.compile(\n",
    "    optimizer='nadam',\n",
    "    loss='binary_crossentropy',\n",
    "    metrics=['accuracy']\n",
    ")"
   ]
  },
  {
   "cell_type": "markdown",
   "id": "42596224-55df-4b40-9e65-04462dabf259",
   "metadata": {},
   "source": [
    "##### c) Print the model summary"
   ]
  },
  {
   "cell_type": "code",
   "execution_count": 46,
   "id": "c4c97afb-8abc-4b94-8415-ef0b651fc595",
   "metadata": {},
   "outputs": [
    {
     "data": {
      "text/html": [
       "<pre style=\"white-space:pre;overflow-x:auto;line-height:normal;font-family:Menlo,'DejaVu Sans Mono',consolas,'Courier New',monospace\"><span style=\"font-weight: bold\">Model: \"Model3\"</span>\n",
       "</pre>\n"
      ],
      "text/plain": [
       "\u001b[1mModel: \"Model3\"\u001b[0m\n"
      ]
     },
     "metadata": {},
     "output_type": "display_data"
    },
    {
     "data": {
      "text/html": [
       "<pre style=\"white-space:pre;overflow-x:auto;line-height:normal;font-family:Menlo,'DejaVu Sans Mono',consolas,'Courier New',monospace\">┏━━━━━━━━━━━━━━━━━━━━━━━━━━━━━━━━━┳━━━━━━━━━━━━━━━━━━━━━━━━┳━━━━━━━━━━━━━━━┓\n",
       "┃<span style=\"font-weight: bold\"> Layer (type)                    </span>┃<span style=\"font-weight: bold\"> Output Shape           </span>┃<span style=\"font-weight: bold\">       Param # </span>┃\n",
       "┡━━━━━━━━━━━━━━━━━━━━━━━━━━━━━━━━━╇━━━━━━━━━━━━━━━━━━━━━━━━╇━━━━━━━━━━━━━━━┩\n",
       "│ embedding_2 (<span style=\"color: #0087ff; text-decoration-color: #0087ff\">Embedding</span>)         │ (<span style=\"color: #00d7ff; text-decoration-color: #00d7ff\">None</span>, <span style=\"color: #00af00; text-decoration-color: #00af00\">1024</span>, <span style=\"color: #00af00; text-decoration-color: #00af00\">32</span>)       │         <span style=\"color: #00af00; text-decoration-color: #00af00\">2,016</span> │\n",
       "├─────────────────────────────────┼────────────────────────┼───────────────┤\n",
       "│ lstm_1 (<span style=\"color: #0087ff; text-decoration-color: #0087ff\">LSTM</span>)                   │ (<span style=\"color: #00d7ff; text-decoration-color: #00d7ff\">None</span>, <span style=\"color: #00af00; text-decoration-color: #00af00\">1024</span>, <span style=\"color: #00af00; text-decoration-color: #00af00\">64</span>)       │        <span style=\"color: #00af00; text-decoration-color: #00af00\">24,832</span> │\n",
       "├─────────────────────────────────┼────────────────────────┼───────────────┤\n",
       "│ lstm_2 (<span style=\"color: #0087ff; text-decoration-color: #0087ff\">LSTM</span>)                   │ (<span style=\"color: #00d7ff; text-decoration-color: #00d7ff\">None</span>, <span style=\"color: #00af00; text-decoration-color: #00af00\">32</span>)             │        <span style=\"color: #00af00; text-decoration-color: #00af00\">12,416</span> │\n",
       "├─────────────────────────────────┼────────────────────────┼───────────────┤\n",
       "│ dropout_1 (<span style=\"color: #0087ff; text-decoration-color: #0087ff\">Dropout</span>)             │ (<span style=\"color: #00d7ff; text-decoration-color: #00d7ff\">None</span>, <span style=\"color: #00af00; text-decoration-color: #00af00\">32</span>)             │             <span style=\"color: #00af00; text-decoration-color: #00af00\">0</span> │\n",
       "├─────────────────────────────────┼────────────────────────┼───────────────┤\n",
       "│ dense_2 (<span style=\"color: #0087ff; text-decoration-color: #0087ff\">Dense</span>)                 │ (<span style=\"color: #00d7ff; text-decoration-color: #00d7ff\">None</span>, <span style=\"color: #00af00; text-decoration-color: #00af00\">64</span>)             │         <span style=\"color: #00af00; text-decoration-color: #00af00\">2,112</span> │\n",
       "├─────────────────────────────────┼────────────────────────┼───────────────┤\n",
       "│ dense_3 (<span style=\"color: #0087ff; text-decoration-color: #0087ff\">Dense</span>)                 │ (<span style=\"color: #00d7ff; text-decoration-color: #00d7ff\">None</span>, <span style=\"color: #00af00; text-decoration-color: #00af00\">1</span>)              │            <span style=\"color: #00af00; text-decoration-color: #00af00\">65</span> │\n",
       "└─────────────────────────────────┴────────────────────────┴───────────────┘\n",
       "</pre>\n"
      ],
      "text/plain": [
       "┏━━━━━━━━━━━━━━━━━━━━━━━━━━━━━━━━━┳━━━━━━━━━━━━━━━━━━━━━━━━┳━━━━━━━━━━━━━━━┓\n",
       "┃\u001b[1m \u001b[0m\u001b[1mLayer (type)                   \u001b[0m\u001b[1m \u001b[0m┃\u001b[1m \u001b[0m\u001b[1mOutput Shape          \u001b[0m\u001b[1m \u001b[0m┃\u001b[1m \u001b[0m\u001b[1m      Param #\u001b[0m\u001b[1m \u001b[0m┃\n",
       "┡━━━━━━━━━━━━━━━━━━━━━━━━━━━━━━━━━╇━━━━━━━━━━━━━━━━━━━━━━━━╇━━━━━━━━━━━━━━━┩\n",
       "│ embedding_2 (\u001b[38;5;33mEmbedding\u001b[0m)         │ (\u001b[38;5;45mNone\u001b[0m, \u001b[38;5;34m1024\u001b[0m, \u001b[38;5;34m32\u001b[0m)       │         \u001b[38;5;34m2,016\u001b[0m │\n",
       "├─────────────────────────────────┼────────────────────────┼───────────────┤\n",
       "│ lstm_1 (\u001b[38;5;33mLSTM\u001b[0m)                   │ (\u001b[38;5;45mNone\u001b[0m, \u001b[38;5;34m1024\u001b[0m, \u001b[38;5;34m64\u001b[0m)       │        \u001b[38;5;34m24,832\u001b[0m │\n",
       "├─────────────────────────────────┼────────────────────────┼───────────────┤\n",
       "│ lstm_2 (\u001b[38;5;33mLSTM\u001b[0m)                   │ (\u001b[38;5;45mNone\u001b[0m, \u001b[38;5;34m32\u001b[0m)             │        \u001b[38;5;34m12,416\u001b[0m │\n",
       "├─────────────────────────────────┼────────────────────────┼───────────────┤\n",
       "│ dropout_1 (\u001b[38;5;33mDropout\u001b[0m)             │ (\u001b[38;5;45mNone\u001b[0m, \u001b[38;5;34m32\u001b[0m)             │             \u001b[38;5;34m0\u001b[0m │\n",
       "├─────────────────────────────────┼────────────────────────┼───────────────┤\n",
       "│ dense_2 (\u001b[38;5;33mDense\u001b[0m)                 │ (\u001b[38;5;45mNone\u001b[0m, \u001b[38;5;34m64\u001b[0m)             │         \u001b[38;5;34m2,112\u001b[0m │\n",
       "├─────────────────────────────────┼────────────────────────┼───────────────┤\n",
       "│ dense_3 (\u001b[38;5;33mDense\u001b[0m)                 │ (\u001b[38;5;45mNone\u001b[0m, \u001b[38;5;34m1\u001b[0m)              │            \u001b[38;5;34m65\u001b[0m │\n",
       "└─────────────────────────────────┴────────────────────────┴───────────────┘\n"
      ]
     },
     "metadata": {},
     "output_type": "display_data"
    },
    {
     "data": {
      "text/html": [
       "<pre style=\"white-space:pre;overflow-x:auto;line-height:normal;font-family:Menlo,'DejaVu Sans Mono',consolas,'Courier New',monospace\"><span style=\"font-weight: bold\"> Total params: </span><span style=\"color: #00af00; text-decoration-color: #00af00\">41,441</span> (161.88 KB)\n",
       "</pre>\n"
      ],
      "text/plain": [
       "\u001b[1m Total params: \u001b[0m\u001b[38;5;34m41,441\u001b[0m (161.88 KB)\n"
      ]
     },
     "metadata": {},
     "output_type": "display_data"
    },
    {
     "data": {
      "text/html": [
       "<pre style=\"white-space:pre;overflow-x:auto;line-height:normal;font-family:Menlo,'DejaVu Sans Mono',consolas,'Courier New',monospace\"><span style=\"font-weight: bold\"> Trainable params: </span><span style=\"color: #00af00; text-decoration-color: #00af00\">41,441</span> (161.88 KB)\n",
       "</pre>\n"
      ],
      "text/plain": [
       "\u001b[1m Trainable params: \u001b[0m\u001b[38;5;34m41,441\u001b[0m (161.88 KB)\n"
      ]
     },
     "metadata": {},
     "output_type": "display_data"
    },
    {
     "data": {
      "text/html": [
       "<pre style=\"white-space:pre;overflow-x:auto;line-height:normal;font-family:Menlo,'DejaVu Sans Mono',consolas,'Courier New',monospace\"><span style=\"font-weight: bold\"> Non-trainable params: </span><span style=\"color: #00af00; text-decoration-color: #00af00\">0</span> (0.00 B)\n",
       "</pre>\n"
      ],
      "text/plain": [
       "\u001b[1m Non-trainable params: \u001b[0m\u001b[38;5;34m0\u001b[0m (0.00 B)\n"
      ]
     },
     "metadata": {},
     "output_type": "display_data"
    }
   ],
   "source": [
    "model3.summary()"
   ]
  },
  {
   "cell_type": "markdown",
   "id": "f5f1bf43-fe33-44f1-8e79-63b84ff6ede1",
   "metadata": {},
   "source": [
    "##### d) Use the .fit() method to fit the model on the train data. Use a validation split of 0.25, epochs=3 and batch size = 128."
   ]
  },
  {
   "cell_type": "code",
   "execution_count": 47,
   "id": "ccccaa9e-860a-4c7a-b73c-f0e517b2b8b7",
   "metadata": {},
   "outputs": [
    {
     "name": "stdout",
     "output_type": "stream",
     "text": [
      "Epoch 1/3\n",
      "\u001b[1m118/118\u001b[0m \u001b[32m━━━━━━━━━━━━━━━━━━━━\u001b[0m\u001b[37m\u001b[0m \u001b[1m110s\u001b[0m 922ms/step - accuracy: 0.6508 - loss: 0.5839 - val_accuracy: 0.9639 - val_loss: 0.1204\n",
      "Epoch 2/3\n",
      "\u001b[1m118/118\u001b[0m \u001b[32m━━━━━━━━━━━━━━━━━━━━\u001b[0m\u001b[37m\u001b[0m \u001b[1m103s\u001b[0m 877ms/step - accuracy: 0.9114 - loss: 0.2496 - val_accuracy: 0.9233 - val_loss: 0.2414\n",
      "Epoch 3/3\n",
      "\u001b[1m118/118\u001b[0m \u001b[32m━━━━━━━━━━━━━━━━━━━━\u001b[0m\u001b[37m\u001b[0m \u001b[1m107s\u001b[0m 909ms/step - accuracy: 0.9317 - loss: 0.2329 - val_accuracy: 0.9602 - val_loss: 0.1507\n"
     ]
    },
    {
     "data": {
      "text/plain": [
       "<keras.src.callbacks.history.History at 0x34be67a10>"
      ]
     },
     "execution_count": 47,
     "metadata": {},
     "output_type": "execute_result"
    }
   ],
   "source": [
    "model3.fit(\n",
    "    x=X_train,\n",
    "    y=y_train,\n",
    "    epochs=3,\n",
    "    batch_size=128,\n",
    "    validation_split=0.25\n",
    ")"
   ]
  },
  {
   "cell_type": "markdown",
   "id": "70c96303-aa36-46e0-a1f9-b7cb4f69b57a",
   "metadata": {},
   "source": [
    "##### e) Use the .evaluate() method to get the loss value & the accuracy value on the test data. Use a batch size of 128 again."
   ]
  },
  {
   "cell_type": "code",
   "execution_count": 48,
   "id": "7d9e8762-7bd1-4939-98a8-61e8424622f0",
   "metadata": {},
   "outputs": [
    {
     "name": "stdout",
     "output_type": "stream",
     "text": [
      "\u001b[1m53/53\u001b[0m \u001b[32m━━━━━━━━━━━━━━━━━━━━\u001b[0m\u001b[37m\u001b[0m \u001b[1m13s\u001b[0m 255ms/step - accuracy: 0.9571 - loss: 0.1622\n",
      "Test Loss: 0.16200977563858032\n",
      "Test Accuracy: 0.9572751522064209\n"
     ]
    }
   ],
   "source": [
    "test_loss3, test_accuracy3 = model3.evaluate(X_test, y_test, batch_size=128)\n",
    "print(f\"Test Loss: {test_loss3}\")\n",
    "print(f\"Test Accuracy: {test_accuracy3}\")"
   ]
  },
  {
   "cell_type": "markdown",
   "id": "74726271-e306-4a1a-802f-42720de0cbc4",
   "metadata": {},
   "source": [
    "#### Conceptual Questions: \n",
    "\n",
    "##### 5) Explain the difference between the relu activation function and the sigmoid activation function.\n",
    "ReLU is primarily used for hidden layers whereas the sigmoid is used for the outer layer of binary classification models where a probability score is required. There is also a difference between the outputs. ReLU outputs the input if positive, and zero if otherwise. Sigmoid, on the other hand returns values between 0 and 1, making it mostly useful for models when we need to predict probabilities.\n",
    "\n",
    "##### 6) Describe what one epoch actually is (epoch was a parameter used in the .fit() method).\n",
    "An epoch is a complete pass of the training dataset through the the algorith, or the full traiing dataset, both forward and backward. Setting its value in the .fit() method tells the training process how many times we want to cycle through the data.\n",
    "\n",
    "##### 7) Explain how dropout works (you can look at the keras code and/or documentation) for (a) training, and (b) test data sets.\n",
    "(a) The Dropout layer of the RNN randomly sets input units to 0 with a frequency of rate at each step during training. This is to help prevent overfitting and prevent the unit from adapting too much by forcing the RNN to learn more robust features.\n",
    "\n",
    "(b) In testing, dropout is disabled and the neuron's output values are scaled down by the dropout rate in order to account for the reduced active units from training.\n",
    "\n",
    "##### 8) Explain why problems such as this homework assignment are better modeled with RNNs than CNNs. What type of problem will CNNs outperform RNNs on?\n",
    "Since our homework assignment is logfile data - which includes login information LogID, Timestamp, Method, Path, Status Code, etc. - in which we are trying to detect a security breach by predicting suspicious access. Remembering the long-term dependencies and sequential nature of the logs are better fit for RNNs. This is because predicting a security breach will likely be more accurate seeing the order and history of the login data.\n",
    "\n",
    "CNNs will outperform RNNs on problems about images such as classification and facial recognition, or local feature identification in which pattern recognition is more local and there is no need to capture temporal dynamics.\n",
    "\n",
    "##### 9) Explain what RNN problem is solved using LSTM and briefly describe how.\n",
    "The RNN problem that LSTM solves is the networks ability to learn due to gradients either vanishing or exploding. These extremes prevent the RNN from learning the dependencies between distant elements. It achieves this by using input, forget, and output gates to determine whether to let new input data in, delete information data, or let the impact the output at the current timestep, respectively."
   ]
  },
  {
   "cell_type": "markdown",
   "id": "acfef185-e24c-4c59-b97a-5849c320ac13",
   "metadata": {},
   "source": [
    "### PART B: Time Series with LSTMs\n",
    "Use the data DAYTON_hourly.csvDownload DAYTON_hourly.csv"
   ]
  },
  {
   "cell_type": "markdown",
   "id": "7c5bfa75-b15b-424f-87c2-613c68b84fb0",
   "metadata": {},
   "source": [
    "##### Import, clean and plot the input data"
   ]
  },
  {
   "cell_type": "code",
   "execution_count": 49,
   "id": "e84db090-0317-4ade-bcb7-e291871fcce0",
   "metadata": {},
   "outputs": [],
   "source": [
    "import pandas as pd"
   ]
  },
  {
   "cell_type": "code",
   "execution_count": 50,
   "id": "3e6029be-b1b7-4c01-b3ab-8b898b79ac2b",
   "metadata": {},
   "outputs": [],
   "source": [
    "data = pd.read_csv(r'/Users/nataliekim/Library/CloudStorage/OneDrive-TheUniversityofChicago/machine learning/ml data/DAYTON_hourly.csv')"
   ]
  },
  {
   "cell_type": "code",
   "execution_count": 51,
   "id": "63a64357-d24e-45bf-82e8-aec7421796db",
   "metadata": {},
   "outputs": [
    {
     "data": {
      "text/html": [
       "<div>\n",
       "<style scoped>\n",
       "    .dataframe tbody tr th:only-of-type {\n",
       "        vertical-align: middle;\n",
       "    }\n",
       "\n",
       "    .dataframe tbody tr th {\n",
       "        vertical-align: top;\n",
       "    }\n",
       "\n",
       "    .dataframe thead th {\n",
       "        text-align: right;\n",
       "    }\n",
       "</style>\n",
       "<table border=\"1\" class=\"dataframe\">\n",
       "  <thead>\n",
       "    <tr style=\"text-align: right;\">\n",
       "      <th></th>\n",
       "      <th>Datetime</th>\n",
       "      <th>DAYTON_MW</th>\n",
       "    </tr>\n",
       "  </thead>\n",
       "  <tbody>\n",
       "    <tr>\n",
       "      <th>0</th>\n",
       "      <td>2004-12-31 01:00:00</td>\n",
       "      <td>1596.0</td>\n",
       "    </tr>\n",
       "    <tr>\n",
       "      <th>1</th>\n",
       "      <td>2004-12-31 02:00:00</td>\n",
       "      <td>1517.0</td>\n",
       "    </tr>\n",
       "    <tr>\n",
       "      <th>2</th>\n",
       "      <td>2004-12-31 03:00:00</td>\n",
       "      <td>1486.0</td>\n",
       "    </tr>\n",
       "    <tr>\n",
       "      <th>3</th>\n",
       "      <td>2004-12-31 04:00:00</td>\n",
       "      <td>1469.0</td>\n",
       "    </tr>\n",
       "    <tr>\n",
       "      <th>4</th>\n",
       "      <td>2004-12-31 05:00:00</td>\n",
       "      <td>1472.0</td>\n",
       "    </tr>\n",
       "  </tbody>\n",
       "</table>\n",
       "</div>"
      ],
      "text/plain": [
       "              Datetime  DAYTON_MW\n",
       "0  2004-12-31 01:00:00     1596.0\n",
       "1  2004-12-31 02:00:00     1517.0\n",
       "2  2004-12-31 03:00:00     1486.0\n",
       "3  2004-12-31 04:00:00     1469.0\n",
       "4  2004-12-31 05:00:00     1472.0"
      ]
     },
     "execution_count": 51,
     "metadata": {},
     "output_type": "execute_result"
    }
   ],
   "source": [
    "data.head()"
   ]
  },
  {
   "cell_type": "code",
   "execution_count": 52,
   "id": "5708371f-1712-40eb-910e-5856bf5724ba",
   "metadata": {},
   "outputs": [
    {
     "name": "stdout",
     "output_type": "stream",
     "text": [
      "<class 'pandas.core.frame.DataFrame'>\n",
      "RangeIndex: 121275 entries, 0 to 121274\n",
      "Data columns (total 2 columns):\n",
      " #   Column     Non-Null Count   Dtype  \n",
      "---  ------     --------------   -----  \n",
      " 0   Datetime   121275 non-null  object \n",
      " 1   DAYTON_MW  121275 non-null  float64\n",
      "dtypes: float64(1), object(1)\n",
      "memory usage: 1.9+ MB\n"
     ]
    }
   ],
   "source": [
    "data.info()"
   ]
  },
  {
   "cell_type": "code",
   "execution_count": 53,
   "id": "732b963d-2b4d-4b9f-893e-e7151932e94e",
   "metadata": {},
   "outputs": [],
   "source": [
    "# Converting 'Datetime' to correct type\n",
    "data.Datetime = pd.to_datetime(data.Datetime)\n",
    "data.sort_values(by=\"Datetime\", inplace=True)"
   ]
  },
  {
   "cell_type": "code",
   "execution_count": 54,
   "id": "b22fb305-bf64-4a35-b520-657e776fc7fd",
   "metadata": {},
   "outputs": [
    {
     "data": {
      "image/png": "[encoded data removed]",
      "text/plain": [
       "<Figure size 640x480 with 1 Axes>"
      ]
     },
     "metadata": {},
     "output_type": "display_data"
    }
   ],
   "source": [
    "# Plotting data\n",
    "import matplotlib.pyplot as plt\n",
    "\n",
    "plt.plot(data['Datetime'], data['DAYTON_MW'], label='Hourly Data')\n",
    "plt.title('Hourly Data over Time')\n",
    "plt.xlabel('Datetime')\n",
    "plt.ylabel('DAYTON_MW')\n",
    "plt.legend()\n",
    "plt.show()"
   ]
  },
  {
   "cell_type": "markdown",
   "id": "068fd56c-4ca9-4bc1-a1ab-cb66cd4aaf07",
   "metadata": {},
   "source": [
    "##### Train test split (use provided helper function helper.py Download helper.py, as we can’t use sklearn’s for time series data)"
   ]
  },
  {
   "cell_type": "code",
   "execution_count": 55,
   "id": "6bafdaec-9a64-48a0-8671-070578c193e4",
   "metadata": {},
   "outputs": [],
   "source": [
    "from helper import *"
   ]
  },
  {
   "cell_type": "code",
   "execution_count": 57,
   "id": "2454c016-9fae-428d-acd7-aa8f3b98305c",
   "metadata": {},
   "outputs": [],
   "source": [
    "lag = 3\n",
    "test_ratio = 0.15\n",
    "X_train, X_test, Y_train, Y_test = create_data_for_NN(\n",
    "    data, data.columns[-1], lag, test_ratio\n",
    ")"
   ]
  },
  {
   "cell_type": "markdown",
   "id": "9d669544-d025-458b-87a8-5ea43f8aa77c",
   "metadata": {},
   "source": [
    "##### Fit a single layer LSTM with lag = 3 hours"
   ]
  },
  {
   "cell_type": "code",
   "execution_count": 56,
   "id": "f952a785-4afb-4395-be35-aac3db25971e",
   "metadata": {},
   "outputs": [],
   "source": [
    "from tensorflow.keras.layers import Bidirectional"
   ]
  },
  {
   "cell_type": "code",
   "execution_count": 90,
   "id": "cb031712-d9ac-4e6c-b067-f7bd83a1f908",
   "metadata": {},
   "outputs": [],
   "source": [
    "model_3hr = Sequential([\n",
    "    LSTM(units = 50, recurrent_dropout=0.5),\n",
    "    Dense(1)\n",
    "])"
   ]
  },
  {
   "cell_type": "code",
   "execution_count": 91,
   "id": "c0598412-c096-4451-8628-79a7c56ae624",
   "metadata": {},
   "outputs": [],
   "source": [
    "model_3hr.compile(\n",
    "    optimizer='adam', \n",
    "    loss='mean_squared_error',\n",
    "    metrics=['accuracy']\n",
    ")"
   ]
  },
  {
   "cell_type": "code",
   "execution_count": 92,
   "id": "e5d2e64f-595e-4129-9692-5e7d4887e826",
   "metadata": {
    "scrolled": true
   },
   "outputs": [
    {
     "name": "stdout",
     "output_type": "stream",
     "text": [
      "Epoch 1/20\n",
      "\u001b[1m2416/2416\u001b[0m \u001b[32m━━━━━━━━━━━━━━━━━━━━\u001b[0m\u001b[37m\u001b[0m \u001b[1m2s\u001b[0m 736us/step - accuracy: 0.0000e+00 - loss: 4354421.0000 - val_accuracy: 0.0000e+00 - val_loss: 3982657.2500\n",
      "Epoch 2/20\n",
      "\u001b[1m2416/2416\u001b[0m \u001b[32m━━━━━━━━━━━━━━━━━━━━\u001b[0m\u001b[37m\u001b[0m \u001b[1m2s\u001b[0m 695us/step - accuracy: 0.0000e+00 - loss: 4234024.5000 - val_accuracy: 0.0000e+00 - val_loss: 3872469.0000\n",
      "Epoch 3/20\n",
      "\u001b[1m2416/2416\u001b[0m \u001b[32m━━━━━━━━━━━━━━━━━━━━\u001b[0m\u001b[37m\u001b[0m \u001b[1m2s\u001b[0m 670us/step - accuracy: 0.0000e+00 - loss: 4119581.5000 - val_accuracy: 0.0000e+00 - val_loss: 3764050.2500\n",
      "Epoch 4/20\n",
      "\u001b[1m2416/2416\u001b[0m \u001b[32m━━━━━━━━━━━━━━━━━━━━\u001b[0m\u001b[37m\u001b[0m \u001b[1m2s\u001b[0m 737us/step - accuracy: 0.0000e+00 - loss: 4009139.2500 - val_accuracy: 0.0000e+00 - val_loss: 3657209.5000\n",
      "Epoch 5/20\n",
      "\u001b[1m2416/2416\u001b[0m \u001b[32m━━━━━━━━━━━━━━━━━━━━\u001b[0m\u001b[37m\u001b[0m \u001b[1m2s\u001b[0m 720us/step - accuracy: 0.0000e+00 - loss: 3904187.5000 - val_accuracy: 0.0000e+00 - val_loss: 3552007.5000\n",
      "Epoch 6/20\n",
      "\u001b[1m2416/2416\u001b[0m \u001b[32m━━━━━━━━━━━━━━━━━━━━\u001b[0m\u001b[37m\u001b[0m \u001b[1m2s\u001b[0m 685us/step - accuracy: 0.0000e+00 - loss: 3796821.7500 - val_accuracy: 0.0000e+00 - val_loss: 3448356.7500\n",
      "Epoch 7/20\n",
      "\u001b[1m2416/2416\u001b[0m \u001b[32m━━━━━━━━━━━━━━━━━━━━\u001b[0m\u001b[37m\u001b[0m \u001b[1m2s\u001b[0m 702us/step - accuracy: 0.0000e+00 - loss: 3684375.2500 - val_accuracy: 0.0000e+00 - val_loss: 3346369.2500\n",
      "Epoch 8/20\n",
      "\u001b[1m2416/2416\u001b[0m \u001b[32m━━━━━━━━━━━━━━━━━━━━\u001b[0m\u001b[37m\u001b[0m \u001b[1m2s\u001b[0m 685us/step - accuracy: 0.0000e+00 - loss: 3584498.7500 - val_accuracy: 0.0000e+00 - val_loss: 3245995.2500\n",
      "Epoch 9/20\n",
      "\u001b[1m2416/2416\u001b[0m \u001b[32m━━━━━━━━━━━━━━━━━━━━\u001b[0m\u001b[37m\u001b[0m \u001b[1m2s\u001b[0m 722us/step - accuracy: 0.0000e+00 - loss: 3479066.0000 - val_accuracy: 0.0000e+00 - val_loss: 3147179.5000\n",
      "Epoch 10/20\n",
      "\u001b[1m2416/2416\u001b[0m \u001b[32m━━━━━━━━━━━━━━━━━━━━\u001b[0m\u001b[37m\u001b[0m \u001b[1m2s\u001b[0m 710us/step - accuracy: 0.0000e+00 - loss: 3370390.2500 - val_accuracy: 0.0000e+00 - val_loss: 3049972.5000\n",
      "Epoch 11/20\n",
      "\u001b[1m2416/2416\u001b[0m \u001b[32m━━━━━━━━━━━━━━━━━━━━\u001b[0m\u001b[37m\u001b[0m \u001b[1m2s\u001b[0m 698us/step - accuracy: 0.0000e+00 - loss: 3274429.2500 - val_accuracy: 0.0000e+00 - val_loss: 2954436.7500\n",
      "Epoch 12/20\n",
      "\u001b[1m2416/2416\u001b[0m \u001b[32m━━━━━━━━━━━━━━━━━━━━\u001b[0m\u001b[37m\u001b[0m \u001b[1m2s\u001b[0m 653us/step - accuracy: 0.0000e+00 - loss: 3176401.0000 - val_accuracy: 0.0000e+00 - val_loss: 2860450.5000\n",
      "Epoch 13/20\n",
      "\u001b[1m2416/2416\u001b[0m \u001b[32m━━━━━━━━━━━━━━━━━━━━\u001b[0m\u001b[37m\u001b[0m \u001b[1m2s\u001b[0m 686us/step - accuracy: 0.0000e+00 - loss: 3075489.7500 - val_accuracy: 0.0000e+00 - val_loss: 2768080.0000\n",
      "Epoch 14/20\n",
      "\u001b[1m2416/2416\u001b[0m \u001b[32m━━━━━━━━━━━━━━━━━━━━\u001b[0m\u001b[37m\u001b[0m \u001b[1m2s\u001b[0m 686us/step - accuracy: 0.0000e+00 - loss: 2974462.2500 - val_accuracy: 0.0000e+00 - val_loss: 2677296.7500\n",
      "Epoch 15/20\n",
      "\u001b[1m2416/2416\u001b[0m \u001b[32m━━━━━━━━━━━━━━━━━━━━\u001b[0m\u001b[37m\u001b[0m \u001b[1m2s\u001b[0m 711us/step - accuracy: 0.0000e+00 - loss: 2885568.5000 - val_accuracy: 0.0000e+00 - val_loss: 2588155.0000\n",
      "Epoch 16/20\n",
      "\u001b[1m2416/2416\u001b[0m \u001b[32m━━━━━━━━━━━━━━━━━━━━\u001b[0m\u001b[37m\u001b[0m \u001b[1m2s\u001b[0m 665us/step - accuracy: 0.0000e+00 - loss: 2787041.5000 - val_accuracy: 0.0000e+00 - val_loss: 2500618.2500\n",
      "Epoch 17/20\n",
      "\u001b[1m2416/2416\u001b[0m \u001b[32m━━━━━━━━━━━━━━━━━━━━\u001b[0m\u001b[37m\u001b[0m \u001b[1m2s\u001b[0m 732us/step - accuracy: 0.0000e+00 - loss: 2703677.5000 - val_accuracy: 0.0000e+00 - val_loss: 2414728.5000\n",
      "Epoch 18/20\n",
      "\u001b[1m2416/2416\u001b[0m \u001b[32m━━━━━━━━━━━━━━━━━━━━\u001b[0m\u001b[37m\u001b[0m \u001b[1m2s\u001b[0m 695us/step - accuracy: 0.0000e+00 - loss: 2616768.2500 - val_accuracy: 0.0000e+00 - val_loss: 2330396.0000\n",
      "Epoch 19/20\n",
      "\u001b[1m2416/2416\u001b[0m \u001b[32m━━━━━━━━━━━━━━━━━━━━\u001b[0m\u001b[37m\u001b[0m \u001b[1m2s\u001b[0m 736us/step - accuracy: 0.0000e+00 - loss: 2524536.2500 - val_accuracy: 0.0000e+00 - val_loss: 2247653.7500\n",
      "Epoch 20/20\n",
      "\u001b[1m2416/2416\u001b[0m \u001b[32m━━━━━━━━━━━━━━━━━━━━\u001b[0m\u001b[37m\u001b[0m \u001b[1m2s\u001b[0m 735us/step - accuracy: 0.0000e+00 - loss: 2440201.0000 - val_accuracy: 0.0000e+00 - val_loss: 2166538.5000\n"
     ]
    },
    {
     "data": {
      "text/plain": [
       "<keras.src.callbacks.history.History at 0x35621a6d0>"
      ]
     },
     "execution_count": 92,
     "metadata": {},
     "output_type": "execute_result"
    }
   ],
   "source": [
    "model_3hr.fit(\n",
    "    X_train, \n",
    "    Y_train, \n",
    "    epochs=20, \n",
    "    validation_split=0.25\n",
    ")"
   ]
  },
  {
   "cell_type": "markdown",
   "id": "d10016c3-7c25-422a-b95e-7b10e58b46c4",
   "metadata": {},
   "source": [
    "##### Fit a single layer LSTM with lag = 24 hours"
   ]
  },
  {
   "cell_type": "code",
   "execution_count": 96,
   "id": "952bd6c3-73ea-4d0b-a7a0-03ebf8f0a657",
   "metadata": {},
   "outputs": [],
   "source": [
    "lag = 24\n",
    "X_train, X_test, Y_train, Y_test = create_data_for_NN(\n",
    "    data, data.columns[-1], lag, test_ratio\n",
    ")"
   ]
  },
  {
   "cell_type": "code",
   "execution_count": 97,
   "id": "12551fc5-10aa-40d3-81ec-f55e3431dfc3",
   "metadata": {},
   "outputs": [],
   "source": [
    "model_24hr = Sequential([\n",
    "    LSTM(units = 50),\n",
    "    Dense(1)\n",
    "])"
   ]
  },
  {
   "cell_type": "code",
   "execution_count": 98,
   "id": "786a13c6-b06d-4742-8432-093ffe50267b",
   "metadata": {},
   "outputs": [],
   "source": [
    "model_24hr.compile(\n",
    "    optimizer='adam', \n",
    "    loss='mean_squared_error',\n",
    "    metrics=['accuracy']\n",
    ")"
   ]
  },
  {
   "cell_type": "code",
   "execution_count": 99,
   "id": "b2fc2c3f-49d7-4285-b4cc-65df8e64bfd8",
   "metadata": {},
   "outputs": [
    {
     "name": "stdout",
     "output_type": "stream",
     "text": [
      "Epoch 1/20\n",
      "\u001b[1m2416/2416\u001b[0m \u001b[32m━━━━━━━━━━━━━━━━━━━━\u001b[0m\u001b[37m\u001b[0m \u001b[1m8s\u001b[0m 3ms/step - accuracy: 0.0000e+00 - loss: 4351977.0000 - val_accuracy: 0.0000e+00 - val_loss: 3991022.5000\n",
      "Epoch 2/20\n",
      "\u001b[1m2416/2416\u001b[0m \u001b[32m━━━━━━━━━━━━━━━━━━━━\u001b[0m\u001b[37m\u001b[0m \u001b[1m7s\u001b[0m 3ms/step - accuracy: 0.0000e+00 - loss: 4243461.5000 - val_accuracy: 0.0000e+00 - val_loss: 3887078.2500\n",
      "Epoch 3/20\n",
      "\u001b[1m2416/2416\u001b[0m \u001b[32m━━━━━━━━━━━━━━━━━━━━\u001b[0m\u001b[37m\u001b[0m \u001b[1m7s\u001b[0m 3ms/step - accuracy: 0.0000e+00 - loss: 4142449.2500 - val_accuracy: 0.0000e+00 - val_loss: 3784643.2500\n",
      "Epoch 4/20\n",
      "\u001b[1m2416/2416\u001b[0m \u001b[32m━━━━━━━━━━━━━━━━━━━━\u001b[0m\u001b[37m\u001b[0m \u001b[1m7s\u001b[0m 3ms/step - accuracy: 0.0000e+00 - loss: 4043431.5000 - val_accuracy: 0.0000e+00 - val_loss: 3683587.7500\n",
      "Epoch 5/20\n",
      "\u001b[1m2416/2416\u001b[0m \u001b[32m━━━━━━━━━━━━━━━━━━━━\u001b[0m\u001b[37m\u001b[0m \u001b[1m7s\u001b[0m 3ms/step - accuracy: 0.0000e+00 - loss: 3927550.5000 - val_accuracy: 0.0000e+00 - val_loss: 3584004.7500\n",
      "Epoch 6/20\n",
      "\u001b[1m2416/2416\u001b[0m \u001b[32m━━━━━━━━━━━━━━━━━━━━\u001b[0m\u001b[37m\u001b[0m \u001b[1m7s\u001b[0m 3ms/step - accuracy: 0.0000e+00 - loss: 3822117.0000 - val_accuracy: 0.0000e+00 - val_loss: 3485813.2500\n",
      "Epoch 7/20\n",
      "\u001b[1m2416/2416\u001b[0m \u001b[32m━━━━━━━━━━━━━━━━━━━━\u001b[0m\u001b[37m\u001b[0m \u001b[1m7s\u001b[0m 3ms/step - accuracy: 0.0000e+00 - loss: 3720377.0000 - val_accuracy: 0.0000e+00 - val_loss: 3389072.5000\n",
      "Epoch 8/20\n",
      "\u001b[1m2416/2416\u001b[0m \u001b[32m━━━━━━━━━━━━━━━━━━━━\u001b[0m\u001b[37m\u001b[0m \u001b[1m7s\u001b[0m 3ms/step - accuracy: 0.0000e+00 - loss: 3628372.5000 - val_accuracy: 0.0000e+00 - val_loss: 3293782.2500\n",
      "Epoch 9/20\n",
      "\u001b[1m2416/2416\u001b[0m \u001b[32m━━━━━━━━━━━━━━━━━━━━\u001b[0m\u001b[37m\u001b[0m \u001b[1m7s\u001b[0m 3ms/step - accuracy: 0.0000e+00 - loss: 3517635.7500 - val_accuracy: 0.0000e+00 - val_loss: 3199864.2500\n",
      "Epoch 10/20\n",
      "\u001b[1m2416/2416\u001b[0m \u001b[32m━━━━━━━━━━━━━━━━━━━━\u001b[0m\u001b[37m\u001b[0m \u001b[1m7s\u001b[0m 3ms/step - accuracy: 0.0000e+00 - loss: 3421216.5000 - val_accuracy: 0.0000e+00 - val_loss: 3107423.5000\n",
      "Epoch 11/20\n",
      "\u001b[1m2416/2416\u001b[0m \u001b[32m━━━━━━━━━━━━━━━━━━━━\u001b[0m\u001b[37m\u001b[0m \u001b[1m7s\u001b[0m 3ms/step - accuracy: 0.0000e+00 - loss: 3341652.5000 - val_accuracy: 0.0000e+00 - val_loss: 3016424.2500\n",
      "Epoch 12/20\n",
      "\u001b[1m2416/2416\u001b[0m \u001b[32m━━━━━━━━━━━━━━━━━━━━\u001b[0m\u001b[37m\u001b[0m \u001b[1m7s\u001b[0m 3ms/step - accuracy: 0.0000e+00 - loss: 3232456.0000 - val_accuracy: 0.0000e+00 - val_loss: 2926784.5000\n",
      "Epoch 13/20\n",
      "\u001b[1m2416/2416\u001b[0m \u001b[32m━━━━━━━━━━━━━━━━━━━━\u001b[0m\u001b[37m\u001b[0m \u001b[1m7s\u001b[0m 3ms/step - accuracy: 0.0000e+00 - loss: 3151198.0000 - val_accuracy: 0.0000e+00 - val_loss: 2838647.0000\n",
      "Epoch 14/20\n",
      "\u001b[1m2416/2416\u001b[0m \u001b[32m━━━━━━━━━━━━━━━━━━━━\u001b[0m\u001b[37m\u001b[0m \u001b[1m7s\u001b[0m 3ms/step - accuracy: 0.0000e+00 - loss: 3052480.0000 - val_accuracy: 0.0000e+00 - val_loss: 2751880.5000\n",
      "Epoch 15/20\n",
      "\u001b[1m2416/2416\u001b[0m \u001b[32m━━━━━━━━━━━━━━━━━━━━\u001b[0m\u001b[37m\u001b[0m \u001b[1m7s\u001b[0m 3ms/step - accuracy: 0.0000e+00 - loss: 2964286.5000 - val_accuracy: 0.0000e+00 - val_loss: 2666556.0000\n",
      "Epoch 16/20\n",
      "\u001b[1m2416/2416\u001b[0m \u001b[32m━━━━━━━━━━━━━━━━━━━━\u001b[0m\u001b[37m\u001b[0m \u001b[1m7s\u001b[0m 3ms/step - accuracy: 0.0000e+00 - loss: 2883415.7500 - val_accuracy: 0.0000e+00 - val_loss: 2582673.0000\n",
      "Epoch 17/20\n",
      "\u001b[1m2416/2416\u001b[0m \u001b[32m━━━━━━━━━━━━━━━━━━━━\u001b[0m\u001b[37m\u001b[0m \u001b[1m7s\u001b[0m 3ms/step - accuracy: 0.0000e+00 - loss: 2788217.0000 - val_accuracy: 0.0000e+00 - val_loss: 2500202.7500\n",
      "Epoch 18/20\n",
      "\u001b[1m2416/2416\u001b[0m \u001b[32m━━━━━━━━━━━━━━━━━━━━\u001b[0m\u001b[37m\u001b[0m \u001b[1m7s\u001b[0m 3ms/step - accuracy: 0.0000e+00 - loss: 2691942.2500 - val_accuracy: 0.0000e+00 - val_loss: 2419122.5000\n",
      "Epoch 19/20\n",
      "\u001b[1m2416/2416\u001b[0m \u001b[32m━━━━━━━━━━━━━━━━━━━━\u001b[0m\u001b[37m\u001b[0m \u001b[1m7s\u001b[0m 3ms/step - accuracy: 0.0000e+00 - loss: 2620984.2500 - val_accuracy: 0.0000e+00 - val_loss: 2339543.5000\n",
      "Epoch 20/20\n",
      "\u001b[1m2416/2416\u001b[0m \u001b[32m━━━━━━━━━━━━━━━━━━━━\u001b[0m\u001b[37m\u001b[0m \u001b[1m7s\u001b[0m 3ms/step - accuracy: 0.0000e+00 - loss: 2540608.7500 - val_accuracy: 0.0000e+00 - val_loss: 2261343.7500\n"
     ]
    },
    {
     "data": {
      "text/plain": [
       "<keras.src.callbacks.history.History at 0x3588f7090>"
      ]
     },
     "execution_count": 99,
     "metadata": {},
     "output_type": "execute_result"
    }
   ],
   "source": [
    "model_24hr.fit(\n",
    "    X_train, \n",
    "    Y_train, \n",
    "    epochs=20, \n",
    "    validation_split=0.25\n",
    ")"
   ]
  },
  {
   "cell_type": "markdown",
   "id": "83e50d82-ab5a-4f51-8d3b-1b71f64973b9",
   "metadata": {},
   "source": [
    "##### Fit a bidirectional LSTM with lag = 24 hours"
   ]
  },
  {
   "cell_type": "code",
   "execution_count": 100,
   "id": "a43f8956-7789-4336-9f99-b1df600c5d3e",
   "metadata": {},
   "outputs": [],
   "source": [
    "model_bidir = Sequential([\n",
    "    Bidirectional(LSTM(units=50)),\n",
    "    Dense(1)\n",
    "])"
   ]
  },
  {
   "cell_type": "code",
   "execution_count": 101,
   "id": "87f7c6e6-8c49-4fde-ab88-69c1c95caa21",
   "metadata": {},
   "outputs": [],
   "source": [
    "model_bidir.compile(\n",
    "    optimizer='adam', \n",
    "    loss='mean_squared_error',\n",
    "    metrics=['accuracy']\n",
    ")"
   ]
  },
  {
   "cell_type": "code",
   "execution_count": 102,
   "id": "522cc9f3-54a4-4737-ad5a-307274f0eb62",
   "metadata": {},
   "outputs": [
    {
     "name": "stdout",
     "output_type": "stream",
     "text": [
      "Epoch 1/20\n",
      "\u001b[1m2416/2416\u001b[0m \u001b[32m━━━━━━━━━━━━━━━━━━━━\u001b[0m\u001b[37m\u001b[0m \u001b[1m14s\u001b[0m 6ms/step - accuracy: 0.0000e+00 - loss: 4311975.0000 - val_accuracy: 0.0000e+00 - val_loss: 3805317.2500\n",
      "Epoch 2/20\n",
      "\u001b[1m2416/2416\u001b[0m \u001b[32m━━━━━━━━━━━━━━━━━━━━\u001b[0m\u001b[37m\u001b[0m \u001b[1m14s\u001b[0m 6ms/step - accuracy: 0.0000e+00 - loss: 3997485.2500 - val_accuracy: 0.0000e+00 - val_loss: 3515314.7500\n",
      "Epoch 3/20\n",
      "\u001b[1m2416/2416\u001b[0m \u001b[32m━━━━━━━━━━━━━━━━━━━━\u001b[0m\u001b[37m\u001b[0m \u001b[1m15s\u001b[0m 6ms/step - accuracy: 0.0000e+00 - loss: 3702049.0000 - val_accuracy: 0.0000e+00 - val_loss: 3242241.2500\n",
      "Epoch 4/20\n",
      "\u001b[1m2416/2416\u001b[0m \u001b[32m━━━━━━━━━━━━━━━━━━━━\u001b[0m\u001b[37m\u001b[0m \u001b[1m14s\u001b[0m 6ms/step - accuracy: 0.0000e+00 - loss: 3427290.5000 - val_accuracy: 0.0000e+00 - val_loss: 2981229.5000\n",
      "Epoch 5/20\n",
      "\u001b[1m2416/2416\u001b[0m \u001b[32m━━━━━━━━━━━━━━━━━━━━\u001b[0m\u001b[37m\u001b[0m \u001b[1m14s\u001b[0m 6ms/step - accuracy: 0.0000e+00 - loss: 3162978.7500 - val_accuracy: 0.0000e+00 - val_loss: 2731896.2500\n",
      "Epoch 6/20\n",
      "\u001b[1m2416/2416\u001b[0m \u001b[32m━━━━━━━━━━━━━━━━━━━━\u001b[0m\u001b[37m\u001b[0m \u001b[1m15s\u001b[0m 6ms/step - accuracy: 0.0000e+00 - loss: 2911950.2500 - val_accuracy: 0.0000e+00 - val_loss: 2494231.0000\n",
      "Epoch 7/20\n",
      "\u001b[1m2416/2416\u001b[0m \u001b[32m━━━━━━━━━━━━━━━━━━━━\u001b[0m\u001b[37m\u001b[0m \u001b[1m15s\u001b[0m 6ms/step - accuracy: 0.0000e+00 - loss: 2656580.7500 - val_accuracy: 0.0000e+00 - val_loss: 2268157.5000\n",
      "Epoch 8/20\n",
      "\u001b[1m2416/2416\u001b[0m \u001b[32m━━━━━━━━━━━━━━━━━━━━\u001b[0m\u001b[37m\u001b[0m \u001b[1m15s\u001b[0m 6ms/step - accuracy: 0.0000e+00 - loss: 2423192.5000 - val_accuracy: 0.0000e+00 - val_loss: 2053655.5000\n",
      "Epoch 9/20\n",
      "\u001b[1m2416/2416\u001b[0m \u001b[32m━━━━━━━━━━━━━━━━━━━━\u001b[0m\u001b[37m\u001b[0m \u001b[1m13s\u001b[0m 5ms/step - accuracy: 0.0000e+00 - loss: 2213097.5000 - val_accuracy: 0.0000e+00 - val_loss: 1850901.0000\n",
      "Epoch 10/20\n",
      "\u001b[1m2416/2416\u001b[0m \u001b[32m━━━━━━━━━━━━━━━━━━━━\u001b[0m\u001b[37m\u001b[0m \u001b[1m14s\u001b[0m 6ms/step - accuracy: 0.0000e+00 - loss: 2001888.2500 - val_accuracy: 0.0000e+00 - val_loss: 1659656.2500\n",
      "Epoch 11/20\n",
      "\u001b[1m2416/2416\u001b[0m \u001b[32m━━━━━━━━━━━━━━━━━━━━\u001b[0m\u001b[37m\u001b[0m \u001b[1m14s\u001b[0m 6ms/step - accuracy: 0.0000e+00 - loss: 1797978.8750 - val_accuracy: 0.0000e+00 - val_loss: 1479898.6250\n",
      "Epoch 12/20\n",
      "\u001b[1m2416/2416\u001b[0m \u001b[32m━━━━━━━━━━━━━━━━━━━━\u001b[0m\u001b[37m\u001b[0m \u001b[1m15s\u001b[0m 6ms/step - accuracy: 0.0000e+00 - loss: 1612912.6250 - val_accuracy: 0.0000e+00 - val_loss: 1311790.6250\n",
      "Epoch 13/20\n",
      "\u001b[1m2416/2416\u001b[0m \u001b[32m━━━━━━━━━━━━━━━━━━━━\u001b[0m\u001b[37m\u001b[0m \u001b[1m15s\u001b[0m 6ms/step - accuracy: 0.0000e+00 - loss: 1435497.2500 - val_accuracy: 0.0000e+00 - val_loss: 1155159.5000\n",
      "Epoch 14/20\n",
      "\u001b[1m2416/2416\u001b[0m \u001b[32m━━━━━━━━━━━━━━━━━━━━\u001b[0m\u001b[37m\u001b[0m \u001b[1m14s\u001b[0m 6ms/step - accuracy: 0.0000e+00 - loss: 1272110.2500 - val_accuracy: 0.0000e+00 - val_loss: 1010167.0000\n",
      "Epoch 15/20\n",
      "\u001b[1m2416/2416\u001b[0m \u001b[32m━━━━━━━━━━━━━━━━━━━━\u001b[0m\u001b[37m\u001b[0m \u001b[1m14s\u001b[0m 6ms/step - accuracy: 0.0000e+00 - loss: 1120528.5000 - val_accuracy: 0.0000e+00 - val_loss: 876607.6875\n",
      "Epoch 16/20\n",
      "\u001b[1m2416/2416\u001b[0m \u001b[32m━━━━━━━━━━━━━━━━━━━━\u001b[0m\u001b[37m\u001b[0m \u001b[1m14s\u001b[0m 6ms/step - accuracy: 0.0000e+00 - loss: 984626.5625 - val_accuracy: 0.0000e+00 - val_loss: 754353.3125\n",
      "Epoch 17/20\n",
      "\u001b[1m2416/2416\u001b[0m \u001b[32m━━━━━━━━━━━━━━━━━━━━\u001b[0m\u001b[37m\u001b[0m \u001b[1m14s\u001b[0m 6ms/step - accuracy: 0.0000e+00 - loss: 848627.2500 - val_accuracy: 0.0000e+00 - val_loss: 643531.3125\n",
      "Epoch 18/20\n",
      "\u001b[1m2416/2416\u001b[0m \u001b[32m━━━━━━━━━━━━━━━━━━━━\u001b[0m\u001b[37m\u001b[0m \u001b[1m14s\u001b[0m 6ms/step - accuracy: 0.0000e+00 - loss: 732545.3125 - val_accuracy: 0.0000e+00 - val_loss: 544217.2500\n",
      "Epoch 19/20\n",
      "\u001b[1m2416/2416\u001b[0m \u001b[32m━━━━━━━━━━━━━━━━━━━━\u001b[0m\u001b[37m\u001b[0m \u001b[1m15s\u001b[0m 6ms/step - accuracy: 0.0000e+00 - loss: 629598.0625 - val_accuracy: 0.0000e+00 - val_loss: 456085.8750\n",
      "Epoch 20/20\n",
      "\u001b[1m2416/2416\u001b[0m \u001b[32m━━━━━━━━━━━━━━━━━━━━\u001b[0m\u001b[37m\u001b[0m \u001b[1m14s\u001b[0m 6ms/step - accuracy: 0.0000e+00 - loss: 531212.1250 - val_accuracy: 0.0000e+00 - val_loss: 379094.3750\n"
     ]
    },
    {
     "data": {
      "text/plain": [
       "<keras.src.callbacks.history.History at 0x3584f55d0>"
      ]
     },
     "execution_count": 102,
     "metadata": {},
     "output_type": "execute_result"
    }
   ],
   "source": [
    "model_bidir.fit(\n",
    "    X_train,\n",
    "    Y_train,\n",
    "    epochs=20,\n",
    "    validation_split=0.25\n",
    ")"
   ]
  },
  {
   "cell_type": "markdown",
   "id": "0c623e03-ee8c-42e5-8619-33aac6409c62",
   "metadata": {},
   "source": [
    "##### Plot results on test set and compare performance using RMSE"
   ]
  },
  {
   "cell_type": "code",
   "execution_count": 68,
   "id": "888bc6f2-8da4-4ccc-8daa-6a643cfd6cfc",
   "metadata": {},
   "outputs": [],
   "source": [
    "from sklearn.metrics import mean_squared_error\n",
    "from math import sqrt"
   ]
  },
  {
   "cell_type": "code",
   "execution_count": 93,
   "id": "d06a0a7e-bdae-447d-886d-44b7214ee419",
   "metadata": {},
   "outputs": [
    {
     "name": "stdout",
     "output_type": "stream",
     "text": [
      "\u001b[1m569/569\u001b[0m \u001b[32m━━━━━━━━━━━━━━━━━━━━\u001b[0m\u001b[37m\u001b[0m \u001b[1m0s\u001b[0m 378us/step\n"
     ]
    }
   ],
   "source": [
    "# LSTM, lag 3\n",
    "predictions_3hr = model_3hr.predict(X_test)\n",
    "rmse_3hr = sqrt(mean_squared_error(Y_test, predictions_3hr))"
   ]
  },
  {
   "cell_type": "code",
   "execution_count": 95,
   "id": "0c886f47-f09b-4c69-90e1-004fcd2404c3",
   "metadata": {},
   "outputs": [
    {
     "data": {
      "text/plain": [
       "<matplotlib.legend.Legend at 0x357fa0c50>"
      ]
     },
     "execution_count": 95,
     "metadata": {},
     "output_type": "execute_result"
    },
    {
     "data": {
      "image/png": "[encoded data removed]",
      "text/plain": [
       "<Figure size 640x480 with 1 Axes>"
      ]
     },
     "metadata": {},
     "output_type": "display_data"
    }
   ],
   "source": [
    "plt.plot(Y_test, label='Actual')\n",
    "plt.plot(predictions_3hr, label='Predicted')\n",
    "plt.legend()"
   ]
  },
  {
   "cell_type": "code",
   "execution_count": 103,
   "id": "ecf0ef80-c551-450f-b33a-c21dd32a07b4",
   "metadata": {},
   "outputs": [
    {
     "name": "stdout",
     "output_type": "stream",
     "text": [
      "\u001b[1m569/569\u001b[0m \u001b[32m━━━━━━━━━━━━━━━━━━━━\u001b[0m\u001b[37m\u001b[0m \u001b[1m1s\u001b[0m 983us/step\n"
     ]
    }
   ],
   "source": [
    "# LSTM, lag 24\n",
    "predictions_24hr = model_24hr.predict(X_test)\n",
    "rmse_24hr = sqrt(mean_squared_error(Y_test, predictions_24hr))"
   ]
  },
  {
   "cell_type": "code",
   "execution_count": 104,
   "id": "a2054012-76f9-4c00-9787-98d11929cc37",
   "metadata": {},
   "outputs": [
    {
     "data": {
      "text/plain": [
       "<matplotlib.legend.Legend at 0x35bda7e90>"
      ]
     },
     "execution_count": 104,
     "metadata": {},
     "output_type": "execute_result"
    },
    {
     "data": {
      "image/png": "[encoded data removed]",
      "text/plain": [
       "<Figure size 640x480 with 1 Axes>"
      ]
     },
     "metadata": {},
     "output_type": "display_data"
    }
   ],
   "source": [
    "plt.plot(Y_test, label='Actual')\n",
    "plt.plot(predictions_24hr, label='Predicted')\n",
    "plt.legend()"
   ]
  },
  {
   "cell_type": "code",
   "execution_count": 105,
   "id": "2d4af5e5-7dc0-495c-8858-e75b9e18d27b",
   "metadata": {},
   "outputs": [
    {
     "name": "stdout",
     "output_type": "stream",
     "text": [
      "\u001b[1m569/569\u001b[0m \u001b[32m━━━━━━━━━━━━━━━━━━━━\u001b[0m\u001b[37m\u001b[0m \u001b[1m1s\u001b[0m 2ms/step\n"
     ]
    }
   ],
   "source": [
    "# Bidirectional LSTM, lag 24\n",
    "predictions_bidir = model_bidir.predict(X_test)\n",
    "rmse_bidir = sqrt(mean_squared_error(Y_test, predictions_bidir))"
   ]
  },
  {
   "cell_type": "code",
   "execution_count": 106,
   "id": "1b1437a8-5631-4da1-aa30-1079ab07c72c",
   "metadata": {},
   "outputs": [
    {
     "data": {
      "text/plain": [
       "<matplotlib.legend.Legend at 0x35b4b3f10>"
      ]
     },
     "execution_count": 106,
     "metadata": {},
     "output_type": "execute_result"
    },
    {
     "data": {
      "image/png": "[encoded data removed]",
      "text/plain": [
       "<Figure size 640x480 with 1 Axes>"
      ]
     },
     "metadata": {},
     "output_type": "display_data"
    }
   ],
   "source": [
    "plt.plot(Y_test, label='Actual')\n",
    "plt.plot(predictions_bidir, label='Predicted')\n",
    "plt.legend()"
   ]
  },
  {
   "cell_type": "code",
   "execution_count": 107,
   "id": "d981bee3-c838-44f1-b119-02513d23d2aa",
   "metadata": {},
   "outputs": [
    {
     "name": "stdout",
     "output_type": "stream",
     "text": [
      "RMSE with 3hr lag: 1512.1752153222264\n",
      "RMSE with 24hr lag: 1543.9516228362882\n",
      "RMSE with Bidirectional LSTM and 24hr lag: 655.0544611870569\n"
     ]
    }
   ],
   "source": [
    "print('RMSE with 3hr lag:', rmse_3hr)\n",
    "print('RMSE with 24hr lag:', rmse_24hr)\n",
    "print('RMSE with Bidirectional LSTM and 24hr lag:', rmse_bidir)"
   ]
  },
  {
   "cell_type": "code",
   "execution_count": null,
   "id": "511a348e-bd3b-4d9b-bb00-dff88db246ae",
   "metadata": {},
   "outputs": [],
   "source": []
  }
 ],
 "metadata": {
  "kernelspec": {
   "display_name": "Python 3 (ipykernel)",
   "language": "python",
   "name": "python3"
  },
  "language_info": {
   "codemirror_mode": {
    "name": "ipython",
    "version": 3
   },
   "file_extension": ".py",
   "mimetype": "text/x-python",
   "name": "python",
   "nbconvert_exporter": "python",
   "pygments_lexer": "ipython3",
   "version": "3.11.7"
  }
 },
 "nbformat": 4,
 "nbformat_minor": 5
}

{
 "cells": [
  {
   "cell_type": "markdown",
   "id": "8f8d2b75-1224-44da-b8cc-a8ec6fed8742",
   "metadata": {},
   "source": [
    "### Assignment 5\n",
    "#### Natalie Kim"
   ]
  },
  {
   "cell_type": "code",
   "execution_count": 1,
   "id": "21127c6b-e772-4af8-98a9-8b94cec51b27",
   "metadata": {},
   "outputs": [],
   "source": [
    "import pandas as pd"
   ]
  },
  {
   "cell_type": "code",
   "execution_count": 2,
   "id": "3649bb23-473e-40d1-97cc-9f641bd0ba30",
   "metadata": {},
   "outputs": [],
   "source": [
    "data = pd.read_csv('/Users/xnxk040/Library/CloudStorage/OneDrive-TheUniversityofChicago/machine learning/ml data/radio_songs.csv')"
   ]
  },
  {
   "cell_type": "code",
   "execution_count": 3,
   "id": "8cabfa06-3ad8-4c1d-bc50-e3ee4d8d983e",
   "metadata": {},
   "outputs": [
    {
     "data": {
      "text/html": [
       "<div>\n",
       "<style scoped>\n",
       "    .dataframe tbody tr th:only-of-type {\n",
       "        vertical-align: middle;\n",
       "    }\n",
       "\n",
       "    .dataframe tbody tr th {\n",
       "        vertical-align: top;\n",
       "    }\n",
       "\n",
       "    .dataframe thead th {\n",
       "        text-align: right;\n",
       "    }\n",
       "</style>\n",
       "<table border=\"1\" class=\"dataframe\">\n",
       "  <thead>\n",
       "    <tr style=\"text-align: right;\">\n",
       "      <th></th>\n",
       "      <th>user</th>\n",
       "      <th>abba</th>\n",
       "      <th>ac/dc</th>\n",
       "      <th>adam green</th>\n",
       "      <th>aerosmith</th>\n",
       "      <th>afi</th>\n",
       "      <th>air</th>\n",
       "      <th>alanis morissette</th>\n",
       "      <th>alexisonfire</th>\n",
       "      <th>alicia keys</th>\n",
       "      <th>...</th>\n",
       "      <th>timbaland</th>\n",
       "      <th>tom waits</th>\n",
       "      <th>tool</th>\n",
       "      <th>tori amos</th>\n",
       "      <th>travis</th>\n",
       "      <th>trivium</th>\n",
       "      <th>u2</th>\n",
       "      <th>underoath</th>\n",
       "      <th>volbeat</th>\n",
       "      <th>yann tiersen</th>\n",
       "    </tr>\n",
       "  </thead>\n",
       "  <tbody>\n",
       "    <tr>\n",
       "      <th>0</th>\n",
       "      <td>1</td>\n",
       "      <td>0</td>\n",
       "      <td>0</td>\n",
       "      <td>0</td>\n",
       "      <td>0</td>\n",
       "      <td>0</td>\n",
       "      <td>0</td>\n",
       "      <td>0</td>\n",
       "      <td>0</td>\n",
       "      <td>0</td>\n",
       "      <td>...</td>\n",
       "      <td>0</td>\n",
       "      <td>0</td>\n",
       "      <td>0</td>\n",
       "      <td>0</td>\n",
       "      <td>0</td>\n",
       "      <td>0</td>\n",
       "      <td>0</td>\n",
       "      <td>0</td>\n",
       "      <td>0</td>\n",
       "      <td>0</td>\n",
       "    </tr>\n",
       "    <tr>\n",
       "      <th>1</th>\n",
       "      <td>33</td>\n",
       "      <td>0</td>\n",
       "      <td>0</td>\n",
       "      <td>1</td>\n",
       "      <td>0</td>\n",
       "      <td>0</td>\n",
       "      <td>0</td>\n",
       "      <td>0</td>\n",
       "      <td>0</td>\n",
       "      <td>0</td>\n",
       "      <td>...</td>\n",
       "      <td>0</td>\n",
       "      <td>0</td>\n",
       "      <td>0</td>\n",
       "      <td>0</td>\n",
       "      <td>0</td>\n",
       "      <td>0</td>\n",
       "      <td>0</td>\n",
       "      <td>0</td>\n",
       "      <td>0</td>\n",
       "      <td>0</td>\n",
       "    </tr>\n",
       "    <tr>\n",
       "      <th>2</th>\n",
       "      <td>42</td>\n",
       "      <td>0</td>\n",
       "      <td>0</td>\n",
       "      <td>0</td>\n",
       "      <td>0</td>\n",
       "      <td>0</td>\n",
       "      <td>0</td>\n",
       "      <td>0</td>\n",
       "      <td>0</td>\n",
       "      <td>0</td>\n",
       "      <td>...</td>\n",
       "      <td>0</td>\n",
       "      <td>0</td>\n",
       "      <td>0</td>\n",
       "      <td>0</td>\n",
       "      <td>0</td>\n",
       "      <td>0</td>\n",
       "      <td>0</td>\n",
       "      <td>0</td>\n",
       "      <td>0</td>\n",
       "      <td>0</td>\n",
       "    </tr>\n",
       "    <tr>\n",
       "      <th>3</th>\n",
       "      <td>51</td>\n",
       "      <td>0</td>\n",
       "      <td>0</td>\n",
       "      <td>0</td>\n",
       "      <td>0</td>\n",
       "      <td>0</td>\n",
       "      <td>0</td>\n",
       "      <td>0</td>\n",
       "      <td>0</td>\n",
       "      <td>0</td>\n",
       "      <td>...</td>\n",
       "      <td>0</td>\n",
       "      <td>0</td>\n",
       "      <td>0</td>\n",
       "      <td>0</td>\n",
       "      <td>0</td>\n",
       "      <td>0</td>\n",
       "      <td>0</td>\n",
       "      <td>0</td>\n",
       "      <td>0</td>\n",
       "      <td>0</td>\n",
       "    </tr>\n",
       "    <tr>\n",
       "      <th>4</th>\n",
       "      <td>62</td>\n",
       "      <td>0</td>\n",
       "      <td>0</td>\n",
       "      <td>0</td>\n",
       "      <td>0</td>\n",
       "      <td>0</td>\n",
       "      <td>0</td>\n",
       "      <td>0</td>\n",
       "      <td>0</td>\n",
       "      <td>0</td>\n",
       "      <td>...</td>\n",
       "      <td>0</td>\n",
       "      <td>0</td>\n",
       "      <td>0</td>\n",
       "      <td>0</td>\n",
       "      <td>0</td>\n",
       "      <td>0</td>\n",
       "      <td>0</td>\n",
       "      <td>0</td>\n",
       "      <td>0</td>\n",
       "      <td>0</td>\n",
       "    </tr>\n",
       "  </tbody>\n",
       "</table>\n",
       "<p>5 rows × 285 columns</p>\n",
       "</div>"
      ],
      "text/plain": [
       "   user  abba  ac/dc  adam green  aerosmith  afi  air  alanis morissette  \\\n",
       "0     1     0      0           0          0    0    0                  0   \n",
       "1    33     0      0           1          0    0    0                  0   \n",
       "2    42     0      0           0          0    0    0                  0   \n",
       "3    51     0      0           0          0    0    0                  0   \n",
       "4    62     0      0           0          0    0    0                  0   \n",
       "\n",
       "   alexisonfire  alicia keys  ...  timbaland  tom waits  tool  tori amos  \\\n",
       "0             0            0  ...          0          0     0          0   \n",
       "1             0            0  ...          0          0     0          0   \n",
       "2             0            0  ...          0          0     0          0   \n",
       "3             0            0  ...          0          0     0          0   \n",
       "4             0            0  ...          0          0     0          0   \n",
       "\n",
       "   travis  trivium  u2  underoath  volbeat  yann tiersen  \n",
       "0       0        0   0          0        0             0  \n",
       "1       0        0   0          0        0             0  \n",
       "2       0        0   0          0        0             0  \n",
       "3       0        0   0          0        0             0  \n",
       "4       0        0   0          0        0             0  \n",
       "\n",
       "[5 rows x 285 columns]"
      ]
     },
     "execution_count": 3,
     "metadata": {},
     "output_type": "execute_result"
    }
   ],
   "source": [
    "data.head()"
   ]
  },
  {
   "cell_type": "markdown",
   "id": "e517ced0-8097-46e2-a724-54f465780785",
   "metadata": {
    "tags": []
   },
   "source": [
    "### 1. Collaborative Filtering\n",
    "Use this user-item matrix to:"
   ]
  },
  {
   "cell_type": "markdown",
   "id": "f08d2c1a-6997-45d0-b56a-aa4f5e3e345b",
   "metadata": {},
   "source": [
    "#### A. Recommend 10 songs to users who have listened to 'u2' and 'pink floyd'.\n",
    "Use item-item collaborative filtering to find songs that are similar using spatial distance with cosine. Since this measures the distance you need to subtract from 1 to get similarity as shown below."
   ]
  },
  {
   "cell_type": "code",
   "execution_count": 4,
   "id": "8b6f72b3-77cb-4216-ba23-1d418ce21662",
   "metadata": {},
   "outputs": [],
   "source": [
    "from scipy.spatial.distance import cosine\n",
    "import numpy as np"
   ]
  },
  {
   "cell_type": "code",
   "execution_count": 7,
   "id": "f6c312d9-4573-4a91-b685-0fe0d4d907db",
   "metadata": {},
   "outputs": [],
   "source": [
    "# dropping user column then transposing\n",
    "artists = data.drop(columns = ['user']).T"
   ]
  },
  {
   "cell_type": "code",
   "execution_count": 8,
   "id": "ccf93c6f-79fa-4105-b1dd-d275805b1c5a",
   "metadata": {},
   "outputs": [
    {
     "data": {
      "text/html": [
       "<div>\n",
       "<style scoped>\n",
       "    .dataframe tbody tr th:only-of-type {\n",
       "        vertical-align: middle;\n",
       "    }\n",
       "\n",
       "    .dataframe tbody tr th {\n",
       "        vertical-align: top;\n",
       "    }\n",
       "\n",
       "    .dataframe thead th {\n",
       "        text-align: right;\n",
       "    }\n",
       "</style>\n",
       "<table border=\"1\" class=\"dataframe\">\n",
       "  <thead>\n",
       "    <tr style=\"text-align: right;\">\n",
       "      <th></th>\n",
       "      <th>0</th>\n",
       "      <th>1</th>\n",
       "      <th>2</th>\n",
       "      <th>3</th>\n",
       "      <th>4</th>\n",
       "      <th>5</th>\n",
       "      <th>6</th>\n",
       "      <th>7</th>\n",
       "      <th>8</th>\n",
       "      <th>9</th>\n",
       "      <th>...</th>\n",
       "      <th>90</th>\n",
       "      <th>91</th>\n",
       "      <th>92</th>\n",
       "      <th>93</th>\n",
       "      <th>94</th>\n",
       "      <th>95</th>\n",
       "      <th>96</th>\n",
       "      <th>97</th>\n",
       "      <th>98</th>\n",
       "      <th>99</th>\n",
       "    </tr>\n",
       "  </thead>\n",
       "  <tbody>\n",
       "    <tr>\n",
       "      <th>abba</th>\n",
       "      <td>0</td>\n",
       "      <td>0</td>\n",
       "      <td>0</td>\n",
       "      <td>0</td>\n",
       "      <td>0</td>\n",
       "      <td>0</td>\n",
       "      <td>0</td>\n",
       "      <td>0</td>\n",
       "      <td>0</td>\n",
       "      <td>0</td>\n",
       "      <td>...</td>\n",
       "      <td>0</td>\n",
       "      <td>0</td>\n",
       "      <td>0</td>\n",
       "      <td>0</td>\n",
       "      <td>0</td>\n",
       "      <td>0</td>\n",
       "      <td>0</td>\n",
       "      <td>0</td>\n",
       "      <td>0</td>\n",
       "      <td>1</td>\n",
       "    </tr>\n",
       "    <tr>\n",
       "      <th>ac/dc</th>\n",
       "      <td>0</td>\n",
       "      <td>0</td>\n",
       "      <td>0</td>\n",
       "      <td>0</td>\n",
       "      <td>0</td>\n",
       "      <td>0</td>\n",
       "      <td>0</td>\n",
       "      <td>0</td>\n",
       "      <td>0</td>\n",
       "      <td>0</td>\n",
       "      <td>...</td>\n",
       "      <td>0</td>\n",
       "      <td>0</td>\n",
       "      <td>0</td>\n",
       "      <td>0</td>\n",
       "      <td>0</td>\n",
       "      <td>0</td>\n",
       "      <td>0</td>\n",
       "      <td>0</td>\n",
       "      <td>0</td>\n",
       "      <td>0</td>\n",
       "    </tr>\n",
       "    <tr>\n",
       "      <th>adam green</th>\n",
       "      <td>0</td>\n",
       "      <td>1</td>\n",
       "      <td>0</td>\n",
       "      <td>0</td>\n",
       "      <td>0</td>\n",
       "      <td>0</td>\n",
       "      <td>0</td>\n",
       "      <td>0</td>\n",
       "      <td>0</td>\n",
       "      <td>0</td>\n",
       "      <td>...</td>\n",
       "      <td>0</td>\n",
       "      <td>0</td>\n",
       "      <td>0</td>\n",
       "      <td>0</td>\n",
       "      <td>0</td>\n",
       "      <td>0</td>\n",
       "      <td>0</td>\n",
       "      <td>0</td>\n",
       "      <td>0</td>\n",
       "      <td>0</td>\n",
       "    </tr>\n",
       "    <tr>\n",
       "      <th>aerosmith</th>\n",
       "      <td>0</td>\n",
       "      <td>0</td>\n",
       "      <td>0</td>\n",
       "      <td>0</td>\n",
       "      <td>0</td>\n",
       "      <td>0</td>\n",
       "      <td>0</td>\n",
       "      <td>0</td>\n",
       "      <td>0</td>\n",
       "      <td>0</td>\n",
       "      <td>...</td>\n",
       "      <td>0</td>\n",
       "      <td>0</td>\n",
       "      <td>0</td>\n",
       "      <td>0</td>\n",
       "      <td>0</td>\n",
       "      <td>0</td>\n",
       "      <td>0</td>\n",
       "      <td>0</td>\n",
       "      <td>0</td>\n",
       "      <td>0</td>\n",
       "    </tr>\n",
       "    <tr>\n",
       "      <th>afi</th>\n",
       "      <td>0</td>\n",
       "      <td>0</td>\n",
       "      <td>0</td>\n",
       "      <td>0</td>\n",
       "      <td>0</td>\n",
       "      <td>0</td>\n",
       "      <td>0</td>\n",
       "      <td>0</td>\n",
       "      <td>0</td>\n",
       "      <td>0</td>\n",
       "      <td>...</td>\n",
       "      <td>0</td>\n",
       "      <td>0</td>\n",
       "      <td>0</td>\n",
       "      <td>0</td>\n",
       "      <td>0</td>\n",
       "      <td>0</td>\n",
       "      <td>0</td>\n",
       "      <td>0</td>\n",
       "      <td>0</td>\n",
       "      <td>0</td>\n",
       "    </tr>\n",
       "  </tbody>\n",
       "</table>\n",
       "<p>5 rows × 100 columns</p>\n",
       "</div>"
      ],
      "text/plain": [
       "            0   1   2   3   4   5   6   7   8   9   ...  90  91  92  93  94  \\\n",
       "abba         0   0   0   0   0   0   0   0   0   0  ...   0   0   0   0   0   \n",
       "ac/dc        0   0   0   0   0   0   0   0   0   0  ...   0   0   0   0   0   \n",
       "adam green   0   1   0   0   0   0   0   0   0   0  ...   0   0   0   0   0   \n",
       "aerosmith    0   0   0   0   0   0   0   0   0   0  ...   0   0   0   0   0   \n",
       "afi          0   0   0   0   0   0   0   0   0   0  ...   0   0   0   0   0   \n",
       "\n",
       "            95  96  97  98  99  \n",
       "abba         0   0   0   0   1  \n",
       "ac/dc        0   0   0   0   0  \n",
       "adam green   0   0   0   0   0  \n",
       "aerosmith    0   0   0   0   0  \n",
       "afi          0   0   0   0   0  \n",
       "\n",
       "[5 rows x 100 columns]"
      ]
     },
     "execution_count": 8,
     "metadata": {},
     "output_type": "execute_result"
    }
   ],
   "source": [
    "artists.head()"
   ]
  },
  {
   "cell_type": "code",
   "execution_count": 13,
   "id": "4a46334b-8b24-40e0-b93e-fefd5b62fee7",
   "metadata": {},
   "outputs": [],
   "source": [
    "# similarity matrix\n",
    "similarities_matrix = pd.DataFrame(index=artists.index, columns=artists.index)\n",
    "\n",
    "# original cosine functionality throwing a warning due to all of the 0's in the calculation. Adding small number to avoid division by zero\n",
    "epsilon = 1e-9 \n",
    "\n",
    "for artist1 in artists.index:\n",
    "    for artist2 in artists.index:\n",
    "        similarities_matrix.loc[artist1, artist2] = 1 - cosine(artists.loc[artist1] + epsilon, artists.loc[artist2] + epsilon)\n"
   ]
  },
  {
   "cell_type": "code",
   "execution_count": 14,
   "id": "c4df8d37-1883-4f03-9761-8ca3f542b44b",
   "metadata": {},
   "outputs": [
    {
     "data": {
      "text/html": [
       "<div>\n",
       "<style scoped>\n",
       "    .dataframe tbody tr th:only-of-type {\n",
       "        vertical-align: middle;\n",
       "    }\n",
       "\n",
       "    .dataframe tbody tr th {\n",
       "        vertical-align: top;\n",
       "    }\n",
       "\n",
       "    .dataframe thead th {\n",
       "        text-align: right;\n",
       "    }\n",
       "</style>\n",
       "<table border=\"1\" class=\"dataframe\">\n",
       "  <thead>\n",
       "    <tr style=\"text-align: right;\">\n",
       "      <th></th>\n",
       "      <th>abba</th>\n",
       "      <th>ac/dc</th>\n",
       "      <th>adam green</th>\n",
       "      <th>aerosmith</th>\n",
       "      <th>afi</th>\n",
       "      <th>air</th>\n",
       "      <th>alanis morissette</th>\n",
       "      <th>alexisonfire</th>\n",
       "      <th>alicia keys</th>\n",
       "      <th>all that remains</th>\n",
       "      <th>...</th>\n",
       "      <th>timbaland</th>\n",
       "      <th>tom waits</th>\n",
       "      <th>tool</th>\n",
       "      <th>tori amos</th>\n",
       "      <th>travis</th>\n",
       "      <th>trivium</th>\n",
       "      <th>u2</th>\n",
       "      <th>underoath</th>\n",
       "      <th>volbeat</th>\n",
       "      <th>yann tiersen</th>\n",
       "    </tr>\n",
       "  </thead>\n",
       "  <tbody>\n",
       "    <tr>\n",
       "      <th>abba</th>\n",
       "      <td>1</td>\n",
       "      <td>0.0</td>\n",
       "      <td>0.0</td>\n",
       "      <td>0.0</td>\n",
       "      <td>0.0</td>\n",
       "      <td>0.0</td>\n",
       "      <td>0.0</td>\n",
       "      <td>0.0</td>\n",
       "      <td>0.0</td>\n",
       "      <td>0.0</td>\n",
       "      <td>...</td>\n",
       "      <td>0.0</td>\n",
       "      <td>0.0</td>\n",
       "      <td>0.0</td>\n",
       "      <td>0.0</td>\n",
       "      <td>0.141421</td>\n",
       "      <td>0.0</td>\n",
       "      <td>0.0</td>\n",
       "      <td>0.0</td>\n",
       "      <td>0.0</td>\n",
       "      <td>0.0</td>\n",
       "    </tr>\n",
       "    <tr>\n",
       "      <th>ac/dc</th>\n",
       "      <td>0.0</td>\n",
       "      <td>1</td>\n",
       "      <td>0.0</td>\n",
       "      <td>0.0</td>\n",
       "      <td>0.223607</td>\n",
       "      <td>0.0</td>\n",
       "      <td>0.0</td>\n",
       "      <td>0.0</td>\n",
       "      <td>0.0</td>\n",
       "      <td>0.0</td>\n",
       "      <td>...</td>\n",
       "      <td>0.0</td>\n",
       "      <td>0.0</td>\n",
       "      <td>0.0</td>\n",
       "      <td>0.0</td>\n",
       "      <td>0.223607</td>\n",
       "      <td>0.0</td>\n",
       "      <td>0.223607</td>\n",
       "      <td>0.0</td>\n",
       "      <td>0.2</td>\n",
       "      <td>0.0</td>\n",
       "    </tr>\n",
       "    <tr>\n",
       "      <th>adam green</th>\n",
       "      <td>0.0</td>\n",
       "      <td>0.0</td>\n",
       "      <td>1</td>\n",
       "      <td>0.0</td>\n",
       "      <td>0.0</td>\n",
       "      <td>0.0</td>\n",
       "      <td>0.0</td>\n",
       "      <td>0.0</td>\n",
       "      <td>0.0</td>\n",
       "      <td>0.0</td>\n",
       "      <td>...</td>\n",
       "      <td>0.0</td>\n",
       "      <td>0.0</td>\n",
       "      <td>0.0</td>\n",
       "      <td>0.0</td>\n",
       "      <td>0.1</td>\n",
       "      <td>0.0</td>\n",
       "      <td>0.0</td>\n",
       "      <td>0.0</td>\n",
       "      <td>0.0</td>\n",
       "      <td>0.0</td>\n",
       "    </tr>\n",
       "    <tr>\n",
       "      <th>aerosmith</th>\n",
       "      <td>0.0</td>\n",
       "      <td>0.0</td>\n",
       "      <td>0.0</td>\n",
       "      <td>1</td>\n",
       "      <td>0.0</td>\n",
       "      <td>0.0</td>\n",
       "      <td>0.0</td>\n",
       "      <td>0.0</td>\n",
       "      <td>0.0</td>\n",
       "      <td>0.0</td>\n",
       "      <td>...</td>\n",
       "      <td>0.0</td>\n",
       "      <td>0.0</td>\n",
       "      <td>0.0</td>\n",
       "      <td>0.0</td>\n",
       "      <td>0.1</td>\n",
       "      <td>0.0</td>\n",
       "      <td>0.0</td>\n",
       "      <td>0.0</td>\n",
       "      <td>0.0</td>\n",
       "      <td>0.0</td>\n",
       "    </tr>\n",
       "    <tr>\n",
       "      <th>afi</th>\n",
       "      <td>0.0</td>\n",
       "      <td>0.223607</td>\n",
       "      <td>0.0</td>\n",
       "      <td>0.0</td>\n",
       "      <td>1</td>\n",
       "      <td>0.0</td>\n",
       "      <td>0.0</td>\n",
       "      <td>0.0</td>\n",
       "      <td>0.0</td>\n",
       "      <td>0.0</td>\n",
       "      <td>...</td>\n",
       "      <td>0.0</td>\n",
       "      <td>0.0</td>\n",
       "      <td>0.0</td>\n",
       "      <td>0.0</td>\n",
       "      <td>0.2</td>\n",
       "      <td>0.0</td>\n",
       "      <td>0.0</td>\n",
       "      <td>0.0</td>\n",
       "      <td>0.0</td>\n",
       "      <td>0.0</td>\n",
       "    </tr>\n",
       "  </tbody>\n",
       "</table>\n",
       "<p>5 rows × 284 columns</p>\n",
       "</div>"
      ],
      "text/plain": [
       "           abba     ac/dc adam green aerosmith       afi  air  \\\n",
       "abba          1       0.0        0.0       0.0       0.0  0.0   \n",
       "ac/dc       0.0         1        0.0       0.0  0.223607  0.0   \n",
       "adam green  0.0       0.0          1       0.0       0.0  0.0   \n",
       "aerosmith   0.0       0.0        0.0         1       0.0  0.0   \n",
       "afi         0.0  0.223607        0.0       0.0         1  0.0   \n",
       "\n",
       "           alanis morissette alexisonfire alicia keys all that remains  ...  \\\n",
       "abba                     0.0          0.0         0.0              0.0  ...   \n",
       "ac/dc                    0.0          0.0         0.0              0.0  ...   \n",
       "adam green               0.0          0.0         0.0              0.0  ...   \n",
       "aerosmith                0.0          0.0         0.0              0.0  ...   \n",
       "afi                      0.0          0.0         0.0              0.0  ...   \n",
       "\n",
       "           timbaland tom waits tool tori amos    travis trivium        u2  \\\n",
       "abba             0.0       0.0  0.0       0.0  0.141421     0.0       0.0   \n",
       "ac/dc            0.0       0.0  0.0       0.0  0.223607     0.0  0.223607   \n",
       "adam green       0.0       0.0  0.0       0.0       0.1     0.0       0.0   \n",
       "aerosmith        0.0       0.0  0.0       0.0       0.1     0.0       0.0   \n",
       "afi              0.0       0.0  0.0       0.0       0.2     0.0       0.0   \n",
       "\n",
       "           underoath volbeat yann tiersen  \n",
       "abba             0.0     0.0          0.0  \n",
       "ac/dc            0.0     0.2          0.0  \n",
       "adam green       0.0     0.0          0.0  \n",
       "aerosmith        0.0     0.0          0.0  \n",
       "afi              0.0     0.0          0.0  \n",
       "\n",
       "[5 rows x 284 columns]"
      ]
     },
     "execution_count": 14,
     "metadata": {},
     "output_type": "execute_result"
    }
   ],
   "source": [
    "similarities_matrix.head()"
   ]
  },
  {
   "cell_type": "code",
   "execution_count": 40,
   "id": "bd921910-40c6-42d2-959d-de05054befb5",
   "metadata": {},
   "outputs": [
    {
     "data": {
      "text/plain": [
       "misfits                 0.5\n",
       "robbie williams         0.5\n",
       "green day          0.433013\n",
       "depeche mode       0.408248\n",
       "peter fox          0.377964\n",
       "dire straits       0.353553\n",
       "madonna            0.353553\n",
       "johnny cash        0.353553\n",
       "enter shikari      0.353553\n",
       "kelly clarkson     0.353553\n",
       "Name: u2, dtype: object"
      ]
     },
     "execution_count": 40,
     "metadata": {},
     "output_type": "execute_result"
    }
   ],
   "source": [
    "# recommended songs for 'U2'. start with index 1 to avoid 'U2'\n",
    "similarities_matrix['u2'].sort_values(ascending=False)[1:11]"
   ]
  },
  {
   "cell_type": "code",
   "execution_count": 41,
   "id": "ccb4520d-9be1-44fa-813a-e2b70c9ecd46",
   "metadata": {},
   "outputs": [
    {
     "data": {
      "text/plain": [
       "genesis                  0.57735\n",
       "hans zimmer             0.408248\n",
       "queen                   0.408248\n",
       "sonic syndicate         0.408248\n",
       "funeral for a friend    0.408248\n",
       "led zeppelin            0.408248\n",
       "david bowie             0.408248\n",
       "coldplay                0.348155\n",
       "bob dylan               0.333333\n",
       "howard shore            0.333333\n",
       "Name: pink floyd, dtype: object"
      ]
     },
     "execution_count": 41,
     "metadata": {},
     "output_type": "execute_result"
    }
   ],
   "source": [
    "# recommended songs for 'pink floyd'. start with index 1 to avoid 'pink floyd'\n",
    "similarities_matrix['pink floyd'].sort_values(ascending=False)[1:11]"
   ]
  },
  {
   "cell_type": "markdown",
   "id": "492b2cad-05fa-44d7-91d7-3ba2853a7e0b",
   "metadata": {},
   "source": [
    "#### B. Find user most similar to user 1606. Use user-user collaborative filtering with cosine similarity. List the recommended songs for user 1606\n",
    "(Hint: find the songs listened to by the most similar user)."
   ]
  },
  {
   "cell_type": "code",
   "execution_count": 42,
   "id": "130b82ba-efd1-46ff-8609-29369bc83fac",
   "metadata": {},
   "outputs": [],
   "source": [
    "# similarity matrix - for users\n",
    "data2 = data.set_index('user')\n",
    "similarities_matrix_users = pd.DataFrame(index=data2.index, columns=data2.index)\n",
    "\n",
    "# original cosine functionality throwing a warning due to all of the 0's in the calculation. Adding small number to avoid division by zero \n",
    "for user1 in data2.index:\n",
    "    for user2 in data2.index:\n",
    "        similarities_matrix_users.loc[user1, user2] = 1 - cosine(data2.loc[user1] + epsilon, data2.loc[user2] + epsilon)"
   ]
  },
  {
   "cell_type": "code",
   "execution_count": 48,
   "id": "22a1fa96-a777-42c3-af2c-e217a7b6a0cc",
   "metadata": {},
   "outputs": [
    {
     "data": {
      "text/plain": [
       "user\n",
       "1144    0.27735\n",
       "Name: 1606, dtype: object"
      ]
     },
     "execution_count": 48,
     "metadata": {},
     "output_type": "execute_result"
    }
   ],
   "source": [
    "# most similar user\n",
    "similarities_matrix_users.loc[1606].sort_values(ascending=False)[1:2]"
   ]
  },
  {
   "cell_type": "code",
   "execution_count": 50,
   "id": "403a1bfa-9c47-4e50-af93-c41ff1f4f411",
   "metadata": {},
   "outputs": [
    {
     "data": {
      "text/plain": [
       "['beastie boys',\n",
       " 'bob dylan',\n",
       " 'bob marley & the wailers',\n",
       " 'david bowie',\n",
       " 'elvis presley',\n",
       " 'eric clapton',\n",
       " 'johnny cash',\n",
       " 'pearl jam',\n",
       " 'pink floyd',\n",
       " 'the beatles',\n",
       " 'the doors',\n",
       " 'the rolling stones',\n",
       " 'tom waits']"
      ]
     },
     "execution_count": 50,
     "metadata": {},
     "output_type": "execute_result"
    }
   ],
   "source": [
    "# songs of user 1144:\n",
    "data2.loc[1144][data2.loc[1144] > 0].index.tolist()"
   ]
  },
  {
   "cell_type": "markdown",
   "id": "b3b34a25-3a20-41ef-8bfc-5c08019e7608",
   "metadata": {},
   "source": [
    "#### C. How many of the recommended songs has already been listened to by user 1606?"
   ]
  },
  {
   "cell_type": "code",
   "execution_count": 51,
   "id": "45b92621-de1e-4616-8fc9-d0602b8d7503",
   "metadata": {},
   "outputs": [
    {
     "data": {
      "text/plain": [
       "['abba', 'elvis presley', 'frank sinatra', 'the beatles']"
      ]
     },
     "execution_count": 51,
     "metadata": {},
     "output_type": "execute_result"
    }
   ],
   "source": [
    "# songs of user 1606\n",
    "data2.loc[1606][data2.loc[1606] > 0].index.tolist()"
   ]
  },
  {
   "cell_type": "markdown",
   "id": "015132a8-76c1-42d9-afc6-f85c20d34a1d",
   "metadata": {},
   "source": [
    "Two of the songs - Elvis Presley and The Beatles - are already being listened to by user 1606."
   ]
  },
  {
   "cell_type": "markdown",
   "id": "5fdc0552-b43a-4fee-8ec4-f5afa46a7ee0",
   "metadata": {},
   "source": [
    "#### D. Use a combination of user-item approach to build a recommendation score for each song for each user using the following steps for each user-\n",
    "\n",
    "1. For each song for the user row, get the top 10 similar songs and their similarity score.\n",
    "2. For each of the top 10 similar songs, get a list of the user purchases\n",
    "3. Calculate a recommendation score as follows: Sum (purchaseHistory * similarityScore) divided by sum of similarity score\n",
    "4. What are the top 5 song recommendations for user 1606?"
   ]
  },
  {
   "cell_type": "markdown",
   "id": "39d827e9-aeba-433b-bcd9-bb01279a3a05",
   "metadata": {},
   "source": [
    "##### 1. For each song for the user row, get the top 10 similar songs and their similarity score"
   ]
  },
  {
   "cell_type": "code",
   "execution_count": 55,
   "id": "e268b2ec-a6c1-4960-b7ef-422b8f752117",
   "metadata": {},
   "outputs": [],
   "source": [
    "# initialize empty dictionary to store songs and their top 10 similar songs\n",
    "top10_songs = {}"
   ]
  },
  {
   "cell_type": "code",
   "execution_count": 59,
   "id": "b637c100-f10d-424a-a372-dee80c3aa7a6",
   "metadata": {},
   "outputs": [],
   "source": [
    "# use similarities matrix we created earlier to get the top 10 songs for each song.\n",
    "for artist in artists.index:\n",
    "    top10_songs[artist] = similarities_matrix[artist].sort_values(ascending=False)[1:11]"
   ]
  },
  {
   "cell_type": "markdown",
   "id": "9cf10ae7-ba70-45d8-8c22-219fd2a059e2",
   "metadata": {},
   "source": [
    "##### 2. For each of the top 10 similar songs, get a list of the user purchases"
   ]
  },
  {
   "cell_type": "code",
   "execution_count": 62,
   "id": "c811d896-ecd8-4534-b3b3-fe53ae384eda",
   "metadata": {},
   "outputs": [],
   "source": [
    "user_purchases = {}"
   ]
  },
  {
   "cell_type": "code",
   "execution_count": 74,
   "id": "53a9fab4-aaeb-4d2a-8b40-905c049b927d",
   "metadata": {},
   "outputs": [],
   "source": [
    "# for each column, get the list of users that purchased the song\n",
    "for artist in artists.index:\n",
    "    user_purchases[artist] = data[artist][data[artist] == 1].index"
   ]
  },
  {
   "cell_type": "markdown",
   "id": "8bc89977-7572-4f7f-ab59-0911ffc04ceb",
   "metadata": {},
   "source": [
    "##### 3. Calculate a recommendation score as follows: Sum of (purchaseHistory * similarityScore) divided by sum of similarity score"
   ]
  },
  {
   "cell_type": "code",
   "execution_count": 80,
   "id": "d8517932-10c0-4e9e-bdb7-82ea0a89520e",
   "metadata": {},
   "outputs": [],
   "source": [
    "recommendation_scores = {}"
   ]
  },
  {
   "cell_type": "code",
   "execution_count": 83,
   "id": "aeb30b54-5233-4564-9ba5-6407ccbb0065",
   "metadata": {},
   "outputs": [],
   "source": [
    "for user in data2.index:\n",
    "    user_recs = {}\n",
    "    \n",
    "    user_data = data2.loc[user]\n",
    "    for song in artists.index:\n",
    "            if user_data[song] == 0:\n",
    "                top_10_songs = top10_songs[song]\n",
    "                total_similarity_score = 0\n",
    "                weighted_purchase_sum = 0\n",
    "                for similar_song, similarity_score in top_10_songs.items():\n",
    "                    total_similarity_score += similarity_score\n",
    "                    weighted_purchase_sum += similarity_score * user_data[similar_song]\n",
    "                    \n",
    "                if total_similarity_score > 0:\n",
    "                    user_recs[song] = weighted_purchase_sum / total_similarity_score\n",
    "                    \n",
    "    recommendation_scores[user] = user_recs"
   ]
  },
  {
   "cell_type": "markdown",
   "id": "d17d87c5-e869-4cf3-ad24-c976f4b3871d",
   "metadata": {},
   "source": [
    "##### 4. Top 5 Recommendations for User 1606"
   ]
  },
  {
   "cell_type": "code",
   "execution_count": 91,
   "id": "16882309-bb46-4d46-b789-343b17fae978",
   "metadata": {},
   "outputs": [
    {
     "data": {
      "text/plain": [
       "[('eric clapton', 0.20274011653979107),\n",
       " ('howard shore', 0.1717486564750787),\n",
       " ('david bowie', 0.1712429880663476),\n",
       " ('dream theater', 0.1345006252239658),\n",
       " ('apocalyptica', 0.10652682767237696)]"
      ]
     },
     "execution_count": 91,
     "metadata": {},
     "output_type": "execute_result"
    }
   ],
   "source": [
    "sorted(recommendation_scores[1606].items(), key=lambda x: x[1], reverse=True)[:5]"
   ]
  },
  {
   "cell_type": "markdown",
   "id": "169fce76-0b09-4ff7-9c9b-941fd08f2a76",
   "metadata": {
    "tags": []
   },
   "source": [
    "#### 2. Conceptual questions"
   ]
  },
  {
   "cell_type": "markdown",
   "id": "cd188790-aa1a-4b37-863e-6ebdae6a1d53",
   "metadata": {},
   "source": [
    "##### 1. Name 2 other similarity measures that you can use instead of cosine similarity above.\n",
    "Euclidean Distance or Manhattan distance"
   ]
  },
  {
   "cell_type": "markdown",
   "id": "2548e03d-1f3e-4f7d-873e-83eb328517da",
   "metadata": {},
   "source": [
    "##### 2. What is needed to build a Content-Based Recommender system?\n",
    "We need the actual characteristics of the item, however, in order to correctly identify and categorize each of these items we also need subject matter experts to identiy the characteristics of what the items are."
   ]
  },
  {
   "cell_type": "markdown",
   "id": "0006d95e-218a-4640-9d2b-a177d8157ad0",
   "metadata": {},
   "source": [
    "##### 3. Name 2 methods to evaluate your recommender system.\n",
    "Mean Absolute Error (MAE) and Root Mean Square Error (RMSE)"
   ]
  },
  {
   "cell_type": "markdown",
   "id": "35b40eb7-1feb-4997-bea4-954c43fb23b6",
   "metadata": {
    "tags": []
   },
   "source": [
    "#### 3. Neural Network using numpy"
   ]
  },
  {
   "cell_type": "markdown",
   "id": "8c6ef1ab-4d16-458e-a990-91a53e021c94",
   "metadata": {},
   "source": [
    "##### A. Redo the example code in the NN using numpy notebook and recalculate the delta change in weight b2 for\n",
    "1. different learning rates of 0.0001, 0.01 and 1\n",
    "2. and for 10 iterations"
   ]
  },
  {
   "cell_type": "code",
   "execution_count": 119,
   "id": "0e6ffb11-a185-43ca-8e93-c621ca67c44f",
   "metadata": {},
   "outputs": [],
   "source": [
    "import numpy as np\n",
    "import matplotlib.pyplot as plt\n",
    "from sklearn.datasets import make_gaussian_quantiles"
   ]
  },
  {
   "cell_type": "code",
   "execution_count": 120,
   "id": "c455c285-4e21-4ec3-8b23-b29c1ed4fe87",
   "metadata": {},
   "outputs": [
    {
     "data": {
      "image/png": "[encoded data removed]",
      "text/plain": [
       "<Figure size 640x480 with 1 Axes>"
      ]
     },
     "metadata": {},
     "output_type": "display_data"
    }
   ],
   "source": [
    "samples = 200\n",
    "def load_extra_datasets(N):  \n",
    "    gaussian_quantiles = make_gaussian_quantiles(mean=None, \n",
    "                                                 cov=0.7, \n",
    "                                                 n_samples=N, \n",
    "                                                 n_features=2, \n",
    "                                                 n_classes=2,  \n",
    "                                                 shuffle=True, \n",
    "                                                 random_state=None)\n",
    "    return  gaussian_quantiles\n",
    "\n",
    "gaussian_quantiles= load_extra_datasets(samples)\n",
    "\n",
    "X, Y = gaussian_quantiles\n",
    "\n",
    "X, Y = X.T, Y.reshape(1, Y.shape[0])\n",
    "\n",
    "#print(Y)\n",
    "# Visualize the data\n",
    "plt.scatter(X[0, :], X[1, :]) #, c=Y, s=40);\n",
    "plt.show()"
   ]
  },
  {
   "cell_type": "code",
   "execution_count": 121,
   "id": "a9079279-3364-4156-8324-097876d9e432",
   "metadata": {},
   "outputs": [],
   "source": [
    "n_x = X.shape[0] # size of input layer`\n",
    "n_h = 4\n",
    "n_y = Y.shape[0] # size of output layer"
   ]
  },
  {
   "cell_type": "code",
   "execution_count": 122,
   "id": "583eb8f1-3d30-4d04-afee-6163d0f05e2f",
   "metadata": {},
   "outputs": [],
   "source": [
    "W1 = np.random.randn(n_h,n_x) * 0.01\n",
    "b1 = np.zeros(shape=(n_h, 1))\n",
    "W2 = np.random.randn(n_y,n_h) * 0.01\n",
    "b2 = np.zeros(shape=(n_y, 1))"
   ]
  },
  {
   "cell_type": "code",
   "execution_count": 123,
   "id": "8ea30f42-6cd0-4b6c-9090-3db22227b2aa",
   "metadata": {},
   "outputs": [],
   "source": [
    "def sigmoid(x):\n",
    "    return 1 / (1 + np.e ** -x)\n",
    "\n",
    "total_cost = -9999"
   ]
  },
  {
   "cell_type": "code",
   "execution_count": 114,
   "id": "68db2c56-a00b-4ad7-adfb-ebe8df4ba8ba",
   "metadata": {},
   "outputs": [
    {
     "name": "stdout",
     "output_type": "stream",
     "text": [
      "b2 before= [[0.]]\n",
      "b2 after= [[4.13173789e-08]]\n",
      "delta change= [[4.13173789e-08]]\n"
     ]
    }
   ],
   "source": [
    "learning_rate = 0.01\n",
    "b2_old = b2\n",
    "print(\"b2 before=\", b2_old)\n",
    "W1 = W1 - learning_rate * dJdW1\n",
    "b1 = b1 - learning_rate * dJdb1\n",
    "W2 = W2 - learning_rate * dJdW2\n",
    "b2 = b2 - learning_rate * dJdb2\n",
    "\n",
    "print(\"b2 after=\", b2)\n",
    "\n",
    "print(\"delta change=\", np.subtract(b2, b2_old))"
   ]
  },
  {
   "cell_type": "markdown",
   "id": "3e38c4ca-a339-4cbb-b99f-9362a1e3f6d3",
   "metadata": {},
   "source": [
    "different learning rates of 0.0001, 0.01 and 1"
   ]
  },
  {
   "cell_type": "code",
   "execution_count": 128,
   "id": "8c55c2c3-ea92-4e45-a208-f4b699fa3c51",
   "metadata": {},
   "outputs": [],
   "source": [
    "def backpropagation(W1, b1, W2, b2, X, Y, learning_rate):\n",
    "    # Implement Forward Propagation to calculate A2 (probabilities)\n",
    "    Z1 = np.dot(W1,X) + b1\n",
    "    A1 = np.tanh(Z1)\n",
    "    Z2 = np.dot(W2,A1) + b2\n",
    "    A2 = sigmoid(Z2) # Final output prediction\n",
    "    \n",
    "    # Compute the cross-entropy cost\n",
    "    old_total_cost = total_cost\n",
    "    cost_function = np.multiply(np.log(A2), Y) + np.multiply((1 - Y), np.log(1 - A2)) #J(theta)\n",
    "    cost = -np.sum(cost_function) / samples\n",
    "    \n",
    "    dJdZ2 = A2 - Y\n",
    "    dJdW2 = (1 / samples) * np.dot(dJdZ2, A1.T)\n",
    "    dJdb2 = (1 / samples) * np.sum(dJdZ2, axis=1, keepdims=True)\n",
    "    # since activation function is tanh(Z1) = A1\n",
    "    # first derivative of d/dz tanh(z) = 1 - tanh(z) ^ 2 = 1 - A1 ^ 2\n",
    "    dJdZ1 = np.multiply(np.dot(W2.T, dJdZ2), 1 - np.power(A1, 2))\n",
    "    dJdW1 = (1 / samples) * np.dot(dJdZ1, X.T)\n",
    "    dJdb1 = (1 / samples) * np.sum(dJdZ1, axis=1, keepdims=True)\n",
    "\n",
    "    b2_old = b2\n",
    "    W1 = W1 - learning_rate * dJdW1\n",
    "    b1 = b1 - learning_rate * dJdb1\n",
    "    W2 = W2 - learning_rate * dJdW2\n",
    "    b2 = b2 - learning_rate * dJdb2\n",
    "    b2_delta = b2-b2_old\n",
    "    \n",
    "    return W1, b1, W2, b2, b2_old, b2_delta, cost"
   ]
  },
  {
   "cell_type": "code",
   "execution_count": 129,
   "id": "51f624be-3578-4548-8cb5-ede88236d172",
   "metadata": {},
   "outputs": [
    {
     "data": {
      "text/plain": [
       "{0.0001: [array([[3.98004023e-10]]),\n",
       "  array([[3.979836e-10]]),\n",
       "  array([[3.97963177e-10]]),\n",
       "  array([[3.97942754e-10]]),\n",
       "  array([[3.97922332e-10]]),\n",
       "  array([[3.97901911e-10]]),\n",
       "  array([[3.97881491e-10]]),\n",
       "  array([[3.9786107e-10]]),\n",
       "  array([[3.97840651e-10]]),\n",
       "  array([[3.97820232e-10]])],\n",
       " 0.01: [array([[3.98004023e-08]]),\n",
       "  array([[3.95961773e-08]]),\n",
       "  array([[3.93925027e-08]]),\n",
       "  array([[3.91893771e-08]]),\n",
       "  array([[3.8986799e-08]]),\n",
       "  array([[3.87847669e-08]]),\n",
       "  array([[3.85832792e-08]]),\n",
       "  array([[3.83823347e-08]]),\n",
       "  array([[3.81819316e-08]]),\n",
       "  array([[3.79820688e-08]])],\n",
       " 1: [array([[3.98004023e-06]]),\n",
       "  array([[1.94737566e-06]]),\n",
       "  array([[4.57323156e-07]]),\n",
       "  array([[-6.36573483e-07]]),\n",
       "  array([[-1.44382856e-06]]),\n",
       "  array([[-2.04636551e-06]]),\n",
       "  array([[-2.50552377e-06]]),\n",
       "  array([[-2.86730946e-06]]),\n",
       "  array([[-3.16633063e-06]]),\n",
       "  array([[-3.42874716e-06]])]}"
      ]
     },
     "execution_count": 129,
     "metadata": {},
     "output_type": "execute_result"
    }
   ],
   "source": [
    "# Learning rates and iterations\n",
    "learning_rates = [0.0001, 0.01, 1]\n",
    "iterations = 10\n",
    "results = {}\n",
    "\n",
    "# Running the experiment\n",
    "for lr in learning_rates:\n",
    "    np.random.seed(1)  # for consistent initialization\n",
    "    W1 = np.random.randn(n_h, n_x) * 0.01\n",
    "    b1 = np.zeros((n_h, 1))\n",
    "    W2 = np.random.randn(n_y, n_h) * 0.01\n",
    "    b2 = np.zeros((n_y, 1))\n",
    "    delta_b2_list = []\n",
    "\n",
    "    for i in range(iterations):\n",
    "        W1, b1, W2, b2, b2_old, delta_b2, cost = backpropagation(W1, b1, W2, b2, X, Y, lr)\n",
    "        delta_b2_list.append(delta_b2)\n",
    "\n",
    "    results[lr] = delta_b2_list\n",
    "\n",
    "results"
   ]
  },
  {
   "cell_type": "markdown",
   "id": "173f2611-45c2-440d-b882-aea6c1324d7d",
   "metadata": {},
   "source": [
    "##### B. What can you conclude about the effect of the learning rate on the delta change in weight b2?\n",
    "The smaller the learning rate, the smaller the change between the different b2's. We can see this for learning rate of 0.0001. The changes were the to the order of 10^-10, and it would therefore take a while for this model to converge on an optimum. On the other side, the learning rate of 1 was too big as the jumps were unstable and eventually negative. These larger jumps will likely lead to overshooting and an inability to converge to the optimal weights. With 0.01 being in the middle between these two learning rates, it made sense as it made more moderate jumps that were larger than 0.0001, but without the instability of 1."
   ]
  }
 ],
 "metadata": {
  "kernelspec": {
   "display_name": "Python 3 (ipykernel)",
   "language": "python",
   "name": "python3"
  },
  "language_info": {
   "codemirror_mode": {
    "name": "ipython",
    "version": 3
   },
   "file_extension": ".py",
   "mimetype": "text/x-python",
   "name": "python",
   "nbconvert_exporter": "python",
   "pygments_lexer": "ipython3",
   "version": "3.11.7"
  }
 },
 "nbformat": 4,
 "nbformat_minor": 5
}

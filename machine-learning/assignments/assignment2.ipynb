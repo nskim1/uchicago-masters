{
 "cells": [
  {
   "cell_type": "markdown",
   "id": "d7562754-e8f8-4031-8ff6-f85f7ae30ed4",
   "metadata": {},
   "source": [
    "### Assignment 2: Predict water temperature using scikit-learn regression (gradient descent)\n",
    "#### Natalie Kim\n",
    "Working with the same data set from last week's homework assignment. Goal will be to compare the performance of the normal equation to linear regression with gradeitn descent. \n",
    "\n",
    "Also will be scaling data to speed-up the process of mini-batch gradient descent."
   ]
  },
  {
   "cell_type": "code",
   "execution_count": 1,
   "id": "147279ed-5ca7-4a3a-9333-221478887302",
   "metadata": {},
   "outputs": [],
   "source": [
    "import pandas as pd"
   ]
  },
  {
   "cell_type": "markdown",
   "id": "d12261f8-2da1-45e5-a62a-e47677ce73d0",
   "metadata": {},
   "source": [
    "#### Part A: Data Cleaning"
   ]
  },
  {
   "cell_type": "markdown",
   "id": "f9d9b440-169d-4b30-8695-85e203c0dacf",
   "metadata": {},
   "source": [
    "##### 1. Increase the complexity of model slightly by increasing the number of features. Keep the following features:\n",
    "- T_degC (water temperature)\n",
    "- Salnty (salinity of water)\n",
    "- STheta (density of water)\n",
    "- O2ml_L (mililiters of dissolved oxygen per liter of water)\n",
    "- Depthm (depth in meters)"
   ]
  },
  {
   "cell_type": "code",
   "execution_count": 2,
   "id": "efb609d3-af3c-4812-9785-6fc8a6de8de5",
   "metadata": {},
   "outputs": [],
   "source": [
    "data = pd.read_csv(r'/Users/xnxk040/Library/CloudStorage/OneDrive-TheUniversityofChicago/machine learning/ml data/bottle.csv',\n",
    "                  low_memory=False)"
   ]
  },
  {
   "cell_type": "code",
   "execution_count": 3,
   "id": "18659539-8019-4dc7-bd9d-9832784beac2",
   "metadata": {},
   "outputs": [],
   "source": [
    "# Subset data\n",
    "data2 = data[['T_degC', 'Salnty', 'STheta','O2ml_L','Depthm']]"
   ]
  },
  {
   "cell_type": "code",
   "execution_count": 4,
   "id": "18cc4acd-bd11-4f43-88f2-e3c3d2e6eefc",
   "metadata": {},
   "outputs": [
    {
     "data": {
      "text/html": [
       "<div>\n",
       "<style scoped>\n",
       "    .dataframe tbody tr th:only-of-type {\n",
       "        vertical-align: middle;\n",
       "    }\n",
       "\n",
       "    .dataframe tbody tr th {\n",
       "        vertical-align: top;\n",
       "    }\n",
       "\n",
       "    .dataframe thead th {\n",
       "        text-align: right;\n",
       "    }\n",
       "</style>\n",
       "<table border=\"1\" class=\"dataframe\">\n",
       "  <thead>\n",
       "    <tr style=\"text-align: right;\">\n",
       "      <th></th>\n",
       "      <th>T_degC</th>\n",
       "      <th>Salnty</th>\n",
       "      <th>STheta</th>\n",
       "      <th>O2ml_L</th>\n",
       "      <th>Depthm</th>\n",
       "    </tr>\n",
       "  </thead>\n",
       "  <tbody>\n",
       "    <tr>\n",
       "      <th>0</th>\n",
       "      <td>10.50</td>\n",
       "      <td>33.440</td>\n",
       "      <td>25.649</td>\n",
       "      <td>NaN</td>\n",
       "      <td>0</td>\n",
       "    </tr>\n",
       "    <tr>\n",
       "      <th>1</th>\n",
       "      <td>10.46</td>\n",
       "      <td>33.440</td>\n",
       "      <td>25.656</td>\n",
       "      <td>NaN</td>\n",
       "      <td>8</td>\n",
       "    </tr>\n",
       "    <tr>\n",
       "      <th>2</th>\n",
       "      <td>10.46</td>\n",
       "      <td>33.437</td>\n",
       "      <td>25.654</td>\n",
       "      <td>NaN</td>\n",
       "      <td>10</td>\n",
       "    </tr>\n",
       "    <tr>\n",
       "      <th>3</th>\n",
       "      <td>10.45</td>\n",
       "      <td>33.420</td>\n",
       "      <td>25.643</td>\n",
       "      <td>NaN</td>\n",
       "      <td>19</td>\n",
       "    </tr>\n",
       "    <tr>\n",
       "      <th>4</th>\n",
       "      <td>10.45</td>\n",
       "      <td>33.421</td>\n",
       "      <td>25.643</td>\n",
       "      <td>NaN</td>\n",
       "      <td>20</td>\n",
       "    </tr>\n",
       "  </tbody>\n",
       "</table>\n",
       "</div>"
      ],
      "text/plain": [
       "   T_degC  Salnty  STheta  O2ml_L  Depthm\n",
       "0   10.50  33.440  25.649     NaN       0\n",
       "1   10.46  33.440  25.656     NaN       8\n",
       "2   10.46  33.437  25.654     NaN      10\n",
       "3   10.45  33.420  25.643     NaN      19\n",
       "4   10.45  33.421  25.643     NaN      20"
      ]
     },
     "execution_count": 4,
     "metadata": {},
     "output_type": "execute_result"
    }
   ],
   "source": [
    "data2.head()"
   ]
  },
  {
   "cell_type": "markdown",
   "id": "1aa08004-b834-430a-8dfe-b75d358e8563",
   "metadata": {},
   "source": [
    "##### 2. Remove NaN / NA values from dataset (prior to building train/test sets) same as HW 1\n",
    "- Shape of data should be: (661268, 5)"
   ]
  },
  {
   "cell_type": "code",
   "execution_count": 5,
   "id": "f13ef973-ea75-4272-abfd-d207fa44dd41",
   "metadata": {},
   "outputs": [],
   "source": [
    "# Remove NaN and NA\n",
    "data_clean = data2.dropna()"
   ]
  },
  {
   "cell_type": "code",
   "execution_count": 6,
   "id": "5dc377b7-021d-45f7-b5e0-00e54b0d912f",
   "metadata": {},
   "outputs": [
    {
     "name": "stdout",
     "output_type": "stream",
     "text": [
      "<class 'pandas.core.frame.DataFrame'>\n",
      "Int64Index: 661268 entries, 2160 to 864862\n",
      "Data columns (total 5 columns):\n",
      " #   Column  Non-Null Count   Dtype  \n",
      "---  ------  --------------   -----  \n",
      " 0   T_degC  661268 non-null  float64\n",
      " 1   Salnty  661268 non-null  float64\n",
      " 2   STheta  661268 non-null  float64\n",
      " 3   O2ml_L  661268 non-null  float64\n",
      " 4   Depthm  661268 non-null  int64  \n",
      "dtypes: float64(4), int64(1)\n",
      "memory usage: 30.3 MB\n"
     ]
    }
   ],
   "source": [
    "# confirm shape of data\n",
    "data_clean.info()"
   ]
  },
  {
   "cell_type": "markdown",
   "id": "cb702c20-f4b3-4270-a9ea-09329ca4bbc5",
   "metadata": {},
   "source": [
    "##### 3. Remove any STheta outliers (same as HW1)\n",
    "- Shape of your data should be: (661268, 5)\n",
    "- Note: outliers for STheta might have been removed due to NAs in new features. Be sure to verify this on your own"
   ]
  },
  {
   "cell_type": "code",
   "execution_count": 7,
   "id": "65304a2f-db62-478f-a1ae-96fdbba8f7bc",
   "metadata": {},
   "outputs": [],
   "source": [
    "import matplotlib.pyplot as plt"
   ]
  },
  {
   "cell_type": "code",
   "execution_count": 8,
   "id": "f31b112d-c558-4000-838e-a86de42f55a1",
   "metadata": {},
   "outputs": [
    {
     "data": {
      "image/png": "[encoded data removed]",
      "text/plain": [
       "<Figure size 640x480 with 1 Axes>"
      ]
     },
     "metadata": {},
     "output_type": "display_data"
    }
   ],
   "source": [
    "# create plot\n",
    "plt.scatter(data_clean['STheta'], data_clean['T_degC'])\n",
    "\n",
    "# add titles and labels\n",
    "plt.title('STheta (density of water) vs Temperature')\n",
    "plt.xlabel('Density of Water')\n",
    "plt.ylabel('Temperature (degrees Celsius)')\n",
    "\n",
    "# display the plot\n",
    "plt.show()"
   ]
  },
  {
   "cell_type": "markdown",
   "id": "c1cd6d1d-a6d7-46c1-98d1-2f2956b66f63",
   "metadata": {},
   "source": [
    "Scatter plot confirms removal of outliers. No need to adjust table. Size is the same."
   ]
  },
  {
   "cell_type": "markdown",
   "id": "ccebfa50-3c4d-42a7-b461-10b7e7812796",
   "metadata": {},
   "source": [
    "#### Part B: Train/Test Split & Scaling"
   ]
  },
  {
   "cell_type": "markdown",
   "id": "c0374ab8-161d-4cc9-ba6d-172d5e3cad8a",
   "metadata": {},
   "source": [
    "##### 1. Create X & y objects:\n",
    "- X object should be all 4 predictors. Shape should be: (661268, 4)\n",
    "- y object should be just your target variable (T_degC). Shape should be  (661268, 1)\n",
    "    - Hint: you need to specify the shape you want. Try converting y to a numpy array, and then using the .reshape() method"
   ]
  },
  {
   "cell_type": "code",
   "execution_count": 9,
   "id": "33e3addb-d696-44cf-8726-f7a382fe6e19",
   "metadata": {},
   "outputs": [],
   "source": [
    "from sklearn.model_selection import train_test_split\n",
    "import numpy as np"
   ]
  },
  {
   "cell_type": "code",
   "execution_count": 10,
   "id": "562f5f6f-210f-403d-b31c-33574e3284b1",
   "metadata": {},
   "outputs": [],
   "source": [
    "# X and y matrices\n",
    "X = data_clean[['Salnty', 'STheta','O2ml_L','Depthm']]\n",
    "y = np.array(data_clean[['T_degC']]).reshape(661268, 1)"
   ]
  },
  {
   "cell_type": "markdown",
   "id": "3e23ab95-eb32-4746-b26b-ec9012ac2c84",
   "metadata": {},
   "source": [
    "##### 2. Generate X_train, X_test, y_train & y_test. Use 80% for train & 20% for test."
   ]
  },
  {
   "cell_type": "code",
   "execution_count": 11,
   "id": "6edab681-3b15-454b-9ee0-04ee3b2a4164",
   "metadata": {},
   "outputs": [],
   "source": [
    "# split the data 80:20 for train to test ratio\n",
    "X_train, X_test, y_train, y_test = train_test_split(X, y, test_size = 0.2, random_state = 42)"
   ]
  },
  {
   "cell_type": "markdown",
   "id": "643c49ea-4c6e-45a6-8d58-396b7634562a",
   "metadata": {},
   "source": [
    "##### 3. Scale all features to improve convergence in Gradient Descent. It is highly encouraged that you review the appropriate method of handling scaling with train & test data.\n",
    "- Use \"StandardScaler\"\n",
    "- You should create two new X objects:\n",
    "    - X_train_scaled\n",
    "    - X_test_scaled\n",
    "Note: X_test_scaled must use the scaling parameters learned from the training data"
   ]
  },
  {
   "cell_type": "code",
   "execution_count": 12,
   "id": "8343d077-b2c7-495e-a6dd-0d0ab28a5a73",
   "metadata": {},
   "outputs": [],
   "source": [
    "from sklearn.preprocessing import StandardScaler"
   ]
  },
  {
   "cell_type": "code",
   "execution_count": 13,
   "id": "38c98691-7ed1-4b7d-9e32-d29e066c9e8f",
   "metadata": {},
   "outputs": [
    {
     "data": {
      "text/html": [
       "<style>#sk-container-id-1 {color: black;}#sk-container-id-1 pre{padding: 0;}#sk-container-id-1 div.sk-toggleable {background-color: white;}#sk-container-id-1 label.sk-toggleable__label {cursor: pointer;display: block;width: 100%;margin-bottom: 0;padding: 0.3em;box-sizing: border-box;text-align: center;}#sk-container-id-1 label.sk-toggleable__label-arrow:before {content: \"▸\";float: left;margin-right: 0.25em;color: #696969;}#sk-container-id-1 label.sk-toggleable__label-arrow:hover:before {color: black;}#sk-container-id-1 div.sk-estimator:hover label.sk-toggleable__label-arrow:before {color: black;}#sk-container-id-1 div.sk-toggleable__content {max-height: 0;max-width: 0;overflow: hidden;text-align: left;background-color: #f0f8ff;}#sk-container-id-1 div.sk-toggleable__content pre {margin: 0.2em;color: black;border-radius: 0.25em;background-color: #f0f8ff;}#sk-container-id-1 input.sk-toggleable__control:checked~div.sk-toggleable__content {max-height: 200px;max-width: 100%;overflow: auto;}#sk-container-id-1 input.sk-toggleable__control:checked~label.sk-toggleable__label-arrow:before {content: \"▾\";}#sk-container-id-1 div.sk-estimator input.sk-toggleable__control:checked~label.sk-toggleable__label {background-color: #d4ebff;}#sk-container-id-1 div.sk-label input.sk-toggleable__control:checked~label.sk-toggleable__label {background-color: #d4ebff;}#sk-container-id-1 input.sk-hidden--visually {border: 0;clip: rect(1px 1px 1px 1px);clip: rect(1px, 1px, 1px, 1px);height: 1px;margin: -1px;overflow: hidden;padding: 0;position: absolute;width: 1px;}#sk-container-id-1 div.sk-estimator {font-family: monospace;background-color: #f0f8ff;border: 1px dotted black;border-radius: 0.25em;box-sizing: border-box;margin-bottom: 0.5em;}#sk-container-id-1 div.sk-estimator:hover {background-color: #d4ebff;}#sk-container-id-1 div.sk-parallel-item::after {content: \"\";width: 100%;border-bottom: 1px solid gray;flex-grow: 1;}#sk-container-id-1 div.sk-label:hover label.sk-toggleable__label {background-color: #d4ebff;}#sk-container-id-1 div.sk-serial::before {content: \"\";position: absolute;border-left: 1px solid gray;box-sizing: border-box;top: 0;bottom: 0;left: 50%;z-index: 0;}#sk-container-id-1 div.sk-serial {display: flex;flex-direction: column;align-items: center;background-color: white;padding-right: 0.2em;padding-left: 0.2em;position: relative;}#sk-container-id-1 div.sk-item {position: relative;z-index: 1;}#sk-container-id-1 div.sk-parallel {display: flex;align-items: stretch;justify-content: center;background-color: white;position: relative;}#sk-container-id-1 div.sk-item::before, #sk-container-id-1 div.sk-parallel-item::before {content: \"\";position: absolute;border-left: 1px solid gray;box-sizing: border-box;top: 0;bottom: 0;left: 50%;z-index: -1;}#sk-container-id-1 div.sk-parallel-item {display: flex;flex-direction: column;z-index: 1;position: relative;background-color: white;}#sk-container-id-1 div.sk-parallel-item:first-child::after {align-self: flex-end;width: 50%;}#sk-container-id-1 div.sk-parallel-item:last-child::after {align-self: flex-start;width: 50%;}#sk-container-id-1 div.sk-parallel-item:only-child::after {width: 0;}#sk-container-id-1 div.sk-dashed-wrapped {border: 1px dashed gray;margin: 0 0.4em 0.5em 0.4em;box-sizing: border-box;padding-bottom: 0.4em;background-color: white;}#sk-container-id-1 div.sk-label label {font-family: monospace;font-weight: bold;display: inline-block;line-height: 1.2em;}#sk-container-id-1 div.sk-label-container {text-align: center;}#sk-container-id-1 div.sk-container {/* jupyter's `normalize.less` sets `[hidden] { display: none; }` but bootstrap.min.css set `[hidden] { display: none !important; }` so we also need the `!important` here to be able to override the default hidden behavior on the sphinx rendered scikit-learn.org. See: https://github.com/scikit-learn/scikit-learn/issues/21755 */display: inline-block !important;position: relative;}#sk-container-id-1 div.sk-text-repr-fallback {display: none;}</style><div id=\"sk-container-id-1\" class=\"sk-top-container\"><div class=\"sk-text-repr-fallback\"><pre>StandardScaler()</pre><b>In a Jupyter environment, please rerun this cell to show the HTML representation or trust the notebook. <br />On GitHub, the HTML representation is unable to render, please try loading this page with nbviewer.org.</b></div><div class=\"sk-container\" hidden><div class=\"sk-item\"><div class=\"sk-estimator sk-toggleable\"><input class=\"sk-toggleable__control sk-hidden--visually\" id=\"sk-estimator-id-1\" type=\"checkbox\" checked><label for=\"sk-estimator-id-1\" class=\"sk-toggleable__label sk-toggleable__label-arrow\">StandardScaler</label><div class=\"sk-toggleable__content\"><pre>StandardScaler()</pre></div></div></div></div></div>"
      ],
      "text/plain": [
       "StandardScaler()"
      ]
     },
     "execution_count": 13,
     "metadata": {},
     "output_type": "execute_result"
    }
   ],
   "source": [
    "scaler = StandardScaler()\n",
    "scaler.fit(X_train)"
   ]
  },
  {
   "cell_type": "code",
   "execution_count": 14,
   "id": "7416da65-0cea-4d56-bceb-b808029c9659",
   "metadata": {},
   "outputs": [],
   "source": [
    "# scaled data\n",
    "X_train_scaled = scaler.transform(X_train)\n",
    "X_test_scaled = scaler.transform(X_test)"
   ]
  },
  {
   "cell_type": "markdown",
   "id": "4e27e1d3-864f-400e-b6f8-d05ba085c045",
   "metadata": {},
   "source": [
    "#### Part C: Linear Regression with sklearn"
   ]
  },
  {
   "cell_type": "markdown",
   "id": "729cd82e-75eb-4565-a8d9-76192c57ab9f",
   "metadata": {},
   "source": [
    "##### 1. Create instance of LinearRegression class called \"lin_reg\". Fit lin_reg using X_train_scaled & y_train"
   ]
  },
  {
   "cell_type": "code",
   "execution_count": 15,
   "id": "d1224d51-67e3-4b01-9dfe-cec4e0289552",
   "metadata": {},
   "outputs": [],
   "source": [
    "from sklearn import linear_model"
   ]
  },
  {
   "cell_type": "code",
   "execution_count": 16,
   "id": "d2e5f1cb-9851-4112-b59e-f6427097904b",
   "metadata": {},
   "outputs": [
    {
     "data": {
      "text/html": [
       "<style>#sk-container-id-2 {color: black;}#sk-container-id-2 pre{padding: 0;}#sk-container-id-2 div.sk-toggleable {background-color: white;}#sk-container-id-2 label.sk-toggleable__label {cursor: pointer;display: block;width: 100%;margin-bottom: 0;padding: 0.3em;box-sizing: border-box;text-align: center;}#sk-container-id-2 label.sk-toggleable__label-arrow:before {content: \"▸\";float: left;margin-right: 0.25em;color: #696969;}#sk-container-id-2 label.sk-toggleable__label-arrow:hover:before {color: black;}#sk-container-id-2 div.sk-estimator:hover label.sk-toggleable__label-arrow:before {color: black;}#sk-container-id-2 div.sk-toggleable__content {max-height: 0;max-width: 0;overflow: hidden;text-align: left;background-color: #f0f8ff;}#sk-container-id-2 div.sk-toggleable__content pre {margin: 0.2em;color: black;border-radius: 0.25em;background-color: #f0f8ff;}#sk-container-id-2 input.sk-toggleable__control:checked~div.sk-toggleable__content {max-height: 200px;max-width: 100%;overflow: auto;}#sk-container-id-2 input.sk-toggleable__control:checked~label.sk-toggleable__label-arrow:before {content: \"▾\";}#sk-container-id-2 div.sk-estimator input.sk-toggleable__control:checked~label.sk-toggleable__label {background-color: #d4ebff;}#sk-container-id-2 div.sk-label input.sk-toggleable__control:checked~label.sk-toggleable__label {background-color: #d4ebff;}#sk-container-id-2 input.sk-hidden--visually {border: 0;clip: rect(1px 1px 1px 1px);clip: rect(1px, 1px, 1px, 1px);height: 1px;margin: -1px;overflow: hidden;padding: 0;position: absolute;width: 1px;}#sk-container-id-2 div.sk-estimator {font-family: monospace;background-color: #f0f8ff;border: 1px dotted black;border-radius: 0.25em;box-sizing: border-box;margin-bottom: 0.5em;}#sk-container-id-2 div.sk-estimator:hover {background-color: #d4ebff;}#sk-container-id-2 div.sk-parallel-item::after {content: \"\";width: 100%;border-bottom: 1px solid gray;flex-grow: 1;}#sk-container-id-2 div.sk-label:hover label.sk-toggleable__label {background-color: #d4ebff;}#sk-container-id-2 div.sk-serial::before {content: \"\";position: absolute;border-left: 1px solid gray;box-sizing: border-box;top: 0;bottom: 0;left: 50%;z-index: 0;}#sk-container-id-2 div.sk-serial {display: flex;flex-direction: column;align-items: center;background-color: white;padding-right: 0.2em;padding-left: 0.2em;position: relative;}#sk-container-id-2 div.sk-item {position: relative;z-index: 1;}#sk-container-id-2 div.sk-parallel {display: flex;align-items: stretch;justify-content: center;background-color: white;position: relative;}#sk-container-id-2 div.sk-item::before, #sk-container-id-2 div.sk-parallel-item::before {content: \"\";position: absolute;border-left: 1px solid gray;box-sizing: border-box;top: 0;bottom: 0;left: 50%;z-index: -1;}#sk-container-id-2 div.sk-parallel-item {display: flex;flex-direction: column;z-index: 1;position: relative;background-color: white;}#sk-container-id-2 div.sk-parallel-item:first-child::after {align-self: flex-end;width: 50%;}#sk-container-id-2 div.sk-parallel-item:last-child::after {align-self: flex-start;width: 50%;}#sk-container-id-2 div.sk-parallel-item:only-child::after {width: 0;}#sk-container-id-2 div.sk-dashed-wrapped {border: 1px dashed gray;margin: 0 0.4em 0.5em 0.4em;box-sizing: border-box;padding-bottom: 0.4em;background-color: white;}#sk-container-id-2 div.sk-label label {font-family: monospace;font-weight: bold;display: inline-block;line-height: 1.2em;}#sk-container-id-2 div.sk-label-container {text-align: center;}#sk-container-id-2 div.sk-container {/* jupyter's `normalize.less` sets `[hidden] { display: none; }` but bootstrap.min.css set `[hidden] { display: none !important; }` so we also need the `!important` here to be able to override the default hidden behavior on the sphinx rendered scikit-learn.org. See: https://github.com/scikit-learn/scikit-learn/issues/21755 */display: inline-block !important;position: relative;}#sk-container-id-2 div.sk-text-repr-fallback {display: none;}</style><div id=\"sk-container-id-2\" class=\"sk-top-container\"><div class=\"sk-text-repr-fallback\"><pre>LinearRegression()</pre><b>In a Jupyter environment, please rerun this cell to show the HTML representation or trust the notebook. <br />On GitHub, the HTML representation is unable to render, please try loading this page with nbviewer.org.</b></div><div class=\"sk-container\" hidden><div class=\"sk-item\"><div class=\"sk-estimator sk-toggleable\"><input class=\"sk-toggleable__control sk-hidden--visually\" id=\"sk-estimator-id-2\" type=\"checkbox\" checked><label for=\"sk-estimator-id-2\" class=\"sk-toggleable__label sk-toggleable__label-arrow\">LinearRegression</label><div class=\"sk-toggleable__content\"><pre>LinearRegression()</pre></div></div></div></div></div>"
      ],
      "text/plain": [
       "LinearRegression()"
      ]
     },
     "execution_count": 16,
     "metadata": {},
     "output_type": "execute_result"
    }
   ],
   "source": [
    "lin_reg = linear_model.LinearRegression()\n",
    "lin_reg.fit(X_train_scaled, y_train)"
   ]
  },
  {
   "cell_type": "markdown",
   "id": "d8387f7c-2ad4-4f15-ab01-8c1789c815d7",
   "metadata": {},
   "source": [
    "##### 2. Print out the coefficients (including the intercept)"
   ]
  },
  {
   "cell_type": "code",
   "execution_count": 17,
   "id": "d6594757-2eae-493d-a0ba-15d8d6b0b06c",
   "metadata": {},
   "outputs": [
    {
     "data": {
      "text/html": [
       "<div>\n",
       "<style scoped>\n",
       "    .dataframe tbody tr th:only-of-type {\n",
       "        vertical-align: middle;\n",
       "    }\n",
       "\n",
       "    .dataframe tbody tr th {\n",
       "        vertical-align: top;\n",
       "    }\n",
       "\n",
       "    .dataframe thead th {\n",
       "        text-align: right;\n",
       "    }\n",
       "</style>\n",
       "<table border=\"1\" class=\"dataframe\">\n",
       "  <thead>\n",
       "    <tr style=\"text-align: right;\">\n",
       "      <th></th>\n",
       "      <th>Linear Regression</th>\n",
       "    </tr>\n",
       "  </thead>\n",
       "  <tbody>\n",
       "    <tr>\n",
       "      <th>Intercept</th>\n",
       "      <td>10.915418</td>\n",
       "    </tr>\n",
       "    <tr>\n",
       "      <th>Salnty</th>\n",
       "      <td>1.630466</td>\n",
       "    </tr>\n",
       "    <tr>\n",
       "      <th>STheta</th>\n",
       "      <td>-4.634591</td>\n",
       "    </tr>\n",
       "    <tr>\n",
       "      <th>O2ml_L</th>\n",
       "      <td>0.302068</td>\n",
       "    </tr>\n",
       "    <tr>\n",
       "      <th>Depthm</th>\n",
       "      <td>-0.474955</td>\n",
       "    </tr>\n",
       "  </tbody>\n",
       "</table>\n",
       "</div>"
      ],
      "text/plain": [
       "           Linear Regression\n",
       "Intercept          10.915418\n",
       "Salnty              1.630466\n",
       "STheta             -4.634591\n",
       "O2ml_L              0.302068\n",
       "Depthm             -0.474955"
      ]
     },
     "execution_count": 17,
     "metadata": {},
     "output_type": "execute_result"
    }
   ],
   "source": [
    "coeff_names = ['Intercept','Salnty','STheta','O2ml_L','Depthm']\n",
    "\n",
    "coeff = {\n",
    "    'Linear Regression': [lin_reg.intercept_[0],lin_reg.coef_[0,0],\n",
    "                         lin_reg.coef_[0,1],lin_reg.coef_[0,2],\n",
    "                         lin_reg.coef_[0,3]]\n",
    "}\n",
    "\n",
    "coeff = pd.DataFrame(coeff)\n",
    "coeff.index = coeff_names\n",
    "\n",
    "coeff"
   ]
  },
  {
   "cell_type": "markdown",
   "id": "d12b77f1-780e-46d5-baf5-50cb56a87d42",
   "metadata": {},
   "source": [
    "##### 3. Predict T_degC for the test data using lin_reg. Make sure to use X_test_scaled\n",
    "- Call predictions y_pred_sklearn"
   ]
  },
  {
   "cell_type": "code",
   "execution_count": 18,
   "id": "9c6f6050-15dd-4015-b9fa-34b473dcfa22",
   "metadata": {},
   "outputs": [],
   "source": [
    "y_pred_sklearn = lin_reg.predict(X_test_scaled)"
   ]
  },
  {
   "cell_type": "markdown",
   "id": "7868ac58-9b42-4b22-9df0-2d36b540ae03",
   "metadata": {},
   "source": [
    "##### 4. Calculate the following for the test data:\n",
    "- mean squared error\n",
    "- r-squared\n",
    "- explained varaince"
   ]
  },
  {
   "cell_type": "code",
   "execution_count": 19,
   "id": "153f65a5-b008-470d-ad6a-8b07d3b57a33",
   "metadata": {},
   "outputs": [],
   "source": [
    "from sklearn.metrics import mean_squared_error\n",
    "from sklearn.metrics import r2_score\n",
    "from sklearn.metrics import explained_variance_score"
   ]
  },
  {
   "cell_type": "code",
   "execution_count": 35,
   "id": "dbcdb0b8-3baf-4ba1-8838-17f7f6899d7a",
   "metadata": {},
   "outputs": [
    {
     "data": {
      "text/html": [
       "<div>\n",
       "<style scoped>\n",
       "    .dataframe tbody tr th:only-of-type {\n",
       "        vertical-align: middle;\n",
       "    }\n",
       "\n",
       "    .dataframe tbody tr th {\n",
       "        vertical-align: top;\n",
       "    }\n",
       "\n",
       "    .dataframe thead th {\n",
       "        text-align: right;\n",
       "    }\n",
       "</style>\n",
       "<table border=\"1\" class=\"dataframe\">\n",
       "  <thead>\n",
       "    <tr style=\"text-align: right;\">\n",
       "      <th></th>\n",
       "      <th>Linear Regression</th>\n",
       "    </tr>\n",
       "  </thead>\n",
       "  <tbody>\n",
       "    <tr>\n",
       "      <th>Mean Squared Error</th>\n",
       "      <td>0.111011</td>\n",
       "    </tr>\n",
       "    <tr>\n",
       "      <th>R-Squared</th>\n",
       "      <td>0.993768</td>\n",
       "    </tr>\n",
       "    <tr>\n",
       "      <th>Explained Variance</th>\n",
       "      <td>0.993768</td>\n",
       "    </tr>\n",
       "  </tbody>\n",
       "</table>\n",
       "</div>"
      ],
      "text/plain": [
       "                    Linear Regression\n",
       "Mean Squared Error           0.111011\n",
       "R-Squared                    0.993768\n",
       "Explained Variance           0.993768"
      ]
     },
     "execution_count": 35,
     "metadata": {},
     "output_type": "execute_result"
    }
   ],
   "source": [
    "metric_names = [\"Mean Squared Error\", \"R-Squared\", \"Explained Variance\"]\n",
    "\n",
    "metrics = {\n",
    "    'Linear Regression': [mean_squared_error(y_test, y_pred_sklearn),\n",
    "                        r2_score(y_test,y_pred_sklearn),\n",
    "                        explained_variance_score(y_test, y_pred_sklearn)]\n",
    "}\n",
    "\n",
    "metrics = pd.DataFrame(metrics)\n",
    "metrics.index = metric_names\n",
    "\n",
    "metrics"
   ]
  },
  {
   "cell_type": "markdown",
   "id": "f7236f23-20a7-467d-9ac5-85256838c412",
   "metadata": {},
   "source": [
    "##### 5. Create a scatterplot that shows actual versus predicted values for the T_degC"
   ]
  },
  {
   "cell_type": "code",
   "execution_count": 21,
   "id": "2677aebb-182e-4ed5-9646-3d32b595f4e4",
   "metadata": {},
   "outputs": [
    {
     "data": {
      "image/png": "[encoded data removed]",
      "text/plain": [
       "<Figure size 640x480 with 1 Axes>"
      ]
     },
     "metadata": {},
     "output_type": "display_data"
    }
   ],
   "source": [
    "# create plot\n",
    "plt.scatter(y_test, y_pred_sklearn)\n",
    "\n",
    "# title & labels\n",
    "plt.title('Actual vs Linear Regression Predicted Values for Temperature')\n",
    "plt.xlabel('Actual test values')\n",
    "plt.ylabel('Linear Regression Predicted Values')\n",
    "\n",
    "# show plot\n",
    "plt.show()"
   ]
  },
  {
   "cell_type": "markdown",
   "id": "704f6ced-80f2-4fd3-a41a-2ba0fdc63b90",
   "metadata": {},
   "source": [
    "#### Part D. Gradient Descent Mini-Batch - Size: 50"
   ]
  },
  {
   "cell_type": "markdown",
   "id": "71673f93-4a3d-4371-b408-ec54864a04d5",
   "metadata": {},
   "source": [
    "##### 1. Similar to HW1, need to add a column of 1s to X_train_scaled and X_test_scaled"
   ]
  },
  {
   "cell_type": "code",
   "execution_count": 22,
   "id": "dcd7c538-19f5-4047-8a72-8d79fc9e58bc",
   "metadata": {},
   "outputs": [],
   "source": [
    "X_train_scaled_b = np.c_[np.ones((X_train_scaled.shape[0],1)), X_train_scaled]\n",
    "X_test_scaled_b = np.c_[np.ones((X_test_scaled.shape[0],1)), X_test_scaled]"
   ]
  },
  {
   "cell_type": "markdown",
   "id": "62e50867-e6f6-42df-9024-4e84be213186",
   "metadata": {},
   "source": [
    "##### 2. Use MSE as the cost function for the Gradient Descent\n",
    "- refer to Equation 4-3 in HOML Ch.4\n",
    "- note: HOML Github does including a changing eta through using the learning_schedule function. DO NOT use a changing eta for this assignment"
   ]
  },
  {
   "cell_type": "code",
   "execution_count": 23,
   "id": "fa4474d6-fdd2-4695-bf27-c17877d6ba42",
   "metadata": {},
   "outputs": [],
   "source": [
    "# MSE as cost function\n",
    "def cost_fun(m,X,theta,y):\n",
    "    return 2/m * X.T.dot(X.dot(theta) - yi)"
   ]
  },
  {
   "cell_type": "markdown",
   "id": "dde44169-b8d7-4e96-989d-53c71f1f6b4e",
   "metadata": {},
   "source": [
    "##### 3. Feel free to use any value for eta and epochs, but 0.1 eta and 100 epochs should work"
   ]
  },
  {
   "cell_type": "code",
   "execution_count": 24,
   "id": "c46809bf-2176-4bb9-b54e-88aecfd60b78",
   "metadata": {},
   "outputs": [],
   "source": [
    "eta = 0.1\n",
    "epochs = 100\n",
    "\n",
    "theta_path_mgd = []\n",
    "m = len(X_train_scaled_b)\n",
    "minibatch_size = 50\n",
    "\n",
    "np.random.seed(42)\n",
    "theta = np.random.randn(5,1) # random initialization\n",
    "\n",
    "for epoch in range(epochs):\n",
    "    shuffled_indices = np.random.permutation(m)\n",
    "    X_train_scaled_b_shuffled = X_train_scaled_b[shuffled_indices]\n",
    "    y_shuffled = y_train[shuffled_indices]\n",
    "    for i in range(0, m, minibatch_size):\n",
    "        xi = X_train_scaled_b_shuffled[i:i+minibatch_size]\n",
    "        yi = y_shuffled[i:i+minibatch_size]\n",
    "        gradients = cost_fun(minibatch_size,xi,theta,yi)\n",
    "        theta = theta - eta * gradients\n",
    "        theta_path_mgd.append(theta)"
   ]
  },
  {
   "cell_type": "markdown",
   "id": "280049b8-a876-4ab6-86c7-63483186c0e7",
   "metadata": {},
   "source": [
    "##### 4. Calculate the following for test data:\n",
    "- mean squared error\n",
    "- r-squared\n",
    "- explained variance"
   ]
  },
  {
   "cell_type": "code",
   "execution_count": 29,
   "id": "f302f236-dc4a-46d4-ad37-0a8f357d484a",
   "metadata": {},
   "outputs": [],
   "source": [
    "y_pred_gd50 = X_test_scaled_b.dot(theta)"
   ]
  },
  {
   "cell_type": "code",
   "execution_count": 36,
   "id": "223c8195-fff4-4683-83d6-ae48ff266ef1",
   "metadata": {},
   "outputs": [
    {
     "data": {
      "text/html": [
       "<div>\n",
       "<style scoped>\n",
       "    .dataframe tbody tr th:only-of-type {\n",
       "        vertical-align: middle;\n",
       "    }\n",
       "\n",
       "    .dataframe tbody tr th {\n",
       "        vertical-align: top;\n",
       "    }\n",
       "\n",
       "    .dataframe thead th {\n",
       "        text-align: right;\n",
       "    }\n",
       "</style>\n",
       "<table border=\"1\" class=\"dataframe\">\n",
       "  <thead>\n",
       "    <tr style=\"text-align: right;\">\n",
       "      <th></th>\n",
       "      <th>Linear Regression</th>\n",
       "      <th>GD_50</th>\n",
       "    </tr>\n",
       "  </thead>\n",
       "  <tbody>\n",
       "    <tr>\n",
       "      <th>Mean Squared Error</th>\n",
       "      <td>0.111011</td>\n",
       "      <td>0.118491</td>\n",
       "    </tr>\n",
       "    <tr>\n",
       "      <th>R-Squared</th>\n",
       "      <td>0.993768</td>\n",
       "      <td>0.993348</td>\n",
       "    </tr>\n",
       "    <tr>\n",
       "      <th>Explained Variance</th>\n",
       "      <td>0.993768</td>\n",
       "      <td>0.993403</td>\n",
       "    </tr>\n",
       "  </tbody>\n",
       "</table>\n",
       "</div>"
      ],
      "text/plain": [
       "                    Linear Regression     GD_50\n",
       "Mean Squared Error           0.111011  0.118491\n",
       "R-Squared                    0.993768  0.993348\n",
       "Explained Variance           0.993768  0.993403"
      ]
     },
     "execution_count": 36,
     "metadata": {},
     "output_type": "execute_result"
    }
   ],
   "source": [
    "metrics['GD_50'] = [mean_squared_error(y_test, y_pred_gd50),\n",
    "                         r2_score(y_test,y_pred_gd50),\n",
    "                         explained_variance_score(y_test, y_pred_gd50)]\n",
    "\n",
    "metrics"
   ]
  },
  {
   "cell_type": "markdown",
   "id": "78ca1ae4-81a3-4c2c-9aae-d7357c50d50f",
   "metadata": {},
   "source": [
    "##### 5. Create scatterplot that shows actual versus predicted values for the T_degC for the test data"
   ]
  },
  {
   "cell_type": "code",
   "execution_count": 31,
   "id": "2cfb7cb9-b67c-4392-bf7f-3a5510a43c81",
   "metadata": {},
   "outputs": [
    {
     "data": {
      "image/png": "[encoded data removed]",
      "text/plain": [
       "<Figure size 640x480 with 1 Axes>"
      ]
     },
     "metadata": {},
     "output_type": "display_data"
    }
   ],
   "source": [
    "# create plot\n",
    "plt.scatter(y_test, y_pred_gd50)\n",
    "\n",
    "# title & labels\n",
    "plt.title('Actual vs. Predicted values for Temperature - GD size 50')\n",
    "plt.xlabel('Actual test values')\n",
    "plt.ylabel('Predicted values')\n",
    "\n",
    "# show plot\n",
    "plt.show()"
   ]
  },
  {
   "cell_type": "markdown",
   "id": "99499567-c1c0-4680-8166-ef2bbf223dd9",
   "metadata": {},
   "source": [
    "##### 6. Given we are estimating parameters through gradient descent we also want to check how our error metrics look for training data:\n",
    "- mean squared error\n",
    "- r-squared\n",
    "- explained variance"
   ]
  },
  {
   "cell_type": "code",
   "execution_count": 32,
   "id": "cdcc19b2-0ba3-4af9-bac3-beb306e0204a",
   "metadata": {},
   "outputs": [],
   "source": [
    "y_pred_gd50_train = X_train_scaled_b.dot(theta)"
   ]
  },
  {
   "cell_type": "code",
   "execution_count": 37,
   "id": "b662d36f-71c6-4c2b-b279-fe605c609236",
   "metadata": {},
   "outputs": [
    {
     "data": {
      "text/html": [
       "<div>\n",
       "<style scoped>\n",
       "    .dataframe tbody tr th:only-of-type {\n",
       "        vertical-align: middle;\n",
       "    }\n",
       "\n",
       "    .dataframe tbody tr th {\n",
       "        vertical-align: top;\n",
       "    }\n",
       "\n",
       "    .dataframe thead th {\n",
       "        text-align: right;\n",
       "    }\n",
       "</style>\n",
       "<table border=\"1\" class=\"dataframe\">\n",
       "  <thead>\n",
       "    <tr style=\"text-align: right;\">\n",
       "      <th></th>\n",
       "      <th>Linear Regression</th>\n",
       "      <th>GD_50</th>\n",
       "      <th>GD_50 Train</th>\n",
       "    </tr>\n",
       "  </thead>\n",
       "  <tbody>\n",
       "    <tr>\n",
       "      <th>Mean Squared Error</th>\n",
       "      <td>0.111011</td>\n",
       "      <td>0.118491</td>\n",
       "      <td>0.118167</td>\n",
       "    </tr>\n",
       "    <tr>\n",
       "      <th>R-Squared</th>\n",
       "      <td>0.993768</td>\n",
       "      <td>0.993348</td>\n",
       "      <td>0.993382</td>\n",
       "    </tr>\n",
       "    <tr>\n",
       "      <th>Explained Variance</th>\n",
       "      <td>0.993768</td>\n",
       "      <td>0.993403</td>\n",
       "      <td>0.993442</td>\n",
       "    </tr>\n",
       "  </tbody>\n",
       "</table>\n",
       "</div>"
      ],
      "text/plain": [
       "                    Linear Regression     GD_50  GD_50 Train\n",
       "Mean Squared Error           0.111011  0.118491     0.118167\n",
       "R-Squared                    0.993768  0.993348     0.993382\n",
       "Explained Variance           0.993768  0.993403     0.993442"
      ]
     },
     "execution_count": 37,
     "metadata": {},
     "output_type": "execute_result"
    }
   ],
   "source": [
    "metrics['GD_50 Train'] = [mean_squared_error(y_train, y_pred_gd50_train),\n",
    "                         r2_score(y_train,y_pred_gd50_train),\n",
    "                         explained_variance_score(y_train, y_pred_gd50_train)]\n",
    "\n",
    "metrics"
   ]
  },
  {
   "cell_type": "markdown",
   "id": "a822db9a-dbbb-45f4-aae8-2f8538ecc738",
   "metadata": {},
   "source": [
    "#### Part D. Gradient Descent Mini-Batch - Size: 250"
   ]
  },
  {
   "cell_type": "markdown",
   "id": "3848b867-a2e0-426c-ba58-e1c1e34ce9cc",
   "metadata": {},
   "source": [
    "##### 0.1 eta and 100 epochs"
   ]
  },
  {
   "cell_type": "code",
   "execution_count": 38,
   "id": "4379ce97-6e27-4114-a879-00af7bcb951a",
   "metadata": {},
   "outputs": [],
   "source": [
    "minibatch_size = 250\n",
    "\n",
    "np.random.seed(42)\n",
    "theta = np.random.randn(5,1) # random initialization\n",
    "\n",
    "for epoch in range(epochs):\n",
    "    shuffled_indices = np.random.permutation(m)\n",
    "    X_train_scaled_b_shuffled = X_train_scaled_b[shuffled_indices]\n",
    "    y_shuffled = y_train[shuffled_indices]\n",
    "    for i in range(0, m, minibatch_size):\n",
    "        xi = X_train_scaled_b_shuffled[i:i+minibatch_size]\n",
    "        yi = y_shuffled[i:i+minibatch_size]\n",
    "        gradients = cost_fun(minibatch_size,xi,theta,yi)\n",
    "        theta = theta - eta * gradients\n",
    "        theta_path_mgd.append(theta)"
   ]
  },
  {
   "cell_type": "markdown",
   "id": "6b3aa8cc-3752-4d37-87b5-3b5bcb1f2030",
   "metadata": {},
   "source": [
    "##### 4. Calculate the following for test data:\n",
    "- mean squared error\n",
    "- r-squared\n",
    "- explained variance"
   ]
  },
  {
   "cell_type": "code",
   "execution_count": 40,
   "id": "890b2cc1-d327-4e01-9601-8fe1963b9bac",
   "metadata": {},
   "outputs": [],
   "source": [
    "y_pred_gd250 = X_test_scaled_b.dot(theta)"
   ]
  },
  {
   "cell_type": "code",
   "execution_count": 41,
   "id": "d67e303f-bb1c-48bf-8ff4-ee2063134d8b",
   "metadata": {},
   "outputs": [
    {
     "data": {
      "text/html": [
       "<div>\n",
       "<style scoped>\n",
       "    .dataframe tbody tr th:only-of-type {\n",
       "        vertical-align: middle;\n",
       "    }\n",
       "\n",
       "    .dataframe tbody tr th {\n",
       "        vertical-align: top;\n",
       "    }\n",
       "\n",
       "    .dataframe thead th {\n",
       "        text-align: right;\n",
       "    }\n",
       "</style>\n",
       "<table border=\"1\" class=\"dataframe\">\n",
       "  <thead>\n",
       "    <tr style=\"text-align: right;\">\n",
       "      <th></th>\n",
       "      <th>Linear Regression</th>\n",
       "      <th>GD_50</th>\n",
       "      <th>GD_50 Train</th>\n",
       "      <th>GD_250</th>\n",
       "    </tr>\n",
       "  </thead>\n",
       "  <tbody>\n",
       "    <tr>\n",
       "      <th>Mean Squared Error</th>\n",
       "      <td>0.111011</td>\n",
       "      <td>0.118491</td>\n",
       "      <td>0.118167</td>\n",
       "      <td>0.112582</td>\n",
       "    </tr>\n",
       "    <tr>\n",
       "      <th>R-Squared</th>\n",
       "      <td>0.993768</td>\n",
       "      <td>0.993348</td>\n",
       "      <td>0.993382</td>\n",
       "      <td>0.993680</td>\n",
       "    </tr>\n",
       "    <tr>\n",
       "      <th>Explained Variance</th>\n",
       "      <td>0.993768</td>\n",
       "      <td>0.993403</td>\n",
       "      <td>0.993442</td>\n",
       "      <td>0.993690</td>\n",
       "    </tr>\n",
       "  </tbody>\n",
       "</table>\n",
       "</div>"
      ],
      "text/plain": [
       "                    Linear Regression     GD_50  GD_50 Train    GD_250\n",
       "Mean Squared Error           0.111011  0.118491     0.118167  0.112582\n",
       "R-Squared                    0.993768  0.993348     0.993382  0.993680\n",
       "Explained Variance           0.993768  0.993403     0.993442  0.993690"
      ]
     },
     "execution_count": 41,
     "metadata": {},
     "output_type": "execute_result"
    }
   ],
   "source": [
    "metrics['GD_250'] = [mean_squared_error(y_test, y_pred_gd250),\n",
    "                         r2_score(y_test,y_pred_gd250),\n",
    "                         explained_variance_score(y_test, y_pred_gd250)]\n",
    "\n",
    "metrics"
   ]
  },
  {
   "cell_type": "markdown",
   "id": "e0abd88f-5dc5-458b-a3fe-267839a7f958",
   "metadata": {},
   "source": [
    "##### 5. Create scatterplot that shows actual versus predicted values for the T_degC for the test data"
   ]
  },
  {
   "cell_type": "code",
   "execution_count": 42,
   "id": "0a0d46e8-0123-4b37-8601-a9e2c0f9461d",
   "metadata": {},
   "outputs": [
    {
     "data": {
      "image/png": "[encoded data removed]",
      "text/plain": [
       "<Figure size 640x480 with 1 Axes>"
      ]
     },
     "metadata": {},
     "output_type": "display_data"
    }
   ],
   "source": [
    "# create plot\n",
    "plt.scatter(y_test, y_pred_gd250)\n",
    "\n",
    "# title & labels\n",
    "plt.title('Actual vs. Predicted values for Temperature - GD size 250')\n",
    "plt.xlabel('Actual test values')\n",
    "plt.ylabel('Predicted values')\n",
    "\n",
    "# show plot\n",
    "plt.show()"
   ]
  },
  {
   "cell_type": "markdown",
   "id": "89090d3b-904e-4796-b42a-90d04220bb3e",
   "metadata": {},
   "source": [
    "##### 6. Given we are estimating parameters through gradient descent we also want to check how our error metrics look for training data:\n",
    "- mean squared error\n",
    "- r-squared\n",
    "- explained variance"
   ]
  },
  {
   "cell_type": "code",
   "execution_count": 43,
   "id": "ee329d1a-fdad-4f94-b648-25780864e8e4",
   "metadata": {},
   "outputs": [],
   "source": [
    "y_pred_gd250_train = X_train_scaled_b.dot(theta)"
   ]
  },
  {
   "cell_type": "code",
   "execution_count": 44,
   "id": "dd9237a2-da51-4243-afac-24e65c5fcf12",
   "metadata": {},
   "outputs": [
    {
     "data": {
      "text/html": [
       "<div>\n",
       "<style scoped>\n",
       "    .dataframe tbody tr th:only-of-type {\n",
       "        vertical-align: middle;\n",
       "    }\n",
       "\n",
       "    .dataframe tbody tr th {\n",
       "        vertical-align: top;\n",
       "    }\n",
       "\n",
       "    .dataframe thead th {\n",
       "        text-align: right;\n",
       "    }\n",
       "</style>\n",
       "<table border=\"1\" class=\"dataframe\">\n",
       "  <thead>\n",
       "    <tr style=\"text-align: right;\">\n",
       "      <th></th>\n",
       "      <th>Linear Regression</th>\n",
       "      <th>GD_50</th>\n",
       "      <th>GD_50 Train</th>\n",
       "      <th>GD_250</th>\n",
       "      <th>GD_250 Train</th>\n",
       "    </tr>\n",
       "  </thead>\n",
       "  <tbody>\n",
       "    <tr>\n",
       "      <th>Mean Squared Error</th>\n",
       "      <td>0.111011</td>\n",
       "      <td>0.118491</td>\n",
       "      <td>0.118167</td>\n",
       "      <td>0.112582</td>\n",
       "      <td>0.112233</td>\n",
       "    </tr>\n",
       "    <tr>\n",
       "      <th>R-Squared</th>\n",
       "      <td>0.993768</td>\n",
       "      <td>0.993348</td>\n",
       "      <td>0.993382</td>\n",
       "      <td>0.993680</td>\n",
       "      <td>0.993714</td>\n",
       "    </tr>\n",
       "    <tr>\n",
       "      <th>Explained Variance</th>\n",
       "      <td>0.993768</td>\n",
       "      <td>0.993403</td>\n",
       "      <td>0.993442</td>\n",
       "      <td>0.993690</td>\n",
       "      <td>0.993727</td>\n",
       "    </tr>\n",
       "  </tbody>\n",
       "</table>\n",
       "</div>"
      ],
      "text/plain": [
       "                    Linear Regression     GD_50  GD_50 Train    GD_250  \\\n",
       "Mean Squared Error           0.111011  0.118491     0.118167  0.112582   \n",
       "R-Squared                    0.993768  0.993348     0.993382  0.993680   \n",
       "Explained Variance           0.993768  0.993403     0.993442  0.993690   \n",
       "\n",
       "                    GD_250 Train  \n",
       "Mean Squared Error      0.112233  \n",
       "R-Squared               0.993714  \n",
       "Explained Variance      0.993727  "
      ]
     },
     "execution_count": 44,
     "metadata": {},
     "output_type": "execute_result"
    }
   ],
   "source": [
    "metrics['GD_250 Train'] = [mean_squared_error(y_train, y_pred_gd250_train),\n",
    "                         r2_score(y_train,y_pred_gd250_train),\n",
    "                         explained_variance_score(y_train, y_pred_gd250_train)]\n",
    "\n",
    "metrics"
   ]
  },
  {
   "cell_type": "markdown",
   "id": "6c643695-ae91-486a-84cc-ef14dbf0a0e9",
   "metadata": {},
   "source": [
    "#### Part D. Gradient Descent Mini-Batch - Size: 2000"
   ]
  },
  {
   "cell_type": "markdown",
   "id": "a60ff8dd-f5f6-41a5-bbd2-21ecbb9a58fa",
   "metadata": {},
   "source": [
    "##### 0.1 eta and 100 epochs"
   ]
  },
  {
   "cell_type": "code",
   "execution_count": 45,
   "id": "40592361-25da-48d4-9839-6d6a0127abcb",
   "metadata": {},
   "outputs": [],
   "source": [
    "minibatch_size = 2000\n",
    "\n",
    "np.random.seed(42)\n",
    "theta = np.random.randn(5,1) # random initialization\n",
    "\n",
    "for epoch in range(epochs):\n",
    "    shuffled_indices = np.random.permutation(m)\n",
    "    X_train_scaled_b_shuffled = X_train_scaled_b[shuffled_indices]\n",
    "    y_shuffled = y_train[shuffled_indices]\n",
    "    for i in range(0, m, minibatch_size):\n",
    "        xi = X_train_scaled_b_shuffled[i:i+minibatch_size]\n",
    "        yi = y_shuffled[i:i+minibatch_size]\n",
    "        gradients = cost_fun(minibatch_size,xi,theta,yi)\n",
    "        theta = theta - eta * gradients\n",
    "        theta_path_mgd.append(theta)"
   ]
  },
  {
   "cell_type": "markdown",
   "id": "3a35d0a9-4943-41a1-9582-2271800556f2",
   "metadata": {},
   "source": [
    "##### 4. Calculate the following for test data:\n",
    "- mean squared error\n",
    "- r-squared\n",
    "- explained variance"
   ]
  },
  {
   "cell_type": "code",
   "execution_count": 46,
   "id": "2c814347-19d9-435f-b0d3-e074f6c6eb16",
   "metadata": {},
   "outputs": [],
   "source": [
    "y_pred_gd2000 = X_test_scaled_b.dot(theta)"
   ]
  },
  {
   "cell_type": "code",
   "execution_count": 47,
   "id": "fbe943e5-c7ba-4b7e-8d6e-a22bb9f836ec",
   "metadata": {},
   "outputs": [
    {
     "data": {
      "text/html": [
       "<div>\n",
       "<style scoped>\n",
       "    .dataframe tbody tr th:only-of-type {\n",
       "        vertical-align: middle;\n",
       "    }\n",
       "\n",
       "    .dataframe tbody tr th {\n",
       "        vertical-align: top;\n",
       "    }\n",
       "\n",
       "    .dataframe thead th {\n",
       "        text-align: right;\n",
       "    }\n",
       "</style>\n",
       "<table border=\"1\" class=\"dataframe\">\n",
       "  <thead>\n",
       "    <tr style=\"text-align: right;\">\n",
       "      <th></th>\n",
       "      <th>Linear Regression</th>\n",
       "      <th>GD_50</th>\n",
       "      <th>GD_50 Train</th>\n",
       "      <th>GD_250</th>\n",
       "      <th>GD_250 Train</th>\n",
       "      <th>GD_2000</th>\n",
       "    </tr>\n",
       "  </thead>\n",
       "  <tbody>\n",
       "    <tr>\n",
       "      <th>Mean Squared Error</th>\n",
       "      <td>0.111011</td>\n",
       "      <td>0.118491</td>\n",
       "      <td>0.118167</td>\n",
       "      <td>0.112582</td>\n",
       "      <td>0.112233</td>\n",
       "      <td>0.111082</td>\n",
       "    </tr>\n",
       "    <tr>\n",
       "      <th>R-Squared</th>\n",
       "      <td>0.993768</td>\n",
       "      <td>0.993348</td>\n",
       "      <td>0.993382</td>\n",
       "      <td>0.993680</td>\n",
       "      <td>0.993714</td>\n",
       "      <td>0.993764</td>\n",
       "    </tr>\n",
       "    <tr>\n",
       "      <th>Explained Variance</th>\n",
       "      <td>0.993768</td>\n",
       "      <td>0.993403</td>\n",
       "      <td>0.993442</td>\n",
       "      <td>0.993690</td>\n",
       "      <td>0.993727</td>\n",
       "      <td>0.993764</td>\n",
       "    </tr>\n",
       "  </tbody>\n",
       "</table>\n",
       "</div>"
      ],
      "text/plain": [
       "                    Linear Regression     GD_50  GD_50 Train    GD_250  \\\n",
       "Mean Squared Error           0.111011  0.118491     0.118167  0.112582   \n",
       "R-Squared                    0.993768  0.993348     0.993382  0.993680   \n",
       "Explained Variance           0.993768  0.993403     0.993442  0.993690   \n",
       "\n",
       "                    GD_250 Train   GD_2000  \n",
       "Mean Squared Error      0.112233  0.111082  \n",
       "R-Squared               0.993714  0.993764  \n",
       "Explained Variance      0.993727  0.993764  "
      ]
     },
     "execution_count": 47,
     "metadata": {},
     "output_type": "execute_result"
    }
   ],
   "source": [
    "metrics['GD_2000'] = [mean_squared_error(y_test, y_pred_gd2000),\n",
    "                         r2_score(y_test,y_pred_gd2000),\n",
    "                         explained_variance_score(y_test, y_pred_gd2000)]\n",
    "\n",
    "metrics"
   ]
  },
  {
   "cell_type": "markdown",
   "id": "30ad909a-17c0-4921-8f10-93ed1fcccd8a",
   "metadata": {},
   "source": [
    "##### 5. Create scatterplot that shows actual versus predicted values for the T_degC for the test data"
   ]
  },
  {
   "cell_type": "code",
   "execution_count": 48,
   "id": "35a4f3fc-8cde-402e-a390-d3df285e11c2",
   "metadata": {},
   "outputs": [
    {
     "data": {
      "image/png": "[encoded data removed]",
      "text/plain": [
       "<Figure size 640x480 with 1 Axes>"
      ]
     },
     "metadata": {},
     "output_type": "display_data"
    }
   ],
   "source": [
    "# create plot\n",
    "plt.scatter(y_test, y_pred_gd2000)\n",
    "\n",
    "# title & labels\n",
    "plt.title('Actual vs. Predicted values for Temperature - GD size 2000')\n",
    "plt.xlabel('Actual test values')\n",
    "plt.ylabel('Predicted values')\n",
    "\n",
    "# show plot\n",
    "plt.show()"
   ]
  },
  {
   "cell_type": "markdown",
   "id": "71c51b2a-80cb-4010-bee0-cec08d65ceb2",
   "metadata": {},
   "source": [
    "##### 6. Given we are estimating parameters through gradient descent we also want to check how our error metrics look for training data:\n",
    "- mean squared error\n",
    "- r-squared\n",
    "- explained variance"
   ]
  },
  {
   "cell_type": "code",
   "execution_count": 49,
   "id": "452907c9-a315-488f-906a-f16eee552117",
   "metadata": {},
   "outputs": [],
   "source": [
    "y_pred_gd2000_train = X_train_scaled_b.dot(theta)"
   ]
  },
  {
   "cell_type": "code",
   "execution_count": 50,
   "id": "b0e8d6da-a88d-4bf4-b9ba-4cfc4f24e78a",
   "metadata": {},
   "outputs": [
    {
     "data": {
      "text/html": [
       "<div>\n",
       "<style scoped>\n",
       "    .dataframe tbody tr th:only-of-type {\n",
       "        vertical-align: middle;\n",
       "    }\n",
       "\n",
       "    .dataframe tbody tr th {\n",
       "        vertical-align: top;\n",
       "    }\n",
       "\n",
       "    .dataframe thead th {\n",
       "        text-align: right;\n",
       "    }\n",
       "</style>\n",
       "<table border=\"1\" class=\"dataframe\">\n",
       "  <thead>\n",
       "    <tr style=\"text-align: right;\">\n",
       "      <th></th>\n",
       "      <th>Linear Regression</th>\n",
       "      <th>GD_50</th>\n",
       "      <th>GD_50 Train</th>\n",
       "      <th>GD_250</th>\n",
       "      <th>GD_250 Train</th>\n",
       "      <th>GD_2000</th>\n",
       "      <th>GD_2000 Train</th>\n",
       "    </tr>\n",
       "  </thead>\n",
       "  <tbody>\n",
       "    <tr>\n",
       "      <th>Mean Squared Error</th>\n",
       "      <td>0.111011</td>\n",
       "      <td>0.118491</td>\n",
       "      <td>0.118167</td>\n",
       "      <td>0.112582</td>\n",
       "      <td>0.112233</td>\n",
       "      <td>0.111082</td>\n",
       "      <td>0.110704</td>\n",
       "    </tr>\n",
       "    <tr>\n",
       "      <th>R-Squared</th>\n",
       "      <td>0.993768</td>\n",
       "      <td>0.993348</td>\n",
       "      <td>0.993382</td>\n",
       "      <td>0.993680</td>\n",
       "      <td>0.993714</td>\n",
       "      <td>0.993764</td>\n",
       "      <td>0.993800</td>\n",
       "    </tr>\n",
       "    <tr>\n",
       "      <th>Explained Variance</th>\n",
       "      <td>0.993768</td>\n",
       "      <td>0.993403</td>\n",
       "      <td>0.993442</td>\n",
       "      <td>0.993690</td>\n",
       "      <td>0.993727</td>\n",
       "      <td>0.993764</td>\n",
       "      <td>0.993800</td>\n",
       "    </tr>\n",
       "  </tbody>\n",
       "</table>\n",
       "</div>"
      ],
      "text/plain": [
       "                    Linear Regression     GD_50  GD_50 Train    GD_250  \\\n",
       "Mean Squared Error           0.111011  0.118491     0.118167  0.112582   \n",
       "R-Squared                    0.993768  0.993348     0.993382  0.993680   \n",
       "Explained Variance           0.993768  0.993403     0.993442  0.993690   \n",
       "\n",
       "                    GD_250 Train   GD_2000  GD_2000 Train  \n",
       "Mean Squared Error      0.112233  0.111082       0.110704  \n",
       "R-Squared               0.993714  0.993764       0.993800  \n",
       "Explained Variance      0.993727  0.993764       0.993800  "
      ]
     },
     "execution_count": 50,
     "metadata": {},
     "output_type": "execute_result"
    }
   ],
   "source": [
    "metrics['GD_2000 Train'] = [mean_squared_error(y_train, y_pred_gd2000_train),\n",
    "                         r2_score(y_train,y_pred_gd2000_train),\n",
    "                         explained_variance_score(y_train, y_pred_gd2000_train)]\n",
    "\n",
    "metrics"
   ]
  },
  {
   "cell_type": "markdown",
   "id": "3ba559ce-f9f7-481f-9c0d-d6dc13067995",
   "metadata": {},
   "source": [
    "#### Part E: Conceptual Questions"
   ]
  },
  {
   "cell_type": "markdown",
   "id": "a9041d3a-3dd4-4eed-ba15-f3d1971f6f37",
   "metadata": {},
   "source": [
    "##### 1. Describe how parameter estimation in Gradient Descent differs from using the normal equation\n",
    "The Normal Equation is closed-form solution to estimating the parameter: it provides a result directly through a mathematical equation. On the other hand, Gradient Descent is a generic optimization algorithm that converges to the solution through iterations as it adjusts the parameters to minimize the cost function."
   ]
  },
  {
   "cell_type": "markdown",
   "id": "54195c6c-d971-4312-bc43-bb28ed5e0b0d",
   "metadata": {},
   "source": [
    "##### 2. We used Mini-Batch Gradient descent here, but there are a variety of options for Gradient Descent. How is Mini-Batch Gradient Descent different from Stochastic Gradient Descent?\n",
    "Unlike Stochastic Gradient Descent, which randomly picks a single instance from the training set to compute the gradient, Mini-Batch randomly picks a small **set** of instances to calculate the gradient. Though it may not be as fast as Stochastic, one significant advantage that Mini-Batch has is that it is not as erratic and thus can get closer to the true minimum. However, Mini-Batch may have a harder time escaping out of local minima - though since this was for Linear Regresion, we do not have to worry about this."
   ]
  },
  {
   "cell_type": "markdown",
   "id": "70d5e1cf-bea6-4fcf-aac3-48ae5b5a0b23",
   "metadata": {},
   "source": [
    "##### 3. Identify your best-performing version of Gradient Descent and compare the error metrics for test data vs training data. Does this version of gradient descent show signs of overfitting? Explain.\n",
    "The best-performing version of Gradient Descent was the Mini-Batch of size 2000. It explains 99.37% of the variance of the test data and the smallest MSE. Although the model performs extremely well on te training data with an explained variance of 99.38%, this does not necessarily indicat overfitting. This is because there is an insignificant discrepancy between the training and test R^2 of 0.01%."
   ]
  },
  {
   "cell_type": "markdown",
   "id": "ef457f5b-328a-4f6b-8697-514a52f2117a",
   "metadata": {},
   "source": [
    "##### 4. Explain what the learning rate is for. Even though we did not, why might it be helpful to change the learning rate over time?\n",
    "The learning rate is a hyperparameter that determines the size of the steps that Gradient Descent takes. Changing the learning rate over time, specifically reducing the learning rate gradually, can provide a solution to escaping from a local optima. Larger steps at the beginning helps make quick progress and avoiding the local minima, while the smaller steps allow the algorithm to settle at on a solution. Furthermore, it can help us avoid the pitfalls that can occur when the learning rate is too low or high. When it's too low, the algorithm may take a long time to eventually reach the solution. However if it's too high, the algorithm may overshoot the minimum and jump all over the place. "
   ]
  },
  {
   "cell_type": "markdown",
   "id": "d1657e28-40c6-4785-8c77-b97dff433c93",
   "metadata": {},
   "source": [
    "##### 5. Why would a data scientist want to use early stopping in gradient descent?\n",
    "Early stopping may help avoid overfitting the model to the training data. If the number of epochs is too large, the prediction error on the training data starts to increase again - an indication of overfitting. Implementing early stopping allows the data scientist the ability to stop training model as soon as the validation error reaches a minimum."
   ]
  },
  {
   "cell_type": "code",
   "execution_count": null,
   "id": "d7fe899b-8a7d-46be-81b0-f01eecb4bc12",
   "metadata": {},
   "outputs": [],
   "source": []
  }
 ],
 "metadata": {
  "kernelspec": {
   "display_name": "Python 3 (ipykernel)",
   "language": "python",
   "name": "python3"
  },
  "language_info": {
   "codemirror_mode": {
    "name": "ipython",
    "version": 3
   },
   "file_extension": ".py",
   "mimetype": "text/x-python",
   "name": "python",
   "nbconvert_exporter": "python",
   "pygments_lexer": "ipython3",
   "version": "3.11.7"
  }
 },
 "nbformat": 4,
 "nbformat_minor": 5
}

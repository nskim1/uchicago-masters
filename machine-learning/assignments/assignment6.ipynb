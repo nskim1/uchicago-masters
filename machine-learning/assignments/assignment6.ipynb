{
 "cells": [
  {
   "cell_type": "markdown",
   "id": "320df098-dfda-422c-90bb-27d5b921fc58",
   "metadata": {},
   "source": [
    "### Assignment 6 - Image Classification with CNN and CIFAR-10 dataset\n",
    "#### Natalie Kim\n",
    "The objective is to build an image classifier that is capable of properly identifying four different categories of image. \n",
    "\n",
    "The data consists of various train and test samples across the four categories of image. You will notice that the data for a specific category is a singular image that has been flipped, rotated, or slightly altered in some way. "
   ]
  },
  {
   "cell_type": "markdown",
   "id": "396824b0-715a-42c5-bd6e-f91f8230ca2b",
   "metadata": {},
   "source": [
    "### Setup/import"
   ]
  },
  {
   "cell_type": "code",
   "execution_count": 1,
   "id": "dd3e7977-7cac-4dfc-b463-d29228c36334",
   "metadata": {},
   "outputs": [],
   "source": [
    "import tensorflow as tf\n",
    "from tensorflow import keras"
   ]
  },
  {
   "cell_type": "markdown",
   "id": "fa03082f-3a0d-4dc8-bb1b-c4e91736e14b",
   "metadata": {},
   "source": [
    "#### Data for HW"
   ]
  },
  {
   "cell_type": "code",
   "execution_count": 11,
   "id": "25ce9987-7764-4de3-933c-71df825fcc56",
   "metadata": {},
   "outputs": [],
   "source": [
    "import os\n",
    "import numpy as np\n",
    "from PIL import Image\n",
    "import pickle\n",
    "\n",
    "def unpickle(file):\n",
    "    with open(file, 'rb') as fo:\n",
    "        dict = pickle.load(fo, encoding='bytes')\n",
    "    return dict\n",
    "\n",
    "def create_image_folders(base_dir, label_names):\n",
    "    os.makedirs(base_dir, exist_ok=True)\n",
    "    for label_name in label_names:\n",
    "        os.makedirs(os.path.join(base_dir, label_name.decode('utf-8')), exist_ok=True)\n",
    "\n",
    "def save_images_from_batch(batch_file, base_dir, label_names):\n",
    "    batch_data = unpickle(batch_file)\n",
    "    data = batch_data[b'data']\n",
    "    labels = batch_data[b'labels']\n",
    "    for i, (img_data, label) in enumerate(zip(data, labels)):\n",
    "        image = img_data.reshape(3, 32, 32).transpose(1, 2, 0)  # Convert to 32x32x3 RGB image\n",
    "        image = Image.fromarray(image)\n",
    "        label_name = label_names[label].decode('utf-8')\n",
    "        image.save(os.path.join(base_dir, label_name, f'image_{i}.png'))\n",
    "\n",
    "batch_files = ['/Users/nataliekim/Library/CloudStorage/OneDrive-TheUniversityofChicago/machine learning/ml data/cifar-10-batches-py/data_batch_1',\n",
    "               '/Users/nataliekim/Library/CloudStorage/OneDrive-TheUniversityofChicago/machine learning/ml data/cifar-10-batches-py/data_batch_2',\n",
    "               '/Users/nataliekim/Library/CloudStorage/OneDrive-TheUniversityofChicago/machine learning/ml data/cifar-10-batches-py/data_batch_3',\n",
    "               '/Users/nataliekim/Library/CloudStorage/OneDrive-TheUniversityofChicago/machine learning/ml data/cifar-10-batches-py/data_batch_4',\n",
    "               '/Users/nataliekim/Library/CloudStorage/OneDrive-TheUniversityofChicago/machine learning/ml data/cifar-10-batches-py/data_batch_5']\n",
    "base_dir = '/Users/nataliekim/Desktop' \n",
    "\n",
    "# label names\n",
    "meta_data = unpickle('/Users/nataliekim/Library/CloudStorage/OneDrive-TheUniversityofChicago/machine learning/ml data/cifar-10-batches-py/batches.meta')\n",
    "label_names = meta_data[b'label_names']\n",
    "\n",
    "# create directories for each label\n",
    "create_image_folders(base_dir, label_names)\n",
    "\n",
    "\n",
    "for batch_file in batch_files:\n",
    "    save_images_from_batch(batch_file, base_dir, label_names)"
   ]
  },
  {
   "cell_type": "code",
   "execution_count": 27,
   "id": "606ee862-700d-4301-81af-71f9fdaf63f6",
   "metadata": {},
   "outputs": [],
   "source": [
    "import random\n",
    "random.seed(42)"
   ]
  },
  {
   "cell_type": "markdown",
   "id": "aec104ef-0b33-483b-9007-9ad8185389d8",
   "metadata": {},
   "source": [
    "### 1. Data Processing: \n",
    "The train & test data is pretty clean in terms of image data, but we will need to do a bit of prep work to use in our model. \n",
    "Specifically, as discussed in class you will need to augment the train dataset, and split it into train and validation."
   ]
  },
  {
   "cell_type": "markdown",
   "id": "966e5597-8db5-421d-88d5-38963590e2bb",
   "metadata": {},
   "source": [
    "#### a) Use the ImageDataGenerator() class from keras.processing.image to build out an instance called \"train_datagen\" with the following parameters: \n",
    "- rescale = 1./255\n",
    "- shear_range = 0.2\n",
    "- zoom_range = 0.2\n",
    "- horizontal_flip = True"
   ]
  },
  {
   "cell_type": "code",
   "execution_count": 33,
   "id": "869667fa-b6df-40bc-86c0-a2febfde4173",
   "metadata": {},
   "outputs": [],
   "source": [
    "train_datagen = tf.keras.preprocessing.image.ImageDataGenerator(\n",
    "    rescale = 1./255,\n",
    "    shear_range = 0.2,\n",
    "    zoom_range = 0.2,\n",
    "    horizontal_flip = True,\n",
    "    validation_split=0.2\n",
    ")"
   ]
  },
  {
   "cell_type": "markdown",
   "id": "cf9a907b-3229-4607-8be0-f7e7da873a62",
   "metadata": {},
   "source": [
    "#### b) Then build your training set by using the method flow_from_directory() for training and validation\n",
    "- path (where training data is stored)\n",
    "- target_size = (64, 64)\n",
    "- batch_size = 32\n",
    "- class_mode = categorical "
   ]
  },
  {
   "cell_type": "code",
   "execution_count": 38,
   "id": "1e755555-dc1f-4dd2-867d-8ac744498c1f",
   "metadata": {},
   "outputs": [
    {
     "name": "stdout",
     "output_type": "stream",
     "text": [
      "Found 32908 images belonging to 10 classes.\n",
      "Found 8221 images belonging to 10 classes.\n"
     ]
    }
   ],
   "source": [
    "train_generator = train_datagen.flow_from_directory(\n",
    "    directory = base_dir,\n",
    "    target_size = (64, 64),\n",
    "    batch_size = 32,\n",
    "    class_mode = 'categorical',\n",
    "    subset='training'\n",
    ")\n",
    "\n",
    "validation_generator = train_datagen.flow_from_directory(\n",
    "    directory = base_dir,\n",
    "    target_size = (64, 64),\n",
    "    batch_size = 32,\n",
    "    class_mode = 'categorical',\n",
    "    subset = 'validation'\n",
    ")"
   ]
  },
  {
   "cell_type": "markdown",
   "id": "6674fad1-47d2-4717-a343-9ae69815e766",
   "metadata": {},
   "source": [
    "#### c) Take a look at your training and validation sets: \n",
    "##### What is the image shape of each training observation?\n",
    "(64, 64) pixels and 3 color channels\n",
    "##### How many total classes do we need to predict on? \n",
    "10 classes"
   ]
  },
  {
   "cell_type": "markdown",
   "id": "83c6ccd0-4731-466c-aa4d-fe3c0a03b320",
   "metadata": {},
   "source": [
    "### 2. Initial Classifier Build: \n",
    "Now use keras to build an initial CNN image classifier using APIs such as Sequential(), Conv2D(), MaxPooling2D(), and Flatten()."
   ]
  },
  {
   "cell_type": "code",
   "execution_count": 17,
   "id": "20080d6f-e8d3-4568-89cc-0033279e15a9",
   "metadata": {},
   "outputs": [],
   "source": [
    "from tensorflow.keras.models import Sequential\n",
    "from tensorflow.keras.layers import Conv2D, MaxPooling2D, Flatten, Dense, Dropout, Input"
   ]
  },
  {
   "cell_type": "code",
   "execution_count": 39,
   "id": "ed7e5b51-8b5c-480f-9959-235212dd971f",
   "metadata": {},
   "outputs": [],
   "source": [
    "model = Sequential([\n",
    "    Input(shape=(64, 64, 3)),\n",
    "    Conv2D(32, (3, 3), activation='relu'),\n",
    "    MaxPooling2D(2, 2),\n",
    "    Conv2D(64, (3, 3), activation='relu'),\n",
    "    MaxPooling2D(2, 2),\n",
    "    Conv2D(128, (3, 3), activation='relu'),\n",
    "    MaxPooling2D(2, 2),\n",
    "    Flatten(),\n",
    "    Dense(128, activation='relu'),\n",
    "    Dropout(0.3),\n",
    "    Dense(10, activation='softmax')\n",
    "])"
   ]
  },
  {
   "cell_type": "code",
   "execution_count": 40,
   "id": "0e3d11dc-7194-402c-9716-691e149d6c13",
   "metadata": {},
   "outputs": [],
   "source": [
    "model.compile(optimizer='adam', loss='categorical_crossentropy', metrics=['accuracy'])"
   ]
  },
  {
   "cell_type": "markdown",
   "id": "26d2fb02-c3dc-4764-bada-b57a0f837bcf",
   "metadata": {},
   "source": [
    "### 3. Model Runs: \n",
    "This will be run various times with different numbers of epochs - you can also try with different number of steps_per_epoch\n",
    "\n",
    "#### a) Use fit() with the training set (Note - depending on your machine this may take a few hours, so do not wait till the last or last-1 day to complete this assignment). For the first run, use the following parameters: \n",
    "- epochs = 30\n",
    "- steps_per_epoch = 625"
   ]
  },
  {
   "cell_type": "code",
   "execution_count": 41,
   "id": "bc163af9-0902-423f-bd5d-d7694b19a40a",
   "metadata": {},
   "outputs": [
    {
     "name": "stdout",
     "output_type": "stream",
     "text": [
      "Epoch 1/30\n",
      "\u001b[1m625/625\u001b[0m \u001b[32m━━━━━━━━━━━━━━━━━━━━\u001b[0m\u001b[37m\u001b[0m \u001b[1m36s\u001b[0m 56ms/step - accuracy: 0.2696 - loss: 1.9654 - val_accuracy: 0.4624 - val_loss: 1.4939\n",
      "Epoch 2/30\n",
      "\u001b[1m403/625\u001b[0m \u001b[32m━━━━━━━━━━━━\u001b[0m\u001b[37m━━━━━━━━\u001b[0m \u001b[1m10s\u001b[0m 49ms/step - accuracy: 0.4485 - loss: 1.5233"
     ]
    },
    {
     "name": "stderr",
     "output_type": "stream",
     "text": [
      "2024-05-01 10:02:10.513985: W tensorflow/core/framework/local_rendezvous.cc:404] Local rendezvous is aborting with status: OUT_OF_RANGE: End of sequence\n",
      "\t [[{{node IteratorGetNext}}]]\n"
     ]
    },
    {
     "name": "stdout",
     "output_type": "stream",
     "text": [
      "\u001b[1m625/625\u001b[0m \u001b[32m━━━━━━━━━━━━━━━━━━━━\u001b[0m\u001b[37m\u001b[0m \u001b[1m26s\u001b[0m 42ms/step - accuracy: 0.4519 - loss: 1.5133 - val_accuracy: 0.5094 - val_loss: 1.3581\n",
      "Epoch 3/30\n",
      "\u001b[1m625/625\u001b[0m \u001b[32m━━━━━━━━━━━━━━━━━━━━\u001b[0m\u001b[37m\u001b[0m \u001b[1m37s\u001b[0m 58ms/step - accuracy: 0.5068 - loss: 1.3842 - val_accuracy: 0.5735 - val_loss: 1.2058\n",
      "Epoch 4/30\n",
      "\u001b[1m404/625\u001b[0m \u001b[32m━━━━━━━━━━━━\u001b[0m\u001b[37m━━━━━━━━\u001b[0m \u001b[1m11s\u001b[0m 50ms/step - accuracy: 0.5562 - loss: 1.2556"
     ]
    },
    {
     "name": "stderr",
     "output_type": "stream",
     "text": [
      "2024-05-01 10:03:13.792810: W tensorflow/core/framework/local_rendezvous.cc:404] Local rendezvous is aborting with status: OUT_OF_RANGE: End of sequence\n",
      "\t [[{{node IteratorGetNext}}]]\n"
     ]
    },
    {
     "name": "stdout",
     "output_type": "stream",
     "text": [
      "\u001b[1m625/625\u001b[0m \u001b[32m━━━━━━━━━━━━━━━━━━━━\u001b[0m\u001b[37m\u001b[0m \u001b[1m27s\u001b[0m 43ms/step - accuracy: 0.5588 - loss: 1.2495 - val_accuracy: 0.6032 - val_loss: 1.1115\n",
      "Epoch 5/30\n",
      "\u001b[1m625/625\u001b[0m \u001b[32m━━━━━━━━━━━━━━━━━━━━\u001b[0m\u001b[37m\u001b[0m \u001b[1m37s\u001b[0m 58ms/step - accuracy: 0.5797 - loss: 1.1921 - val_accuracy: 0.5938 - val_loss: 1.1546\n",
      "Epoch 6/30\n",
      "\u001b[1m404/625\u001b[0m \u001b[32m━━━━━━━━━━━━\u001b[0m\u001b[37m━━━━━━━━\u001b[0m \u001b[1m11s\u001b[0m 50ms/step - accuracy: 0.6070 - loss: 1.1292"
     ]
    },
    {
     "name": "stderr",
     "output_type": "stream",
     "text": [
      "2024-05-01 10:04:17.437697: W tensorflow/core/framework/local_rendezvous.cc:404] Local rendezvous is aborting with status: OUT_OF_RANGE: End of sequence\n",
      "\t [[{{node IteratorGetNext}}]]\n"
     ]
    },
    {
     "name": "stdout",
     "output_type": "stream",
     "text": [
      "\u001b[1m625/625\u001b[0m \u001b[32m━━━━━━━━━━━━━━━━━━━━\u001b[0m\u001b[37m\u001b[0m \u001b[1m28s\u001b[0m 44ms/step - accuracy: 0.6103 - loss: 1.1207 - val_accuracy: 0.6305 - val_loss: 1.0540\n",
      "Epoch 7/30\n",
      "\u001b[1m625/625\u001b[0m \u001b[32m━━━━━━━━━━━━━━━━━━━━\u001b[0m\u001b[37m\u001b[0m \u001b[1m36s\u001b[0m 58ms/step - accuracy: 0.6327 - loss: 1.0639 - val_accuracy: 0.6340 - val_loss: 1.0484\n",
      "Epoch 8/30\n",
      "\u001b[1m403/625\u001b[0m \u001b[32m━━━━━━━━━━━━\u001b[0m\u001b[37m━━━━━━━━\u001b[0m \u001b[1m11s\u001b[0m 50ms/step - accuracy: 0.6590 - loss: 0.9886"
     ]
    },
    {
     "name": "stderr",
     "output_type": "stream",
     "text": [
      "2024-05-01 10:05:21.322531: W tensorflow/core/framework/local_rendezvous.cc:404] Local rendezvous is aborting with status: OUT_OF_RANGE: End of sequence\n",
      "\t [[{{node IteratorGetNext}}]]\n"
     ]
    },
    {
     "name": "stdout",
     "output_type": "stream",
     "text": [
      "\u001b[1m625/625\u001b[0m \u001b[32m━━━━━━━━━━━━━━━━━━━━\u001b[0m\u001b[37m\u001b[0m \u001b[1m27s\u001b[0m 42ms/step - accuracy: 0.6579 - loss: 0.9903 - val_accuracy: 0.6716 - val_loss: 0.9261\n",
      "Epoch 9/30\n",
      "\u001b[1m625/625\u001b[0m \u001b[32m━━━━━━━━━━━━━━━━━━━━\u001b[0m\u001b[37m\u001b[0m \u001b[1m37s\u001b[0m 59ms/step - accuracy: 0.6580 - loss: 0.9829 - val_accuracy: 0.6769 - val_loss: 0.9309\n",
      "Epoch 10/30\n",
      "\u001b[1m403/625\u001b[0m \u001b[32m━━━━━━━━━━━━\u001b[0m\u001b[37m━━━━━━━━\u001b[0m \u001b[1m11s\u001b[0m 51ms/step - accuracy: 0.6717 - loss: 0.9411"
     ]
    },
    {
     "name": "stderr",
     "output_type": "stream",
     "text": [
      "2024-05-01 10:06:25.349855: W tensorflow/core/framework/local_rendezvous.cc:404] Local rendezvous is aborting with status: OUT_OF_RANGE: End of sequence\n",
      "\t [[{{node IteratorGetNext}}]]\n"
     ]
    },
    {
     "name": "stdout",
     "output_type": "stream",
     "text": [
      "\u001b[1m625/625\u001b[0m \u001b[32m━━━━━━━━━━━━━━━━━━━━\u001b[0m\u001b[37m\u001b[0m \u001b[1m26s\u001b[0m 42ms/step - accuracy: 0.6710 - loss: 0.9399 - val_accuracy: 0.6854 - val_loss: 0.9074\n",
      "Epoch 11/30\n",
      "\u001b[1m625/625\u001b[0m \u001b[32m━━━━━━━━━━━━━━━━━━━━\u001b[0m\u001b[37m\u001b[0m \u001b[1m42s\u001b[0m 67ms/step - accuracy: 0.6863 - loss: 0.9137 - val_accuracy: 0.6974 - val_loss: 0.8665\n",
      "Epoch 12/30\n",
      "\u001b[1m404/625\u001b[0m \u001b[32m━━━━━━━━━━━━\u001b[0m\u001b[37m━━━━━━━━\u001b[0m \u001b[1m17s\u001b[0m 78ms/step - accuracy: 0.6979 - loss: 0.8862"
     ]
    },
    {
     "name": "stderr",
     "output_type": "stream",
     "text": [
      "2024-05-01 10:07:44.100938: W tensorflow/core/framework/local_rendezvous.cc:404] Local rendezvous is aborting with status: OUT_OF_RANGE: End of sequence\n",
      "\t [[{{node IteratorGetNext}}]]\n"
     ]
    },
    {
     "name": "stdout",
     "output_type": "stream",
     "text": [
      "\u001b[1m625/625\u001b[0m \u001b[32m━━━━━━━━━━━━━━━━━━━━\u001b[0m\u001b[37m\u001b[0m \u001b[1m41s\u001b[0m 65ms/step - accuracy: 0.6979 - loss: 0.8849 - val_accuracy: 0.6964 - val_loss: 0.8628\n",
      "Epoch 13/30\n",
      "\u001b[1m625/625\u001b[0m \u001b[32m━━━━━━━━━━━━━━━━━━━━\u001b[0m\u001b[37m\u001b[0m \u001b[1m60s\u001b[0m 96ms/step - accuracy: 0.7051 - loss: 0.8543 - val_accuracy: 0.7008 - val_loss: 0.8568\n",
      "Epoch 14/30\n",
      "\u001b[1m404/625\u001b[0m \u001b[32m━━━━━━━━━━━━\u001b[0m\u001b[37m━━━━━━━━\u001b[0m \u001b[1m15s\u001b[0m 72ms/step - accuracy: 0.7071 - loss: 0.8515"
     ]
    },
    {
     "name": "stderr",
     "output_type": "stream",
     "text": [
      "2024-05-01 10:09:22.532617: W tensorflow/core/framework/local_rendezvous.cc:404] Local rendezvous is aborting with status: OUT_OF_RANGE: End of sequence\n",
      "\t [[{{node IteratorGetNext}}]]\n"
     ]
    },
    {
     "name": "stdout",
     "output_type": "stream",
     "text": [
      "\u001b[1m625/625\u001b[0m \u001b[32m━━━━━━━━━━━━━━━━━━━━\u001b[0m\u001b[37m\u001b[0m \u001b[1m38s\u001b[0m 61ms/step - accuracy: 0.7065 - loss: 0.8509 - val_accuracy: 0.7135 - val_loss: 0.8240\n",
      "Epoch 15/30\n",
      "\u001b[1m625/625\u001b[0m \u001b[32m━━━━━━━━━━━━━━━━━━━━\u001b[0m\u001b[37m\u001b[0m \u001b[1m49s\u001b[0m 78ms/step - accuracy: 0.7162 - loss: 0.8106 - val_accuracy: 0.7178 - val_loss: 0.8054\n",
      "Epoch 16/30\n",
      "\u001b[1m404/625\u001b[0m \u001b[32m━━━━━━━━━━━━\u001b[0m\u001b[37m━━━━━━━━\u001b[0m \u001b[1m14s\u001b[0m 66ms/step - accuracy: 0.7305 - loss: 0.7905"
     ]
    },
    {
     "name": "stderr",
     "output_type": "stream",
     "text": [
      "2024-05-01 10:10:47.377286: W tensorflow/core/framework/local_rendezvous.cc:404] Local rendezvous is aborting with status: OUT_OF_RANGE: End of sequence\n",
      "\t [[{{node IteratorGetNext}}]]\n"
     ]
    },
    {
     "name": "stdout",
     "output_type": "stream",
     "text": [
      "\u001b[1m625/625\u001b[0m \u001b[32m━━━━━━━━━━━━━━━━━━━━\u001b[0m\u001b[37m\u001b[0m \u001b[1m34s\u001b[0m 54ms/step - accuracy: 0.7261 - loss: 0.8004 - val_accuracy: 0.7093 - val_loss: 0.8373\n",
      "Epoch 17/30\n",
      "\u001b[1m625/625\u001b[0m \u001b[32m━━━━━━━━━━━━━━━━━━━━\u001b[0m\u001b[37m\u001b[0m \u001b[1m47s\u001b[0m 76ms/step - accuracy: 0.7244 - loss: 0.8045 - val_accuracy: 0.7221 - val_loss: 0.7974\n",
      "Epoch 18/30\n",
      "\u001b[1m404/625\u001b[0m \u001b[32m━━━━━━━━━━━━\u001b[0m\u001b[37m━━━━━━━━\u001b[0m \u001b[1m13s\u001b[0m 63ms/step - accuracy: 0.7376 - loss: 0.7603"
     ]
    },
    {
     "name": "stderr",
     "output_type": "stream",
     "text": [
      "2024-05-01 10:12:07.135974: W tensorflow/core/framework/local_rendezvous.cc:404] Local rendezvous is aborting with status: OUT_OF_RANGE: End of sequence\n",
      "\t [[{{node IteratorGetNext}}]]\n"
     ]
    },
    {
     "name": "stdout",
     "output_type": "stream",
     "text": [
      "\u001b[1m625/625\u001b[0m \u001b[32m━━━━━━━━━━━━━━━━━━━━\u001b[0m\u001b[37m\u001b[0m \u001b[1m34s\u001b[0m 54ms/step - accuracy: 0.7365 - loss: 0.7623 - val_accuracy: 0.6944 - val_loss: 0.8803\n",
      "Epoch 19/30\n",
      "\u001b[1m625/625\u001b[0m \u001b[32m━━━━━━━━━━━━━━━━━━━━\u001b[0m\u001b[37m\u001b[0m \u001b[1m47s\u001b[0m 74ms/step - accuracy: 0.7296 - loss: 0.7777 - val_accuracy: 0.7291 - val_loss: 0.7858\n",
      "Epoch 20/30\n",
      "\u001b[1m404/625\u001b[0m \u001b[32m━━━━━━━━━━━━\u001b[0m\u001b[37m━━━━━━━━\u001b[0m \u001b[1m14s\u001b[0m 65ms/step - accuracy: 0.7402 - loss: 0.7506"
     ]
    },
    {
     "name": "stderr",
     "output_type": "stream",
     "text": [
      "2024-05-01 10:13:28.312151: W tensorflow/core/framework/local_rendezvous.cc:404] Local rendezvous is aborting with status: OUT_OF_RANGE: End of sequence\n",
      "\t [[{{node IteratorGetNext}}]]\n"
     ]
    },
    {
     "name": "stdout",
     "output_type": "stream",
     "text": [
      "\u001b[1m625/625\u001b[0m \u001b[32m━━━━━━━━━━━━━━━━━━━━\u001b[0m\u001b[37m\u001b[0m \u001b[1m34s\u001b[0m 54ms/step - accuracy: 0.7382 - loss: 0.7553 - val_accuracy: 0.7034 - val_loss: 0.8614\n",
      "Epoch 21/30\n",
      "\u001b[1m625/625\u001b[0m \u001b[32m━━━━━━━━━━━━━━━━━━━━\u001b[0m\u001b[37m\u001b[0m \u001b[1m46s\u001b[0m 73ms/step - accuracy: 0.7415 - loss: 0.7486 - val_accuracy: 0.7335 - val_loss: 0.7863\n",
      "Epoch 22/30\n",
      "\u001b[1m404/625\u001b[0m \u001b[32m━━━━━━━━━━━━\u001b[0m\u001b[37m━━━━━━━━\u001b[0m \u001b[1m13s\u001b[0m 60ms/step - accuracy: 0.7523 - loss: 0.7193"
     ]
    },
    {
     "name": "stderr",
     "output_type": "stream",
     "text": [
      "2024-05-01 10:14:45.782459: W tensorflow/core/framework/local_rendezvous.cc:404] Local rendezvous is aborting with status: OUT_OF_RANGE: End of sequence\n",
      "\t [[{{node IteratorGetNext}}]]\n"
     ]
    },
    {
     "name": "stdout",
     "output_type": "stream",
     "text": [
      "\u001b[1m625/625\u001b[0m \u001b[32m━━━━━━━━━━━━━━━━━━━━\u001b[0m\u001b[37m\u001b[0m \u001b[1m31s\u001b[0m 50ms/step - accuracy: 0.7505 - loss: 0.7193 - val_accuracy: 0.7231 - val_loss: 0.8132\n",
      "Epoch 23/30\n",
      "\u001b[1m625/625\u001b[0m \u001b[32m━━━━━━━━━━━━━━━━━━━━\u001b[0m\u001b[37m\u001b[0m \u001b[1m45s\u001b[0m 71ms/step - accuracy: 0.7484 - loss: 0.7401 - val_accuracy: 0.7349 - val_loss: 0.7775\n",
      "Epoch 24/30\n",
      "\u001b[1m404/625\u001b[0m \u001b[32m━━━━━━━━━━━━\u001b[0m\u001b[37m━━━━━━━━\u001b[0m \u001b[1m13s\u001b[0m 59ms/step - accuracy: 0.7524 - loss: 0.7012"
     ]
    },
    {
     "name": "stderr",
     "output_type": "stream",
     "text": [
      "2024-05-01 10:16:01.737000: W tensorflow/core/framework/local_rendezvous.cc:404] Local rendezvous is aborting with status: OUT_OF_RANGE: End of sequence\n",
      "\t [[{{node IteratorGetNext}}]]\n"
     ]
    },
    {
     "name": "stdout",
     "output_type": "stream",
     "text": [
      "\u001b[1m625/625\u001b[0m \u001b[32m━━━━━━━━━━━━━━━━━━━━\u001b[0m\u001b[37m\u001b[0m \u001b[1m32s\u001b[0m 51ms/step - accuracy: 0.7516 - loss: 0.7035 - val_accuracy: 0.7463 - val_loss: 0.7501\n",
      "Epoch 25/30\n",
      "\u001b[1m625/625\u001b[0m \u001b[32m━━━━━━━━━━━━━━━━━━━━\u001b[0m\u001b[37m\u001b[0m \u001b[1m46s\u001b[0m 73ms/step - accuracy: 0.7519 - loss: 0.7166 - val_accuracy: 0.7387 - val_loss: 0.7559\n",
      "Epoch 26/30\n",
      "\u001b[1m404/625\u001b[0m \u001b[32m━━━━━━━━━━━━\u001b[0m\u001b[37m━━━━━━━━\u001b[0m \u001b[1m13s\u001b[0m 60ms/step - accuracy: 0.7625 - loss: 0.6916"
     ]
    },
    {
     "name": "stderr",
     "output_type": "stream",
     "text": [
      "2024-05-01 10:17:19.989816: W tensorflow/core/framework/local_rendezvous.cc:404] Local rendezvous is aborting with status: OUT_OF_RANGE: End of sequence\n",
      "\t [[{{node IteratorGetNext}}]]\n"
     ]
    },
    {
     "name": "stdout",
     "output_type": "stream",
     "text": [
      "\u001b[1m625/625\u001b[0m \u001b[32m━━━━━━━━━━━━━━━━━━━━\u001b[0m\u001b[37m\u001b[0m \u001b[1m33s\u001b[0m 53ms/step - accuracy: 0.7640 - loss: 0.6866 - val_accuracy: 0.7443 - val_loss: 0.7656\n",
      "Epoch 27/30\n",
      "\u001b[1m625/625\u001b[0m \u001b[32m━━━━━━━━━━━━━━━━━━━━\u001b[0m\u001b[37m\u001b[0m \u001b[1m45s\u001b[0m 71ms/step - accuracy: 0.7633 - loss: 0.6892 - val_accuracy: 0.7376 - val_loss: 0.7702\n",
      "Epoch 28/30\n",
      "\u001b[1m404/625\u001b[0m \u001b[32m━━━━━━━━━━━━\u001b[0m\u001b[37m━━━━━━━━\u001b[0m \u001b[1m13s\u001b[0m 62ms/step - accuracy: 0.7638 - loss: 0.6875"
     ]
    },
    {
     "name": "stderr",
     "output_type": "stream",
     "text": [
      "2024-05-01 10:18:38.341837: W tensorflow/core/framework/local_rendezvous.cc:404] Local rendezvous is aborting with status: OUT_OF_RANGE: End of sequence\n",
      "\t [[{{node IteratorGetNext}}]]\n"
     ]
    },
    {
     "name": "stdout",
     "output_type": "stream",
     "text": [
      "\u001b[1m625/625\u001b[0m \u001b[32m━━━━━━━━━━━━━━━━━━━━\u001b[0m\u001b[37m\u001b[0m \u001b[1m32s\u001b[0m 52ms/step - accuracy: 0.7635 - loss: 0.6883 - val_accuracy: 0.7425 - val_loss: 0.7646\n",
      "Epoch 29/30\n",
      "\u001b[1m625/625\u001b[0m \u001b[32m━━━━━━━━━━━━━━━━━━━━\u001b[0m\u001b[37m\u001b[0m \u001b[1m47s\u001b[0m 75ms/step - accuracy: 0.7635 - loss: 0.6769 - val_accuracy: 0.7410 - val_loss: 0.7633\n",
      "Epoch 30/30\n",
      "\u001b[1m404/625\u001b[0m \u001b[32m━━━━━━━━━━━━\u001b[0m\u001b[37m━━━━━━━━\u001b[0m \u001b[1m14s\u001b[0m 65ms/step - accuracy: 0.7629 - loss: 0.6729"
     ]
    },
    {
     "name": "stderr",
     "output_type": "stream",
     "text": [
      "2024-05-01 10:19:59.437449: W tensorflow/core/framework/local_rendezvous.cc:404] Local rendezvous is aborting with status: OUT_OF_RANGE: End of sequence\n",
      "\t [[{{node IteratorGetNext}}]]\n"
     ]
    },
    {
     "name": "stdout",
     "output_type": "stream",
     "text": [
      "\u001b[1m625/625\u001b[0m \u001b[32m━━━━━━━━━━━━━━━━━━━━\u001b[0m\u001b[37m\u001b[0m \u001b[1m35s\u001b[0m 55ms/step - accuracy: 0.7642 - loss: 0.6696 - val_accuracy: 0.7492 - val_loss: 0.7509\n"
     ]
    }
   ],
   "source": [
    "r = model.fit(\n",
    "    train_generator,\n",
    "    steps_per_epoch=625,\n",
    "    epochs=30,\n",
    "    validation_data = validation_generator\n",
    ")"
   ]
  },
  {
   "cell_type": "markdown",
   "id": "6185dc90-ce96-4931-903e-b99dcfb99558",
   "metadata": {},
   "source": [
    "#### b) plot the training and validation loss and save the image file"
   ]
  },
  {
   "cell_type": "code",
   "execution_count": 22,
   "id": "3b2a6816-89f8-4ce0-8b75-773b87d9cb2e",
   "metadata": {},
   "outputs": [],
   "source": [
    "import matplotlib.pyplot as plt"
   ]
  },
  {
   "cell_type": "code",
   "execution_count": 42,
   "id": "1be968f4-3671-4f26-a017-ed630d760558",
   "metadata": {},
   "outputs": [
    {
     "data": {
      "image/png": "[encoded data removed]",
      "text/plain": [
       "<Figure size 1200x500 with 2 Axes>"
      ]
     },
     "metadata": {},
     "output_type": "display_data"
    }
   ],
   "source": [
    "# Plot training & validation accuracy values\n",
    "plt.figure(figsize=(12, 5))\n",
    "plt.subplot(1, 2, 1)\n",
    "plt.plot(r.history['accuracy'])\n",
    "if 'val_accuracy' in r.history:\n",
    "    plt.plot(r.history['val_accuracy'])\n",
    "plt.title('Model Accuracy')\n",
    "plt.ylabel('Accuracy')\n",
    "plt.xlabel('Epoch')\n",
    "plt.legend(['Train', 'Validation'], loc='upper left')\n",
    "\n",
    "# Plot training & validation loss values\n",
    "plt.subplot(1, 2, 2)\n",
    "plt.plot(r.history['loss'])\n",
    "if 'val_loss' in r.history:\n",
    "    plt.plot(r.history['val_loss'])\n",
    "plt.title('Model Loss')\n",
    "plt.ylabel('Loss')\n",
    "plt.xlabel('Epoch')\n",
    "plt.legend(['Train', 'Validation'], loc='upper left')\n",
    "\n",
    "plt.show()"
   ]
  },
  {
   "cell_type": "markdown",
   "id": "e048e853-d43b-42d1-b725-c92116c9a2ad",
   "metadata": {},
   "source": [
    "#### c) save model to a file"
   ]
  },
  {
   "cell_type": "code",
   "execution_count": 44,
   "id": "c7fbee75-503f-4ad5-8170-c1d6674b2292",
   "metadata": {},
   "outputs": [],
   "source": [
    "model.save('cifar10_model.keras')"
   ]
  },
  {
   "cell_type": "markdown",
   "id": "60feaa8f-658b-49d8-b16d-f912502bbff3",
   "metadata": {},
   "source": [
    "#### d) Predict using the saved model and the test dataset. Remember to use ImageDataGenerator() without any data augmentation."
   ]
  },
  {
   "cell_type": "code",
   "execution_count": 45,
   "id": "e0c681db-6e12-48a8-a8f5-d215946b3af0",
   "metadata": {},
   "outputs": [],
   "source": [
    "from tensorflow.keras.models import load_model"
   ]
  },
  {
   "cell_type": "code",
   "execution_count": 54,
   "id": "b801de39-ea65-43c3-970c-ba928717f274",
   "metadata": {},
   "outputs": [],
   "source": [
    "test_batch_file = '/Users/nataliekim/Library/CloudStorage/OneDrive-TheUniversityofChicago/machine learning/ml data/cifar-10-batches-py/test_batch'\n",
    "\n",
    "def save_images_from_batch(batch_file, base_dir, label_names, subfolder=\"test\"):\n",
    "    batch_data = unpickle(batch_file)\n",
    "    data = batch_data[b'data']\n",
    "    labels = batch_data[b'labels']\n",
    "    for i, (img_data, label) in enumerate(zip(data, labels)):\n",
    "        image = img_data.reshape(3, 32, 32).transpose(1, 2, 0)  # Convert to 32x32x3 RGB image\n",
    "        image = Image.fromarray(image)\n",
    "        label_name = label_names[label].decode('utf-8')\n",
    "        # Create a subdirectory for test images\n",
    "        class_dir = os.path.join(base_dir, label_name, subfolder)\n",
    "        os.makedirs(class_dir, exist_ok=True)\n",
    "        image.save(os.path.join(class_dir, f'test_image_{i}.png'))\n",
    "\n",
    "save_images_from_batch(test_batch_file, base_dir, label_names)"
   ]
  },
  {
   "cell_type": "code",
   "execution_count": 70,
   "id": "41adbb1f-c8cf-46b0-8e47-45dba6fb988e",
   "metadata": {},
   "outputs": [
    {
     "name": "stderr",
     "output_type": "stream",
     "text": [
      "/opt/anaconda3/lib/python3.11/site-packages/keras/src/saving/saving_lib.py:415: UserWarning: Skipping variable loading for optimizer 'rmsprop', because it has 12 variables whereas the saved optimizer has 22 variables. \n",
      "  saveable.load_own_variables(weights_store.get(inner_path))\n"
     ]
    },
    {
     "name": "stdout",
     "output_type": "stream",
     "text": [
      "Found 51129 images belonging to 10 classes.\n",
      "\u001b[1m  11/1598\u001b[0m \u001b[37m━━━━━━━━━━━━━━━━━━━━\u001b[0m \u001b[1m17s\u001b[0m 11ms/step"
     ]
    },
    {
     "name": "stderr",
     "output_type": "stream",
     "text": [
      "/opt/anaconda3/lib/python3.11/site-packages/keras/src/trainers/data_adapters/py_dataset_adapter.py:121: UserWarning: Your `PyDataset` class should call `super().__init__(**kwargs)` in its constructor. `**kwargs` can include `workers`, `use_multiprocessing`, `max_queue_size`. Do not pass these arguments to `fit()`, as they will be ignored.\n",
      "  self._warn_if_super_not_called()\n"
     ]
    },
    {
     "name": "stdout",
     "output_type": "stream",
     "text": [
      "\u001b[1m1598/1598\u001b[0m \u001b[32m━━━━━━━━━━━━━━━━━━━━\u001b[0m\u001b[37m\u001b[0m \u001b[1m19s\u001b[0m 12ms/step\n"
     ]
    }
   ],
   "source": [
    "model = load_model('cifar10_model.keras')\n",
    "\n",
    "# initialize the data generator for the test data\n",
    "test_datagen = tf.keras.preprocessing.image.ImageDataGenerator(\n",
    "    rescale=1./255\n",
    ")\n",
    "\n",
    "# test data generator\n",
    "test_generator = test_datagen.flow_from_directory(\n",
    "    directory = base_dir,\n",
    "    target_size=(64, 64),\n",
    "    batch_size=32,\n",
    "    class_mode='categorical',\n",
    "    shuffle=False\n",
    ")\n",
    "\n",
    "# predict output\n",
    "predictions = model.predict(test_generator, steps=len(test_generator))\n",
    "predicted_classes = np.argmax(predictions, axis=1)"
   ]
  },
  {
   "cell_type": "markdown",
   "id": "8c0cc292-c208-4afd-b189-17e49322129b",
   "metadata": {},
   "source": [
    "#### e) Determine accuracy."
   ]
  },
  {
   "cell_type": "code",
   "execution_count": 56,
   "id": "520c5a5d-a29c-43ef-9656-d28131f2e22b",
   "metadata": {},
   "outputs": [],
   "source": [
    "from sklearn.metrics import accuracy_score"
   ]
  },
  {
   "cell_type": "code",
   "execution_count": 77,
   "id": "db3de2e5-1a1d-48ce-8c56-55be4fae260f",
   "metadata": {},
   "outputs": [
    {
     "name": "stdout",
     "output_type": "stream",
     "text": [
      "Accuracy on the test set: 0.8018\n"
     ]
    }
   ],
   "source": [
    "# Get the actual labels from the generator\n",
    "true_classes = test_generator.classes\n",
    "\n",
    "# Calculate the accuracy\n",
    "accuracy = accuracy_score(true_classes, predicted_classes)\n",
    "print(f'Accuracy on the test set: {accuracy:.4f}')"
   ]
  },
  {
   "cell_type": "markdown",
   "id": "a319a9a8-557d-412e-815d-45899c954f62",
   "metadata": {},
   "source": [
    "#### f) Run this process for the following combinations:\n",
    "\n",
    "- (steps_per_epoch: 100, epochs: 2)\n",
    "- (steps_per_epoch: 250, epochs: 2)\n",
    "- (steps_per_epoch: 500, epochs: 2)\n",
    "- (steps_per_epoch: 100, epochs: 5)\n",
    "- (steps_per_epoch: 250, epochs: 5)\n",
    "- (steps_per_epoch: 500, epochs: 5)\n",
    "- (steps_per_epoch: 100, epochs: 9)\n",
    "- (steps_per_epoch: 250, epochs: 9)\n",
    "- (steps_per_epoch: 500, epochs: 9)\n",
    "- (steps_per_epoch: 5, epochs: 10)"
   ]
  },
  {
   "cell_type": "code",
   "execution_count": 60,
   "id": "c55c2c97-87e8-4056-8e87-8aa8b4b0b3b4",
   "metadata": {},
   "outputs": [],
   "source": [
    "combinations = [\n",
    "    (100, 2),\n",
    "    (250, 2),\n",
    "    (500, 2),\n",
    "    (100, 5),\n",
    "    (250, 5),\n",
    "    (500, 5),\n",
    "    (100, 9),\n",
    "    (250, 9),\n",
    "    (500, 9),\n",
    "    (5, 10)\n",
    "]"
   ]
  },
  {
   "cell_type": "code",
   "execution_count": 62,
   "id": "8aef11a5-5252-4dcb-ab7a-0dafd9d9cbb1",
   "metadata": {},
   "outputs": [
    {
     "name": "stdout",
     "output_type": "stream",
     "text": [
      "Epoch 1/2\n",
      "\u001b[1m100/100\u001b[0m \u001b[32m━━━━━━━━━━━━━━━━━━━━\u001b[0m\u001b[37m\u001b[0m \u001b[1m12s\u001b[0m 108ms/step - accuracy: 0.1681 - loss: 2.2473 - val_accuracy: 0.3059 - val_loss: 1.8556\n",
      "Epoch 2/2\n",
      "\u001b[1m100/100\u001b[0m \u001b[32m━━━━━━━━━━━━━━━━━━━━\u001b[0m\u001b[37m\u001b[0m \u001b[1m10s\u001b[0m 97ms/step - accuracy: 0.2970 - loss: 1.8887 - val_accuracy: 0.3627 - val_loss: 1.7526\n",
      "\u001b[1m1598/1598\u001b[0m \u001b[32m━━━━━━━━━━━━━━━━━━━━\u001b[0m\u001b[37m\u001b[0m \u001b[1m20s\u001b[0m 12ms/step\n",
      "Done with steps_per_epoch = 100, epochs = 2, Accuracy = 0.37\n",
      "Epoch 1/2\n",
      "\u001b[1m250/250\u001b[0m \u001b[32m━━━━━━━━━━━━━━━━━━━━\u001b[0m\u001b[37m\u001b[0m \u001b[1m18s\u001b[0m 70ms/step - accuracy: 0.1971 - loss: 2.1463 - val_accuracy: 0.3740 - val_loss: 1.7095\n",
      "Epoch 2/2\n",
      "\u001b[1m250/250\u001b[0m \u001b[32m━━━━━━━━━━━━━━━━━━━━\u001b[0m\u001b[37m\u001b[0m \u001b[1m19s\u001b[0m 75ms/step - accuracy: 0.3643 - loss: 1.7227 - val_accuracy: 0.4268 - val_loss: 1.5623\n",
      "\u001b[1m1598/1598\u001b[0m \u001b[32m━━━━━━━━━━━━━━━━━━━━\u001b[0m\u001b[37m\u001b[0m \u001b[1m20s\u001b[0m 13ms/step\n",
      "Done with steps_per_epoch = 250, epochs = 2, Accuracy = 0.42\n",
      "Epoch 1/2\n",
      "\u001b[1m500/500\u001b[0m \u001b[32m━━━━━━━━━━━━━━━━━━━━\u001b[0m\u001b[37m\u001b[0m \u001b[1m31s\u001b[0m 61ms/step - accuracy: 0.2467 - loss: 2.0446 - val_accuracy: 0.4087 - val_loss: 1.6098\n",
      "Epoch 2/2\n",
      "\u001b[1m500/500\u001b[0m \u001b[32m━━━━━━━━━━━━━━━━━━━━\u001b[0m\u001b[37m\u001b[0m \u001b[1m30s\u001b[0m 61ms/step - accuracy: 0.4230 - loss: 1.6013 - val_accuracy: 0.4945 - val_loss: 1.3972\n",
      "\u001b[1m1598/1598\u001b[0m \u001b[32m━━━━━━━━━━━━━━━━━━━━\u001b[0m\u001b[37m\u001b[0m \u001b[1m21s\u001b[0m 13ms/step\n",
      "Done with steps_per_epoch = 500, epochs = 2, Accuracy = 0.51\n",
      "Epoch 1/5\n",
      "\u001b[1m100/100\u001b[0m \u001b[32m━━━━━━━━━━━━━━━━━━━━\u001b[0m\u001b[37m\u001b[0m \u001b[1m12s\u001b[0m 116ms/step - accuracy: 0.1637 - loss: 2.2214 - val_accuracy: 0.3283 - val_loss: 1.8531\n",
      "Epoch 2/5\n",
      "\u001b[1m100/100\u001b[0m \u001b[32m━━━━━━━━━━━━━━━━━━━━\u001b[0m\u001b[37m\u001b[0m \u001b[1m11s\u001b[0m 107ms/step - accuracy: 0.3014 - loss: 1.8690 - val_accuracy: 0.3922 - val_loss: 1.6628\n",
      "Epoch 3/5\n",
      "\u001b[1m100/100\u001b[0m \u001b[32m━━━━━━━━━━━━━━━━━━━━\u001b[0m\u001b[37m\u001b[0m \u001b[1m11s\u001b[0m 112ms/step - accuracy: 0.3684 - loss: 1.7340 - val_accuracy: 0.3838 - val_loss: 1.6596\n",
      "Epoch 4/5\n",
      "\u001b[1m100/100\u001b[0m \u001b[32m━━━━━━━━━━━━━━━━━━━━\u001b[0m\u001b[37m\u001b[0m \u001b[1m10s\u001b[0m 100ms/step - accuracy: 0.3811 - loss: 1.6834 - val_accuracy: 0.4227 - val_loss: 1.6053\n",
      "Epoch 5/5\n",
      "\u001b[1m100/100\u001b[0m \u001b[32m━━━━━━━━━━━━━━━━━━━━\u001b[0m\u001b[37m\u001b[0m \u001b[1m10s\u001b[0m 102ms/step - accuracy: 0.3970 - loss: 1.6491 - val_accuracy: 0.4628 - val_loss: 1.4813\n",
      "\u001b[1m1598/1598\u001b[0m \u001b[32m━━━━━━━━━━━━━━━━━━━━\u001b[0m\u001b[37m\u001b[0m \u001b[1m22s\u001b[0m 14ms/step\n",
      "Done with steps_per_epoch = 100, epochs = 5, Accuracy = 0.48\n",
      "Epoch 1/5\n",
      "\u001b[1m250/250\u001b[0m \u001b[32m━━━━━━━━━━━━━━━━━━━━\u001b[0m\u001b[37m\u001b[0m \u001b[1m19s\u001b[0m 73ms/step - accuracy: 0.1825 - loss: 2.1426 - val_accuracy: 0.3644 - val_loss: 1.7191\n",
      "Epoch 2/5\n",
      "\u001b[1m250/250\u001b[0m \u001b[32m━━━━━━━━━━━━━━━━━━━━\u001b[0m\u001b[37m\u001b[0m \u001b[1m18s\u001b[0m 73ms/step - accuracy: 0.3576 - loss: 1.7426 - val_accuracy: 0.4353 - val_loss: 1.5375\n",
      "Epoch 3/5\n",
      "\u001b[1m250/250\u001b[0m \u001b[32m━━━━━━━━━━━━━━━━━━━━\u001b[0m\u001b[37m\u001b[0m \u001b[1m19s\u001b[0m 77ms/step - accuracy: 0.4226 - loss: 1.5957 - val_accuracy: 0.4717 - val_loss: 1.4738\n",
      "Epoch 4/5\n",
      "\u001b[1m250/250\u001b[0m \u001b[32m━━━━━━━━━━━━━━━━━━━━\u001b[0m\u001b[37m\u001b[0m \u001b[1m19s\u001b[0m 75ms/step - accuracy: 0.4581 - loss: 1.4954 - val_accuracy: 0.4620 - val_loss: 1.5232\n",
      "Epoch 5/5\n",
      "\u001b[1m 29/250\u001b[0m \u001b[32m━━\u001b[0m\u001b[37m━━━━━━━━━━━━━━━━━━\u001b[0m \u001b[1m10s\u001b[0m 49ms/step - accuracy: 0.4852 - loss: 1.5051"
     ]
    },
    {
     "name": "stderr",
     "output_type": "stream",
     "text": [
      "2024-05-01 11:03:33.114166: W tensorflow/core/framework/local_rendezvous.cc:404] Local rendezvous is aborting with status: OUT_OF_RANGE: End of sequence\n",
      "\t [[{{node IteratorGetNext}}]]\n",
      "/opt/anaconda3/lib/python3.11/contextlib.py:158: UserWarning: Your input ran out of data; interrupting training. Make sure that your dataset or generator can generate at least `steps_per_epoch * epochs` batches. You may need to use the `.repeat()` function when building your dataset.\n",
      "  self.gen.throw(typ, value, traceback)\n"
     ]
    },
    {
     "name": "stdout",
     "output_type": "stream",
     "text": [
      "\u001b[1m250/250\u001b[0m \u001b[32m━━━━━━━━━━━━━━━━━━━━\u001b[0m\u001b[37m\u001b[0m \u001b[1m7s\u001b[0m 29ms/step - accuracy: 0.4859 - loss: 1.4813 - val_accuracy: 0.5162 - val_loss: 1.3564\n",
      "\u001b[1m1598/1598\u001b[0m \u001b[32m━━━━━━━━━━━━━━━━━━━━\u001b[0m\u001b[37m\u001b[0m \u001b[1m22s\u001b[0m 14ms/step\n",
      "Done with steps_per_epoch = 250, epochs = 5, Accuracy = 0.52\n",
      "Epoch 1/5\n",
      "\u001b[1m500/500\u001b[0m \u001b[32m━━━━━━━━━━━━━━━━━━━━\u001b[0m\u001b[37m\u001b[0m \u001b[1m34s\u001b[0m 66ms/step - accuracy: 0.2214 - loss: 2.0804 - val_accuracy: 0.4136 - val_loss: 1.6047\n",
      "Epoch 2/5\n",
      "\u001b[1m500/500\u001b[0m \u001b[32m━━━━━━━━━━━━━━━━━━━━\u001b[0m\u001b[37m\u001b[0m \u001b[1m34s\u001b[0m 67ms/step - accuracy: 0.3999 - loss: 1.6427 - val_accuracy: 0.4655 - val_loss: 1.5157\n",
      "Epoch 3/5\n",
      "\u001b[1m 28/500\u001b[0m \u001b[32m━\u001b[0m\u001b[37m━━━━━━━━━━━━━━━━━━━\u001b[0m \u001b[1m24s\u001b[0m 51ms/step - accuracy: 0.4174 - loss: 1.5745"
     ]
    },
    {
     "name": "stderr",
     "output_type": "stream",
     "text": [
      "2024-05-01 11:05:10.258998: W tensorflow/core/framework/local_rendezvous.cc:404] Local rendezvous is aborting with status: OUT_OF_RANGE: End of sequence\n",
      "\t [[{{node IteratorGetNext}}]]\n",
      "/opt/anaconda3/lib/python3.11/contextlib.py:158: UserWarning: Your input ran out of data; interrupting training. Make sure that your dataset or generator can generate at least `steps_per_epoch * epochs` batches. You may need to use the `.repeat()` function when building your dataset.\n",
      "  self.gen.throw(typ, value, traceback)\n"
     ]
    },
    {
     "name": "stdout",
     "output_type": "stream",
     "text": [
      "\u001b[1m500/500\u001b[0m \u001b[32m━━━━━━━━━━━━━━━━━━━━\u001b[0m\u001b[37m\u001b[0m \u001b[1m8s\u001b[0m 16ms/step - accuracy: 0.4486 - loss: 1.5152 - val_accuracy: 0.4867 - val_loss: 1.4210\n",
      "Epoch 4/5\n",
      "\u001b[1m500/500\u001b[0m \u001b[32m━━━━━━━━━━━━━━━━━━━━\u001b[0m\u001b[37m\u001b[0m \u001b[1m34s\u001b[0m 69ms/step - accuracy: 0.4697 - loss: 1.4714 - val_accuracy: 0.5223 - val_loss: 1.3364\n",
      "Epoch 5/5\n",
      "\u001b[1m500/500\u001b[0m \u001b[32m━━━━━━━━━━━━━━━━━━━━\u001b[0m\u001b[37m\u001b[0m \u001b[1m36s\u001b[0m 72ms/step - accuracy: 0.5250 - loss: 1.3421 - val_accuracy: 0.5682 - val_loss: 1.2022\n",
      "\u001b[1m1598/1598\u001b[0m \u001b[32m━━━━━━━━━━━━━━━━━━━━\u001b[0m\u001b[37m\u001b[0m \u001b[1m24s\u001b[0m 15ms/step\n",
      "Done with steps_per_epoch = 500, epochs = 5, Accuracy = 0.58\n",
      "Epoch 1/9\n",
      "\u001b[1m100/100\u001b[0m \u001b[32m━━━━━━━━━━━━━━━━━━━━\u001b[0m\u001b[37m\u001b[0m \u001b[1m14s\u001b[0m 133ms/step - accuracy: 0.1679 - loss: 2.2264 - val_accuracy: 0.3009 - val_loss: 1.8526\n",
      "Epoch 2/9\n",
      "\u001b[1m100/100\u001b[0m \u001b[32m━━━━━━━━━━━━━━━━━━━━\u001b[0m\u001b[37m\u001b[0m \u001b[1m12s\u001b[0m 119ms/step - accuracy: 0.2965 - loss: 1.9458 - val_accuracy: 0.3967 - val_loss: 1.7347\n",
      "Epoch 3/9\n",
      "\u001b[1m100/100\u001b[0m \u001b[32m━━━━━━━━━━━━━━━━━━━━\u001b[0m\u001b[37m\u001b[0m \u001b[1m12s\u001b[0m 118ms/step - accuracy: 0.3553 - loss: 1.7359 - val_accuracy: 0.4142 - val_loss: 1.6608\n",
      "Epoch 4/9\n",
      "\u001b[1m100/100\u001b[0m \u001b[32m━━━━━━━━━━━━━━━━━━━━\u001b[0m\u001b[37m\u001b[0m \u001b[1m12s\u001b[0m 116ms/step - accuracy: 0.4208 - loss: 1.6263 - val_accuracy: 0.4475 - val_loss: 1.5427\n",
      "Epoch 5/9\n",
      "\u001b[1m100/100\u001b[0m \u001b[32m━━━━━━━━━━━━━━━━━━━━\u001b[0m\u001b[37m\u001b[0m \u001b[1m12s\u001b[0m 125ms/step - accuracy: 0.4036 - loss: 1.6033 - val_accuracy: 0.4652 - val_loss: 1.4816\n",
      "Epoch 6/9\n",
      "\u001b[1m100/100\u001b[0m \u001b[32m━━━━━━━━━━━━━━━━━━━━\u001b[0m\u001b[37m\u001b[0m \u001b[1m12s\u001b[0m 123ms/step - accuracy: 0.4400 - loss: 1.5503 - val_accuracy: 0.4557 - val_loss: 1.4947\n",
      "Epoch 7/9\n",
      "\u001b[1m100/100\u001b[0m \u001b[32m━━━━━━━━━━━━━━━━━━━━\u001b[0m\u001b[37m\u001b[0m \u001b[1m12s\u001b[0m 120ms/step - accuracy: 0.4360 - loss: 1.5023 - val_accuracy: 0.4845 - val_loss: 1.4318\n",
      "Epoch 8/9\n",
      "\u001b[1m100/100\u001b[0m \u001b[32m━━━━━━━━━━━━━━━━━━━━\u001b[0m\u001b[37m\u001b[0m \u001b[1m13s\u001b[0m 126ms/step - accuracy: 0.4768 - loss: 1.4374 - val_accuracy: 0.4804 - val_loss: 1.4878\n",
      "Epoch 9/9\n",
      "\u001b[1m100/100\u001b[0m \u001b[32m━━━━━━━━━━━━━━━━━━━━\u001b[0m\u001b[37m\u001b[0m \u001b[1m13s\u001b[0m 129ms/step - accuracy: 0.4922 - loss: 1.4518 - val_accuracy: 0.4774 - val_loss: 1.4766\n",
      "\u001b[1m1598/1598\u001b[0m \u001b[32m━━━━━━━━━━━━━━━━━━━━\u001b[0m\u001b[37m\u001b[0m \u001b[1m26s\u001b[0m 16ms/step\n",
      "Done with steps_per_epoch = 100, epochs = 9, Accuracy = 0.48\n",
      "Epoch 1/9\n",
      "\u001b[1m250/250\u001b[0m \u001b[32m━━━━━━━━━━━━━━━━━━━━\u001b[0m\u001b[37m\u001b[0m \u001b[1m23s\u001b[0m 91ms/step - accuracy: 0.2157 - loss: 2.0932 - val_accuracy: 0.3855 - val_loss: 1.6708\n",
      "Epoch 2/9\n",
      "\u001b[1m250/250\u001b[0m \u001b[32m━━━━━━━━━━━━━━━━━━━━\u001b[0m\u001b[37m\u001b[0m \u001b[1m22s\u001b[0m 86ms/step - accuracy: 0.3725 - loss: 1.6878 - val_accuracy: 0.4536 - val_loss: 1.5011\n",
      "Epoch 3/9\n",
      "\u001b[1m250/250\u001b[0m \u001b[32m━━━━━━━━━━━━━━━━━━━━\u001b[0m\u001b[37m\u001b[0m \u001b[1m23s\u001b[0m 91ms/step - accuracy: 0.4406 - loss: 1.5288 - val_accuracy: 0.4860 - val_loss: 1.4371\n",
      "Epoch 4/9\n",
      "\u001b[1m250/250\u001b[0m \u001b[32m━━━━━━━━━━━━━━━━━━━━\u001b[0m\u001b[37m\u001b[0m \u001b[1m22s\u001b[0m 90ms/step - accuracy: 0.4725 - loss: 1.4533 - val_accuracy: 0.5271 - val_loss: 1.3339\n",
      "Epoch 5/9\n",
      "\u001b[1m 28/250\u001b[0m \u001b[32m━━\u001b[0m\u001b[37m━━━━━━━━━━━━━━━━━━\u001b[0m \u001b[1m12s\u001b[0m 58ms/step - accuracy: 0.5003 - loss: 1.3846"
     ]
    },
    {
     "name": "stderr",
     "output_type": "stream",
     "text": [
      "2024-05-01 11:10:40.654616: W tensorflow/core/framework/local_rendezvous.cc:404] Local rendezvous is aborting with status: OUT_OF_RANGE: End of sequence\n",
      "\t [[{{node IteratorGetNext}}]]\n",
      "/opt/anaconda3/lib/python3.11/contextlib.py:158: UserWarning: Your input ran out of data; interrupting training. Make sure that your dataset or generator can generate at least `steps_per_epoch * epochs` batches. You may need to use the `.repeat()` function when building your dataset.\n",
      "  self.gen.throw(typ, value, traceback)\n"
     ]
    },
    {
     "name": "stdout",
     "output_type": "stream",
     "text": [
      "\u001b[1m250/250\u001b[0m \u001b[32m━━━━━━━━━━━━━━━━━━━━\u001b[0m\u001b[37m\u001b[0m \u001b[1m8s\u001b[0m 34ms/step - accuracy: 0.4933 - loss: 1.4068 - val_accuracy: 0.5181 - val_loss: 1.3439\n",
      "Epoch 6/9\n",
      "\u001b[1m250/250\u001b[0m \u001b[32m━━━━━━━━━━━━━━━━━━━━\u001b[0m\u001b[37m\u001b[0m \u001b[1m23s\u001b[0m 91ms/step - accuracy: 0.5096 - loss: 1.3737 - val_accuracy: 0.5453 - val_loss: 1.2794\n",
      "Epoch 7/9\n",
      "\u001b[1m250/250\u001b[0m \u001b[32m━━━━━━━━━━━━━━━━━━━━\u001b[0m\u001b[37m\u001b[0m \u001b[1m22s\u001b[0m 87ms/step - accuracy: 0.5394 - loss: 1.2917 - val_accuracy: 0.5923 - val_loss: 1.1766\n",
      "Epoch 8/9\n",
      "\u001b[1m250/250\u001b[0m \u001b[32m━━━━━━━━━━━━━━━━━━━━\u001b[0m\u001b[37m\u001b[0m \u001b[1m22s\u001b[0m 90ms/step - accuracy: 0.5589 - loss: 1.2568 - val_accuracy: 0.6120 - val_loss: 1.1181\n",
      "Epoch 9/9\n",
      "\u001b[1m250/250\u001b[0m \u001b[32m━━━━━━━━━━━━━━━━━━━━\u001b[0m\u001b[37m\u001b[0m \u001b[1m22s\u001b[0m 89ms/step - accuracy: 0.5740 - loss: 1.2043 - val_accuracy: 0.6013 - val_loss: 1.1180\n",
      "\u001b[1m1598/1598\u001b[0m \u001b[32m━━━━━━━━━━━━━━━━━━━━\u001b[0m\u001b[37m\u001b[0m \u001b[1m27s\u001b[0m 17ms/step\n",
      "Done with steps_per_epoch = 250, epochs = 9, Accuracy = 0.63\n",
      "Epoch 1/9\n",
      "\u001b[1m500/500\u001b[0m \u001b[32m━━━━━━━━━━━━━━━━━━━━\u001b[0m\u001b[37m\u001b[0m \u001b[1m38s\u001b[0m 76ms/step - accuracy: 0.2433 - loss: 2.0261 - val_accuracy: 0.4384 - val_loss: 1.5487\n",
      "Epoch 2/9\n",
      "\u001b[1m500/500\u001b[0m \u001b[32m━━━━━━━━━━━━━━━━━━━━\u001b[0m\u001b[37m\u001b[0m \u001b[1m37s\u001b[0m 75ms/step - accuracy: 0.4308 - loss: 1.5587 - val_accuracy: 0.5007 - val_loss: 1.3764\n",
      "Epoch 3/9\n",
      "\u001b[1m 29/500\u001b[0m \u001b[32m━\u001b[0m\u001b[37m━━━━━━━━━━━━━━━━━━━\u001b[0m \u001b[1m24s\u001b[0m 53ms/step - accuracy: 0.4971 - loss: 1.3803"
     ]
    },
    {
     "name": "stderr",
     "output_type": "stream",
     "text": [
      "2024-05-01 11:14:02.025963: W tensorflow/core/framework/local_rendezvous.cc:404] Local rendezvous is aborting with status: OUT_OF_RANGE: End of sequence\n",
      "\t [[{{node IteratorGetNext}}]]\n",
      "/opt/anaconda3/lib/python3.11/contextlib.py:158: UserWarning: Your input ran out of data; interrupting training. Make sure that your dataset or generator can generate at least `steps_per_epoch * epochs` batches. You may need to use the `.repeat()` function when building your dataset.\n",
      "  self.gen.throw(typ, value, traceback)\n"
     ]
    },
    {
     "name": "stdout",
     "output_type": "stream",
     "text": [
      "\u001b[1m500/500\u001b[0m \u001b[32m━━━━━━━━━━━━━━━━━━━━\u001b[0m\u001b[37m\u001b[0m \u001b[1m9s\u001b[0m 17ms/step - accuracy: 0.4958 - loss: 1.3895 - val_accuracy: 0.5131 - val_loss: 1.3897\n",
      "Epoch 4/9\n",
      "\u001b[1m500/500\u001b[0m \u001b[32m━━━━━━━━━━━━━━━━━━━━\u001b[0m\u001b[37m\u001b[0m \u001b[1m37s\u001b[0m 74ms/step - accuracy: 0.5092 - loss: 1.3745 - val_accuracy: 0.5597 - val_loss: 1.2474\n",
      "Epoch 5/9\n",
      "\u001b[1m500/500\u001b[0m \u001b[32m━━━━━━━━━━━━━━━━━━━━\u001b[0m\u001b[37m\u001b[0m \u001b[1m38s\u001b[0m 75ms/step - accuracy: 0.5474 - loss: 1.2678 - val_accuracy: 0.6080 - val_loss: 1.1137\n",
      "Epoch 6/9\n",
      "\u001b[1m 28/500\u001b[0m \u001b[32m━\u001b[0m\u001b[37m━━━━━━━━━━━━━━━━━━━\u001b[0m \u001b[1m26s\u001b[0m 57ms/step - accuracy: 0.5836 - loss: 1.2037"
     ]
    },
    {
     "name": "stderr",
     "output_type": "stream",
     "text": [
      "2024-05-01 11:15:25.503318: W tensorflow/core/framework/local_rendezvous.cc:404] Local rendezvous is aborting with status: OUT_OF_RANGE: End of sequence\n",
      "\t [[{{node IteratorGetNext}}]]\n"
     ]
    },
    {
     "name": "stdout",
     "output_type": "stream",
     "text": [
      "\u001b[1m500/500\u001b[0m \u001b[32m━━━━━━━━━━━━━━━━━━━━\u001b[0m\u001b[37m\u001b[0m \u001b[1m9s\u001b[0m 17ms/step - accuracy: 0.5871 - loss: 1.1940 - val_accuracy: 0.6056 - val_loss: 1.1085\n",
      "Epoch 7/9\n",
      "\u001b[1m500/500\u001b[0m \u001b[32m━━━━━━━━━━━━━━━━━━━━\u001b[0m\u001b[37m\u001b[0m \u001b[1m36s\u001b[0m 72ms/step - accuracy: 0.5817 - loss: 1.1774 - val_accuracy: 0.6266 - val_loss: 1.0511\n",
      "Epoch 8/9\n",
      "\u001b[1m500/500\u001b[0m \u001b[32m━━━━━━━━━━━━━━━━━━━━\u001b[0m\u001b[37m\u001b[0m \u001b[1m36s\u001b[0m 72ms/step - accuracy: 0.6185 - loss: 1.0874 - val_accuracy: 0.6463 - val_loss: 1.0020\n",
      "Epoch 9/9\n",
      "\u001b[1m 29/500\u001b[0m \u001b[32m━\u001b[0m\u001b[37m━━━━━━━━━━━━━━━━━━━\u001b[0m \u001b[1m27s\u001b[0m 57ms/step - accuracy: 0.6399 - loss: 1.0175"
     ]
    },
    {
     "name": "stderr",
     "output_type": "stream",
     "text": [
      "2024-05-01 11:16:46.661374: W tensorflow/core/framework/local_rendezvous.cc:404] Local rendezvous is aborting with status: OUT_OF_RANGE: End of sequence\n",
      "\t [[{{node IteratorGetNext}}]]\n"
     ]
    },
    {
     "name": "stdout",
     "output_type": "stream",
     "text": [
      "\u001b[1m500/500\u001b[0m \u001b[32m━━━━━━━━━━━━━━━━━━━━\u001b[0m\u001b[37m\u001b[0m \u001b[1m8s\u001b[0m 17ms/step - accuracy: 0.6512 - loss: 1.0017 - val_accuracy: 0.6447 - val_loss: 1.0188\n",
      "\u001b[1m1598/1598\u001b[0m \u001b[32m━━━━━━━━━━━━━━━━━━━━\u001b[0m\u001b[37m\u001b[0m \u001b[1m27s\u001b[0m 17ms/step\n",
      "Done with steps_per_epoch = 500, epochs = 9, Accuracy = 0.68\n",
      "Epoch 1/10\n",
      "\u001b[1m5/5\u001b[0m \u001b[32m━━━━━━━━━━━━━━━━━━━━\u001b[0m\u001b[37m\u001b[0m \u001b[1m8s\u001b[0m 2s/step - accuracy: 0.1060 - loss: 2.3053 - val_accuracy: 0.0999 - val_loss: 2.3399\n",
      "Epoch 2/10\n",
      "\u001b[1m5/5\u001b[0m \u001b[32m━━━━━━━━━━━━━━━━━━━━\u001b[0m\u001b[37m\u001b[0m \u001b[1m7s\u001b[0m 2s/step - accuracy: 0.1562 - loss: 2.3081 - val_accuracy: 0.1322 - val_loss: 2.2998\n",
      "Epoch 3/10\n",
      "\u001b[1m5/5\u001b[0m \u001b[32m━━━━━━━━━━━━━━━━━━━━\u001b[0m\u001b[37m\u001b[0m \u001b[1m7s\u001b[0m 2s/step - accuracy: 0.2101 - loss: 2.2810 - val_accuracy: 0.0996 - val_loss: 2.2976\n",
      "Epoch 4/10\n",
      "\u001b[1m5/5\u001b[0m \u001b[32m━━━━━━━━━━━━━━━━━━━━\u001b[0m\u001b[37m\u001b[0m \u001b[1m7s\u001b[0m 2s/step - accuracy: 0.0858 - loss: 2.2815 - val_accuracy: 0.1525 - val_loss: 2.2936\n",
      "Epoch 5/10\n",
      "\u001b[1m5/5\u001b[0m \u001b[32m━━━━━━━━━━━━━━━━━━━━\u001b[0m\u001b[37m\u001b[0m \u001b[1m7s\u001b[0m 2s/step - accuracy: 0.1293 - loss: 2.2860 - val_accuracy: 0.1042 - val_loss: 2.2787\n",
      "Epoch 6/10\n",
      "\u001b[1m5/5\u001b[0m \u001b[32m━━━━━━━━━━━━━━━━━━━━\u001b[0m\u001b[37m\u001b[0m \u001b[1m7s\u001b[0m 2s/step - accuracy: 0.1702 - loss: 2.2763 - val_accuracy: 0.1514 - val_loss: 2.2605\n",
      "Epoch 7/10\n",
      "\u001b[1m5/5\u001b[0m \u001b[32m━━━━━━━━━━━━━━━━━━━━\u001b[0m\u001b[37m\u001b[0m \u001b[1m7s\u001b[0m 2s/step - accuracy: 0.1263 - loss: 2.2623 - val_accuracy: 0.1623 - val_loss: 2.2138\n",
      "Epoch 8/10\n",
      "\u001b[1m5/5\u001b[0m \u001b[32m━━━━━━━━━━━━━━━━━━━━\u001b[0m\u001b[37m\u001b[0m \u001b[1m7s\u001b[0m 2s/step - accuracy: 0.1787 - loss: 2.2292 - val_accuracy: 0.2271 - val_loss: 2.1554\n",
      "Epoch 9/10\n",
      "\u001b[1m5/5\u001b[0m \u001b[32m━━━━━━━━━━━━━━━━━━━━\u001b[0m\u001b[37m\u001b[0m \u001b[1m7s\u001b[0m 2s/step - accuracy: 0.2534 - loss: 2.1604 - val_accuracy: 0.2355 - val_loss: 2.0799\n",
      "Epoch 10/10\n",
      "\u001b[1m5/5\u001b[0m \u001b[32m━━━━━━━━━━━━━━━━━━━━\u001b[0m\u001b[37m\u001b[0m \u001b[1m7s\u001b[0m 2s/step - accuracy: 0.2859 - loss: 2.1164 - val_accuracy: 0.2349 - val_loss: 2.0425\n",
      "\u001b[1m1598/1598\u001b[0m \u001b[32m━━━━━━━━━━━━━━━━━━━━\u001b[0m\u001b[37m\u001b[0m \u001b[1m26s\u001b[0m 16ms/step\n",
      "Done with steps_per_epoch = 5, epochs = 10, Accuracy = 0.24\n"
     ]
    }
   ],
   "source": [
    "results = []\n",
    "\n",
    "for steps_per_epoch, epochs in combinations:\n",
    "    history = model.fit(\n",
    "        train_generator,\n",
    "        steps_per_epoch = steps_per_epoch,\n",
    "        epochs=epochs,\n",
    "        validation_data = validation_generator\n",
    "    )\n",
    "\n",
    "    # predictions\n",
    "    predictions_loop = model.predict(test_generator, steps=len(test_generator))\n",
    "    predicted_classes_loop = np.argmax(predictions_loop, axis=1)\n",
    "    \n",
    "    # accuracy\n",
    "    accuracy = accuracy_score(true_classes, predicted_classes_loop)\n",
    "\n",
    "    results.append((steps_per_epoch, epochs, accuracy))\n",
    "    print(f'Done with steps_per_epoch = {steps_per_epoch}, epochs = {epochs}, Accuracy = {accuracy:.2f}')"
   ]
  },
  {
   "cell_type": "markdown",
   "id": "5db68fb9-ed0f-4636-b5ad-c02bf87f8f7c",
   "metadata": {},
   "source": [
    "#### g) Create a final dataframe that combines the accuracy across each combination."
   ]
  },
  {
   "cell_type": "code",
   "execution_count": 68,
   "id": "3d45c3cf-1144-408c-acd0-c89199690b14",
   "metadata": {},
   "outputs": [],
   "source": [
    "import pandas as pd"
   ]
  },
  {
   "cell_type": "code",
   "execution_count": 69,
   "id": "70b3b6d5-362b-44de-b603-d21df1c72404",
   "metadata": {},
   "outputs": [
    {
     "name": "stdout",
     "output_type": "stream",
     "text": [
      "   Steps per Epoch  Epochs  Accuracy\n",
      "0              100       2  0.373115\n",
      "1              250       2  0.424886\n",
      "2              500       2  0.509007\n",
      "3              100       5  0.479121\n",
      "4              250       5  0.522404\n",
      "5              500       5  0.582937\n",
      "6              100       9  0.484070\n",
      "7              250       9  0.630445\n",
      "8              500       9  0.680455\n",
      "9                5      10  0.236735\n"
     ]
    }
   ],
   "source": [
    "df_results = pd.DataFrame(results, columns=['Steps per Epoch', 'Epochs', 'Accuracy'])\n",
    "print(df_results)"
   ]
  },
  {
   "cell_type": "markdown",
   "id": "9ebfb578-ce14-425d-993c-7b3d9d3b641f",
   "metadata": {},
   "source": [
    "### 4. Model Run with early stopping\n",
    "\n",
    "#### Train the model (with .fit()) without specifying steps_per_epoch and implementing early stopping callback with a patience = 3."
   ]
  },
  {
   "cell_type": "code",
   "execution_count": 64,
   "id": "31089d23-9fb8-4c56-bd9c-dd121eb695ac",
   "metadata": {},
   "outputs": [],
   "source": [
    "from tensorflow.keras.callbacks import EarlyStopping"
   ]
  },
  {
   "cell_type": "code",
   "execution_count": 65,
   "id": "8dc4da48-62b7-4c88-bcd5-fccab0e6ee17",
   "metadata": {},
   "outputs": [],
   "source": [
    "early_stopping = EarlyStopping(monitor='val_loss', patience=3)"
   ]
  },
  {
   "cell_type": "code",
   "execution_count": 71,
   "id": "040bd8ce-062a-437e-b342-2f96006edef8",
   "metadata": {},
   "outputs": [
    {
     "name": "stdout",
     "output_type": "stream",
     "text": [
      "Epoch 1/30\n",
      "\u001b[1m1029/1029\u001b[0m \u001b[32m━━━━━━━━━━━━━━━━━━━━\u001b[0m\u001b[37m\u001b[0m \u001b[1m54s\u001b[0m 52ms/step - accuracy: 0.7680 - loss: 0.6664 - val_accuracy: 0.7555 - val_loss: 0.7565\n",
      "Epoch 2/30\n",
      "\u001b[1m1029/1029\u001b[0m \u001b[32m━━━━━━━━━━━━━━━━━━━━\u001b[0m\u001b[37m\u001b[0m \u001b[1m56s\u001b[0m 54ms/step - accuracy: 0.7738 - loss: 0.6668 - val_accuracy: 0.7346 - val_loss: 0.8271\n",
      "Epoch 3/30\n",
      "\u001b[1m1029/1029\u001b[0m \u001b[32m━━━━━━━━━━━━━━━━━━━━\u001b[0m\u001b[37m\u001b[0m \u001b[1m60s\u001b[0m 58ms/step - accuracy: 0.7652 - loss: 0.6983 - val_accuracy: 0.7455 - val_loss: 0.7989\n",
      "Epoch 4/30\n",
      "\u001b[1m1029/1029\u001b[0m \u001b[32m━━━━━━━━━━━━━━━━━━━━\u001b[0m\u001b[37m\u001b[0m \u001b[1m60s\u001b[0m 58ms/step - accuracy: 0.7621 - loss: 0.7201 - val_accuracy: 0.7413 - val_loss: 0.8384\n"
     ]
    }
   ],
   "source": [
    "m3 = model.fit(\n",
    "    train_generator,\n",
    "    epochs=30,\n",
    "    validation_data = validation_generator,\n",
    "    callbacks=[early_stopping]\n",
    ")"
   ]
  },
  {
   "cell_type": "markdown",
   "id": "bfd504f1-d9ba-43e2-a604-e92fe94dceb2",
   "metadata": {},
   "source": [
    "#### Plot the training and validation loss curves."
   ]
  },
  {
   "cell_type": "code",
   "execution_count": 72,
   "id": "98d2fe57-7cd4-4d7c-9553-634d73e161f5",
   "metadata": {},
   "outputs": [
    {
     "data": {
      "image/png": "[encoded data removed]",
      "text/plain": [
       "<Figure size 640x480 with 1 Axes>"
      ]
     },
     "metadata": {},
     "output_type": "display_data"
    }
   ],
   "source": [
    "plt.plot(m3.history['loss'], label='Training Loss')\n",
    "plt.plot(m3.history['val_loss'], label='Validation Loss')\n",
    "plt.xlabel('Epochs')\n",
    "plt.ylabel('Loss')\n",
    "plt.title('Training and Validation Loss Curves')\n",
    "plt.legend()\n",
    "plt.show()"
   ]
  },
  {
   "cell_type": "markdown",
   "id": "b13e672c-1c78-4417-97de-3e05efc6340c",
   "metadata": {},
   "source": [
    "#### Predict using the early-stopped model and determine accuracy."
   ]
  },
  {
   "cell_type": "code",
   "execution_count": 73,
   "id": "9345e64f-59dd-40e4-a016-94512c7dff7a",
   "metadata": {},
   "outputs": [
    {
     "name": "stdout",
     "output_type": "stream",
     "text": [
      "\u001b[1m1598/1598\u001b[0m \u001b[32m━━━━━━━━━━━━━━━━━━━━\u001b[0m\u001b[37m\u001b[0m \u001b[1m20s\u001b[0m 13ms/step\n"
     ]
    }
   ],
   "source": [
    "y_pred = model.predict(test_generator, steps=len(test_generator))\n",
    "y_pred_classes = np.argmax(y_pred, axis=1)"
   ]
  },
  {
   "cell_type": "markdown",
   "id": "bf639b9e-5803-41a5-a088-fa0a3a5e2940",
   "metadata": {},
   "source": [
    "#### Out of all the runs, which model has the highest test data accuracy?"
   ]
  },
  {
   "cell_type": "code",
   "execution_count": 76,
   "id": "b51ea6b4-c4e1-4eb1-adaa-f8dc82aeb014",
   "metadata": {},
   "outputs": [
    {
     "name": "stdout",
     "output_type": "stream",
     "text": [
      "Accuracy: 0.7817676856578458\n"
     ]
    }
   ],
   "source": [
    "accuracy = accuracy_score(true_classes, y_pred_classes)\n",
    "print(\"Accuracy:\", accuracy)"
   ]
  },
  {
   "cell_type": "markdown",
   "id": "e8280aec-15e2-427d-a771-c7d08e1e7891",
   "metadata": {},
   "source": [
    "Of all the runs, the one with the best accuracy was the first model where epochs = 30 and steps_per_epoch = 625. It had an accuracy of 80.18%"
   ]
  },
  {
   "cell_type": "markdown",
   "id": "a90292f8-d2dc-46ab-a3a3-f5a7360ee01f",
   "metadata": {},
   "source": [
    "### Conceptual Questions: "
   ]
  },
  {
   "cell_type": "markdown",
   "id": "f182fa11-ce4e-4261-aaa5-150676658bd6",
   "metadata": {},
   "source": [
    "#### 5. Discuss the effect of the following on accuracy and loss (train & test): \n",
    "- Increasing the steps_per_epoch\n",
    "- Increasing the number of epochs\n",
    "\n",
    "Both increasing the steps_per_epoch and increasing the number of epochs allows you to train more samples, thus generalizing the data better and therefore have better training accuracy. However, if it overfits to the training data too much, then the testing accuracy will go down as we increase the steps_per_epoch. \n",
    "\n",
    "The effect on loss from increasing the steps_per_epoch is dependent on other factors like learning rate, but increasing the steps_per_epoch may lead to lower training loss because the model may converge faster.\n",
    "\n",
    "Generally, increasing the number of epochs decreases the training loss tends as the model learns. However, if overfitting occurs, training loss may continue to decrease while validation loss starts increasing."
   ]
  },
  {
   "cell_type": "markdown",
   "id": "3ae1d254-c679-4d5d-bdaf-ee608043e169",
   "metadata": {},
   "source": [
    "#### 6. Name two uses of zero padding in CNN.\n",
    "(1) To preserve spatial dimensions and (2) To improve feature extraction"
   ]
  },
  {
   "cell_type": "markdown",
   "id": "2c68213b-d30c-4e88-a873-5145344c857b",
   "metadata": {},
   "source": [
    "#### 7. What is the use of a 1 x 1 kernel in CNN? \n",
    "There are a several reasons for using a 1 x 1 kernel including to reduce dimensionality or introduce non-linearity if the data has more complex patterns."
   ]
  },
  {
   "cell_type": "markdown",
   "id": "873f71ba-2877-4a1b-ab7f-60a7e880469a",
   "metadata": {},
   "source": [
    "#### 8. What are the advantages of a CNN over a fully connected DNN for this image classification problem?\n",
    "One advantage is that CNN has fewer of parameters so it is faster to train, reduces the risk of overfitting and requires less training of the data. The second advantage is that CNN can generalize better than DNN since CNN can detech a particular feature once it has learned a kernel and it can then detect that feature anywhere in the image, whereas a DNN learns a feature in one location, it can detect it only in that particular location. Finally, CNNs embed prior knowledge of how the pixels are organized but DNNs do not. This provides an advantage when working with the images as the lower layers identify features in small areas of the images, and higher layers combine the lower-level features into larger features."
   ]
  },
  {
   "cell_type": "code",
   "execution_count": null,
   "id": "8e52860d-a44d-4e90-81b2-7c2808112945",
   "metadata": {},
   "outputs": [],
   "source": []
  }
 ],
 "metadata": {
  "kernelspec": {
   "display_name": "Python 3 (ipykernel)",
   "language": "python",
   "name": "python3"
  },
  "language_info": {
   "codemirror_mode": {
    "name": "ipython",
    "version": 3
   },
   "file_extension": ".py",
   "mimetype": "text/x-python",
   "name": "python",
   "nbconvert_exporter": "python",
   "pygments_lexer": "ipython3",
   "version": "3.11.7"
  }
 },
 "nbformat": 4,
 "nbformat_minor": 5
}

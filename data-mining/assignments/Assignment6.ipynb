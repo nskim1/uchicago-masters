{
 "cells": [
  {
   "cell_type": "markdown",
   "id": "9ab8e987-6c01-4747-8b6e-c0773efe0da4",
   "metadata": {},
   "source": [
    "# Assigment 6\n",
    "##### Alex Foster, Natalie Kim, Mathew Spencer, Danae Vassiliadis"
   ]
  },
  {
   "cell_type": "code",
   "execution_count": 43,
   "id": "bf7c4563-b48a-4b27-ac35-ed05d6035a36",
   "metadata": {},
   "outputs": [],
   "source": [
    "import pandas as pd\n",
    "import numpy as np\n",
    "import seaborn as sb\n",
    "import sklearn\n",
    "\n",
    "from sklearn.model_selection import train_test_split\n",
    "from sklearn.metrics import confusion_matrix\n",
    "from sklearn.metrics import classification_report\n",
    "from sklearn import metrics\n",
    "import matplotlib.pyplot as plt\n",
    "from sklearn.metrics import accuracy_score, precision_score, recall_score, f1_score\n",
    "from sklearn.discriminant_analysis import LinearDiscriminantAnalysis\n",
    "from sklearn.discriminant_analysis import QuadraticDiscriminantAnalysis\n",
    "from sklearn.preprocessing import scale\n",
    "from sklearn.preprocessing import StandardScaler\n",
    "import matplotlib.pyplot as plt\n",
    "from sklearn.neighbors import KNeighborsClassifier\n",
    "from sklearn.pipeline import Pipeline \n",
    "from sklearn.preprocessing import StandardScaler \n",
    "from sklearn.svm import LinearSVC\n",
    "from sklearn.naive_bayes import GaussianNB\n",
    "from sklearn.linear_model import LogisticRegression\n",
    "from sklearn.tree import DecisionTreeClassifier\n",
    "from sklearn.discriminant_analysis import LinearDiscriminantAnalysis\n",
    "from sklearn.discriminant_analysis import QuadraticDiscriminantAnalysis\n",
    "from sklearn.ensemble import VotingClassifier\n",
    "\n"
   ]
  },
  {
   "cell_type": "markdown",
   "id": "be852d96-c8a9-4f85-95fc-e365d5110bea",
   "metadata": {},
   "source": [
    "### Step 1\n",
    "Use training and test samples for Diabetes data set that you used for Logistic Regression analysis"
   ]
  },
  {
   "cell_type": "code",
   "execution_count": 2,
   "id": "5d637519-bc44-4549-ab54-03bca850986e",
   "metadata": {},
   "outputs": [],
   "source": [
    "data = pd.read_csv(r'/Users/xnxk040/Library/CloudStorage/OneDrive-W.WGrainger,inc/Desktop/data mining data/Diabetese Dataset Files/diabetes_data.csv')"
   ]
  },
  {
   "cell_type": "code",
   "execution_count": 11,
   "id": "c98946cd-a1cd-40f4-8fa3-ae09a38a504a",
   "metadata": {},
   "outputs": [],
   "source": [
    "np.random.seed(123)"
   ]
  },
  {
   "cell_type": "code",
   "execution_count": 3,
   "id": "258db864-413c-438d-834f-e8de76da3144",
   "metadata": {},
   "outputs": [
    {
     "data": {
      "text/html": [
       "<div>\n",
       "<style scoped>\n",
       "    .dataframe tbody tr th:only-of-type {\n",
       "        vertical-align: middle;\n",
       "    }\n",
       "\n",
       "    .dataframe tbody tr th {\n",
       "        vertical-align: top;\n",
       "    }\n",
       "\n",
       "    .dataframe thead th {\n",
       "        text-align: right;\n",
       "    }\n",
       "</style>\n",
       "<table border=\"1\" class=\"dataframe\">\n",
       "  <thead>\n",
       "    <tr style=\"text-align: right;\">\n",
       "      <th></th>\n",
       "      <th>MissingValueInPercentage</th>\n",
       "    </tr>\n",
       "  </thead>\n",
       "  <tbody>\n",
       "    <tr>\n",
       "      <th>race</th>\n",
       "      <td>0.0</td>\n",
       "    </tr>\n",
       "    <tr>\n",
       "      <th>gender</th>\n",
       "      <td>0.0</td>\n",
       "    </tr>\n",
       "    <tr>\n",
       "      <th>age</th>\n",
       "      <td>0.0</td>\n",
       "    </tr>\n",
       "    <tr>\n",
       "      <th>admission_type_id</th>\n",
       "      <td>0.0</td>\n",
       "    </tr>\n",
       "    <tr>\n",
       "      <th>discharge_disposition_id</th>\n",
       "      <td>0.0</td>\n",
       "    </tr>\n",
       "    <tr>\n",
       "      <th>time_in_hospital</th>\n",
       "      <td>0.0</td>\n",
       "    </tr>\n",
       "    <tr>\n",
       "      <th>num_lab_procedures</th>\n",
       "      <td>0.0</td>\n",
       "    </tr>\n",
       "    <tr>\n",
       "      <th>num_procedures</th>\n",
       "      <td>0.0</td>\n",
       "    </tr>\n",
       "    <tr>\n",
       "      <th>num_medications</th>\n",
       "      <td>0.0</td>\n",
       "    </tr>\n",
       "    <tr>\n",
       "      <th>number_outpatient</th>\n",
       "      <td>0.0</td>\n",
       "    </tr>\n",
       "    <tr>\n",
       "      <th>number_emergency</th>\n",
       "      <td>0.0</td>\n",
       "    </tr>\n",
       "    <tr>\n",
       "      <th>number_inpatient</th>\n",
       "      <td>0.0</td>\n",
       "    </tr>\n",
       "    <tr>\n",
       "      <th>diag_1</th>\n",
       "      <td>0.0</td>\n",
       "    </tr>\n",
       "    <tr>\n",
       "      <th>number_diagnoses</th>\n",
       "      <td>0.0</td>\n",
       "    </tr>\n",
       "    <tr>\n",
       "      <th>max_glu_serum</th>\n",
       "      <td>0.0</td>\n",
       "    </tr>\n",
       "    <tr>\n",
       "      <th>A1Cresult</th>\n",
       "      <td>0.0</td>\n",
       "    </tr>\n",
       "    <tr>\n",
       "      <th>metformin</th>\n",
       "      <td>0.0</td>\n",
       "    </tr>\n",
       "    <tr>\n",
       "      <th>repaglinide</th>\n",
       "      <td>0.0</td>\n",
       "    </tr>\n",
       "    <tr>\n",
       "      <th>nateglinide</th>\n",
       "      <td>0.0</td>\n",
       "    </tr>\n",
       "    <tr>\n",
       "      <th>chlorpropamide</th>\n",
       "      <td>0.0</td>\n",
       "    </tr>\n",
       "    <tr>\n",
       "      <th>glimepiride</th>\n",
       "      <td>0.0</td>\n",
       "    </tr>\n",
       "    <tr>\n",
       "      <th>acetohexamide</th>\n",
       "      <td>0.0</td>\n",
       "    </tr>\n",
       "    <tr>\n",
       "      <th>glipizide</th>\n",
       "      <td>0.0</td>\n",
       "    </tr>\n",
       "    <tr>\n",
       "      <th>glyburide</th>\n",
       "      <td>0.0</td>\n",
       "    </tr>\n",
       "    <tr>\n",
       "      <th>tolbutamide</th>\n",
       "      <td>0.0</td>\n",
       "    </tr>\n",
       "    <tr>\n",
       "      <th>pioglitazone</th>\n",
       "      <td>0.0</td>\n",
       "    </tr>\n",
       "    <tr>\n",
       "      <th>rosiglitazone</th>\n",
       "      <td>0.0</td>\n",
       "    </tr>\n",
       "    <tr>\n",
       "      <th>acarbose</th>\n",
       "      <td>0.0</td>\n",
       "    </tr>\n",
       "    <tr>\n",
       "      <th>miglitol</th>\n",
       "      <td>0.0</td>\n",
       "    </tr>\n",
       "    <tr>\n",
       "      <th>troglitazone</th>\n",
       "      <td>0.0</td>\n",
       "    </tr>\n",
       "    <tr>\n",
       "      <th>tolazamide</th>\n",
       "      <td>0.0</td>\n",
       "    </tr>\n",
       "    <tr>\n",
       "      <th>insulin</th>\n",
       "      <td>0.0</td>\n",
       "    </tr>\n",
       "    <tr>\n",
       "      <th>glyburide-metformin</th>\n",
       "      <td>0.0</td>\n",
       "    </tr>\n",
       "    <tr>\n",
       "      <th>glipizide-metformin</th>\n",
       "      <td>0.0</td>\n",
       "    </tr>\n",
       "    <tr>\n",
       "      <th>glimepiride-pioglitazone</th>\n",
       "      <td>0.0</td>\n",
       "    </tr>\n",
       "    <tr>\n",
       "      <th>metformin-pioglitazone</th>\n",
       "      <td>0.0</td>\n",
       "    </tr>\n",
       "    <tr>\n",
       "      <th>change</th>\n",
       "      <td>0.0</td>\n",
       "    </tr>\n",
       "    <tr>\n",
       "      <th>diabetesMed</th>\n",
       "      <td>0.0</td>\n",
       "    </tr>\n",
       "    <tr>\n",
       "      <th>readmitted</th>\n",
       "      <td>0.0</td>\n",
       "    </tr>\n",
       "  </tbody>\n",
       "</table>\n",
       "</div>"
      ],
      "text/plain": [
       "                          MissingValueInPercentage\n",
       "race                                           0.0\n",
       "gender                                         0.0\n",
       "age                                            0.0\n",
       "admission_type_id                              0.0\n",
       "discharge_disposition_id                       0.0\n",
       "time_in_hospital                               0.0\n",
       "num_lab_procedures                             0.0\n",
       "num_procedures                                 0.0\n",
       "num_medications                                0.0\n",
       "number_outpatient                              0.0\n",
       "number_emergency                               0.0\n",
       "number_inpatient                               0.0\n",
       "diag_1                                         0.0\n",
       "number_diagnoses                               0.0\n",
       "max_glu_serum                                  0.0\n",
       "A1Cresult                                      0.0\n",
       "metformin                                      0.0\n",
       "repaglinide                                    0.0\n",
       "nateglinide                                    0.0\n",
       "chlorpropamide                                 0.0\n",
       "glimepiride                                    0.0\n",
       "acetohexamide                                  0.0\n",
       "glipizide                                      0.0\n",
       "glyburide                                      0.0\n",
       "tolbutamide                                    0.0\n",
       "pioglitazone                                   0.0\n",
       "rosiglitazone                                  0.0\n",
       "acarbose                                       0.0\n",
       "miglitol                                       0.0\n",
       "troglitazone                                   0.0\n",
       "tolazamide                                     0.0\n",
       "insulin                                        0.0\n",
       "glyburide-metformin                            0.0\n",
       "glipizide-metformin                            0.0\n",
       "glimepiride-pioglitazone                       0.0\n",
       "metformin-pioglitazone                         0.0\n",
       "change                                         0.0\n",
       "diabetesMed                                    0.0\n",
       "readmitted                                     0.0"
      ]
     },
     "execution_count": 3,
     "metadata": {},
     "output_type": "execute_result"
    }
   ],
   "source": [
    "# function to collaps diag_1 column (which has 700-900 unique levels) into 9 disease categories\n",
    "def convert_diag_codes(code):\n",
    "#     print (code, type(code))\n",
    "    if (pd.isnull(code)):\n",
    "        return 'Other'\n",
    "    elif ('V' in code) or ('E' in code):\n",
    "        return 'Other'\n",
    "    else:\n",
    "        code = float(code)\n",
    "        if (code >= 390) and (code < 460) or (np.floor(code)==785):\n",
    "            return 'Circulatory'\n",
    "        elif (code >= 460) and (code < 520) or (np.floor(code)==786):\n",
    "            return 'Respiratory'\n",
    "        elif (code >= 520) and (code < 580) or (np.floor(code)==787):\n",
    "            return 'Digestive'\n",
    "        elif (code == 250):\n",
    "            return 'Diabetes'\n",
    "        elif (code >= 800) and (code < 1000):\n",
    "            return 'Injury'\n",
    "        elif (code >= 710) and (code < 740):\n",
    "            return 'Musculoskeletal'\n",
    "        elif (code >= 580) and (code < 630) or (np.floor(code)==788):\n",
    "            return 'Genitourinary'\n",
    "        elif (code >= 140) and (code < 240):\n",
    "            return 'Neoplasms'\n",
    "        else:\n",
    "            return 'Other'\n",
    "        \n",
    "# apply conversion function to the diag_1 column \n",
    "data['diag_1'] = data['diag_1'].apply(lambda x:convert_diag_codes(x))\n",
    "\n",
    "# convert the age column to numeric\n",
    "age_dict    = {\"[0-10)\":5, \"[10-20)\":15, \"[20-30)\":25, \"[30-40)\":35, \"[40-50)\":45, \"[50-60)\":55, \"[60-70)\":65, \"[70-80)\":75, \"[80-90)\":85, \"[90-100)\":95}\n",
    "data['age'] = data['age'].map(age_dict)\n",
    "data['age'] = data['age'].astype('int64')\n",
    "\n",
    "# convert 2-value categories into binary variable\n",
    "data['change']      = data['change'].replace('Ch', 1)\n",
    "data['change']      = data['change'].replace('No', 0)\n",
    "data['gender']      = data['gender'].replace('Male', 1)\n",
    "data['gender']      = data['gender'].replace('Female', 0)\n",
    "data['diabetesMed'] = data['diabetesMed'].replace('Yes', 1)\n",
    "data['diabetesMed'] = data['diabetesMed'].replace('No', 0)\n",
    "\n",
    "# merge categories to one/two level less - use domain knowledge\n",
    "data['A1Cresult']     = data['A1Cresult'].replace('>7', 'Abnormal')\n",
    "data['A1Cresult']     = data['A1Cresult'].replace('>8', 'Abnormal')\n",
    "data['A1Cresult']     = data['A1Cresult'].replace('Norm', 'Normal')\n",
    "data['A1Cresult']     = data['A1Cresult'].replace('None', 'Not tested')\n",
    "data['max_glu_serum'] = data['max_glu_serum'].replace('>200', 'Abnormal')\n",
    "data['max_glu_serum'] = data['max_glu_serum'].replace('>300', 'Abnormal')\n",
    "data['max_glu_serum'] = data['max_glu_serum'].replace('Norm', 'Normal')\n",
    "data['max_glu_serum'] = data['max_glu_serum'].replace('None', 'Not tested')\n",
    "\n",
    "# merge some categories together by studying other variables\n",
    "data['admission_type_id'] = data['admission_type_id'].replace(2,1)\n",
    "data['admission_type_id'] = data['admission_type_id'].replace(7,1)\n",
    "data['admission_type_id'] = data['admission_type_id'].replace(6,5)\n",
    "data['admission_type_id'] = data['admission_type_id'].replace(8,5)\n",
    "\n",
    "# some columns LOOK numerical but are not. convert them to string\n",
    "data['admission_type_id']        = data['admission_type_id'].map(str)\n",
    "data['discharge_disposition_id'] = data['discharge_disposition_id'].map(str)\n",
    "\n",
    "# remove duplicate patients\n",
    "data = data.drop_duplicates(subset= ['patient_nbr'], keep = 'first')\n",
    "\n",
    "# drop columns missing 40%+ of its values\n",
    "data = data.loc[:, (data.isnull().sum() / len(data)) * 100 <= 40]\n",
    "\n",
    "# drop diag_2 and diag_3 since they're superfluous (only need diag_1). drop obviously useless columns like IDs\n",
    "data.drop(['patient_nbr', 'diag_2', 'diag_3', 'encounter_id', 'admission_source_id'], axis = 1, inplace=True)  \n",
    "\n",
    "# check missing value\n",
    "def cal_missing_val(df):\n",
    "    data_dict = {}\n",
    "    for col in df.columns:\n",
    "        data_dict[col] = (df[col].isnull().sum()/df.shape[0])*100\n",
    "    return pd.DataFrame.from_dict(data_dict, orient='index', columns=['MissingValueInPercentage'])\n",
    "\n",
    "cal_missing_val(data)"
   ]
  },
  {
   "cell_type": "code",
   "execution_count": 4,
   "id": "ffba2ba6-372c-4950-8c90-98fb0916aecc",
   "metadata": {},
   "outputs": [
    {
     "name": "stdout",
     "output_type": "stream",
     "text": [
      "      gender\n",
      "0          0\n",
      "1          0\n",
      "2          1\n",
      "3          1\n",
      "4          1\n",
      "...      ...\n",
      "98041      0\n",
      "98042      0\n",
      "98043      0\n",
      "98045      0\n",
      "98052      1\n",
      "\n",
      "[68630 rows x 1 columns]\n",
      "before cleaning:\n",
      " 0                  36582\n",
      "1                  32047\n",
      "Unknown/Invalid        1\n",
      "Name: gender, dtype: int64\n",
      "after cleaning:\n",
      " 0    36582\n",
      "1    32047\n",
      "Name: gender, dtype: int64\n"
     ]
    }
   ],
   "source": [
    "# fill missing value for race column\n",
    "data['race'].replace(np.nan, 'Missing', inplace=True)\n",
    "\n",
    "# select categorical columns to get_dummies\n",
    "categorical_cols = ['race','admission_type_id','discharge_disposition_id','diag_1', 'max_glu_serum', 'A1Cresult', 'metformin', \n",
    "     'repaglinide', 'nateglinide', 'chlorpropamide', 'glimepiride', 'acetohexamide', 'glipizide', 'glyburide', 'tolbutamide', \n",
    "     'pioglitazone', 'rosiglitazone', 'acarbose', 'miglitol', 'troglitazone', 'tolazamide', 'insulin', 'glyburide-metformin', \n",
    "     'glipizide-metformin', 'glimepiride-pioglitazone', 'metformin-pioglitazone']\n",
    "\n",
    "# convert them to dummies\n",
    "data_dummies = pd.get_dummies(data[categorical_cols], drop_first=True)\n",
    "\n",
    "# 'readmitted' is our response variable. change it to binary\n",
    "readmit_dict = {'>30':1, '<30':1, 'NO':0}\n",
    "data['readmitted'] = data['readmitted'].map(readmit_dict)\n",
    "\n",
    "# merge dummies with numerical columns\n",
    "noncategorical_cols = [col for col in data.columns if col not in categorical_cols]\n",
    "\n",
    "df = pd.concat([data[noncategorical_cols], data_dummies], axis=1)\n",
    "\n",
    "\n",
    "# check for string columns \n",
    "string_columns = df.select_dtypes(include=['object'])  # 'object' is the default dtype for strings\n",
    "print(string_columns) # the gender column has string values\n",
    "\n",
    "print('before cleaning:\\n', df['gender'].value_counts()) # there's 1 row in the gender column with a value of 'Unknown/Invalid'\n",
    "df = df[df['gender'] != 'Unknown/Invalid'] # remove that row\n",
    "print('after cleaning:\\n', df['gender'].value_counts())"
   ]
  },
  {
   "cell_type": "code",
   "execution_count": 8,
   "id": "6d172641-d655-4335-b77c-2d84f2bb8361",
   "metadata": {},
   "outputs": [],
   "source": [
    "# split data between features & response\n",
    "X = df.drop('readmitted', axis=1) # features\n",
    "y = df['readmitted'] # target variable\n",
    "\n",
    "# scale features\n",
    "scaler = StandardScaler()\n",
    "X = scaler.fit_transform(X)\n",
    "\n",
    "# split data into train and test\n",
    "X_train_scaled, X_test_scaled, y_train, y_test = train_test_split(X, y, test_size=0.3, random_state = 123)"
   ]
  },
  {
   "cell_type": "markdown",
   "id": "273861ce-64cb-4384-b08b-e1584b146083",
   "metadata": {},
   "source": [
    "### Step 2\n",
    "Use train data set to build K-Nearest Neighbors, SVMs and Naive Bayes to predict the Readmitted Variable"
   ]
  },
  {
   "cell_type": "markdown",
   "id": "8d48df57-52ce-46d2-9ebb-0432aa48577f",
   "metadata": {},
   "source": [
    "#### K-Nearest Neighbors"
   ]
  },
  {
   "cell_type": "code",
   "execution_count": 13,
   "id": "e23770d5-3d86-4e28-a8b6-1b395ec980fe",
   "metadata": {},
   "outputs": [],
   "source": [
    "## determine optimal k\n",
    "# store accuracy and recall scores for different values of k\n",
    "accuracy_scores = []\n",
    "recall_scores = []\n",
    "\n",
    "# test different values of k\n",
    "for k in range(1, 6):\n",
    "    knn = KNeighborsClassifier(n_neighbors=k)\n",
    "    knn.fit(X_train_scaled, y_train)\n",
    "    y_pred = knn.predict(X_train_scaled) # knn predict function expects numpy array\n",
    "    accuracy = accuracy_score(y_train, y_pred)\n",
    "    accuracy_scores.append(accuracy)\n",
    "    recall = recall_score(y_train, y_pred)\n",
    "    recall_scores.append(recall)"
   ]
  },
  {
   "cell_type": "code",
   "execution_count": 14,
   "id": "3bcff335-079a-40ee-8812-ca24e7898534",
   "metadata": {},
   "outputs": [
    {
     "data": {
      "image/png": "[encoded data removed]",
      "text/plain": [
       "<Figure size 800x600 with 2 Axes>"
      ]
     },
     "metadata": {},
     "output_type": "display_data"
    }
   ],
   "source": [
    "fig, ax1 = plt.subplots(figsize=(8, 6))\n",
    "\n",
    "color = 'tab:red'\n",
    "ax1.set_xlabel('Number of Neighbors (k)')\n",
    "ax1.set_ylabel('Accuracy', color=color)\n",
    "ax1.plot(range(1, 6), accuracy_scores, marker='o', linestyle='-', color=color)\n",
    "ax1.tick_params(axis='y', labelcolor=color)\n",
    "\n",
    "ax2 = ax1.twinx()  # instantiate a second y-axis\n",
    "color = 'tab:blue'\n",
    "ax2.set_ylabel('Recall', color=color)\n",
    "ax2.plot(range(1, 6), recall_scores, marker='s', linestyle='-', color=color)\n",
    "ax2.tick_params(axis='y', labelcolor=color)\n",
    "\n",
    "fig.tight_layout()  # otherwise the right y-label is slightly clipped\n",
    "plt.title('Accuracy and Recall (Training Data) vs. Number of Neighbors (k)')\n",
    "plt.show()"
   ]
  },
  {
   "cell_type": "code",
   "execution_count": 16,
   "id": "cca5ac30-3fcb-455f-b212-b3895c20cc22",
   "metadata": {},
   "outputs": [],
   "source": [
    "k = 3\n",
    "knn = KNeighborsClassifier(n_neighbors=k)\n",
    "knn.fit(X_train_scaled, y_train)\n",
    "y_pred_train = knn.predict(X_train_scaled)\n",
    "y_pred_test = knn.predict(X_test_scaled)"
   ]
  },
  {
   "cell_type": "code",
   "execution_count": 28,
   "id": "6dc09107-d89f-45be-84bc-8155a041963f",
   "metadata": {},
   "outputs": [
    {
     "name": "stdout",
     "output_type": "stream",
     "text": [
      "Train Accuracy: 0.7787468776019983\n",
      "Train Precision: 0.7571924457257163\n",
      "Train Recall: 0.6643609333058021\n",
      "Train F1 Score: 0.7077456075228903\n",
      "\n",
      "\n",
      "Test Accuracy: 0.5725873039001409\n",
      "Test Precision: 0.4702313769751693\n",
      "Test Recall: 0.39782764382907615\n",
      "Test F1 Score: 0.4310099573257468\n"
     ]
    }
   ],
   "source": [
    "print(f\"KNN Train Accuracy: {accuracy_score(y_train, y_pred_train)}\")\n",
    "print(f\"KNN Train Precision: {precision_score(y_train, y_pred_train)}\")\n",
    "print(f\"KNN Train Recall: {recall_score(y_train, y_pred_train)}\")\n",
    "print(f\"KNN Train F1 Score: {f1_score(y_train, y_pred_train)}\")\n",
    "\n",
    "print(\"\\n\")\n",
    "\n",
    "print(f\"KNN Test Accuracy: {accuracy_score(y_test, y_pred_test)}\")\n",
    "print(f\"KNN Test Precision: {precision_score(y_test, y_pred_test)}\")\n",
    "print(f\"KNN Test Recall: {recall_score(y_test, y_pred_test)}\")\n",
    "print(f\"KNN Test F1 Score: {f1_score(y_test, y_pred_test)}\")"
   ]
  },
  {
   "cell_type": "code",
   "execution_count": 29,
   "id": "a175d286-fbf9-4280-864e-9447acb6900b",
   "metadata": {},
   "outputs": [],
   "source": [
    "cm_knn_train = confusion_matrix(y_train, y_pred_train)\n",
    "cm_knn_test = confusion_matrix(y_test, y_pred_test)"
   ]
  },
  {
   "cell_type": "markdown",
   "id": "440efdc3-6b87-41ab-b24a-076cef9c9fb9",
   "metadata": {},
   "source": [
    "#### SVMs"
   ]
  },
  {
   "cell_type": "code",
   "execution_count": 31,
   "id": "e56264df-0c5b-417d-9a2e-eff2d482acb4",
   "metadata": {},
   "outputs": [
    {
     "name": "stderr",
     "output_type": "stream",
     "text": [
      "/Users/xnxk040/opt/anaconda3/lib/python3.9/site-packages/sklearn/svm/_classes.py:32: FutureWarning: The default value of `dual` will change from `True` to `'auto'` in 1.5. Set the value of `dual` explicitly to suppress the warning.\n",
      "  warnings.warn(\n",
      "/Users/xnxk040/opt/anaconda3/lib/python3.9/site-packages/sklearn/svm/_base.py:1250: ConvergenceWarning: Liblinear failed to converge, increase the number of iterations.\n",
      "  warnings.warn(\n"
     ]
    }
   ],
   "source": [
    "svm = LinearSVC(C=1, loss='hinge')\n",
    "svm.fit(X_train_scaled, y_train)\n",
    "y_pred_train = svm.predict(X_train_scaled)\n",
    "y_pred_test = svm.predict(X_test_scaled)"
   ]
  },
  {
   "cell_type": "code",
   "execution_count": 33,
   "id": "225c113c-985d-42cd-9524-d43212ab4b4a",
   "metadata": {},
   "outputs": [
    {
     "name": "stdout",
     "output_type": "stream",
     "text": [
      "SVM Train Accuracy: 0.6189633638634471\n",
      "SVM Train Precision: 0.6357161027728313\n",
      "SVM Train Recall: 0.12900061945075367\n",
      "SVM Train F1 Score: 0.21447882246920996\n",
      "\n",
      "\n",
      "SVM Test Accuracy: 0.6144057506435475\n",
      "SVM Test Precision: 0.6324683162341581\n",
      "SVM Test Recall: 0.12508952017187874\n",
      "SVM Test F1 Score: 0.2088689586447434\n"
     ]
    }
   ],
   "source": [
    "print(f\"SVM Train Accuracy: {accuracy_score(y_train, y_pred_train)}\")\n",
    "print(f\"SVM Train Precision: {precision_score(y_train, y_pred_train)}\")\n",
    "print(f\"SVM Train Recall: {recall_score(y_train, y_pred_train)}\")\n",
    "print(f\"SVM Train F1 Score: {f1_score(y_train, y_pred_train)}\")\n",
    "\n",
    "print(\"\\n\")\n",
    "\n",
    "print(f\"SVM Test Accuracy: {accuracy_score(y_test, y_pred_test)}\")\n",
    "print(f\"SVM Test Precision: {precision_score(y_test, y_pred_test)}\")\n",
    "print(f\"SVM Test Recall: {recall_score(y_test, y_pred_test)}\")\n",
    "print(f\"SVM Test F1 Score: {f1_score(y_test, y_pred_test)}\")"
   ]
  },
  {
   "cell_type": "code",
   "execution_count": 32,
   "id": "9104cefb-d333-41a0-9db3-9efb10e469e4",
   "metadata": {},
   "outputs": [],
   "source": [
    "# create a confusion matrix to visualize performance\n",
    "cm_svm_train = confusion_matrix(y_train, y_pred_train)\n",
    "cm_svm_test = confusion_matrix(y_test, y_pred_test)"
   ]
  },
  {
   "cell_type": "markdown",
   "id": "e3c6d520-63bb-47de-8515-d21fbe7a126d",
   "metadata": {},
   "source": [
    "#### Naive Bayes"
   ]
  },
  {
   "cell_type": "code",
   "execution_count": 35,
   "id": "624e064b-5d8a-4dee-bf88-d26615418f9e",
   "metadata": {},
   "outputs": [],
   "source": [
    "gnb = GaussianNB()\n",
    "gnb.fit(X_train_scaled, y_train)\n",
    "y_pred_train = gnb.predict(X_train_scaled)\n",
    "y_pred_test = gnb.predict(X_test_scaled)"
   ]
  },
  {
   "cell_type": "code",
   "execution_count": 36,
   "id": "c3364073-5d18-4204-b831-cd12f7963412",
   "metadata": {},
   "outputs": [
    {
     "name": "stdout",
     "output_type": "stream",
     "text": [
      "Naive Bayes Train Accuracy: 0.44481681931723566\n",
      "Naive Bayes Train Precision: 0.4182111561820667\n",
      "Naive Bayes Train Recall: 0.9632975428453437\n",
      "Naive Bayes Train F1 Score: 0.5832200396918413\n",
      "\n",
      "\n",
      "Naive Bayes Test Accuracy: 0.44533488756131917\n",
      "Naive Bayes Test Precision: 0.42057441253263705\n",
      "Naive Bayes Test Recall: 0.9613272857483887\n",
      "Naive Bayes Test F1 Score: 0.5851496657948271\n"
     ]
    }
   ],
   "source": [
    "print(f\"Naive Bayes Train Accuracy: {accuracy_score(y_train, y_pred_train)}\")\n",
    "print(f\"Naive Bayes Train Precision: {precision_score(y_train, y_pred_train)}\")\n",
    "print(f\"Naive Bayes Train Recall: {recall_score(y_train, y_pred_train)}\")\n",
    "print(f\"Naive Bayes Train F1 Score: {f1_score(y_train, y_pred_train)}\")\n",
    "\n",
    "print(\"\\n\")\n",
    "\n",
    "print(f\"Naive Bayes Test Accuracy: {accuracy_score(y_test, y_pred_test)}\")\n",
    "print(f\"Naive Bayes Test Precision: {precision_score(y_test, y_pred_test)}\")\n",
    "print(f\"Naive Bayes Test Recall: {recall_score(y_test, y_pred_test)}\")\n",
    "print(f\"Naive Bayes Test F1 Score: {f1_score(y_test, y_pred_test)}\")"
   ]
  },
  {
   "cell_type": "code",
   "execution_count": 37,
   "id": "6cc35cfc-7583-452a-a34d-8754daedb71c",
   "metadata": {},
   "outputs": [],
   "source": [
    "cm_gnb_train = confusion_matrix(y_train, y_pred_train)\n",
    "cm_gnb_test = confusion_matrix(y_test, y_pred_test)"
   ]
  },
  {
   "cell_type": "markdown",
   "id": "d42c55aa-4a1e-4420-aea4-69cfefaa5b38",
   "metadata": {},
   "source": [
    "### Step 3\n",
    "Summarize performance of 3 separate models"
   ]
  },
  {
   "cell_type": "code",
   "execution_count": 38,
   "id": "9662ac32-7b75-43d6-a791-26a28aa58e7c",
   "metadata": {},
   "outputs": [
    {
     "name": "stdout",
     "output_type": "stream",
     "text": [
      "Confusion Matrix for KNN (train):\n",
      "[[24541  4127]\n",
      " [ 6502 12870]]\n",
      "----------------------------------\n",
      "Confusion Matrix for KNN (test):\n",
      "[[8456 3755]\n",
      " [5045 3333]]\n",
      "----------------------------------\n",
      "Confusion Matrix for Linear SVM (train):\n",
      "[[27236  1432]\n",
      " [16873  2499]]\n",
      "----------------------------------\n",
      "Confusion Matrix for Linear SVM (test):\n",
      "[[11602   609]\n",
      " [ 7330  1048]]\n",
      "----------------------------------\n",
      "Confusion Matrix for Gaussian Naive Bayes (train):\n",
      "[[ 2708 25960]\n",
      " [  711 18661]]\n",
      "----------------------------------\n",
      "Confusion Matrix for Gaussian Naive Bayes (test):\n",
      "[[ 1115 11096]\n",
      " [  324  8054]]\n"
     ]
    }
   ],
   "source": [
    "# display confusion matrices to evaluate model performance\n",
    "print('Confusion Matrix for KNN (train):')\n",
    "print(cm_knn_train)\n",
    "print('----------------------------------')\n",
    "print('Confusion Matrix for KNN (test):')\n",
    "print(cm_knn_test)\n",
    "print('----------------------------------')\n",
    "print('Confusion Matrix for Linear SVM (train):')\n",
    "print(cm_svm_train)\n",
    "print('----------------------------------')\n",
    "print('Confusion Matrix for Linear SVM (test):')\n",
    "print(cm_svm_test)\n",
    "print('----------------------------------')\n",
    "print('Confusion Matrix for Gaussian Naive Bayes (train):')\n",
    "print(cm_gnb_train)\n",
    "print('----------------------------------')\n",
    "print('Confusion Matrix for Gaussian Naive Bayes (test):')\n",
    "print(cm_gnb_test)"
   ]
  },
  {
   "cell_type": "markdown",
   "id": "be6f74d5-e137-4668-a617-2674f4afbde6",
   "metadata": {},
   "source": [
    "### Step 4\n",
    "Build another model called the \"Ensemble\" model across all 7 models that you have built thus far – Logistic, Classification Trees, LDA, QDA, KNN, SVM, and Naïve Bayes for predicting the \"Readmitted\" variable.\n",
    "\n",
    "The ensemble model simply takes the predictions of \"Readmitted\" for each observation from the 7 models that you already built. It then applies the \"Majority rule\". To illustrate, if the predictions from Logistic Regression, Classification Trees, LDA, QDA, KNN, SVM, and NB are Yes, Yes, Yes, No, Yes, No, No respectively for an observation, resulting in 4 predictions of Yes and 3 prediction of No, then the Ensemble model would yield a prediction of Yes, since majority of the models predict \"Yes\" (4 > 3). Predict all observations in Training and Test using the Ensemble model"
   ]
  },
  {
   "cell_type": "code",
   "execution_count": 41,
   "id": "52750c31-7da1-4926-83ce-785fcdb216a7",
   "metadata": {},
   "outputs": [],
   "source": [
    "# logistic regression model\n",
    "lr = LogisticRegression(max_iter = 1000)\n",
    "lr.fit(X_train_scaled, y_train)\n",
    "y_pred_train = lr.predict(X_train_scaled)\n",
    "y_pred_test = lr.predict(X_test_scaled)"
   ]
  },
  {
   "cell_type": "code",
   "execution_count": 42,
   "id": "747ebd7c-2f9b-4248-8391-872149603b73",
   "metadata": {},
   "outputs": [
    {
     "name": "stdout",
     "output_type": "stream",
     "text": [
      "logistic regression Train Accuracy: 0.6296835970024979\n",
      "logistic regression Train Precision: 0.5966756294304572\n",
      "logistic regression Train Recall: 0.25201321494941153\n",
      "logistic regression Train F1 Score: 0.3543587137983596\n",
      "\n",
      "\n",
      "logistic regression Test Accuracy: 0.6229054349409879\n",
      "logistic regression Test Precision: 0.5867231638418079\n",
      "logistic regression Test Recall: 0.2479111959894963\n",
      "logistic regression Test F1 Score: 0.3485484141634502\n"
     ]
    }
   ],
   "source": [
    "print(f\"logistic regression Train Accuracy: {accuracy_score(y_train, y_pred_train)}\")\n",
    "print(f\"logistic regression Train Precision: {precision_score(y_train, y_pred_train)}\")\n",
    "print(f\"logistic regression Train Recall: {recall_score(y_train, y_pred_train)}\")\n",
    "print(f\"logistic regression Train F1 Score: {f1_score(y_train, y_pred_train)}\")\n",
    "\n",
    "print(\"\\n\")\n",
    "\n",
    "print(f\"logistic regression Test Accuracy: {accuracy_score(y_test, y_pred_test)}\")\n",
    "print(f\"logistic regression Test Precision: {precision_score(y_test, y_pred_test)}\")\n",
    "print(f\"logistic regression Test Recall: {recall_score(y_test, y_pred_test)}\")\n",
    "print(f\"logistic regression Test F1 Score: {f1_score(y_test, y_pred_test)}\")"
   ]
  },
  {
   "cell_type": "code",
   "execution_count": 44,
   "id": "8a3d8a5a-d5d3-4202-8cfa-1b5ae9eef064",
   "metadata": {},
   "outputs": [],
   "source": [
    "# Classification Trees\n",
    "tree = DecisionTreeClassifier(max_depth=5)\n",
    "tree.fit(X_train_scaled, y_train)\n",
    "y_pred_train = tree.predict(X_train_scaled)\n",
    "y_pred_test = tree.predict(X_test_scaled)"
   ]
  },
  {
   "cell_type": "code",
   "execution_count": 45,
   "id": "4cb1403a-868b-4135-8798-70938f95b315",
   "metadata": {},
   "outputs": [
    {
     "name": "stdout",
     "output_type": "stream",
     "text": [
      "Classification Trees Train Accuracy: 0.6282264779350542\n",
      "Classification Trees Train Precision: 0.5864\n",
      "Classification Trees Train Recall: 0.26486681808796203\n",
      "Classification Trees Train F1 Score: 0.3649100348481616\n",
      "\n",
      "\n",
      "Classification Trees Test Accuracy: 0.6209140803341591\n",
      "Classification Trees Test Precision: 0.5754543060310772\n",
      "Classification Trees Test Recall: 0.2608021007400334\n",
      "Classification Trees Test F1 Score: 0.3589322381930185\n"
     ]
    }
   ],
   "source": [
    "print(f\"Classification Trees Train Accuracy: {accuracy_score(y_train, y_pred_train)}\")\n",
    "print(f\"Classification Trees Train Precision: {precision_score(y_train, y_pred_train)}\")\n",
    "print(f\"Classification Trees Train Recall: {recall_score(y_train, y_pred_train)}\")\n",
    "print(f\"Classification Trees Train F1 Score: {f1_score(y_train, y_pred_train)}\")\n",
    "\n",
    "print(\"\\n\")\n",
    "\n",
    "print(f\"Classification Trees Test Accuracy: {accuracy_score(y_test, y_pred_test)}\")\n",
    "print(f\"Classification Trees Test Precision: {precision_score(y_test, y_pred_test)}\")\n",
    "print(f\"Classification Trees Test Recall: {recall_score(y_test, y_pred_test)}\")\n",
    "print(f\"Classification Trees Test F1 Score: {f1_score(y_test, y_pred_test)}\")"
   ]
  },
  {
   "cell_type": "code",
   "execution_count": 48,
   "id": "f76d09fb-4112-457f-a097-721f2aaac29c",
   "metadata": {},
   "outputs": [],
   "source": [
    "# LDA\n",
    "lda = LinearDiscriminantAnalysis()\n",
    "lda.fit(X_train_scaled, y_train)\n",
    "y_pred_train = lda.predict(X_train_scaled)\n",
    "y_pred_test = lda.predict(X_test_scaled)"
   ]
  },
  {
   "cell_type": "code",
   "execution_count": 49,
   "id": "fcf74e64-75c9-47e6-9680-b301910006a1",
   "metadata": {},
   "outputs": [
    {
     "name": "stdout",
     "output_type": "stream",
     "text": [
      "LDA Train Accuracy: 0.5015403830141548\n",
      "LDA Train Precision: 0.44236681618870016\n",
      "LDA Train Recall: 0.9061532108197399\n",
      "LDA Train F1 Score: 0.5945067226606157\n",
      "\n",
      "\n",
      "LDA Test Accuracy: 0.504055563650493\n",
      "LDA Test Precision: 0.4461230968197049\n",
      "LDA Test Recall: 0.9058247791835761\n",
      "LDA Test F1 Score: 0.5978179526566624\n"
     ]
    }
   ],
   "source": [
    "print(f\"LDA Train Accuracy: {accuracy_score(y_train, y_pred_train)}\")\n",
    "print(f\"LDA Train Precision: {precision_score(y_train, y_pred_train)}\")\n",
    "print(f\"LDA Train Recall: {recall_score(y_train, y_pred_train)}\")\n",
    "print(f\"LDA Train F1 Score: {f1_score(y_train, y_pred_train)}\")\n",
    "\n",
    "print(\"\\n\")\n",
    "\n",
    "print(f\"LDA Test Accuracy: {accuracy_score(y_test, y_pred_test)}\")\n",
    "print(f\"LDA Test Precision: {precision_score(y_test, y_pred_test)}\")\n",
    "print(f\"LDA Test Recall: {recall_score(y_test, y_pred_test)}\")\n",
    "print(f\"LDA Test F1 Score: {f1_score(y_test, y_pred_test)}\")"
   ]
  },
  {
   "cell_type": "code",
   "execution_count": 54,
   "id": "a9fe7698-5761-4648-8438-3338da6661a5",
   "metadata": {},
   "outputs": [
    {
     "name": "stderr",
     "output_type": "stream",
     "text": [
      "/Users/xnxk040/opt/anaconda3/lib/python3.9/site-packages/sklearn/discriminant_analysis.py:935: UserWarning: Variables are collinear\n",
      "  warnings.warn(\"Variables are collinear\")\n"
     ]
    }
   ],
   "source": [
    "# cols causing collinearity\n",
    "cols_to_exclude = ['discharge_disposition_id_11','discharge_disposition_id_19','discharge_disposition_id_20',\n",
    "                      'discharge_disposition_id_27','chlorpropamide_Up','acetohexamide_Steady',\n",
    "                      'miglitol_No','miglitol_Up','glyburide-metformin_Up','metformin-pioglitazone_Steady']\n",
    "\n",
    "# QDA\n",
    "qda = QuadraticDiscriminantAnalysis()\n",
    "qda.fit(X_train_scaled, y_train)\n",
    "y_pred_train = qda.predict(X_train_scaled)\n",
    "y_pred_test = qda.predict(X_train_scaled)"
   ]
  },
  {
   "cell_type": "code",
   "execution_count": 55,
   "id": "0908cddb-0ff8-4ec5-b45c-42894e655301",
   "metadata": {},
   "outputs": [
    {
     "name": "stdout",
     "output_type": "stream",
     "text": [
      "QDA Train Accuracy: 0.43740632805995006\n",
      "QDA Train Precision: 0.4124081744742202\n",
      "QDA Train Recall: 0.9302601693165393\n",
      "QDA Train F1 Score: 0.5714693431004138\n",
      "\n",
      "\n"
     ]
    },
    {
     "ename": "ValueError",
     "evalue": "Found input variables with inconsistent numbers of samples: [20589, 48040]",
     "output_type": "error",
     "traceback": [
      "\u001b[0;31m---------------------------------------------------------------------------\u001b[0m",
      "\u001b[0;31mValueError\u001b[0m                                Traceback (most recent call last)",
      "\u001b[0;32m/var/folders/t6/n_h66qsx6rz5862xz5zck5sm0000gq/T/ipykernel_86446/1932704590.py\u001b[0m in \u001b[0;36m<module>\u001b[0;34m\u001b[0m\n\u001b[1;32m      6\u001b[0m \u001b[0mprint\u001b[0m\u001b[0;34m(\u001b[0m\u001b[0;34m\"\\n\"\u001b[0m\u001b[0;34m)\u001b[0m\u001b[0;34m\u001b[0m\u001b[0;34m\u001b[0m\u001b[0m\n\u001b[1;32m      7\u001b[0m \u001b[0;34m\u001b[0m\u001b[0m\n\u001b[0;32m----> 8\u001b[0;31m \u001b[0mprint\u001b[0m\u001b[0;34m(\u001b[0m\u001b[0;34mf\"QDA Test Accuracy: {accuracy_score(y_test, y_pred_test)}\"\u001b[0m\u001b[0;34m)\u001b[0m\u001b[0;34m\u001b[0m\u001b[0;34m\u001b[0m\u001b[0m\n\u001b[0m\u001b[1;32m      9\u001b[0m \u001b[0mprint\u001b[0m\u001b[0;34m(\u001b[0m\u001b[0;34mf\"QDA Test Precision: {precision_score(y_test, y_pred_test)}\"\u001b[0m\u001b[0;34m)\u001b[0m\u001b[0;34m\u001b[0m\u001b[0;34m\u001b[0m\u001b[0m\n\u001b[1;32m     10\u001b[0m \u001b[0mprint\u001b[0m\u001b[0;34m(\u001b[0m\u001b[0;34mf\"QDA Test Recall: {recall_score(y_test, y_pred_test)}\"\u001b[0m\u001b[0;34m)\u001b[0m\u001b[0;34m\u001b[0m\u001b[0;34m\u001b[0m\u001b[0m\n",
      "\u001b[0;32m~/opt/anaconda3/lib/python3.9/site-packages/sklearn/utils/_param_validation.py\u001b[0m in \u001b[0;36mwrapper\u001b[0;34m(*args, **kwargs)\u001b[0m\n\u001b[1;32m    212\u001b[0m                     )\n\u001b[1;32m    213\u001b[0m                 ):\n\u001b[0;32m--> 214\u001b[0;31m                     \u001b[0;32mreturn\u001b[0m \u001b[0mfunc\u001b[0m\u001b[0;34m(\u001b[0m\u001b[0;34m*\u001b[0m\u001b[0margs\u001b[0m\u001b[0;34m,\u001b[0m \u001b[0;34m**\u001b[0m\u001b[0mkwargs\u001b[0m\u001b[0;34m)\u001b[0m\u001b[0;34m\u001b[0m\u001b[0;34m\u001b[0m\u001b[0m\n\u001b[0m\u001b[1;32m    215\u001b[0m             \u001b[0;32mexcept\u001b[0m \u001b[0mInvalidParameterError\u001b[0m \u001b[0;32mas\u001b[0m \u001b[0me\u001b[0m\u001b[0;34m:\u001b[0m\u001b[0;34m\u001b[0m\u001b[0;34m\u001b[0m\u001b[0m\n\u001b[1;32m    216\u001b[0m                 \u001b[0;31m# When the function is just a wrapper around an estimator, we allow\u001b[0m\u001b[0;34m\u001b[0m\u001b[0;34m\u001b[0m\u001b[0m\n",
      "\u001b[0;32m~/opt/anaconda3/lib/python3.9/site-packages/sklearn/metrics/_classification.py\u001b[0m in \u001b[0;36maccuracy_score\u001b[0;34m(y_true, y_pred, normalize, sample_weight)\u001b[0m\n\u001b[1;32m    218\u001b[0m \u001b[0;34m\u001b[0m\u001b[0m\n\u001b[1;32m    219\u001b[0m     \u001b[0;31m# Compute accuracy for each possible representation\u001b[0m\u001b[0;34m\u001b[0m\u001b[0;34m\u001b[0m\u001b[0m\n\u001b[0;32m--> 220\u001b[0;31m     \u001b[0my_type\u001b[0m\u001b[0;34m,\u001b[0m \u001b[0my_true\u001b[0m\u001b[0;34m,\u001b[0m \u001b[0my_pred\u001b[0m \u001b[0;34m=\u001b[0m \u001b[0m_check_targets\u001b[0m\u001b[0;34m(\u001b[0m\u001b[0my_true\u001b[0m\u001b[0;34m,\u001b[0m \u001b[0my_pred\u001b[0m\u001b[0;34m)\u001b[0m\u001b[0;34m\u001b[0m\u001b[0;34m\u001b[0m\u001b[0m\n\u001b[0m\u001b[1;32m    221\u001b[0m     \u001b[0mcheck_consistent_length\u001b[0m\u001b[0;34m(\u001b[0m\u001b[0my_true\u001b[0m\u001b[0;34m,\u001b[0m \u001b[0my_pred\u001b[0m\u001b[0;34m,\u001b[0m \u001b[0msample_weight\u001b[0m\u001b[0;34m)\u001b[0m\u001b[0;34m\u001b[0m\u001b[0;34m\u001b[0m\u001b[0m\n\u001b[1;32m    222\u001b[0m     \u001b[0;32mif\u001b[0m \u001b[0my_type\u001b[0m\u001b[0;34m.\u001b[0m\u001b[0mstartswith\u001b[0m\u001b[0;34m(\u001b[0m\u001b[0;34m\"multilabel\"\u001b[0m\u001b[0;34m)\u001b[0m\u001b[0;34m:\u001b[0m\u001b[0;34m\u001b[0m\u001b[0;34m\u001b[0m\u001b[0m\n",
      "\u001b[0;32m~/opt/anaconda3/lib/python3.9/site-packages/sklearn/metrics/_classification.py\u001b[0m in \u001b[0;36m_check_targets\u001b[0;34m(y_true, y_pred)\u001b[0m\n\u001b[1;32m     82\u001b[0m     \u001b[0my_pred\u001b[0m \u001b[0;34m:\u001b[0m \u001b[0marray\u001b[0m \u001b[0;32mor\u001b[0m \u001b[0mindicator\u001b[0m \u001b[0mmatrix\u001b[0m\u001b[0;34m\u001b[0m\u001b[0;34m\u001b[0m\u001b[0m\n\u001b[1;32m     83\u001b[0m     \"\"\"\n\u001b[0;32m---> 84\u001b[0;31m     \u001b[0mcheck_consistent_length\u001b[0m\u001b[0;34m(\u001b[0m\u001b[0my_true\u001b[0m\u001b[0;34m,\u001b[0m \u001b[0my_pred\u001b[0m\u001b[0;34m)\u001b[0m\u001b[0;34m\u001b[0m\u001b[0;34m\u001b[0m\u001b[0m\n\u001b[0m\u001b[1;32m     85\u001b[0m     \u001b[0mtype_true\u001b[0m \u001b[0;34m=\u001b[0m \u001b[0mtype_of_target\u001b[0m\u001b[0;34m(\u001b[0m\u001b[0my_true\u001b[0m\u001b[0;34m,\u001b[0m \u001b[0minput_name\u001b[0m\u001b[0;34m=\u001b[0m\u001b[0;34m\"y_true\"\u001b[0m\u001b[0;34m)\u001b[0m\u001b[0;34m\u001b[0m\u001b[0;34m\u001b[0m\u001b[0m\n\u001b[1;32m     86\u001b[0m     \u001b[0mtype_pred\u001b[0m \u001b[0;34m=\u001b[0m \u001b[0mtype_of_target\u001b[0m\u001b[0;34m(\u001b[0m\u001b[0my_pred\u001b[0m\u001b[0;34m,\u001b[0m \u001b[0minput_name\u001b[0m\u001b[0;34m=\u001b[0m\u001b[0;34m\"y_pred\"\u001b[0m\u001b[0;34m)\u001b[0m\u001b[0;34m\u001b[0m\u001b[0;34m\u001b[0m\u001b[0m\n",
      "\u001b[0;32m~/opt/anaconda3/lib/python3.9/site-packages/sklearn/utils/validation.py\u001b[0m in \u001b[0;36mcheck_consistent_length\u001b[0;34m(*arrays)\u001b[0m\n\u001b[1;32m    405\u001b[0m     \u001b[0muniques\u001b[0m \u001b[0;34m=\u001b[0m \u001b[0mnp\u001b[0m\u001b[0;34m.\u001b[0m\u001b[0munique\u001b[0m\u001b[0;34m(\u001b[0m\u001b[0mlengths\u001b[0m\u001b[0;34m)\u001b[0m\u001b[0;34m\u001b[0m\u001b[0;34m\u001b[0m\u001b[0m\n\u001b[1;32m    406\u001b[0m     \u001b[0;32mif\u001b[0m \u001b[0mlen\u001b[0m\u001b[0;34m(\u001b[0m\u001b[0muniques\u001b[0m\u001b[0;34m)\u001b[0m \u001b[0;34m>\u001b[0m \u001b[0;36m1\u001b[0m\u001b[0;34m:\u001b[0m\u001b[0;34m\u001b[0m\u001b[0;34m\u001b[0m\u001b[0m\n\u001b[0;32m--> 407\u001b[0;31m         raise ValueError(\n\u001b[0m\u001b[1;32m    408\u001b[0m             \u001b[0;34m\"Found input variables with inconsistent numbers of samples: %r\"\u001b[0m\u001b[0;34m\u001b[0m\u001b[0;34m\u001b[0m\u001b[0m\n\u001b[1;32m    409\u001b[0m             \u001b[0;34m%\u001b[0m \u001b[0;34m[\u001b[0m\u001b[0mint\u001b[0m\u001b[0;34m(\u001b[0m\u001b[0ml\u001b[0m\u001b[0;34m)\u001b[0m \u001b[0;32mfor\u001b[0m \u001b[0ml\u001b[0m \u001b[0;32min\u001b[0m \u001b[0mlengths\u001b[0m\u001b[0;34m]\u001b[0m\u001b[0;34m\u001b[0m\u001b[0;34m\u001b[0m\u001b[0m\n",
      "\u001b[0;31mValueError\u001b[0m: Found input variables with inconsistent numbers of samples: [20589, 48040]"
     ]
    }
   ],
   "source": [
    "print(f\"QDA Train Accuracy: {accuracy_score(y_train, y_pred_train)}\")\n",
    "print(f\"QDA Train Precision: {precision_score(y_train, y_pred_train)}\")\n",
    "print(f\"QDA Train Recall: {recall_score(y_train, y_pred_train)}\")\n",
    "print(f\"QDA Train F1 Score: {f1_score(y_train, y_pred_train)}\")\n",
    "\n",
    "print(\"\\n\")\n",
    "\n",
    "print(f\"QDA Test Accuracy: {accuracy_score(y_test, y_pred_test)}\")\n",
    "print(f\"QDA Test Precision: {precision_score(y_test, y_pred_test)}\")\n",
    "print(f\"QDA Test Recall: {recall_score(y_test, y_pred_test)}\")\n",
    "print(f\"QDA Test F1 Score: {f1_score(y_test, y_pred_test)}\")"
   ]
  },
  {
   "cell_type": "markdown",
   "id": "c2c84c8a-323d-47ad-ad47-4753d9683fa2",
   "metadata": {},
   "source": [
    "### Step 5\n",
    "Summarize results - for both Training and Test. Which of the models yielded the best prediction overall, and which models yielded the best predictors of \"Yes\"? Do you like the Ensemble model? Did it predict as well as you expected it to predict?"
   ]
  },
  {
   "cell_type": "code",
   "execution_count": null,
   "id": "e890362c-b63e-4b99-baf3-2f9ebf57ebb0",
   "metadata": {},
   "outputs": [],
   "source": []
  },
  {
   "cell_type": "code",
   "execution_count": null,
   "id": "5cf802d7-75bc-493f-a948-b2d15c47b1d7",
   "metadata": {},
   "outputs": [],
   "source": []
  }
 ],
 "metadata": {
  "kernelspec": {
   "display_name": "Python 3 (ipykernel)",
   "language": "python",
   "name": "python3"
  },
  "language_info": {
   "codemirror_mode": {
    "name": "ipython",
    "version": 3
   },
   "file_extension": ".py",
   "mimetype": "text/x-python",
   "name": "python",
   "nbconvert_exporter": "python",
   "pygments_lexer": "ipython3",
   "version": "3.9.13"
  }
 },
 "nbformat": 4,
 "nbformat_minor": 5
}
